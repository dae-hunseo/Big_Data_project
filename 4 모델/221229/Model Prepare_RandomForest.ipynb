{
 "cells": [
  {
   "cell_type": "markdown",
   "id": "e7e378da",
   "metadata": {},
   "source": [
    "# 할 일\n",
    "- 하이퍼 파라미터 튜닝\n",
    "    - 각 모델 document 보면서 찾아보기\n",
    "- 임계점 변경\n",
    "    - 변경해보면서 최적값 찾기"
   ]
  },
  {
   "cell_type": "markdown",
   "id": "304de2a1",
   "metadata": {},
   "source": [
    "# 기본 준비"
   ]
  },
  {
   "cell_type": "code",
   "execution_count": 1,
   "id": "cdd43360",
   "metadata": {
    "ExecuteTime": {
     "end_time": "2022-12-29T04:31:30.107872Z",
     "start_time": "2022-12-29T04:31:25.511335Z"
    }
   },
   "outputs": [],
   "source": [
    "import pandas as pd\n",
    "import numpy as np\n",
    "import copy\n",
    "from tqdm.notebook import tqdm\n",
    "\n",
    "import matplotlib.pyplot as plt\n",
    "import matplotlib.ticker as ticker\n",
    "\n",
    "%matplotlib inline\n",
    "\n",
    "from sklearn.model_selection import train_test_split\n",
    "# from sklearn.model_selection import GridSearchCV\n",
    "from sklearn.metrics import accuracy_score, precision_score, recall_score, roc_auc_score\n",
    "from sklearn.metrics import f1_score, confusion_matrix, precision_recall_curve, roc_curve\n",
    "from sklearn.preprocessing import Binarizer\n",
    "# from sklearn.preprocessing import StandardScaler, MinMaxScaler\n",
    "from imblearn.over_sampling import SMOTE"
   ]
  },
  {
   "cell_type": "code",
   "execution_count": 2,
   "id": "587481fe",
   "metadata": {
    "ExecuteTime": {
     "end_time": "2022-12-28T11:49:09.288504Z",
     "start_time": "2022-12-28T11:49:09.269555Z"
    }
   },
   "outputs": [],
   "source": [
    "from sklearn.tree import DecisionTreeClassifier\n",
    "from sklearn.linear_model import SGDClassifier\n",
    "from sklearn.svm import SVC"
   ]
  },
  {
   "cell_type": "code",
   "execution_count": 2,
   "id": "8d1c6234",
   "metadata": {
    "ExecuteTime": {
     "end_time": "2022-12-29T04:31:30.152751Z",
     "start_time": "2022-12-29T04:31:30.141742Z"
    }
   },
   "outputs": [],
   "source": [
    "pd.set_option(\"display.max_colwidth\", None)\n",
    "pd.set_option(\"display.max_rows\", None)"
   ]
  },
  {
   "cell_type": "code",
   "execution_count": 3,
   "id": "f5118ab9",
   "metadata": {
    "ExecuteTime": {
     "end_time": "2022-12-29T04:31:30.213280Z",
     "start_time": "2022-12-29T04:31:30.199367Z"
    },
    "code_folding": []
   },
   "outputs": [],
   "source": [
    "# 오차행렬 및 평가지표 출력\n",
    "def get_clf_eval(y_test, pred=None, pred_proba=None):\n",
    "    confusion = confusion_matrix(y_test, pred)\n",
    "    accuracy = accuracy_score(y_test, pred)\n",
    "    precision = precision_score(y_test, pred)\n",
    "    recall = recall_score(y_test, pred)\n",
    "    f1 = f1_score(y_test, pred)\n",
    "    roc_auc = 0\n",
    "    \n",
    "    if pred_proba is not None:\n",
    "        roc_auc = roc_auc_score(y_test, pred_proba)\n",
    "    \n",
    "    print('오차 행렬')\n",
    "    print(confusion)\n",
    "\n",
    "    print('정확도: {0:.4f}, 정밀도: {1:.4f}, 재현율: {2:.4f}, F1: {3:.4f}, AUC:{4:.4f}'.format(accuracy, precision, recall, f1, roc_auc))\n",
    "\n",
    "\n",
    "# 임계값 조정하여 오차행렬 및 평가지표 출력\n",
    "def get_eval_by_threshold(y_test, pred, pred_proba_c1, thresholds):\n",
    "    pred_proba_c1 = pred_proba_c1.reshape(-1, 1)\n",
    "    for custom_threshold in thresholds:\n",
    "        binar = Binarizer(threshold=custom_threshold).fit(pred_proba_c1)\n",
    "        custom_predict = binar.transform(pred_proba_c1)\n",
    "        print(\"분류 임계값:\", custom_threshold)\n",
    "        get_clf_eval(y_test, custom_predict, pred_proba_c1)\n",
    "    \n",
    "\n",
    "# 임계값별로 precison_recall_curve 그리기\n",
    "def precision_recall_curve_plot(y_test, pred_proba_c1): \n",
    "    precisions, recalls, thresholds = precision_recall_curve(y_test, pred_proba_c1)\n",
    "    \n",
    "    plt.figure(figsize=(8,6))\n",
    "    threshold_boundary = thresholds.shape[0]\n",
    "\n",
    "    plt.plot(thresholds, precisions[0:threshold_boundary], linestyle='--', label='precision') \n",
    "    plt.plot(thresholds, recalls[0:threshold_boundary],label='recall')\n",
    "\n",
    "    start, end = plt.xlim()\n",
    "    plt.xticks(np.round(np.arange(start, end, 0.1),2))\n",
    "    \n",
    "    plt.xlabel('Threshold value'); plt.ylabel('Precision and Recall value')\n",
    "    plt.legend(); plt.grid()\n",
    "    plt.show()"
   ]
  },
  {
   "cell_type": "code",
   "execution_count": 4,
   "id": "9675239b",
   "metadata": {
    "ExecuteTime": {
     "end_time": "2022-12-29T04:31:30.258158Z",
     "start_time": "2022-12-29T04:31:30.247189Z"
    }
   },
   "outputs": [],
   "source": [
    "def make_eval_df(model):\n",
    "    model.fit(X_train, y_train)\n",
    "    \n",
    "    pred = model.predict(X_test)\n",
    "    confusion = str(confusion_matrix(y_test, pred)).replace(\"\\n\", \"\").replace(\"[ \", \"[\")\n",
    "    accuracy = accuracy_score(y_test, pred)\n",
    "    precision = precision_score(y_test, pred)\n",
    "    recall = recall_score(y_test, pred)\n",
    "    f1 = f1_score(y_test, pred)\n",
    "\n",
    "    try:\n",
    "        pred_proba = model.predict_proba(X_test)[:, 1]\n",
    "        roc_auc = roc_auc_score(y_test, pred_proba)\n",
    "    except:\n",
    "        roc_auc = 0\n",
    "    \n",
    "    return pd.DataFrame([{\"model\": str(model).replace(\"\\n\", \"\"), \n",
    "                          \"params\": str(model.get_params()),\n",
    "                          \"confusion\": confusion,\n",
    "                          \"accuracy\": accuracy,\n",
    "                          \"precision\": precision,\n",
    "                          \"recall\": recall,\n",
    "                          \"f1\": f1,\n",
    "                          \"roc_auc\": roc_auc}])\n",
    "\n",
    "col_list = [\"model\", \"params\", \"confusion\", \"accuracy\", \"precision\", \"recall\", \"f1\", \"roc_auc\"]"
   ]
  },
  {
   "cell_type": "markdown",
   "id": "618c091f",
   "metadata": {},
   "source": [
    "## 데이터 준비"
   ]
  },
  {
   "cell_type": "code",
   "execution_count": 6,
   "id": "5a317ec9",
   "metadata": {
    "ExecuteTime": {
     "end_time": "2022-12-27T07:26:38.374478Z",
     "start_time": "2022-12-27T07:26:38.365503Z"
    }
   },
   "outputs": [],
   "source": [
    "# colab\n",
    "data_path = \"/content/drive/MyDrive/multicampus/data/\" \n",
    "save_path = \"/content/drive/MyDrive/multicampus/data/\""
   ]
  },
  {
   "cell_type": "code",
   "execution_count": 5,
   "id": "30e886c6",
   "metadata": {
    "ExecuteTime": {
     "end_time": "2022-12-29T04:31:32.817939Z",
     "start_time": "2022-12-29T04:31:32.807976Z"
    }
   },
   "outputs": [],
   "source": [
    "# jupyter\n",
    "data_path = \"../data/\"\n",
    "save_path = \"./\""
   ]
  },
  {
   "cell_type": "code",
   "execution_count": 6,
   "id": "217b5fec",
   "metadata": {
    "ExecuteTime": {
     "end_time": "2022-12-29T04:31:33.815096Z",
     "start_time": "2022-12-29T04:31:33.806120Z"
    }
   },
   "outputs": [],
   "source": [
    "def prepare_data_smote():\n",
    "    brfss = pd.read_csv(data_path + \"brfss.csv\")\n",
    "    X = brfss.drop([\"HEARTDISEASE\", \"ALCOHOL\"], axis=1)\n",
    "    y = brfss[\"HEARTDISEASE\"]\n",
    "\n",
    "    X_train, X_test, y_train, y_test = train_test_split(X, y, test_size=.2)\n",
    "\n",
    "    smote = SMOTE()\n",
    "    X_train, y_train = smote.fit_resample(X_train, y_train)\n",
    "    print(y_train.value_counts())\n",
    "    print(y_test.value_counts())\n",
    "    \n",
    "    return X_train, X_test, y_train, y_test"
   ]
  },
  {
   "cell_type": "markdown",
   "id": "1fd096ee",
   "metadata": {},
   "source": [
    "## RandomForest "
   ]
  },
  {
   "cell_type": "markdown",
   "id": "265a325f",
   "metadata": {},
   "source": [
    "### 모델링\n",
    "- 하이퍼 파라미터\n",
    "    - **criterion**\n",
    "        - \"gini\", \"entropy\", \"log_loss\"\n",
    "    - **max_depth**\n",
    "        - 5, 10, 20\n",
    "    - **max_features**\n",
    "        - \"sqrt\", \"log2\", None\n",
    "    - **min_impurity_decrease**\n",
    "        - .0, .001, .00001\n",
    "    - **n_estimators**\n",
    "        - 50, 100, 150\n",
    "\n",
    "---\n",
    "\n",
    "- 선택한 모델\n",
    "    1. ```RandomForestClassifier(criterion=\"gini\",     max_depth=5, max_features=None,   min_impurity_decrease=0.0,     n_estimators=100)```\n",
    "    2. ```RandomForestClassifier(criterion=\"entropy\",  max_depth=5, max_features=None,   min_impurity_decrease=0.0,     n_estimators=150)```\n",
    "    3. ```RandomForestClassifier(criterion=\"gini\",     max_depth=5, max_features=\"sqrt\", min_impurity_decrease=0.0,     n_estimators=100)```\n",
    "    4. ```RandomForestClassifier(criterion=\"gini\",     max_depth=5, max_features=\"sqrt\", min_impurity_decrease=0.00001, n_estimators=50)```\n",
    "    5. ```RandomForestClassifier(criterion=\"log_loss\", max_depth=5, max_features=\"sqrt\", min_impurity_decrease=0.0,     n_estimators=100)```\n",
    "    6. ```RandomForestClassifier(criterion=\"log_loss\", max_depth=5, max_features=\"sqrt\", min_impurity_decrease=0.0,     n_estimators=50)```\n",
    "- 선택한 기준\n",
    "    - ```precision >.123``` and ```roc_auc > .771```"
   ]
  },
  {
   "cell_type": "code",
   "execution_count": 14,
   "id": "27249739",
   "metadata": {
    "ExecuteTime": {
     "end_time": "2022-12-29T13:28:21.071649Z",
     "start_time": "2022-12-29T12:05:32.499073Z"
    },
    "scrolled": true
   },
   "outputs": [
    {
     "name": "stdout",
     "output_type": "stream",
     "text": [
      "0.0    286764\n",
      "1.0    286764\n",
      "Name: HEARTDISEASE, dtype: int64\n",
      "0.0    71660\n",
      "1.0     4070\n",
      "Name: HEARTDISEASE, dtype: int64\n"
     ]
    },
    {
     "data": {
      "application/vnd.jupyter.widget-view+json": {
       "model_id": "7f5b600c61cf4e828ef06ff6864f730e",
       "version_major": 2,
       "version_minor": 0
      },
      "text/plain": [
       "n_estimators:   0%|          | 0/3 [00:00<?, ?it/s]"
      ]
     },
     "metadata": {},
     "output_type": "display_data"
    },
    {
     "data": {
      "application/vnd.jupyter.widget-view+json": {
       "model_id": "4af3c369ce1d4caa907ea7c9c958d30e",
       "version_major": 2,
       "version_minor": 0
      },
      "text/plain": [
       "criterion:   0%|          | 0/3 [00:00<?, ?it/s]"
      ]
     },
     "metadata": {},
     "output_type": "display_data"
    },
    {
     "data": {
      "application/vnd.jupyter.widget-view+json": {
       "model_id": "df8cc992f18742b1b4f74ece57ad1586",
       "version_major": 2,
       "version_minor": 0
      },
      "text/plain": [
       "max_features:   0%|          | 0/3 [00:00<?, ?it/s]"
      ]
     },
     "metadata": {},
     "output_type": "display_data"
    },
    {
     "data": {
      "application/vnd.jupyter.widget-view+json": {
       "model_id": "88c49db93fef4aed8be85f6ef47a3fd4",
       "version_major": 2,
       "version_minor": 0
      },
      "text/plain": [
       "max_depth:   0%|          | 0/3 [00:00<?, ?it/s]"
      ]
     },
     "metadata": {},
     "output_type": "display_data"
    },
    {
     "data": {
      "application/vnd.jupyter.widget-view+json": {
       "model_id": "edc4935c7632486ea99b4fcbf864f896",
       "version_major": 2,
       "version_minor": 0
      },
      "text/plain": [
       "min_impurity_decrease:   0%|          | 0/3 [00:00<?, ?it/s]"
      ]
     },
     "metadata": {},
     "output_type": "display_data"
    },
    {
     "data": {
      "application/vnd.jupyter.widget-view+json": {
       "model_id": "dbd25f5ed845438a9dfdc4b253cdfb5a",
       "version_major": 2,
       "version_minor": 0
      },
      "text/plain": [
       "min_impurity_decrease:   0%|          | 0/3 [00:00<?, ?it/s]"
      ]
     },
     "metadata": {},
     "output_type": "display_data"
    },
    {
     "data": {
      "application/vnd.jupyter.widget-view+json": {
       "model_id": "e87c51b92dbc4af1ba7f8992f5e73eea",
       "version_major": 2,
       "version_minor": 0
      },
      "text/plain": [
       "min_impurity_decrease:   0%|          | 0/3 [00:00<?, ?it/s]"
      ]
     },
     "metadata": {},
     "output_type": "display_data"
    },
    {
     "data": {
      "application/vnd.jupyter.widget-view+json": {
       "model_id": "62a4bcfd69ff4ef5bc14f5a545c7914f",
       "version_major": 2,
       "version_minor": 0
      },
      "text/plain": [
       "max_depth:   0%|          | 0/3 [00:00<?, ?it/s]"
      ]
     },
     "metadata": {},
     "output_type": "display_data"
    },
    {
     "data": {
      "application/vnd.jupyter.widget-view+json": {
       "model_id": "264cfa85d86442f982953288bce604f9",
       "version_major": 2,
       "version_minor": 0
      },
      "text/plain": [
       "min_impurity_decrease:   0%|          | 0/3 [00:00<?, ?it/s]"
      ]
     },
     "metadata": {},
     "output_type": "display_data"
    },
    {
     "data": {
      "application/vnd.jupyter.widget-view+json": {
       "model_id": "e8e9b997bbb341bfabaa4c08bbcc77a8",
       "version_major": 2,
       "version_minor": 0
      },
      "text/plain": [
       "min_impurity_decrease:   0%|          | 0/3 [00:00<?, ?it/s]"
      ]
     },
     "metadata": {},
     "output_type": "display_data"
    },
    {
     "data": {
      "application/vnd.jupyter.widget-view+json": {
       "model_id": "3ad5092276ae486aaac9f5a9c8e0c786",
       "version_major": 2,
       "version_minor": 0
      },
      "text/plain": [
       "min_impurity_decrease:   0%|          | 0/3 [00:00<?, ?it/s]"
      ]
     },
     "metadata": {},
     "output_type": "display_data"
    },
    {
     "data": {
      "application/vnd.jupyter.widget-view+json": {
       "model_id": "d38ac5c77ea347cdb96ad6e49fac5c8c",
       "version_major": 2,
       "version_minor": 0
      },
      "text/plain": [
       "max_depth:   0%|          | 0/3 [00:00<?, ?it/s]"
      ]
     },
     "metadata": {},
     "output_type": "display_data"
    },
    {
     "data": {
      "application/vnd.jupyter.widget-view+json": {
       "model_id": "03bc242fc0aa4abd91b7110cb4e4d24b",
       "version_major": 2,
       "version_minor": 0
      },
      "text/plain": [
       "min_impurity_decrease:   0%|          | 0/3 [00:00<?, ?it/s]"
      ]
     },
     "metadata": {},
     "output_type": "display_data"
    },
    {
     "data": {
      "application/vnd.jupyter.widget-view+json": {
       "model_id": "6fce755a7d2d4562a97f0fe83ded396f",
       "version_major": 2,
       "version_minor": 0
      },
      "text/plain": [
       "min_impurity_decrease:   0%|          | 0/3 [00:00<?, ?it/s]"
      ]
     },
     "metadata": {},
     "output_type": "display_data"
    },
    {
     "data": {
      "application/vnd.jupyter.widget-view+json": {
       "model_id": "7a97eab3ea7c41829d7c6657cf9289d1",
       "version_major": 2,
       "version_minor": 0
      },
      "text/plain": [
       "min_impurity_decrease:   0%|          | 0/3 [00:00<?, ?it/s]"
      ]
     },
     "metadata": {},
     "output_type": "display_data"
    },
    {
     "data": {
      "application/vnd.jupyter.widget-view+json": {
       "model_id": "db1fabcdc44e4c8f86caf90d7fa2ac9f",
       "version_major": 2,
       "version_minor": 0
      },
      "text/plain": [
       "max_features:   0%|          | 0/3 [00:00<?, ?it/s]"
      ]
     },
     "metadata": {},
     "output_type": "display_data"
    },
    {
     "data": {
      "application/vnd.jupyter.widget-view+json": {
       "model_id": "619830a409db4ab1935e48175a1f2cf0",
       "version_major": 2,
       "version_minor": 0
      },
      "text/plain": [
       "max_depth:   0%|          | 0/3 [00:00<?, ?it/s]"
      ]
     },
     "metadata": {},
     "output_type": "display_data"
    },
    {
     "data": {
      "application/vnd.jupyter.widget-view+json": {
       "model_id": "5785eb140e304616989a83dadeddee8a",
       "version_major": 2,
       "version_minor": 0
      },
      "text/plain": [
       "min_impurity_decrease:   0%|          | 0/3 [00:00<?, ?it/s]"
      ]
     },
     "metadata": {},
     "output_type": "display_data"
    },
    {
     "data": {
      "application/vnd.jupyter.widget-view+json": {
       "model_id": "3b5ae36b56b44294856485862cda9571",
       "version_major": 2,
       "version_minor": 0
      },
      "text/plain": [
       "min_impurity_decrease:   0%|          | 0/3 [00:00<?, ?it/s]"
      ]
     },
     "metadata": {},
     "output_type": "display_data"
    },
    {
     "data": {
      "application/vnd.jupyter.widget-view+json": {
       "model_id": "7f8a105627204c06818306dbec9ca744",
       "version_major": 2,
       "version_minor": 0
      },
      "text/plain": [
       "min_impurity_decrease:   0%|          | 0/3 [00:00<?, ?it/s]"
      ]
     },
     "metadata": {},
     "output_type": "display_data"
    },
    {
     "data": {
      "application/vnd.jupyter.widget-view+json": {
       "model_id": "d57bbf5282e34c508534fe816dfb0048",
       "version_major": 2,
       "version_minor": 0
      },
      "text/plain": [
       "max_depth:   0%|          | 0/3 [00:00<?, ?it/s]"
      ]
     },
     "metadata": {},
     "output_type": "display_data"
    },
    {
     "data": {
      "application/vnd.jupyter.widget-view+json": {
       "model_id": "70a9e2f8f1c24bb8a25bb0bce0283c8f",
       "version_major": 2,
       "version_minor": 0
      },
      "text/plain": [
       "min_impurity_decrease:   0%|          | 0/3 [00:00<?, ?it/s]"
      ]
     },
     "metadata": {},
     "output_type": "display_data"
    },
    {
     "data": {
      "application/vnd.jupyter.widget-view+json": {
       "model_id": "f8cb82069a61406dbf4fc1ce27b01110",
       "version_major": 2,
       "version_minor": 0
      },
      "text/plain": [
       "min_impurity_decrease:   0%|          | 0/3 [00:00<?, ?it/s]"
      ]
     },
     "metadata": {},
     "output_type": "display_data"
    },
    {
     "data": {
      "application/vnd.jupyter.widget-view+json": {
       "model_id": "02b5215083a64422a56e7b8b81b66ec7",
       "version_major": 2,
       "version_minor": 0
      },
      "text/plain": [
       "min_impurity_decrease:   0%|          | 0/3 [00:00<?, ?it/s]"
      ]
     },
     "metadata": {},
     "output_type": "display_data"
    },
    {
     "data": {
      "application/vnd.jupyter.widget-view+json": {
       "model_id": "86db7f5561af4029adbed05ff566c5ef",
       "version_major": 2,
       "version_minor": 0
      },
      "text/plain": [
       "max_depth:   0%|          | 0/3 [00:00<?, ?it/s]"
      ]
     },
     "metadata": {},
     "output_type": "display_data"
    },
    {
     "data": {
      "application/vnd.jupyter.widget-view+json": {
       "model_id": "17222f01a7b8423f98836b6d1481ecc9",
       "version_major": 2,
       "version_minor": 0
      },
      "text/plain": [
       "min_impurity_decrease:   0%|          | 0/3 [00:00<?, ?it/s]"
      ]
     },
     "metadata": {},
     "output_type": "display_data"
    },
    {
     "data": {
      "application/vnd.jupyter.widget-view+json": {
       "model_id": "d7b1f1604605432fb2c32b7ae68a9753",
       "version_major": 2,
       "version_minor": 0
      },
      "text/plain": [
       "min_impurity_decrease:   0%|          | 0/3 [00:00<?, ?it/s]"
      ]
     },
     "metadata": {},
     "output_type": "display_data"
    },
    {
     "data": {
      "application/vnd.jupyter.widget-view+json": {
       "model_id": "e9ab6f0ed469477aa01d23ef91631eb5",
       "version_major": 2,
       "version_minor": 0
      },
      "text/plain": [
       "min_impurity_decrease:   0%|          | 0/3 [00:00<?, ?it/s]"
      ]
     },
     "metadata": {},
     "output_type": "display_data"
    },
    {
     "data": {
      "application/vnd.jupyter.widget-view+json": {
       "model_id": "5d5ca92934ee4af6a22624154a63952a",
       "version_major": 2,
       "version_minor": 0
      },
      "text/plain": [
       "max_features:   0%|          | 0/3 [00:00<?, ?it/s]"
      ]
     },
     "metadata": {},
     "output_type": "display_data"
    },
    {
     "data": {
      "application/vnd.jupyter.widget-view+json": {
       "model_id": "dfdd9d8619f84142996f45c96ca213c4",
       "version_major": 2,
       "version_minor": 0
      },
      "text/plain": [
       "max_depth:   0%|          | 0/3 [00:00<?, ?it/s]"
      ]
     },
     "metadata": {},
     "output_type": "display_data"
    },
    {
     "data": {
      "application/vnd.jupyter.widget-view+json": {
       "model_id": "5198330d0fa74b309f44bdb19aec3c9e",
       "version_major": 2,
       "version_minor": 0
      },
      "text/plain": [
       "min_impurity_decrease:   0%|          | 0/3 [00:00<?, ?it/s]"
      ]
     },
     "metadata": {},
     "output_type": "display_data"
    },
    {
     "data": {
      "application/vnd.jupyter.widget-view+json": {
       "model_id": "438510a9a43045ffb52226fa2625b2bc",
       "version_major": 2,
       "version_minor": 0
      },
      "text/plain": [
       "min_impurity_decrease:   0%|          | 0/3 [00:00<?, ?it/s]"
      ]
     },
     "metadata": {},
     "output_type": "display_data"
    },
    {
     "data": {
      "application/vnd.jupyter.widget-view+json": {
       "model_id": "d0a3da56e8da44fca7dfac621dbb5d82",
       "version_major": 2,
       "version_minor": 0
      },
      "text/plain": [
       "min_impurity_decrease:   0%|          | 0/3 [00:00<?, ?it/s]"
      ]
     },
     "metadata": {},
     "output_type": "display_data"
    },
    {
     "data": {
      "application/vnd.jupyter.widget-view+json": {
       "model_id": "52c295594c564bfa99b92ae014f8c28a",
       "version_major": 2,
       "version_minor": 0
      },
      "text/plain": [
       "max_depth:   0%|          | 0/3 [00:00<?, ?it/s]"
      ]
     },
     "metadata": {},
     "output_type": "display_data"
    },
    {
     "data": {
      "application/vnd.jupyter.widget-view+json": {
       "model_id": "0ff31aece9b1487986014958b62b1c28",
       "version_major": 2,
       "version_minor": 0
      },
      "text/plain": [
       "min_impurity_decrease:   0%|          | 0/3 [00:00<?, ?it/s]"
      ]
     },
     "metadata": {},
     "output_type": "display_data"
    },
    {
     "data": {
      "application/vnd.jupyter.widget-view+json": {
       "model_id": "d859da804fc5401cac20ed700e8bcb58",
       "version_major": 2,
       "version_minor": 0
      },
      "text/plain": [
       "min_impurity_decrease:   0%|          | 0/3 [00:00<?, ?it/s]"
      ]
     },
     "metadata": {},
     "output_type": "display_data"
    },
    {
     "data": {
      "application/vnd.jupyter.widget-view+json": {
       "model_id": "c0a3d03530ce47169f95027b831cd46b",
       "version_major": 2,
       "version_minor": 0
      },
      "text/plain": [
       "min_impurity_decrease:   0%|          | 0/3 [00:00<?, ?it/s]"
      ]
     },
     "metadata": {},
     "output_type": "display_data"
    },
    {
     "data": {
      "application/vnd.jupyter.widget-view+json": {
       "model_id": "c4caafb296b44a41b2df85d5a45d53bb",
       "version_major": 2,
       "version_minor": 0
      },
      "text/plain": [
       "max_depth:   0%|          | 0/3 [00:00<?, ?it/s]"
      ]
     },
     "metadata": {},
     "output_type": "display_data"
    },
    {
     "data": {
      "application/vnd.jupyter.widget-view+json": {
       "model_id": "2cdb96f8c90b477d93b9a1cf822afeb1",
       "version_major": 2,
       "version_minor": 0
      },
      "text/plain": [
       "min_impurity_decrease:   0%|          | 0/3 [00:00<?, ?it/s]"
      ]
     },
     "metadata": {},
     "output_type": "display_data"
    },
    {
     "data": {
      "application/vnd.jupyter.widget-view+json": {
       "model_id": "f4e028a258dc447aac5393a4753fe4f0",
       "version_major": 2,
       "version_minor": 0
      },
      "text/plain": [
       "min_impurity_decrease:   0%|          | 0/3 [00:00<?, ?it/s]"
      ]
     },
     "metadata": {},
     "output_type": "display_data"
    },
    {
     "data": {
      "application/vnd.jupyter.widget-view+json": {
       "model_id": "1f26d7940dfb4f179f699071d9821c11",
       "version_major": 2,
       "version_minor": 0
      },
      "text/plain": [
       "min_impurity_decrease:   0%|          | 0/3 [00:00<?, ?it/s]"
      ]
     },
     "metadata": {},
     "output_type": "display_data"
    },
    {
     "data": {
      "application/vnd.jupyter.widget-view+json": {
       "model_id": "249480ef478048cc846f262725e924f1",
       "version_major": 2,
       "version_minor": 0
      },
      "text/plain": [
       "criterion:   0%|          | 0/3 [00:00<?, ?it/s]"
      ]
     },
     "metadata": {},
     "output_type": "display_data"
    },
    {
     "data": {
      "application/vnd.jupyter.widget-view+json": {
       "model_id": "e0021847751e493da0b9c272df953a09",
       "version_major": 2,
       "version_minor": 0
      },
      "text/plain": [
       "max_features:   0%|          | 0/3 [00:00<?, ?it/s]"
      ]
     },
     "metadata": {},
     "output_type": "display_data"
    },
    {
     "data": {
      "application/vnd.jupyter.widget-view+json": {
       "model_id": "be97d8cc1e304eabba4d100de4a48735",
       "version_major": 2,
       "version_minor": 0
      },
      "text/plain": [
       "max_depth:   0%|          | 0/3 [00:00<?, ?it/s]"
      ]
     },
     "metadata": {},
     "output_type": "display_data"
    },
    {
     "data": {
      "application/vnd.jupyter.widget-view+json": {
       "model_id": "a632f32330cb4e42b0339cc27ffd272b",
       "version_major": 2,
       "version_minor": 0
      },
      "text/plain": [
       "min_impurity_decrease:   0%|          | 0/3 [00:00<?, ?it/s]"
      ]
     },
     "metadata": {},
     "output_type": "display_data"
    },
    {
     "data": {
      "application/vnd.jupyter.widget-view+json": {
       "model_id": "ead152bdfaf94e879b532b16f8d0602f",
       "version_major": 2,
       "version_minor": 0
      },
      "text/plain": [
       "min_impurity_decrease:   0%|          | 0/3 [00:00<?, ?it/s]"
      ]
     },
     "metadata": {},
     "output_type": "display_data"
    },
    {
     "data": {
      "application/vnd.jupyter.widget-view+json": {
       "model_id": "2534f44a973f4385bdc44e9be8ba2bee",
       "version_major": 2,
       "version_minor": 0
      },
      "text/plain": [
       "min_impurity_decrease:   0%|          | 0/3 [00:00<?, ?it/s]"
      ]
     },
     "metadata": {},
     "output_type": "display_data"
    },
    {
     "data": {
      "application/vnd.jupyter.widget-view+json": {
       "model_id": "e8231bbf6a024f46962779186913b338",
       "version_major": 2,
       "version_minor": 0
      },
      "text/plain": [
       "max_depth:   0%|          | 0/3 [00:00<?, ?it/s]"
      ]
     },
     "metadata": {},
     "output_type": "display_data"
    },
    {
     "data": {
      "application/vnd.jupyter.widget-view+json": {
       "model_id": "2f84f12e998144caa7fbff8ad27d6939",
       "version_major": 2,
       "version_minor": 0
      },
      "text/plain": [
       "min_impurity_decrease:   0%|          | 0/3 [00:00<?, ?it/s]"
      ]
     },
     "metadata": {},
     "output_type": "display_data"
    },
    {
     "data": {
      "application/vnd.jupyter.widget-view+json": {
       "model_id": "949c36bd252f43afa1354d70f5decb3c",
       "version_major": 2,
       "version_minor": 0
      },
      "text/plain": [
       "min_impurity_decrease:   0%|          | 0/3 [00:00<?, ?it/s]"
      ]
     },
     "metadata": {},
     "output_type": "display_data"
    },
    {
     "data": {
      "application/vnd.jupyter.widget-view+json": {
       "model_id": "68876d05645d459cab7361bd4dd07b94",
       "version_major": 2,
       "version_minor": 0
      },
      "text/plain": [
       "min_impurity_decrease:   0%|          | 0/3 [00:00<?, ?it/s]"
      ]
     },
     "metadata": {},
     "output_type": "display_data"
    },
    {
     "data": {
      "application/vnd.jupyter.widget-view+json": {
       "model_id": "a72f6afd666d4acb84cc81cdf30c0d01",
       "version_major": 2,
       "version_minor": 0
      },
      "text/plain": [
       "max_depth:   0%|          | 0/3 [00:00<?, ?it/s]"
      ]
     },
     "metadata": {},
     "output_type": "display_data"
    },
    {
     "data": {
      "application/vnd.jupyter.widget-view+json": {
       "model_id": "0419addfb4de4e1ebe4fcf9e076082ad",
       "version_major": 2,
       "version_minor": 0
      },
      "text/plain": [
       "min_impurity_decrease:   0%|          | 0/3 [00:00<?, ?it/s]"
      ]
     },
     "metadata": {},
     "output_type": "display_data"
    },
    {
     "data": {
      "application/vnd.jupyter.widget-view+json": {
       "model_id": "80a8144bb8604f4fb7563eb2c05adb5e",
       "version_major": 2,
       "version_minor": 0
      },
      "text/plain": [
       "min_impurity_decrease:   0%|          | 0/3 [00:00<?, ?it/s]"
      ]
     },
     "metadata": {},
     "output_type": "display_data"
    },
    {
     "data": {
      "application/vnd.jupyter.widget-view+json": {
       "model_id": "a3da986171cf430593cd8e7fa6789519",
       "version_major": 2,
       "version_minor": 0
      },
      "text/plain": [
       "min_impurity_decrease:   0%|          | 0/3 [00:00<?, ?it/s]"
      ]
     },
     "metadata": {},
     "output_type": "display_data"
    },
    {
     "data": {
      "application/vnd.jupyter.widget-view+json": {
       "model_id": "aae036b57c5d4b77a64cfd15b55ed835",
       "version_major": 2,
       "version_minor": 0
      },
      "text/plain": [
       "max_features:   0%|          | 0/3 [00:00<?, ?it/s]"
      ]
     },
     "metadata": {},
     "output_type": "display_data"
    },
    {
     "data": {
      "application/vnd.jupyter.widget-view+json": {
       "model_id": "5dead6a8452948e5950dd13b7419f026",
       "version_major": 2,
       "version_minor": 0
      },
      "text/plain": [
       "max_depth:   0%|          | 0/3 [00:00<?, ?it/s]"
      ]
     },
     "metadata": {},
     "output_type": "display_data"
    },
    {
     "data": {
      "application/vnd.jupyter.widget-view+json": {
       "model_id": "91954f16d6fb42dc85028bafe283aaa5",
       "version_major": 2,
       "version_minor": 0
      },
      "text/plain": [
       "min_impurity_decrease:   0%|          | 0/3 [00:00<?, ?it/s]"
      ]
     },
     "metadata": {},
     "output_type": "display_data"
    },
    {
     "data": {
      "application/vnd.jupyter.widget-view+json": {
       "model_id": "1145c561d906404c8577fe759de162a8",
       "version_major": 2,
       "version_minor": 0
      },
      "text/plain": [
       "min_impurity_decrease:   0%|          | 0/3 [00:00<?, ?it/s]"
      ]
     },
     "metadata": {},
     "output_type": "display_data"
    },
    {
     "data": {
      "application/vnd.jupyter.widget-view+json": {
       "model_id": "a99fdba915f84a4a8a650094a199ca2d",
       "version_major": 2,
       "version_minor": 0
      },
      "text/plain": [
       "min_impurity_decrease:   0%|          | 0/3 [00:00<?, ?it/s]"
      ]
     },
     "metadata": {},
     "output_type": "display_data"
    },
    {
     "data": {
      "application/vnd.jupyter.widget-view+json": {
       "model_id": "305c3d8a0fd34405a5079c99fd7338b4",
       "version_major": 2,
       "version_minor": 0
      },
      "text/plain": [
       "max_depth:   0%|          | 0/3 [00:00<?, ?it/s]"
      ]
     },
     "metadata": {},
     "output_type": "display_data"
    },
    {
     "data": {
      "application/vnd.jupyter.widget-view+json": {
       "model_id": "f46d172c1bb44fa1aaf83fb7e66b5b6d",
       "version_major": 2,
       "version_minor": 0
      },
      "text/plain": [
       "min_impurity_decrease:   0%|          | 0/3 [00:00<?, ?it/s]"
      ]
     },
     "metadata": {},
     "output_type": "display_data"
    },
    {
     "data": {
      "application/vnd.jupyter.widget-view+json": {
       "model_id": "fc5ef186f7bd412091b7b5aa9b0551d7",
       "version_major": 2,
       "version_minor": 0
      },
      "text/plain": [
       "min_impurity_decrease:   0%|          | 0/3 [00:00<?, ?it/s]"
      ]
     },
     "metadata": {},
     "output_type": "display_data"
    },
    {
     "data": {
      "application/vnd.jupyter.widget-view+json": {
       "model_id": "7f31b59ed9454bef82e3224e0ee5d10d",
       "version_major": 2,
       "version_minor": 0
      },
      "text/plain": [
       "min_impurity_decrease:   0%|          | 0/3 [00:00<?, ?it/s]"
      ]
     },
     "metadata": {},
     "output_type": "display_data"
    },
    {
     "data": {
      "application/vnd.jupyter.widget-view+json": {
       "model_id": "c01cc5b7dda249989466186cf8d1076b",
       "version_major": 2,
       "version_minor": 0
      },
      "text/plain": [
       "max_depth:   0%|          | 0/3 [00:00<?, ?it/s]"
      ]
     },
     "metadata": {},
     "output_type": "display_data"
    },
    {
     "data": {
      "application/vnd.jupyter.widget-view+json": {
       "model_id": "d21f0b2b71f546d6a7cff392479d8dd6",
       "version_major": 2,
       "version_minor": 0
      },
      "text/plain": [
       "min_impurity_decrease:   0%|          | 0/3 [00:00<?, ?it/s]"
      ]
     },
     "metadata": {},
     "output_type": "display_data"
    },
    {
     "data": {
      "application/vnd.jupyter.widget-view+json": {
       "model_id": "d9c3f267b0ff48419206fc7af74898a6",
       "version_major": 2,
       "version_minor": 0
      },
      "text/plain": [
       "min_impurity_decrease:   0%|          | 0/3 [00:00<?, ?it/s]"
      ]
     },
     "metadata": {},
     "output_type": "display_data"
    },
    {
     "data": {
      "application/vnd.jupyter.widget-view+json": {
       "model_id": "9bfe4dc8b5364f99902f7d01b5fc080c",
       "version_major": 2,
       "version_minor": 0
      },
      "text/plain": [
       "min_impurity_decrease:   0%|          | 0/3 [00:00<?, ?it/s]"
      ]
     },
     "metadata": {},
     "output_type": "display_data"
    },
    {
     "data": {
      "application/vnd.jupyter.widget-view+json": {
       "model_id": "0d5f53a6d13744a5a221db9020d8a4d9",
       "version_major": 2,
       "version_minor": 0
      },
      "text/plain": [
       "max_features:   0%|          | 0/3 [00:00<?, ?it/s]"
      ]
     },
     "metadata": {},
     "output_type": "display_data"
    },
    {
     "data": {
      "application/vnd.jupyter.widget-view+json": {
       "model_id": "27af46a7517d477da46bb29259ef0728",
       "version_major": 2,
       "version_minor": 0
      },
      "text/plain": [
       "max_depth:   0%|          | 0/3 [00:00<?, ?it/s]"
      ]
     },
     "metadata": {},
     "output_type": "display_data"
    },
    {
     "data": {
      "application/vnd.jupyter.widget-view+json": {
       "model_id": "9aede0ed54214b468a7e4023e7841355",
       "version_major": 2,
       "version_minor": 0
      },
      "text/plain": [
       "min_impurity_decrease:   0%|          | 0/3 [00:00<?, ?it/s]"
      ]
     },
     "metadata": {},
     "output_type": "display_data"
    },
    {
     "data": {
      "application/vnd.jupyter.widget-view+json": {
       "model_id": "045adbb04c1a4ff0a204d9cc9a7b8ecf",
       "version_major": 2,
       "version_minor": 0
      },
      "text/plain": [
       "min_impurity_decrease:   0%|          | 0/3 [00:00<?, ?it/s]"
      ]
     },
     "metadata": {},
     "output_type": "display_data"
    },
    {
     "data": {
      "application/vnd.jupyter.widget-view+json": {
       "model_id": "df17ead65a444d679f665eff734fd006",
       "version_major": 2,
       "version_minor": 0
      },
      "text/plain": [
       "min_impurity_decrease:   0%|          | 0/3 [00:00<?, ?it/s]"
      ]
     },
     "metadata": {},
     "output_type": "display_data"
    },
    {
     "data": {
      "application/vnd.jupyter.widget-view+json": {
       "model_id": "a084fe683ef840439b061e1813915248",
       "version_major": 2,
       "version_minor": 0
      },
      "text/plain": [
       "max_depth:   0%|          | 0/3 [00:00<?, ?it/s]"
      ]
     },
     "metadata": {},
     "output_type": "display_data"
    },
    {
     "data": {
      "application/vnd.jupyter.widget-view+json": {
       "model_id": "908b4a8ddb634e1b8bc6ff4847354044",
       "version_major": 2,
       "version_minor": 0
      },
      "text/plain": [
       "min_impurity_decrease:   0%|          | 0/3 [00:00<?, ?it/s]"
      ]
     },
     "metadata": {},
     "output_type": "display_data"
    },
    {
     "data": {
      "application/vnd.jupyter.widget-view+json": {
       "model_id": "7466a61183a849eb8f3ce3740b9bb471",
       "version_major": 2,
       "version_minor": 0
      },
      "text/plain": [
       "min_impurity_decrease:   0%|          | 0/3 [00:00<?, ?it/s]"
      ]
     },
     "metadata": {},
     "output_type": "display_data"
    },
    {
     "data": {
      "application/vnd.jupyter.widget-view+json": {
       "model_id": "f1673b03326f42fb941120d6bc7a638c",
       "version_major": 2,
       "version_minor": 0
      },
      "text/plain": [
       "min_impurity_decrease:   0%|          | 0/3 [00:00<?, ?it/s]"
      ]
     },
     "metadata": {},
     "output_type": "display_data"
    },
    {
     "data": {
      "application/vnd.jupyter.widget-view+json": {
       "model_id": "cd246c0d68b14ef285782800eed7c413",
       "version_major": 2,
       "version_minor": 0
      },
      "text/plain": [
       "max_depth:   0%|          | 0/3 [00:00<?, ?it/s]"
      ]
     },
     "metadata": {},
     "output_type": "display_data"
    },
    {
     "data": {
      "application/vnd.jupyter.widget-view+json": {
       "model_id": "17e591d38cca48fab0d225e7d3552c51",
       "version_major": 2,
       "version_minor": 0
      },
      "text/plain": [
       "min_impurity_decrease:   0%|          | 0/3 [00:00<?, ?it/s]"
      ]
     },
     "metadata": {},
     "output_type": "display_data"
    },
    {
     "data": {
      "application/vnd.jupyter.widget-view+json": {
       "model_id": "ddbb6e8894b941a0a1268d1b39781c66",
       "version_major": 2,
       "version_minor": 0
      },
      "text/plain": [
       "min_impurity_decrease:   0%|          | 0/3 [00:00<?, ?it/s]"
      ]
     },
     "metadata": {},
     "output_type": "display_data"
    },
    {
     "data": {
      "application/vnd.jupyter.widget-view+json": {
       "model_id": "eb9d907cc18146b29ccc4607b77d4e21",
       "version_major": 2,
       "version_minor": 0
      },
      "text/plain": [
       "min_impurity_decrease:   0%|          | 0/3 [00:00<?, ?it/s]"
      ]
     },
     "metadata": {},
     "output_type": "display_data"
    },
    {
     "data": {
      "application/vnd.jupyter.widget-view+json": {
       "model_id": "0e1ea5b23dd94240bd827c3e0d28c7d3",
       "version_major": 2,
       "version_minor": 0
      },
      "text/plain": [
       "criterion:   0%|          | 0/3 [00:00<?, ?it/s]"
      ]
     },
     "metadata": {},
     "output_type": "display_data"
    },
    {
     "data": {
      "application/vnd.jupyter.widget-view+json": {
       "model_id": "cdd3bc822eeb40ef82a0a1ba039ebe97",
       "version_major": 2,
       "version_minor": 0
      },
      "text/plain": [
       "max_features:   0%|          | 0/3 [00:00<?, ?it/s]"
      ]
     },
     "metadata": {},
     "output_type": "display_data"
    },
    {
     "data": {
      "application/vnd.jupyter.widget-view+json": {
       "model_id": "394630a523284c639c771ed9379aae1c",
       "version_major": 2,
       "version_minor": 0
      },
      "text/plain": [
       "max_depth:   0%|          | 0/3 [00:00<?, ?it/s]"
      ]
     },
     "metadata": {},
     "output_type": "display_data"
    },
    {
     "data": {
      "application/vnd.jupyter.widget-view+json": {
       "model_id": "ea66b0f5878f41418d0d7520ad9fe087",
       "version_major": 2,
       "version_minor": 0
      },
      "text/plain": [
       "min_impurity_decrease:   0%|          | 0/3 [00:00<?, ?it/s]"
      ]
     },
     "metadata": {},
     "output_type": "display_data"
    },
    {
     "data": {
      "application/vnd.jupyter.widget-view+json": {
       "model_id": "cec6d59c73f54903bae28ba63021dc47",
       "version_major": 2,
       "version_minor": 0
      },
      "text/plain": [
       "min_impurity_decrease:   0%|          | 0/3 [00:00<?, ?it/s]"
      ]
     },
     "metadata": {},
     "output_type": "display_data"
    },
    {
     "data": {
      "application/vnd.jupyter.widget-view+json": {
       "model_id": "498fc1a4d6d74906bca2377fd0f8d5b4",
       "version_major": 2,
       "version_minor": 0
      },
      "text/plain": [
       "min_impurity_decrease:   0%|          | 0/3 [00:00<?, ?it/s]"
      ]
     },
     "metadata": {},
     "output_type": "display_data"
    },
    {
     "data": {
      "application/vnd.jupyter.widget-view+json": {
       "model_id": "3d594f084e3342b5ac64c9bffce8013d",
       "version_major": 2,
       "version_minor": 0
      },
      "text/plain": [
       "max_depth:   0%|          | 0/3 [00:00<?, ?it/s]"
      ]
     },
     "metadata": {},
     "output_type": "display_data"
    },
    {
     "data": {
      "application/vnd.jupyter.widget-view+json": {
       "model_id": "e72a35134dfc46bc9c60c4fc2bdf39a1",
       "version_major": 2,
       "version_minor": 0
      },
      "text/plain": [
       "min_impurity_decrease:   0%|          | 0/3 [00:00<?, ?it/s]"
      ]
     },
     "metadata": {},
     "output_type": "display_data"
    },
    {
     "data": {
      "application/vnd.jupyter.widget-view+json": {
       "model_id": "cd6dee38e3d54362962c0e36e82b9cdd",
       "version_major": 2,
       "version_minor": 0
      },
      "text/plain": [
       "min_impurity_decrease:   0%|          | 0/3 [00:00<?, ?it/s]"
      ]
     },
     "metadata": {},
     "output_type": "display_data"
    },
    {
     "data": {
      "application/vnd.jupyter.widget-view+json": {
       "model_id": "08291615bf7947febaadbef7ef2af6aa",
       "version_major": 2,
       "version_minor": 0
      },
      "text/plain": [
       "min_impurity_decrease:   0%|          | 0/3 [00:00<?, ?it/s]"
      ]
     },
     "metadata": {},
     "output_type": "display_data"
    },
    {
     "data": {
      "application/vnd.jupyter.widget-view+json": {
       "model_id": "8c541039840f4f82834e2e0f81466be0",
       "version_major": 2,
       "version_minor": 0
      },
      "text/plain": [
       "max_depth:   0%|          | 0/3 [00:00<?, ?it/s]"
      ]
     },
     "metadata": {},
     "output_type": "display_data"
    },
    {
     "data": {
      "application/vnd.jupyter.widget-view+json": {
       "model_id": "9b6ef3c99ae5486887df7b5d49196abf",
       "version_major": 2,
       "version_minor": 0
      },
      "text/plain": [
       "min_impurity_decrease:   0%|          | 0/3 [00:00<?, ?it/s]"
      ]
     },
     "metadata": {},
     "output_type": "display_data"
    },
    {
     "data": {
      "application/vnd.jupyter.widget-view+json": {
       "model_id": "3cc8e469a7b14e52a591348ca1e9afdb",
       "version_major": 2,
       "version_minor": 0
      },
      "text/plain": [
       "min_impurity_decrease:   0%|          | 0/3 [00:00<?, ?it/s]"
      ]
     },
     "metadata": {},
     "output_type": "display_data"
    },
    {
     "data": {
      "application/vnd.jupyter.widget-view+json": {
       "model_id": "ae66d3598b3f46daad4ecf1af31a0642",
       "version_major": 2,
       "version_minor": 0
      },
      "text/plain": [
       "min_impurity_decrease:   0%|          | 0/3 [00:00<?, ?it/s]"
      ]
     },
     "metadata": {},
     "output_type": "display_data"
    },
    {
     "data": {
      "application/vnd.jupyter.widget-view+json": {
       "model_id": "0574483eb6264191911d90aa7c5217c5",
       "version_major": 2,
       "version_minor": 0
      },
      "text/plain": [
       "max_features:   0%|          | 0/3 [00:00<?, ?it/s]"
      ]
     },
     "metadata": {},
     "output_type": "display_data"
    },
    {
     "data": {
      "application/vnd.jupyter.widget-view+json": {
       "model_id": "09342d42be9a466c818b3d9ea0e7c0c6",
       "version_major": 2,
       "version_minor": 0
      },
      "text/plain": [
       "max_depth:   0%|          | 0/3 [00:00<?, ?it/s]"
      ]
     },
     "metadata": {},
     "output_type": "display_data"
    },
    {
     "data": {
      "application/vnd.jupyter.widget-view+json": {
       "model_id": "7752b25f59854bf3ad6143fce397d7b2",
       "version_major": 2,
       "version_minor": 0
      },
      "text/plain": [
       "min_impurity_decrease:   0%|          | 0/3 [00:00<?, ?it/s]"
      ]
     },
     "metadata": {},
     "output_type": "display_data"
    },
    {
     "data": {
      "application/vnd.jupyter.widget-view+json": {
       "model_id": "0ee61359b1fe4c6184a0cf1de36833ae",
       "version_major": 2,
       "version_minor": 0
      },
      "text/plain": [
       "min_impurity_decrease:   0%|          | 0/3 [00:00<?, ?it/s]"
      ]
     },
     "metadata": {},
     "output_type": "display_data"
    },
    {
     "data": {
      "application/vnd.jupyter.widget-view+json": {
       "model_id": "b6c80c9e1c4540ada7ac5104f6c1d593",
       "version_major": 2,
       "version_minor": 0
      },
      "text/plain": [
       "min_impurity_decrease:   0%|          | 0/3 [00:00<?, ?it/s]"
      ]
     },
     "metadata": {},
     "output_type": "display_data"
    },
    {
     "data": {
      "application/vnd.jupyter.widget-view+json": {
       "model_id": "e94f6e3183ca43f18d2f467a82b63630",
       "version_major": 2,
       "version_minor": 0
      },
      "text/plain": [
       "max_depth:   0%|          | 0/3 [00:00<?, ?it/s]"
      ]
     },
     "metadata": {},
     "output_type": "display_data"
    },
    {
     "data": {
      "application/vnd.jupyter.widget-view+json": {
       "model_id": "7ca3c834cf884857a85223a6f4bad303",
       "version_major": 2,
       "version_minor": 0
      },
      "text/plain": [
       "min_impurity_decrease:   0%|          | 0/3 [00:00<?, ?it/s]"
      ]
     },
     "metadata": {},
     "output_type": "display_data"
    },
    {
     "data": {
      "application/vnd.jupyter.widget-view+json": {
       "model_id": "43fde6f3767a40f289f9b53236861842",
       "version_major": 2,
       "version_minor": 0
      },
      "text/plain": [
       "min_impurity_decrease:   0%|          | 0/3 [00:00<?, ?it/s]"
      ]
     },
     "metadata": {},
     "output_type": "display_data"
    },
    {
     "data": {
      "application/vnd.jupyter.widget-view+json": {
       "model_id": "e85096203c904e49b8b23efd11d6005a",
       "version_major": 2,
       "version_minor": 0
      },
      "text/plain": [
       "min_impurity_decrease:   0%|          | 0/3 [00:00<?, ?it/s]"
      ]
     },
     "metadata": {},
     "output_type": "display_data"
    },
    {
     "data": {
      "application/vnd.jupyter.widget-view+json": {
       "model_id": "03bf5c323dbc4e43bcb170e3f75b5703",
       "version_major": 2,
       "version_minor": 0
      },
      "text/plain": [
       "max_depth:   0%|          | 0/3 [00:00<?, ?it/s]"
      ]
     },
     "metadata": {},
     "output_type": "display_data"
    },
    {
     "data": {
      "application/vnd.jupyter.widget-view+json": {
       "model_id": "cf2c2659728a4d89aabdb5b04c0322cf",
       "version_major": 2,
       "version_minor": 0
      },
      "text/plain": [
       "min_impurity_decrease:   0%|          | 0/3 [00:00<?, ?it/s]"
      ]
     },
     "metadata": {},
     "output_type": "display_data"
    },
    {
     "data": {
      "application/vnd.jupyter.widget-view+json": {
       "model_id": "da016eff45aa412287f38cb6f7b8467e",
       "version_major": 2,
       "version_minor": 0
      },
      "text/plain": [
       "min_impurity_decrease:   0%|          | 0/3 [00:00<?, ?it/s]"
      ]
     },
     "metadata": {},
     "output_type": "display_data"
    },
    {
     "data": {
      "application/vnd.jupyter.widget-view+json": {
       "model_id": "38cf8089daa54fc4b60aaba645f37792",
       "version_major": 2,
       "version_minor": 0
      },
      "text/plain": [
       "min_impurity_decrease:   0%|          | 0/3 [00:00<?, ?it/s]"
      ]
     },
     "metadata": {},
     "output_type": "display_data"
    },
    {
     "data": {
      "application/vnd.jupyter.widget-view+json": {
       "model_id": "6cd66dc674f745c3a784cab67794b16f",
       "version_major": 2,
       "version_minor": 0
      },
      "text/plain": [
       "max_features:   0%|          | 0/3 [00:00<?, ?it/s]"
      ]
     },
     "metadata": {},
     "output_type": "display_data"
    },
    {
     "data": {
      "application/vnd.jupyter.widget-view+json": {
       "model_id": "06509d7620fa4b21aaa56e5bc9655c53",
       "version_major": 2,
       "version_minor": 0
      },
      "text/plain": [
       "max_depth:   0%|          | 0/3 [00:00<?, ?it/s]"
      ]
     },
     "metadata": {},
     "output_type": "display_data"
    },
    {
     "data": {
      "application/vnd.jupyter.widget-view+json": {
       "model_id": "c4ca7a5cb1844b47ba5348a70978213a",
       "version_major": 2,
       "version_minor": 0
      },
      "text/plain": [
       "min_impurity_decrease:   0%|          | 0/3 [00:00<?, ?it/s]"
      ]
     },
     "metadata": {},
     "output_type": "display_data"
    },
    {
     "data": {
      "application/vnd.jupyter.widget-view+json": {
       "model_id": "5fec94ededf8440e8c0eb9e27eb85a76",
       "version_major": 2,
       "version_minor": 0
      },
      "text/plain": [
       "min_impurity_decrease:   0%|          | 0/3 [00:00<?, ?it/s]"
      ]
     },
     "metadata": {},
     "output_type": "display_data"
    },
    {
     "data": {
      "application/vnd.jupyter.widget-view+json": {
       "model_id": "8bb91122ebcc4011af6dd958bfadfdf5",
       "version_major": 2,
       "version_minor": 0
      },
      "text/plain": [
       "min_impurity_decrease:   0%|          | 0/3 [00:00<?, ?it/s]"
      ]
     },
     "metadata": {},
     "output_type": "display_data"
    },
    {
     "data": {
      "application/vnd.jupyter.widget-view+json": {
       "model_id": "33df5553a7d4472eb1a1746c2d3055ce",
       "version_major": 2,
       "version_minor": 0
      },
      "text/plain": [
       "max_depth:   0%|          | 0/3 [00:00<?, ?it/s]"
      ]
     },
     "metadata": {},
     "output_type": "display_data"
    },
    {
     "data": {
      "application/vnd.jupyter.widget-view+json": {
       "model_id": "6be45a1a29904d5988904fcf18ce8499",
       "version_major": 2,
       "version_minor": 0
      },
      "text/plain": [
       "min_impurity_decrease:   0%|          | 0/3 [00:00<?, ?it/s]"
      ]
     },
     "metadata": {},
     "output_type": "display_data"
    },
    {
     "data": {
      "application/vnd.jupyter.widget-view+json": {
       "model_id": "1021d69b04c1450d8293f98d88d9bcc6",
       "version_major": 2,
       "version_minor": 0
      },
      "text/plain": [
       "min_impurity_decrease:   0%|          | 0/3 [00:00<?, ?it/s]"
      ]
     },
     "metadata": {},
     "output_type": "display_data"
    },
    {
     "data": {
      "application/vnd.jupyter.widget-view+json": {
       "model_id": "654486e7e4a040b3adb9f6c0d3052652",
       "version_major": 2,
       "version_minor": 0
      },
      "text/plain": [
       "min_impurity_decrease:   0%|          | 0/3 [00:00<?, ?it/s]"
      ]
     },
     "metadata": {},
     "output_type": "display_data"
    },
    {
     "data": {
      "application/vnd.jupyter.widget-view+json": {
       "model_id": "e9d5e163932a4afeb57930d4e7402057",
       "version_major": 2,
       "version_minor": 0
      },
      "text/plain": [
       "max_depth:   0%|          | 0/3 [00:00<?, ?it/s]"
      ]
     },
     "metadata": {},
     "output_type": "display_data"
    },
    {
     "data": {
      "application/vnd.jupyter.widget-view+json": {
       "model_id": "270a3dae49e14708a647d74085752805",
       "version_major": 2,
       "version_minor": 0
      },
      "text/plain": [
       "min_impurity_decrease:   0%|          | 0/3 [00:00<?, ?it/s]"
      ]
     },
     "metadata": {},
     "output_type": "display_data"
    },
    {
     "data": {
      "application/vnd.jupyter.widget-view+json": {
       "model_id": "cabaa1eab1274faaa60f1176a9d79976",
       "version_major": 2,
       "version_minor": 0
      },
      "text/plain": [
       "min_impurity_decrease:   0%|          | 0/3 [00:00<?, ?it/s]"
      ]
     },
     "metadata": {},
     "output_type": "display_data"
    },
    {
     "data": {
      "application/vnd.jupyter.widget-view+json": {
       "model_id": "58cdfc7efd144eca803c15daafefa93c",
       "version_major": 2,
       "version_minor": 0
      },
      "text/plain": [
       "min_impurity_decrease:   0%|          | 0/3 [00:00<?, ?it/s]"
      ]
     },
     "metadata": {},
     "output_type": "display_data"
    }
   ],
   "source": [
    "from sklearn.ensemble import RandomForestClassifier\n",
    "\n",
    "n_estimators_list = [50, 100, 150]\n",
    "criterion_list = [\"gini\", \"entropy\", \"log_loss\"]\n",
    "max_features_list = [\"sqrt\", \"log2\", None]\n",
    "max_depth_list = [5, 10, 20]\n",
    "min_impurity_decrease_list = [.0, .001, .00001]\n",
    "\n",
    "rf_df = pd.DataFrame(columns=col_list)\n",
    "\n",
    "X_train, X_test, y_train, y_test = prepare_data_smote()\n",
    "\n",
    "for n_estimators in tqdm(n_estimators_list, desc=\"n_estimators\"):\n",
    "    for criterion in tqdm(criterion_list, desc=\"criterion\"):\n",
    "        for max_features in tqdm(max_features_list, desc=\"max_features\"):\n",
    "            for max_depth in tqdm(max_depth_list, desc=\"max_depth\"):\n",
    "                for min_impurity_decrease in tqdm(min_impurity_decrease_list, desc=\"min_impurity_decrease\"):\n",
    "                        rf_model = RandomForestClassifier(n_estimators=n_estimators,\n",
    "                                                          criterion=criterion,\n",
    "                                                          max_features=max_features, \n",
    "                                                          max_depth=max_depth,\n",
    "                                                          min_impurity_decrease=min_impurity_decrease)\n",
    "                        rf_df = pd.concat([rf_df, make_eval_df(rf_model)], axis=0, ignore_index=True)"
   ]
  },
  {
   "cell_type": "code",
   "execution_count": 15,
   "id": "fba2c78b",
   "metadata": {
    "ExecuteTime": {
     "end_time": "2022-12-29T13:30:44.739614Z",
     "start_time": "2022-12-29T13:30:44.712116Z"
    }
   },
   "outputs": [],
   "source": [
    "rf_df.to_csv(save_path + \"RandomForest_1.csv\", index=False)"
   ]
  },
  {
   "cell_type": "markdown",
   "id": "938c894e",
   "metadata": {},
   "source": [
    "### 모델 선택"
   ]
  },
  {
   "cell_type": "code",
   "execution_count": 16,
   "id": "e33485b1",
   "metadata": {
    "ExecuteTime": {
     "end_time": "2022-12-29T13:33:07.864615Z",
     "start_time": "2022-12-29T13:33:07.836242Z"
    }
   },
   "outputs": [
    {
     "data": {
      "text/plain": [
       "array([0.12536913, 0.12530691, 0.12465169, 0.12456491, 0.12409514,\n",
       "       0.12147657, 0.1214478 , 0.11337919, 0.11334417, 0.11301917,\n",
       "       0.11293188, 0.11291668, 0.11289095, 0.11287574, 0.11284414,\n",
       "       0.11283835, 0.11282553, 0.11276457, 0.11271226, 0.11256874,\n",
       "       0.11252829, 0.11243581, 0.11243305, 0.1123761 , 0.11222703,\n",
       "       0.11219268, 0.11219233, 0.11216757, 0.11213314, 0.11199744,\n",
       "       0.11199715, 0.11198575, 0.11198547, 0.11192647, 0.11190187,\n",
       "       0.11121761, 0.11121376, 0.11120595, 0.11115056, 0.11107174,\n",
       "       0.1110246 , 0.11101689, 0.11100882, 0.11095014, 0.11088788,\n",
       "       0.1108721 , 0.11082964, 0.11082538, 0.11080957, 0.11073446,\n",
       "       0.11065776, 0.11061043, 0.11058857, 0.11046145, 0.11012862,\n",
       "       0.1100364 , 0.10969193, 0.10967921, 0.10963855, 0.10962254,\n",
       "       0.10958386, 0.109435  , 0.10941467, 0.10941293, 0.1092669 ,\n",
       "       0.10922877, 0.10919129, 0.10910456, 0.10909892, 0.10875548,\n",
       "       0.10857433, 0.10853864, 0.10853737, 0.10835778])"
      ]
     },
     "execution_count": 16,
     "metadata": {},
     "output_type": "execute_result"
    }
   ],
   "source": [
    "rf_result = pd.read_csv(save_path + \"RandomForest_1.csv\")\n",
    "rf_result = rf_result.sort_values(\"precision\", ascending=False)\n",
    "rf_result[\"precision\"].unique()"
   ]
  },
  {
   "cell_type": "code",
   "execution_count": 23,
   "id": "383e3d79",
   "metadata": {
    "ExecuteTime": {
     "end_time": "2022-12-29T13:40:16.370779Z",
     "start_time": "2022-12-29T13:40:16.355956Z"
    }
   },
   "outputs": [
    {
     "data": {
      "text/plain": [
       "6"
      ]
     },
     "execution_count": 23,
     "metadata": {},
     "output_type": "execute_result"
    }
   ],
   "source": [
    "rf_temp = rf_result[(rf_result[\"precision\"]>.123) & (rf_result[\"roc_auc\"]>.771)]\n",
    "len(rf_temp)"
   ]
  },
  {
   "cell_type": "code",
   "execution_count": 24,
   "id": "f89dddea",
   "metadata": {
    "ExecuteTime": {
     "end_time": "2022-12-29T13:43:01.717237Z",
     "start_time": "2022-12-29T13:43:01.689312Z"
    }
   },
   "outputs": [
    {
     "data": {
      "text/html": [
       "<div>\n",
       "<style scoped>\n",
       "    .dataframe tbody tr th:only-of-type {\n",
       "        vertical-align: middle;\n",
       "    }\n",
       "\n",
       "    .dataframe tbody tr th {\n",
       "        vertical-align: top;\n",
       "    }\n",
       "\n",
       "    .dataframe thead th {\n",
       "        text-align: right;\n",
       "    }\n",
       "</style>\n",
       "<table border=\"1\" class=\"dataframe\">\n",
       "  <thead>\n",
       "    <tr style=\"text-align: right;\">\n",
       "      <th></th>\n",
       "      <th>model</th>\n",
       "      <th>params</th>\n",
       "      <th>confusion</th>\n",
       "      <th>accuracy</th>\n",
       "      <th>precision</th>\n",
       "      <th>recall</th>\n",
       "      <th>f1</th>\n",
       "      <th>roc_auc</th>\n",
       "    </tr>\n",
       "  </thead>\n",
       "  <tbody>\n",
       "    <tr>\n",
       "      <th>99</th>\n",
       "      <td>RandomForestClassifier(max_depth=5, max_features=None)</td>\n",
       "      <td>{'bootstrap': True, 'ccp_alpha': 0.0, 'class_weight': None, 'criterion': 'gini', 'max_depth': 5, 'max_features': None, 'max_leaf_nodes': None, 'max_samples': None, 'min_impurity_decrease': 0.0, 'min_samples_leaf': 1, 'min_samples_split': 2, 'min_weight_fraction_leaf': 0.0, 'n_estimators': 100, 'n_jobs': None, 'oob_score': False, 'random_state': None, 'verbose': 0, 'warm_start': False}</td>\n",
       "      <td>[[52112 19548] [1268  2802]]</td>\n",
       "      <td>0.725129</td>\n",
       "      <td>0.125369</td>\n",
       "      <td>0.688452</td>\n",
       "      <td>0.212112</td>\n",
       "      <td>0.771558</td>\n",
       "    </tr>\n",
       "    <tr>\n",
       "      <th>207</th>\n",
       "      <td>RandomForestClassifier(criterion='entropy', max_depth=5, max_features=None,                       n_estimators=150)</td>\n",
       "      <td>{'bootstrap': True, 'ccp_alpha': 0.0, 'class_weight': None, 'criterion': 'entropy', 'max_depth': 5, 'max_features': None, 'max_leaf_nodes': None, 'max_samples': None, 'min_impurity_decrease': 0.0, 'min_samples_leaf': 1, 'min_samples_split': 2, 'min_weight_fraction_leaf': 0.0, 'n_estimators': 150, 'n_jobs': None, 'oob_score': False, 'random_state': None, 'verbose': 0, 'warm_start': False}</td>\n",
       "      <td>[[52112 19548] [1268  2802]]</td>\n",
       "      <td>0.725129</td>\n",
       "      <td>0.125369</td>\n",
       "      <td>0.688452</td>\n",
       "      <td>0.212112</td>\n",
       "      <td>0.771485</td>\n",
       "    </tr>\n",
       "    <tr>\n",
       "      <th>81</th>\n",
       "      <td>RandomForestClassifier(max_depth=5)</td>\n",
       "      <td>{'bootstrap': True, 'ccp_alpha': 0.0, 'class_weight': None, 'criterion': 'gini', 'max_depth': 5, 'max_features': 'sqrt', 'max_leaf_nodes': None, 'max_samples': None, 'min_impurity_decrease': 0.0, 'min_samples_leaf': 1, 'min_samples_split': 2, 'min_weight_fraction_leaf': 0.0, 'n_estimators': 100, 'n_jobs': None, 'oob_score': False, 'random_state': None, 'verbose': 0, 'warm_start': False}</td>\n",
       "      <td>[[51555 20105] [1207  2863]]</td>\n",
       "      <td>0.718579</td>\n",
       "      <td>0.124652</td>\n",
       "      <td>0.703440</td>\n",
       "      <td>0.211776</td>\n",
       "      <td>0.777142</td>\n",
       "    </tr>\n",
       "    <tr>\n",
       "      <th>2</th>\n",
       "      <td>RandomForestClassifier(max_depth=5, min_impurity_decrease=1e-05,                       n_estimators=50)</td>\n",
       "      <td>{'bootstrap': True, 'ccp_alpha': 0.0, 'class_weight': None, 'criterion': 'gini', 'max_depth': 5, 'max_features': 'sqrt', 'max_leaf_nodes': None, 'max_samples': None, 'min_impurity_decrease': 1e-05, 'min_samples_leaf': 1, 'min_samples_split': 2, 'min_weight_fraction_leaf': 0.0, 'n_estimators': 50, 'n_jobs': None, 'oob_score': False, 'random_state': None, 'verbose': 0, 'warm_start': False}</td>\n",
       "      <td>[[51555 20105] [1207  2863]]</td>\n",
       "      <td>0.718579</td>\n",
       "      <td>0.124652</td>\n",
       "      <td>0.703440</td>\n",
       "      <td>0.211776</td>\n",
       "      <td>0.776938</td>\n",
       "    </tr>\n",
       "    <tr>\n",
       "      <th>135</th>\n",
       "      <td>RandomForestClassifier(criterion='log_loss', max_depth=5)</td>\n",
       "      <td>{'bootstrap': True, 'ccp_alpha': 0.0, 'class_weight': None, 'criterion': 'log_loss', 'max_depth': 5, 'max_features': 'sqrt', 'max_leaf_nodes': None, 'max_samples': None, 'min_impurity_decrease': 0.0, 'min_samples_leaf': 1, 'min_samples_split': 2, 'min_weight_fraction_leaf': 0.0, 'n_estimators': 100, 'n_jobs': None, 'oob_score': False, 'random_state': None, 'verbose': 0, 'warm_start': False}</td>\n",
       "      <td>[[51539 20121] [1207  2863]]</td>\n",
       "      <td>0.718368</td>\n",
       "      <td>0.124565</td>\n",
       "      <td>0.703440</td>\n",
       "      <td>0.211651</td>\n",
       "      <td>0.777004</td>\n",
       "    </tr>\n",
       "    <tr>\n",
       "      <th>54</th>\n",
       "      <td>RandomForestClassifier(criterion='log_loss', max_depth=5, n_estimators=50)</td>\n",
       "      <td>{'bootstrap': True, 'ccp_alpha': 0.0, 'class_weight': None, 'criterion': 'log_loss', 'max_depth': 5, 'max_features': 'sqrt', 'max_leaf_nodes': None, 'max_samples': None, 'min_impurity_decrease': 0.0, 'min_samples_leaf': 1, 'min_samples_split': 2, 'min_weight_fraction_leaf': 0.0, 'n_estimators': 50, 'n_jobs': None, 'oob_score': False, 'random_state': None, 'verbose': 0, 'warm_start': False}</td>\n",
       "      <td>[[51332 20328] [1190  2880]]</td>\n",
       "      <td>0.715859</td>\n",
       "      <td>0.124095</td>\n",
       "      <td>0.707617</td>\n",
       "      <td>0.211159</td>\n",
       "      <td>0.776555</td>\n",
       "    </tr>\n",
       "  </tbody>\n",
       "</table>\n",
       "</div>"
      ],
      "text/plain": [
       "                                                                                                                   model  \\\n",
       "99                                                                RandomForestClassifier(max_depth=5, max_features=None)   \n",
       "207  RandomForestClassifier(criterion='entropy', max_depth=5, max_features=None,                       n_estimators=150)   \n",
       "81                                                                                   RandomForestClassifier(max_depth=5)   \n",
       "2                RandomForestClassifier(max_depth=5, min_impurity_decrease=1e-05,                       n_estimators=50)   \n",
       "135                                                            RandomForestClassifier(criterion='log_loss', max_depth=5)   \n",
       "54                                            RandomForestClassifier(criterion='log_loss', max_depth=5, n_estimators=50)   \n",
       "\n",
       "                                                                                                                                                                                                                                                                                                                                                                                                        params  \\\n",
       "99         {'bootstrap': True, 'ccp_alpha': 0.0, 'class_weight': None, 'criterion': 'gini', 'max_depth': 5, 'max_features': None, 'max_leaf_nodes': None, 'max_samples': None, 'min_impurity_decrease': 0.0, 'min_samples_leaf': 1, 'min_samples_split': 2, 'min_weight_fraction_leaf': 0.0, 'n_estimators': 100, 'n_jobs': None, 'oob_score': False, 'random_state': None, 'verbose': 0, 'warm_start': False}   \n",
       "207     {'bootstrap': True, 'ccp_alpha': 0.0, 'class_weight': None, 'criterion': 'entropy', 'max_depth': 5, 'max_features': None, 'max_leaf_nodes': None, 'max_samples': None, 'min_impurity_decrease': 0.0, 'min_samples_leaf': 1, 'min_samples_split': 2, 'min_weight_fraction_leaf': 0.0, 'n_estimators': 150, 'n_jobs': None, 'oob_score': False, 'random_state': None, 'verbose': 0, 'warm_start': False}   \n",
       "81       {'bootstrap': True, 'ccp_alpha': 0.0, 'class_weight': None, 'criterion': 'gini', 'max_depth': 5, 'max_features': 'sqrt', 'max_leaf_nodes': None, 'max_samples': None, 'min_impurity_decrease': 0.0, 'min_samples_leaf': 1, 'min_samples_split': 2, 'min_weight_fraction_leaf': 0.0, 'n_estimators': 100, 'n_jobs': None, 'oob_score': False, 'random_state': None, 'verbose': 0, 'warm_start': False}   \n",
       "2       {'bootstrap': True, 'ccp_alpha': 0.0, 'class_weight': None, 'criterion': 'gini', 'max_depth': 5, 'max_features': 'sqrt', 'max_leaf_nodes': None, 'max_samples': None, 'min_impurity_decrease': 1e-05, 'min_samples_leaf': 1, 'min_samples_split': 2, 'min_weight_fraction_leaf': 0.0, 'n_estimators': 50, 'n_jobs': None, 'oob_score': False, 'random_state': None, 'verbose': 0, 'warm_start': False}   \n",
       "135  {'bootstrap': True, 'ccp_alpha': 0.0, 'class_weight': None, 'criterion': 'log_loss', 'max_depth': 5, 'max_features': 'sqrt', 'max_leaf_nodes': None, 'max_samples': None, 'min_impurity_decrease': 0.0, 'min_samples_leaf': 1, 'min_samples_split': 2, 'min_weight_fraction_leaf': 0.0, 'n_estimators': 100, 'n_jobs': None, 'oob_score': False, 'random_state': None, 'verbose': 0, 'warm_start': False}   \n",
       "54    {'bootstrap': True, 'ccp_alpha': 0.0, 'class_weight': None, 'criterion': 'log_loss', 'max_depth': 5, 'max_features': 'sqrt', 'max_leaf_nodes': None, 'max_samples': None, 'min_impurity_decrease': 0.0, 'min_samples_leaf': 1, 'min_samples_split': 2, 'min_weight_fraction_leaf': 0.0, 'n_estimators': 50, 'n_jobs': None, 'oob_score': False, 'random_state': None, 'verbose': 0, 'warm_start': False}   \n",
       "\n",
       "                        confusion  accuracy  precision    recall        f1  \\\n",
       "99   [[52112 19548] [1268  2802]]  0.725129   0.125369  0.688452  0.212112   \n",
       "207  [[52112 19548] [1268  2802]]  0.725129   0.125369  0.688452  0.212112   \n",
       "81   [[51555 20105] [1207  2863]]  0.718579   0.124652  0.703440  0.211776   \n",
       "2    [[51555 20105] [1207  2863]]  0.718579   0.124652  0.703440  0.211776   \n",
       "135  [[51539 20121] [1207  2863]]  0.718368   0.124565  0.703440  0.211651   \n",
       "54   [[51332 20328] [1190  2880]]  0.715859   0.124095  0.707617  0.211159   \n",
       "\n",
       "      roc_auc  \n",
       "99   0.771558  \n",
       "207  0.771485  \n",
       "81   0.777142  \n",
       "2    0.776938  \n",
       "135  0.777004  \n",
       "54   0.776555  "
      ]
     },
     "execution_count": 24,
     "metadata": {},
     "output_type": "execute_result"
    }
   ],
   "source": [
    "rf_temp"
   ]
  },
  {
   "cell_type": "code",
   "execution_count": 25,
   "id": "deb3f746",
   "metadata": {
    "ExecuteTime": {
     "end_time": "2022-12-29T13:45:35.103512Z",
     "start_time": "2022-12-29T13:45:35.091535Z"
    }
   },
   "outputs": [],
   "source": [
    "rf_temp.to_csv(save_path + \"RandomForest_final.csv\", index=False)"
   ]
  }
 ],
 "metadata": {
  "kernelspec": {
   "display_name": "eduvenv",
   "language": "python",
   "name": "eduvenv"
  },
  "language_info": {
   "codemirror_mode": {
    "name": "ipython",
    "version": 3
   },
   "file_extension": ".py",
   "mimetype": "text/x-python",
   "name": "python",
   "nbconvert_exporter": "python",
   "pygments_lexer": "ipython3",
   "version": "3.9.15"
  },
  "toc": {
   "base_numbering": 1,
   "nav_menu": {},
   "number_sections": true,
   "sideBar": true,
   "skip_h1_title": false,
   "title_cell": "Table of Contents",
   "title_sidebar": "Contents",
   "toc_cell": false,
   "toc_position": {
    "height": "calc(100% - 180px)",
    "left": "10px",
    "top": "150px",
    "width": "256px"
   },
   "toc_section_display": true,
   "toc_window_display": false
  },
  "varInspector": {
   "cols": {
    "lenName": 16,
    "lenType": 16,
    "lenVar": 40
   },
   "kernels_config": {
    "python": {
     "delete_cmd_postfix": "",
     "delete_cmd_prefix": "del ",
     "library": "var_list.py",
     "varRefreshCmd": "print(var_dic_list())"
    },
    "r": {
     "delete_cmd_postfix": ") ",
     "delete_cmd_prefix": "rm(",
     "library": "var_list.r",
     "varRefreshCmd": "cat(var_dic_list()) "
    }
   },
   "position": {
    "height": "498.844px",
    "left": "1545px",
    "right": "20px",
    "top": "142px",
    "width": "350px"
   },
   "types_to_exclude": [
    "module",
    "function",
    "builtin_function_or_method",
    "instance",
    "_Feature"
   ],
   "window_display": false
  }
 },
 "nbformat": 4,
 "nbformat_minor": 5
}

{
 "cells": [
  {
   "cell_type": "markdown",
   "id": "304de2a1",
   "metadata": {},
   "source": [
    "# 기본 준비"
   ]
  },
  {
   "cell_type": "code",
   "execution_count": 2,
   "id": "cdd43360",
   "metadata": {
    "ExecuteTime": {
     "end_time": "2022-12-23T07:30:00.704067Z",
     "start_time": "2022-12-23T07:30:00.695066Z"
    }
   },
   "outputs": [],
   "source": [
    "import pandas as pd\n",
    "import numpy as np\n",
    "import matplotlib.pyplot as plt\n",
    "import matplotlib.ticker as ticker\n",
    "\n",
    "%matplotlib inline\n",
    "\n",
    "from sklearn.model_selection import train_test_split\n",
    "from sklearn.metrics import accuracy_score, precision_score, recall_score, roc_auc_score\n",
    "from sklearn.metrics import f1_score, confusion_matrix, precision_recall_curve, roc_curve\n",
    "from sklearn.preprocessing import Binarizer"
   ]
  },
  {
   "cell_type": "code",
   "execution_count": 3,
   "id": "f5118ab9",
   "metadata": {
    "ExecuteTime": {
     "end_time": "2022-12-23T07:30:01.634487Z",
     "start_time": "2022-12-23T07:30:01.610481Z"
    }
   },
   "outputs": [],
   "source": [
    "# 오차행렬 및 평가지표 출력\n",
    "def get_clf_eval(y_test, pred=None, pred_proba=None):\n",
    "    confusion = confusion_matrix( y_test, pred)\n",
    "    accuracy = accuracy_score(y_test , pred)\n",
    "    precision = precision_score(y_test , pred)\n",
    "    recall = recall_score(y_test , pred)\n",
    "    f1 = f1_score(y_test,pred)\n",
    "\n",
    "    roc_auc = roc_auc_score(y_test, pred_proba)\n",
    "    print('오차 행렬')\n",
    "    print(confusion)\n",
    "\n",
    "    print('정확도: {0:.4f}, 정밀도: {1:.4f}, 재현율: {2:.4f}, F1: {3:.4f}, AUC:{4:.4f}'.format(accuracy, precision, recall, f1, roc_auc))\n",
    "\n",
    "\n",
    "# 임계값 조정\n",
    "# def get_eval_by_threshold(y_test, pred, pred_proba_c1, thresholds):\n",
    "#     pred_proba_c1 = pred_proba_c1.reshape(-1, 1)\n",
    "#     for custom_threshold in thresholds:\n",
    "#         bina = Binarizer(threshold=custom_threshold).fit(pred_proba_c1)\n",
    "#         custom_predict = bina.transform(pred_proba_c1)\n",
    "#         print('분류 임계값 :', custom_threshold)\n",
    "#         get_clf_eval(y_test, pred, custom_predict)\n",
    "def get_eval_by_threshold(y_test, pred, pred_proba_c1, thresholds):\n",
    "    pred_proba_c1 = pred_proba_c1.reshape(-1, 1)\n",
    "    for custom_threshold in thresholds:\n",
    "        bina = Binarizer(threshold=custom_threshold).fit(pred_proba_c1)\n",
    "        custom_predict = bina.transform(pred_proba_c1)\n",
    "        print('분류 임계값 :', custom_threshold)\n",
    "        get_clf_eval(y_test, custom_predict, pred_proba_c1) #바뀐 부분 \n",
    "\n",
    "\n",
    "# precision recall curve 그리기\n",
    "def precision_recall_curve_plot(y_test, pred_proba_c1): \n",
    "    precisions, recalls, thresholds = precision_recall_curve(y_test, pred_proba_c1)\n",
    "    \n",
    "    plt.figure(figsize=(8,6))\n",
    "    threshold_boundary = thresholds.shape[0]\n",
    "\n",
    "    plt.plot(thresholds, precisions[0:threshold_boundary], linestyle='--', label='precision') \n",
    "    plt.plot(thresholds, recalls[0:threshold_boundary],label='recall')\n",
    "\n",
    "    start, end = plt.xlim() # X축 범위 반환\n",
    "    plt.xticks(np.round(np.arange(start, end, 0.1),2))\n",
    "    \n",
    "    plt.xlabel('Threshold value'); plt.ylabel('Precision and Recall value')\n",
    "    plt.legend(); plt.grid()\n",
    "    plt.show()"
   ]
  },
  {
   "cell_type": "code",
   "execution_count": 4,
   "id": "321274dd",
   "metadata": {
    "ExecuteTime": {
     "end_time": "2022-12-23T07:12:36.946731Z",
     "start_time": "2022-12-23T07:12:35.124012Z"
    }
   },
   "outputs": [],
   "source": [
    "brfss = pd.read_csv(\"../data/brfss.csv\") #지금 쓰는 데이터.\n",
    "# checkup = pd.read_csv(\"../data/checkup.csv\") #지금은 안 씀. 좋은 모델 나오면 넣을 예정"
   ]
  },
  {
   "cell_type": "markdown",
   "id": "67bb5901",
   "metadata": {},
   "source": [
    "### 데이터 분할"
   ]
  },
  {
   "cell_type": "code",
   "execution_count": 5,
   "id": "3f0c8b79",
   "metadata": {
    "ExecuteTime": {
     "end_time": "2022-12-23T07:12:37.022125Z",
     "start_time": "2022-12-23T07:12:37.010277Z"
    }
   },
   "outputs": [],
   "source": [
    "# X = brfss.drop([\"HEARTDISEASE\"], axis=1)\n",
    "X = brfss.drop([\"HEARTDISEASE\", \"ALCOHOL\"], axis=1) #ALCOHOL은 안 쓰기로 해서 같이 뺐음. #독립\n",
    "y = brfss[\"HEARTDISEASE\"] # 종속"
   ]
  },
  {
   "cell_type": "code",
   "execution_count": 6,
   "id": "806f3cc3",
   "metadata": {
    "ExecuteTime": {
     "end_time": "2022-12-23T07:12:37.129299Z",
     "start_time": "2022-12-23T07:12:37.101369Z"
    }
   },
   "outputs": [
    {
     "data": {
      "text/plain": [
       "0.0    358424\n",
       "1.0     20222\n",
       "Name: HEARTDISEASE, dtype: int64"
      ]
     },
     "execution_count": 6,
     "metadata": {},
     "output_type": "execute_result"
    }
   ],
   "source": [
    "y.value_counts()"
   ]
  },
  {
   "cell_type": "code",
   "execution_count": 7,
   "id": "741a46dd",
   "metadata": {
    "ExecuteTime": {
     "end_time": "2022-12-23T07:14:03.089962Z",
     "start_time": "2022-12-23T07:14:01.904146Z"
    }
   },
   "outputs": [
    {
     "data": {
      "text/plain": [
       "0.0    286705\n",
       "1.0    286705\n",
       "Name: HEARTDISEASE, dtype: int64"
      ]
     },
     "execution_count": 7,
     "metadata": {},
     "output_type": "execute_result"
    }
   ],
   "source": [
    "from sklearn.model_selection import train_test_split\n",
    "from imblearn.over_sampling import SMOTE\n",
    "from sklearn.preprocessing import StandardScaler, MinMaxScaler\n",
    "\n",
    "X_train, X_test, y_train, y_test = train_test_split(X, y, test_size=.2) #X가 input, y가 target\n",
    "\n",
    "# scaler #안씀\n",
    "#scaler = StandardScaler()\n",
    "# scaler = MinMaxScaler()\n",
    "#scaler.fit(X_train)\n",
    "#X_train = scaler.transform(X_train)\n",
    "#X_test = scaler.transform(X_test)\n",
    "\n",
    "# smote #smote는 불균형한 데이터에 대해서 숫자를 맞춰준다. #sklearn smote 검색해보자.\n",
    "smote = SMOTE()\n",
    "X_train, y_train = smote.fit_resample(X_train, y_train)\n",
    "y_train.value_counts()"
   ]
  },
  {
   "cell_type": "markdown",
   "id": "59723c0d",
   "metadata": {},
   "source": [
    "# 할 일\n",
    "- 하이퍼 파라미터 튜닝\n",
    "    - 각 모델 document 보면서 찾아보기(linear regression의 경우 parameter라고 되어있는 부분. 그 사이트에서 1번째와 3번째만 설정해주면 됨.)\n",
    "- 임계점 변경\n",
    "    - 변경해보면서 최적값 찾기"
   ]
  },
  {
   "cell_type": "markdown",
   "id": "5e280016",
   "metadata": {},
   "source": [
    "# 박민정"
   ]
  },
  {
   "cell_type": "markdown",
   "id": "25ca6152",
   "metadata": {},
   "source": [
    "## DecisionTree"
   ]
  },
  {
   "cell_type": "code",
   "execution_count": 30,
   "id": "881f303f",
   "metadata": {
    "ExecuteTime": {
     "end_time": "2022-12-23T07:31:39.982536Z",
     "start_time": "2022-12-23T07:31:38.708853Z"
    }
   },
   "outputs": [
    {
     "name": "stdout",
     "output_type": "stream",
     "text": [
      "0.7110940579381552\n",
      "0.6567014393239139\n",
      "오차 행렬\n",
      "[[46698 25041]\n",
      " [  957  3034]]\n",
      "정확도: 0.6567, 정밀도: 0.1081, 재현율: 0.7602, F1: 0.1892, AUC:0.7696\n",
      "분류 임계값 : 0.5\n",
      "오차 행렬\n",
      "[[46698 25041]\n",
      " [  957  3034]]\n",
      "정확도: 0.6567, 정밀도: 0.1081, 재현율: 0.7602, F1: 0.1892, AUC:0.7056\n",
      "분류 임계값 : 0.55\n",
      "오차 행렬\n",
      "[[46698 25041]\n",
      " [  957  3034]]\n",
      "정확도: 0.6567, 정밀도: 0.1081, 재현율: 0.7602, F1: 0.1892, AUC:0.7048\n",
      "분류 임계값 : 0.6\n",
      "오차 행렬\n",
      "[[46698 25041]\n",
      " [  957  3034]]\n",
      "정확도: 0.6567, 정밀도: 0.1081, 재현율: 0.7602, F1: 0.1892, AUC:0.6923\n"
     ]
    }
   ],
   "source": [
    "from sklearn.tree import DecisionTreeClassifier\n",
    "\n",
    "model = DecisionTreeClassifier()\n",
    "model.fit(X_train, y_train)\n",
    "print(model.score(X_train, y_train))\n",
    "print(model.score(X_test, y_test))\n",
    "\n",
    "pred = model.predict(X_test)\n",
    "pred_proba = model.predict_proba(X_test)[:,1]\n",
    "\n",
    "get_clf_eval(y_test, pred, pred_proba)\n",
    "\n",
    "# 임계값 조정 예시\n",
    "thresholds = [0.5, 0.55, 0.6]\n",
    "get_eval_by_threshold(y_test, pred, pred_proba, thresholds) # pred는 X_test로 이진분류"
   ]
  },
  {
   "cell_type": "code",
   "execution_count": 31,
   "id": "1be5bc33",
   "metadata": {
    "ExecuteTime": {
     "end_time": "2022-12-23T07:35:26.005953Z",
     "start_time": "2022-12-23T07:35:25.774938Z"
    }
   },
   "outputs": [
    {
     "data": {
      "image/png": "[encoded data removed]",
      "text/plain": [
       "<Figure size 800x600 with 1 Axes>"
      ]
     },
     "metadata": {},
     "output_type": "display_data"
    }
   ],
   "source": [
    "# 임계값 그래프\n",
    "precision_recall_curve_plot(y_test, pred_proba)"
   ]
  },
  {
   "cell_type": "markdown",
   "id": "068e133a",
   "metadata": {
    "ExecuteTime": {
     "end_time": "2022-12-23T05:30:52.564141Z",
     "start_time": "2022-12-23T05:30:52.556165Z"
    }
   },
   "source": [
    "## SGDClassifier"
   ]
  },
  {
   "cell_type": "code",
   "execution_count": 17,
   "id": "705da419",
   "metadata": {
    "ExecuteTime": {
     "end_time": "2022-12-23T07:14:11.394518Z",
     "start_time": "2022-12-23T07:14:10.210298Z"
    }
   },
   "outputs": [
    {
     "name": "stdout",
     "output_type": "stream",
     "text": [
      "0.7078343826848283\n",
      "0.6706589198468242\n",
      "오차 행렬\n",
      "[[47835 23904]\n",
      " [ 1037  2954]]\n",
      "정확도: 0.6707, 정밀도: 0.1100, 재현율: 0.7402, F1: 0.1915, AUC:0.7691\n"
     ]
    }
   ],
   "source": [
    "from sklearn.linear_model import SGDClassifier\n",
    "model = SGDClassifier(loss=\"log_loss\", max_iter=10)\n",
    "model.fit(X_train, y_train)\n",
    "print(model.score(X_train, y_train))\n",
    "print(model.score(X_test, y_test))\n",
    "\n",
    "pred = model.predict(X_test)\n",
    "pred_proba = model.predict_proba(X_test)[:,1]\n",
    "\n",
    "get_clf_eval(y_test, pred, pred_proba)"
   ]
  },
  {
   "cell_type": "markdown",
   "id": "a1111a24",
   "metadata": {},
   "source": [
    "## SVM"
   ]
  },
  {
   "cell_type": "code",
   "execution_count": null,
   "id": "ef3a2eeb",
   "metadata": {
    "ExecuteTime": {
     "start_time": "2022-12-23T06:42:41.322Z"
    }
   },
   "outputs": [],
   "source": [
    "from sklearn.svm import SVC\n",
    "\n",
    "model = SVC()\n",
    "model.fit(X_train, y_train)\n",
    "\n",
    "print(model.score(X_train, y_train))\n",
    "print(model.score(X_test, y_test))\n",
    "\n",
    "pred = model.predict(X_test)\n",
    "pred_proba = model.predict_proba(X_test)[:,1]\n",
    "\n",
    "get_clf_eval(y_test, pred, pred_proba)"
   ]
  },
  {
   "cell_type": "markdown",
   "id": "643e261e",
   "metadata": {
    "ExecuteTime": {
     "end_time": "2022-12-23T07:17:42.418304Z",
     "start_time": "2022-12-23T07:17:42.401992Z"
    }
   },
   "source": [
    "# 서대훈"
   ]
  },
  {
   "cell_type": "markdown",
   "id": "76a8713d",
   "metadata": {
    "ExecuteTime": {
     "end_time": "2022-12-23T05:24:49.030333Z",
     "start_time": "2022-12-23T05:24:49.017366Z"
    }
   },
   "source": [
    "## Linear Regression"
   ]
  },
  {
   "cell_type": "code",
   "execution_count": 13,
   "id": "974f41d5",
   "metadata": {
    "ExecuteTime": {
     "end_time": "2022-12-23T07:14:06.530163Z",
     "start_time": "2022-12-23T07:14:06.335741Z"
    }
   },
   "outputs": [
    {
     "name": "stdout",
     "output_type": "stream",
     "text": [
      "[ 0.0808299  -0.02837408 -0.02276224  0.02549588  0.03482592  0.06061014\n",
      "  0.1309127   0.02734977  0.0688589 ] 0.39990858803270196\n",
      "0.22403821098507737\n",
      "-2.7871204589812497\n"
     ]
    }
   ],
   "source": [
    "from sklearn.linear_model import LinearRegression\n",
    "\n",
    "model = LinearRegression() #선형회귀는 분류를 하는 알고리즘이 아니다. 분류를 1, 0으로 넣으면 0에 가까운 값을 만들고 1에 가까운 값을 만들겠다는 게 된다.\n",
    "model.fit(X_train, y_train) #X가 input, y가 target\n",
    "\n",
    "#기울기와 절편을 찾아내는 것이 선형회귀 알고리즘의 목적\n",
    "print(model.coef_, model.intercept_) #특성별 기울기 9개와 절편값\n",
    "#model.score(X_test, y_test)\n",
    "\n",
    "\n",
    "print(model.score(X_train, y_train))\n",
    "print(model.score(X_test, y_test))\n",
    "\n"
   ]
  },
  {
   "cell_type": "markdown",
   "id": "1fd096ee",
   "metadata": {},
   "source": [
    "## LightGBM(머신러닝_5_3_2_LightGBM.ipynb)"
   ]
  },
  {
   "cell_type": "code",
   "execution_count": 13,
   "id": "27249739",
   "metadata": {
    "ExecuteTime": {
     "end_time": "2022-12-23T07:13:20.852482Z",
     "start_time": "2022-12-23T07:13:16.623714Z"
    }
   },
   "outputs": [
    {
     "name": "stderr",
     "output_type": "stream",
     "text": [
      "C:\\anaconda3\\envs\\data_venv\\lib\\site-packages\\lightgbm\\sklearn.py:726: UserWarning: 'early_stopping_rounds' argument is deprecated and will be removed in a future release of LightGBM. Pass 'early_stopping()' callback via 'callbacks' argument instead.\n",
      "  _log_warning(\"'early_stopping_rounds' argument is deprecated and will be removed in a future release of LightGBM. \"\n",
      "C:\\anaconda3\\envs\\data_venv\\lib\\site-packages\\lightgbm\\sklearn.py:736: UserWarning: 'verbose' argument is deprecated and will be removed in a future release of LightGBM. Pass 'log_evaluation()' callback via 'callbacks' argument instead.\n",
      "  _log_warning(\"'verbose' argument is deprecated and will be removed in a future release of LightGBM. \"\n"
     ]
    },
    {
     "name": "stdout",
     "output_type": "stream",
     "text": [
      "[1]\tvalid_0's binary_logloss: 0.686401\n",
      "[2]\tvalid_0's binary_logloss: 0.680063\n",
      "[3]\tvalid_0's binary_logloss: 0.674114\n",
      "[4]\tvalid_0's binary_logloss: 0.668517\n",
      "[5]\tvalid_0's binary_logloss: 0.663226\n",
      "[6]\tvalid_0's binary_logloss: 0.658246\n",
      "[7]\tvalid_0's binary_logloss: 0.653495\n",
      "[8]\tvalid_0's binary_logloss: 0.649017\n",
      "[9]\tvalid_0's binary_logloss: 0.644764\n",
      "[10]\tvalid_0's binary_logloss: 0.640763\n",
      "[11]\tvalid_0's binary_logloss: 0.63684\n",
      "[12]\tvalid_0's binary_logloss: 0.633131\n",
      "[13]\tvalid_0's binary_logloss: 0.629678\n",
      "[14]\tvalid_0's binary_logloss: 0.626175\n",
      "[15]\tvalid_0's binary_logloss: 0.62305\n",
      "[16]\tvalid_0's binary_logloss: 0.619867\n",
      "[17]\tvalid_0's binary_logloss: 0.616953\n",
      "[18]\tvalid_0's binary_logloss: 0.614082\n",
      "[19]\tvalid_0's binary_logloss: 0.611321\n",
      "[20]\tvalid_0's binary_logloss: 0.608695\n",
      "[21]\tvalid_0's binary_logloss: 0.606245\n",
      "[22]\tvalid_0's binary_logloss: 0.603809\n",
      "[23]\tvalid_0's binary_logloss: 0.601524\n",
      "[24]\tvalid_0's binary_logloss: 0.599333\n",
      "[25]\tvalid_0's binary_logloss: 0.597137\n",
      "[26]\tvalid_0's binary_logloss: 0.595163\n",
      "[27]\tvalid_0's binary_logloss: 0.593052\n",
      "[28]\tvalid_0's binary_logloss: 0.59121\n",
      "[29]\tvalid_0's binary_logloss: 0.589356\n",
      "[30]\tvalid_0's binary_logloss: 0.587593\n",
      "[31]\tvalid_0's binary_logloss: 0.585835\n",
      "[32]\tvalid_0's binary_logloss: 0.584239\n",
      "[33]\tvalid_0's binary_logloss: 0.582708\n",
      "[34]\tvalid_0's binary_logloss: 0.581174\n",
      "[35]\tvalid_0's binary_logloss: 0.579565\n",
      "[36]\tvalid_0's binary_logloss: 0.578208\n",
      "[37]\tvalid_0's binary_logloss: 0.576748\n",
      "[38]\tvalid_0's binary_logloss: 0.575338\n",
      "[39]\tvalid_0's binary_logloss: 0.574089\n",
      "[40]\tvalid_0's binary_logloss: 0.572804\n",
      "[41]\tvalid_0's binary_logloss: 0.571604\n",
      "[42]\tvalid_0's binary_logloss: 0.570363\n",
      "[43]\tvalid_0's binary_logloss: 0.569256\n",
      "[44]\tvalid_0's binary_logloss: 0.568111\n",
      "[45]\tvalid_0's binary_logloss: 0.566893\n",
      "[46]\tvalid_0's binary_logloss: 0.56573\n",
      "[47]\tvalid_0's binary_logloss: 0.564653\n",
      "[48]\tvalid_0's binary_logloss: 0.563573\n",
      "[49]\tvalid_0's binary_logloss: 0.56253\n",
      "[50]\tvalid_0's binary_logloss: 0.561528\n",
      "[51]\tvalid_0's binary_logloss: 0.560338\n",
      "[52]\tvalid_0's binary_logloss: 0.559279\n",
      "[53]\tvalid_0's binary_logloss: 0.558368\n",
      "[54]\tvalid_0's binary_logloss: 0.557366\n",
      "[55]\tvalid_0's binary_logloss: 0.556241\n",
      "[56]\tvalid_0's binary_logloss: 0.555314\n",
      "[57]\tvalid_0's binary_logloss: 0.554138\n",
      "[58]\tvalid_0's binary_logloss: 0.553101\n",
      "[59]\tvalid_0's binary_logloss: 0.551935\n",
      "[60]\tvalid_0's binary_logloss: 0.551092\n",
      "[61]\tvalid_0's binary_logloss: 0.550017\n",
      "[62]\tvalid_0's binary_logloss: 0.549024\n",
      "[63]\tvalid_0's binary_logloss: 0.547957\n",
      "[64]\tvalid_0's binary_logloss: 0.54718\n",
      "[65]\tvalid_0's binary_logloss: 0.546265\n",
      "[66]\tvalid_0's binary_logloss: 0.545334\n",
      "[67]\tvalid_0's binary_logloss: 0.54445\n",
      "[68]\tvalid_0's binary_logloss: 0.543595\n",
      "[69]\tvalid_0's binary_logloss: 0.54275\n",
      "[70]\tvalid_0's binary_logloss: 0.54187\n",
      "[71]\tvalid_0's binary_logloss: 0.541057\n",
      "[72]\tvalid_0's binary_logloss: 0.54028\n",
      "[73]\tvalid_0's binary_logloss: 0.539384\n",
      "[74]\tvalid_0's binary_logloss: 0.538574\n",
      "[75]\tvalid_0's binary_logloss: 0.537643\n",
      "[76]\tvalid_0's binary_logloss: 0.536745\n",
      "[77]\tvalid_0's binary_logloss: 0.53592\n",
      "[78]\tvalid_0's binary_logloss: 0.535169\n",
      "[79]\tvalid_0's binary_logloss: 0.534326\n",
      "[80]\tvalid_0's binary_logloss: 0.533612\n",
      "[81]\tvalid_0's binary_logloss: 0.532941\n",
      "[82]\tvalid_0's binary_logloss: 0.532338\n",
      "[83]\tvalid_0's binary_logloss: 0.531595\n",
      "[84]\tvalid_0's binary_logloss: 0.531047\n",
      "[85]\tvalid_0's binary_logloss: 0.530428\n",
      "[86]\tvalid_0's binary_logloss: 0.529747\n",
      "[87]\tvalid_0's binary_logloss: 0.529143\n",
      "[88]\tvalid_0's binary_logloss: 0.528506\n",
      "[89]\tvalid_0's binary_logloss: 0.527766\n",
      "[90]\tvalid_0's binary_logloss: 0.527177\n",
      "[91]\tvalid_0's binary_logloss: 0.526467\n",
      "[92]\tvalid_0's binary_logloss: 0.525991\n",
      "[93]\tvalid_0's binary_logloss: 0.525328\n",
      "[94]\tvalid_0's binary_logloss: 0.524652\n",
      "[95]\tvalid_0's binary_logloss: 0.52421\n",
      "[96]\tvalid_0's binary_logloss: 0.52371\n",
      "[97]\tvalid_0's binary_logloss: 0.523184\n",
      "[98]\tvalid_0's binary_logloss: 0.522682\n",
      "[99]\tvalid_0's binary_logloss: 0.522262\n",
      "[100]\tvalid_0's binary_logloss: 0.521723\n",
      "0.7421321567464816\n",
      "0.7144328535586953\n",
      "오차 행렬\n",
      "[[51389 20330]\n",
      " [ 1296  2715]]\n",
      "정확도: 0.7144, 정밀도: 0.1178, 재현율: 0.6769, F1: 0.2007, AUC:0.7612\n",
      "분류 임계값 : 0.4\n",
      "오차 행렬\n",
      "[[43500 28219]\n",
      " [  868  3143]]\n",
      "정확도: 0.6159, 정밀도: 0.1002, 재현율: 0.7836, F1: 0.1777, AUC:0.7612\n",
      "분류 임계값 : 0.5\n",
      "오차 행렬\n",
      "[[51389 20330]\n",
      " [ 1296  2715]]\n",
      "정확도: 0.7144, 정밀도: 0.1178, 재현율: 0.6769, F1: 0.2007, AUC:0.7612\n",
      "분류 임계값 : 0.6\n",
      "오차 행렬\n",
      "[[61590 10129]\n",
      " [ 2153  1858]]\n",
      "정확도: 0.8378, 정밀도: 0.1550, 재현율: 0.4632, F1: 0.2323, AUC:0.7612\n",
      "분류 임계값 : 0.625\n",
      "오차 행렬\n",
      "[[62604  9115]\n",
      " [ 2292  1719]]\n",
      "정확도: 0.8494, 정밀도: 0.1587, 재현율: 0.4286, F1: 0.2316, AUC:0.7612\n",
      "분류 임계값 : 0.65\n",
      "오차 행렬\n",
      "[[63460  8259]\n",
      " [ 2450  1561]]\n",
      "정확도: 0.8586, 정밀도: 0.1590, 재현율: 0.3892, F1: 0.2257, AUC:0.7612\n",
      "분류 임계값 : 0.675\n",
      "오차 행렬\n",
      "[[67393  4326]\n",
      " [ 2976  1035]]\n",
      "정확도: 0.9036, 정밀도: 0.1931, 재현율: 0.2580, F1: 0.2209, AUC:0.7612\n",
      "분류 임계값 : 0.7\n",
      "오차 행렬\n",
      "[[69141  2578]\n",
      " [ 3253   758]]\n",
      "정확도: 0.9230, 정밀도: 0.2272, 재현율: 0.1890, F1: 0.2063, AUC:0.7612\n",
      "분류 임계값 : 0.8\n"
     ]
    },
    {
     "name": "stderr",
     "output_type": "stream",
     "text": [
      "C:\\anaconda3\\envs\\data_venv\\lib\\site-packages\\sklearn\\metrics\\_classification.py:1318: UndefinedMetricWarning: Precision is ill-defined and being set to 0.0 due to no predicted samples. Use `zero_division` parameter to control this behavior.\n",
      "  _warn_prf(average, modifier, msg_start, len(result))\n",
      "C:\\anaconda3\\envs\\data_venv\\lib\\site-packages\\sklearn\\metrics\\_classification.py:1318: UndefinedMetricWarning: Precision is ill-defined and being set to 0.0 due to no predicted samples. Use `zero_division` parameter to control this behavior.\n",
      "  _warn_prf(average, modifier, msg_start, len(result))\n"
     ]
    },
    {
     "name": "stdout",
     "output_type": "stream",
     "text": [
      "오차 행렬\n",
      "[[71719     0]\n",
      " [ 4011     0]]\n",
      "정확도: 0.9470, 정밀도: 0.0000, 재현율: 0.0000, F1: 0.0000, AUC:0.7612\n",
      "분류 임계값 : 0.9\n",
      "오차 행렬\n",
      "[[71719     0]\n",
      " [ 4011     0]]\n",
      "정확도: 0.9470, 정밀도: 0.0000, 재현율: 0.0000, F1: 0.0000, AUC:0.7612\n"
     ]
    }
   ],
   "source": [
    "from lightgbm import LGBMClassifier\n",
    "\n",
    "#하이퍼 파라미터\n",
    "# n_estimators: 기본값 100\n",
    "# max_depth: 기본값 -1(무한대)\n",
    "# min_child_samples: 기본값 20\n",
    "# num_leaves: 기본값 31\n",
    "\n",
    "\n",
    "model = LGBMClassifier(n_estimators=100, max_depth=5, min_child_samples=15, num_leaves=9, learning_rate=0.03)\n",
    "\n",
    "evals = [(X_test, y_test)]\n",
    "model.fit(X_train, y_train,\n",
    "         early_stopping_rounds=100,\n",
    "         eval_metric = 'logloss',\n",
    "         eval_set = evals,\n",
    "         verbose = True)\n",
    "\n",
    "print(model.score(X_train, y_train))\n",
    "print(model.score(X_test, y_test))\n",
    "\n",
    "pred = model.predict(X_test) #predict()는 그 데이터가 0이냐 1이냐 라벨로 결과를 주고\n",
    "pred_proba = model.predict_proba(X_test)[:,1] #predict_proba는 0일 확률과 1일 확률을 둘이 합해서 1이 나오게끔 숫자를 각각 넘겨준다. 뒤에 [:,1]을 주는 이유는 0일 확률이나 1일 확률 중에 1일 확률 하나만 갖고오기 위함이다.\n",
    "\n",
    "get_clf_eval(y_test, pred, pred_proba)\n",
    "\n",
    "# 임계값 조정 예시 #임곗값은 머신러닝_04_0_0 참고\n",
    "thresholds = [0.4, 0.5, 0.6, 0.625, 0.65, 0.675, 0.7, 0.8, 0.9]\n",
    "get_eval_by_threshold(y_test, pred, pred_proba, thresholds) # pred는 X_test로 이진분류"
   ]
  },
  {
   "cell_type": "code",
   "execution_count": 14,
   "id": "0fbb07c6-40c8-4394-8bb7-714e99532001",
   "metadata": {},
   "outputs": [
    {
     "data": {
      "image/png": "[encoded data removed]",
      "text/plain": [
       "<Figure size 800x600 with 1 Axes>"
      ]
     },
     "metadata": {},
     "output_type": "display_data"
    }
   ],
   "source": [
    "# 임계값 그래프\n",
    "precision_recall_curve_plot(y_test, pred_proba)"
   ]
  },
  {
   "cell_type": "markdown",
   "id": "af62c849",
   "metadata": {
    "ExecuteTime": {
     "end_time": "2022-12-23T06:30:17.390180Z",
     "start_time": "2022-12-23T06:30:17.382142Z"
    }
   },
   "source": [
    "## Random Forest(머신러닝_5_3_0)"
   ]
  },
  {
   "cell_type": "markdown",
   "id": "a5e792b1-8906-413e-a9b4-952df6324556",
   "metadata": {},
   "source": [
    "랜덤 포레스트는 대표적인 Bagging 방식이다.\n",
    "- Bagging 방식은 여러 분류기가 투표를 통해 최종 예측 결과를 결정하는 방식인데, 각각의 분류기가 모두 같은 유형의 알고리즘 기반이지만 샘플링을 서로 다르게 하면서 학습을 수행한다."
   ]
  },
  {
   "cell_type": "code",
   "execution_count": 15,
   "id": "639295b0-a8b2-4a06-8c8d-b31a13c0e171",
   "metadata": {
    "ExecuteTime": {
     "end_time": "2022-12-23T06:31:47.526489Z",
     "start_time": "2022-12-23T06:31:11.700919Z"
    }
   },
   "outputs": [],
   "source": [
    "from sklearn.ensemble import RandomForestClassifier\n",
    "import warnings\n",
    "warnings.filterwarnings('ignore')"
   ]
  },
  {
   "cell_type": "markdown",
   "id": "36df1e98-2267-4c1a-bf6a-b3e7cc6ce366",
   "metadata": {},
   "source": [
    "### 하이퍼 파라미터 종류\n",
    "- n_estimators = 100\n",
    "    - 결정트리의 갯수를 지정. 무작정 늘리면 성능 좋아지는것 대비 시간이 걸릴 수 있음. \n",
    "- min_samples_split = 2\n",
    "    - 노드를 분할하기 위한 최소한의 샘플 데이터 수(과적합을 제어하는데 사용)\n",
    "    - 작게 설정할 수록 분할 노드가 많아져 과적합 가능성 증가\n",
    "- min_samples_leaf = 1\n",
    "    - 리프노드가 되기 위해 필요한 최소한의 샘플 데이터 수\n",
    "    - min_samples_split과 함께 과적합 제어 용도\n",
    "    - 불균형 데이터의 경우 특정 클래스의 데이터가 극도로 작을 수 있으므로 작게 설정 필요\n",
    "- max_features = auto\n",
    "    - 최적의 분할을 위해 고려할 최대 feature 개수\n",
    "    - sqrt 또는 auto: 전체 피처 중 √(피처개수) 만큼 선정\n",
    "    - log : 전체 피처 중 log2(전체 피처 개수) 만큼 선정\n",
    "- max_depth = None\n",
    "    - 트리의 최대 깊이\n",
    "    - 디폴트값 사용 시 완벽하게 클래스 값이 결정될때까지 분할\n",
    "        - 또는 데이터 개수가 min_samples_split보다 작아질 때까지 분할\n",
    "    - 깊이가 깊어지면 과적합 될 수 있으므로 적절히 제어 필요\n",
    "- max_leaf_nodes = None\n",
    "    - 리프노드의 최대 개수"
   ]
  },
  {
   "cell_type": "code",
   "execution_count": 51,
   "id": "b9e81ec1-9afd-42bf-ac93-8a8b310eb14f",
   "metadata": {
    "ExecuteTime": {
     "end_time": "2022-12-23T06:31:47.526489Z",
     "start_time": "2022-12-23T06:31:11.700919Z"
    }
   },
   "outputs": [
    {
     "name": "stdout",
     "output_type": "stream",
     "text": [
      "0.7798259535062172\n",
      "0.7661032615872178\n",
      "랜덤포레스트 정확도: 0.7661\n",
      "오차 행렬\n",
      "[[56008 15711]\n",
      " [ 2002  2009]]\n",
      "정확도: 0.7661, 정밀도: 0.1134, 재현율: 0.5009, F1: 0.1849, AUC:0.6988\n"
     ]
    }
   ],
   "source": [
    "\n",
    "\n",
    "model = RandomForestClassifier(n_estimators = 50, min_samples_split = 10, min_samples_leaf = 10) #하이퍼 파라미터 값 지정 필요\n",
    "model.fit(X_train, y_train)\n",
    "\n",
    "print(model.score(X_train, y_train))\n",
    "print(model.score(X_test, y_test))\n",
    "\n",
    "pred = model.predict(X_test)\n",
    "pred_proba = model.predict_proba(X_test)[:,1]\n",
    "accuracy = accuracy_score(y_test, pred)\n",
    "print('랜덤포레스트 정확도: {0:.4f}'.format(accuracy))\n",
    "get_clf_eval(y_test, pred, pred_proba)"
   ]
  },
  {
   "cell_type": "code",
   "execution_count": 49,
   "id": "18fc85fc-e322-4923-a9ae-1d09e521b3ad",
   "metadata": {},
   "outputs": [
    {
     "data": {
      "image/png": "[encoded data removed]",
      "text/plain": [
       "<Figure size 800x600 with 1 Axes>"
      ]
     },
     "metadata": {},
     "output_type": "display_data"
    }
   ],
   "source": [
    "# 임계값 그래프\n",
    "precision_recall_curve_plot(y_test, pred_proba)"
   ]
  },
  {
   "cell_type": "markdown",
   "id": "56f92f4d",
   "metadata": {},
   "source": [
    "# 손지호"
   ]
  },
  {
   "cell_type": "markdown",
   "id": "aa9df1a5",
   "metadata": {},
   "source": [
    "## Logistic Regression"
   ]
  },
  {
   "cell_type": "code",
   "execution_count": 16,
   "id": "cfaa4e55",
   "metadata": {
    "ExecuteTime": {
     "end_time": "2022-12-23T07:14:09.003437Z",
     "start_time": "2022-12-23T07:14:08.261998Z"
    }
   },
   "outputs": [
    {
     "name": "stdout",
     "output_type": "stream",
     "text": [
      "오차 행렬\n",
      "[[47869 23870]\n",
      " [ 1042  2949]]\n",
      "정확도: 0.6710, 정밀도: 0.1100, 재현율: 0.7389, F1: 0.1914, AUC:0.7695\n"
     ]
    }
   ],
   "source": [
    "from sklearn.linear_model import LogisticRegression\n",
    "\n",
    "model = LogisticRegression()\n",
    "model.fit(X_train, y_train)\n",
    "pred = model.predict(X_test)\n",
    "pred_proba = model.predict_proba(X_test)[:,1]\n",
    "\n",
    "get_clf_eval(y_test, pred, pred_proba)"
   ]
  },
  {
   "cell_type": "markdown",
   "id": "a5bb5c18",
   "metadata": {},
   "source": [
    "## XGBClassifier"
   ]
  },
  {
   "cell_type": "code",
   "execution_count": 12,
   "id": "564edf20",
   "metadata": {
    "ExecuteTime": {
     "end_time": "2022-12-23T07:13:13.763247Z",
     "start_time": "2022-12-23T07:12:59.423159Z"
    }
   },
   "outputs": [
    {
     "name": "stdout",
     "output_type": "stream",
     "text": [
      "0.7105453987644508\n",
      "0.6563977287732735\n",
      "오차 행렬\n",
      "[[46552 25036]\n",
      " [  985  3157]]\n",
      "정확도: 0.6564, 정밀도: 0.1120, 재현율: 0.7622, F1: 0.1953, AUC:0.7698\n"
     ]
    }
   ],
   "source": [
    "from xgboost import XGBClassifier\n",
    "\n",
    "model = XGBClassifier()\n",
    "model.fit(X_train, y_train)\n",
    "print(model.score(X_train, y_train))\n",
    "print(model.score(X_test, y_test))\n",
    "\n",
    "pred = model.predict(X_test)\n",
    "pred_proba = model.predict_proba(X_test)[:,1]\n",
    "\n",
    "get_clf_eval(y_test, pred, pred_proba)"
   ]
  },
  {
   "cell_type": "markdown",
   "id": "17ca4d07",
   "metadata": {},
   "source": [
    "## KNN Classifier"
   ]
  },
  {
   "cell_type": "code",
   "execution_count": null,
   "id": "da4bfdf0",
   "metadata": {
    "ExecuteTime": {
     "start_time": "2022-12-23T06:47:47.678Z"
    }
   },
   "outputs": [],
   "source": [
    "from sklearn.neighbors import KNeighborsClassifier\n",
    "\n",
    "model = KNeighborsClassifier()\n",
    "model.fit(X_train, y_train)\n",
    "\n",
    "print(model.score(X_train, y_train))\n",
    "print(model.score(X_test, y_test))\n",
    "\n",
    "pred = model.predict(X_test)\n",
    "pred_proba = model.predict_proba(X_test)[:,1]\n",
    "\n",
    "get_clf_eval(y_test, pred, pred_proba)"
   ]
  },
  {
   "cell_type": "code",
   "execution_count": null,
   "id": "d5517ecf",
   "metadata": {},
   "outputs": [],
   "source": []
  }
 ],
 "metadata": {
  "kernelspec": {
   "display_name": "eduvenv",
   "language": "python",
   "name": "eduvenv"
  },
  "language_info": {
   "codemirror_mode": {
    "name": "ipython",
    "version": 3
   },
   "file_extension": ".py",
   "mimetype": "text/x-python",
   "name": "python",
   "nbconvert_exporter": "python",
   "pygments_lexer": "ipython3",
   "version": "3.9.15"
  },
  "toc": {
   "base_numbering": 1,
   "nav_menu": {},
   "number_sections": true,
   "sideBar": true,
   "skip_h1_title": false,
   "title_cell": "Table of Contents",
   "title_sidebar": "Contents",
   "toc_cell": false,
   "toc_position": {},
   "toc_section_display": true,
   "toc_window_display": false
  },
  "varInspector": {
   "cols": {
    "lenName": 16,
    "lenType": 16,
    "lenVar": 40
   },
   "kernels_config": {
    "python": {
     "delete_cmd_postfix": "",
     "delete_cmd_prefix": "del ",
     "library": "var_list.py",
     "varRefreshCmd": "print(var_dic_list())"
    },
    "r": {
     "delete_cmd_postfix": ") ",
     "delete_cmd_prefix": "rm(",
     "library": "var_list.r",
     "varRefreshCmd": "cat(var_dic_list()) "
    }
   },
   "position": {
    "height": "498.844px",
    "left": "1550px",
    "right": "20px",
    "top": "120px",
    "width": "350px"
   },
   "types_to_exclude": [
    "module",
    "function",
    "builtin_function_or_method",
    "instance",
    "_Feature"
   ],
   "window_display": true
  }
 },
 "nbformat": 4,
 "nbformat_minor": 5
}

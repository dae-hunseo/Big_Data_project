{
 "cells": [
  {
   "cell_type": "markdown",
   "id": "304de2a1",
   "metadata": {},
   "source": [
    "# 기본 준비"
   ]
  },
  {
   "cell_type": "code",
   "execution_count": 1,
   "id": "cdd43360",
   "metadata": {
    "ExecuteTime": {
     "end_time": "2022-12-26T06:19:27.153225Z",
     "start_time": "2022-12-26T06:19:25.176360Z"
    }
   },
   "outputs": [],
   "source": [
    "import pandas as pd\n",
    "import numpy as np\n",
    "import copy\n",
    "\n",
    "import matplotlib.pyplot as plt\n",
    "import matplotlib.ticker as ticker\n",
    "\n",
    "%matplotlib inline\n",
    "\n",
    "from sklearn.model_selection import train_test_split\n",
    "from sklearn.model_selection import GridSearchCV\n",
    "from sklearn.metrics import accuracy_score, precision_score, recall_score, roc_auc_score\n",
    "from sklearn.metrics import f1_score, confusion_matrix, precision_recall_curve, roc_curve\n",
    "from sklearn.preprocessing import Binarizer\n",
    "from sklearn.preprocessing import StandardScaler, MinMaxScaler\n",
    "from imblearn.over_sampling import SMOTE"
   ]
  },
  {
   "cell_type": "code",
   "execution_count": 2,
   "id": "587481fe",
   "metadata": {
    "ExecuteTime": {
     "end_time": "2022-12-26T06:19:27.257947Z",
     "start_time": "2022-12-26T06:19:27.245979Z"
    }
   },
   "outputs": [],
   "source": [
    "from sklearn.tree import DecisionTreeClassifier\n",
    "from sklearn.linear_model import SGDClassifier\n",
    "from sklearn.svm import SVC, LinearSVC, NuSVC"
   ]
  },
  {
   "cell_type": "code",
   "execution_count": 3,
   "id": "f5118ab9",
   "metadata": {
    "ExecuteTime": {
     "end_time": "2022-12-26T06:19:28.690194Z",
     "start_time": "2022-12-26T06:19:28.668201Z"
    },
    "code_folding": []
   },
   "outputs": [],
   "source": [
    "# 오차행렬 및 평가지표 출력\n",
    "def get_clf_eval(y_test, pred=None, pred_proba=None):\n",
    "    confusion = confusion_matrix(y_test, pred)\n",
    "    accuracy = accuracy_score(y_test, pred)\n",
    "    precision = precision_score(y_test, pred)\n",
    "    recall = recall_score(y_test, pred)\n",
    "    f1 = f1_score(y_test, pred)\n",
    "    roc_auc = roc_auc_score(y_test, pred_proba)\n",
    "    \n",
    "    print('오차 행렬')\n",
    "    print(confusion)\n",
    "\n",
    "    print('정확도: {0:.4f}, 정밀도: {1:.4f}, 재현율: {2:.4f}, F1: {3:.4f}, AUC:{4:.4f}'.format(accuracy, precision, recall, f1, roc_auc))\n",
    "\n",
    "\n",
    "# 임계값 조정하여 오차행렬 및 평가지표 출력\n",
    "def get_eval_by_threshold(y_test, pred, pred_proba_c1, thresholds):\n",
    "    pred_proba_c1 = pred_proba_c1.reshape(-1, 1)\n",
    "    for custom_threshold in thresholds:\n",
    "        bina = Binarizer(threshold=custom_threshold).fit(pred_proba_c1)\n",
    "        custom_predict = bina.transform(pred_proba_c1)\n",
    "        print('분류 임계값 :', custom_threshold)\n",
    "        get_clf_eval(y_test, custom_predict, pred_proba_c1)\n",
    "    \n",
    "\n",
    "# 임계값별로 precison_recall_curve 그리기\n",
    "def precision_recall_curve_plot(y_test, pred_proba_c1): \n",
    "    precisions, recalls, thresholds = precision_recall_curve(y_test, pred_proba_c1)\n",
    "    \n",
    "    plt.figure(figsize=(8,6))\n",
    "    threshold_boundary = thresholds.shape[0]\n",
    "\n",
    "    plt.plot(thresholds, precisions[0:threshold_boundary], linestyle='--', label='precision') \n",
    "    plt.plot(thresholds, recalls[0:threshold_boundary],label='recall')\n",
    "\n",
    "    start, end = plt.xlim()\n",
    "    plt.xticks(np.round(np.arange(start, end, 0.1),2))\n",
    "    \n",
    "    plt.xlabel('Threshold value'); plt.ylabel('Precision and Recall value')\n",
    "    plt.legend(); plt.grid()\n",
    "    plt.show()"
   ]
  },
  {
   "cell_type": "code",
   "execution_count": 39,
   "id": "75ac8ada",
   "metadata": {
    "ExecuteTime": {
     "end_time": "2022-12-26T08:21:11.128092Z",
     "start_time": "2022-12-26T08:21:11.103199Z"
    }
   },
   "outputs": [],
   "source": [
    "def dict_to_params(model, params_dict):\n",
    "    for key, value in params_dict.items():\n",
    "        eval(f\"model.set_params({key}=value)\")\n",
    "    return model\n",
    "\n",
    "\n",
    "def grid_search_eval(model, params):\n",
    "    model_list = []\n",
    "    \n",
    "    gs = GridSearchCV(estimator=model, param_grid=params, scoring=[\"accuracy\", \"f1\", \"recall\", \"precision\"], \n",
    "                      refit=False, cv=3, verbose=2)\n",
    "    gs.fit(X_train, y_train)\n",
    "    \n",
    "    result = pd.DataFrame(gs.cv_results_)\n",
    "    \n",
    "    best_results = result[(result[\"rank_test_accuracy\"]<=3) | (result[\"rank_test_f1\"]<=3) | \n",
    "                          (result[\"rank_test_recall\"]<=3) | (result[\"rank_test_precision\"]<=3)]\n",
    "    \n",
    "    for best_params in best_results[\"params\"]:\n",
    "        model_list.append(dict_to_params(copy.deepcopy(model), best_params))\n",
    "    \n",
    "    for best_model in model_list:\n",
    "        best_model.fit(X_train, y_train)\n",
    "\n",
    "        pred = best_model.predict(X_test)\n",
    "        try:\n",
    "            pred_proba = best_model.predict_proba(X_test)[:,1]\n",
    "            print(\"=\"*100, \"\\n\", best_model)\n",
    "            print(best_model.score(X_train, y_train))\n",
    "            print(best_model.score(X_test, y_test))\n",
    "            get_clf_eval(y_test, pred, pred_proba)\n",
    "        except:\n",
    "            print(\"=\"*200)\n",
    "            print(\"=\"*100, \"\\n\", best_model)\n",
    "            print(best_model.score(X_train, y_train))\n",
    "            print(best_model.score(X_test, y_test))\n",
    "            get_clf_eval(y_test, pred)\n",
    "    \n",
    "    return model_list, result\n",
    "\n"
   ]
  },
  {
   "cell_type": "markdown",
   "id": "618c091f",
   "metadata": {},
   "source": [
    "## 데이터 준비"
   ]
  },
  {
   "cell_type": "code",
   "execution_count": 5,
   "id": "5c10fa5e",
   "metadata": {
    "ExecuteTime": {
     "end_time": "2022-12-26T06:19:36.943889Z",
     "start_time": "2022-12-26T06:19:36.927696Z"
    }
   },
   "outputs": [],
   "source": [
    "def prepare_data():\n",
    "    brfss = pd.read_csv(\"../data/brfss.csv\")\n",
    "    X = brfss.drop([\"HEARTDISEASE\", \"ALCOHOL\"], axis=1)\n",
    "    y = brfss[\"HEARTDISEASE\"]\n",
    "\n",
    "    X_train, X_test, y_train, y_test = train_test_split(X, y, test_size=.2)\n",
    "\n",
    "    smote = SMOTE()\n",
    "    X_train, y_train = smote.fit_resample(X_train, y_train)\n",
    "    print(y_train.value_counts())\n",
    "    \n",
    "    return X_train, X_test, y_train, y_test"
   ]
  },
  {
   "cell_type": "code",
   "execution_count": null,
   "id": "d8c9a64b",
   "metadata": {},
   "outputs": [],
   "source": [
    "brfss = pd.read_csv(\"../data/brfss.csv\")\n",
    "X = brfss.drop([\"HEARTDISEASE\", \"ALCOHOL\"], axis=1)\n",
    "y = brfss[\"HEARTDISEASE\"]\n",
    "\n",
    "X_train, X_test, y_train, y_test = train_test_split(X, y, test_size=.2)\n",
    "\n",
    "smote = SMOTE()\n",
    "X_train, y_train = smote.fit_resample(X_train, y_train)\n",
    "print(y_train.value_counts())"
   ]
  },
  {
   "cell_type": "markdown",
   "id": "67bb5901",
   "metadata": {},
   "source": [
    "### with scaling"
   ]
  },
  {
   "cell_type": "code",
   "execution_count": null,
   "id": "741a46dd",
   "metadata": {
    "ExecuteTime": {
     "end_time": "2022-12-26T03:05:10.619369Z",
     "start_time": "2022-12-26T03:05:09.050879Z"
    }
   },
   "outputs": [],
   "source": [
    "brfss = pd.read_csv(\"../data/brfss.csv\")\n",
    "X = brfss.drop([\"HEARTDISEASE\", \"ALCOHOL\"], axis=1)\n",
    "y = brfss[\"HEARTDISEASE\"]\n",
    "\n",
    "X_train, X_test, y_train, y_test = train_test_split(X, y, test_size=.2)\n",
    "\n",
    "scaler = StandardScaler()\n",
    "# scaler = MinMaxScaler()\n",
    "scaler.fit(X_train)\n",
    "X_train = scaler.transform(X_train)\n",
    "X_test = scaler.transform(X_test)\n",
    "\n",
    "smote = SMOTE()\n",
    "X_train, y_train = smote.fit_resample(X_train, y_train)\n",
    "y_train.value_counts()"
   ]
  },
  {
   "cell_type": "markdown",
   "id": "e7e378da",
   "metadata": {},
   "source": [
    "# 할 일\n",
    "- 하이퍼 파라미터 튜닝\n",
    "    - 각 모델 document 보면서 찾아보기\n",
    "- 임계점 변경\n",
    "    - 변경해보면서 최적값 찾기"
   ]
  },
  {
   "cell_type": "markdown",
   "id": "76a86cf6",
   "metadata": {},
   "source": [
    "# 박민정"
   ]
  },
  {
   "cell_type": "markdown",
   "id": "7c5c3227",
   "metadata": {},
   "source": [
    "## Data\n",
    "- 건강검진 데이터의 KIDNEY 조건 변경 검토\n",
    "```\n",
    "data[\"KIDNEY\"] = data.apply(lambda x: 1 if x[\"요단백\"]>=3 or x[\"혈청크레아티닌\"]>1.7 or x[\"혈청크레아티닌\"]<0.8 else 0, axis=1)\n",
    "0    1295062\n",
    "1     744182\n",
    "```\n",
    "```\n",
    "data[\"KIDNEY\"] = data.apply(lambda x: 1 if x[\"요단백\"]>=3 and (x[\"혈청크레아티닌\"]>1.7 or x[\"혈청크레아티닌\"]<0.8) else 0, axis=1)\n",
    "0    2020722\n",
    "1      18522\n",
    "```"
   ]
  },
  {
   "cell_type": "markdown",
   "id": "25ca6152",
   "metadata": {},
   "source": [
    "## DecisionTree"
   ]
  },
  {
   "cell_type": "markdown",
   "id": "ad03ff39",
   "metadata": {},
   "source": [
    "### base model"
   ]
  },
  {
   "cell_type": "code",
   "execution_count": null,
   "id": "881f303f",
   "metadata": {
    "ExecuteTime": {
     "end_time": "2022-12-26T00:47:21.235224Z",
     "start_time": "2022-12-26T00:47:20.560233Z"
    }
   },
   "outputs": [],
   "source": [
    "from sklearn.tree import DecisionTreeClassifier\n",
    "\n",
    "model = DecisionTreeClassifier()\n",
    "model.fit(X_train, y_train)\n",
    "\n",
    "print(model.score(X_train, y_train))\n",
    "print(model.score(X_test, y_test))\n",
    "\n",
    "pred = model.predict(X_test)\n",
    "pred_proba = model.predict_proba(X_test)[:,1]\n",
    "\n",
    "get_clf_eval(y_test, pred, pred_proba)"
   ]
  },
  {
   "cell_type": "code",
   "execution_count": null,
   "id": "5b1eb88e",
   "metadata": {
    "ExecuteTime": {
     "end_time": "2022-12-23T08:07:30.552324Z",
     "start_time": "2022-12-23T08:07:30.348854Z"
    },
    "scrolled": false
   },
   "outputs": [],
   "source": [
    "# 임계값 그래프\n",
    "precision_recall_curve_plot(y_test, pred_proba)"
   ]
  },
  {
   "cell_type": "code",
   "execution_count": null,
   "id": "84fc729d",
   "metadata": {
    "ExecuteTime": {
     "end_time": "2022-12-23T08:08:43.728242Z",
     "start_time": "2022-12-23T08:08:42.584612Z"
    }
   },
   "outputs": [],
   "source": [
    "# 임계값 조정\n",
    "thresholds = [.5, .55, .6, .65, .7, .75, .8, .85]\n",
    "get_eval_by_threshold(y_test, pred, pred_proba, thresholds)"
   ]
  },
  {
   "cell_type": "markdown",
   "id": "2954a74d",
   "metadata": {},
   "source": [
    "### 모델링\n",
    "- 하이퍼 파라미터    \n",
    "    - criterion: ```\"gini\", \"entropy\", \"log_loss\"```\n",
    "    - splitter: ```\"best\", \"random\"```\n",
    "    - max_depth: ```~~~~~~~~~~~~~```   \n",
    "    - max_features: ```\"sqrt\", \"log2\", None```\n",
    "    - min_impurity_decrease: ```~~~~~~~~~~~~~~```\n",
    "    - class_weight: ```\"balanced\", None```\n",
    "    - ccp_alpha: ```~~~~~~~~~~~~~~~~~~```\n",
    "- 사용하지 않은 하이퍼 파라미터\n",
    "    - min_samples_split: int or float, default=2\n",
    "    - min_samples_leaf: int or float, default=1\n",
    "\n",
    "https://scikit-learn.org/stable/modules/generated/sklearn.tree.DecisionTreeClassifier.html"
   ]
  },
  {
   "cell_type": "markdown",
   "id": "bb72ac6e",
   "metadata": {},
   "source": [
    "#### 트리 관련"
   ]
  },
  {
   "cell_type": "code",
   "execution_count": null,
   "id": "0aa17fc6",
   "metadata": {
    "ExecuteTime": {
     "start_time": "2022-12-26T05:25:42.428Z"
    }
   },
   "outputs": [],
   "source": [
    "params = {\n",
    "    \"max_depth\": range(1, 10, 1),\n",
    "    \"min_samples_split\": range(2, 102, 10),\n",
    "    \"min_samples_leaf\": range(1, 10, 1),\n",
    "    \"max_leaf_nodes\": range(1, 11, 1),\n",
    "    \"min_impurity_decrease\": np.arange(0.0001, 0.001, 0.0001),\n",
    "    \"ccp_alpha\": np.arange(0.0, 0.04, 0.005),\n",
    "}\n",
    "\n",
    "X_train, X_test, y_train, y_test = prepare_data()\n",
    "model = DecisionTreeClassifier()\n",
    "model_list, result = grid_search_eval(model, params)"
   ]
  },
  {
   "cell_type": "markdown",
   "id": "8c9a3f45",
   "metadata": {},
   "source": [
    "#### 전체 "
   ]
  },
  {
   "cell_type": "code",
   "execution_count": null,
   "id": "1d03767f",
   "metadata": {
    "ExecuteTime": {
     "start_time": "2022-12-26T05:22:08.650Z"
    }
   },
   "outputs": [],
   "source": [
    "all_params = {\n",
    "    \"criterion\": [\"gini\", \"entropy\", \"log_loss\"],\n",
    "    \"splitter\": [\"best\", \"random\"], \n",
    "    \"max_depth\": range(1, 10, 1),\n",
    "    \"min_samples_split\": range(2, 102, 10),\n",
    "    \"min_samples_leaf\": range(1, 21, 1),\n",
    "    \"max_features\": [\"sqrt\", \"log2\", None],\n",
    "    \"max_leaf_nodes\": range(1, 11, 1),\n",
    "    \"min_impurity_decrease\": np.arange(0.0001, 0.001, 0.0001),\n",
    "    \"class_weight\": [\"balanced\", None],\n",
    "    \"ccp_alpha\": np.arange(0.0, 0.04, 0.005),\n",
    "}\n",
    "\n",
    "X_train, X_test, y_train, y_test = prepare_data()\n",
    "model = DecisionTreeClassifier()\n",
    "model_list, result = grid_search_eval(model, all_params)"
   ]
  },
  {
   "cell_type": "markdown",
   "id": "0b16c43e",
   "metadata": {
    "ExecuteTime": {
     "end_time": "2022-12-26T00:27:57.489498Z",
     "start_time": "2022-12-26T00:27:57.470549Z"
    }
   },
   "source": [
    "### 임계값 변경\n",
    "- 의료 데이터이므로 높이는 쪽으로"
   ]
  },
  {
   "cell_type": "code",
   "execution_count": null,
   "id": "412cf9c0",
   "metadata": {},
   "outputs": [],
   "source": []
  },
  {
   "cell_type": "markdown",
   "id": "068e133a",
   "metadata": {
    "ExecuteTime": {
     "end_time": "2022-12-23T05:30:52.564141Z",
     "start_time": "2022-12-23T05:30:52.556165Z"
    }
   },
   "source": [
    "## SGDClassifier\n",
    "- 하이퍼 파라미터\n",
    "    - loss: ```\"hinge\", \"log_loss\", \"modified_huber\", \"squared_hinge\", \"perceptron\"```\n",
    "        - \"squared_error\", \"huber\", \"epsilon_insensitive\", \"squared_epsilon_insensitive\": regression에서 사용하는 함수라서 제외\n",
    "    - penalty: ```\"l2\", \"l1\", \"elasticnet\", None```\n",
    "    - alpha: ```0.0001, 0.001, 0.01, 0.1```\n",
    "    - learning_rate: ```\"constant\", \"optimal\", \"invscaling\"```\n",
    "    - class_weight: ```\"balanced\", None```\n",
    "\n",
    "- 고정된 하이퍼 파라미터\n",
    "    - early_stopping: ```True```\n",
    "    - n_iter_no_change: ```5```\n",
    "- 사용하지 않은 하이퍼 파라미터\n",
    "    - fit_intercept\n",
    "    - max_iter\n",
    "    - tol\n",
    "    - shuffle\n",
    "    - epsilon    \n",
    "    \n",
    "https://scikit-learn.org/stable/modules/generated/sklearn.linear_model.SGDClassifier.html"
   ]
  },
  {
   "cell_type": "code",
   "execution_count": null,
   "id": "705da419",
   "metadata": {
    "ExecuteTime": {
     "end_time": "2022-12-23T07:14:11.394518Z",
     "start_time": "2022-12-23T07:14:10.210298Z"
    }
   },
   "outputs": [],
   "source": [
    "from sklearn.linear_model import SGDClassifier\n",
    "model = SGDClassifier(loss=\"log_loss\", max_iter=10)\n",
    "model.fit(X_train, y_train)\n",
    "print(model.score(X_train, y_train))\n",
    "print(model.score(X_test, y_test))\n",
    "\n",
    "pred = model.predict(X_test)\n",
    "pred_proba = model.predict_proba(X_test)[:,1]\n",
    "\n",
    "get_clf_eval(y_test, pred, pred_proba)"
   ]
  },
  {
   "cell_type": "code",
   "execution_count": 23,
   "id": "f33d5209",
   "metadata": {
    "ExecuteTime": {
     "end_time": "2022-12-26T06:54:07.814201Z",
     "start_time": "2022-12-26T06:49:35.103603Z"
    },
    "scrolled": true
   },
   "outputs": [
    {
     "name": "stdout",
     "output_type": "stream",
     "text": [
      "1.0    286732\n",
      "0.0    286732\n",
      "Name: HEARTDISEASE, dtype: int64\n",
      "Fitting 3 folds for each of 288 candidates, totalling 864 fits\n",
      "[CV] END alpha=0.0001, class_weight=balanced, learning_rate=constant, loss=hinge, penalty=l2; total time=   0.0s\n",
      "[CV] END alpha=0.0001, class_weight=balanced, learning_rate=constant, loss=hinge, penalty=l2; total time=   0.0s\n",
      "[CV] END alpha=0.0001, class_weight=balanced, learning_rate=constant, loss=hinge, penalty=l2; total time=   0.0s\n",
      "[CV] END alpha=0.0001, class_weight=balanced, learning_rate=constant, loss=hinge, penalty=l1; total time=   0.0s\n",
      "[CV] END alpha=0.0001, class_weight=balanced, learning_rate=constant, loss=hinge, penalty=l1; total time=   0.0s\n",
      "[CV] END alpha=0.0001, class_weight=balanced, learning_rate=constant, loss=hinge, penalty=l1; total time=   0.0s\n",
      "[CV] END alpha=0.0001, class_weight=balanced, learning_rate=constant, loss=hinge, penalty=elasticnet; total time=   0.0s\n",
      "[CV] END alpha=0.0001, class_weight=balanced, learning_rate=constant, loss=hinge, penalty=elasticnet; total time=   0.0s\n",
      "[CV] END alpha=0.0001, class_weight=balanced, learning_rate=constant, loss=hinge, penalty=elasticnet; total time=   0.0s\n",
      "[CV] END alpha=0.0001, class_weight=balanced, learning_rate=constant, loss=hinge, penalty=None; total time=   0.0s\n",
      "[CV] END alpha=0.0001, class_weight=balanced, learning_rate=constant, loss=hinge, penalty=None; total time=   0.0s\n",
      "[CV] END alpha=0.0001, class_weight=balanced, learning_rate=constant, loss=hinge, penalty=None; total time=   0.0s\n",
      "[CV] END alpha=0.0001, class_weight=balanced, learning_rate=constant, loss=log_loss, penalty=l2; total time=   0.0s\n",
      "[CV] END alpha=0.0001, class_weight=balanced, learning_rate=constant, loss=log_loss, penalty=l2; total time=   0.0s\n",
      "[CV] END alpha=0.0001, class_weight=balanced, learning_rate=constant, loss=log_loss, penalty=l2; total time=   0.0s\n",
      "[CV] END alpha=0.0001, class_weight=balanced, learning_rate=constant, loss=log_loss, penalty=l1; total time=   0.0s\n",
      "[CV] END alpha=0.0001, class_weight=balanced, learning_rate=constant, loss=log_loss, penalty=l1; total time=   0.0s\n",
      "[CV] END alpha=0.0001, class_weight=balanced, learning_rate=constant, loss=log_loss, penalty=l1; total time=   0.0s\n",
      "[CV] END alpha=0.0001, class_weight=balanced, learning_rate=constant, loss=log_loss, penalty=elasticnet; total time=   0.0s\n",
      "[CV] END alpha=0.0001, class_weight=balanced, learning_rate=constant, loss=log_loss, penalty=elasticnet; total time=   0.0s\n",
      "[CV] END alpha=0.0001, class_weight=balanced, learning_rate=constant, loss=log_loss, penalty=elasticnet; total time=   0.0s\n",
      "[CV] END alpha=0.0001, class_weight=balanced, learning_rate=constant, loss=log_loss, penalty=None; total time=   0.0s\n",
      "[CV] END alpha=0.0001, class_weight=balanced, learning_rate=constant, loss=log_loss, penalty=None; total time=   0.0s\n",
      "[CV] END alpha=0.0001, class_weight=balanced, learning_rate=constant, loss=log_loss, penalty=None; total time=   0.0s\n",
      "[CV] END alpha=0.0001, class_weight=balanced, learning_rate=constant, loss=modified_huber, penalty=l2; total time=   0.0s\n",
      "[CV] END alpha=0.0001, class_weight=balanced, learning_rate=constant, loss=modified_huber, penalty=l2; total time=   0.0s\n",
      "[CV] END alpha=0.0001, class_weight=balanced, learning_rate=constant, loss=modified_huber, penalty=l2; total time=   0.0s\n",
      "[CV] END alpha=0.0001, class_weight=balanced, learning_rate=constant, loss=modified_huber, penalty=l1; total time=   0.0s\n",
      "[CV] END alpha=0.0001, class_weight=balanced, learning_rate=constant, loss=modified_huber, penalty=l1; total time=   0.0s\n",
      "[CV] END alpha=0.0001, class_weight=balanced, learning_rate=constant, loss=modified_huber, penalty=l1; total time=   0.0s\n",
      "[CV] END alpha=0.0001, class_weight=balanced, learning_rate=constant, loss=modified_huber, penalty=elasticnet; total time=   0.0s\n",
      "[CV] END alpha=0.0001, class_weight=balanced, learning_rate=constant, loss=modified_huber, penalty=elasticnet; total time=   0.0s\n",
      "[CV] END alpha=0.0001, class_weight=balanced, learning_rate=constant, loss=modified_huber, penalty=elasticnet; total time=   0.0s\n",
      "[CV] END alpha=0.0001, class_weight=balanced, learning_rate=constant, loss=modified_huber, penalty=None; total time=   0.0s\n",
      "[CV] END alpha=0.0001, class_weight=balanced, learning_rate=constant, loss=modified_huber, penalty=None; total time=   0.0s\n",
      "[CV] END alpha=0.0001, class_weight=balanced, learning_rate=constant, loss=modified_huber, penalty=None; total time=   0.0s\n",
      "[CV] END alpha=0.0001, class_weight=balanced, learning_rate=optimal, loss=hinge, penalty=l2; total time=   0.7s\n",
      "[CV] END alpha=0.0001, class_weight=balanced, learning_rate=optimal, loss=hinge, penalty=l2; total time=   0.7s\n",
      "[CV] END alpha=0.0001, class_weight=balanced, learning_rate=optimal, loss=hinge, penalty=l2; total time=   0.6s\n",
      "[CV] END alpha=0.0001, class_weight=balanced, learning_rate=optimal, loss=hinge, penalty=l1; total time=   0.7s\n",
      "[CV] END alpha=0.0001, class_weight=balanced, learning_rate=optimal, loss=hinge, penalty=l1; total time=   0.7s\n",
      "[CV] END alpha=0.0001, class_weight=balanced, learning_rate=optimal, loss=hinge, penalty=l1; total time=   0.7s\n",
      "[CV] END alpha=0.0001, class_weight=balanced, learning_rate=optimal, loss=hinge, penalty=elasticnet; total time=   0.8s\n",
      "[CV] END alpha=0.0001, class_weight=balanced, learning_rate=optimal, loss=hinge, penalty=elasticnet; total time=   0.7s\n",
      "[CV] END alpha=0.0001, class_weight=balanced, learning_rate=optimal, loss=hinge, penalty=elasticnet; total time=   0.7s\n",
      "[CV] END alpha=0.0001, class_weight=balanced, learning_rate=optimal, loss=hinge, penalty=None; total time=   0.8s\n",
      "[CV] END alpha=0.0001, class_weight=balanced, learning_rate=optimal, loss=hinge, penalty=None; total time=   0.7s\n",
      "[CV] END alpha=0.0001, class_weight=balanced, learning_rate=optimal, loss=hinge, penalty=None; total time=   0.7s\n",
      "[CV] END alpha=0.0001, class_weight=balanced, learning_rate=optimal, loss=log_loss, penalty=l2; total time=   0.7s\n",
      "[CV] END alpha=0.0001, class_weight=balanced, learning_rate=optimal, loss=log_loss, penalty=l2; total time=   0.7s\n",
      "[CV] END alpha=0.0001, class_weight=balanced, learning_rate=optimal, loss=log_loss, penalty=l2; total time=   0.7s\n",
      "[CV] END alpha=0.0001, class_weight=balanced, learning_rate=optimal, loss=log_loss, penalty=l1; total time=   1.1s\n",
      "[CV] END alpha=0.0001, class_weight=balanced, learning_rate=optimal, loss=log_loss, penalty=l1; total time=   0.9s\n",
      "[CV] END alpha=0.0001, class_weight=balanced, learning_rate=optimal, loss=log_loss, penalty=l1; total time=   1.0s\n",
      "[CV] END alpha=0.0001, class_weight=balanced, learning_rate=optimal, loss=log_loss, penalty=elasticnet; total time=   0.7s\n",
      "[CV] END alpha=0.0001, class_weight=balanced, learning_rate=optimal, loss=log_loss, penalty=elasticnet; total time=   0.7s\n",
      "[CV] END alpha=0.0001, class_weight=balanced, learning_rate=optimal, loss=log_loss, penalty=elasticnet; total time=   0.7s\n",
      "[CV] END alpha=0.0001, class_weight=balanced, learning_rate=optimal, loss=log_loss, penalty=None; total time=   0.7s\n",
      "[CV] END alpha=0.0001, class_weight=balanced, learning_rate=optimal, loss=log_loss, penalty=None; total time=   0.8s\n",
      "[CV] END alpha=0.0001, class_weight=balanced, learning_rate=optimal, loss=log_loss, penalty=None; total time=   0.8s\n",
      "[CV] END alpha=0.0001, class_weight=balanced, learning_rate=optimal, loss=modified_huber, penalty=l2; total time=   0.7s\n",
      "[CV] END alpha=0.0001, class_weight=balanced, learning_rate=optimal, loss=modified_huber, penalty=l2; total time=   0.7s\n",
      "[CV] END alpha=0.0001, class_weight=balanced, learning_rate=optimal, loss=modified_huber, penalty=l2; total time=   0.7s\n",
      "[CV] END alpha=0.0001, class_weight=balanced, learning_rate=optimal, loss=modified_huber, penalty=l1; total time=   0.9s\n",
      "[CV] END alpha=0.0001, class_weight=balanced, learning_rate=optimal, loss=modified_huber, penalty=l1; total time=   1.1s\n",
      "[CV] END alpha=0.0001, class_weight=balanced, learning_rate=optimal, loss=modified_huber, penalty=l1; total time=   1.0s\n",
      "[CV] END alpha=0.0001, class_weight=balanced, learning_rate=optimal, loss=modified_huber, penalty=elasticnet; total time=   0.7s\n",
      "[CV] END alpha=0.0001, class_weight=balanced, learning_rate=optimal, loss=modified_huber, penalty=elasticnet; total time=   0.7s\n"
     ]
    },
    {
     "name": "stdout",
     "output_type": "stream",
     "text": [
      "[CV] END alpha=0.0001, class_weight=balanced, learning_rate=optimal, loss=modified_huber, penalty=elasticnet; total time=   0.8s\n",
      "[CV] END alpha=0.0001, class_weight=balanced, learning_rate=optimal, loss=modified_huber, penalty=None; total time=   1.1s\n",
      "[CV] END alpha=0.0001, class_weight=balanced, learning_rate=optimal, loss=modified_huber, penalty=None; total time=   0.9s\n",
      "[CV] END alpha=0.0001, class_weight=balanced, learning_rate=optimal, loss=modified_huber, penalty=None; total time=   0.7s\n",
      "[CV] END alpha=0.0001, class_weight=balanced, learning_rate=invscaling, loss=hinge, penalty=l2; total time=   0.0s\n",
      "[CV] END alpha=0.0001, class_weight=balanced, learning_rate=invscaling, loss=hinge, penalty=l2; total time=   0.0s\n",
      "[CV] END alpha=0.0001, class_weight=balanced, learning_rate=invscaling, loss=hinge, penalty=l2; total time=   0.0s\n",
      "[CV] END alpha=0.0001, class_weight=balanced, learning_rate=invscaling, loss=hinge, penalty=l1; total time=   0.0s\n",
      "[CV] END alpha=0.0001, class_weight=balanced, learning_rate=invscaling, loss=hinge, penalty=l1; total time=   0.0s\n",
      "[CV] END alpha=0.0001, class_weight=balanced, learning_rate=invscaling, loss=hinge, penalty=l1; total time=   0.0s\n",
      "[CV] END alpha=0.0001, class_weight=balanced, learning_rate=invscaling, loss=hinge, penalty=elasticnet; total time=   0.0s\n",
      "[CV] END alpha=0.0001, class_weight=balanced, learning_rate=invscaling, loss=hinge, penalty=elasticnet; total time=   0.0s\n",
      "[CV] END alpha=0.0001, class_weight=balanced, learning_rate=invscaling, loss=hinge, penalty=elasticnet; total time=   0.0s\n",
      "[CV] END alpha=0.0001, class_weight=balanced, learning_rate=invscaling, loss=hinge, penalty=None; total time=   0.0s\n",
      "[CV] END alpha=0.0001, class_weight=balanced, learning_rate=invscaling, loss=hinge, penalty=None; total time=   0.0s\n",
      "[CV] END alpha=0.0001, class_weight=balanced, learning_rate=invscaling, loss=hinge, penalty=None; total time=   0.0s\n",
      "[CV] END alpha=0.0001, class_weight=balanced, learning_rate=invscaling, loss=log_loss, penalty=l2; total time=   0.0s\n",
      "[CV] END alpha=0.0001, class_weight=balanced, learning_rate=invscaling, loss=log_loss, penalty=l2; total time=   0.0s\n",
      "[CV] END alpha=0.0001, class_weight=balanced, learning_rate=invscaling, loss=log_loss, penalty=l2; total time=   0.0s\n",
      "[CV] END alpha=0.0001, class_weight=balanced, learning_rate=invscaling, loss=log_loss, penalty=l1; total time=   0.0s\n",
      "[CV] END alpha=0.0001, class_weight=balanced, learning_rate=invscaling, loss=log_loss, penalty=l1; total time=   0.0s\n",
      "[CV] END alpha=0.0001, class_weight=balanced, learning_rate=invscaling, loss=log_loss, penalty=l1; total time=   0.0s\n",
      "[CV] END alpha=0.0001, class_weight=balanced, learning_rate=invscaling, loss=log_loss, penalty=elasticnet; total time=   0.0s\n",
      "[CV] END alpha=0.0001, class_weight=balanced, learning_rate=invscaling, loss=log_loss, penalty=elasticnet; total time=   0.0s\n",
      "[CV] END alpha=0.0001, class_weight=balanced, learning_rate=invscaling, loss=log_loss, penalty=elasticnet; total time=   0.0s\n",
      "[CV] END alpha=0.0001, class_weight=balanced, learning_rate=invscaling, loss=log_loss, penalty=None; total time=   0.0s\n",
      "[CV] END alpha=0.0001, class_weight=balanced, learning_rate=invscaling, loss=log_loss, penalty=None; total time=   0.0s\n",
      "[CV] END alpha=0.0001, class_weight=balanced, learning_rate=invscaling, loss=log_loss, penalty=None; total time=   0.0s\n",
      "[CV] END alpha=0.0001, class_weight=balanced, learning_rate=invscaling, loss=modified_huber, penalty=l2; total time=   0.0s\n",
      "[CV] END alpha=0.0001, class_weight=balanced, learning_rate=invscaling, loss=modified_huber, penalty=l2; total time=   0.0s\n",
      "[CV] END alpha=0.0001, class_weight=balanced, learning_rate=invscaling, loss=modified_huber, penalty=l2; total time=   0.0s\n",
      "[CV] END alpha=0.0001, class_weight=balanced, learning_rate=invscaling, loss=modified_huber, penalty=l1; total time=   0.0s\n",
      "[CV] END alpha=0.0001, class_weight=balanced, learning_rate=invscaling, loss=modified_huber, penalty=l1; total time=   0.0s\n",
      "[CV] END alpha=0.0001, class_weight=balanced, learning_rate=invscaling, loss=modified_huber, penalty=l1; total time=   0.0s\n",
      "[CV] END alpha=0.0001, class_weight=balanced, learning_rate=invscaling, loss=modified_huber, penalty=elasticnet; total time=   0.0s\n",
      "[CV] END alpha=0.0001, class_weight=balanced, learning_rate=invscaling, loss=modified_huber, penalty=elasticnet; total time=   0.0s\n",
      "[CV] END alpha=0.0001, class_weight=balanced, learning_rate=invscaling, loss=modified_huber, penalty=elasticnet; total time=   0.0s\n",
      "[CV] END alpha=0.0001, class_weight=balanced, learning_rate=invscaling, loss=modified_huber, penalty=None; total time=   0.0s\n",
      "[CV] END alpha=0.0001, class_weight=balanced, learning_rate=invscaling, loss=modified_huber, penalty=None; total time=   0.0s\n",
      "[CV] END alpha=0.0001, class_weight=balanced, learning_rate=invscaling, loss=modified_huber, penalty=None; total time=   0.0s\n",
      "[CV] END alpha=0.0001, class_weight=None, learning_rate=constant, loss=hinge, penalty=l2; total time=   0.0s\n",
      "[CV] END alpha=0.0001, class_weight=None, learning_rate=constant, loss=hinge, penalty=l2; total time=   0.0s\n",
      "[CV] END alpha=0.0001, class_weight=None, learning_rate=constant, loss=hinge, penalty=l2; total time=   0.0s\n",
      "[CV] END alpha=0.0001, class_weight=None, learning_rate=constant, loss=hinge, penalty=l1; total time=   0.0s\n",
      "[CV] END alpha=0.0001, class_weight=None, learning_rate=constant, loss=hinge, penalty=l1; total time=   0.0s\n",
      "[CV] END alpha=0.0001, class_weight=None, learning_rate=constant, loss=hinge, penalty=l1; total time=   0.0s\n",
      "[CV] END alpha=0.0001, class_weight=None, learning_rate=constant, loss=hinge, penalty=elasticnet; total time=   0.0s\n",
      "[CV] END alpha=0.0001, class_weight=None, learning_rate=constant, loss=hinge, penalty=elasticnet; total time=   0.0s\n",
      "[CV] END alpha=0.0001, class_weight=None, learning_rate=constant, loss=hinge, penalty=elasticnet; total time=   0.0s\n",
      "[CV] END alpha=0.0001, class_weight=None, learning_rate=constant, loss=hinge, penalty=None; total time=   0.0s\n",
      "[CV] END alpha=0.0001, class_weight=None, learning_rate=constant, loss=hinge, penalty=None; total time=   0.0s\n",
      "[CV] END alpha=0.0001, class_weight=None, learning_rate=constant, loss=hinge, penalty=None; total time=   0.0s\n",
      "[CV] END alpha=0.0001, class_weight=None, learning_rate=constant, loss=log_loss, penalty=l2; total time=   0.0s\n",
      "[CV] END alpha=0.0001, class_weight=None, learning_rate=constant, loss=log_loss, penalty=l2; total time=   0.0s\n",
      "[CV] END alpha=0.0001, class_weight=None, learning_rate=constant, loss=log_loss, penalty=l2; total time=   0.0s\n",
      "[CV] END alpha=0.0001, class_weight=None, learning_rate=constant, loss=log_loss, penalty=l1; total time=   0.0s\n",
      "[CV] END alpha=0.0001, class_weight=None, learning_rate=constant, loss=log_loss, penalty=l1; total time=   0.0s\n",
      "[CV] END alpha=0.0001, class_weight=None, learning_rate=constant, loss=log_loss, penalty=l1; total time=   0.0s\n",
      "[CV] END alpha=0.0001, class_weight=None, learning_rate=constant, loss=log_loss, penalty=elasticnet; total time=   0.0s\n",
      "[CV] END alpha=0.0001, class_weight=None, learning_rate=constant, loss=log_loss, penalty=elasticnet; total time=   0.0s\n",
      "[CV] END alpha=0.0001, class_weight=None, learning_rate=constant, loss=log_loss, penalty=elasticnet; total time=   0.0s\n",
      "[CV] END alpha=0.0001, class_weight=None, learning_rate=constant, loss=log_loss, penalty=None; total time=   0.0s\n",
      "[CV] END alpha=0.0001, class_weight=None, learning_rate=constant, loss=log_loss, penalty=None; total time=   0.0s\n",
      "[CV] END alpha=0.0001, class_weight=None, learning_rate=constant, loss=log_loss, penalty=None; total time=   0.0s\n",
      "[CV] END alpha=0.0001, class_weight=None, learning_rate=constant, loss=modified_huber, penalty=l2; total time=   0.0s\n",
      "[CV] END alpha=0.0001, class_weight=None, learning_rate=constant, loss=modified_huber, penalty=l2; total time=   0.0s\n",
      "[CV] END alpha=0.0001, class_weight=None, learning_rate=constant, loss=modified_huber, penalty=l2; total time=   0.0s\n",
      "[CV] END alpha=0.0001, class_weight=None, learning_rate=constant, loss=modified_huber, penalty=l1; total time=   0.0s\n",
      "[CV] END alpha=0.0001, class_weight=None, learning_rate=constant, loss=modified_huber, penalty=l1; total time=   0.0s\n",
      "[CV] END alpha=0.0001, class_weight=None, learning_rate=constant, loss=modified_huber, penalty=l1; total time=   0.0s\n",
      "[CV] END alpha=0.0001, class_weight=None, learning_rate=constant, loss=modified_huber, penalty=elasticnet; total time=   0.0s\n",
      "[CV] END alpha=0.0001, class_weight=None, learning_rate=constant, loss=modified_huber, penalty=elasticnet; total time=   0.0s\n",
      "[CV] END alpha=0.0001, class_weight=None, learning_rate=constant, loss=modified_huber, penalty=elasticnet; total time=   0.0s\n",
      "[CV] END alpha=0.0001, class_weight=None, learning_rate=constant, loss=modified_huber, penalty=None; total time=   0.0s\n",
      "[CV] END alpha=0.0001, class_weight=None, learning_rate=constant, loss=modified_huber, penalty=None; total time=   0.0s\n",
      "[CV] END alpha=0.0001, class_weight=None, learning_rate=constant, loss=modified_huber, penalty=None; total time=   0.0s\n"
     ]
    },
    {
     "name": "stdout",
     "output_type": "stream",
     "text": [
      "[CV] END alpha=0.0001, class_weight=None, learning_rate=optimal, loss=hinge, penalty=l2; total time=   0.9s\n",
      "[CV] END alpha=0.0001, class_weight=None, learning_rate=optimal, loss=hinge, penalty=l2; total time=   0.6s\n",
      "[CV] END alpha=0.0001, class_weight=None, learning_rate=optimal, loss=hinge, penalty=l2; total time=   0.6s\n",
      "[CV] END alpha=0.0001, class_weight=None, learning_rate=optimal, loss=hinge, penalty=l1; total time=   0.7s\n",
      "[CV] END alpha=0.0001, class_weight=None, learning_rate=optimal, loss=hinge, penalty=l1; total time=   0.7s\n",
      "[CV] END alpha=0.0001, class_weight=None, learning_rate=optimal, loss=hinge, penalty=l1; total time=   0.8s\n",
      "[CV] END alpha=0.0001, class_weight=None, learning_rate=optimal, loss=hinge, penalty=elasticnet; total time=   0.7s\n",
      "[CV] END alpha=0.0001, class_weight=None, learning_rate=optimal, loss=hinge, penalty=elasticnet; total time=   0.7s\n",
      "[CV] END alpha=0.0001, class_weight=None, learning_rate=optimal, loss=hinge, penalty=elasticnet; total time=   1.0s\n",
      "[CV] END alpha=0.0001, class_weight=None, learning_rate=optimal, loss=hinge, penalty=None; total time=   0.7s\n",
      "[CV] END alpha=0.0001, class_weight=None, learning_rate=optimal, loss=hinge, penalty=None; total time=   0.7s\n",
      "[CV] END alpha=0.0001, class_weight=None, learning_rate=optimal, loss=hinge, penalty=None; total time=   0.7s\n",
      "[CV] END alpha=0.0001, class_weight=None, learning_rate=optimal, loss=log_loss, penalty=l2; total time=   0.7s\n",
      "[CV] END alpha=0.0001, class_weight=None, learning_rate=optimal, loss=log_loss, penalty=l2; total time=   0.7s\n",
      "[CV] END alpha=0.0001, class_weight=None, learning_rate=optimal, loss=log_loss, penalty=l2; total time=   0.7s\n",
      "[CV] END alpha=0.0001, class_weight=None, learning_rate=optimal, loss=log_loss, penalty=l1; total time=   0.7s\n",
      "[CV] END alpha=0.0001, class_weight=None, learning_rate=optimal, loss=log_loss, penalty=l1; total time=   1.1s\n",
      "[CV] END alpha=0.0001, class_weight=None, learning_rate=optimal, loss=log_loss, penalty=l1; total time=   0.9s\n",
      "[CV] END alpha=0.0001, class_weight=None, learning_rate=optimal, loss=log_loss, penalty=elasticnet; total time=   0.7s\n",
      "[CV] END alpha=0.0001, class_weight=None, learning_rate=optimal, loss=log_loss, penalty=elasticnet; total time=   0.7s\n",
      "[CV] END alpha=0.0001, class_weight=None, learning_rate=optimal, loss=log_loss, penalty=elasticnet; total time=   0.8s\n",
      "[CV] END alpha=0.0001, class_weight=None, learning_rate=optimal, loss=log_loss, penalty=None; total time=   0.8s\n",
      "[CV] END alpha=0.0001, class_weight=None, learning_rate=optimal, loss=log_loss, penalty=None; total time=   0.7s\n",
      "[CV] END alpha=0.0001, class_weight=None, learning_rate=optimal, loss=log_loss, penalty=None; total time=   0.7s\n",
      "[CV] END alpha=0.0001, class_weight=None, learning_rate=optimal, loss=modified_huber, penalty=l2; total time=   0.7s\n",
      "[CV] END alpha=0.0001, class_weight=None, learning_rate=optimal, loss=modified_huber, penalty=l2; total time=   0.7s\n",
      "[CV] END alpha=0.0001, class_weight=None, learning_rate=optimal, loss=modified_huber, penalty=l2; total time=   0.7s\n",
      "[CV] END alpha=0.0001, class_weight=None, learning_rate=optimal, loss=modified_huber, penalty=l1; total time=   1.2s\n",
      "[CV] END alpha=0.0001, class_weight=None, learning_rate=optimal, loss=modified_huber, penalty=l1; total time=   1.0s\n",
      "[CV] END alpha=0.0001, class_weight=None, learning_rate=optimal, loss=modified_huber, penalty=l1; total time=   1.0s\n",
      "[CV] END alpha=0.0001, class_weight=None, learning_rate=optimal, loss=modified_huber, penalty=elasticnet; total time=   0.7s\n",
      "[CV] END alpha=0.0001, class_weight=None, learning_rate=optimal, loss=modified_huber, penalty=elasticnet; total time=   1.0s\n",
      "[CV] END alpha=0.0001, class_weight=None, learning_rate=optimal, loss=modified_huber, penalty=elasticnet; total time=   0.7s\n",
      "[CV] END alpha=0.0001, class_weight=None, learning_rate=optimal, loss=modified_huber, penalty=None; total time=   0.9s\n",
      "[CV] END alpha=0.0001, class_weight=None, learning_rate=optimal, loss=modified_huber, penalty=None; total time=   0.9s\n",
      "[CV] END alpha=0.0001, class_weight=None, learning_rate=optimal, loss=modified_huber, penalty=None; total time=   0.8s\n",
      "[CV] END alpha=0.0001, class_weight=None, learning_rate=invscaling, loss=hinge, penalty=l2; total time=   0.0s\n",
      "[CV] END alpha=0.0001, class_weight=None, learning_rate=invscaling, loss=hinge, penalty=l2; total time=   0.0s\n",
      "[CV] END alpha=0.0001, class_weight=None, learning_rate=invscaling, loss=hinge, penalty=l2; total time=   0.0s\n",
      "[CV] END alpha=0.0001, class_weight=None, learning_rate=invscaling, loss=hinge, penalty=l1; total time=   0.0s\n",
      "[CV] END alpha=0.0001, class_weight=None, learning_rate=invscaling, loss=hinge, penalty=l1; total time=   0.0s\n",
      "[CV] END alpha=0.0001, class_weight=None, learning_rate=invscaling, loss=hinge, penalty=l1; total time=   0.0s\n",
      "[CV] END alpha=0.0001, class_weight=None, learning_rate=invscaling, loss=hinge, penalty=elasticnet; total time=   0.0s\n",
      "[CV] END alpha=0.0001, class_weight=None, learning_rate=invscaling, loss=hinge, penalty=elasticnet; total time=   0.0s\n",
      "[CV] END alpha=0.0001, class_weight=None, learning_rate=invscaling, loss=hinge, penalty=elasticnet; total time=   0.0s\n",
      "[CV] END alpha=0.0001, class_weight=None, learning_rate=invscaling, loss=hinge, penalty=None; total time=   0.0s\n",
      "[CV] END alpha=0.0001, class_weight=None, learning_rate=invscaling, loss=hinge, penalty=None; total time=   0.0s\n",
      "[CV] END alpha=0.0001, class_weight=None, learning_rate=invscaling, loss=hinge, penalty=None; total time=   0.0s\n",
      "[CV] END alpha=0.0001, class_weight=None, learning_rate=invscaling, loss=log_loss, penalty=l2; total time=   0.0s\n",
      "[CV] END alpha=0.0001, class_weight=None, learning_rate=invscaling, loss=log_loss, penalty=l2; total time=   0.0s\n",
      "[CV] END alpha=0.0001, class_weight=None, learning_rate=invscaling, loss=log_loss, penalty=l2; total time=   0.0s\n",
      "[CV] END alpha=0.0001, class_weight=None, learning_rate=invscaling, loss=log_loss, penalty=l1; total time=   0.0s\n",
      "[CV] END alpha=0.0001, class_weight=None, learning_rate=invscaling, loss=log_loss, penalty=l1; total time=   0.0s\n",
      "[CV] END alpha=0.0001, class_weight=None, learning_rate=invscaling, loss=log_loss, penalty=l1; total time=   0.0s\n",
      "[CV] END alpha=0.0001, class_weight=None, learning_rate=invscaling, loss=log_loss, penalty=elasticnet; total time=   0.0s\n",
      "[CV] END alpha=0.0001, class_weight=None, learning_rate=invscaling, loss=log_loss, penalty=elasticnet; total time=   0.0s\n",
      "[CV] END alpha=0.0001, class_weight=None, learning_rate=invscaling, loss=log_loss, penalty=elasticnet; total time=   0.0s\n",
      "[CV] END alpha=0.0001, class_weight=None, learning_rate=invscaling, loss=log_loss, penalty=None; total time=   0.0s\n",
      "[CV] END alpha=0.0001, class_weight=None, learning_rate=invscaling, loss=log_loss, penalty=None; total time=   0.0s\n",
      "[CV] END alpha=0.0001, class_weight=None, learning_rate=invscaling, loss=log_loss, penalty=None; total time=   0.0s\n",
      "[CV] END alpha=0.0001, class_weight=None, learning_rate=invscaling, loss=modified_huber, penalty=l2; total time=   0.0s\n",
      "[CV] END alpha=0.0001, class_weight=None, learning_rate=invscaling, loss=modified_huber, penalty=l2; total time=   0.0s\n",
      "[CV] END alpha=0.0001, class_weight=None, learning_rate=invscaling, loss=modified_huber, penalty=l2; total time=   0.0s\n",
      "[CV] END alpha=0.0001, class_weight=None, learning_rate=invscaling, loss=modified_huber, penalty=l1; total time=   0.0s\n",
      "[CV] END alpha=0.0001, class_weight=None, learning_rate=invscaling, loss=modified_huber, penalty=l1; total time=   0.0s\n",
      "[CV] END alpha=0.0001, class_weight=None, learning_rate=invscaling, loss=modified_huber, penalty=l1; total time=   0.0s\n",
      "[CV] END alpha=0.0001, class_weight=None, learning_rate=invscaling, loss=modified_huber, penalty=elasticnet; total time=   0.0s\n",
      "[CV] END alpha=0.0001, class_weight=None, learning_rate=invscaling, loss=modified_huber, penalty=elasticnet; total time=   0.0s\n",
      "[CV] END alpha=0.0001, class_weight=None, learning_rate=invscaling, loss=modified_huber, penalty=elasticnet; total time=   0.0s\n",
      "[CV] END alpha=0.0001, class_weight=None, learning_rate=invscaling, loss=modified_huber, penalty=None; total time=   0.0s\n",
      "[CV] END alpha=0.0001, class_weight=None, learning_rate=invscaling, loss=modified_huber, penalty=None; total time=   0.0s\n",
      "[CV] END alpha=0.0001, class_weight=None, learning_rate=invscaling, loss=modified_huber, penalty=None; total time=   0.0s\n"
     ]
    },
    {
     "name": "stdout",
     "output_type": "stream",
     "text": [
      "[CV] END alpha=0.001, class_weight=balanced, learning_rate=constant, loss=hinge, penalty=l2; total time=   0.0s\n",
      "[CV] END alpha=0.001, class_weight=balanced, learning_rate=constant, loss=hinge, penalty=l2; total time=   0.0s\n",
      "[CV] END alpha=0.001, class_weight=balanced, learning_rate=constant, loss=hinge, penalty=l2; total time=   0.0s\n",
      "[CV] END alpha=0.001, class_weight=balanced, learning_rate=constant, loss=hinge, penalty=l1; total time=   0.0s\n",
      "[CV] END alpha=0.001, class_weight=balanced, learning_rate=constant, loss=hinge, penalty=l1; total time=   0.0s\n",
      "[CV] END alpha=0.001, class_weight=balanced, learning_rate=constant, loss=hinge, penalty=l1; total time=   0.0s\n",
      "[CV] END alpha=0.001, class_weight=balanced, learning_rate=constant, loss=hinge, penalty=elasticnet; total time=   0.0s\n",
      "[CV] END alpha=0.001, class_weight=balanced, learning_rate=constant, loss=hinge, penalty=elasticnet; total time=   0.0s\n",
      "[CV] END alpha=0.001, class_weight=balanced, learning_rate=constant, loss=hinge, penalty=elasticnet; total time=   0.0s\n",
      "[CV] END alpha=0.001, class_weight=balanced, learning_rate=constant, loss=hinge, penalty=None; total time=   0.0s\n",
      "[CV] END alpha=0.001, class_weight=balanced, learning_rate=constant, loss=hinge, penalty=None; total time=   0.0s\n",
      "[CV] END alpha=0.001, class_weight=balanced, learning_rate=constant, loss=hinge, penalty=None; total time=   0.0s\n",
      "[CV] END alpha=0.001, class_weight=balanced, learning_rate=constant, loss=log_loss, penalty=l2; total time=   0.0s\n",
      "[CV] END alpha=0.001, class_weight=balanced, learning_rate=constant, loss=log_loss, penalty=l2; total time=   0.0s\n",
      "[CV] END alpha=0.001, class_weight=balanced, learning_rate=constant, loss=log_loss, penalty=l2; total time=   0.0s\n",
      "[CV] END alpha=0.001, class_weight=balanced, learning_rate=constant, loss=log_loss, penalty=l1; total time=   0.0s\n",
      "[CV] END alpha=0.001, class_weight=balanced, learning_rate=constant, loss=log_loss, penalty=l1; total time=   0.0s\n",
      "[CV] END alpha=0.001, class_weight=balanced, learning_rate=constant, loss=log_loss, penalty=l1; total time=   0.0s\n",
      "[CV] END alpha=0.001, class_weight=balanced, learning_rate=constant, loss=log_loss, penalty=elasticnet; total time=   0.0s\n",
      "[CV] END alpha=0.001, class_weight=balanced, learning_rate=constant, loss=log_loss, penalty=elasticnet; total time=   0.0s\n",
      "[CV] END alpha=0.001, class_weight=balanced, learning_rate=constant, loss=log_loss, penalty=elasticnet; total time=   0.0s\n",
      "[CV] END alpha=0.001, class_weight=balanced, learning_rate=constant, loss=log_loss, penalty=None; total time=   0.0s\n",
      "[CV] END alpha=0.001, class_weight=balanced, learning_rate=constant, loss=log_loss, penalty=None; total time=   0.0s\n",
      "[CV] END alpha=0.001, class_weight=balanced, learning_rate=constant, loss=log_loss, penalty=None; total time=   0.0s\n",
      "[CV] END alpha=0.001, class_weight=balanced, learning_rate=constant, loss=modified_huber, penalty=l2; total time=   0.0s\n",
      "[CV] END alpha=0.001, class_weight=balanced, learning_rate=constant, loss=modified_huber, penalty=l2; total time=   0.0s\n",
      "[CV] END alpha=0.001, class_weight=balanced, learning_rate=constant, loss=modified_huber, penalty=l2; total time=   0.0s\n",
      "[CV] END alpha=0.001, class_weight=balanced, learning_rate=constant, loss=modified_huber, penalty=l1; total time=   0.0s\n",
      "[CV] END alpha=0.001, class_weight=balanced, learning_rate=constant, loss=modified_huber, penalty=l1; total time=   0.0s\n",
      "[CV] END alpha=0.001, class_weight=balanced, learning_rate=constant, loss=modified_huber, penalty=l1; total time=   0.0s\n",
      "[CV] END alpha=0.001, class_weight=balanced, learning_rate=constant, loss=modified_huber, penalty=elasticnet; total time=   0.0s\n",
      "[CV] END alpha=0.001, class_weight=balanced, learning_rate=constant, loss=modified_huber, penalty=elasticnet; total time=   0.0s\n",
      "[CV] END alpha=0.001, class_weight=balanced, learning_rate=constant, loss=modified_huber, penalty=elasticnet; total time=   0.0s\n",
      "[CV] END alpha=0.001, class_weight=balanced, learning_rate=constant, loss=modified_huber, penalty=None; total time=   0.0s\n",
      "[CV] END alpha=0.001, class_weight=balanced, learning_rate=constant, loss=modified_huber, penalty=None; total time=   0.0s\n",
      "[CV] END alpha=0.001, class_weight=balanced, learning_rate=constant, loss=modified_huber, penalty=None; total time=   0.0s\n",
      "[CV] END alpha=0.001, class_weight=balanced, learning_rate=optimal, loss=hinge, penalty=l2; total time=   0.7s\n",
      "[CV] END alpha=0.001, class_weight=balanced, learning_rate=optimal, loss=hinge, penalty=l2; total time=   0.7s\n",
      "[CV] END alpha=0.001, class_weight=balanced, learning_rate=optimal, loss=hinge, penalty=l2; total time=   0.7s\n",
      "[CV] END alpha=0.001, class_weight=balanced, learning_rate=optimal, loss=hinge, penalty=l1; total time=   0.7s\n",
      "[CV] END alpha=0.001, class_weight=balanced, learning_rate=optimal, loss=hinge, penalty=l1; total time=   0.7s\n",
      "[CV] END alpha=0.001, class_weight=balanced, learning_rate=optimal, loss=hinge, penalty=l1; total time=   0.7s\n",
      "[CV] END alpha=0.001, class_weight=balanced, learning_rate=optimal, loss=hinge, penalty=elasticnet; total time=   0.7s\n",
      "[CV] END alpha=0.001, class_weight=balanced, learning_rate=optimal, loss=hinge, penalty=elasticnet; total time=   1.0s\n",
      "[CV] END alpha=0.001, class_weight=balanced, learning_rate=optimal, loss=hinge, penalty=elasticnet; total time=   1.1s\n",
      "[CV] END alpha=0.001, class_weight=balanced, learning_rate=optimal, loss=hinge, penalty=None; total time=   0.7s\n",
      "[CV] END alpha=0.001, class_weight=balanced, learning_rate=optimal, loss=hinge, penalty=None; total time=   0.7s\n",
      "[CV] END alpha=0.001, class_weight=balanced, learning_rate=optimal, loss=hinge, penalty=None; total time=   0.7s\n",
      "[CV] END alpha=0.001, class_weight=balanced, learning_rate=optimal, loss=log_loss, penalty=l2; total time=   0.8s\n",
      "[CV] END alpha=0.001, class_weight=balanced, learning_rate=optimal, loss=log_loss, penalty=l2; total time=   0.7s\n",
      "[CV] END alpha=0.001, class_weight=balanced, learning_rate=optimal, loss=log_loss, penalty=l2; total time=   0.8s\n",
      "[CV] END alpha=0.001, class_weight=balanced, learning_rate=optimal, loss=log_loss, penalty=l1; total time=   0.9s\n",
      "[CV] END alpha=0.001, class_weight=balanced, learning_rate=optimal, loss=log_loss, penalty=l1; total time=   0.8s\n",
      "[CV] END alpha=0.001, class_weight=balanced, learning_rate=optimal, loss=log_loss, penalty=l1; total time=   0.8s\n",
      "[CV] END alpha=0.001, class_weight=balanced, learning_rate=optimal, loss=log_loss, penalty=elasticnet; total time=   0.8s\n",
      "[CV] END alpha=0.001, class_weight=balanced, learning_rate=optimal, loss=log_loss, penalty=elasticnet; total time=   1.0s\n",
      "[CV] END alpha=0.001, class_weight=balanced, learning_rate=optimal, loss=log_loss, penalty=elasticnet; total time=   0.9s\n",
      "[CV] END alpha=0.001, class_weight=balanced, learning_rate=optimal, loss=log_loss, penalty=None; total time=   0.8s\n",
      "[CV] END alpha=0.001, class_weight=balanced, learning_rate=optimal, loss=log_loss, penalty=None; total time=   0.8s\n",
      "[CV] END alpha=0.001, class_weight=balanced, learning_rate=optimal, loss=log_loss, penalty=None; total time=   0.8s\n",
      "[CV] END alpha=0.001, class_weight=balanced, learning_rate=optimal, loss=modified_huber, penalty=l2; total time=   0.8s\n",
      "[CV] END alpha=0.001, class_weight=balanced, learning_rate=optimal, loss=modified_huber, penalty=l2; total time=   0.7s\n",
      "[CV] END alpha=0.001, class_weight=balanced, learning_rate=optimal, loss=modified_huber, penalty=l2; total time=   0.8s\n",
      "[CV] END alpha=0.001, class_weight=balanced, learning_rate=optimal, loss=modified_huber, penalty=l1; total time=   0.9s\n",
      "[CV] END alpha=0.001, class_weight=balanced, learning_rate=optimal, loss=modified_huber, penalty=l1; total time=   0.8s\n",
      "[CV] END alpha=0.001, class_weight=balanced, learning_rate=optimal, loss=modified_huber, penalty=l1; total time=   0.9s\n",
      "[CV] END alpha=0.001, class_weight=balanced, learning_rate=optimal, loss=modified_huber, penalty=elasticnet; total time=   0.8s\n",
      "[CV] END alpha=0.001, class_weight=balanced, learning_rate=optimal, loss=modified_huber, penalty=elasticnet; total time=   0.8s\n",
      "[CV] END alpha=0.001, class_weight=balanced, learning_rate=optimal, loss=modified_huber, penalty=elasticnet; total time=   0.8s\n",
      "[CV] END alpha=0.001, class_weight=balanced, learning_rate=optimal, loss=modified_huber, penalty=None; total time=   1.0s\n"
     ]
    },
    {
     "name": "stdout",
     "output_type": "stream",
     "text": [
      "[CV] END alpha=0.001, class_weight=balanced, learning_rate=optimal, loss=modified_huber, penalty=None; total time=   0.8s\n",
      "[CV] END alpha=0.001, class_weight=balanced, learning_rate=optimal, loss=modified_huber, penalty=None; total time=   0.9s\n",
      "[CV] END alpha=0.001, class_weight=balanced, learning_rate=invscaling, loss=hinge, penalty=l2; total time=   0.0s\n",
      "[CV] END alpha=0.001, class_weight=balanced, learning_rate=invscaling, loss=hinge, penalty=l2; total time=   0.0s\n",
      "[CV] END alpha=0.001, class_weight=balanced, learning_rate=invscaling, loss=hinge, penalty=l2; total time=   0.0s\n",
      "[CV] END alpha=0.001, class_weight=balanced, learning_rate=invscaling, loss=hinge, penalty=l1; total time=   0.0s\n",
      "[CV] END alpha=0.001, class_weight=balanced, learning_rate=invscaling, loss=hinge, penalty=l1; total time=   0.0s\n",
      "[CV] END alpha=0.001, class_weight=balanced, learning_rate=invscaling, loss=hinge, penalty=l1; total time=   0.0s\n",
      "[CV] END alpha=0.001, class_weight=balanced, learning_rate=invscaling, loss=hinge, penalty=elasticnet; total time=   0.0s\n",
      "[CV] END alpha=0.001, class_weight=balanced, learning_rate=invscaling, loss=hinge, penalty=elasticnet; total time=   0.0s\n",
      "[CV] END alpha=0.001, class_weight=balanced, learning_rate=invscaling, loss=hinge, penalty=elasticnet; total time=   0.0s\n",
      "[CV] END alpha=0.001, class_weight=balanced, learning_rate=invscaling, loss=hinge, penalty=None; total time=   0.0s\n",
      "[CV] END alpha=0.001, class_weight=balanced, learning_rate=invscaling, loss=hinge, penalty=None; total time=   0.0s\n",
      "[CV] END alpha=0.001, class_weight=balanced, learning_rate=invscaling, loss=hinge, penalty=None; total time=   0.0s\n",
      "[CV] END alpha=0.001, class_weight=balanced, learning_rate=invscaling, loss=log_loss, penalty=l2; total time=   0.0s\n",
      "[CV] END alpha=0.001, class_weight=balanced, learning_rate=invscaling, loss=log_loss, penalty=l2; total time=   0.0s\n",
      "[CV] END alpha=0.001, class_weight=balanced, learning_rate=invscaling, loss=log_loss, penalty=l2; total time=   0.0s\n",
      "[CV] END alpha=0.001, class_weight=balanced, learning_rate=invscaling, loss=log_loss, penalty=l1; total time=   0.0s\n",
      "[CV] END alpha=0.001, class_weight=balanced, learning_rate=invscaling, loss=log_loss, penalty=l1; total time=   0.0s\n",
      "[CV] END alpha=0.001, class_weight=balanced, learning_rate=invscaling, loss=log_loss, penalty=l1; total time=   0.0s\n",
      "[CV] END alpha=0.001, class_weight=balanced, learning_rate=invscaling, loss=log_loss, penalty=elasticnet; total time=   0.0s\n",
      "[CV] END alpha=0.001, class_weight=balanced, learning_rate=invscaling, loss=log_loss, penalty=elasticnet; total time=   0.0s\n",
      "[CV] END alpha=0.001, class_weight=balanced, learning_rate=invscaling, loss=log_loss, penalty=elasticnet; total time=   0.0s\n",
      "[CV] END alpha=0.001, class_weight=balanced, learning_rate=invscaling, loss=log_loss, penalty=None; total time=   0.0s\n",
      "[CV] END alpha=0.001, class_weight=balanced, learning_rate=invscaling, loss=log_loss, penalty=None; total time=   0.0s\n",
      "[CV] END alpha=0.001, class_weight=balanced, learning_rate=invscaling, loss=log_loss, penalty=None; total time=   0.0s\n",
      "[CV] END alpha=0.001, class_weight=balanced, learning_rate=invscaling, loss=modified_huber, penalty=l2; total time=   0.0s\n",
      "[CV] END alpha=0.001, class_weight=balanced, learning_rate=invscaling, loss=modified_huber, penalty=l2; total time=   0.0s\n",
      "[CV] END alpha=0.001, class_weight=balanced, learning_rate=invscaling, loss=modified_huber, penalty=l2; total time=   0.0s\n",
      "[CV] END alpha=0.001, class_weight=balanced, learning_rate=invscaling, loss=modified_huber, penalty=l1; total time=   0.0s\n",
      "[CV] END alpha=0.001, class_weight=balanced, learning_rate=invscaling, loss=modified_huber, penalty=l1; total time=   0.0s\n",
      "[CV] END alpha=0.001, class_weight=balanced, learning_rate=invscaling, loss=modified_huber, penalty=l1; total time=   0.0s\n",
      "[CV] END alpha=0.001, class_weight=balanced, learning_rate=invscaling, loss=modified_huber, penalty=elasticnet; total time=   0.0s\n",
      "[CV] END alpha=0.001, class_weight=balanced, learning_rate=invscaling, loss=modified_huber, penalty=elasticnet; total time=   0.0s\n",
      "[CV] END alpha=0.001, class_weight=balanced, learning_rate=invscaling, loss=modified_huber, penalty=elasticnet; total time=   0.0s\n",
      "[CV] END alpha=0.001, class_weight=balanced, learning_rate=invscaling, loss=modified_huber, penalty=None; total time=   0.0s\n",
      "[CV] END alpha=0.001, class_weight=balanced, learning_rate=invscaling, loss=modified_huber, penalty=None; total time=   0.0s\n",
      "[CV] END alpha=0.001, class_weight=balanced, learning_rate=invscaling, loss=modified_huber, penalty=None; total time=   0.0s\n",
      "[CV] END alpha=0.001, class_weight=None, learning_rate=constant, loss=hinge, penalty=l2; total time=   0.0s\n",
      "[CV] END alpha=0.001, class_weight=None, learning_rate=constant, loss=hinge, penalty=l2; total time=   0.0s\n",
      "[CV] END alpha=0.001, class_weight=None, learning_rate=constant, loss=hinge, penalty=l2; total time=   0.0s\n",
      "[CV] END alpha=0.001, class_weight=None, learning_rate=constant, loss=hinge, penalty=l1; total time=   0.0s\n",
      "[CV] END alpha=0.001, class_weight=None, learning_rate=constant, loss=hinge, penalty=l1; total time=   0.0s\n",
      "[CV] END alpha=0.001, class_weight=None, learning_rate=constant, loss=hinge, penalty=l1; total time=   0.0s\n",
      "[CV] END alpha=0.001, class_weight=None, learning_rate=constant, loss=hinge, penalty=elasticnet; total time=   0.0s\n",
      "[CV] END alpha=0.001, class_weight=None, learning_rate=constant, loss=hinge, penalty=elasticnet; total time=   0.0s\n",
      "[CV] END alpha=0.001, class_weight=None, learning_rate=constant, loss=hinge, penalty=elasticnet; total time=   0.0s\n",
      "[CV] END alpha=0.001, class_weight=None, learning_rate=constant, loss=hinge, penalty=None; total time=   0.0s\n",
      "[CV] END alpha=0.001, class_weight=None, learning_rate=constant, loss=hinge, penalty=None; total time=   0.0s\n",
      "[CV] END alpha=0.001, class_weight=None, learning_rate=constant, loss=hinge, penalty=None; total time=   0.0s\n",
      "[CV] END alpha=0.001, class_weight=None, learning_rate=constant, loss=log_loss, penalty=l2; total time=   0.0s\n",
      "[CV] END alpha=0.001, class_weight=None, learning_rate=constant, loss=log_loss, penalty=l2; total time=   0.0s\n",
      "[CV] END alpha=0.001, class_weight=None, learning_rate=constant, loss=log_loss, penalty=l2; total time=   0.0s\n",
      "[CV] END alpha=0.001, class_weight=None, learning_rate=constant, loss=log_loss, penalty=l1; total time=   0.0s\n",
      "[CV] END alpha=0.001, class_weight=None, learning_rate=constant, loss=log_loss, penalty=l1; total time=   0.0s\n",
      "[CV] END alpha=0.001, class_weight=None, learning_rate=constant, loss=log_loss, penalty=l1; total time=   0.0s\n",
      "[CV] END alpha=0.001, class_weight=None, learning_rate=constant, loss=log_loss, penalty=elasticnet; total time=   0.0s\n",
      "[CV] END alpha=0.001, class_weight=None, learning_rate=constant, loss=log_loss, penalty=elasticnet; total time=   0.0s\n",
      "[CV] END alpha=0.001, class_weight=None, learning_rate=constant, loss=log_loss, penalty=elasticnet; total time=   0.0s\n",
      "[CV] END alpha=0.001, class_weight=None, learning_rate=constant, loss=log_loss, penalty=None; total time=   0.0s\n",
      "[CV] END alpha=0.001, class_weight=None, learning_rate=constant, loss=log_loss, penalty=None; total time=   0.0s\n",
      "[CV] END alpha=0.001, class_weight=None, learning_rate=constant, loss=log_loss, penalty=None; total time=   0.0s\n",
      "[CV] END alpha=0.001, class_weight=None, learning_rate=constant, loss=modified_huber, penalty=l2; total time=   0.0s\n",
      "[CV] END alpha=0.001, class_weight=None, learning_rate=constant, loss=modified_huber, penalty=l2; total time=   0.0s\n",
      "[CV] END alpha=0.001, class_weight=None, learning_rate=constant, loss=modified_huber, penalty=l2; total time=   0.0s\n",
      "[CV] END alpha=0.001, class_weight=None, learning_rate=constant, loss=modified_huber, penalty=l1; total time=   0.0s\n",
      "[CV] END alpha=0.001, class_weight=None, learning_rate=constant, loss=modified_huber, penalty=l1; total time=   0.0s\n",
      "[CV] END alpha=0.001, class_weight=None, learning_rate=constant, loss=modified_huber, penalty=l1; total time=   0.0s\n",
      "[CV] END alpha=0.001, class_weight=None, learning_rate=constant, loss=modified_huber, penalty=elasticnet; total time=   0.0s\n",
      "[CV] END alpha=0.001, class_weight=None, learning_rate=constant, loss=modified_huber, penalty=elasticnet; total time=   0.0s\n",
      "[CV] END alpha=0.001, class_weight=None, learning_rate=constant, loss=modified_huber, penalty=elasticnet; total time=   0.0s\n",
      "[CV] END alpha=0.001, class_weight=None, learning_rate=constant, loss=modified_huber, penalty=None; total time=   0.0s\n",
      "[CV] END alpha=0.001, class_weight=None, learning_rate=constant, loss=modified_huber, penalty=None; total time=   0.0s\n",
      "[CV] END alpha=0.001, class_weight=None, learning_rate=constant, loss=modified_huber, penalty=None; total time=   0.0s\n"
     ]
    },
    {
     "name": "stdout",
     "output_type": "stream",
     "text": [
      "[CV] END alpha=0.001, class_weight=None, learning_rate=optimal, loss=hinge, penalty=l2; total time=   0.8s\n",
      "[CV] END alpha=0.001, class_weight=None, learning_rate=optimal, loss=hinge, penalty=l2; total time=   0.7s\n",
      "[CV] END alpha=0.001, class_weight=None, learning_rate=optimal, loss=hinge, penalty=l2; total time=   0.8s\n",
      "[CV] END alpha=0.001, class_weight=None, learning_rate=optimal, loss=hinge, penalty=l1; total time=   0.8s\n",
      "[CV] END alpha=0.001, class_weight=None, learning_rate=optimal, loss=hinge, penalty=l1; total time=   0.9s\n",
      "[CV] END alpha=0.001, class_weight=None, learning_rate=optimal, loss=hinge, penalty=l1; total time=   1.1s\n",
      "[CV] END alpha=0.001, class_weight=None, learning_rate=optimal, loss=hinge, penalty=elasticnet; total time=   0.9s\n",
      "[CV] END alpha=0.001, class_weight=None, learning_rate=optimal, loss=hinge, penalty=elasticnet; total time=   0.9s\n",
      "[CV] END alpha=0.001, class_weight=None, learning_rate=optimal, loss=hinge, penalty=elasticnet; total time=   1.0s\n",
      "[CV] END alpha=0.001, class_weight=None, learning_rate=optimal, loss=hinge, penalty=None; total time=   0.8s\n",
      "[CV] END alpha=0.001, class_weight=None, learning_rate=optimal, loss=hinge, penalty=None; total time=   0.7s\n",
      "[CV] END alpha=0.001, class_weight=None, learning_rate=optimal, loss=hinge, penalty=None; total time=   0.7s\n",
      "[CV] END alpha=0.001, class_weight=None, learning_rate=optimal, loss=log_loss, penalty=l2; total time=   0.8s\n",
      "[CV] END alpha=0.001, class_weight=None, learning_rate=optimal, loss=log_loss, penalty=l2; total time=   0.9s\n",
      "[CV] END alpha=0.001, class_weight=None, learning_rate=optimal, loss=log_loss, penalty=l2; total time=   0.8s\n",
      "[CV] END alpha=0.001, class_weight=None, learning_rate=optimal, loss=log_loss, penalty=l1; total time=   0.9s\n",
      "[CV] END alpha=0.001, class_weight=None, learning_rate=optimal, loss=log_loss, penalty=l1; total time=   0.8s\n",
      "[CV] END alpha=0.001, class_weight=None, learning_rate=optimal, loss=log_loss, penalty=l1; total time=   0.8s\n",
      "[CV] END alpha=0.001, class_weight=None, learning_rate=optimal, loss=log_loss, penalty=elasticnet; total time=   0.8s\n",
      "[CV] END alpha=0.001, class_weight=None, learning_rate=optimal, loss=log_loss, penalty=elasticnet; total time=   0.8s\n",
      "[CV] END alpha=0.001, class_weight=None, learning_rate=optimal, loss=log_loss, penalty=elasticnet; total time=   1.0s\n",
      "[CV] END alpha=0.001, class_weight=None, learning_rate=optimal, loss=log_loss, penalty=None; total time=   0.8s\n",
      "[CV] END alpha=0.001, class_weight=None, learning_rate=optimal, loss=log_loss, penalty=None; total time=   0.7s\n",
      "[CV] END alpha=0.001, class_weight=None, learning_rate=optimal, loss=log_loss, penalty=None; total time=   0.8s\n",
      "[CV] END alpha=0.001, class_weight=None, learning_rate=optimal, loss=modified_huber, penalty=l2; total time=   0.8s\n",
      "[CV] END alpha=0.001, class_weight=None, learning_rate=optimal, loss=modified_huber, penalty=l2; total time=   0.8s\n",
      "[CV] END alpha=0.001, class_weight=None, learning_rate=optimal, loss=modified_huber, penalty=l2; total time=   0.7s\n",
      "[CV] END alpha=0.001, class_weight=None, learning_rate=optimal, loss=modified_huber, penalty=l1; total time=   0.8s\n",
      "[CV] END alpha=0.001, class_weight=None, learning_rate=optimal, loss=modified_huber, penalty=l1; total time=   0.8s\n",
      "[CV] END alpha=0.001, class_weight=None, learning_rate=optimal, loss=modified_huber, penalty=l1; total time=   0.7s\n",
      "[CV] END alpha=0.001, class_weight=None, learning_rate=optimal, loss=modified_huber, penalty=elasticnet; total time=   0.7s\n",
      "[CV] END alpha=0.001, class_weight=None, learning_rate=optimal, loss=modified_huber, penalty=elasticnet; total time=   0.7s\n",
      "[CV] END alpha=0.001, class_weight=None, learning_rate=optimal, loss=modified_huber, penalty=elasticnet; total time=   0.7s\n",
      "[CV] END alpha=0.001, class_weight=None, learning_rate=optimal, loss=modified_huber, penalty=None; total time=   0.6s\n",
      "[CV] END alpha=0.001, class_weight=None, learning_rate=optimal, loss=modified_huber, penalty=None; total time=   0.6s\n",
      "[CV] END alpha=0.001, class_weight=None, learning_rate=optimal, loss=modified_huber, penalty=None; total time=   0.7s\n",
      "[CV] END alpha=0.001, class_weight=None, learning_rate=invscaling, loss=hinge, penalty=l2; total time=   0.0s\n",
      "[CV] END alpha=0.001, class_weight=None, learning_rate=invscaling, loss=hinge, penalty=l2; total time=   0.0s\n",
      "[CV] END alpha=0.001, class_weight=None, learning_rate=invscaling, loss=hinge, penalty=l2; total time=   0.0s\n",
      "[CV] END alpha=0.001, class_weight=None, learning_rate=invscaling, loss=hinge, penalty=l1; total time=   0.0s\n",
      "[CV] END alpha=0.001, class_weight=None, learning_rate=invscaling, loss=hinge, penalty=l1; total time=   0.0s\n",
      "[CV] END alpha=0.001, class_weight=None, learning_rate=invscaling, loss=hinge, penalty=l1; total time=   0.0s\n",
      "[CV] END alpha=0.001, class_weight=None, learning_rate=invscaling, loss=hinge, penalty=elasticnet; total time=   0.0s\n",
      "[CV] END alpha=0.001, class_weight=None, learning_rate=invscaling, loss=hinge, penalty=elasticnet; total time=   0.0s\n",
      "[CV] END alpha=0.001, class_weight=None, learning_rate=invscaling, loss=hinge, penalty=elasticnet; total time=   0.0s\n",
      "[CV] END alpha=0.001, class_weight=None, learning_rate=invscaling, loss=hinge, penalty=None; total time=   0.0s\n",
      "[CV] END alpha=0.001, class_weight=None, learning_rate=invscaling, loss=hinge, penalty=None; total time=   0.0s\n",
      "[CV] END alpha=0.001, class_weight=None, learning_rate=invscaling, loss=hinge, penalty=None; total time=   0.0s\n",
      "[CV] END alpha=0.001, class_weight=None, learning_rate=invscaling, loss=log_loss, penalty=l2; total time=   0.0s\n",
      "[CV] END alpha=0.001, class_weight=None, learning_rate=invscaling, loss=log_loss, penalty=l2; total time=   0.0s\n",
      "[CV] END alpha=0.001, class_weight=None, learning_rate=invscaling, loss=log_loss, penalty=l2; total time=   0.0s\n",
      "[CV] END alpha=0.001, class_weight=None, learning_rate=invscaling, loss=log_loss, penalty=l1; total time=   0.0s\n",
      "[CV] END alpha=0.001, class_weight=None, learning_rate=invscaling, loss=log_loss, penalty=l1; total time=   0.0s\n",
      "[CV] END alpha=0.001, class_weight=None, learning_rate=invscaling, loss=log_loss, penalty=l1; total time=   0.0s\n",
      "[CV] END alpha=0.001, class_weight=None, learning_rate=invscaling, loss=log_loss, penalty=elasticnet; total time=   0.0s\n",
      "[CV] END alpha=0.001, class_weight=None, learning_rate=invscaling, loss=log_loss, penalty=elasticnet; total time=   0.0s\n",
      "[CV] END alpha=0.001, class_weight=None, learning_rate=invscaling, loss=log_loss, penalty=elasticnet; total time=   0.0s\n",
      "[CV] END alpha=0.001, class_weight=None, learning_rate=invscaling, loss=log_loss, penalty=None; total time=   0.0s\n",
      "[CV] END alpha=0.001, class_weight=None, learning_rate=invscaling, loss=log_loss, penalty=None; total time=   0.0s\n",
      "[CV] END alpha=0.001, class_weight=None, learning_rate=invscaling, loss=log_loss, penalty=None; total time=   0.0s\n",
      "[CV] END alpha=0.001, class_weight=None, learning_rate=invscaling, loss=modified_huber, penalty=l2; total time=   0.0s\n",
      "[CV] END alpha=0.001, class_weight=None, learning_rate=invscaling, loss=modified_huber, penalty=l2; total time=   0.0s\n",
      "[CV] END alpha=0.001, class_weight=None, learning_rate=invscaling, loss=modified_huber, penalty=l2; total time=   0.0s\n",
      "[CV] END alpha=0.001, class_weight=None, learning_rate=invscaling, loss=modified_huber, penalty=l1; total time=   0.0s\n",
      "[CV] END alpha=0.001, class_weight=None, learning_rate=invscaling, loss=modified_huber, penalty=l1; total time=   0.0s\n",
      "[CV] END alpha=0.001, class_weight=None, learning_rate=invscaling, loss=modified_huber, penalty=l1; total time=   0.0s\n",
      "[CV] END alpha=0.001, class_weight=None, learning_rate=invscaling, loss=modified_huber, penalty=elasticnet; total time=   0.0s\n",
      "[CV] END alpha=0.001, class_weight=None, learning_rate=invscaling, loss=modified_huber, penalty=elasticnet; total time=   0.0s\n",
      "[CV] END alpha=0.001, class_weight=None, learning_rate=invscaling, loss=modified_huber, penalty=elasticnet; total time=   0.0s\n",
      "[CV] END alpha=0.001, class_weight=None, learning_rate=invscaling, loss=modified_huber, penalty=None; total time=   0.0s\n",
      "[CV] END alpha=0.001, class_weight=None, learning_rate=invscaling, loss=modified_huber, penalty=None; total time=   0.0s\n",
      "[CV] END alpha=0.001, class_weight=None, learning_rate=invscaling, loss=modified_huber, penalty=None; total time=   0.0s\n",
      "[CV] END alpha=0.01, class_weight=balanced, learning_rate=constant, loss=hinge, penalty=l2; total time=   0.0s\n",
      "[CV] END alpha=0.01, class_weight=balanced, learning_rate=constant, loss=hinge, penalty=l2; total time=   0.0s\n",
      "[CV] END alpha=0.01, class_weight=balanced, learning_rate=constant, loss=hinge, penalty=l2; total time=   0.0s\n",
      "[CV] END alpha=0.01, class_weight=balanced, learning_rate=constant, loss=hinge, penalty=l1; total time=   0.0s\n"
     ]
    },
    {
     "name": "stdout",
     "output_type": "stream",
     "text": [
      "[CV] END alpha=0.01, class_weight=balanced, learning_rate=constant, loss=hinge, penalty=l1; total time=   0.0s\n",
      "[CV] END alpha=0.01, class_weight=balanced, learning_rate=constant, loss=hinge, penalty=l1; total time=   0.0s\n",
      "[CV] END alpha=0.01, class_weight=balanced, learning_rate=constant, loss=hinge, penalty=elasticnet; total time=   0.0s\n",
      "[CV] END alpha=0.01, class_weight=balanced, learning_rate=constant, loss=hinge, penalty=elasticnet; total time=   0.0s\n",
      "[CV] END alpha=0.01, class_weight=balanced, learning_rate=constant, loss=hinge, penalty=elasticnet; total time=   0.0s\n",
      "[CV] END alpha=0.01, class_weight=balanced, learning_rate=constant, loss=hinge, penalty=None; total time=   0.0s\n",
      "[CV] END alpha=0.01, class_weight=balanced, learning_rate=constant, loss=hinge, penalty=None; total time=   0.0s\n",
      "[CV] END alpha=0.01, class_weight=balanced, learning_rate=constant, loss=hinge, penalty=None; total time=   0.0s\n",
      "[CV] END alpha=0.01, class_weight=balanced, learning_rate=constant, loss=log_loss, penalty=l2; total time=   0.0s\n",
      "[CV] END alpha=0.01, class_weight=balanced, learning_rate=constant, loss=log_loss, penalty=l2; total time=   0.0s\n",
      "[CV] END alpha=0.01, class_weight=balanced, learning_rate=constant, loss=log_loss, penalty=l2; total time=   0.0s\n",
      "[CV] END alpha=0.01, class_weight=balanced, learning_rate=constant, loss=log_loss, penalty=l1; total time=   0.0s\n",
      "[CV] END alpha=0.01, class_weight=balanced, learning_rate=constant, loss=log_loss, penalty=l1; total time=   0.0s\n",
      "[CV] END alpha=0.01, class_weight=balanced, learning_rate=constant, loss=log_loss, penalty=l1; total time=   0.0s\n",
      "[CV] END alpha=0.01, class_weight=balanced, learning_rate=constant, loss=log_loss, penalty=elasticnet; total time=   0.0s\n",
      "[CV] END alpha=0.01, class_weight=balanced, learning_rate=constant, loss=log_loss, penalty=elasticnet; total time=   0.0s\n",
      "[CV] END alpha=0.01, class_weight=balanced, learning_rate=constant, loss=log_loss, penalty=elasticnet; total time=   0.0s\n",
      "[CV] END alpha=0.01, class_weight=balanced, learning_rate=constant, loss=log_loss, penalty=None; total time=   0.0s\n",
      "[CV] END alpha=0.01, class_weight=balanced, learning_rate=constant, loss=log_loss, penalty=None; total time=   0.0s\n",
      "[CV] END alpha=0.01, class_weight=balanced, learning_rate=constant, loss=log_loss, penalty=None; total time=   0.0s\n",
      "[CV] END alpha=0.01, class_weight=balanced, learning_rate=constant, loss=modified_huber, penalty=l2; total time=   0.0s\n",
      "[CV] END alpha=0.01, class_weight=balanced, learning_rate=constant, loss=modified_huber, penalty=l2; total time=   0.0s\n",
      "[CV] END alpha=0.01, class_weight=balanced, learning_rate=constant, loss=modified_huber, penalty=l2; total time=   0.0s\n",
      "[CV] END alpha=0.01, class_weight=balanced, learning_rate=constant, loss=modified_huber, penalty=l1; total time=   0.0s\n",
      "[CV] END alpha=0.01, class_weight=balanced, learning_rate=constant, loss=modified_huber, penalty=l1; total time=   0.0s\n",
      "[CV] END alpha=0.01, class_weight=balanced, learning_rate=constant, loss=modified_huber, penalty=l1; total time=   0.0s\n",
      "[CV] END alpha=0.01, class_weight=balanced, learning_rate=constant, loss=modified_huber, penalty=elasticnet; total time=   0.0s\n",
      "[CV] END alpha=0.01, class_weight=balanced, learning_rate=constant, loss=modified_huber, penalty=elasticnet; total time=   0.0s\n",
      "[CV] END alpha=0.01, class_weight=balanced, learning_rate=constant, loss=modified_huber, penalty=elasticnet; total time=   0.0s\n",
      "[CV] END alpha=0.01, class_weight=balanced, learning_rate=constant, loss=modified_huber, penalty=None; total time=   0.0s\n",
      "[CV] END alpha=0.01, class_weight=balanced, learning_rate=constant, loss=modified_huber, penalty=None; total time=   0.0s\n",
      "[CV] END alpha=0.01, class_weight=balanced, learning_rate=constant, loss=modified_huber, penalty=None; total time=   0.0s\n",
      "[CV] END alpha=0.01, class_weight=balanced, learning_rate=optimal, loss=hinge, penalty=l2; total time=   0.6s\n",
      "[CV] END alpha=0.01, class_weight=balanced, learning_rate=optimal, loss=hinge, penalty=l2; total time=   0.6s\n",
      "[CV] END alpha=0.01, class_weight=balanced, learning_rate=optimal, loss=hinge, penalty=l2; total time=   0.7s\n",
      "[CV] END alpha=0.01, class_weight=balanced, learning_rate=optimal, loss=hinge, penalty=l1; total time=   0.7s\n",
      "[CV] END alpha=0.01, class_weight=balanced, learning_rate=optimal, loss=hinge, penalty=l1; total time=   0.7s\n",
      "[CV] END alpha=0.01, class_weight=balanced, learning_rate=optimal, loss=hinge, penalty=l1; total time=   0.7s\n",
      "[CV] END alpha=0.01, class_weight=balanced, learning_rate=optimal, loss=hinge, penalty=elasticnet; total time=   0.7s\n",
      "[CV] END alpha=0.01, class_weight=balanced, learning_rate=optimal, loss=hinge, penalty=elasticnet; total time=   0.7s\n",
      "[CV] END alpha=0.01, class_weight=balanced, learning_rate=optimal, loss=hinge, penalty=elasticnet; total time=   0.7s\n",
      "[CV] END alpha=0.01, class_weight=balanced, learning_rate=optimal, loss=hinge, penalty=None; total time=   0.7s\n",
      "[CV] END alpha=0.01, class_weight=balanced, learning_rate=optimal, loss=hinge, penalty=None; total time=   0.7s\n",
      "[CV] END alpha=0.01, class_weight=balanced, learning_rate=optimal, loss=hinge, penalty=None; total time=   0.6s\n",
      "[CV] END alpha=0.01, class_weight=balanced, learning_rate=optimal, loss=log_loss, penalty=l2; total time=   0.7s\n",
      "[CV] END alpha=0.01, class_weight=balanced, learning_rate=optimal, loss=log_loss, penalty=l2; total time=   0.7s\n",
      "[CV] END alpha=0.01, class_weight=balanced, learning_rate=optimal, loss=log_loss, penalty=l2; total time=   0.7s\n",
      "[CV] END alpha=0.01, class_weight=balanced, learning_rate=optimal, loss=log_loss, penalty=l1; total time=   1.0s\n",
      "[CV] END alpha=0.01, class_weight=balanced, learning_rate=optimal, loss=log_loss, penalty=l1; total time=   0.7s\n",
      "[CV] END alpha=0.01, class_weight=balanced, learning_rate=optimal, loss=log_loss, penalty=l1; total time=   0.7s\n",
      "[CV] END alpha=0.01, class_weight=balanced, learning_rate=optimal, loss=log_loss, penalty=elasticnet; total time=   0.9s\n",
      "[CV] END alpha=0.01, class_weight=balanced, learning_rate=optimal, loss=log_loss, penalty=elasticnet; total time=   0.8s\n",
      "[CV] END alpha=0.01, class_weight=balanced, learning_rate=optimal, loss=log_loss, penalty=elasticnet; total time=   0.7s\n",
      "[CV] END alpha=0.01, class_weight=balanced, learning_rate=optimal, loss=log_loss, penalty=None; total time=   0.7s\n",
      "[CV] END alpha=0.01, class_weight=balanced, learning_rate=optimal, loss=log_loss, penalty=None; total time=   0.7s\n",
      "[CV] END alpha=0.01, class_weight=balanced, learning_rate=optimal, loss=log_loss, penalty=None; total time=   0.7s\n",
      "[CV] END alpha=0.01, class_weight=balanced, learning_rate=optimal, loss=modified_huber, penalty=l2; total time=   0.7s\n",
      "[CV] END alpha=0.01, class_weight=balanced, learning_rate=optimal, loss=modified_huber, penalty=l2; total time=   0.6s\n",
      "[CV] END alpha=0.01, class_weight=balanced, learning_rate=optimal, loss=modified_huber, penalty=l2; total time=   0.7s\n",
      "[CV] END alpha=0.01, class_weight=balanced, learning_rate=optimal, loss=modified_huber, penalty=l1; total time=   0.7s\n",
      "[CV] END alpha=0.01, class_weight=balanced, learning_rate=optimal, loss=modified_huber, penalty=l1; total time=   0.8s\n",
      "[CV] END alpha=0.01, class_weight=balanced, learning_rate=optimal, loss=modified_huber, penalty=l1; total time=   0.7s\n",
      "[CV] END alpha=0.01, class_weight=balanced, learning_rate=optimal, loss=modified_huber, penalty=elasticnet; total time=   0.7s\n",
      "[CV] END alpha=0.01, class_weight=balanced, learning_rate=optimal, loss=modified_huber, penalty=elasticnet; total time=   0.7s\n",
      "[CV] END alpha=0.01, class_weight=balanced, learning_rate=optimal, loss=modified_huber, penalty=elasticnet; total time=   0.7s\n",
      "[CV] END alpha=0.01, class_weight=balanced, learning_rate=optimal, loss=modified_huber, penalty=None; total time=   0.7s\n",
      "[CV] END alpha=0.01, class_weight=balanced, learning_rate=optimal, loss=modified_huber, penalty=None; total time=   0.7s\n",
      "[CV] END alpha=0.01, class_weight=balanced, learning_rate=optimal, loss=modified_huber, penalty=None; total time=   0.7s\n",
      "[CV] END alpha=0.01, class_weight=balanced, learning_rate=invscaling, loss=hinge, penalty=l2; total time=   0.0s\n",
      "[CV] END alpha=0.01, class_weight=balanced, learning_rate=invscaling, loss=hinge, penalty=l2; total time=   0.0s\n",
      "[CV] END alpha=0.01, class_weight=balanced, learning_rate=invscaling, loss=hinge, penalty=l2; total time=   0.0s\n",
      "[CV] END alpha=0.01, class_weight=balanced, learning_rate=invscaling, loss=hinge, penalty=l1; total time=   0.0s\n",
      "[CV] END alpha=0.01, class_weight=balanced, learning_rate=invscaling, loss=hinge, penalty=l1; total time=   0.0s\n",
      "[CV] END alpha=0.01, class_weight=balanced, learning_rate=invscaling, loss=hinge, penalty=l1; total time=   0.0s\n",
      "[CV] END alpha=0.01, class_weight=balanced, learning_rate=invscaling, loss=hinge, penalty=elasticnet; total time=   0.0s\n"
     ]
    },
    {
     "name": "stdout",
     "output_type": "stream",
     "text": [
      "[CV] END alpha=0.01, class_weight=balanced, learning_rate=invscaling, loss=hinge, penalty=elasticnet; total time=   0.0s\n",
      "[CV] END alpha=0.01, class_weight=balanced, learning_rate=invscaling, loss=hinge, penalty=elasticnet; total time=   0.0s\n",
      "[CV] END alpha=0.01, class_weight=balanced, learning_rate=invscaling, loss=hinge, penalty=None; total time=   0.0s\n",
      "[CV] END alpha=0.01, class_weight=balanced, learning_rate=invscaling, loss=hinge, penalty=None; total time=   0.0s\n",
      "[CV] END alpha=0.01, class_weight=balanced, learning_rate=invscaling, loss=hinge, penalty=None; total time=   0.0s\n",
      "[CV] END alpha=0.01, class_weight=balanced, learning_rate=invscaling, loss=log_loss, penalty=l2; total time=   0.0s\n",
      "[CV] END alpha=0.01, class_weight=balanced, learning_rate=invscaling, loss=log_loss, penalty=l2; total time=   0.0s\n",
      "[CV] END alpha=0.01, class_weight=balanced, learning_rate=invscaling, loss=log_loss, penalty=l2; total time=   0.0s\n",
      "[CV] END alpha=0.01, class_weight=balanced, learning_rate=invscaling, loss=log_loss, penalty=l1; total time=   0.0s\n",
      "[CV] END alpha=0.01, class_weight=balanced, learning_rate=invscaling, loss=log_loss, penalty=l1; total time=   0.0s\n",
      "[CV] END alpha=0.01, class_weight=balanced, learning_rate=invscaling, loss=log_loss, penalty=l1; total time=   0.0s\n",
      "[CV] END alpha=0.01, class_weight=balanced, learning_rate=invscaling, loss=log_loss, penalty=elasticnet; total time=   0.0s\n",
      "[CV] END alpha=0.01, class_weight=balanced, learning_rate=invscaling, loss=log_loss, penalty=elasticnet; total time=   0.0s\n",
      "[CV] END alpha=0.01, class_weight=balanced, learning_rate=invscaling, loss=log_loss, penalty=elasticnet; total time=   0.0s\n",
      "[CV] END alpha=0.01, class_weight=balanced, learning_rate=invscaling, loss=log_loss, penalty=None; total time=   0.0s\n",
      "[CV] END alpha=0.01, class_weight=balanced, learning_rate=invscaling, loss=log_loss, penalty=None; total time=   0.0s\n",
      "[CV] END alpha=0.01, class_weight=balanced, learning_rate=invscaling, loss=log_loss, penalty=None; total time=   0.0s\n",
      "[CV] END alpha=0.01, class_weight=balanced, learning_rate=invscaling, loss=modified_huber, penalty=l2; total time=   0.0s\n",
      "[CV] END alpha=0.01, class_weight=balanced, learning_rate=invscaling, loss=modified_huber, penalty=l2; total time=   0.0s\n",
      "[CV] END alpha=0.01, class_weight=balanced, learning_rate=invscaling, loss=modified_huber, penalty=l2; total time=   0.0s\n",
      "[CV] END alpha=0.01, class_weight=balanced, learning_rate=invscaling, loss=modified_huber, penalty=l1; total time=   0.0s\n",
      "[CV] END alpha=0.01, class_weight=balanced, learning_rate=invscaling, loss=modified_huber, penalty=l1; total time=   0.0s\n",
      "[CV] END alpha=0.01, class_weight=balanced, learning_rate=invscaling, loss=modified_huber, penalty=l1; total time=   0.0s\n",
      "[CV] END alpha=0.01, class_weight=balanced, learning_rate=invscaling, loss=modified_huber, penalty=elasticnet; total time=   0.0s\n",
      "[CV] END alpha=0.01, class_weight=balanced, learning_rate=invscaling, loss=modified_huber, penalty=elasticnet; total time=   0.0s\n",
      "[CV] END alpha=0.01, class_weight=balanced, learning_rate=invscaling, loss=modified_huber, penalty=elasticnet; total time=   0.0s\n",
      "[CV] END alpha=0.01, class_weight=balanced, learning_rate=invscaling, loss=modified_huber, penalty=None; total time=   0.0s\n",
      "[CV] END alpha=0.01, class_weight=balanced, learning_rate=invscaling, loss=modified_huber, penalty=None; total time=   0.0s\n",
      "[CV] END alpha=0.01, class_weight=balanced, learning_rate=invscaling, loss=modified_huber, penalty=None; total time=   0.0s\n",
      "[CV] END alpha=0.01, class_weight=None, learning_rate=constant, loss=hinge, penalty=l2; total time=   0.0s\n",
      "[CV] END alpha=0.01, class_weight=None, learning_rate=constant, loss=hinge, penalty=l2; total time=   0.0s\n",
      "[CV] END alpha=0.01, class_weight=None, learning_rate=constant, loss=hinge, penalty=l2; total time=   0.0s\n",
      "[CV] END alpha=0.01, class_weight=None, learning_rate=constant, loss=hinge, penalty=l1; total time=   0.0s\n",
      "[CV] END alpha=0.01, class_weight=None, learning_rate=constant, loss=hinge, penalty=l1; total time=   0.0s\n",
      "[CV] END alpha=0.01, class_weight=None, learning_rate=constant, loss=hinge, penalty=l1; total time=   0.0s\n",
      "[CV] END alpha=0.01, class_weight=None, learning_rate=constant, loss=hinge, penalty=elasticnet; total time=   0.0s\n",
      "[CV] END alpha=0.01, class_weight=None, learning_rate=constant, loss=hinge, penalty=elasticnet; total time=   0.0s\n",
      "[CV] END alpha=0.01, class_weight=None, learning_rate=constant, loss=hinge, penalty=elasticnet; total time=   0.0s\n",
      "[CV] END alpha=0.01, class_weight=None, learning_rate=constant, loss=hinge, penalty=None; total time=   0.0s\n",
      "[CV] END alpha=0.01, class_weight=None, learning_rate=constant, loss=hinge, penalty=None; total time=   0.0s\n",
      "[CV] END alpha=0.01, class_weight=None, learning_rate=constant, loss=hinge, penalty=None; total time=   0.0s\n",
      "[CV] END alpha=0.01, class_weight=None, learning_rate=constant, loss=log_loss, penalty=l2; total time=   0.0s\n",
      "[CV] END alpha=0.01, class_weight=None, learning_rate=constant, loss=log_loss, penalty=l2; total time=   0.0s\n",
      "[CV] END alpha=0.01, class_weight=None, learning_rate=constant, loss=log_loss, penalty=l2; total time=   0.0s\n",
      "[CV] END alpha=0.01, class_weight=None, learning_rate=constant, loss=log_loss, penalty=l1; total time=   0.0s\n",
      "[CV] END alpha=0.01, class_weight=None, learning_rate=constant, loss=log_loss, penalty=l1; total time=   0.0s\n",
      "[CV] END alpha=0.01, class_weight=None, learning_rate=constant, loss=log_loss, penalty=l1; total time=   0.0s\n",
      "[CV] END alpha=0.01, class_weight=None, learning_rate=constant, loss=log_loss, penalty=elasticnet; total time=   0.0s\n",
      "[CV] END alpha=0.01, class_weight=None, learning_rate=constant, loss=log_loss, penalty=elasticnet; total time=   0.0s\n",
      "[CV] END alpha=0.01, class_weight=None, learning_rate=constant, loss=log_loss, penalty=elasticnet; total time=   0.0s\n",
      "[CV] END alpha=0.01, class_weight=None, learning_rate=constant, loss=log_loss, penalty=None; total time=   0.0s\n",
      "[CV] END alpha=0.01, class_weight=None, learning_rate=constant, loss=log_loss, penalty=None; total time=   0.0s\n",
      "[CV] END alpha=0.01, class_weight=None, learning_rate=constant, loss=log_loss, penalty=None; total time=   0.0s\n",
      "[CV] END alpha=0.01, class_weight=None, learning_rate=constant, loss=modified_huber, penalty=l2; total time=   0.0s\n",
      "[CV] END alpha=0.01, class_weight=None, learning_rate=constant, loss=modified_huber, penalty=l2; total time=   0.0s\n",
      "[CV] END alpha=0.01, class_weight=None, learning_rate=constant, loss=modified_huber, penalty=l2; total time=   0.0s\n",
      "[CV] END alpha=0.01, class_weight=None, learning_rate=constant, loss=modified_huber, penalty=l1; total time=   0.0s\n",
      "[CV] END alpha=0.01, class_weight=None, learning_rate=constant, loss=modified_huber, penalty=l1; total time=   0.0s\n",
      "[CV] END alpha=0.01, class_weight=None, learning_rate=constant, loss=modified_huber, penalty=l1; total time=   0.0s\n",
      "[CV] END alpha=0.01, class_weight=None, learning_rate=constant, loss=modified_huber, penalty=elasticnet; total time=   0.0s\n",
      "[CV] END alpha=0.01, class_weight=None, learning_rate=constant, loss=modified_huber, penalty=elasticnet; total time=   0.0s\n",
      "[CV] END alpha=0.01, class_weight=None, learning_rate=constant, loss=modified_huber, penalty=elasticnet; total time=   0.0s\n",
      "[CV] END alpha=0.01, class_weight=None, learning_rate=constant, loss=modified_huber, penalty=None; total time=   0.0s\n",
      "[CV] END alpha=0.01, class_weight=None, learning_rate=constant, loss=modified_huber, penalty=None; total time=   0.0s\n",
      "[CV] END alpha=0.01, class_weight=None, learning_rate=constant, loss=modified_huber, penalty=None; total time=   0.0s\n",
      "[CV] END alpha=0.01, class_weight=None, learning_rate=optimal, loss=hinge, penalty=l2; total time=   0.7s\n",
      "[CV] END alpha=0.01, class_weight=None, learning_rate=optimal, loss=hinge, penalty=l2; total time=   0.7s\n",
      "[CV] END alpha=0.01, class_weight=None, learning_rate=optimal, loss=hinge, penalty=l2; total time=   0.6s\n",
      "[CV] END alpha=0.01, class_weight=None, learning_rate=optimal, loss=hinge, penalty=l1; total time=   0.7s\n",
      "[CV] END alpha=0.01, class_weight=None, learning_rate=optimal, loss=hinge, penalty=l1; total time=   0.7s\n",
      "[CV] END alpha=0.01, class_weight=None, learning_rate=optimal, loss=hinge, penalty=l1; total time=   0.7s\n"
     ]
    },
    {
     "name": "stdout",
     "output_type": "stream",
     "text": [
      "[CV] END alpha=0.01, class_weight=None, learning_rate=optimal, loss=hinge, penalty=elasticnet; total time=   0.7s\n",
      "[CV] END alpha=0.01, class_weight=None, learning_rate=optimal, loss=hinge, penalty=elasticnet; total time=   0.9s\n",
      "[CV] END alpha=0.01, class_weight=None, learning_rate=optimal, loss=hinge, penalty=elasticnet; total time=   0.7s\n",
      "[CV] END alpha=0.01, class_weight=None, learning_rate=optimal, loss=hinge, penalty=None; total time=   0.7s\n",
      "[CV] END alpha=0.01, class_weight=None, learning_rate=optimal, loss=hinge, penalty=None; total time=   0.7s\n",
      "[CV] END alpha=0.01, class_weight=None, learning_rate=optimal, loss=hinge, penalty=None; total time=   0.6s\n",
      "[CV] END alpha=0.01, class_weight=None, learning_rate=optimal, loss=log_loss, penalty=l2; total time=   0.7s\n",
      "[CV] END alpha=0.01, class_weight=None, learning_rate=optimal, loss=log_loss, penalty=l2; total time=   0.7s\n",
      "[CV] END alpha=0.01, class_weight=None, learning_rate=optimal, loss=log_loss, penalty=l2; total time=   0.7s\n",
      "[CV] END alpha=0.01, class_weight=None, learning_rate=optimal, loss=log_loss, penalty=l1; total time=   0.7s\n",
      "[CV] END alpha=0.01, class_weight=None, learning_rate=optimal, loss=log_loss, penalty=l1; total time=   0.7s\n",
      "[CV] END alpha=0.01, class_weight=None, learning_rate=optimal, loss=log_loss, penalty=l1; total time=   0.9s\n",
      "[CV] END alpha=0.01, class_weight=None, learning_rate=optimal, loss=log_loss, penalty=elasticnet; total time=   0.8s\n",
      "[CV] END alpha=0.01, class_weight=None, learning_rate=optimal, loss=log_loss, penalty=elasticnet; total time=   0.7s\n",
      "[CV] END alpha=0.01, class_weight=None, learning_rate=optimal, loss=log_loss, penalty=elasticnet; total time=   0.7s\n",
      "[CV] END alpha=0.01, class_weight=None, learning_rate=optimal, loss=log_loss, penalty=None; total time=   0.7s\n",
      "[CV] END alpha=0.01, class_weight=None, learning_rate=optimal, loss=log_loss, penalty=None; total time=   0.7s\n",
      "[CV] END alpha=0.01, class_weight=None, learning_rate=optimal, loss=log_loss, penalty=None; total time=   0.8s\n",
      "[CV] END alpha=0.01, class_weight=None, learning_rate=optimal, loss=modified_huber, penalty=l2; total time=   0.9s\n",
      "[CV] END alpha=0.01, class_weight=None, learning_rate=optimal, loss=modified_huber, penalty=l2; total time=   0.7s\n",
      "[CV] END alpha=0.01, class_weight=None, learning_rate=optimal, loss=modified_huber, penalty=l2; total time=   0.6s\n",
      "[CV] END alpha=0.01, class_weight=None, learning_rate=optimal, loss=modified_huber, penalty=l1; total time=   0.7s\n",
      "[CV] END alpha=0.01, class_weight=None, learning_rate=optimal, loss=modified_huber, penalty=l1; total time=   0.7s\n",
      "[CV] END alpha=0.01, class_weight=None, learning_rate=optimal, loss=modified_huber, penalty=l1; total time=   0.9s\n",
      "[CV] END alpha=0.01, class_weight=None, learning_rate=optimal, loss=modified_huber, penalty=elasticnet; total time=   0.7s\n",
      "[CV] END alpha=0.01, class_weight=None, learning_rate=optimal, loss=modified_huber, penalty=elasticnet; total time=   0.7s\n",
      "[CV] END alpha=0.01, class_weight=None, learning_rate=optimal, loss=modified_huber, penalty=elasticnet; total time=   0.7s\n",
      "[CV] END alpha=0.01, class_weight=None, learning_rate=optimal, loss=modified_huber, penalty=None; total time=   0.7s\n",
      "[CV] END alpha=0.01, class_weight=None, learning_rate=optimal, loss=modified_huber, penalty=None; total time=   0.7s\n",
      "[CV] END alpha=0.01, class_weight=None, learning_rate=optimal, loss=modified_huber, penalty=None; total time=   0.7s\n",
      "[CV] END alpha=0.01, class_weight=None, learning_rate=invscaling, loss=hinge, penalty=l2; total time=   0.0s\n",
      "[CV] END alpha=0.01, class_weight=None, learning_rate=invscaling, loss=hinge, penalty=l2; total time=   0.0s\n",
      "[CV] END alpha=0.01, class_weight=None, learning_rate=invscaling, loss=hinge, penalty=l2; total time=   0.0s\n",
      "[CV] END alpha=0.01, class_weight=None, learning_rate=invscaling, loss=hinge, penalty=l1; total time=   0.0s\n",
      "[CV] END alpha=0.01, class_weight=None, learning_rate=invscaling, loss=hinge, penalty=l1; total time=   0.0s\n",
      "[CV] END alpha=0.01, class_weight=None, learning_rate=invscaling, loss=hinge, penalty=l1; total time=   0.0s\n",
      "[CV] END alpha=0.01, class_weight=None, learning_rate=invscaling, loss=hinge, penalty=elasticnet; total time=   0.0s\n",
      "[CV] END alpha=0.01, class_weight=None, learning_rate=invscaling, loss=hinge, penalty=elasticnet; total time=   0.0s\n",
      "[CV] END alpha=0.01, class_weight=None, learning_rate=invscaling, loss=hinge, penalty=elasticnet; total time=   0.0s\n",
      "[CV] END alpha=0.01, class_weight=None, learning_rate=invscaling, loss=hinge, penalty=None; total time=   0.0s\n",
      "[CV] END alpha=0.01, class_weight=None, learning_rate=invscaling, loss=hinge, penalty=None; total time=   0.0s\n",
      "[CV] END alpha=0.01, class_weight=None, learning_rate=invscaling, loss=hinge, penalty=None; total time=   0.0s\n",
      "[CV] END alpha=0.01, class_weight=None, learning_rate=invscaling, loss=log_loss, penalty=l2; total time=   0.0s\n",
      "[CV] END alpha=0.01, class_weight=None, learning_rate=invscaling, loss=log_loss, penalty=l2; total time=   0.0s\n",
      "[CV] END alpha=0.01, class_weight=None, learning_rate=invscaling, loss=log_loss, penalty=l2; total time=   0.0s\n",
      "[CV] END alpha=0.01, class_weight=None, learning_rate=invscaling, loss=log_loss, penalty=l1; total time=   0.0s\n",
      "[CV] END alpha=0.01, class_weight=None, learning_rate=invscaling, loss=log_loss, penalty=l1; total time=   0.0s\n",
      "[CV] END alpha=0.01, class_weight=None, learning_rate=invscaling, loss=log_loss, penalty=l1; total time=   0.0s\n",
      "[CV] END alpha=0.01, class_weight=None, learning_rate=invscaling, loss=log_loss, penalty=elasticnet; total time=   0.0s\n",
      "[CV] END alpha=0.01, class_weight=None, learning_rate=invscaling, loss=log_loss, penalty=elasticnet; total time=   0.0s\n",
      "[CV] END alpha=0.01, class_weight=None, learning_rate=invscaling, loss=log_loss, penalty=elasticnet; total time=   0.0s\n",
      "[CV] END alpha=0.01, class_weight=None, learning_rate=invscaling, loss=log_loss, penalty=None; total time=   0.0s\n",
      "[CV] END alpha=0.01, class_weight=None, learning_rate=invscaling, loss=log_loss, penalty=None; total time=   0.0s\n",
      "[CV] END alpha=0.01, class_weight=None, learning_rate=invscaling, loss=log_loss, penalty=None; total time=   0.0s\n",
      "[CV] END alpha=0.01, class_weight=None, learning_rate=invscaling, loss=modified_huber, penalty=l2; total time=   0.0s\n",
      "[CV] END alpha=0.01, class_weight=None, learning_rate=invscaling, loss=modified_huber, penalty=l2; total time=   0.0s\n",
      "[CV] END alpha=0.01, class_weight=None, learning_rate=invscaling, loss=modified_huber, penalty=l2; total time=   0.0s\n",
      "[CV] END alpha=0.01, class_weight=None, learning_rate=invscaling, loss=modified_huber, penalty=l1; total time=   0.0s\n",
      "[CV] END alpha=0.01, class_weight=None, learning_rate=invscaling, loss=modified_huber, penalty=l1; total time=   0.0s\n",
      "[CV] END alpha=0.01, class_weight=None, learning_rate=invscaling, loss=modified_huber, penalty=l1; total time=   0.0s\n",
      "[CV] END alpha=0.01, class_weight=None, learning_rate=invscaling, loss=modified_huber, penalty=elasticnet; total time=   0.0s\n",
      "[CV] END alpha=0.01, class_weight=None, learning_rate=invscaling, loss=modified_huber, penalty=elasticnet; total time=   0.0s\n",
      "[CV] END alpha=0.01, class_weight=None, learning_rate=invscaling, loss=modified_huber, penalty=elasticnet; total time=   0.0s\n",
      "[CV] END alpha=0.01, class_weight=None, learning_rate=invscaling, loss=modified_huber, penalty=None; total time=   0.0s\n",
      "[CV] END alpha=0.01, class_weight=None, learning_rate=invscaling, loss=modified_huber, penalty=None; total time=   0.0s\n",
      "[CV] END alpha=0.01, class_weight=None, learning_rate=invscaling, loss=modified_huber, penalty=None; total time=   0.0s\n",
      "[CV] END alpha=0.1, class_weight=balanced, learning_rate=constant, loss=hinge, penalty=l2; total time=   0.0s\n",
      "[CV] END alpha=0.1, class_weight=balanced, learning_rate=constant, loss=hinge, penalty=l2; total time=   0.0s\n",
      "[CV] END alpha=0.1, class_weight=balanced, learning_rate=constant, loss=hinge, penalty=l2; total time=   0.0s\n",
      "[CV] END alpha=0.1, class_weight=balanced, learning_rate=constant, loss=hinge, penalty=l1; total time=   0.0s\n",
      "[CV] END alpha=0.1, class_weight=balanced, learning_rate=constant, loss=hinge, penalty=l1; total time=   0.0s\n",
      "[CV] END alpha=0.1, class_weight=balanced, learning_rate=constant, loss=hinge, penalty=l1; total time=   0.0s\n",
      "[CV] END alpha=0.1, class_weight=balanced, learning_rate=constant, loss=hinge, penalty=elasticnet; total time=   0.0s\n",
      "[CV] END alpha=0.1, class_weight=balanced, learning_rate=constant, loss=hinge, penalty=elasticnet; total time=   0.0s\n",
      "[CV] END alpha=0.1, class_weight=balanced, learning_rate=constant, loss=hinge, penalty=elasticnet; total time=   0.0s\n",
      "[CV] END alpha=0.1, class_weight=balanced, learning_rate=constant, loss=hinge, penalty=None; total time=   0.0s\n"
     ]
    },
    {
     "name": "stdout",
     "output_type": "stream",
     "text": [
      "[CV] END alpha=0.1, class_weight=balanced, learning_rate=constant, loss=hinge, penalty=None; total time=   0.0s\n",
      "[CV] END alpha=0.1, class_weight=balanced, learning_rate=constant, loss=hinge, penalty=None; total time=   0.0s\n",
      "[CV] END alpha=0.1, class_weight=balanced, learning_rate=constant, loss=log_loss, penalty=l2; total time=   0.0s\n",
      "[CV] END alpha=0.1, class_weight=balanced, learning_rate=constant, loss=log_loss, penalty=l2; total time=   0.0s\n",
      "[CV] END alpha=0.1, class_weight=balanced, learning_rate=constant, loss=log_loss, penalty=l2; total time=   0.0s\n",
      "[CV] END alpha=0.1, class_weight=balanced, learning_rate=constant, loss=log_loss, penalty=l1; total time=   0.0s\n",
      "[CV] END alpha=0.1, class_weight=balanced, learning_rate=constant, loss=log_loss, penalty=l1; total time=   0.0s\n",
      "[CV] END alpha=0.1, class_weight=balanced, learning_rate=constant, loss=log_loss, penalty=l1; total time=   0.0s\n",
      "[CV] END alpha=0.1, class_weight=balanced, learning_rate=constant, loss=log_loss, penalty=elasticnet; total time=   0.0s\n",
      "[CV] END alpha=0.1, class_weight=balanced, learning_rate=constant, loss=log_loss, penalty=elasticnet; total time=   0.0s\n",
      "[CV] END alpha=0.1, class_weight=balanced, learning_rate=constant, loss=log_loss, penalty=elasticnet; total time=   0.0s\n",
      "[CV] END alpha=0.1, class_weight=balanced, learning_rate=constant, loss=log_loss, penalty=None; total time=   0.0s\n",
      "[CV] END alpha=0.1, class_weight=balanced, learning_rate=constant, loss=log_loss, penalty=None; total time=   0.0s\n",
      "[CV] END alpha=0.1, class_weight=balanced, learning_rate=constant, loss=log_loss, penalty=None; total time=   0.0s\n",
      "[CV] END alpha=0.1, class_weight=balanced, learning_rate=constant, loss=modified_huber, penalty=l2; total time=   0.0s\n",
      "[CV] END alpha=0.1, class_weight=balanced, learning_rate=constant, loss=modified_huber, penalty=l2; total time=   0.0s\n",
      "[CV] END alpha=0.1, class_weight=balanced, learning_rate=constant, loss=modified_huber, penalty=l2; total time=   0.0s\n",
      "[CV] END alpha=0.1, class_weight=balanced, learning_rate=constant, loss=modified_huber, penalty=l1; total time=   0.0s\n",
      "[CV] END alpha=0.1, class_weight=balanced, learning_rate=constant, loss=modified_huber, penalty=l1; total time=   0.0s\n",
      "[CV] END alpha=0.1, class_weight=balanced, learning_rate=constant, loss=modified_huber, penalty=l1; total time=   0.0s\n",
      "[CV] END alpha=0.1, class_weight=balanced, learning_rate=constant, loss=modified_huber, penalty=elasticnet; total time=   0.0s\n",
      "[CV] END alpha=0.1, class_weight=balanced, learning_rate=constant, loss=modified_huber, penalty=elasticnet; total time=   0.0s\n",
      "[CV] END alpha=0.1, class_weight=balanced, learning_rate=constant, loss=modified_huber, penalty=elasticnet; total time=   0.0s\n",
      "[CV] END alpha=0.1, class_weight=balanced, learning_rate=constant, loss=modified_huber, penalty=None; total time=   0.0s\n",
      "[CV] END alpha=0.1, class_weight=balanced, learning_rate=constant, loss=modified_huber, penalty=None; total time=   0.0s\n",
      "[CV] END alpha=0.1, class_weight=balanced, learning_rate=constant, loss=modified_huber, penalty=None; total time=   0.0s\n",
      "[CV] END alpha=0.1, class_weight=balanced, learning_rate=optimal, loss=hinge, penalty=l2; total time=   0.7s\n",
      "[CV] END alpha=0.1, class_weight=balanced, learning_rate=optimal, loss=hinge, penalty=l2; total time=   0.7s\n",
      "[CV] END alpha=0.1, class_weight=balanced, learning_rate=optimal, loss=hinge, penalty=l2; total time=   0.7s\n",
      "[CV] END alpha=0.1, class_weight=balanced, learning_rate=optimal, loss=hinge, penalty=l1; total time=   0.8s\n",
      "[CV] END alpha=0.1, class_weight=balanced, learning_rate=optimal, loss=hinge, penalty=l1; total time=   0.8s\n",
      "[CV] END alpha=0.1, class_weight=balanced, learning_rate=optimal, loss=hinge, penalty=l1; total time=   0.8s\n",
      "[CV] END alpha=0.1, class_weight=balanced, learning_rate=optimal, loss=hinge, penalty=elasticnet; total time=   0.8s\n",
      "[CV] END alpha=0.1, class_weight=balanced, learning_rate=optimal, loss=hinge, penalty=elasticnet; total time=   0.8s\n",
      "[CV] END alpha=0.1, class_weight=balanced, learning_rate=optimal, loss=hinge, penalty=elasticnet; total time=   0.8s\n",
      "[CV] END alpha=0.1, class_weight=balanced, learning_rate=optimal, loss=hinge, penalty=None; total time=   0.7s\n",
      "[CV] END alpha=0.1, class_weight=balanced, learning_rate=optimal, loss=hinge, penalty=None; total time=   0.7s\n",
      "[CV] END alpha=0.1, class_weight=balanced, learning_rate=optimal, loss=hinge, penalty=None; total time=   0.8s\n",
      "[CV] END alpha=0.1, class_weight=balanced, learning_rate=optimal, loss=log_loss, penalty=l2; total time=   0.8s\n",
      "[CV] END alpha=0.1, class_weight=balanced, learning_rate=optimal, loss=log_loss, penalty=l2; total time=   0.8s\n",
      "[CV] END alpha=0.1, class_weight=balanced, learning_rate=optimal, loss=log_loss, penalty=l2; total time=   0.8s\n",
      "[CV] END alpha=0.1, class_weight=balanced, learning_rate=optimal, loss=log_loss, penalty=l1; total time=   1.1s\n",
      "[CV] END alpha=0.1, class_weight=balanced, learning_rate=optimal, loss=log_loss, penalty=l1; total time=   1.3s\n"
     ]
    },
    {
     "name": "stderr",
     "output_type": "stream",
     "text": [
      "D:\\study\\Anaconda\\envs\\multicampus\\lib\\site-packages\\sklearn\\metrics\\_classification.py:1334: UndefinedMetricWarning: Precision is ill-defined and being set to 0.0 due to no predicted samples. Use `zero_division` parameter to control this behavior.\n",
      "  _warn_prf(average, modifier, msg_start, len(result))\n"
     ]
    },
    {
     "name": "stdout",
     "output_type": "stream",
     "text": [
      "[CV] END alpha=0.1, class_weight=balanced, learning_rate=optimal, loss=log_loss, penalty=l1; total time=   1.3s\n",
      "[CV] END alpha=0.1, class_weight=balanced, learning_rate=optimal, loss=log_loss, penalty=elasticnet; total time=   1.2s\n",
      "[CV] END alpha=0.1, class_weight=balanced, learning_rate=optimal, loss=log_loss, penalty=elasticnet; total time=   0.9s\n",
      "[CV] END alpha=0.1, class_weight=balanced, learning_rate=optimal, loss=log_loss, penalty=elasticnet; total time=   1.0s\n",
      "[CV] END alpha=0.1, class_weight=balanced, learning_rate=optimal, loss=log_loss, penalty=None; total time=   1.0s\n",
      "[CV] END alpha=0.1, class_weight=balanced, learning_rate=optimal, loss=log_loss, penalty=None; total time=   0.9s\n",
      "[CV] END alpha=0.1, class_weight=balanced, learning_rate=optimal, loss=log_loss, penalty=None; total time=   0.9s\n",
      "[CV] END alpha=0.1, class_weight=balanced, learning_rate=optimal, loss=modified_huber, penalty=l2; total time=   0.8s\n",
      "[CV] END alpha=0.1, class_weight=balanced, learning_rate=optimal, loss=modified_huber, penalty=l2; total time=   0.7s\n",
      "[CV] END alpha=0.1, class_weight=balanced, learning_rate=optimal, loss=modified_huber, penalty=l2; total time=   0.7s\n",
      "[CV] END alpha=0.1, class_weight=balanced, learning_rate=optimal, loss=modified_huber, penalty=l1; total time=   0.8s\n",
      "[CV] END alpha=0.1, class_weight=balanced, learning_rate=optimal, loss=modified_huber, penalty=l1; total time=   0.8s\n",
      "[CV] END alpha=0.1, class_weight=balanced, learning_rate=optimal, loss=modified_huber, penalty=l1; total time=   0.8s\n",
      "[CV] END alpha=0.1, class_weight=balanced, learning_rate=optimal, loss=modified_huber, penalty=elasticnet; total time=   0.8s\n",
      "[CV] END alpha=0.1, class_weight=balanced, learning_rate=optimal, loss=modified_huber, penalty=elasticnet; total time=   0.8s\n",
      "[CV] END alpha=0.1, class_weight=balanced, learning_rate=optimal, loss=modified_huber, penalty=elasticnet; total time=   0.8s\n",
      "[CV] END alpha=0.1, class_weight=balanced, learning_rate=optimal, loss=modified_huber, penalty=None; total time=   0.8s\n",
      "[CV] END alpha=0.1, class_weight=balanced, learning_rate=optimal, loss=modified_huber, penalty=None; total time=   0.8s\n",
      "[CV] END alpha=0.1, class_weight=balanced, learning_rate=optimal, loss=modified_huber, penalty=None; total time=   0.8s\n",
      "[CV] END alpha=0.1, class_weight=balanced, learning_rate=invscaling, loss=hinge, penalty=l2; total time=   0.0s\n",
      "[CV] END alpha=0.1, class_weight=balanced, learning_rate=invscaling, loss=hinge, penalty=l2; total time=   0.0s\n",
      "[CV] END alpha=0.1, class_weight=balanced, learning_rate=invscaling, loss=hinge, penalty=l2; total time=   0.0s\n",
      "[CV] END alpha=0.1, class_weight=balanced, learning_rate=invscaling, loss=hinge, penalty=l1; total time=   0.0s\n",
      "[CV] END alpha=0.1, class_weight=balanced, learning_rate=invscaling, loss=hinge, penalty=l1; total time=   0.0s\n",
      "[CV] END alpha=0.1, class_weight=balanced, learning_rate=invscaling, loss=hinge, penalty=l1; total time=   0.0s\n",
      "[CV] END alpha=0.1, class_weight=balanced, learning_rate=invscaling, loss=hinge, penalty=elasticnet; total time=   0.0s\n",
      "[CV] END alpha=0.1, class_weight=balanced, learning_rate=invscaling, loss=hinge, penalty=elasticnet; total time=   0.0s\n",
      "[CV] END alpha=0.1, class_weight=balanced, learning_rate=invscaling, loss=hinge, penalty=elasticnet; total time=   0.0s\n",
      "[CV] END alpha=0.1, class_weight=balanced, learning_rate=invscaling, loss=hinge, penalty=None; total time=   0.0s\n",
      "[CV] END alpha=0.1, class_weight=balanced, learning_rate=invscaling, loss=hinge, penalty=None; total time=   0.0s\n",
      "[CV] END alpha=0.1, class_weight=balanced, learning_rate=invscaling, loss=hinge, penalty=None; total time=   0.0s\n",
      "[CV] END alpha=0.1, class_weight=balanced, learning_rate=invscaling, loss=log_loss, penalty=l2; total time=   0.0s\n",
      "[CV] END alpha=0.1, class_weight=balanced, learning_rate=invscaling, loss=log_loss, penalty=l2; total time=   0.0s\n",
      "[CV] END alpha=0.1, class_weight=balanced, learning_rate=invscaling, loss=log_loss, penalty=l2; total time=   0.0s\n",
      "[CV] END alpha=0.1, class_weight=balanced, learning_rate=invscaling, loss=log_loss, penalty=l1; total time=   0.0s\n",
      "[CV] END alpha=0.1, class_weight=balanced, learning_rate=invscaling, loss=log_loss, penalty=l1; total time=   0.0s\n",
      "[CV] END alpha=0.1, class_weight=balanced, learning_rate=invscaling, loss=log_loss, penalty=l1; total time=   0.0s\n",
      "[CV] END alpha=0.1, class_weight=balanced, learning_rate=invscaling, loss=log_loss, penalty=elasticnet; total time=   0.0s\n",
      "[CV] END alpha=0.1, class_weight=balanced, learning_rate=invscaling, loss=log_loss, penalty=elasticnet; total time=   0.0s\n",
      "[CV] END alpha=0.1, class_weight=balanced, learning_rate=invscaling, loss=log_loss, penalty=elasticnet; total time=   0.0s\n",
      "[CV] END alpha=0.1, class_weight=balanced, learning_rate=invscaling, loss=log_loss, penalty=None; total time=   0.0s\n",
      "[CV] END alpha=0.1, class_weight=balanced, learning_rate=invscaling, loss=log_loss, penalty=None; total time=   0.0s\n",
      "[CV] END alpha=0.1, class_weight=balanced, learning_rate=invscaling, loss=log_loss, penalty=None; total time=   0.0s\n",
      "[CV] END alpha=0.1, class_weight=balanced, learning_rate=invscaling, loss=modified_huber, penalty=l2; total time=   0.0s\n",
      "[CV] END alpha=0.1, class_weight=balanced, learning_rate=invscaling, loss=modified_huber, penalty=l2; total time=   0.0s\n",
      "[CV] END alpha=0.1, class_weight=balanced, learning_rate=invscaling, loss=modified_huber, penalty=l2; total time=   0.0s\n",
      "[CV] END alpha=0.1, class_weight=balanced, learning_rate=invscaling, loss=modified_huber, penalty=l1; total time=   0.0s\n",
      "[CV] END alpha=0.1, class_weight=balanced, learning_rate=invscaling, loss=modified_huber, penalty=l1; total time=   0.0s\n",
      "[CV] END alpha=0.1, class_weight=balanced, learning_rate=invscaling, loss=modified_huber, penalty=l1; total time=   0.0s\n",
      "[CV] END alpha=0.1, class_weight=balanced, learning_rate=invscaling, loss=modified_huber, penalty=elasticnet; total time=   0.0s\n",
      "[CV] END alpha=0.1, class_weight=balanced, learning_rate=invscaling, loss=modified_huber, penalty=elasticnet; total time=   0.0s\n",
      "[CV] END alpha=0.1, class_weight=balanced, learning_rate=invscaling, loss=modified_huber, penalty=elasticnet; total time=   0.0s\n",
      "[CV] END alpha=0.1, class_weight=balanced, learning_rate=invscaling, loss=modified_huber, penalty=None; total time=   0.0s\n",
      "[CV] END alpha=0.1, class_weight=balanced, learning_rate=invscaling, loss=modified_huber, penalty=None; total time=   0.0s\n",
      "[CV] END alpha=0.1, class_weight=balanced, learning_rate=invscaling, loss=modified_huber, penalty=None; total time=   0.0s\n",
      "[CV] END alpha=0.1, class_weight=None, learning_rate=constant, loss=hinge, penalty=l2; total time=   0.0s\n",
      "[CV] END alpha=0.1, class_weight=None, learning_rate=constant, loss=hinge, penalty=l2; total time=   0.0s\n",
      "[CV] END alpha=0.1, class_weight=None, learning_rate=constant, loss=hinge, penalty=l2; total time=   0.0s\n",
      "[CV] END alpha=0.1, class_weight=None, learning_rate=constant, loss=hinge, penalty=l1; total time=   0.0s\n",
      "[CV] END alpha=0.1, class_weight=None, learning_rate=constant, loss=hinge, penalty=l1; total time=   0.0s\n",
      "[CV] END alpha=0.1, class_weight=None, learning_rate=constant, loss=hinge, penalty=l1; total time=   0.0s\n",
      "[CV] END alpha=0.1, class_weight=None, learning_rate=constant, loss=hinge, penalty=elasticnet; total time=   0.0s\n",
      "[CV] END alpha=0.1, class_weight=None, learning_rate=constant, loss=hinge, penalty=elasticnet; total time=   0.0s\n",
      "[CV] END alpha=0.1, class_weight=None, learning_rate=constant, loss=hinge, penalty=elasticnet; total time=   0.0s\n",
      "[CV] END alpha=0.1, class_weight=None, learning_rate=constant, loss=hinge, penalty=None; total time=   0.0s\n",
      "[CV] END alpha=0.1, class_weight=None, learning_rate=constant, loss=hinge, penalty=None; total time=   0.0s\n",
      "[CV] END alpha=0.1, class_weight=None, learning_rate=constant, loss=hinge, penalty=None; total time=   0.0s\n",
      "[CV] END alpha=0.1, class_weight=None, learning_rate=constant, loss=log_loss, penalty=l2; total time=   0.0s\n",
      "[CV] END alpha=0.1, class_weight=None, learning_rate=constant, loss=log_loss, penalty=l2; total time=   0.0s\n",
      "[CV] END alpha=0.1, class_weight=None, learning_rate=constant, loss=log_loss, penalty=l2; total time=   0.0s\n",
      "[CV] END alpha=0.1, class_weight=None, learning_rate=constant, loss=log_loss, penalty=l1; total time=   0.0s\n",
      "[CV] END alpha=0.1, class_weight=None, learning_rate=constant, loss=log_loss, penalty=l1; total time=   0.0s\n",
      "[CV] END alpha=0.1, class_weight=None, learning_rate=constant, loss=log_loss, penalty=l1; total time=   0.0s\n",
      "[CV] END alpha=0.1, class_weight=None, learning_rate=constant, loss=log_loss, penalty=elasticnet; total time=   0.0s\n"
     ]
    },
    {
     "name": "stdout",
     "output_type": "stream",
     "text": [
      "[CV] END alpha=0.1, class_weight=None, learning_rate=constant, loss=log_loss, penalty=elasticnet; total time=   0.0s\n",
      "[CV] END alpha=0.1, class_weight=None, learning_rate=constant, loss=log_loss, penalty=elasticnet; total time=   0.0s\n",
      "[CV] END alpha=0.1, class_weight=None, learning_rate=constant, loss=log_loss, penalty=None; total time=   0.0s\n",
      "[CV] END alpha=0.1, class_weight=None, learning_rate=constant, loss=log_loss, penalty=None; total time=   0.0s\n",
      "[CV] END alpha=0.1, class_weight=None, learning_rate=constant, loss=log_loss, penalty=None; total time=   0.0s\n",
      "[CV] END alpha=0.1, class_weight=None, learning_rate=constant, loss=modified_huber, penalty=l2; total time=   0.0s\n",
      "[CV] END alpha=0.1, class_weight=None, learning_rate=constant, loss=modified_huber, penalty=l2; total time=   0.0s\n",
      "[CV] END alpha=0.1, class_weight=None, learning_rate=constant, loss=modified_huber, penalty=l2; total time=   0.0s\n",
      "[CV] END alpha=0.1, class_weight=None, learning_rate=constant, loss=modified_huber, penalty=l1; total time=   0.0s\n",
      "[CV] END alpha=0.1, class_weight=None, learning_rate=constant, loss=modified_huber, penalty=l1; total time=   0.0s\n",
      "[CV] END alpha=0.1, class_weight=None, learning_rate=constant, loss=modified_huber, penalty=l1; total time=   0.0s\n",
      "[CV] END alpha=0.1, class_weight=None, learning_rate=constant, loss=modified_huber, penalty=elasticnet; total time=   0.0s\n",
      "[CV] END alpha=0.1, class_weight=None, learning_rate=constant, loss=modified_huber, penalty=elasticnet; total time=   0.0s\n",
      "[CV] END alpha=0.1, class_weight=None, learning_rate=constant, loss=modified_huber, penalty=elasticnet; total time=   0.0s\n",
      "[CV] END alpha=0.1, class_weight=None, learning_rate=constant, loss=modified_huber, penalty=None; total time=   0.0s\n",
      "[CV] END alpha=0.1, class_weight=None, learning_rate=constant, loss=modified_huber, penalty=None; total time=   0.0s\n",
      "[CV] END alpha=0.1, class_weight=None, learning_rate=constant, loss=modified_huber, penalty=None; total time=   0.0s\n",
      "[CV] END alpha=0.1, class_weight=None, learning_rate=optimal, loss=hinge, penalty=l2; total time=   0.8s\n",
      "[CV] END alpha=0.1, class_weight=None, learning_rate=optimal, loss=hinge, penalty=l2; total time=   0.7s\n",
      "[CV] END alpha=0.1, class_weight=None, learning_rate=optimal, loss=hinge, penalty=l2; total time=   0.7s\n",
      "[CV] END alpha=0.1, class_weight=None, learning_rate=optimal, loss=hinge, penalty=l1; total time=   0.8s\n",
      "[CV] END alpha=0.1, class_weight=None, learning_rate=optimal, loss=hinge, penalty=l1; total time=   0.8s\n",
      "[CV] END alpha=0.1, class_weight=None, learning_rate=optimal, loss=hinge, penalty=l1; total time=   0.8s\n",
      "[CV] END alpha=0.1, class_weight=None, learning_rate=optimal, loss=hinge, penalty=elasticnet; total time=   0.9s\n",
      "[CV] END alpha=0.1, class_weight=None, learning_rate=optimal, loss=hinge, penalty=elasticnet; total time=   0.9s\n",
      "[CV] END alpha=0.1, class_weight=None, learning_rate=optimal, loss=hinge, penalty=elasticnet; total time=   0.8s\n",
      "[CV] END alpha=0.1, class_weight=None, learning_rate=optimal, loss=hinge, penalty=None; total time=   0.8s\n",
      "[CV] END alpha=0.1, class_weight=None, learning_rate=optimal, loss=hinge, penalty=None; total time=   0.7s\n",
      "[CV] END alpha=0.1, class_weight=None, learning_rate=optimal, loss=hinge, penalty=None; total time=   0.7s\n",
      "[CV] END alpha=0.1, class_weight=None, learning_rate=optimal, loss=log_loss, penalty=l2; total time=   0.8s\n",
      "[CV] END alpha=0.1, class_weight=None, learning_rate=optimal, loss=log_loss, penalty=l2; total time=   0.9s\n",
      "[CV] END alpha=0.1, class_weight=None, learning_rate=optimal, loss=log_loss, penalty=l2; total time=   0.8s\n",
      "[CV] END alpha=0.1, class_weight=None, learning_rate=optimal, loss=log_loss, penalty=l1; total time=   0.9s\n",
      "[CV] END alpha=0.1, class_weight=None, learning_rate=optimal, loss=log_loss, penalty=l1; total time=   0.8s\n",
      "[CV] END alpha=0.1, class_weight=None, learning_rate=optimal, loss=log_loss, penalty=l1; total time=   0.9s\n",
      "[CV] END alpha=0.1, class_weight=None, learning_rate=optimal, loss=log_loss, penalty=elasticnet; total time=   0.9s\n",
      "[CV] END alpha=0.1, class_weight=None, learning_rate=optimal, loss=log_loss, penalty=elasticnet; total time=   0.9s\n",
      "[CV] END alpha=0.1, class_weight=None, learning_rate=optimal, loss=log_loss, penalty=elasticnet; total time=   0.9s\n",
      "[CV] END alpha=0.1, class_weight=None, learning_rate=optimal, loss=log_loss, penalty=None; total time=   0.9s\n",
      "[CV] END alpha=0.1, class_weight=None, learning_rate=optimal, loss=log_loss, penalty=None; total time=   0.9s\n",
      "[CV] END alpha=0.1, class_weight=None, learning_rate=optimal, loss=log_loss, penalty=None; total time=   0.8s\n",
      "[CV] END alpha=0.1, class_weight=None, learning_rate=optimal, loss=modified_huber, penalty=l2; total time=   0.8s\n",
      "[CV] END alpha=0.1, class_weight=None, learning_rate=optimal, loss=modified_huber, penalty=l2; total time=   0.8s\n",
      "[CV] END alpha=0.1, class_weight=None, learning_rate=optimal, loss=modified_huber, penalty=l2; total time=   0.8s\n",
      "[CV] END alpha=0.1, class_weight=None, learning_rate=optimal, loss=modified_huber, penalty=l1; total time=   0.8s\n",
      "[CV] END alpha=0.1, class_weight=None, learning_rate=optimal, loss=modified_huber, penalty=l1; total time=   0.8s\n",
      "[CV] END alpha=0.1, class_weight=None, learning_rate=optimal, loss=modified_huber, penalty=l1; total time=   0.8s\n",
      "[CV] END alpha=0.1, class_weight=None, learning_rate=optimal, loss=modified_huber, penalty=elasticnet; total time=   0.8s\n",
      "[CV] END alpha=0.1, class_weight=None, learning_rate=optimal, loss=modified_huber, penalty=elasticnet; total time=   0.7s\n",
      "[CV] END alpha=0.1, class_weight=None, learning_rate=optimal, loss=modified_huber, penalty=elasticnet; total time=   0.7s\n",
      "[CV] END alpha=0.1, class_weight=None, learning_rate=optimal, loss=modified_huber, penalty=None; total time=   0.7s\n",
      "[CV] END alpha=0.1, class_weight=None, learning_rate=optimal, loss=modified_huber, penalty=None; total time=   0.7s\n",
      "[CV] END alpha=0.1, class_weight=None, learning_rate=optimal, loss=modified_huber, penalty=None; total time=   0.7s\n",
      "[CV] END alpha=0.1, class_weight=None, learning_rate=invscaling, loss=hinge, penalty=l2; total time=   0.0s\n",
      "[CV] END alpha=0.1, class_weight=None, learning_rate=invscaling, loss=hinge, penalty=l2; total time=   0.0s\n",
      "[CV] END alpha=0.1, class_weight=None, learning_rate=invscaling, loss=hinge, penalty=l2; total time=   0.0s\n",
      "[CV] END alpha=0.1, class_weight=None, learning_rate=invscaling, loss=hinge, penalty=l1; total time=   0.0s\n",
      "[CV] END alpha=0.1, class_weight=None, learning_rate=invscaling, loss=hinge, penalty=l1; total time=   0.0s\n",
      "[CV] END alpha=0.1, class_weight=None, learning_rate=invscaling, loss=hinge, penalty=l1; total time=   0.0s\n",
      "[CV] END alpha=0.1, class_weight=None, learning_rate=invscaling, loss=hinge, penalty=elasticnet; total time=   0.0s\n",
      "[CV] END alpha=0.1, class_weight=None, learning_rate=invscaling, loss=hinge, penalty=elasticnet; total time=   0.0s\n",
      "[CV] END alpha=0.1, class_weight=None, learning_rate=invscaling, loss=hinge, penalty=elasticnet; total time=   0.0s\n",
      "[CV] END alpha=0.1, class_weight=None, learning_rate=invscaling, loss=hinge, penalty=None; total time=   0.0s\n",
      "[CV] END alpha=0.1, class_weight=None, learning_rate=invscaling, loss=hinge, penalty=None; total time=   0.0s\n",
      "[CV] END alpha=0.1, class_weight=None, learning_rate=invscaling, loss=hinge, penalty=None; total time=   0.0s\n",
      "[CV] END alpha=0.1, class_weight=None, learning_rate=invscaling, loss=log_loss, penalty=l2; total time=   0.0s\n",
      "[CV] END alpha=0.1, class_weight=None, learning_rate=invscaling, loss=log_loss, penalty=l2; total time=   0.0s\n",
      "[CV] END alpha=0.1, class_weight=None, learning_rate=invscaling, loss=log_loss, penalty=l2; total time=   0.0s\n",
      "[CV] END alpha=0.1, class_weight=None, learning_rate=invscaling, loss=log_loss, penalty=l1; total time=   0.0s\n",
      "[CV] END alpha=0.1, class_weight=None, learning_rate=invscaling, loss=log_loss, penalty=l1; total time=   0.0s\n",
      "[CV] END alpha=0.1, class_weight=None, learning_rate=invscaling, loss=log_loss, penalty=l1; total time=   0.0s\n",
      "[CV] END alpha=0.1, class_weight=None, learning_rate=invscaling, loss=log_loss, penalty=elasticnet; total time=   0.0s\n",
      "[CV] END alpha=0.1, class_weight=None, learning_rate=invscaling, loss=log_loss, penalty=elasticnet; total time=   0.0s\n",
      "[CV] END alpha=0.1, class_weight=None, learning_rate=invscaling, loss=log_loss, penalty=elasticnet; total time=   0.0s\n"
     ]
    },
    {
     "name": "stdout",
     "output_type": "stream",
     "text": [
      "[CV] END alpha=0.1, class_weight=None, learning_rate=invscaling, loss=log_loss, penalty=None; total time=   0.0s\n",
      "[CV] END alpha=0.1, class_weight=None, learning_rate=invscaling, loss=log_loss, penalty=None; total time=   0.0s\n",
      "[CV] END alpha=0.1, class_weight=None, learning_rate=invscaling, loss=log_loss, penalty=None; total time=   0.0s\n",
      "[CV] END alpha=0.1, class_weight=None, learning_rate=invscaling, loss=modified_huber, penalty=l2; total time=   0.0s\n",
      "[CV] END alpha=0.1, class_weight=None, learning_rate=invscaling, loss=modified_huber, penalty=l2; total time=   0.0s\n",
      "[CV] END alpha=0.1, class_weight=None, learning_rate=invscaling, loss=modified_huber, penalty=l2; total time=   0.0s\n",
      "[CV] END alpha=0.1, class_weight=None, learning_rate=invscaling, loss=modified_huber, penalty=l1; total time=   0.0s\n",
      "[CV] END alpha=0.1, class_weight=None, learning_rate=invscaling, loss=modified_huber, penalty=l1; total time=   0.0s\n",
      "[CV] END alpha=0.1, class_weight=None, learning_rate=invscaling, loss=modified_huber, penalty=l1; total time=   0.0s\n",
      "[CV] END alpha=0.1, class_weight=None, learning_rate=invscaling, loss=modified_huber, penalty=elasticnet; total time=   0.0s\n",
      "[CV] END alpha=0.1, class_weight=None, learning_rate=invscaling, loss=modified_huber, penalty=elasticnet; total time=   0.0s\n",
      "[CV] END alpha=0.1, class_weight=None, learning_rate=invscaling, loss=modified_huber, penalty=elasticnet; total time=   0.0s\n",
      "[CV] END alpha=0.1, class_weight=None, learning_rate=invscaling, loss=modified_huber, penalty=None; total time=   0.0s\n",
      "[CV] END alpha=0.1, class_weight=None, learning_rate=invscaling, loss=modified_huber, penalty=None; total time=   0.0s\n",
      "[CV] END alpha=0.1, class_weight=None, learning_rate=invscaling, loss=modified_huber, penalty=None; total time=   0.0s\n"
     ]
    },
    {
     "name": "stderr",
     "output_type": "stream",
     "text": [
      "D:\\study\\Anaconda\\envs\\multicampus\\lib\\site-packages\\sklearn\\model_selection\\_validation.py:378: FitFailedWarning: \n",
      "576 fits failed out of a total of 864.\n",
      "The score on these train-test partitions for these parameters will be set to nan.\n",
      "If these failures are not expected, you can try to debug them by setting error_score='raise'.\n",
      "\n",
      "Below are more details about the failures:\n",
      "--------------------------------------------------------------------------------\n",
      "576 fits failed with the following error:\n",
      "Traceback (most recent call last):\n",
      "  File \"D:\\study\\Anaconda\\envs\\multicampus\\lib\\site-packages\\sklearn\\model_selection\\_validation.py\", line 686, in _fit_and_score\n",
      "    estimator.fit(X_train, y_train, **fit_params)\n",
      "  File \"D:\\study\\Anaconda\\envs\\multicampus\\lib\\site-packages\\sklearn\\linear_model\\_stochastic_gradient.py\", line 890, in fit\n",
      "    return self._fit(\n",
      "  File \"D:\\study\\Anaconda\\envs\\multicampus\\lib\\site-packages\\sklearn\\linear_model\\_stochastic_gradient.py\", line 658, in _fit\n",
      "    self._validate_params()\n",
      "  File \"D:\\study\\Anaconda\\envs\\multicampus\\lib\\site-packages\\sklearn\\linear_model\\_stochastic_gradient.py\", line 148, in _validate_params\n",
      "    raise ValueError(\"eta0 must be > 0\")\n",
      "ValueError: eta0 must be > 0\n",
      "\n",
      "  warnings.warn(some_fits_failed_message, FitFailedWarning)\n",
      "D:\\study\\Anaconda\\envs\\multicampus\\lib\\site-packages\\sklearn\\model_selection\\_search.py:953: UserWarning: One or more of the test scores are non-finite: [       nan        nan        nan        nan        nan        nan\n",
      "        nan        nan        nan        nan        nan        nan\n",
      " 0.67927542 0.6792667  0.67927368 0.67927019 0.70413662 0.70504164\n",
      " 0.70504687 0.70423427 0.70451502 0.69984513 0.70416277 0.69951556\n",
      "        nan        nan        nan        nan        nan        nan\n",
      "        nan        nan        nan        nan        nan        nan\n",
      "        nan        nan        nan        nan        nan        nan\n",
      "        nan        nan        nan        nan        nan        nan\n",
      " 0.67926496 0.67927368 0.67926322 0.67926845 0.70522822 0.70502246\n",
      " 0.70401804 0.70463534 0.70210684 0.70583332 0.69988003 0.70284098\n",
      "        nan        nan        nan        nan        nan        nan\n",
      "        nan        nan        nan        nan        nan        nan\n",
      "        nan        nan        nan        nan        nan        nan\n",
      "        nan        nan        nan        nan        nan        nan\n",
      " 0.67925101 0.67925101 0.67925101 0.67925101 0.70480797 0.70401106\n",
      " 0.70481146 0.7050242  0.70442085 0.70461616 0.70467719 0.70479925\n",
      "        nan        nan        nan        nan        nan        nan\n",
      "        nan        nan        nan        nan        nan        nan\n",
      "        nan        nan        nan        nan        nan        nan\n",
      "        nan        nan        nan        nan        nan        nan\n",
      " 0.67925101 0.67925101 0.67925101 0.67925101 0.70480972 0.70434413\n",
      " 0.70481146 0.70512709 0.70478705 0.70450106 0.70456384 0.70479228\n",
      "        nan        nan        nan        nan        nan        nan\n",
      "        nan        nan        nan        nan        nan        nan\n",
      "        nan        nan        nan        nan        nan        nan\n",
      "        nan        nan        nan        nan        nan        nan\n",
      " 0.67925101 0.67925101 0.67925101 0.67925101 0.70452722 0.69776656\n",
      " 0.70404245 0.70503292 0.70468068 0.70311476 0.70455687 0.70470858\n",
      "        nan        nan        nan        nan        nan        nan\n",
      "        nan        nan        nan        nan        nan        nan\n",
      "        nan        nan        nan        nan        nan        nan\n",
      "        nan        nan        nan        nan        nan        nan\n",
      " 0.67925101 0.67925101 0.67925101 0.67925101 0.70452722 0.69705509\n",
      " 0.70404419 0.70512185 0.70459    0.70390469 0.70439644 0.7047173\n",
      "        nan        nan        nan        nan        nan        nan\n",
      "        nan        nan        nan        nan        nan        nan\n",
      "        nan        nan        nan        nan        nan        nan\n",
      "        nan        nan        nan        nan        nan        nan\n",
      " 0.6841528  0.67925101 0.68148306 0.69092043 0.70060719 0.5\n",
      " 0.69384303 0.70361697 0.703889   0.67929983 0.70096815 0.70479053\n",
      "        nan        nan        nan        nan        nan        nan\n",
      "        nan        nan        nan        nan        nan        nan\n",
      "        nan        nan        nan        nan        nan        nan\n",
      "        nan        nan        nan        nan        nan        nan\n",
      " 0.68415454 0.67925101 0.68148131 0.68098782 0.70060719 0.5\n",
      " 0.69374015 0.70418718 0.703889   0.67930332 0.69910753 0.70479228\n",
      "        nan        nan        nan        nan        nan        nan\n",
      "        nan        nan        nan        nan        nan        nan]\n",
      "  warnings.warn(\n",
      "D:\\study\\Anaconda\\envs\\multicampus\\lib\\site-packages\\sklearn\\model_selection\\_search.py:953: UserWarning: One or more of the test scores are non-finite: [       nan        nan        nan        nan        nan        nan\n",
      "        nan        nan        nan        nan        nan        nan\n",
      " 0.69588982 0.69587903 0.69588766 0.69588335 0.70882959 0.71586805\n",
      " 0.71587914 0.708972   0.71530469 0.69249893 0.7087211  0.69380653\n",
      "        nan        nan        nan        nan        nan        nan\n",
      "        nan        nan        nan        nan        nan        nan\n",
      "        nan        nan        nan        nan        nan        nan\n",
      "        nan        nan        nan        nan        nan        nan\n",
      " 0.69587688 0.69588766 0.69587473 0.69588119 0.71663369 0.71584238\n",
      " 0.70863125 0.70935193 0.70390877 0.71817949 0.69803483 0.70739606\n",
      "        nan        nan        nan        nan        nan        nan\n",
      "        nan        nan        nan        nan        nan        nan\n",
      "        nan        nan        nan        nan        nan        nan\n",
      "        nan        nan        nan        nan        nan        nan\n",
      " 0.69585963 0.69585963 0.69585963 0.69585963 0.71550151 0.70862279\n",
      " 0.71550583 0.71584648 0.70898536 0.715404   0.71522079 0.71549072\n",
      "        nan        nan        nan        nan        nan        nan\n",
      "        nan        nan        nan        nan        nan        nan\n",
      "        nan        nan        nan        nan        nan        nan\n",
      "        nan        nan        nan        nan        nan        nan\n",
      " 0.69585963 0.69585963 0.69585963 0.69585963 0.71550368 0.70879424\n",
      " 0.71550583 0.71601382 0.71547562 0.70911952 0.71505626 0.71548208\n",
      "        nan        nan        nan        nan        nan        nan\n",
      "        nan        nan        nan        nan        nan        nan\n",
      "        nan        nan        nan        nan        nan        nan\n",
      "        nan        nan        nan        nan        nan        nan\n",
      " 0.69585963 0.69585963 0.69585963 0.69585963 0.71493622 0.70068791\n",
      " 0.71374961 0.71586189 0.71528445 0.71170428 0.71500845 0.71531516\n",
      "        nan        nan        nan        nan        nan        nan\n",
      "        nan        nan        nan        nan        nan        nan\n",
      "        nan        nan        nan        nan        nan        nan\n",
      "        nan        nan        nan        nan        nan        nan\n",
      " 0.69585963 0.69585963 0.69585963 0.69585963 0.71493622 0.69940999\n",
      " 0.71375179 0.71600735 0.71510887 0.71317088 0.7145569  0.71532596\n",
      "        nan        nan        nan        nan        nan        nan\n",
      "        nan        nan        nan        nan        nan        nan\n",
      "        nan        nan        nan        nan        nan        nan\n",
      "        nan        nan        nan        nan        nan        nan\n",
      " 0.70288977 0.69585963 0.69904205 0.70703203 0.70641017 0.44444444\n",
      " 0.693991   0.71308908 0.71315131 0.69592    0.70746217 0.71547992\n",
      "        nan        nan        nan        nan        nan        nan\n",
      "        nan        nan        nan        nan        nan        nan\n",
      "        nan        nan        nan        nan        nan        nan\n",
      "        nan        nan        nan        nan        nan        nan\n",
      " 0.7028919  0.69585963 0.69903991 0.69838339 0.70641017 0.66666667\n",
      " 0.69385373 0.71414666 0.71315131 0.69592432 0.70343421 0.71548208\n",
      "        nan        nan        nan        nan        nan        nan\n",
      "        nan        nan        nan        nan        nan        nan]\n",
      "  warnings.warn(\n",
      "D:\\study\\Anaconda\\envs\\multicampus\\lib\\site-packages\\sklearn\\model_selection\\_search.py:953: UserWarning: One or more of the test scores are non-finite: [       nan        nan        nan        nan        nan        nan\n",
      "        nan        nan        nan        nan        nan        nan\n",
      " 0.73390832 0.73389088 0.73390483 0.73389786 0.72118556 0.74314342\n",
      " 0.74317132 0.72146457 0.74242846 0.68340103 0.72090651 0.68793494\n",
      "        nan        nan        nan        nan        nan        nan\n",
      "        nan        nan        nan        nan        nan        nan\n",
      "        nan        nan        nan        nan        nan        nan\n",
      "        nan        nan        nan        nan        nan        nan\n",
      " 0.73388739 0.73390483 0.73388391 0.73389437 0.74548706 0.74309809\n",
      " 0.72081937 0.7217924  0.70954048 0.74967215 0.69660504 0.72062748\n",
      "        nan        nan        nan        nan        nan        nan\n",
      "        nan        nan        nan        nan        nan        nan\n",
      "        nan        nan        nan        nan        nan        nan\n",
      "        nan        nan        nan        nan        nan        nan\n",
      " 0.73385949 0.73385949 0.73385949 0.73385949 0.74239359 0.72080542\n",
      " 0.74240057 0.74310855 0.72099375 0.74256451 0.74169957 0.74237616\n",
      "        nan        nan        nan        nan        nan        nan\n",
      "        nan        nan        nan        nan        nan        nan\n",
      "        nan        nan        nan        nan        nan        nan\n",
      "        nan        nan        nan        nan        nan        nan\n",
      " 0.73385949 0.73385949 0.73385949 0.73385949 0.74239708 0.72061034\n",
      " 0.74240057 0.74346079 0.74235174 0.72128322 0.74138569 0.74236221\n",
      "        nan        nan        nan        nan        nan        nan\n",
      "        nan        nan        nan        nan        nan        nan\n",
      "        nan        nan        nan        nan        nan        nan\n",
      "        nan        nan        nan        nan        nan        nan\n",
      " 0.73385949 0.73385949 0.73385949 0.73385949 0.74104041 0.70753875\n",
      " 0.7379574  0.74314342 0.74192277 0.73299462 0.74122874 0.74196462\n",
      "        nan        nan        nan        nan        nan        nan\n",
      "        nan        nan        nan        nan        nan        nan\n",
      "        nan        nan        nan        nan        nan        nan\n",
      "        nan        nan        nan        nan        nan        nan\n",
      " 0.73385949 0.73385949 0.73385949 0.73385949 0.74104041 0.70490562\n",
      " 0.73796089 0.74345033 0.74151124 0.73621012 0.73999414 0.74198206\n",
      "        nan        nan        nan        nan        nan        nan\n",
      "        nan        nan        nan        nan        nan        nan\n",
      "        nan        nan        nan        nan        nan        nan\n",
      "        nan        nan        nan        nan        nan        nan\n",
      " 0.74721691 0.73385949 0.73982674 0.7456789  0.72037303 0.66666667\n",
      " 0.69432781 0.73664956 0.73617874 0.73395714 0.72326074 0.74235872\n",
      "        nan        nan        nan        nan        nan        nan\n",
      "        nan        nan        nan        nan        nan        nan\n",
      "        nan        nan        nan        nan        nan        nan\n",
      "        nan        nan        nan        nan        nan        nan\n",
      " 0.7472204  0.73385949 0.73982325 0.73870375 0.72037303 1.\n",
      " 0.69411158 0.73906294 0.73617874 0.73396412 0.71371177 0.74236221\n",
      "        nan        nan        nan        nan        nan        nan\n",
      "        nan        nan        nan        nan        nan        nan]\n",
      "  warnings.warn(\n",
      "D:\\study\\Anaconda\\envs\\multicampus\\lib\\site-packages\\sklearn\\model_selection\\_search.py:953: UserWarning: One or more of the test scores are non-finite: [       nan        nan        nan        nan        nan        nan\n",
      "        nan        nan        nan        nan        nan        nan\n",
      " 0.66161638 0.66161106 0.66161532 0.66161318 0.69809239 0.69052485\n",
      " 0.69052278 0.69811907 0.6901133  0.71071424 0.69824476 0.70799508\n",
      "        nan        nan        nan        nan        nan        nan\n",
      "        nan        nan        nan        nan        nan        nan\n",
      "        nan        nan        nan        nan        nan        nan\n",
      "        nan        nan        nan        nan        nan        nan\n",
      " 0.66160999 0.66161531 0.66160893 0.66161212 0.68994152 0.69051658\n",
      " 0.69807968 0.69842631 0.69997902 0.68926062 0.70292227 0.69709769\n",
      "        nan        nan        nan        nan        nan        nan\n",
      "        nan        nan        nan        nan        nan        nan\n",
      "        nan        nan        nan        nan        nan        nan\n",
      "        nan        nan        nan        nan        nan        nan\n",
      " 0.66160149 0.66160149 0.66160149 0.66160149 0.69049088 0.69807571\n",
      " 0.69049288 0.69051481 0.6984335  0.69018138 0.69056806 0.69048585\n",
      "        nan        nan        nan        nan        nan        nan\n",
      "        nan        nan        nan        nan        nan        nan\n",
      "        nan        nan        nan        nan        nan        nan\n",
      "        nan        nan        nan        nan        nan        nan\n",
      " 0.66160149 0.66160149 0.66160149 0.66160149 0.69049187 0.69855112\n",
      " 0.69049288 0.69052262 0.69047881 0.69843323 0.69053514 0.69048184\n",
      "        nan        nan        nan        nan        nan        nan\n",
      "        nan        nan        nan        nan        nan        nan\n",
      "        nan        nan        nan        nan        nan        nan\n",
      "        nan        nan        nan        nan        nan        nan\n",
      " 0.66160149 0.66160149 0.66160149 0.66160149 0.69061013 0.69397954\n",
      " 0.6910871  0.69051476 0.69049399 0.69167489 0.69058137 0.69051624\n",
      "        nan        nan        nan        nan        nan        nan\n",
      "        nan        nan        nan        nan        nan        nan\n",
      "        nan        nan        nan        nan        nan        nan\n",
      "        nan        nan        nan        nan        nan        nan\n",
      " 0.66160149 0.66160149 0.66160149 0.66160149 0.69061013 0.69401511\n",
      " 0.69108811 0.69051962 0.69052436 0.69153106 0.69081842 0.69052126\n",
      "        nan        nan        nan        nan        nan        nan\n",
      "        nan        nan        nan        nan        nan        nan\n",
      "        nan        nan        nan        nan        nan        nan\n",
      "        nan        nan        nan        nan        nan        nan\n",
      " 0.66352748 0.66160149 0.66251928 0.67234435 0.69297966 0.33333333\n",
      " 0.69365596 0.69101102 0.69152198 0.66163127 0.69241443 0.69048084\n",
      "        nan        nan        nan        nan        nan        nan\n",
      "        nan        nan        nan        nan        nan        nan\n",
      "        nan        nan        nan        nan        nan        nan\n",
      "        nan        nan        nan        nan        nan        nan\n",
      " 0.66352852 0.66160149 0.66251823 0.66225167 0.69297966 0.5\n",
      " 0.69359716 0.69088977 0.69152198 0.6616334  0.69346097 0.69048184\n",
      "        nan        nan        nan        nan        nan        nan\n",
      "        nan        nan        nan        nan        nan        nan]\n",
      "  warnings.warn(\n"
     ]
    }
   ],
   "source": [
    "params = {\n",
    "    \"loss\": [\"hinge\", \"log_loss\", \"modified_huber\"], # \"squared_hinge\", \"perceptron\"], \n",
    "             # \"squared_error\", \"huber\", \"epsilon_insensitive\", \"squared_epsilon_insensitive\"],\n",
    "    \"penalty\": [\"l2\", \"l1\", \"elasticnet\", None], \n",
    "    \"alpha\": [0.0001, 0.001, 0.01, 0.1],\n",
    "    \"learning_rate\": [\"constant\", \"optimal\", \"invscaling\"],\n",
    "    \"class_weight\": [\"balanced\", None],\n",
    "}\n",
    "\n",
    "X_train, X_test, y_train, y_test = prepare_data()\n",
    "model = SGDClassifier(early_stopping=True, n_iter_no_change=5)\n",
    "result = grid_search_eval(model, params)"
   ]
  },
  {
   "cell_type": "code",
   "execution_count": 24,
   "id": "33e5fb88",
   "metadata": {
    "ExecuteTime": {
     "end_time": "2022-12-26T06:58:22.927720Z",
     "start_time": "2022-12-26T06:58:17.176103Z"
    }
   },
   "outputs": [
    {
     "name": "stdout",
     "output_type": "stream",
     "text": [
      "==================================================================================================== \n",
      " SGDClassifier(class_weight='balanced', early_stopping=True,\n",
      "              loss='modified_huber', penalty='l1')\n",
      "0.6993028333077578\n",
      "0.6890664201769444\n",
      "오차 행렬\n",
      "[[49254 22438]\n",
      " [ 1109  2929]]\n",
      "정확도: 0.6891, 정밀도: 0.1155, 재현율: 0.7254, F1: 0.1992, AUC:0.7732\n",
      "==================================================================================================== \n",
      " SGDClassifier(class_weight='balanced', early_stopping=True,\n",
      "              loss='modified_huber', penalty=None)\n",
      "0.7031531185915768\n",
      "0.6810246929882477\n",
      "오차 행렬\n",
      "[[48578 23114]\n",
      " [ 1042  2996]]\n",
      "정확도: 0.6810, 정밀도: 0.1147, 재현율: 0.7420, F1: 0.1988, AUC:0.7754\n",
      "==================================================================================================== \n",
      " SGDClassifier(early_stopping=True, loss='modified_huber')\n",
      "0.7047783295900004\n",
      "0.6759276376601083\n",
      "오차 행렬\n",
      "[[48148 23544]\n",
      " [  998  3040]]\n",
      "정확도: 0.6759, 정밀도: 0.1144, 재현율: 0.7528, F1: 0.1986, AUC:0.7706\n",
      "==================================================================================================== \n",
      " SGDClassifier(early_stopping=True, loss='modified_huber', penalty='elasticnet')\n",
      "0.7048149491511237\n",
      "0.6759276376601083\n",
      "오차 행렬\n",
      "[[48148 23544]\n",
      " [  998  3040]]\n",
      "정확도: 0.6759, 정밀도: 0.1144, 재현율: 0.7528, F1: 0.1986, AUC:0.7745\n",
      "==================================================================================================== \n",
      " SGDClassifier(alpha=0.001, early_stopping=True, loss='log_loss', penalty='l1')\n",
      "0.704807973996624\n",
      "0.6759276376601083\n",
      "오차 행렬\n",
      "[[48148 23544]\n",
      " [  998  3040]]\n",
      "정확도: 0.6759, 정밀도: 0.1144, 재현율: 0.7528, F1: 0.1986, AUC:0.7752\n"
     ]
    }
   ],
   "source": [
    "grid_search_eval_precision(model, result)"
   ]
  },
  {
   "cell_type": "code",
   "execution_count": 30,
   "id": "1600e9cf",
   "metadata": {
    "ExecuteTime": {
     "end_time": "2022-12-26T07:27:59.660963Z",
     "start_time": "2022-12-26T07:27:59.622221Z"
    }
   },
   "outputs": [
    {
     "name": "stdout",
     "output_type": "stream",
     "text": [
      "             mean_test_precision\n",
      "param_alpha                     \n",
      "0.0001                  0.228381\n",
      "0.0010                  0.227389\n",
      "0.0100                  0.227110\n",
      "0.1000                  0.219048\n",
      "                    mean_test_precision\n",
      "param_class_weight                     \n",
      "0                              0.225969\n",
      "balanced                       0.224995\n",
      "                     mean_test_precision\n",
      "param_learning_rate                     \n",
      "constant                        0.000000\n",
      "invscaling                      0.000000\n",
      "optimal                         0.676447\n",
      "                mean_test_precision\n",
      "param_loss                         \n",
      "hinge                      0.220713\n",
      "log_loss                   0.225153\n",
      "modified_huber             0.230581\n",
      "               mean_test_precision\n",
      "param_penalty                     \n",
      "0                         0.227678\n",
      "elasticnet                0.227545\n",
      "l1                        0.219262\n",
      "l2                        0.227444\n"
     ]
    },
    {
     "name": "stderr",
     "output_type": "stream",
     "text": [
      "C:\\Users\\ParkMinjeong\\AppData\\Local\\Temp\\ipykernel_19700\\1993093451.py:4: FutureWarning: The default value of numeric_only in DataFrameGroupBy.mean is deprecated. In a future version, numeric_only will default to False. Either specify numeric_only or select only columns which should be valid for the function.\n",
      "  print(result.groupby(col).mean()[[\"mean_test_precision\"]])\n",
      "C:\\Users\\ParkMinjeong\\AppData\\Local\\Temp\\ipykernel_19700\\1993093451.py:4: FutureWarning: The default value of numeric_only in DataFrameGroupBy.mean is deprecated. In a future version, numeric_only will default to False. Either specify numeric_only or select only columns which should be valid for the function.\n",
      "  print(result.groupby(col).mean()[[\"mean_test_precision\"]])\n",
      "C:\\Users\\ParkMinjeong\\AppData\\Local\\Temp\\ipykernel_19700\\1993093451.py:4: FutureWarning: The default value of numeric_only in DataFrameGroupBy.mean is deprecated. In a future version, numeric_only will default to False. Either specify numeric_only or select only columns which should be valid for the function.\n",
      "  print(result.groupby(col).mean()[[\"mean_test_precision\"]])\n",
      "C:\\Users\\ParkMinjeong\\AppData\\Local\\Temp\\ipykernel_19700\\1993093451.py:4: FutureWarning: The default value of numeric_only in DataFrameGroupBy.mean is deprecated. In a future version, numeric_only will default to False. Either specify numeric_only or select only columns which should be valid for the function.\n",
      "  print(result.groupby(col).mean()[[\"mean_test_precision\"]])\n",
      "C:\\Users\\ParkMinjeong\\AppData\\Local\\Temp\\ipykernel_19700\\1993093451.py:4: FutureWarning: The default value of numeric_only in DataFrameGroupBy.mean is deprecated. In a future version, numeric_only will default to False. Either specify numeric_only or select only columns which should be valid for the function.\n",
      "  print(result.groupby(col).mean()[[\"mean_test_precision\"]])\n"
     ]
    }
   ],
   "source": [
    "# result.fillna(0, inplace=True)\n",
    "for col in result.columns:\n",
    "    if col.startswith(\"param_\"):\n",
    "        print(result.groupby(col).mean()[[\"mean_test_precision\"]])"
   ]
  },
  {
   "cell_type": "code",
   "execution_count": 33,
   "id": "e8d81d14",
   "metadata": {
    "ExecuteTime": {
     "end_time": "2022-12-26T07:45:30.217169Z",
     "start_time": "2022-12-26T07:36:20.478625Z"
    },
    "scrolled": true
   },
   "outputs": [
    {
     "name": "stdout",
     "output_type": "stream",
     "text": [
      "0.0    286742\n",
      "1.0    286742\n",
      "Name: HEARTDISEASE, dtype: int64\n",
      "Fitting 3 folds for each of 192 candidates, totalling 576 fits\n",
      "[CV] END alpha=0.0001, class_weight=balanced, learning_rate=optimal, loss=hinge, penalty=l2; total time=   0.8s\n",
      "[CV] END alpha=0.0001, class_weight=balanced, learning_rate=optimal, loss=hinge, penalty=l2; total time=   0.6s\n",
      "[CV] END alpha=0.0001, class_weight=balanced, learning_rate=optimal, loss=hinge, penalty=l2; total time=   0.6s\n",
      "[CV] END alpha=0.0001, class_weight=balanced, learning_rate=optimal, loss=hinge, penalty=l1; total time=   0.7s\n",
      "[CV] END alpha=0.0001, class_weight=balanced, learning_rate=optimal, loss=hinge, penalty=l1; total time=   0.8s\n",
      "[CV] END alpha=0.0001, class_weight=balanced, learning_rate=optimal, loss=hinge, penalty=l1; total time=   0.7s\n",
      "[CV] END alpha=0.0001, class_weight=balanced, learning_rate=optimal, loss=hinge, penalty=elasticnet; total time=   0.9s\n",
      "[CV] END alpha=0.0001, class_weight=balanced, learning_rate=optimal, loss=hinge, penalty=elasticnet; total time=   0.7s\n",
      "[CV] END alpha=0.0001, class_weight=balanced, learning_rate=optimal, loss=hinge, penalty=elasticnet; total time=   0.9s\n",
      "[CV] END alpha=0.0001, class_weight=balanced, learning_rate=optimal, loss=hinge, penalty=None; total time=   0.6s\n",
      "[CV] END alpha=0.0001, class_weight=balanced, learning_rate=optimal, loss=hinge, penalty=None; total time=   0.6s\n",
      "[CV] END alpha=0.0001, class_weight=balanced, learning_rate=optimal, loss=hinge, penalty=None; total time=   0.6s\n",
      "[CV] END alpha=0.0001, class_weight=balanced, learning_rate=optimal, loss=log_loss, penalty=l2; total time=   0.7s\n",
      "[CV] END alpha=0.0001, class_weight=balanced, learning_rate=optimal, loss=log_loss, penalty=l2; total time=   0.7s\n",
      "[CV] END alpha=0.0001, class_weight=balanced, learning_rate=optimal, loss=log_loss, penalty=l2; total time=   0.7s\n",
      "[CV] END alpha=0.0001, class_weight=balanced, learning_rate=optimal, loss=log_loss, penalty=l1; total time=   0.8s\n",
      "[CV] END alpha=0.0001, class_weight=balanced, learning_rate=optimal, loss=log_loss, penalty=l1; total time=   0.7s\n",
      "[CV] END alpha=0.0001, class_weight=balanced, learning_rate=optimal, loss=log_loss, penalty=l1; total time=   0.7s\n",
      "[CV] END alpha=0.0001, class_weight=balanced, learning_rate=optimal, loss=log_loss, penalty=elasticnet; total time=   0.7s\n",
      "[CV] END alpha=0.0001, class_weight=balanced, learning_rate=optimal, loss=log_loss, penalty=elasticnet; total time=   0.7s\n",
      "[CV] END alpha=0.0001, class_weight=balanced, learning_rate=optimal, loss=log_loss, penalty=elasticnet; total time=   0.7s\n",
      "[CV] END alpha=0.0001, class_weight=balanced, learning_rate=optimal, loss=log_loss, penalty=None; total time=   0.8s\n",
      "[CV] END alpha=0.0001, class_weight=balanced, learning_rate=optimal, loss=log_loss, penalty=None; total time=   0.9s\n",
      "[CV] END alpha=0.0001, class_weight=balanced, learning_rate=optimal, loss=log_loss, penalty=None; total time=   0.8s\n",
      "[CV] END alpha=0.0001, class_weight=balanced, learning_rate=optimal, loss=modified_huber, penalty=l2; total time=   0.7s\n",
      "[CV] END alpha=0.0001, class_weight=balanced, learning_rate=optimal, loss=modified_huber, penalty=l2; total time=   0.7s\n",
      "[CV] END alpha=0.0001, class_weight=balanced, learning_rate=optimal, loss=modified_huber, penalty=l2; total time=   0.7s\n",
      "[CV] END alpha=0.0001, class_weight=balanced, learning_rate=optimal, loss=modified_huber, penalty=l1; total time=   0.8s\n",
      "[CV] END alpha=0.0001, class_weight=balanced, learning_rate=optimal, loss=modified_huber, penalty=l1; total time=   1.0s\n",
      "[CV] END alpha=0.0001, class_weight=balanced, learning_rate=optimal, loss=modified_huber, penalty=l1; total time=   0.8s\n",
      "[CV] END alpha=0.0001, class_weight=balanced, learning_rate=optimal, loss=modified_huber, penalty=elasticnet; total time=   0.7s\n",
      "[CV] END alpha=0.0001, class_weight=balanced, learning_rate=optimal, loss=modified_huber, penalty=elasticnet; total time=   0.7s\n",
      "[CV] END alpha=0.0001, class_weight=balanced, learning_rate=optimal, loss=modified_huber, penalty=elasticnet; total time=   0.7s\n",
      "[CV] END alpha=0.0001, class_weight=balanced, learning_rate=optimal, loss=modified_huber, penalty=None; total time=   0.8s\n",
      "[CV] END alpha=0.0001, class_weight=balanced, learning_rate=optimal, loss=modified_huber, penalty=None; total time=   0.9s\n",
      "[CV] END alpha=0.0001, class_weight=balanced, learning_rate=optimal, loss=modified_huber, penalty=None; total time=   0.9s\n"
     ]
    },
    {
     "name": "stderr",
     "output_type": "stream",
     "text": [
      "D:\\study\\Anaconda\\envs\\multicampus\\lib\\site-packages\\sklearn\\linear_model\\_stochastic_gradient.py:173: FutureWarning: The loss 'log' was deprecated in v1.1 and will be removed in version 1.3. Use `loss='log_loss'` which is equivalent.\n",
      "  warnings.warn(\n"
     ]
    },
    {
     "name": "stdout",
     "output_type": "stream",
     "text": [
      "[CV] END alpha=0.0001, class_weight=balanced, learning_rate=optimal, loss=log, penalty=l2; total time=   0.8s\n"
     ]
    },
    {
     "name": "stderr",
     "output_type": "stream",
     "text": [
      "D:\\study\\Anaconda\\envs\\multicampus\\lib\\site-packages\\sklearn\\linear_model\\_stochastic_gradient.py:173: FutureWarning: The loss 'log' was deprecated in v1.1 and will be removed in version 1.3. Use `loss='log_loss'` which is equivalent.\n",
      "  warnings.warn(\n"
     ]
    },
    {
     "name": "stdout",
     "output_type": "stream",
     "text": [
      "[CV] END alpha=0.0001, class_weight=balanced, learning_rate=optimal, loss=log, penalty=l2; total time=   0.7s\n"
     ]
    },
    {
     "name": "stderr",
     "output_type": "stream",
     "text": [
      "D:\\study\\Anaconda\\envs\\multicampus\\lib\\site-packages\\sklearn\\linear_model\\_stochastic_gradient.py:173: FutureWarning: The loss 'log' was deprecated in v1.1 and will be removed in version 1.3. Use `loss='log_loss'` which is equivalent.\n",
      "  warnings.warn(\n"
     ]
    },
    {
     "name": "stdout",
     "output_type": "stream",
     "text": [
      "[CV] END alpha=0.0001, class_weight=balanced, learning_rate=optimal, loss=log, penalty=l2; total time=   0.7s\n"
     ]
    },
    {
     "name": "stderr",
     "output_type": "stream",
     "text": [
      "D:\\study\\Anaconda\\envs\\multicampus\\lib\\site-packages\\sklearn\\linear_model\\_stochastic_gradient.py:173: FutureWarning: The loss 'log' was deprecated in v1.1 and will be removed in version 1.3. Use `loss='log_loss'` which is equivalent.\n",
      "  warnings.warn(\n"
     ]
    },
    {
     "name": "stdout",
     "output_type": "stream",
     "text": [
      "[CV] END alpha=0.0001, class_weight=balanced, learning_rate=optimal, loss=log, penalty=l1; total time=   0.8s\n"
     ]
    },
    {
     "name": "stderr",
     "output_type": "stream",
     "text": [
      "D:\\study\\Anaconda\\envs\\multicampus\\lib\\site-packages\\sklearn\\linear_model\\_stochastic_gradient.py:173: FutureWarning: The loss 'log' was deprecated in v1.1 and will be removed in version 1.3. Use `loss='log_loss'` which is equivalent.\n",
      "  warnings.warn(\n"
     ]
    },
    {
     "name": "stdout",
     "output_type": "stream",
     "text": [
      "[CV] END alpha=0.0001, class_weight=balanced, learning_rate=optimal, loss=log, penalty=l1; total time=   0.8s\n"
     ]
    },
    {
     "name": "stderr",
     "output_type": "stream",
     "text": [
      "D:\\study\\Anaconda\\envs\\multicampus\\lib\\site-packages\\sklearn\\linear_model\\_stochastic_gradient.py:173: FutureWarning: The loss 'log' was deprecated in v1.1 and will be removed in version 1.3. Use `loss='log_loss'` which is equivalent.\n",
      "  warnings.warn(\n"
     ]
    },
    {
     "name": "stdout",
     "output_type": "stream",
     "text": [
      "[CV] END alpha=0.0001, class_weight=balanced, learning_rate=optimal, loss=log, penalty=l1; total time=   0.9s\n"
     ]
    },
    {
     "name": "stderr",
     "output_type": "stream",
     "text": [
      "D:\\study\\Anaconda\\envs\\multicampus\\lib\\site-packages\\sklearn\\linear_model\\_stochastic_gradient.py:173: FutureWarning: The loss 'log' was deprecated in v1.1 and will be removed in version 1.3. Use `loss='log_loss'` which is equivalent.\n",
      "  warnings.warn(\n"
     ]
    },
    {
     "name": "stdout",
     "output_type": "stream",
     "text": [
      "[CV] END alpha=0.0001, class_weight=balanced, learning_rate=optimal, loss=log, penalty=elasticnet; total time=   0.7s\n"
     ]
    },
    {
     "name": "stderr",
     "output_type": "stream",
     "text": [
      "D:\\study\\Anaconda\\envs\\multicampus\\lib\\site-packages\\sklearn\\linear_model\\_stochastic_gradient.py:173: FutureWarning: The loss 'log' was deprecated in v1.1 and will be removed in version 1.3. Use `loss='log_loss'` which is equivalent.\n",
      "  warnings.warn(\n"
     ]
    },
    {
     "name": "stdout",
     "output_type": "stream",
     "text": [
      "[CV] END alpha=0.0001, class_weight=balanced, learning_rate=optimal, loss=log, penalty=elasticnet; total time=   0.7s\n"
     ]
    },
    {
     "name": "stderr",
     "output_type": "stream",
     "text": [
      "D:\\study\\Anaconda\\envs\\multicampus\\lib\\site-packages\\sklearn\\linear_model\\_stochastic_gradient.py:173: FutureWarning: The loss 'log' was deprecated in v1.1 and will be removed in version 1.3. Use `loss='log_loss'` which is equivalent.\n",
      "  warnings.warn(\n"
     ]
    },
    {
     "name": "stdout",
     "output_type": "stream",
     "text": [
      "[CV] END alpha=0.0001, class_weight=balanced, learning_rate=optimal, loss=log, penalty=elasticnet; total time=   0.8s\n"
     ]
    },
    {
     "name": "stderr",
     "output_type": "stream",
     "text": [
      "D:\\study\\Anaconda\\envs\\multicampus\\lib\\site-packages\\sklearn\\linear_model\\_stochastic_gradient.py:173: FutureWarning: The loss 'log' was deprecated in v1.1 and will be removed in version 1.3. Use `loss='log_loss'` which is equivalent.\n",
      "  warnings.warn(\n"
     ]
    },
    {
     "name": "stdout",
     "output_type": "stream",
     "text": [
      "[CV] END alpha=0.0001, class_weight=balanced, learning_rate=optimal, loss=log, penalty=None; total time=   0.8s\n"
     ]
    },
    {
     "name": "stderr",
     "output_type": "stream",
     "text": [
      "D:\\study\\Anaconda\\envs\\multicampus\\lib\\site-packages\\sklearn\\linear_model\\_stochastic_gradient.py:173: FutureWarning: The loss 'log' was deprecated in v1.1 and will be removed in version 1.3. Use `loss='log_loss'` which is equivalent.\n",
      "  warnings.warn(\n"
     ]
    },
    {
     "name": "stdout",
     "output_type": "stream",
     "text": [
      "[CV] END alpha=0.0001, class_weight=balanced, learning_rate=optimal, loss=log, penalty=None; total time=   0.8s\n"
     ]
    },
    {
     "name": "stderr",
     "output_type": "stream",
     "text": [
      "D:\\study\\Anaconda\\envs\\multicampus\\lib\\site-packages\\sklearn\\linear_model\\_stochastic_gradient.py:173: FutureWarning: The loss 'log' was deprecated in v1.1 and will be removed in version 1.3. Use `loss='log_loss'` which is equivalent.\n",
      "  warnings.warn(\n"
     ]
    },
    {
     "name": "stdout",
     "output_type": "stream",
     "text": [
      "[CV] END alpha=0.0001, class_weight=balanced, learning_rate=optimal, loss=log, penalty=None; total time=   0.8s\n",
      "[CV] END alpha=0.0001, class_weight=balanced, learning_rate=optimal, loss=squared_hinge, penalty=l2; total time=   0.9s\n",
      "[CV] END alpha=0.0001, class_weight=balanced, learning_rate=optimal, loss=squared_hinge, penalty=l2; total time=   0.7s\n",
      "[CV] END alpha=0.0001, class_weight=balanced, learning_rate=optimal, loss=squared_hinge, penalty=l2; total time=   0.7s\n",
      "[CV] END alpha=0.0001, class_weight=balanced, learning_rate=optimal, loss=squared_hinge, penalty=l1; total time=   1.0s\n",
      "[CV] END alpha=0.0001, class_weight=balanced, learning_rate=optimal, loss=squared_hinge, penalty=l1; total time=   0.8s\n",
      "[CV] END alpha=0.0001, class_weight=balanced, learning_rate=optimal, loss=squared_hinge, penalty=l1; total time=   1.0s\n",
      "[CV] END alpha=0.0001, class_weight=balanced, learning_rate=optimal, loss=squared_hinge, penalty=elasticnet; total time=   0.7s\n",
      "[CV] END alpha=0.0001, class_weight=balanced, learning_rate=optimal, loss=squared_hinge, penalty=elasticnet; total time=   0.7s\n",
      "[CV] END alpha=0.0001, class_weight=balanced, learning_rate=optimal, loss=squared_hinge, penalty=elasticnet; total time=   0.7s\n",
      "[CV] END alpha=0.0001, class_weight=balanced, learning_rate=optimal, loss=squared_hinge, penalty=None; total time=   0.8s\n",
      "[CV] END alpha=0.0001, class_weight=balanced, learning_rate=optimal, loss=squared_hinge, penalty=None; total time=   0.8s\n",
      "[CV] END alpha=0.0001, class_weight=balanced, learning_rate=optimal, loss=squared_hinge, penalty=None; total time=   0.9s\n",
      "[CV] END alpha=0.0001, class_weight=balanced, learning_rate=optimal, loss=perceptron, penalty=l2; total time=   1.0s\n",
      "[CV] END alpha=0.0001, class_weight=balanced, learning_rate=optimal, loss=perceptron, penalty=l2; total time=   0.7s\n",
      "[CV] END alpha=0.0001, class_weight=balanced, learning_rate=optimal, loss=perceptron, penalty=l2; total time=   0.9s\n",
      "[CV] END alpha=0.0001, class_weight=balanced, learning_rate=optimal, loss=perceptron, penalty=l1; total time=   0.8s\n",
      "[CV] END alpha=0.0001, class_weight=balanced, learning_rate=optimal, loss=perceptron, penalty=l1; total time=   1.3s\n",
      "[CV] END alpha=0.0001, class_weight=balanced, learning_rate=optimal, loss=perceptron, penalty=l1; total time=   0.7s\n",
      "[CV] END alpha=0.0001, class_weight=balanced, learning_rate=optimal, loss=perceptron, penalty=elasticnet; total time=   0.8s\n",
      "[CV] END alpha=0.0001, class_weight=balanced, learning_rate=optimal, loss=perceptron, penalty=elasticnet; total time=   1.8s\n",
      "[CV] END alpha=0.0001, class_weight=balanced, learning_rate=optimal, loss=perceptron, penalty=elasticnet; total time=   0.9s\n",
      "[CV] END alpha=0.0001, class_weight=balanced, learning_rate=optimal, loss=perceptron, penalty=None; total time=   0.8s\n",
      "[CV] END alpha=0.0001, class_weight=balanced, learning_rate=optimal, loss=perceptron, penalty=None; total time=   0.8s\n",
      "[CV] END alpha=0.0001, class_weight=balanced, learning_rate=optimal, loss=perceptron, penalty=None; total time=   0.9s\n",
      "[CV] END alpha=0.0001, class_weight=None, learning_rate=optimal, loss=hinge, penalty=l2; total time=   0.7s\n",
      "[CV] END alpha=0.0001, class_weight=None, learning_rate=optimal, loss=hinge, penalty=l2; total time=   0.7s\n",
      "[CV] END alpha=0.0001, class_weight=None, learning_rate=optimal, loss=hinge, penalty=l2; total time=   0.6s\n",
      "[CV] END alpha=0.0001, class_weight=None, learning_rate=optimal, loss=hinge, penalty=l1; total time=   0.7s\n",
      "[CV] END alpha=0.0001, class_weight=None, learning_rate=optimal, loss=hinge, penalty=l1; total time=   0.7s\n",
      "[CV] END alpha=0.0001, class_weight=None, learning_rate=optimal, loss=hinge, penalty=l1; total time=   0.7s\n",
      "[CV] END alpha=0.0001, class_weight=None, learning_rate=optimal, loss=hinge, penalty=elasticnet; total time=   0.7s\n",
      "[CV] END alpha=0.0001, class_weight=None, learning_rate=optimal, loss=hinge, penalty=elasticnet; total time=   0.8s\n",
      "[CV] END alpha=0.0001, class_weight=None, learning_rate=optimal, loss=hinge, penalty=elasticnet; total time=   0.7s\n",
      "[CV] END alpha=0.0001, class_weight=None, learning_rate=optimal, loss=hinge, penalty=None; total time=   0.7s\n",
      "[CV] END alpha=0.0001, class_weight=None, learning_rate=optimal, loss=hinge, penalty=None; total time=   0.7s\n",
      "[CV] END alpha=0.0001, class_weight=None, learning_rate=optimal, loss=hinge, penalty=None; total time=   0.7s\n",
      "[CV] END alpha=0.0001, class_weight=None, learning_rate=optimal, loss=log_loss, penalty=l2; total time=   0.8s\n",
      "[CV] END alpha=0.0001, class_weight=None, learning_rate=optimal, loss=log_loss, penalty=l2; total time=   1.0s\n",
      "[CV] END alpha=0.0001, class_weight=None, learning_rate=optimal, loss=log_loss, penalty=l2; total time=   0.9s\n",
      "[CV] END alpha=0.0001, class_weight=None, learning_rate=optimal, loss=log_loss, penalty=l1; total time=   1.0s\n",
      "[CV] END alpha=0.0001, class_weight=None, learning_rate=optimal, loss=log_loss, penalty=l1; total time=   0.8s\n",
      "[CV] END alpha=0.0001, class_weight=None, learning_rate=optimal, loss=log_loss, penalty=l1; total time=   0.9s\n",
      "[CV] END alpha=0.0001, class_weight=None, learning_rate=optimal, loss=log_loss, penalty=elasticnet; total time=   0.9s\n",
      "[CV] END alpha=0.0001, class_weight=None, learning_rate=optimal, loss=log_loss, penalty=elasticnet; total time=   0.8s\n",
      "[CV] END alpha=0.0001, class_weight=None, learning_rate=optimal, loss=log_loss, penalty=elasticnet; total time=   0.8s\n",
      "[CV] END alpha=0.0001, class_weight=None, learning_rate=optimal, loss=log_loss, penalty=None; total time=   0.8s\n",
      "[CV] END alpha=0.0001, class_weight=None, learning_rate=optimal, loss=log_loss, penalty=None; total time=   1.0s\n",
      "[CV] END alpha=0.0001, class_weight=None, learning_rate=optimal, loss=log_loss, penalty=None; total time=   0.8s\n",
      "[CV] END alpha=0.0001, class_weight=None, learning_rate=optimal, loss=modified_huber, penalty=l2; total time=   0.7s\n",
      "[CV] END alpha=0.0001, class_weight=None, learning_rate=optimal, loss=modified_huber, penalty=l2; total time=   0.8s\n",
      "[CV] END alpha=0.0001, class_weight=None, learning_rate=optimal, loss=modified_huber, penalty=l2; total time=   0.8s\n",
      "[CV] END alpha=0.0001, class_weight=None, learning_rate=optimal, loss=modified_huber, penalty=l1; total time=   1.0s\n",
      "[CV] END alpha=0.0001, class_weight=None, learning_rate=optimal, loss=modified_huber, penalty=l1; total time=   0.8s\n",
      "[CV] END alpha=0.0001, class_weight=None, learning_rate=optimal, loss=modified_huber, penalty=l1; total time=   0.8s\n",
      "[CV] END alpha=0.0001, class_weight=None, learning_rate=optimal, loss=modified_huber, penalty=elasticnet; total time=   0.8s\n",
      "[CV] END alpha=0.0001, class_weight=None, learning_rate=optimal, loss=modified_huber, penalty=elasticnet; total time=   0.9s\n",
      "[CV] END alpha=0.0001, class_weight=None, learning_rate=optimal, loss=modified_huber, penalty=elasticnet; total time=   1.2s\n",
      "[CV] END alpha=0.0001, class_weight=None, learning_rate=optimal, loss=modified_huber, penalty=None; total time=   1.1s\n",
      "[CV] END alpha=0.0001, class_weight=None, learning_rate=optimal, loss=modified_huber, penalty=None; total time=   0.9s\n",
      "[CV] END alpha=0.0001, class_weight=None, learning_rate=optimal, loss=modified_huber, penalty=None; total time=   1.3s\n"
     ]
    },
    {
     "name": "stderr",
     "output_type": "stream",
     "text": [
      "D:\\study\\Anaconda\\envs\\multicampus\\lib\\site-packages\\sklearn\\linear_model\\_stochastic_gradient.py:173: FutureWarning: The loss 'log' was deprecated in v1.1 and will be removed in version 1.3. Use `loss='log_loss'` which is equivalent.\n",
      "  warnings.warn(\n"
     ]
    },
    {
     "name": "stdout",
     "output_type": "stream",
     "text": [
      "[CV] END alpha=0.0001, class_weight=None, learning_rate=optimal, loss=log, penalty=l2; total time=   1.0s\n"
     ]
    },
    {
     "name": "stderr",
     "output_type": "stream",
     "text": [
      "D:\\study\\Anaconda\\envs\\multicampus\\lib\\site-packages\\sklearn\\linear_model\\_stochastic_gradient.py:173: FutureWarning: The loss 'log' was deprecated in v1.1 and will be removed in version 1.3. Use `loss='log_loss'` which is equivalent.\n",
      "  warnings.warn(\n"
     ]
    },
    {
     "name": "stdout",
     "output_type": "stream",
     "text": [
      "[CV] END alpha=0.0001, class_weight=None, learning_rate=optimal, loss=log, penalty=l2; total time=   1.1s\n"
     ]
    },
    {
     "name": "stderr",
     "output_type": "stream",
     "text": [
      "D:\\study\\Anaconda\\envs\\multicampus\\lib\\site-packages\\sklearn\\linear_model\\_stochastic_gradient.py:173: FutureWarning: The loss 'log' was deprecated in v1.1 and will be removed in version 1.3. Use `loss='log_loss'` which is equivalent.\n",
      "  warnings.warn(\n"
     ]
    },
    {
     "name": "stdout",
     "output_type": "stream",
     "text": [
      "[CV] END alpha=0.0001, class_weight=None, learning_rate=optimal, loss=log, penalty=l2; total time=   0.8s\n"
     ]
    },
    {
     "name": "stderr",
     "output_type": "stream",
     "text": [
      "D:\\study\\Anaconda\\envs\\multicampus\\lib\\site-packages\\sklearn\\linear_model\\_stochastic_gradient.py:173: FutureWarning: The loss 'log' was deprecated in v1.1 and will be removed in version 1.3. Use `loss='log_loss'` which is equivalent.\n",
      "  warnings.warn(\n"
     ]
    },
    {
     "name": "stdout",
     "output_type": "stream",
     "text": [
      "[CV] END alpha=0.0001, class_weight=None, learning_rate=optimal, loss=log, penalty=l1; total time=   1.2s\n"
     ]
    },
    {
     "name": "stderr",
     "output_type": "stream",
     "text": [
      "D:\\study\\Anaconda\\envs\\multicampus\\lib\\site-packages\\sklearn\\linear_model\\_stochastic_gradient.py:173: FutureWarning: The loss 'log' was deprecated in v1.1 and will be removed in version 1.3. Use `loss='log_loss'` which is equivalent.\n",
      "  warnings.warn(\n"
     ]
    },
    {
     "name": "stdout",
     "output_type": "stream",
     "text": [
      "[CV] END alpha=0.0001, class_weight=None, learning_rate=optimal, loss=log, penalty=l1; total time=   0.8s\n"
     ]
    },
    {
     "name": "stderr",
     "output_type": "stream",
     "text": [
      "D:\\study\\Anaconda\\envs\\multicampus\\lib\\site-packages\\sklearn\\linear_model\\_stochastic_gradient.py:173: FutureWarning: The loss 'log' was deprecated in v1.1 and will be removed in version 1.3. Use `loss='log_loss'` which is equivalent.\n",
      "  warnings.warn(\n"
     ]
    },
    {
     "name": "stdout",
     "output_type": "stream",
     "text": [
      "[CV] END alpha=0.0001, class_weight=None, learning_rate=optimal, loss=log, penalty=l1; total time=   0.9s\n"
     ]
    },
    {
     "name": "stderr",
     "output_type": "stream",
     "text": [
      "D:\\study\\Anaconda\\envs\\multicampus\\lib\\site-packages\\sklearn\\linear_model\\_stochastic_gradient.py:173: FutureWarning: The loss 'log' was deprecated in v1.1 and will be removed in version 1.3. Use `loss='log_loss'` which is equivalent.\n",
      "  warnings.warn(\n"
     ]
    },
    {
     "name": "stdout",
     "output_type": "stream",
     "text": [
      "[CV] END alpha=0.0001, class_weight=None, learning_rate=optimal, loss=log, penalty=elasticnet; total time=   1.0s\n"
     ]
    },
    {
     "name": "stderr",
     "output_type": "stream",
     "text": [
      "D:\\study\\Anaconda\\envs\\multicampus\\lib\\site-packages\\sklearn\\linear_model\\_stochastic_gradient.py:173: FutureWarning: The loss 'log' was deprecated in v1.1 and will be removed in version 1.3. Use `loss='log_loss'` which is equivalent.\n",
      "  warnings.warn(\n"
     ]
    },
    {
     "name": "stdout",
     "output_type": "stream",
     "text": [
      "[CV] END alpha=0.0001, class_weight=None, learning_rate=optimal, loss=log, penalty=elasticnet; total time=   0.9s\n"
     ]
    },
    {
     "name": "stderr",
     "output_type": "stream",
     "text": [
      "D:\\study\\Anaconda\\envs\\multicampus\\lib\\site-packages\\sklearn\\linear_model\\_stochastic_gradient.py:173: FutureWarning: The loss 'log' was deprecated in v1.1 and will be removed in version 1.3. Use `loss='log_loss'` which is equivalent.\n",
      "  warnings.warn(\n"
     ]
    },
    {
     "name": "stdout",
     "output_type": "stream",
     "text": [
      "[CV] END alpha=0.0001, class_weight=None, learning_rate=optimal, loss=log, penalty=elasticnet; total time=   0.8s\n"
     ]
    },
    {
     "name": "stderr",
     "output_type": "stream",
     "text": [
      "D:\\study\\Anaconda\\envs\\multicampus\\lib\\site-packages\\sklearn\\linear_model\\_stochastic_gradient.py:173: FutureWarning: The loss 'log' was deprecated in v1.1 and will be removed in version 1.3. Use `loss='log_loss'` which is equivalent.\n",
      "  warnings.warn(\n"
     ]
    },
    {
     "name": "stdout",
     "output_type": "stream",
     "text": [
      "[CV] END alpha=0.0001, class_weight=None, learning_rate=optimal, loss=log, penalty=None; total time=   0.9s\n"
     ]
    },
    {
     "name": "stderr",
     "output_type": "stream",
     "text": [
      "D:\\study\\Anaconda\\envs\\multicampus\\lib\\site-packages\\sklearn\\linear_model\\_stochastic_gradient.py:173: FutureWarning: The loss 'log' was deprecated in v1.1 and will be removed in version 1.3. Use `loss='log_loss'` which is equivalent.\n",
      "  warnings.warn(\n"
     ]
    },
    {
     "name": "stdout",
     "output_type": "stream",
     "text": [
      "[CV] END alpha=0.0001, class_weight=None, learning_rate=optimal, loss=log, penalty=None; total time=   1.1s\n"
     ]
    },
    {
     "name": "stderr",
     "output_type": "stream",
     "text": [
      "D:\\study\\Anaconda\\envs\\multicampus\\lib\\site-packages\\sklearn\\linear_model\\_stochastic_gradient.py:173: FutureWarning: The loss 'log' was deprecated in v1.1 and will be removed in version 1.3. Use `loss='log_loss'` which is equivalent.\n",
      "  warnings.warn(\n"
     ]
    },
    {
     "name": "stdout",
     "output_type": "stream",
     "text": [
      "[CV] END alpha=0.0001, class_weight=None, learning_rate=optimal, loss=log, penalty=None; total time=   1.1s\n",
      "[CV] END alpha=0.0001, class_weight=None, learning_rate=optimal, loss=squared_hinge, penalty=l2; total time=   0.8s\n",
      "[CV] END alpha=0.0001, class_weight=None, learning_rate=optimal, loss=squared_hinge, penalty=l2; total time=   0.8s\n",
      "[CV] END alpha=0.0001, class_weight=None, learning_rate=optimal, loss=squared_hinge, penalty=l2; total time=   0.7s\n",
      "[CV] END alpha=0.0001, class_weight=None, learning_rate=optimal, loss=squared_hinge, penalty=l1; total time=   1.1s\n",
      "[CV] END alpha=0.0001, class_weight=None, learning_rate=optimal, loss=squared_hinge, penalty=l1; total time=   1.1s\n",
      "[CV] END alpha=0.0001, class_weight=None, learning_rate=optimal, loss=squared_hinge, penalty=l1; total time=   1.1s\n",
      "[CV] END alpha=0.0001, class_weight=None, learning_rate=optimal, loss=squared_hinge, penalty=elasticnet; total time=   0.9s\n",
      "[CV] END alpha=0.0001, class_weight=None, learning_rate=optimal, loss=squared_hinge, penalty=elasticnet; total time=   0.8s\n",
      "[CV] END alpha=0.0001, class_weight=None, learning_rate=optimal, loss=squared_hinge, penalty=elasticnet; total time=   0.8s\n",
      "[CV] END alpha=0.0001, class_weight=None, learning_rate=optimal, loss=squared_hinge, penalty=None; total time=   0.7s\n",
      "[CV] END alpha=0.0001, class_weight=None, learning_rate=optimal, loss=squared_hinge, penalty=None; total time=   0.7s\n",
      "[CV] END alpha=0.0001, class_weight=None, learning_rate=optimal, loss=squared_hinge, penalty=None; total time=   0.7s\n",
      "[CV] END alpha=0.0001, class_weight=None, learning_rate=optimal, loss=perceptron, penalty=l2; total time=   0.7s\n",
      "[CV] END alpha=0.0001, class_weight=None, learning_rate=optimal, loss=perceptron, penalty=l2; total time=   0.8s\n",
      "[CV] END alpha=0.0001, class_weight=None, learning_rate=optimal, loss=perceptron, penalty=l2; total time=   0.9s\n",
      "[CV] END alpha=0.0001, class_weight=None, learning_rate=optimal, loss=perceptron, penalty=l1; total time=   1.1s\n"
     ]
    },
    {
     "name": "stderr",
     "output_type": "stream",
     "text": [
      "D:\\study\\Anaconda\\envs\\multicampus\\lib\\site-packages\\sklearn\\metrics\\_classification.py:1334: UndefinedMetricWarning: Precision is ill-defined and being set to 0.0 due to no predicted samples. Use `zero_division` parameter to control this behavior.\n",
      "  _warn_prf(average, modifier, msg_start, len(result))\n"
     ]
    },
    {
     "name": "stdout",
     "output_type": "stream",
     "text": [
      "[CV] END alpha=0.0001, class_weight=None, learning_rate=optimal, loss=perceptron, penalty=l1; total time=   0.7s\n",
      "[CV] END alpha=0.0001, class_weight=None, learning_rate=optimal, loss=perceptron, penalty=l1; total time=   0.7s\n",
      "[CV] END alpha=0.0001, class_weight=None, learning_rate=optimal, loss=perceptron, penalty=elasticnet; total time=   1.2s\n",
      "[CV] END alpha=0.0001, class_weight=None, learning_rate=optimal, loss=perceptron, penalty=elasticnet; total time=   0.7s\n",
      "[CV] END alpha=0.0001, class_weight=None, learning_rate=optimal, loss=perceptron, penalty=elasticnet; total time=   0.8s\n",
      "[CV] END alpha=0.0001, class_weight=None, learning_rate=optimal, loss=perceptron, penalty=None; total time=   1.0s\n",
      "[CV] END alpha=0.0001, class_weight=None, learning_rate=optimal, loss=perceptron, penalty=None; total time=   0.7s\n",
      "[CV] END alpha=0.0001, class_weight=None, learning_rate=optimal, loss=perceptron, penalty=None; total time=   0.9s\n",
      "[CV] END alpha=0.001, class_weight=balanced, learning_rate=optimal, loss=hinge, penalty=l2; total time=   0.6s\n",
      "[CV] END alpha=0.001, class_weight=balanced, learning_rate=optimal, loss=hinge, penalty=l2; total time=   0.7s\n",
      "[CV] END alpha=0.001, class_weight=balanced, learning_rate=optimal, loss=hinge, penalty=l2; total time=   0.6s\n",
      "[CV] END alpha=0.001, class_weight=balanced, learning_rate=optimal, loss=hinge, penalty=l1; total time=   0.7s\n",
      "[CV] END alpha=0.001, class_weight=balanced, learning_rate=optimal, loss=hinge, penalty=l1; total time=   0.7s\n",
      "[CV] END alpha=0.001, class_weight=balanced, learning_rate=optimal, loss=hinge, penalty=l1; total time=   0.7s\n",
      "[CV] END alpha=0.001, class_weight=balanced, learning_rate=optimal, loss=hinge, penalty=elasticnet; total time=   1.0s\n",
      "[CV] END alpha=0.001, class_weight=balanced, learning_rate=optimal, loss=hinge, penalty=elasticnet; total time=   0.9s\n",
      "[CV] END alpha=0.001, class_weight=balanced, learning_rate=optimal, loss=hinge, penalty=elasticnet; total time=   0.7s\n",
      "[CV] END alpha=0.001, class_weight=balanced, learning_rate=optimal, loss=hinge, penalty=None; total time=   0.7s\n",
      "[CV] END alpha=0.001, class_weight=balanced, learning_rate=optimal, loss=hinge, penalty=None; total time=   0.7s\n",
      "[CV] END alpha=0.001, class_weight=balanced, learning_rate=optimal, loss=hinge, penalty=None; total time=   0.7s\n",
      "[CV] END alpha=0.001, class_weight=balanced, learning_rate=optimal, loss=log_loss, penalty=l2; total time=   0.7s\n",
      "[CV] END alpha=0.001, class_weight=balanced, learning_rate=optimal, loss=log_loss, penalty=l2; total time=   0.7s\n",
      "[CV] END alpha=0.001, class_weight=balanced, learning_rate=optimal, loss=log_loss, penalty=l2; total time=   0.7s\n",
      "[CV] END alpha=0.001, class_weight=balanced, learning_rate=optimal, loss=log_loss, penalty=l1; total time=   0.7s\n",
      "[CV] END alpha=0.001, class_weight=balanced, learning_rate=optimal, loss=log_loss, penalty=l1; total time=   0.7s\n",
      "[CV] END alpha=0.001, class_weight=balanced, learning_rate=optimal, loss=log_loss, penalty=l1; total time=   0.8s\n",
      "[CV] END alpha=0.001, class_weight=balanced, learning_rate=optimal, loss=log_loss, penalty=elasticnet; total time=   0.7s\n",
      "[CV] END alpha=0.001, class_weight=balanced, learning_rate=optimal, loss=log_loss, penalty=elasticnet; total time=   0.8s\n",
      "[CV] END alpha=0.001, class_weight=balanced, learning_rate=optimal, loss=log_loss, penalty=elasticnet; total time=   0.7s\n",
      "[CV] END alpha=0.001, class_weight=balanced, learning_rate=optimal, loss=log_loss, penalty=None; total time=   0.8s\n",
      "[CV] END alpha=0.001, class_weight=balanced, learning_rate=optimal, loss=log_loss, penalty=None; total time=   0.7s\n",
      "[CV] END alpha=0.001, class_weight=balanced, learning_rate=optimal, loss=log_loss, penalty=None; total time=   0.7s\n",
      "[CV] END alpha=0.001, class_weight=balanced, learning_rate=optimal, loss=modified_huber, penalty=l2; total time=   0.7s\n",
      "[CV] END alpha=0.001, class_weight=balanced, learning_rate=optimal, loss=modified_huber, penalty=l2; total time=   0.7s\n",
      "[CV] END alpha=0.001, class_weight=balanced, learning_rate=optimal, loss=modified_huber, penalty=l2; total time=   0.7s\n",
      "[CV] END alpha=0.001, class_weight=balanced, learning_rate=optimal, loss=modified_huber, penalty=l1; total time=   0.8s\n",
      "[CV] END alpha=0.001, class_weight=balanced, learning_rate=optimal, loss=modified_huber, penalty=l1; total time=   1.0s\n",
      "[CV] END alpha=0.001, class_weight=balanced, learning_rate=optimal, loss=modified_huber, penalty=l1; total time=   0.9s\n",
      "[CV] END alpha=0.001, class_weight=balanced, learning_rate=optimal, loss=modified_huber, penalty=elasticnet; total time=   0.8s\n",
      "[CV] END alpha=0.001, class_weight=balanced, learning_rate=optimal, loss=modified_huber, penalty=elasticnet; total time=   0.8s\n",
      "[CV] END alpha=0.001, class_weight=balanced, learning_rate=optimal, loss=modified_huber, penalty=elasticnet; total time=   0.8s\n",
      "[CV] END alpha=0.001, class_weight=balanced, learning_rate=optimal, loss=modified_huber, penalty=None; total time=   0.9s\n",
      "[CV] END alpha=0.001, class_weight=balanced, learning_rate=optimal, loss=modified_huber, penalty=None; total time=   0.7s\n",
      "[CV] END alpha=0.001, class_weight=balanced, learning_rate=optimal, loss=modified_huber, penalty=None; total time=   0.8s\n"
     ]
    },
    {
     "name": "stderr",
     "output_type": "stream",
     "text": [
      "D:\\study\\Anaconda\\envs\\multicampus\\lib\\site-packages\\sklearn\\linear_model\\_stochastic_gradient.py:173: FutureWarning: The loss 'log' was deprecated in v1.1 and will be removed in version 1.3. Use `loss='log_loss'` which is equivalent.\n",
      "  warnings.warn(\n"
     ]
    },
    {
     "name": "stdout",
     "output_type": "stream",
     "text": [
      "[CV] END alpha=0.001, class_weight=balanced, learning_rate=optimal, loss=log, penalty=l2; total time=   0.8s\n"
     ]
    },
    {
     "name": "stderr",
     "output_type": "stream",
     "text": [
      "D:\\study\\Anaconda\\envs\\multicampus\\lib\\site-packages\\sklearn\\linear_model\\_stochastic_gradient.py:173: FutureWarning: The loss 'log' was deprecated in v1.1 and will be removed in version 1.3. Use `loss='log_loss'` which is equivalent.\n",
      "  warnings.warn(\n"
     ]
    },
    {
     "name": "stdout",
     "output_type": "stream",
     "text": [
      "[CV] END alpha=0.001, class_weight=balanced, learning_rate=optimal, loss=log, penalty=l2; total time=   0.8s\n"
     ]
    },
    {
     "name": "stderr",
     "output_type": "stream",
     "text": [
      "D:\\study\\Anaconda\\envs\\multicampus\\lib\\site-packages\\sklearn\\linear_model\\_stochastic_gradient.py:173: FutureWarning: The loss 'log' was deprecated in v1.1 and will be removed in version 1.3. Use `loss='log_loss'` which is equivalent.\n",
      "  warnings.warn(\n"
     ]
    },
    {
     "name": "stdout",
     "output_type": "stream",
     "text": [
      "[CV] END alpha=0.001, class_weight=balanced, learning_rate=optimal, loss=log, penalty=l2; total time=   0.7s\n"
     ]
    },
    {
     "name": "stderr",
     "output_type": "stream",
     "text": [
      "D:\\study\\Anaconda\\envs\\multicampus\\lib\\site-packages\\sklearn\\linear_model\\_stochastic_gradient.py:173: FutureWarning: The loss 'log' was deprecated in v1.1 and will be removed in version 1.3. Use `loss='log_loss'` which is equivalent.\n",
      "  warnings.warn(\n"
     ]
    },
    {
     "name": "stdout",
     "output_type": "stream",
     "text": [
      "[CV] END alpha=0.001, class_weight=balanced, learning_rate=optimal, loss=log, penalty=l1; total time=   0.8s\n"
     ]
    },
    {
     "name": "stderr",
     "output_type": "stream",
     "text": [
      "D:\\study\\Anaconda\\envs\\multicampus\\lib\\site-packages\\sklearn\\linear_model\\_stochastic_gradient.py:173: FutureWarning: The loss 'log' was deprecated in v1.1 and will be removed in version 1.3. Use `loss='log_loss'` which is equivalent.\n",
      "  warnings.warn(\n"
     ]
    },
    {
     "name": "stdout",
     "output_type": "stream",
     "text": [
      "[CV] END alpha=0.001, class_weight=balanced, learning_rate=optimal, loss=log, penalty=l1; total time=   0.9s\n"
     ]
    },
    {
     "name": "stderr",
     "output_type": "stream",
     "text": [
      "D:\\study\\Anaconda\\envs\\multicampus\\lib\\site-packages\\sklearn\\linear_model\\_stochastic_gradient.py:173: FutureWarning: The loss 'log' was deprecated in v1.1 and will be removed in version 1.3. Use `loss='log_loss'` which is equivalent.\n",
      "  warnings.warn(\n"
     ]
    },
    {
     "name": "stdout",
     "output_type": "stream",
     "text": [
      "[CV] END alpha=0.001, class_weight=balanced, learning_rate=optimal, loss=log, penalty=l1; total time=   0.9s\n"
     ]
    },
    {
     "name": "stderr",
     "output_type": "stream",
     "text": [
      "D:\\study\\Anaconda\\envs\\multicampus\\lib\\site-packages\\sklearn\\linear_model\\_stochastic_gradient.py:173: FutureWarning: The loss 'log' was deprecated in v1.1 and will be removed in version 1.3. Use `loss='log_loss'` which is equivalent.\n",
      "  warnings.warn(\n"
     ]
    },
    {
     "name": "stdout",
     "output_type": "stream",
     "text": [
      "[CV] END alpha=0.001, class_weight=balanced, learning_rate=optimal, loss=log, penalty=elasticnet; total time=   0.8s\n"
     ]
    },
    {
     "name": "stderr",
     "output_type": "stream",
     "text": [
      "D:\\study\\Anaconda\\envs\\multicampus\\lib\\site-packages\\sklearn\\linear_model\\_stochastic_gradient.py:173: FutureWarning: The loss 'log' was deprecated in v1.1 and will be removed in version 1.3. Use `loss='log_loss'` which is equivalent.\n",
      "  warnings.warn(\n"
     ]
    },
    {
     "name": "stdout",
     "output_type": "stream",
     "text": [
      "[CV] END alpha=0.001, class_weight=balanced, learning_rate=optimal, loss=log, penalty=elasticnet; total time=   0.8s\n"
     ]
    },
    {
     "name": "stderr",
     "output_type": "stream",
     "text": [
      "D:\\study\\Anaconda\\envs\\multicampus\\lib\\site-packages\\sklearn\\linear_model\\_stochastic_gradient.py:173: FutureWarning: The loss 'log' was deprecated in v1.1 and will be removed in version 1.3. Use `loss='log_loss'` which is equivalent.\n",
      "  warnings.warn(\n"
     ]
    },
    {
     "name": "stdout",
     "output_type": "stream",
     "text": [
      "[CV] END alpha=0.001, class_weight=balanced, learning_rate=optimal, loss=log, penalty=elasticnet; total time=   0.9s\n"
     ]
    },
    {
     "name": "stderr",
     "output_type": "stream",
     "text": [
      "D:\\study\\Anaconda\\envs\\multicampus\\lib\\site-packages\\sklearn\\linear_model\\_stochastic_gradient.py:173: FutureWarning: The loss 'log' was deprecated in v1.1 and will be removed in version 1.3. Use `loss='log_loss'` which is equivalent.\n",
      "  warnings.warn(\n"
     ]
    },
    {
     "name": "stdout",
     "output_type": "stream",
     "text": [
      "[CV] END alpha=0.001, class_weight=balanced, learning_rate=optimal, loss=log, penalty=None; total time=   1.0s\n"
     ]
    },
    {
     "name": "stderr",
     "output_type": "stream",
     "text": [
      "D:\\study\\Anaconda\\envs\\multicampus\\lib\\site-packages\\sklearn\\linear_model\\_stochastic_gradient.py:173: FutureWarning: The loss 'log' was deprecated in v1.1 and will be removed in version 1.3. Use `loss='log_loss'` which is equivalent.\n",
      "  warnings.warn(\n"
     ]
    },
    {
     "name": "stdout",
     "output_type": "stream",
     "text": [
      "[CV] END alpha=0.001, class_weight=balanced, learning_rate=optimal, loss=log, penalty=None; total time=   1.1s\n"
     ]
    },
    {
     "name": "stderr",
     "output_type": "stream",
     "text": [
      "D:\\study\\Anaconda\\envs\\multicampus\\lib\\site-packages\\sklearn\\linear_model\\_stochastic_gradient.py:173: FutureWarning: The loss 'log' was deprecated in v1.1 and will be removed in version 1.3. Use `loss='log_loss'` which is equivalent.\n",
      "  warnings.warn(\n"
     ]
    },
    {
     "name": "stdout",
     "output_type": "stream",
     "text": [
      "[CV] END alpha=0.001, class_weight=balanced, learning_rate=optimal, loss=log, penalty=None; total time=   1.0s\n",
      "[CV] END alpha=0.001, class_weight=balanced, learning_rate=optimal, loss=squared_hinge, penalty=l2; total time=   0.7s\n",
      "[CV] END alpha=0.001, class_weight=balanced, learning_rate=optimal, loss=squared_hinge, penalty=l2; total time=   0.7s\n",
      "[CV] END alpha=0.001, class_weight=balanced, learning_rate=optimal, loss=squared_hinge, penalty=l2; total time=   0.7s\n",
      "[CV] END alpha=0.001, class_weight=balanced, learning_rate=optimal, loss=squared_hinge, penalty=l1; total time=   0.9s\n",
      "[CV] END alpha=0.001, class_weight=balanced, learning_rate=optimal, loss=squared_hinge, penalty=l1; total time=   0.9s\n",
      "[CV] END alpha=0.001, class_weight=balanced, learning_rate=optimal, loss=squared_hinge, penalty=l1; total time=   1.1s\n",
      "[CV] END alpha=0.001, class_weight=balanced, learning_rate=optimal, loss=squared_hinge, penalty=elasticnet; total time=   0.9s\n",
      "[CV] END alpha=0.001, class_weight=balanced, learning_rate=optimal, loss=squared_hinge, penalty=elasticnet; total time=   0.8s\n",
      "[CV] END alpha=0.001, class_weight=balanced, learning_rate=optimal, loss=squared_hinge, penalty=elasticnet; total time=   0.8s\n",
      "[CV] END alpha=0.001, class_weight=balanced, learning_rate=optimal, loss=squared_hinge, penalty=None; total time=   0.8s\n",
      "[CV] END alpha=0.001, class_weight=balanced, learning_rate=optimal, loss=squared_hinge, penalty=None; total time=   1.1s\n",
      "[CV] END alpha=0.001, class_weight=balanced, learning_rate=optimal, loss=squared_hinge, penalty=None; total time=   0.8s\n",
      "[CV] END alpha=0.001, class_weight=balanced, learning_rate=optimal, loss=perceptron, penalty=l2; total time=   1.2s\n",
      "[CV] END alpha=0.001, class_weight=balanced, learning_rate=optimal, loss=perceptron, penalty=l2; total time=   1.1s\n",
      "[CV] END alpha=0.001, class_weight=balanced, learning_rate=optimal, loss=perceptron, penalty=l2; total time=   0.9s\n",
      "[CV] END alpha=0.001, class_weight=balanced, learning_rate=optimal, loss=perceptron, penalty=l1; total time=   1.2s\n",
      "[CV] END alpha=0.001, class_weight=balanced, learning_rate=optimal, loss=perceptron, penalty=l1; total time=   1.0s\n"
     ]
    },
    {
     "name": "stderr",
     "output_type": "stream",
     "text": [
      "D:\\study\\Anaconda\\envs\\multicampus\\lib\\site-packages\\sklearn\\metrics\\_classification.py:1334: UndefinedMetricWarning: Precision is ill-defined and being set to 0.0 due to no predicted samples. Use `zero_division` parameter to control this behavior.\n",
      "  _warn_prf(average, modifier, msg_start, len(result))\n"
     ]
    },
    {
     "name": "stdout",
     "output_type": "stream",
     "text": [
      "[CV] END alpha=0.001, class_weight=balanced, learning_rate=optimal, loss=perceptron, penalty=l1; total time=   1.3s\n",
      "[CV] END alpha=0.001, class_weight=balanced, learning_rate=optimal, loss=perceptron, penalty=elasticnet; total time=   1.2s\n",
      "[CV] END alpha=0.001, class_weight=balanced, learning_rate=optimal, loss=perceptron, penalty=elasticnet; total time=   1.0s\n",
      "[CV] END alpha=0.001, class_weight=balanced, learning_rate=optimal, loss=perceptron, penalty=elasticnet; total time=   0.9s\n",
      "[CV] END alpha=0.001, class_weight=balanced, learning_rate=optimal, loss=perceptron, penalty=None; total time=   1.0s\n",
      "[CV] END alpha=0.001, class_weight=balanced, learning_rate=optimal, loss=perceptron, penalty=None; total time=   0.9s\n",
      "[CV] END alpha=0.001, class_weight=balanced, learning_rate=optimal, loss=perceptron, penalty=None; total time=   1.0s\n",
      "[CV] END alpha=0.001, class_weight=None, learning_rate=optimal, loss=hinge, penalty=l2; total time=   0.7s\n",
      "[CV] END alpha=0.001, class_weight=None, learning_rate=optimal, loss=hinge, penalty=l2; total time=   0.8s\n",
      "[CV] END alpha=0.001, class_weight=None, learning_rate=optimal, loss=hinge, penalty=l2; total time=   0.8s\n",
      "[CV] END alpha=0.001, class_weight=None, learning_rate=optimal, loss=hinge, penalty=l1; total time=   0.8s\n",
      "[CV] END alpha=0.001, class_weight=None, learning_rate=optimal, loss=hinge, penalty=l1; total time=   0.8s\n",
      "[CV] END alpha=0.001, class_weight=None, learning_rate=optimal, loss=hinge, penalty=l1; total time=   0.8s\n",
      "[CV] END alpha=0.001, class_weight=None, learning_rate=optimal, loss=hinge, penalty=elasticnet; total time=   0.8s\n",
      "[CV] END alpha=0.001, class_weight=None, learning_rate=optimal, loss=hinge, penalty=elasticnet; total time=   0.8s\n",
      "[CV] END alpha=0.001, class_weight=None, learning_rate=optimal, loss=hinge, penalty=elasticnet; total time=   0.7s\n",
      "[CV] END alpha=0.001, class_weight=None, learning_rate=optimal, loss=hinge, penalty=None; total time=   0.7s\n",
      "[CV] END alpha=0.001, class_weight=None, learning_rate=optimal, loss=hinge, penalty=None; total time=   0.6s\n",
      "[CV] END alpha=0.001, class_weight=None, learning_rate=optimal, loss=hinge, penalty=None; total time=   0.6s\n",
      "[CV] END alpha=0.001, class_weight=None, learning_rate=optimal, loss=log_loss, penalty=l2; total time=   0.7s\n",
      "[CV] END alpha=0.001, class_weight=None, learning_rate=optimal, loss=log_loss, penalty=l2; total time=   0.7s\n",
      "[CV] END alpha=0.001, class_weight=None, learning_rate=optimal, loss=log_loss, penalty=l2; total time=   0.7s\n",
      "[CV] END alpha=0.001, class_weight=None, learning_rate=optimal, loss=log_loss, penalty=l1; total time=   0.7s\n",
      "[CV] END alpha=0.001, class_weight=None, learning_rate=optimal, loss=log_loss, penalty=l1; total time=   0.7s\n",
      "[CV] END alpha=0.001, class_weight=None, learning_rate=optimal, loss=log_loss, penalty=l1; total time=   0.8s\n",
      "[CV] END alpha=0.001, class_weight=None, learning_rate=optimal, loss=log_loss, penalty=elasticnet; total time=   0.7s\n",
      "[CV] END alpha=0.001, class_weight=None, learning_rate=optimal, loss=log_loss, penalty=elasticnet; total time=   0.7s\n",
      "[CV] END alpha=0.001, class_weight=None, learning_rate=optimal, loss=log_loss, penalty=elasticnet; total time=   0.7s\n",
      "[CV] END alpha=0.001, class_weight=None, learning_rate=optimal, loss=log_loss, penalty=None; total time=   0.8s\n",
      "[CV] END alpha=0.001, class_weight=None, learning_rate=optimal, loss=log_loss, penalty=None; total time=   0.7s\n",
      "[CV] END alpha=0.001, class_weight=None, learning_rate=optimal, loss=log_loss, penalty=None; total time=   0.7s\n",
      "[CV] END alpha=0.001, class_weight=None, learning_rate=optimal, loss=modified_huber, penalty=l2; total time=   0.6s\n",
      "[CV] END alpha=0.001, class_weight=None, learning_rate=optimal, loss=modified_huber, penalty=l2; total time=   0.7s\n",
      "[CV] END alpha=0.001, class_weight=None, learning_rate=optimal, loss=modified_huber, penalty=l2; total time=   0.6s\n",
      "[CV] END alpha=0.001, class_weight=None, learning_rate=optimal, loss=modified_huber, penalty=l1; total time=   0.9s\n",
      "[CV] END alpha=0.001, class_weight=None, learning_rate=optimal, loss=modified_huber, penalty=l1; total time=   0.7s\n",
      "[CV] END alpha=0.001, class_weight=None, learning_rate=optimal, loss=modified_huber, penalty=l1; total time=   0.7s\n",
      "[CV] END alpha=0.001, class_weight=None, learning_rate=optimal, loss=modified_huber, penalty=elasticnet; total time=   0.7s\n",
      "[CV] END alpha=0.001, class_weight=None, learning_rate=optimal, loss=modified_huber, penalty=elasticnet; total time=   0.7s\n",
      "[CV] END alpha=0.001, class_weight=None, learning_rate=optimal, loss=modified_huber, penalty=elasticnet; total time=   0.7s\n",
      "[CV] END alpha=0.001, class_weight=None, learning_rate=optimal, loss=modified_huber, penalty=None; total time=   0.8s\n",
      "[CV] END alpha=0.001, class_weight=None, learning_rate=optimal, loss=modified_huber, penalty=None; total time=   0.6s\n",
      "[CV] END alpha=0.001, class_weight=None, learning_rate=optimal, loss=modified_huber, penalty=None; total time=   0.7s\n"
     ]
    },
    {
     "name": "stderr",
     "output_type": "stream",
     "text": [
      "D:\\study\\Anaconda\\envs\\multicampus\\lib\\site-packages\\sklearn\\linear_model\\_stochastic_gradient.py:173: FutureWarning: The loss 'log' was deprecated in v1.1 and will be removed in version 1.3. Use `loss='log_loss'` which is equivalent.\n",
      "  warnings.warn(\n"
     ]
    },
    {
     "name": "stdout",
     "output_type": "stream",
     "text": [
      "[CV] END alpha=0.001, class_weight=None, learning_rate=optimal, loss=log, penalty=l2; total time=   0.7s\n"
     ]
    },
    {
     "name": "stderr",
     "output_type": "stream",
     "text": [
      "D:\\study\\Anaconda\\envs\\multicampus\\lib\\site-packages\\sklearn\\linear_model\\_stochastic_gradient.py:173: FutureWarning: The loss 'log' was deprecated in v1.1 and will be removed in version 1.3. Use `loss='log_loss'` which is equivalent.\n",
      "  warnings.warn(\n"
     ]
    },
    {
     "name": "stdout",
     "output_type": "stream",
     "text": [
      "[CV] END alpha=0.001, class_weight=None, learning_rate=optimal, loss=log, penalty=l2; total time=   0.7s\n"
     ]
    },
    {
     "name": "stderr",
     "output_type": "stream",
     "text": [
      "D:\\study\\Anaconda\\envs\\multicampus\\lib\\site-packages\\sklearn\\linear_model\\_stochastic_gradient.py:173: FutureWarning: The loss 'log' was deprecated in v1.1 and will be removed in version 1.3. Use `loss='log_loss'` which is equivalent.\n",
      "  warnings.warn(\n"
     ]
    },
    {
     "name": "stdout",
     "output_type": "stream",
     "text": [
      "[CV] END alpha=0.001, class_weight=None, learning_rate=optimal, loss=log, penalty=l2; total time=   0.7s\n"
     ]
    },
    {
     "name": "stderr",
     "output_type": "stream",
     "text": [
      "D:\\study\\Anaconda\\envs\\multicampus\\lib\\site-packages\\sklearn\\linear_model\\_stochastic_gradient.py:173: FutureWarning: The loss 'log' was deprecated in v1.1 and will be removed in version 1.3. Use `loss='log_loss'` which is equivalent.\n",
      "  warnings.warn(\n"
     ]
    },
    {
     "name": "stdout",
     "output_type": "stream",
     "text": [
      "[CV] END alpha=0.001, class_weight=None, learning_rate=optimal, loss=log, penalty=l1; total time=   0.7s\n"
     ]
    },
    {
     "name": "stderr",
     "output_type": "stream",
     "text": [
      "D:\\study\\Anaconda\\envs\\multicampus\\lib\\site-packages\\sklearn\\linear_model\\_stochastic_gradient.py:173: FutureWarning: The loss 'log' was deprecated in v1.1 and will be removed in version 1.3. Use `loss='log_loss'` which is equivalent.\n",
      "  warnings.warn(\n"
     ]
    },
    {
     "name": "stdout",
     "output_type": "stream",
     "text": [
      "[CV] END alpha=0.001, class_weight=None, learning_rate=optimal, loss=log, penalty=l1; total time=   0.9s\n"
     ]
    },
    {
     "name": "stderr",
     "output_type": "stream",
     "text": [
      "D:\\study\\Anaconda\\envs\\multicampus\\lib\\site-packages\\sklearn\\linear_model\\_stochastic_gradient.py:173: FutureWarning: The loss 'log' was deprecated in v1.1 and will be removed in version 1.3. Use `loss='log_loss'` which is equivalent.\n",
      "  warnings.warn(\n"
     ]
    },
    {
     "name": "stdout",
     "output_type": "stream",
     "text": [
      "[CV] END alpha=0.001, class_weight=None, learning_rate=optimal, loss=log, penalty=l1; total time=   0.7s\n"
     ]
    },
    {
     "name": "stderr",
     "output_type": "stream",
     "text": [
      "D:\\study\\Anaconda\\envs\\multicampus\\lib\\site-packages\\sklearn\\linear_model\\_stochastic_gradient.py:173: FutureWarning: The loss 'log' was deprecated in v1.1 and will be removed in version 1.3. Use `loss='log_loss'` which is equivalent.\n",
      "  warnings.warn(\n"
     ]
    },
    {
     "name": "stdout",
     "output_type": "stream",
     "text": [
      "[CV] END alpha=0.001, class_weight=None, learning_rate=optimal, loss=log, penalty=elasticnet; total time=   0.7s\n"
     ]
    },
    {
     "name": "stderr",
     "output_type": "stream",
     "text": [
      "D:\\study\\Anaconda\\envs\\multicampus\\lib\\site-packages\\sklearn\\linear_model\\_stochastic_gradient.py:173: FutureWarning: The loss 'log' was deprecated in v1.1 and will be removed in version 1.3. Use `loss='log_loss'` which is equivalent.\n",
      "  warnings.warn(\n"
     ]
    },
    {
     "name": "stdout",
     "output_type": "stream",
     "text": [
      "[CV] END alpha=0.001, class_weight=None, learning_rate=optimal, loss=log, penalty=elasticnet; total time=   0.8s\n"
     ]
    },
    {
     "name": "stderr",
     "output_type": "stream",
     "text": [
      "D:\\study\\Anaconda\\envs\\multicampus\\lib\\site-packages\\sklearn\\linear_model\\_stochastic_gradient.py:173: FutureWarning: The loss 'log' was deprecated in v1.1 and will be removed in version 1.3. Use `loss='log_loss'` which is equivalent.\n",
      "  warnings.warn(\n"
     ]
    },
    {
     "name": "stdout",
     "output_type": "stream",
     "text": [
      "[CV] END alpha=0.001, class_weight=None, learning_rate=optimal, loss=log, penalty=elasticnet; total time=   0.8s\n"
     ]
    },
    {
     "name": "stderr",
     "output_type": "stream",
     "text": [
      "D:\\study\\Anaconda\\envs\\multicampus\\lib\\site-packages\\sklearn\\linear_model\\_stochastic_gradient.py:173: FutureWarning: The loss 'log' was deprecated in v1.1 and will be removed in version 1.3. Use `loss='log_loss'` which is equivalent.\n",
      "  warnings.warn(\n"
     ]
    },
    {
     "name": "stdout",
     "output_type": "stream",
     "text": [
      "[CV] END alpha=0.001, class_weight=None, learning_rate=optimal, loss=log, penalty=None; total time=   0.7s\n"
     ]
    },
    {
     "name": "stderr",
     "output_type": "stream",
     "text": [
      "D:\\study\\Anaconda\\envs\\multicampus\\lib\\site-packages\\sklearn\\linear_model\\_stochastic_gradient.py:173: FutureWarning: The loss 'log' was deprecated in v1.1 and will be removed in version 1.3. Use `loss='log_loss'` which is equivalent.\n",
      "  warnings.warn(\n"
     ]
    },
    {
     "name": "stdout",
     "output_type": "stream",
     "text": [
      "[CV] END alpha=0.001, class_weight=None, learning_rate=optimal, loss=log, penalty=None; total time=   0.7s\n"
     ]
    },
    {
     "name": "stderr",
     "output_type": "stream",
     "text": [
      "D:\\study\\Anaconda\\envs\\multicampus\\lib\\site-packages\\sklearn\\linear_model\\_stochastic_gradient.py:173: FutureWarning: The loss 'log' was deprecated in v1.1 and will be removed in version 1.3. Use `loss='log_loss'` which is equivalent.\n",
      "  warnings.warn(\n"
     ]
    },
    {
     "name": "stdout",
     "output_type": "stream",
     "text": [
      "[CV] END alpha=0.001, class_weight=None, learning_rate=optimal, loss=log, penalty=None; total time=   0.7s\n",
      "[CV] END alpha=0.001, class_weight=None, learning_rate=optimal, loss=squared_hinge, penalty=l2; total time=   0.6s\n",
      "[CV] END alpha=0.001, class_weight=None, learning_rate=optimal, loss=squared_hinge, penalty=l2; total time=   0.7s\n",
      "[CV] END alpha=0.001, class_weight=None, learning_rate=optimal, loss=squared_hinge, penalty=l2; total time=   0.7s\n",
      "[CV] END alpha=0.001, class_weight=None, learning_rate=optimal, loss=squared_hinge, penalty=l1; total time=   0.7s\n",
      "[CV] END alpha=0.001, class_weight=None, learning_rate=optimal, loss=squared_hinge, penalty=l1; total time=   1.0s\n",
      "[CV] END alpha=0.001, class_weight=None, learning_rate=optimal, loss=squared_hinge, penalty=l1; total time=   0.7s\n",
      "[CV] END alpha=0.001, class_weight=None, learning_rate=optimal, loss=squared_hinge, penalty=elasticnet; total time=   0.9s\n",
      "[CV] END alpha=0.001, class_weight=None, learning_rate=optimal, loss=squared_hinge, penalty=elasticnet; total time=   0.8s\n",
      "[CV] END alpha=0.001, class_weight=None, learning_rate=optimal, loss=squared_hinge, penalty=elasticnet; total time=   0.7s\n",
      "[CV] END alpha=0.001, class_weight=None, learning_rate=optimal, loss=squared_hinge, penalty=None; total time=   0.7s\n",
      "[CV] END alpha=0.001, class_weight=None, learning_rate=optimal, loss=squared_hinge, penalty=None; total time=   0.7s\n",
      "[CV] END alpha=0.001, class_weight=None, learning_rate=optimal, loss=squared_hinge, penalty=None; total time=   0.7s\n",
      "[CV] END alpha=0.001, class_weight=None, learning_rate=optimal, loss=perceptron, penalty=l2; total time=   0.7s\n",
      "[CV] END alpha=0.001, class_weight=None, learning_rate=optimal, loss=perceptron, penalty=l2; total time=   1.1s\n",
      "[CV] END alpha=0.001, class_weight=None, learning_rate=optimal, loss=perceptron, penalty=l2; total time=   1.0s\n",
      "[CV] END alpha=0.001, class_weight=None, learning_rate=optimal, loss=perceptron, penalty=l1; total time=   0.9s\n",
      "[CV] END alpha=0.001, class_weight=None, learning_rate=optimal, loss=perceptron, penalty=l1; total time=   1.0s\n",
      "[CV] END alpha=0.001, class_weight=None, learning_rate=optimal, loss=perceptron, penalty=l1; total time=   1.1s\n",
      "[CV] END alpha=0.001, class_weight=None, learning_rate=optimal, loss=perceptron, penalty=elasticnet; total time=   1.2s\n",
      "[CV] END alpha=0.001, class_weight=None, learning_rate=optimal, loss=perceptron, penalty=elasticnet; total time=   1.1s\n",
      "[CV] END alpha=0.001, class_weight=None, learning_rate=optimal, loss=perceptron, penalty=elasticnet; total time=   1.2s\n",
      "[CV] END alpha=0.001, class_weight=None, learning_rate=optimal, loss=perceptron, penalty=None; total time=   1.1s\n",
      "[CV] END alpha=0.001, class_weight=None, learning_rate=optimal, loss=perceptron, penalty=None; total time=   1.2s\n",
      "[CV] END alpha=0.001, class_weight=None, learning_rate=optimal, loss=perceptron, penalty=None; total time=   1.0s\n",
      "[CV] END alpha=0.01, class_weight=balanced, learning_rate=optimal, loss=hinge, penalty=l2; total time=   0.8s\n",
      "[CV] END alpha=0.01, class_weight=balanced, learning_rate=optimal, loss=hinge, penalty=l2; total time=   0.8s\n",
      "[CV] END alpha=0.01, class_weight=balanced, learning_rate=optimal, loss=hinge, penalty=l2; total time=   0.8s\n",
      "[CV] END alpha=0.01, class_weight=balanced, learning_rate=optimal, loss=hinge, penalty=l1; total time=   1.1s\n",
      "[CV] END alpha=0.01, class_weight=balanced, learning_rate=optimal, loss=hinge, penalty=l1; total time=   1.0s\n",
      "[CV] END alpha=0.01, class_weight=balanced, learning_rate=optimal, loss=hinge, penalty=l1; total time=   0.9s\n",
      "[CV] END alpha=0.01, class_weight=balanced, learning_rate=optimal, loss=hinge, penalty=elasticnet; total time=   0.9s\n",
      "[CV] END alpha=0.01, class_weight=balanced, learning_rate=optimal, loss=hinge, penalty=elasticnet; total time=   1.3s\n",
      "[CV] END alpha=0.01, class_weight=balanced, learning_rate=optimal, loss=hinge, penalty=elasticnet; total time=   0.8s\n",
      "[CV] END alpha=0.01, class_weight=balanced, learning_rate=optimal, loss=hinge, penalty=None; total time=   0.8s\n",
      "[CV] END alpha=0.01, class_weight=balanced, learning_rate=optimal, loss=hinge, penalty=None; total time=   0.8s\n",
      "[CV] END alpha=0.01, class_weight=balanced, learning_rate=optimal, loss=hinge, penalty=None; total time=   0.8s\n",
      "[CV] END alpha=0.01, class_weight=balanced, learning_rate=optimal, loss=log_loss, penalty=l2; total time=   1.0s\n",
      "[CV] END alpha=0.01, class_weight=balanced, learning_rate=optimal, loss=log_loss, penalty=l2; total time=   0.9s\n",
      "[CV] END alpha=0.01, class_weight=balanced, learning_rate=optimal, loss=log_loss, penalty=l2; total time=   1.1s\n",
      "[CV] END alpha=0.01, class_weight=balanced, learning_rate=optimal, loss=log_loss, penalty=l1; total time=   0.9s\n",
      "[CV] END alpha=0.01, class_weight=balanced, learning_rate=optimal, loss=log_loss, penalty=l1; total time=   1.0s\n",
      "[CV] END alpha=0.01, class_weight=balanced, learning_rate=optimal, loss=log_loss, penalty=l1; total time=   1.0s\n",
      "[CV] END alpha=0.01, class_weight=balanced, learning_rate=optimal, loss=log_loss, penalty=elasticnet; total time=   0.9s\n",
      "[CV] END alpha=0.01, class_weight=balanced, learning_rate=optimal, loss=log_loss, penalty=elasticnet; total time=   0.9s\n",
      "[CV] END alpha=0.01, class_weight=balanced, learning_rate=optimal, loss=log_loss, penalty=elasticnet; total time=   1.0s\n",
      "[CV] END alpha=0.01, class_weight=balanced, learning_rate=optimal, loss=log_loss, penalty=None; total time=   1.0s\n",
      "[CV] END alpha=0.01, class_weight=balanced, learning_rate=optimal, loss=log_loss, penalty=None; total time=   0.8s\n",
      "[CV] END alpha=0.01, class_weight=balanced, learning_rate=optimal, loss=log_loss, penalty=None; total time=   1.0s\n",
      "[CV] END alpha=0.01, class_weight=balanced, learning_rate=optimal, loss=modified_huber, penalty=l2; total time=   0.9s\n",
      "[CV] END alpha=0.01, class_weight=balanced, learning_rate=optimal, loss=modified_huber, penalty=l2; total time=   0.8s\n",
      "[CV] END alpha=0.01, class_weight=balanced, learning_rate=optimal, loss=modified_huber, penalty=l2; total time=   0.8s\n",
      "[CV] END alpha=0.01, class_weight=balanced, learning_rate=optimal, loss=modified_huber, penalty=l1; total time=   0.8s\n",
      "[CV] END alpha=0.01, class_weight=balanced, learning_rate=optimal, loss=modified_huber, penalty=l1; total time=   0.8s\n",
      "[CV] END alpha=0.01, class_weight=balanced, learning_rate=optimal, loss=modified_huber, penalty=l1; total time=   0.8s\n",
      "[CV] END alpha=0.01, class_weight=balanced, learning_rate=optimal, loss=modified_huber, penalty=elasticnet; total time=   0.8s\n",
      "[CV] END alpha=0.01, class_weight=balanced, learning_rate=optimal, loss=modified_huber, penalty=elasticnet; total time=   0.8s\n",
      "[CV] END alpha=0.01, class_weight=balanced, learning_rate=optimal, loss=modified_huber, penalty=elasticnet; total time=   1.0s\n",
      "[CV] END alpha=0.01, class_weight=balanced, learning_rate=optimal, loss=modified_huber, penalty=None; total time=   0.8s\n",
      "[CV] END alpha=0.01, class_weight=balanced, learning_rate=optimal, loss=modified_huber, penalty=None; total time=   0.8s\n",
      "[CV] END alpha=0.01, class_weight=balanced, learning_rate=optimal, loss=modified_huber, penalty=None; total time=   0.8s\n"
     ]
    },
    {
     "name": "stderr",
     "output_type": "stream",
     "text": [
      "D:\\study\\Anaconda\\envs\\multicampus\\lib\\site-packages\\sklearn\\linear_model\\_stochastic_gradient.py:173: FutureWarning: The loss 'log' was deprecated in v1.1 and will be removed in version 1.3. Use `loss='log_loss'` which is equivalent.\n",
      "  warnings.warn(\n"
     ]
    },
    {
     "name": "stdout",
     "output_type": "stream",
     "text": [
      "[CV] END alpha=0.01, class_weight=balanced, learning_rate=optimal, loss=log, penalty=l2; total time=   0.8s\n"
     ]
    },
    {
     "name": "stderr",
     "output_type": "stream",
     "text": [
      "D:\\study\\Anaconda\\envs\\multicampus\\lib\\site-packages\\sklearn\\linear_model\\_stochastic_gradient.py:173: FutureWarning: The loss 'log' was deprecated in v1.1 and will be removed in version 1.3. Use `loss='log_loss'` which is equivalent.\n",
      "  warnings.warn(\n"
     ]
    },
    {
     "name": "stdout",
     "output_type": "stream",
     "text": [
      "[CV] END alpha=0.01, class_weight=balanced, learning_rate=optimal, loss=log, penalty=l2; total time=   0.8s\n"
     ]
    },
    {
     "name": "stderr",
     "output_type": "stream",
     "text": [
      "D:\\study\\Anaconda\\envs\\multicampus\\lib\\site-packages\\sklearn\\linear_model\\_stochastic_gradient.py:173: FutureWarning: The loss 'log' was deprecated in v1.1 and will be removed in version 1.3. Use `loss='log_loss'` which is equivalent.\n",
      "  warnings.warn(\n"
     ]
    },
    {
     "name": "stdout",
     "output_type": "stream",
     "text": [
      "[CV] END alpha=0.01, class_weight=balanced, learning_rate=optimal, loss=log, penalty=l2; total time=   0.8s\n"
     ]
    },
    {
     "name": "stderr",
     "output_type": "stream",
     "text": [
      "D:\\study\\Anaconda\\envs\\multicampus\\lib\\site-packages\\sklearn\\linear_model\\_stochastic_gradient.py:173: FutureWarning: The loss 'log' was deprecated in v1.1 and will be removed in version 1.3. Use `loss='log_loss'` which is equivalent.\n",
      "  warnings.warn(\n"
     ]
    },
    {
     "name": "stdout",
     "output_type": "stream",
     "text": [
      "[CV] END alpha=0.01, class_weight=balanced, learning_rate=optimal, loss=log, penalty=l1; total time=   0.9s\n"
     ]
    },
    {
     "name": "stderr",
     "output_type": "stream",
     "text": [
      "D:\\study\\Anaconda\\envs\\multicampus\\lib\\site-packages\\sklearn\\linear_model\\_stochastic_gradient.py:173: FutureWarning: The loss 'log' was deprecated in v1.1 and will be removed in version 1.3. Use `loss='log_loss'` which is equivalent.\n",
      "  warnings.warn(\n"
     ]
    },
    {
     "name": "stdout",
     "output_type": "stream",
     "text": [
      "[CV] END alpha=0.01, class_weight=balanced, learning_rate=optimal, loss=log, penalty=l1; total time=   0.8s\n"
     ]
    },
    {
     "name": "stderr",
     "output_type": "stream",
     "text": [
      "D:\\study\\Anaconda\\envs\\multicampus\\lib\\site-packages\\sklearn\\linear_model\\_stochastic_gradient.py:173: FutureWarning: The loss 'log' was deprecated in v1.1 and will be removed in version 1.3. Use `loss='log_loss'` which is equivalent.\n",
      "  warnings.warn(\n"
     ]
    },
    {
     "name": "stdout",
     "output_type": "stream",
     "text": [
      "[CV] END alpha=0.01, class_weight=balanced, learning_rate=optimal, loss=log, penalty=l1; total time=   0.9s\n"
     ]
    },
    {
     "name": "stderr",
     "output_type": "stream",
     "text": [
      "D:\\study\\Anaconda\\envs\\multicampus\\lib\\site-packages\\sklearn\\linear_model\\_stochastic_gradient.py:173: FutureWarning: The loss 'log' was deprecated in v1.1 and will be removed in version 1.3. Use `loss='log_loss'` which is equivalent.\n",
      "  warnings.warn(\n"
     ]
    },
    {
     "name": "stdout",
     "output_type": "stream",
     "text": [
      "[CV] END alpha=0.01, class_weight=balanced, learning_rate=optimal, loss=log, penalty=elasticnet; total time=   1.0s\n"
     ]
    },
    {
     "name": "stderr",
     "output_type": "stream",
     "text": [
      "D:\\study\\Anaconda\\envs\\multicampus\\lib\\site-packages\\sklearn\\linear_model\\_stochastic_gradient.py:173: FutureWarning: The loss 'log' was deprecated in v1.1 and will be removed in version 1.3. Use `loss='log_loss'` which is equivalent.\n",
      "  warnings.warn(\n"
     ]
    },
    {
     "name": "stdout",
     "output_type": "stream",
     "text": [
      "[CV] END alpha=0.01, class_weight=balanced, learning_rate=optimal, loss=log, penalty=elasticnet; total time=   1.0s\n"
     ]
    },
    {
     "name": "stderr",
     "output_type": "stream",
     "text": [
      "D:\\study\\Anaconda\\envs\\multicampus\\lib\\site-packages\\sklearn\\linear_model\\_stochastic_gradient.py:173: FutureWarning: The loss 'log' was deprecated in v1.1 and will be removed in version 1.3. Use `loss='log_loss'` which is equivalent.\n",
      "  warnings.warn(\n"
     ]
    },
    {
     "name": "stdout",
     "output_type": "stream",
     "text": [
      "[CV] END alpha=0.01, class_weight=balanced, learning_rate=optimal, loss=log, penalty=elasticnet; total time=   0.9s\n"
     ]
    },
    {
     "name": "stderr",
     "output_type": "stream",
     "text": [
      "D:\\study\\Anaconda\\envs\\multicampus\\lib\\site-packages\\sklearn\\linear_model\\_stochastic_gradient.py:173: FutureWarning: The loss 'log' was deprecated in v1.1 and will be removed in version 1.3. Use `loss='log_loss'` which is equivalent.\n",
      "  warnings.warn(\n"
     ]
    },
    {
     "name": "stdout",
     "output_type": "stream",
     "text": [
      "[CV] END alpha=0.01, class_weight=balanced, learning_rate=optimal, loss=log, penalty=None; total time=   0.8s\n"
     ]
    },
    {
     "name": "stderr",
     "output_type": "stream",
     "text": [
      "D:\\study\\Anaconda\\envs\\multicampus\\lib\\site-packages\\sklearn\\linear_model\\_stochastic_gradient.py:173: FutureWarning: The loss 'log' was deprecated in v1.1 and will be removed in version 1.3. Use `loss='log_loss'` which is equivalent.\n",
      "  warnings.warn(\n"
     ]
    },
    {
     "name": "stdout",
     "output_type": "stream",
     "text": [
      "[CV] END alpha=0.01, class_weight=balanced, learning_rate=optimal, loss=log, penalty=None; total time=   0.8s\n"
     ]
    },
    {
     "name": "stderr",
     "output_type": "stream",
     "text": [
      "D:\\study\\Anaconda\\envs\\multicampus\\lib\\site-packages\\sklearn\\linear_model\\_stochastic_gradient.py:173: FutureWarning: The loss 'log' was deprecated in v1.1 and will be removed in version 1.3. Use `loss='log_loss'` which is equivalent.\n",
      "  warnings.warn(\n"
     ]
    },
    {
     "name": "stdout",
     "output_type": "stream",
     "text": [
      "[CV] END alpha=0.01, class_weight=balanced, learning_rate=optimal, loss=log, penalty=None; total time=   0.8s\n",
      "[CV] END alpha=0.01, class_weight=balanced, learning_rate=optimal, loss=squared_hinge, penalty=l2; total time=   0.7s\n",
      "[CV] END alpha=0.01, class_weight=balanced, learning_rate=optimal, loss=squared_hinge, penalty=l2; total time=   0.8s\n",
      "[CV] END alpha=0.01, class_weight=balanced, learning_rate=optimal, loss=squared_hinge, penalty=l2; total time=   0.7s\n",
      "[CV] END alpha=0.01, class_weight=balanced, learning_rate=optimal, loss=squared_hinge, penalty=l1; total time=   1.0s\n",
      "[CV] END alpha=0.01, class_weight=balanced, learning_rate=optimal, loss=squared_hinge, penalty=l1; total time=   0.9s\n",
      "[CV] END alpha=0.01, class_weight=balanced, learning_rate=optimal, loss=squared_hinge, penalty=l1; total time=   1.1s\n",
      "[CV] END alpha=0.01, class_weight=balanced, learning_rate=optimal, loss=squared_hinge, penalty=elasticnet; total time=   0.8s\n",
      "[CV] END alpha=0.01, class_weight=balanced, learning_rate=optimal, loss=squared_hinge, penalty=elasticnet; total time=   0.8s\n",
      "[CV] END alpha=0.01, class_weight=balanced, learning_rate=optimal, loss=squared_hinge, penalty=elasticnet; total time=   0.9s\n",
      "[CV] END alpha=0.01, class_weight=balanced, learning_rate=optimal, loss=squared_hinge, penalty=None; total time=   1.0s\n",
      "[CV] END alpha=0.01, class_weight=balanced, learning_rate=optimal, loss=squared_hinge, penalty=None; total time=   0.8s\n",
      "[CV] END alpha=0.01, class_weight=balanced, learning_rate=optimal, loss=squared_hinge, penalty=None; total time=   0.8s\n",
      "[CV] END alpha=0.01, class_weight=balanced, learning_rate=optimal, loss=perceptron, penalty=l2; total time=   0.7s\n",
      "[CV] END alpha=0.01, class_weight=balanced, learning_rate=optimal, loss=perceptron, penalty=l2; total time=   0.6s\n",
      "[CV] END alpha=0.01, class_weight=balanced, learning_rate=optimal, loss=perceptron, penalty=l2; total time=   0.9s\n",
      "[CV] END alpha=0.01, class_weight=balanced, learning_rate=optimal, loss=perceptron, penalty=l1; total time=   1.0s\n",
      "[CV] END alpha=0.01, class_weight=balanced, learning_rate=optimal, loss=perceptron, penalty=l1; total time=   0.9s\n"
     ]
    },
    {
     "name": "stderr",
     "output_type": "stream",
     "text": [
      "D:\\study\\Anaconda\\envs\\multicampus\\lib\\site-packages\\sklearn\\metrics\\_classification.py:1334: UndefinedMetricWarning: Precision is ill-defined and being set to 0.0 due to no predicted samples. Use `zero_division` parameter to control this behavior.\n",
      "  _warn_prf(average, modifier, msg_start, len(result))\n"
     ]
    },
    {
     "name": "stdout",
     "output_type": "stream",
     "text": [
      "[CV] END alpha=0.01, class_weight=balanced, learning_rate=optimal, loss=perceptron, penalty=l1; total time=   0.9s\n"
     ]
    },
    {
     "name": "stderr",
     "output_type": "stream",
     "text": [
      "D:\\study\\Anaconda\\envs\\multicampus\\lib\\site-packages\\sklearn\\metrics\\_classification.py:1334: UndefinedMetricWarning: Precision is ill-defined and being set to 0.0 due to no predicted samples. Use `zero_division` parameter to control this behavior.\n",
      "  _warn_prf(average, modifier, msg_start, len(result))\n"
     ]
    },
    {
     "name": "stdout",
     "output_type": "stream",
     "text": [
      "[CV] END alpha=0.01, class_weight=balanced, learning_rate=optimal, loss=perceptron, penalty=elasticnet; total time=   0.8s\n",
      "[CV] END alpha=0.01, class_weight=balanced, learning_rate=optimal, loss=perceptron, penalty=elasticnet; total time=   0.8s\n",
      "[CV] END alpha=0.01, class_weight=balanced, learning_rate=optimal, loss=perceptron, penalty=elasticnet; total time=   1.1s\n",
      "[CV] END alpha=0.01, class_weight=balanced, learning_rate=optimal, loss=perceptron, penalty=None; total time=   0.8s\n",
      "[CV] END alpha=0.01, class_weight=balanced, learning_rate=optimal, loss=perceptron, penalty=None; total time=   0.9s\n",
      "[CV] END alpha=0.01, class_weight=balanced, learning_rate=optimal, loss=perceptron, penalty=None; total time=   0.7s\n",
      "[CV] END alpha=0.01, class_weight=None, learning_rate=optimal, loss=hinge, penalty=l2; total time=   0.6s\n",
      "[CV] END alpha=0.01, class_weight=None, learning_rate=optimal, loss=hinge, penalty=l2; total time=   0.6s\n",
      "[CV] END alpha=0.01, class_weight=None, learning_rate=optimal, loss=hinge, penalty=l2; total time=   0.6s\n",
      "[CV] END alpha=0.01, class_weight=None, learning_rate=optimal, loss=hinge, penalty=l1; total time=   0.7s\n",
      "[CV] END alpha=0.01, class_weight=None, learning_rate=optimal, loss=hinge, penalty=l1; total time=   0.7s\n",
      "[CV] END alpha=0.01, class_weight=None, learning_rate=optimal, loss=hinge, penalty=l1; total time=   0.7s\n",
      "[CV] END alpha=0.01, class_weight=None, learning_rate=optimal, loss=hinge, penalty=elasticnet; total time=   0.7s\n",
      "[CV] END alpha=0.01, class_weight=None, learning_rate=optimal, loss=hinge, penalty=elasticnet; total time=   0.7s\n",
      "[CV] END alpha=0.01, class_weight=None, learning_rate=optimal, loss=hinge, penalty=elasticnet; total time=   0.7s\n",
      "[CV] END alpha=0.01, class_weight=None, learning_rate=optimal, loss=hinge, penalty=None; total time=   0.6s\n",
      "[CV] END alpha=0.01, class_weight=None, learning_rate=optimal, loss=hinge, penalty=None; total time=   0.6s\n",
      "[CV] END alpha=0.01, class_weight=None, learning_rate=optimal, loss=hinge, penalty=None; total time=   0.6s\n",
      "[CV] END alpha=0.01, class_weight=None, learning_rate=optimal, loss=log_loss, penalty=l2; total time=   0.7s\n",
      "[CV] END alpha=0.01, class_weight=None, learning_rate=optimal, loss=log_loss, penalty=l2; total time=   0.7s\n",
      "[CV] END alpha=0.01, class_weight=None, learning_rate=optimal, loss=log_loss, penalty=l2; total time=   0.7s\n",
      "[CV] END alpha=0.01, class_weight=None, learning_rate=optimal, loss=log_loss, penalty=l1; total time=   0.8s\n",
      "[CV] END alpha=0.01, class_weight=None, learning_rate=optimal, loss=log_loss, penalty=l1; total time=   0.9s\n",
      "[CV] END alpha=0.01, class_weight=None, learning_rate=optimal, loss=log_loss, penalty=l1; total time=   0.7s\n",
      "[CV] END alpha=0.01, class_weight=None, learning_rate=optimal, loss=log_loss, penalty=elasticnet; total time=   0.8s\n",
      "[CV] END alpha=0.01, class_weight=None, learning_rate=optimal, loss=log_loss, penalty=elasticnet; total time=   0.8s\n",
      "[CV] END alpha=0.01, class_weight=None, learning_rate=optimal, loss=log_loss, penalty=elasticnet; total time=   0.7s\n",
      "[CV] END alpha=0.01, class_weight=None, learning_rate=optimal, loss=log_loss, penalty=None; total time=   0.7s\n",
      "[CV] END alpha=0.01, class_weight=None, learning_rate=optimal, loss=log_loss, penalty=None; total time=   0.7s\n",
      "[CV] END alpha=0.01, class_weight=None, learning_rate=optimal, loss=log_loss, penalty=None; total time=   0.7s\n",
      "[CV] END alpha=0.01, class_weight=None, learning_rate=optimal, loss=modified_huber, penalty=l2; total time=   0.7s\n",
      "[CV] END alpha=0.01, class_weight=None, learning_rate=optimal, loss=modified_huber, penalty=l2; total time=   0.7s\n",
      "[CV] END alpha=0.01, class_weight=None, learning_rate=optimal, loss=modified_huber, penalty=l2; total time=   0.7s\n",
      "[CV] END alpha=0.01, class_weight=None, learning_rate=optimal, loss=modified_huber, penalty=l1; total time=   0.8s\n",
      "[CV] END alpha=0.01, class_weight=None, learning_rate=optimal, loss=modified_huber, penalty=l1; total time=   0.8s\n",
      "[CV] END alpha=0.01, class_weight=None, learning_rate=optimal, loss=modified_huber, penalty=l1; total time=   0.8s\n",
      "[CV] END alpha=0.01, class_weight=None, learning_rate=optimal, loss=modified_huber, penalty=elasticnet; total time=   0.8s\n",
      "[CV] END alpha=0.01, class_weight=None, learning_rate=optimal, loss=modified_huber, penalty=elasticnet; total time=   0.9s\n",
      "[CV] END alpha=0.01, class_weight=None, learning_rate=optimal, loss=modified_huber, penalty=elasticnet; total time=   0.8s\n",
      "[CV] END alpha=0.01, class_weight=None, learning_rate=optimal, loss=modified_huber, penalty=None; total time=   0.9s\n",
      "[CV] END alpha=0.01, class_weight=None, learning_rate=optimal, loss=modified_huber, penalty=None; total time=   0.8s\n",
      "[CV] END alpha=0.01, class_weight=None, learning_rate=optimal, loss=modified_huber, penalty=None; total time=   0.8s\n"
     ]
    },
    {
     "name": "stderr",
     "output_type": "stream",
     "text": [
      "D:\\study\\Anaconda\\envs\\multicampus\\lib\\site-packages\\sklearn\\linear_model\\_stochastic_gradient.py:173: FutureWarning: The loss 'log' was deprecated in v1.1 and will be removed in version 1.3. Use `loss='log_loss'` which is equivalent.\n",
      "  warnings.warn(\n"
     ]
    },
    {
     "name": "stdout",
     "output_type": "stream",
     "text": [
      "[CV] END alpha=0.01, class_weight=None, learning_rate=optimal, loss=log, penalty=l2; total time=   0.8s\n"
     ]
    },
    {
     "name": "stderr",
     "output_type": "stream",
     "text": [
      "D:\\study\\Anaconda\\envs\\multicampus\\lib\\site-packages\\sklearn\\linear_model\\_stochastic_gradient.py:173: FutureWarning: The loss 'log' was deprecated in v1.1 and will be removed in version 1.3. Use `loss='log_loss'` which is equivalent.\n",
      "  warnings.warn(\n"
     ]
    },
    {
     "name": "stdout",
     "output_type": "stream",
     "text": [
      "[CV] END alpha=0.01, class_weight=None, learning_rate=optimal, loss=log, penalty=l2; total time=   0.8s\n"
     ]
    },
    {
     "name": "stderr",
     "output_type": "stream",
     "text": [
      "D:\\study\\Anaconda\\envs\\multicampus\\lib\\site-packages\\sklearn\\linear_model\\_stochastic_gradient.py:173: FutureWarning: The loss 'log' was deprecated in v1.1 and will be removed in version 1.3. Use `loss='log_loss'` which is equivalent.\n",
      "  warnings.warn(\n"
     ]
    },
    {
     "name": "stdout",
     "output_type": "stream",
     "text": [
      "[CV] END alpha=0.01, class_weight=None, learning_rate=optimal, loss=log, penalty=l2; total time=   0.8s\n"
     ]
    },
    {
     "name": "stderr",
     "output_type": "stream",
     "text": [
      "D:\\study\\Anaconda\\envs\\multicampus\\lib\\site-packages\\sklearn\\linear_model\\_stochastic_gradient.py:173: FutureWarning: The loss 'log' was deprecated in v1.1 and will be removed in version 1.3. Use `loss='log_loss'` which is equivalent.\n",
      "  warnings.warn(\n"
     ]
    },
    {
     "name": "stdout",
     "output_type": "stream",
     "text": [
      "[CV] END alpha=0.01, class_weight=None, learning_rate=optimal, loss=log, penalty=l1; total time=   1.0s\n"
     ]
    },
    {
     "name": "stderr",
     "output_type": "stream",
     "text": [
      "D:\\study\\Anaconda\\envs\\multicampus\\lib\\site-packages\\sklearn\\linear_model\\_stochastic_gradient.py:173: FutureWarning: The loss 'log' was deprecated in v1.1 and will be removed in version 1.3. Use `loss='log_loss'` which is equivalent.\n",
      "  warnings.warn(\n"
     ]
    },
    {
     "name": "stdout",
     "output_type": "stream",
     "text": [
      "[CV] END alpha=0.01, class_weight=None, learning_rate=optimal, loss=log, penalty=l1; total time=   1.0s\n"
     ]
    },
    {
     "name": "stderr",
     "output_type": "stream",
     "text": [
      "D:\\study\\Anaconda\\envs\\multicampus\\lib\\site-packages\\sklearn\\linear_model\\_stochastic_gradient.py:173: FutureWarning: The loss 'log' was deprecated in v1.1 and will be removed in version 1.3. Use `loss='log_loss'` which is equivalent.\n",
      "  warnings.warn(\n"
     ]
    },
    {
     "name": "stdout",
     "output_type": "stream",
     "text": [
      "[CV] END alpha=0.01, class_weight=None, learning_rate=optimal, loss=log, penalty=l1; total time=   1.2s\n"
     ]
    },
    {
     "name": "stderr",
     "output_type": "stream",
     "text": [
      "D:\\study\\Anaconda\\envs\\multicampus\\lib\\site-packages\\sklearn\\linear_model\\_stochastic_gradient.py:173: FutureWarning: The loss 'log' was deprecated in v1.1 and will be removed in version 1.3. Use `loss='log_loss'` which is equivalent.\n",
      "  warnings.warn(\n"
     ]
    },
    {
     "name": "stdout",
     "output_type": "stream",
     "text": [
      "[CV] END alpha=0.01, class_weight=None, learning_rate=optimal, loss=log, penalty=elasticnet; total time=   0.9s\n"
     ]
    },
    {
     "name": "stderr",
     "output_type": "stream",
     "text": [
      "D:\\study\\Anaconda\\envs\\multicampus\\lib\\site-packages\\sklearn\\linear_model\\_stochastic_gradient.py:173: FutureWarning: The loss 'log' was deprecated in v1.1 and will be removed in version 1.3. Use `loss='log_loss'` which is equivalent.\n",
      "  warnings.warn(\n"
     ]
    },
    {
     "name": "stdout",
     "output_type": "stream",
     "text": [
      "[CV] END alpha=0.01, class_weight=None, learning_rate=optimal, loss=log, penalty=elasticnet; total time=   0.8s\n"
     ]
    },
    {
     "name": "stderr",
     "output_type": "stream",
     "text": [
      "D:\\study\\Anaconda\\envs\\multicampus\\lib\\site-packages\\sklearn\\linear_model\\_stochastic_gradient.py:173: FutureWarning: The loss 'log' was deprecated in v1.1 and will be removed in version 1.3. Use `loss='log_loss'` which is equivalent.\n",
      "  warnings.warn(\n"
     ]
    },
    {
     "name": "stdout",
     "output_type": "stream",
     "text": [
      "[CV] END alpha=0.01, class_weight=None, learning_rate=optimal, loss=log, penalty=elasticnet; total time=   0.8s\n"
     ]
    },
    {
     "name": "stderr",
     "output_type": "stream",
     "text": [
      "D:\\study\\Anaconda\\envs\\multicampus\\lib\\site-packages\\sklearn\\linear_model\\_stochastic_gradient.py:173: FutureWarning: The loss 'log' was deprecated in v1.1 and will be removed in version 1.3. Use `loss='log_loss'` which is equivalent.\n",
      "  warnings.warn(\n"
     ]
    },
    {
     "name": "stdout",
     "output_type": "stream",
     "text": [
      "[CV] END alpha=0.01, class_weight=None, learning_rate=optimal, loss=log, penalty=None; total time=   0.8s\n"
     ]
    },
    {
     "name": "stderr",
     "output_type": "stream",
     "text": [
      "D:\\study\\Anaconda\\envs\\multicampus\\lib\\site-packages\\sklearn\\linear_model\\_stochastic_gradient.py:173: FutureWarning: The loss 'log' was deprecated in v1.1 and will be removed in version 1.3. Use `loss='log_loss'` which is equivalent.\n",
      "  warnings.warn(\n"
     ]
    },
    {
     "name": "stdout",
     "output_type": "stream",
     "text": [
      "[CV] END alpha=0.01, class_weight=None, learning_rate=optimal, loss=log, penalty=None; total time=   0.8s\n"
     ]
    },
    {
     "name": "stderr",
     "output_type": "stream",
     "text": [
      "D:\\study\\Anaconda\\envs\\multicampus\\lib\\site-packages\\sklearn\\linear_model\\_stochastic_gradient.py:173: FutureWarning: The loss 'log' was deprecated in v1.1 and will be removed in version 1.3. Use `loss='log_loss'` which is equivalent.\n",
      "  warnings.warn(\n"
     ]
    },
    {
     "name": "stdout",
     "output_type": "stream",
     "text": [
      "[CV] END alpha=0.01, class_weight=None, learning_rate=optimal, loss=log, penalty=None; total time=   0.7s\n",
      "[CV] END alpha=0.01, class_weight=None, learning_rate=optimal, loss=squared_hinge, penalty=l2; total time=   0.7s\n",
      "[CV] END alpha=0.01, class_weight=None, learning_rate=optimal, loss=squared_hinge, penalty=l2; total time=   0.8s\n",
      "[CV] END alpha=0.01, class_weight=None, learning_rate=optimal, loss=squared_hinge, penalty=l2; total time=   0.7s\n",
      "[CV] END alpha=0.01, class_weight=None, learning_rate=optimal, loss=squared_hinge, penalty=l1; total time=   0.9s\n",
      "[CV] END alpha=0.01, class_weight=None, learning_rate=optimal, loss=squared_hinge, penalty=l1; total time=   0.8s\n",
      "[CV] END alpha=0.01, class_weight=None, learning_rate=optimal, loss=squared_hinge, penalty=l1; total time=   1.2s\n",
      "[CV] END alpha=0.01, class_weight=None, learning_rate=optimal, loss=squared_hinge, penalty=elasticnet; total time=   0.8s\n",
      "[CV] END alpha=0.01, class_weight=None, learning_rate=optimal, loss=squared_hinge, penalty=elasticnet; total time=   0.8s\n",
      "[CV] END alpha=0.01, class_weight=None, learning_rate=optimal, loss=squared_hinge, penalty=elasticnet; total time=   0.8s\n",
      "[CV] END alpha=0.01, class_weight=None, learning_rate=optimal, loss=squared_hinge, penalty=None; total time=   0.8s\n",
      "[CV] END alpha=0.01, class_weight=None, learning_rate=optimal, loss=squared_hinge, penalty=None; total time=   0.8s\n",
      "[CV] END alpha=0.01, class_weight=None, learning_rate=optimal, loss=squared_hinge, penalty=None; total time=   0.8s\n",
      "[CV] END alpha=0.01, class_weight=None, learning_rate=optimal, loss=perceptron, penalty=l2; total time=   0.7s\n",
      "[CV] END alpha=0.01, class_weight=None, learning_rate=optimal, loss=perceptron, penalty=l2; total time=   0.8s\n",
      "[CV] END alpha=0.01, class_weight=None, learning_rate=optimal, loss=perceptron, penalty=l2; total time=   0.9s\n",
      "[CV] END alpha=0.01, class_weight=None, learning_rate=optimal, loss=perceptron, penalty=l1; total time=   1.1s\n",
      "[CV] END alpha=0.01, class_weight=None, learning_rate=optimal, loss=perceptron, penalty=l1; total time=   0.8s\n",
      "[CV] END alpha=0.01, class_weight=None, learning_rate=optimal, loss=perceptron, penalty=l1; total time=   0.9s\n",
      "[CV] END alpha=0.01, class_weight=None, learning_rate=optimal, loss=perceptron, penalty=elasticnet; total time=   1.0s\n",
      "[CV] END alpha=0.01, class_weight=None, learning_rate=optimal, loss=perceptron, penalty=elasticnet; total time=   0.9s\n",
      "[CV] END alpha=0.01, class_weight=None, learning_rate=optimal, loss=perceptron, penalty=elasticnet; total time=   1.3s\n",
      "[CV] END alpha=0.01, class_weight=None, learning_rate=optimal, loss=perceptron, penalty=None; total time=   1.0s\n",
      "[CV] END alpha=0.01, class_weight=None, learning_rate=optimal, loss=perceptron, penalty=None; total time=   1.0s\n",
      "[CV] END alpha=0.01, class_weight=None, learning_rate=optimal, loss=perceptron, penalty=None; total time=   0.8s\n",
      "[CV] END alpha=0.1, class_weight=balanced, learning_rate=optimal, loss=hinge, penalty=l2; total time=   0.7s\n",
      "[CV] END alpha=0.1, class_weight=balanced, learning_rate=optimal, loss=hinge, penalty=l2; total time=   0.7s\n",
      "[CV] END alpha=0.1, class_weight=balanced, learning_rate=optimal, loss=hinge, penalty=l2; total time=   0.7s\n",
      "[CV] END alpha=0.1, class_weight=balanced, learning_rate=optimal, loss=hinge, penalty=l1; total time=   0.7s\n",
      "[CV] END alpha=0.1, class_weight=balanced, learning_rate=optimal, loss=hinge, penalty=l1; total time=   0.7s\n",
      "[CV] END alpha=0.1, class_weight=balanced, learning_rate=optimal, loss=hinge, penalty=l1; total time=   0.8s\n",
      "[CV] END alpha=0.1, class_weight=balanced, learning_rate=optimal, loss=hinge, penalty=elasticnet; total time=   0.8s\n",
      "[CV] END alpha=0.1, class_weight=balanced, learning_rate=optimal, loss=hinge, penalty=elasticnet; total time=   0.8s\n",
      "[CV] END alpha=0.1, class_weight=balanced, learning_rate=optimal, loss=hinge, penalty=elasticnet; total time=   0.8s\n",
      "[CV] END alpha=0.1, class_weight=balanced, learning_rate=optimal, loss=hinge, penalty=None; total time=   0.8s\n",
      "[CV] END alpha=0.1, class_weight=balanced, learning_rate=optimal, loss=hinge, penalty=None; total time=   0.8s\n",
      "[CV] END alpha=0.1, class_weight=balanced, learning_rate=optimal, loss=hinge, penalty=None; total time=   0.7s\n",
      "[CV] END alpha=0.1, class_weight=balanced, learning_rate=optimal, loss=log_loss, penalty=l2; total time=   0.9s\n",
      "[CV] END alpha=0.1, class_weight=balanced, learning_rate=optimal, loss=log_loss, penalty=l2; total time=   0.9s\n",
      "[CV] END alpha=0.1, class_weight=balanced, learning_rate=optimal, loss=log_loss, penalty=l2; total time=   0.9s\n"
     ]
    },
    {
     "name": "stderr",
     "output_type": "stream",
     "text": [
      "D:\\study\\Anaconda\\envs\\multicampus\\lib\\site-packages\\sklearn\\metrics\\_classification.py:1334: UndefinedMetricWarning: Precision is ill-defined and being set to 0.0 due to no predicted samples. Use `zero_division` parameter to control this behavior.\n",
      "  _warn_prf(average, modifier, msg_start, len(result))\n"
     ]
    },
    {
     "name": "stdout",
     "output_type": "stream",
     "text": [
      "[CV] END alpha=0.1, class_weight=balanced, learning_rate=optimal, loss=log_loss, penalty=l1; total time=   0.9s\n"
     ]
    },
    {
     "name": "stderr",
     "output_type": "stream",
     "text": [
      "D:\\study\\Anaconda\\envs\\multicampus\\lib\\site-packages\\sklearn\\metrics\\_classification.py:1334: UndefinedMetricWarning: Precision is ill-defined and being set to 0.0 due to no predicted samples. Use `zero_division` parameter to control this behavior.\n",
      "  _warn_prf(average, modifier, msg_start, len(result))\n"
     ]
    },
    {
     "name": "stdout",
     "output_type": "stream",
     "text": [
      "[CV] END alpha=0.1, class_weight=balanced, learning_rate=optimal, loss=log_loss, penalty=l1; total time=   0.8s\n",
      "[CV] END alpha=0.1, class_weight=balanced, learning_rate=optimal, loss=log_loss, penalty=l1; total time=   0.8s\n",
      "[CV] END alpha=0.1, class_weight=balanced, learning_rate=optimal, loss=log_loss, penalty=elasticnet; total time=   0.8s\n",
      "[CV] END alpha=0.1, class_weight=balanced, learning_rate=optimal, loss=log_loss, penalty=elasticnet; total time=   1.0s\n",
      "[CV] END alpha=0.1, class_weight=balanced, learning_rate=optimal, loss=log_loss, penalty=elasticnet; total time=   1.2s\n",
      "[CV] END alpha=0.1, class_weight=balanced, learning_rate=optimal, loss=log_loss, penalty=None; total time=   1.0s\n",
      "[CV] END alpha=0.1, class_weight=balanced, learning_rate=optimal, loss=log_loss, penalty=None; total time=   1.2s\n",
      "[CV] END alpha=0.1, class_weight=balanced, learning_rate=optimal, loss=log_loss, penalty=None; total time=   0.8s\n",
      "[CV] END alpha=0.1, class_weight=balanced, learning_rate=optimal, loss=modified_huber, penalty=l2; total time=   0.8s\n",
      "[CV] END alpha=0.1, class_weight=balanced, learning_rate=optimal, loss=modified_huber, penalty=l2; total time=   0.7s\n",
      "[CV] END alpha=0.1, class_weight=balanced, learning_rate=optimal, loss=modified_huber, penalty=l2; total time=   0.8s\n",
      "[CV] END alpha=0.1, class_weight=balanced, learning_rate=optimal, loss=modified_huber, penalty=l1; total time=   0.8s\n",
      "[CV] END alpha=0.1, class_weight=balanced, learning_rate=optimal, loss=modified_huber, penalty=l1; total time=   0.8s\n",
      "[CV] END alpha=0.1, class_weight=balanced, learning_rate=optimal, loss=modified_huber, penalty=l1; total time=   0.8s\n",
      "[CV] END alpha=0.1, class_weight=balanced, learning_rate=optimal, loss=modified_huber, penalty=elasticnet; total time=   0.9s\n",
      "[CV] END alpha=0.1, class_weight=balanced, learning_rate=optimal, loss=modified_huber, penalty=elasticnet; total time=   0.9s\n",
      "[CV] END alpha=0.1, class_weight=balanced, learning_rate=optimal, loss=modified_huber, penalty=elasticnet; total time=   0.9s\n",
      "[CV] END alpha=0.1, class_weight=balanced, learning_rate=optimal, loss=modified_huber, penalty=None; total time=   0.7s\n",
      "[CV] END alpha=0.1, class_weight=balanced, learning_rate=optimal, loss=modified_huber, penalty=None; total time=   0.8s\n",
      "[CV] END alpha=0.1, class_weight=balanced, learning_rate=optimal, loss=modified_huber, penalty=None; total time=   0.8s\n"
     ]
    },
    {
     "name": "stderr",
     "output_type": "stream",
     "text": [
      "D:\\study\\Anaconda\\envs\\multicampus\\lib\\site-packages\\sklearn\\linear_model\\_stochastic_gradient.py:173: FutureWarning: The loss 'log' was deprecated in v1.1 and will be removed in version 1.3. Use `loss='log_loss'` which is equivalent.\n",
      "  warnings.warn(\n"
     ]
    },
    {
     "name": "stdout",
     "output_type": "stream",
     "text": [
      "[CV] END alpha=0.1, class_weight=balanced, learning_rate=optimal, loss=log, penalty=l2; total time=   0.8s\n"
     ]
    },
    {
     "name": "stderr",
     "output_type": "stream",
     "text": [
      "D:\\study\\Anaconda\\envs\\multicampus\\lib\\site-packages\\sklearn\\linear_model\\_stochastic_gradient.py:173: FutureWarning: The loss 'log' was deprecated in v1.1 and will be removed in version 1.3. Use `loss='log_loss'` which is equivalent.\n",
      "  warnings.warn(\n"
     ]
    },
    {
     "name": "stdout",
     "output_type": "stream",
     "text": [
      "[CV] END alpha=0.1, class_weight=balanced, learning_rate=optimal, loss=log, penalty=l2; total time=   0.8s\n"
     ]
    },
    {
     "name": "stderr",
     "output_type": "stream",
     "text": [
      "D:\\study\\Anaconda\\envs\\multicampus\\lib\\site-packages\\sklearn\\linear_model\\_stochastic_gradient.py:173: FutureWarning: The loss 'log' was deprecated in v1.1 and will be removed in version 1.3. Use `loss='log_loss'` which is equivalent.\n",
      "  warnings.warn(\n"
     ]
    },
    {
     "name": "stdout",
     "output_type": "stream",
     "text": [
      "[CV] END alpha=0.1, class_weight=balanced, learning_rate=optimal, loss=log, penalty=l2; total time=   0.8s\n"
     ]
    },
    {
     "name": "stderr",
     "output_type": "stream",
     "text": [
      "D:\\study\\Anaconda\\envs\\multicampus\\lib\\site-packages\\sklearn\\linear_model\\_stochastic_gradient.py:173: FutureWarning: The loss 'log' was deprecated in v1.1 and will be removed in version 1.3. Use `loss='log_loss'` which is equivalent.\n",
      "  warnings.warn(\n"
     ]
    },
    {
     "name": "stdout",
     "output_type": "stream",
     "text": [
      "[CV] END alpha=0.1, class_weight=balanced, learning_rate=optimal, loss=log, penalty=l1; total time=   0.8s\n"
     ]
    },
    {
     "name": "stderr",
     "output_type": "stream",
     "text": [
      "D:\\study\\Anaconda\\envs\\multicampus\\lib\\site-packages\\sklearn\\linear_model\\_stochastic_gradient.py:173: FutureWarning: The loss 'log' was deprecated in v1.1 and will be removed in version 1.3. Use `loss='log_loss'` which is equivalent.\n",
      "  warnings.warn(\n",
      "D:\\study\\Anaconda\\envs\\multicampus\\lib\\site-packages\\sklearn\\metrics\\_classification.py:1334: UndefinedMetricWarning: Precision is ill-defined and being set to 0.0 due to no predicted samples. Use `zero_division` parameter to control this behavior.\n",
      "  _warn_prf(average, modifier, msg_start, len(result))\n",
      "D:\\study\\Anaconda\\envs\\multicampus\\lib\\site-packages\\sklearn\\linear_model\\_stochastic_gradient.py:173: FutureWarning: The loss 'log' was deprecated in v1.1 and will be removed in version 1.3. Use `loss='log_loss'` which is equivalent.\n",
      "  warnings.warn(\n"
     ]
    },
    {
     "name": "stdout",
     "output_type": "stream",
     "text": [
      "[CV] END alpha=0.1, class_weight=balanced, learning_rate=optimal, loss=log, penalty=l1; total time=   0.8s\n"
     ]
    },
    {
     "name": "stderr",
     "output_type": "stream",
     "text": [
      "D:\\study\\Anaconda\\envs\\multicampus\\lib\\site-packages\\sklearn\\metrics\\_classification.py:1334: UndefinedMetricWarning: Precision is ill-defined and being set to 0.0 due to no predicted samples. Use `zero_division` parameter to control this behavior.\n",
      "  _warn_prf(average, modifier, msg_start, len(result))\n",
      "D:\\study\\Anaconda\\envs\\multicampus\\lib\\site-packages\\sklearn\\linear_model\\_stochastic_gradient.py:173: FutureWarning: The loss 'log' was deprecated in v1.1 and will be removed in version 1.3. Use `loss='log_loss'` which is equivalent.\n",
      "  warnings.warn(\n"
     ]
    },
    {
     "name": "stdout",
     "output_type": "stream",
     "text": [
      "[CV] END alpha=0.1, class_weight=balanced, learning_rate=optimal, loss=log, penalty=l1; total time=   0.9s\n",
      "[CV] END alpha=0.1, class_weight=balanced, learning_rate=optimal, loss=log, penalty=elasticnet; total time=   1.0s\n"
     ]
    },
    {
     "name": "stderr",
     "output_type": "stream",
     "text": [
      "D:\\study\\Anaconda\\envs\\multicampus\\lib\\site-packages\\sklearn\\linear_model\\_stochastic_gradient.py:173: FutureWarning: The loss 'log' was deprecated in v1.1 and will be removed in version 1.3. Use `loss='log_loss'` which is equivalent.\n",
      "  warnings.warn(\n"
     ]
    },
    {
     "name": "stdout",
     "output_type": "stream",
     "text": [
      "[CV] END alpha=0.1, class_weight=balanced, learning_rate=optimal, loss=log, penalty=elasticnet; total time=   0.8s\n"
     ]
    },
    {
     "name": "stderr",
     "output_type": "stream",
     "text": [
      "D:\\study\\Anaconda\\envs\\multicampus\\lib\\site-packages\\sklearn\\linear_model\\_stochastic_gradient.py:173: FutureWarning: The loss 'log' was deprecated in v1.1 and will be removed in version 1.3. Use `loss='log_loss'` which is equivalent.\n",
      "  warnings.warn(\n"
     ]
    },
    {
     "name": "stdout",
     "output_type": "stream",
     "text": [
      "[CV] END alpha=0.1, class_weight=balanced, learning_rate=optimal, loss=log, penalty=elasticnet; total time=   0.8s\n"
     ]
    },
    {
     "name": "stderr",
     "output_type": "stream",
     "text": [
      "D:\\study\\Anaconda\\envs\\multicampus\\lib\\site-packages\\sklearn\\linear_model\\_stochastic_gradient.py:173: FutureWarning: The loss 'log' was deprecated in v1.1 and will be removed in version 1.3. Use `loss='log_loss'` which is equivalent.\n",
      "  warnings.warn(\n"
     ]
    },
    {
     "name": "stdout",
     "output_type": "stream",
     "text": [
      "[CV] END alpha=0.1, class_weight=balanced, learning_rate=optimal, loss=log, penalty=None; total time=   0.8s\n"
     ]
    },
    {
     "name": "stderr",
     "output_type": "stream",
     "text": [
      "D:\\study\\Anaconda\\envs\\multicampus\\lib\\site-packages\\sklearn\\linear_model\\_stochastic_gradient.py:173: FutureWarning: The loss 'log' was deprecated in v1.1 and will be removed in version 1.3. Use `loss='log_loss'` which is equivalent.\n",
      "  warnings.warn(\n"
     ]
    },
    {
     "name": "stdout",
     "output_type": "stream",
     "text": [
      "[CV] END alpha=0.1, class_weight=balanced, learning_rate=optimal, loss=log, penalty=None; total time=   0.9s\n"
     ]
    },
    {
     "name": "stderr",
     "output_type": "stream",
     "text": [
      "D:\\study\\Anaconda\\envs\\multicampus\\lib\\site-packages\\sklearn\\linear_model\\_stochastic_gradient.py:173: FutureWarning: The loss 'log' was deprecated in v1.1 and will be removed in version 1.3. Use `loss='log_loss'` which is equivalent.\n",
      "  warnings.warn(\n"
     ]
    },
    {
     "name": "stdout",
     "output_type": "stream",
     "text": [
      "[CV] END alpha=0.1, class_weight=balanced, learning_rate=optimal, loss=log, penalty=None; total time=   0.7s\n",
      "[CV] END alpha=0.1, class_weight=balanced, learning_rate=optimal, loss=squared_hinge, penalty=l2; total time=   0.8s\n",
      "[CV] END alpha=0.1, class_weight=balanced, learning_rate=optimal, loss=squared_hinge, penalty=l2; total time=   0.7s\n",
      "[CV] END alpha=0.1, class_weight=balanced, learning_rate=optimal, loss=squared_hinge, penalty=l2; total time=   0.7s\n",
      "[CV] END alpha=0.1, class_weight=balanced, learning_rate=optimal, loss=squared_hinge, penalty=l1; total time=   0.7s\n",
      "[CV] END alpha=0.1, class_weight=balanced, learning_rate=optimal, loss=squared_hinge, penalty=l1; total time=   1.3s\n",
      "[CV] END alpha=0.1, class_weight=balanced, learning_rate=optimal, loss=squared_hinge, penalty=l1; total time=   0.7s\n",
      "[CV] END alpha=0.1, class_weight=balanced, learning_rate=optimal, loss=squared_hinge, penalty=elasticnet; total time=   0.7s\n",
      "[CV] END alpha=0.1, class_weight=balanced, learning_rate=optimal, loss=squared_hinge, penalty=elasticnet; total time=   0.7s\n",
      "[CV] END alpha=0.1, class_weight=balanced, learning_rate=optimal, loss=squared_hinge, penalty=elasticnet; total time=   0.8s\n",
      "[CV] END alpha=0.1, class_weight=balanced, learning_rate=optimal, loss=squared_hinge, penalty=None; total time=   0.6s\n",
      "[CV] END alpha=0.1, class_weight=balanced, learning_rate=optimal, loss=squared_hinge, penalty=None; total time=   0.6s\n",
      "[CV] END alpha=0.1, class_weight=balanced, learning_rate=optimal, loss=squared_hinge, penalty=None; total time=   0.7s\n",
      "[CV] END alpha=0.1, class_weight=balanced, learning_rate=optimal, loss=perceptron, penalty=l2; total time=   0.8s\n",
      "[CV] END alpha=0.1, class_weight=balanced, learning_rate=optimal, loss=perceptron, penalty=l2; total time=   1.0s\n",
      "[CV] END alpha=0.1, class_weight=balanced, learning_rate=optimal, loss=perceptron, penalty=l2; total time=   0.6s\n"
     ]
    },
    {
     "name": "stderr",
     "output_type": "stream",
     "text": [
      "D:\\study\\Anaconda\\envs\\multicampus\\lib\\site-packages\\sklearn\\metrics\\_classification.py:1334: UndefinedMetricWarning: Precision is ill-defined and being set to 0.0 due to no predicted samples. Use `zero_division` parameter to control this behavior.\n",
      "  _warn_prf(average, modifier, msg_start, len(result))\n"
     ]
    },
    {
     "name": "stdout",
     "output_type": "stream",
     "text": [
      "[CV] END alpha=0.1, class_weight=balanced, learning_rate=optimal, loss=perceptron, penalty=l1; total time=   0.6s\n",
      "[CV] END alpha=0.1, class_weight=balanced, learning_rate=optimal, loss=perceptron, penalty=l1; total time=   0.7s\n"
     ]
    },
    {
     "name": "stderr",
     "output_type": "stream",
     "text": [
      "D:\\study\\Anaconda\\envs\\multicampus\\lib\\site-packages\\sklearn\\metrics\\_classification.py:1334: UndefinedMetricWarning: Precision is ill-defined and being set to 0.0 due to no predicted samples. Use `zero_division` parameter to control this behavior.\n",
      "  _warn_prf(average, modifier, msg_start, len(result))\n"
     ]
    },
    {
     "name": "stdout",
     "output_type": "stream",
     "text": [
      "[CV] END alpha=0.1, class_weight=balanced, learning_rate=optimal, loss=perceptron, penalty=l1; total time=   0.7s\n",
      "[CV] END alpha=0.1, class_weight=balanced, learning_rate=optimal, loss=perceptron, penalty=elasticnet; total time=   0.9s\n",
      "[CV] END alpha=0.1, class_weight=balanced, learning_rate=optimal, loss=perceptron, penalty=elasticnet; total time=   0.8s\n",
      "[CV] END alpha=0.1, class_weight=balanced, learning_rate=optimal, loss=perceptron, penalty=elasticnet; total time=   0.7s\n",
      "[CV] END alpha=0.1, class_weight=balanced, learning_rate=optimal, loss=perceptron, penalty=None; total time=   0.7s\n",
      "[CV] END alpha=0.1, class_weight=balanced, learning_rate=optimal, loss=perceptron, penalty=None; total time=   1.7s\n",
      "[CV] END alpha=0.1, class_weight=balanced, learning_rate=optimal, loss=perceptron, penalty=None; total time=   0.8s\n",
      "[CV] END alpha=0.1, class_weight=None, learning_rate=optimal, loss=hinge, penalty=l2; total time=   0.7s\n",
      "[CV] END alpha=0.1, class_weight=None, learning_rate=optimal, loss=hinge, penalty=l2; total time=   0.7s\n",
      "[CV] END alpha=0.1, class_weight=None, learning_rate=optimal, loss=hinge, penalty=l2; total time=   0.7s\n",
      "[CV] END alpha=0.1, class_weight=None, learning_rate=optimal, loss=hinge, penalty=l1; total time=   0.7s\n",
      "[CV] END alpha=0.1, class_weight=None, learning_rate=optimal, loss=hinge, penalty=l1; total time=   0.7s\n",
      "[CV] END alpha=0.1, class_weight=None, learning_rate=optimal, loss=hinge, penalty=l1; total time=   0.7s\n",
      "[CV] END alpha=0.1, class_weight=None, learning_rate=optimal, loss=hinge, penalty=elasticnet; total time=   0.7s\n",
      "[CV] END alpha=0.1, class_weight=None, learning_rate=optimal, loss=hinge, penalty=elasticnet; total time=   0.7s\n",
      "[CV] END alpha=0.1, class_weight=None, learning_rate=optimal, loss=hinge, penalty=elasticnet; total time=   0.7s\n",
      "[CV] END alpha=0.1, class_weight=None, learning_rate=optimal, loss=hinge, penalty=None; total time=   0.7s\n",
      "[CV] END alpha=0.1, class_weight=None, learning_rate=optimal, loss=hinge, penalty=None; total time=   0.7s\n",
      "[CV] END alpha=0.1, class_weight=None, learning_rate=optimal, loss=hinge, penalty=None; total time=   0.7s\n",
      "[CV] END alpha=0.1, class_weight=None, learning_rate=optimal, loss=log_loss, penalty=l2; total time=   0.7s\n",
      "[CV] END alpha=0.1, class_weight=None, learning_rate=optimal, loss=log_loss, penalty=l2; total time=   0.7s\n",
      "[CV] END alpha=0.1, class_weight=None, learning_rate=optimal, loss=log_loss, penalty=l2; total time=   0.7s\n"
     ]
    },
    {
     "name": "stderr",
     "output_type": "stream",
     "text": [
      "D:\\study\\Anaconda\\envs\\multicampus\\lib\\site-packages\\sklearn\\metrics\\_classification.py:1334: UndefinedMetricWarning: Precision is ill-defined and being set to 0.0 due to no predicted samples. Use `zero_division` parameter to control this behavior.\n",
      "  _warn_prf(average, modifier, msg_start, len(result))\n"
     ]
    },
    {
     "name": "stdout",
     "output_type": "stream",
     "text": [
      "[CV] END alpha=0.1, class_weight=None, learning_rate=optimal, loss=log_loss, penalty=l1; total time=   0.9s\n"
     ]
    },
    {
     "name": "stderr",
     "output_type": "stream",
     "text": [
      "D:\\study\\Anaconda\\envs\\multicampus\\lib\\site-packages\\sklearn\\metrics\\_classification.py:1334: UndefinedMetricWarning: Precision is ill-defined and being set to 0.0 due to no predicted samples. Use `zero_division` parameter to control this behavior.\n",
      "  _warn_prf(average, modifier, msg_start, len(result))\n"
     ]
    },
    {
     "name": "stdout",
     "output_type": "stream",
     "text": [
      "[CV] END alpha=0.1, class_weight=None, learning_rate=optimal, loss=log_loss, penalty=l1; total time=   0.8s\n"
     ]
    },
    {
     "name": "stderr",
     "output_type": "stream",
     "text": [
      "D:\\study\\Anaconda\\envs\\multicampus\\lib\\site-packages\\sklearn\\metrics\\_classification.py:1334: UndefinedMetricWarning: Precision is ill-defined and being set to 0.0 due to no predicted samples. Use `zero_division` parameter to control this behavior.\n",
      "  _warn_prf(average, modifier, msg_start, len(result))\n"
     ]
    },
    {
     "name": "stdout",
     "output_type": "stream",
     "text": [
      "[CV] END alpha=0.1, class_weight=None, learning_rate=optimal, loss=log_loss, penalty=l1; total time=   0.8s\n",
      "[CV] END alpha=0.1, class_weight=None, learning_rate=optimal, loss=log_loss, penalty=elasticnet; total time=   0.8s\n",
      "[CV] END alpha=0.1, class_weight=None, learning_rate=optimal, loss=log_loss, penalty=elasticnet; total time=   0.9s\n",
      "[CV] END alpha=0.1, class_weight=None, learning_rate=optimal, loss=log_loss, penalty=elasticnet; total time=   0.8s\n",
      "[CV] END alpha=0.1, class_weight=None, learning_rate=optimal, loss=log_loss, penalty=None; total time=   0.7s\n",
      "[CV] END alpha=0.1, class_weight=None, learning_rate=optimal, loss=log_loss, penalty=None; total time=   0.8s\n",
      "[CV] END alpha=0.1, class_weight=None, learning_rate=optimal, loss=log_loss, penalty=None; total time=   0.8s\n",
      "[CV] END alpha=0.1, class_weight=None, learning_rate=optimal, loss=modified_huber, penalty=l2; total time=   0.7s\n",
      "[CV] END alpha=0.1, class_weight=None, learning_rate=optimal, loss=modified_huber, penalty=l2; total time=   0.7s\n",
      "[CV] END alpha=0.1, class_weight=None, learning_rate=optimal, loss=modified_huber, penalty=l2; total time=   0.8s\n",
      "[CV] END alpha=0.1, class_weight=None, learning_rate=optimal, loss=modified_huber, penalty=l1; total time=   0.8s\n",
      "[CV] END alpha=0.1, class_weight=None, learning_rate=optimal, loss=modified_huber, penalty=l1; total time=   1.0s\n",
      "[CV] END alpha=0.1, class_weight=None, learning_rate=optimal, loss=modified_huber, penalty=l1; total time=   0.9s\n",
      "[CV] END alpha=0.1, class_weight=None, learning_rate=optimal, loss=modified_huber, penalty=elasticnet; total time=   0.9s\n",
      "[CV] END alpha=0.1, class_weight=None, learning_rate=optimal, loss=modified_huber, penalty=elasticnet; total time=   0.8s\n",
      "[CV] END alpha=0.1, class_weight=None, learning_rate=optimal, loss=modified_huber, penalty=elasticnet; total time=   0.9s\n",
      "[CV] END alpha=0.1, class_weight=None, learning_rate=optimal, loss=modified_huber, penalty=None; total time=   0.8s\n",
      "[CV] END alpha=0.1, class_weight=None, learning_rate=optimal, loss=modified_huber, penalty=None; total time=   0.8s\n",
      "[CV] END alpha=0.1, class_weight=None, learning_rate=optimal, loss=modified_huber, penalty=None; total time=   0.9s\n"
     ]
    },
    {
     "name": "stderr",
     "output_type": "stream",
     "text": [
      "D:\\study\\Anaconda\\envs\\multicampus\\lib\\site-packages\\sklearn\\linear_model\\_stochastic_gradient.py:173: FutureWarning: The loss 'log' was deprecated in v1.1 and will be removed in version 1.3. Use `loss='log_loss'` which is equivalent.\n",
      "  warnings.warn(\n"
     ]
    },
    {
     "name": "stdout",
     "output_type": "stream",
     "text": [
      "[CV] END alpha=0.1, class_weight=None, learning_rate=optimal, loss=log, penalty=l2; total time=   0.8s\n"
     ]
    },
    {
     "name": "stderr",
     "output_type": "stream",
     "text": [
      "D:\\study\\Anaconda\\envs\\multicampus\\lib\\site-packages\\sklearn\\linear_model\\_stochastic_gradient.py:173: FutureWarning: The loss 'log' was deprecated in v1.1 and will be removed in version 1.3. Use `loss='log_loss'` which is equivalent.\n",
      "  warnings.warn(\n"
     ]
    },
    {
     "name": "stdout",
     "output_type": "stream",
     "text": [
      "[CV] END alpha=0.1, class_weight=None, learning_rate=optimal, loss=log, penalty=l2; total time=   0.9s\n"
     ]
    },
    {
     "name": "stderr",
     "output_type": "stream",
     "text": [
      "D:\\study\\Anaconda\\envs\\multicampus\\lib\\site-packages\\sklearn\\linear_model\\_stochastic_gradient.py:173: FutureWarning: The loss 'log' was deprecated in v1.1 and will be removed in version 1.3. Use `loss='log_loss'` which is equivalent.\n",
      "  warnings.warn(\n"
     ]
    },
    {
     "name": "stdout",
     "output_type": "stream",
     "text": [
      "[CV] END alpha=0.1, class_weight=None, learning_rate=optimal, loss=log, penalty=l2; total time=   0.8s\n"
     ]
    },
    {
     "name": "stderr",
     "output_type": "stream",
     "text": [
      "D:\\study\\Anaconda\\envs\\multicampus\\lib\\site-packages\\sklearn\\linear_model\\_stochastic_gradient.py:173: FutureWarning: The loss 'log' was deprecated in v1.1 and will be removed in version 1.3. Use `loss='log_loss'` which is equivalent.\n",
      "  warnings.warn(\n",
      "D:\\study\\Anaconda\\envs\\multicampus\\lib\\site-packages\\sklearn\\metrics\\_classification.py:1334: UndefinedMetricWarning: Precision is ill-defined and being set to 0.0 due to no predicted samples. Use `zero_division` parameter to control this behavior.\n",
      "  _warn_prf(average, modifier, msg_start, len(result))\n",
      "D:\\study\\Anaconda\\envs\\multicampus\\lib\\site-packages\\sklearn\\linear_model\\_stochastic_gradient.py:173: FutureWarning: The loss 'log' was deprecated in v1.1 and will be removed in version 1.3. Use `loss='log_loss'` which is equivalent.\n",
      "  warnings.warn(\n"
     ]
    },
    {
     "name": "stdout",
     "output_type": "stream",
     "text": [
      "[CV] END alpha=0.1, class_weight=None, learning_rate=optimal, loss=log, penalty=l1; total time=   0.9s\n"
     ]
    },
    {
     "name": "stderr",
     "output_type": "stream",
     "text": [
      "D:\\study\\Anaconda\\envs\\multicampus\\lib\\site-packages\\sklearn\\metrics\\_classification.py:1334: UndefinedMetricWarning: Precision is ill-defined and being set to 0.0 due to no predicted samples. Use `zero_division` parameter to control this behavior.\n",
      "  _warn_prf(average, modifier, msg_start, len(result))\n",
      "D:\\study\\Anaconda\\envs\\multicampus\\lib\\site-packages\\sklearn\\linear_model\\_stochastic_gradient.py:173: FutureWarning: The loss 'log' was deprecated in v1.1 and will be removed in version 1.3. Use `loss='log_loss'` which is equivalent.\n",
      "  warnings.warn(\n"
     ]
    },
    {
     "name": "stdout",
     "output_type": "stream",
     "text": [
      "[CV] END alpha=0.1, class_weight=None, learning_rate=optimal, loss=log, penalty=l1; total time=   0.8s\n",
      "[CV] END alpha=0.1, class_weight=None, learning_rate=optimal, loss=log, penalty=l1; total time=   0.9s\n"
     ]
    },
    {
     "name": "stderr",
     "output_type": "stream",
     "text": [
      "D:\\study\\Anaconda\\envs\\multicampus\\lib\\site-packages\\sklearn\\linear_model\\_stochastic_gradient.py:173: FutureWarning: The loss 'log' was deprecated in v1.1 and will be removed in version 1.3. Use `loss='log_loss'` which is equivalent.\n",
      "  warnings.warn(\n"
     ]
    },
    {
     "name": "stdout",
     "output_type": "stream",
     "text": [
      "[CV] END alpha=0.1, class_weight=None, learning_rate=optimal, loss=log, penalty=elasticnet; total time=   0.8s\n"
     ]
    },
    {
     "name": "stderr",
     "output_type": "stream",
     "text": [
      "D:\\study\\Anaconda\\envs\\multicampus\\lib\\site-packages\\sklearn\\linear_model\\_stochastic_gradient.py:173: FutureWarning: The loss 'log' was deprecated in v1.1 and will be removed in version 1.3. Use `loss='log_loss'` which is equivalent.\n",
      "  warnings.warn(\n"
     ]
    },
    {
     "name": "stdout",
     "output_type": "stream",
     "text": [
      "[CV] END alpha=0.1, class_weight=None, learning_rate=optimal, loss=log, penalty=elasticnet; total time=   0.9s\n"
     ]
    },
    {
     "name": "stderr",
     "output_type": "stream",
     "text": [
      "D:\\study\\Anaconda\\envs\\multicampus\\lib\\site-packages\\sklearn\\linear_model\\_stochastic_gradient.py:173: FutureWarning: The loss 'log' was deprecated in v1.1 and will be removed in version 1.3. Use `loss='log_loss'` which is equivalent.\n",
      "  warnings.warn(\n"
     ]
    },
    {
     "name": "stdout",
     "output_type": "stream",
     "text": [
      "[CV] END alpha=0.1, class_weight=None, learning_rate=optimal, loss=log, penalty=elasticnet; total time=   0.9s\n"
     ]
    },
    {
     "name": "stderr",
     "output_type": "stream",
     "text": [
      "D:\\study\\Anaconda\\envs\\multicampus\\lib\\site-packages\\sklearn\\linear_model\\_stochastic_gradient.py:173: FutureWarning: The loss 'log' was deprecated in v1.1 and will be removed in version 1.3. Use `loss='log_loss'` which is equivalent.\n",
      "  warnings.warn(\n"
     ]
    },
    {
     "name": "stdout",
     "output_type": "stream",
     "text": [
      "[CV] END alpha=0.1, class_weight=None, learning_rate=optimal, loss=log, penalty=None; total time=   0.8s\n"
     ]
    },
    {
     "name": "stderr",
     "output_type": "stream",
     "text": [
      "D:\\study\\Anaconda\\envs\\multicampus\\lib\\site-packages\\sklearn\\linear_model\\_stochastic_gradient.py:173: FutureWarning: The loss 'log' was deprecated in v1.1 and will be removed in version 1.3. Use `loss='log_loss'` which is equivalent.\n",
      "  warnings.warn(\n"
     ]
    },
    {
     "name": "stdout",
     "output_type": "stream",
     "text": [
      "[CV] END alpha=0.1, class_weight=None, learning_rate=optimal, loss=log, penalty=None; total time=   0.7s\n"
     ]
    },
    {
     "name": "stderr",
     "output_type": "stream",
     "text": [
      "D:\\study\\Anaconda\\envs\\multicampus\\lib\\site-packages\\sklearn\\linear_model\\_stochastic_gradient.py:173: FutureWarning: The loss 'log' was deprecated in v1.1 and will be removed in version 1.3. Use `loss='log_loss'` which is equivalent.\n",
      "  warnings.warn(\n"
     ]
    },
    {
     "name": "stdout",
     "output_type": "stream",
     "text": [
      "[CV] END alpha=0.1, class_weight=None, learning_rate=optimal, loss=log, penalty=None; total time=   0.7s\n",
      "[CV] END alpha=0.1, class_weight=None, learning_rate=optimal, loss=squared_hinge, penalty=l2; total time=   0.8s\n",
      "[CV] END alpha=0.1, class_weight=None, learning_rate=optimal, loss=squared_hinge, penalty=l2; total time=   0.7s\n",
      "[CV] END alpha=0.1, class_weight=None, learning_rate=optimal, loss=squared_hinge, penalty=l2; total time=   0.8s\n",
      "[CV] END alpha=0.1, class_weight=None, learning_rate=optimal, loss=squared_hinge, penalty=l1; total time=   0.8s\n",
      "[CV] END alpha=0.1, class_weight=None, learning_rate=optimal, loss=squared_hinge, penalty=l1; total time=   1.4s\n",
      "[CV] END alpha=0.1, class_weight=None, learning_rate=optimal, loss=squared_hinge, penalty=l1; total time=   0.8s\n",
      "[CV] END alpha=0.1, class_weight=None, learning_rate=optimal, loss=squared_hinge, penalty=elasticnet; total time=   0.9s\n",
      "[CV] END alpha=0.1, class_weight=None, learning_rate=optimal, loss=squared_hinge, penalty=elasticnet; total time=   0.9s\n",
      "[CV] END alpha=0.1, class_weight=None, learning_rate=optimal, loss=squared_hinge, penalty=elasticnet; total time=   0.8s\n",
      "[CV] END alpha=0.1, class_weight=None, learning_rate=optimal, loss=squared_hinge, penalty=None; total time=   0.7s\n",
      "[CV] END alpha=0.1, class_weight=None, learning_rate=optimal, loss=squared_hinge, penalty=None; total time=   1.3s\n",
      "[CV] END alpha=0.1, class_weight=None, learning_rate=optimal, loss=squared_hinge, penalty=None; total time=   1.2s\n",
      "[CV] END alpha=0.1, class_weight=None, learning_rate=optimal, loss=perceptron, penalty=l2; total time=   1.3s\n",
      "[CV] END alpha=0.1, class_weight=None, learning_rate=optimal, loss=perceptron, penalty=l2; total time=   1.0s\n",
      "[CV] END alpha=0.1, class_weight=None, learning_rate=optimal, loss=perceptron, penalty=l2; total time=   1.0s\n",
      "[CV] END alpha=0.1, class_weight=None, learning_rate=optimal, loss=perceptron, penalty=l1; total time=   0.9s\n"
     ]
    },
    {
     "name": "stderr",
     "output_type": "stream",
     "text": [
      "D:\\study\\Anaconda\\envs\\multicampus\\lib\\site-packages\\sklearn\\metrics\\_classification.py:1334: UndefinedMetricWarning: Precision is ill-defined and being set to 0.0 due to no predicted samples. Use `zero_division` parameter to control this behavior.\n",
      "  _warn_prf(average, modifier, msg_start, len(result))\n"
     ]
    },
    {
     "name": "stdout",
     "output_type": "stream",
     "text": [
      "[CV] END alpha=0.1, class_weight=None, learning_rate=optimal, loss=perceptron, penalty=l1; total time=   0.8s\n"
     ]
    },
    {
     "name": "stderr",
     "output_type": "stream",
     "text": [
      "D:\\study\\Anaconda\\envs\\multicampus\\lib\\site-packages\\sklearn\\metrics\\_classification.py:1334: UndefinedMetricWarning: Precision is ill-defined and being set to 0.0 due to no predicted samples. Use `zero_division` parameter to control this behavior.\n",
      "  _warn_prf(average, modifier, msg_start, len(result))\n"
     ]
    },
    {
     "name": "stdout",
     "output_type": "stream",
     "text": [
      "[CV] END alpha=0.1, class_weight=None, learning_rate=optimal, loss=perceptron, penalty=l1; total time=   0.8s\n",
      "[CV] END alpha=0.1, class_weight=None, learning_rate=optimal, loss=perceptron, penalty=elasticnet; total time=   1.0s\n",
      "[CV] END alpha=0.1, class_weight=None, learning_rate=optimal, loss=perceptron, penalty=elasticnet; total time=   1.2s\n",
      "[CV] END alpha=0.1, class_weight=None, learning_rate=optimal, loss=perceptron, penalty=elasticnet; total time=   0.8s\n",
      "[CV] END alpha=0.1, class_weight=None, learning_rate=optimal, loss=perceptron, penalty=None; total time=   0.7s\n",
      "[CV] END alpha=0.1, class_weight=None, learning_rate=optimal, loss=perceptron, penalty=None; total time=   0.8s\n",
      "[CV] END alpha=0.1, class_weight=None, learning_rate=optimal, loss=perceptron, penalty=None; total time=   1.1s\n"
     ]
    },
    {
     "name": "stderr",
     "output_type": "stream",
     "text": [
      "D:\\study\\Anaconda\\envs\\multicampus\\lib\\site-packages\\sklearn\\linear_model\\_stochastic_gradient.py:173: FutureWarning: The loss 'log' was deprecated in v1.1 and will be removed in version 1.3. Use `loss='log_loss'` which is equivalent.\n",
      "  warnings.warn(\n"
     ]
    },
    {
     "name": "stdout",
     "output_type": "stream",
     "text": [
      "==================================================================================================== \n",
      " SGDClassifier(class_weight='balanced', early_stopping=True, loss='log',\n",
      "              penalty=None)\n",
      "0.7082324877415935\n",
      "0.6692988247722171\n",
      "오차 행렬\n",
      "[[47694 23988]\n",
      " [ 1056  2992]]\n",
      "정확도: 0.6693, 정밀도: 0.1109, 재현율: 0.7391, F1: 0.1929, AUC:0.7650\n",
      "==================================================================================================== \n",
      " SGDClassifier(early_stopping=True, loss='log_loss', penalty='elasticnet')\n",
      "0.7080110343095884\n",
      "0.6697213785818038\n",
      "오차 행렬\n",
      "[[47732 23950]\n",
      " [ 1062  2986]]\n",
      "정확도: 0.6697, 정밀도: 0.1109, 재현율: 0.7376, F1: 0.1927, AUC:0.7653\n",
      "==================================================================================================== \n",
      " SGDClassifier(early_stopping=True, loss='modified_huber')\n",
      "0.7071967134218217\n",
      "0.6728509177340551\n",
      "오차 행렬\n",
      "[[48003 23679]\n",
      " [ 1096  2952]]\n",
      "정확도: 0.6729, 정밀도: 0.1108, 재현율: 0.7292, F1: 0.1924, AUC:0.7636\n",
      "SGDClassifier(early_stopping=True, loss='perceptron', penalty='elasticnet')\n",
      "==================================================================================================== \n",
      " SGDClassifier(early_stopping=True, loss='perceptron', penalty='elasticnet')\n",
      "0.6944169322945366\n",
      "0.5922619833619438\n",
      "오차 행렬\n",
      "[[41678 30004]\n",
      " [  874  3174]]\n",
      "정확도: 0.5923, 정밀도: 0.0957, 재현율: 0.7841, F1: 0.1705, AUC:0.7636\n",
      "SGDClassifier(alpha=0.001, early_stopping=True, loss='perceptron',\n",
      "              penalty='elasticnet')\n",
      "==================================================================================================== \n",
      " SGDClassifier(alpha=0.001, early_stopping=True, loss='perceptron',\n",
      "              penalty='elasticnet')\n",
      "0.6243016370116691\n",
      "0.851842070513667\n",
      "오차 행렬\n",
      "[[63011  8671]\n",
      " [ 2549  1499]]\n",
      "정확도: 0.8518, 정밀도: 0.1474, 재현율: 0.3703, F1: 0.2109, AUC:0.7636\n",
      "==================================================================================================== \n",
      " SGDClassifier(alpha=0.01, class_weight='balanced', early_stopping=True,\n",
      "              loss='log_loss', penalty=None)\n",
      "0.7080232404042659\n",
      "0.6697213785818038\n",
      "오차 행렬\n",
      "[[47732 23950]\n",
      " [ 1062  2986]]\n",
      "정확도: 0.6697, 정밀도: 0.1109, 재현율: 0.7376, F1: 0.1927, AUC:0.7647\n",
      "SGDClassifier(alpha=0.01, early_stopping=True, loss='perceptron', penalty='l1')\n",
      "==================================================================================================== \n",
      " SGDClassifier(alpha=0.01, early_stopping=True, loss='perceptron', penalty='l1')\n",
      "0.6096072427478361\n",
      "0.6048725736167965\n",
      "오차 행렬\n",
      "[[43374 28308]\n",
      " [ 1615  2433]]\n",
      "정확도: 0.6049, 정밀도: 0.0791, 재현율: 0.6010, F1: 0.1399, AUC:0.7647\n",
      "SGDClassifier(alpha=0.01, early_stopping=True, loss='perceptron', penalty=None)\n",
      "==================================================================================================== \n",
      " SGDClassifier(alpha=0.01, early_stopping=True, loss='perceptron', penalty=None)\n",
      "0.5827520907296455\n",
      "0.26984022184075\n",
      "오차 행렬\n",
      "[[16654 55028]\n",
      " [  267  3781]]\n",
      "정확도: 0.2698, 정밀도: 0.0643, 재현율: 0.9340, F1: 0.1203, AUC:0.7647\n",
      "SGDClassifier(alpha=0.1, class_weight='balanced', early_stopping=True,\n",
      "              loss='squared_hinge', penalty=None)\n",
      "==================================================================================================== \n",
      " SGDClassifier(alpha=0.1, class_weight='balanced', early_stopping=True,\n",
      "              loss='squared_hinge', penalty=None)\n",
      "0.7078697923568923\n",
      "0.6702891852634358\n",
      "오차 행렬\n",
      "[[47782 23900]\n",
      " [ 1069  2979]]\n",
      "정확도: 0.6703, 정밀도: 0.1108, 재현율: 0.7359, F1: 0.1926, AUC:0.7647\n",
      "SGDClassifier(alpha=0.1, early_stopping=True, loss='squared_hinge',\n",
      "              penalty='l1')\n",
      "==================================================================================================== \n",
      " SGDClassifier(alpha=0.1, early_stopping=True, loss='squared_hinge',\n",
      "              penalty='l1')\n",
      "0.6816667945400395\n",
      "0.6289845503763369\n",
      "오차 행렬\n",
      "[[44724 26958]\n",
      " [ 1139  2909]]\n",
      "정확도: 0.6290, 정밀도: 0.0974, 재현율: 0.7186, F1: 0.1715, AUC:0.7647\n"
     ]
    }
   ],
   "source": [
    "params = {\n",
    "    \"loss\": [\"hinge\", \"log_loss\", \"modified_huber\", \"log\", \"squared_hinge\", \"perceptron\"], \n",
    "    \"penalty\": [\"l2\", \"l1\", \"elasticnet\", None], \n",
    "    \"alpha\": [0.0001, 0.001, 0.01, 0.1],\n",
    "    \"learning_rate\": [\"optimal\"],\n",
    "    \"class_weight\": [\"balanced\", None],\n",
    "}\n",
    "\n",
    "X_train, X_test, y_train, y_test = prepare_data()\n",
    "model = SGDClassifier(early_stopping=True, n_iter_no_change=5)\n",
    "model_list, result = grid_search_eval(model, params)"
   ]
  },
  {
   "cell_type": "code",
   "execution_count": 34,
   "id": "6c01de98",
   "metadata": {
    "ExecuteTime": {
     "end_time": "2022-12-26T08:08:11.450531Z",
     "start_time": "2022-12-26T08:08:11.418383Z"
    }
   },
   "outputs": [
    {
     "name": "stdout",
     "output_type": "stream",
     "text": [
      "             mean_test_precision\n",
      "param_alpha                     \n",
      "0.0001                  0.684921\n",
      "0.0010                  0.681320\n",
      "0.0100                  0.673683\n",
      "0.1000                  0.616062\n",
      "                    mean_test_precision\n",
      "param_class_weight                     \n",
      "0                              0.664689\n",
      "balanced                       0.663305\n",
      "                     mean_test_precision\n",
      "param_learning_rate                     \n",
      "optimal                         0.663997\n",
      "                mean_test_precision\n",
      "param_loss                         \n",
      "hinge                      0.663966\n",
      "log                        0.665197\n",
      "log_loss                   0.659705\n",
      "modified_huber             0.697445\n",
      "perceptron                 0.594889\n",
      "squared_hinge              0.702777\n",
      "               mean_test_precision\n",
      "param_penalty                     \n",
      "0                         0.688272\n",
      "elasticnet                0.683532\n",
      "l1                        0.599022\n",
      "l2                        0.685160\n"
     ]
    },
    {
     "name": "stderr",
     "output_type": "stream",
     "text": [
      "C:\\Users\\ParkMinjeong\\AppData\\Local\\Temp\\ipykernel_19700\\1993093451.py:4: FutureWarning: The default value of numeric_only in DataFrameGroupBy.mean is deprecated. In a future version, numeric_only will default to False. Either specify numeric_only or select only columns which should be valid for the function.\n",
      "  print(result.groupby(col).mean()[[\"mean_test_precision\"]])\n",
      "C:\\Users\\ParkMinjeong\\AppData\\Local\\Temp\\ipykernel_19700\\1993093451.py:4: FutureWarning: The default value of numeric_only in DataFrameGroupBy.mean is deprecated. In a future version, numeric_only will default to False. Either specify numeric_only or select only columns which should be valid for the function.\n",
      "  print(result.groupby(col).mean()[[\"mean_test_precision\"]])\n",
      "C:\\Users\\ParkMinjeong\\AppData\\Local\\Temp\\ipykernel_19700\\1993093451.py:4: FutureWarning: The default value of numeric_only in DataFrameGroupBy.mean is deprecated. In a future version, numeric_only will default to False. Either specify numeric_only or select only columns which should be valid for the function.\n",
      "  print(result.groupby(col).mean()[[\"mean_test_precision\"]])\n",
      "C:\\Users\\ParkMinjeong\\AppData\\Local\\Temp\\ipykernel_19700\\1993093451.py:4: FutureWarning: The default value of numeric_only in DataFrameGroupBy.mean is deprecated. In a future version, numeric_only will default to False. Either specify numeric_only or select only columns which should be valid for the function.\n",
      "  print(result.groupby(col).mean()[[\"mean_test_precision\"]])\n",
      "C:\\Users\\ParkMinjeong\\AppData\\Local\\Temp\\ipykernel_19700\\1993093451.py:4: FutureWarning: The default value of numeric_only in DataFrameGroupBy.mean is deprecated. In a future version, numeric_only will default to False. Either specify numeric_only or select only columns which should be valid for the function.\n",
      "  print(result.groupby(col).mean()[[\"mean_test_precision\"]])\n"
     ]
    }
   ],
   "source": [
    "# result.fillna(0, inplace=True)\n",
    "for col in result.columns:\n",
    "    if col.startswith(\"param_\"):\n",
    "        print(result.groupby(col).mean()[[\"mean_test_precision\"]])"
   ]
  },
  {
   "cell_type": "code",
   "execution_count": 37,
   "id": "42b9b4f1",
   "metadata": {
    "ExecuteTime": {
     "end_time": "2022-12-26T08:10:06.787053Z",
     "start_time": "2022-12-26T08:10:05.820210Z"
    }
   },
   "outputs": [
    {
     "data": {
      "image/png": "[encoded data removed]",
      "text/plain": [
       "<Figure size 800x600 with 1 Axes>"
      ]
     },
     "metadata": {},
     "output_type": "display_data"
    },
    {
     "data": {
      "image/png": "[encoded data removed]",
      "text/plain": [
       "<Figure size 800x600 with 1 Axes>"
      ]
     },
     "metadata": {},
     "output_type": "display_data"
    },
    {
     "data": {
      "image/png": "[encoded data removed]",
      "text/plain": [
       "<Figure size 800x600 with 1 Axes>"
      ]
     },
     "metadata": {},
     "output_type": "display_data"
    },
    {
     "name": "stdout",
     "output_type": "stream",
     "text": [
      "[[41678 30004]\n",
      " [  874  3174]]\n",
      "[[63011  8671]\n",
      " [ 2549  1499]]\n"
     ]
    },
    {
     "data": {
      "image/png": "[encoded data removed]",
      "text/plain": [
       "<Figure size 800x600 with 1 Axes>"
      ]
     },
     "metadata": {},
     "output_type": "display_data"
    },
    {
     "name": "stdout",
     "output_type": "stream",
     "text": [
      "[[43374 28308]\n",
      " [ 1615  2433]]\n",
      "[[16654 55028]\n",
      " [  267  3781]]\n",
      "[[47782 23900]\n",
      " [ 1069  2979]]\n",
      "[[44724 26958]\n",
      " [ 1139  2909]]\n"
     ]
    }
   ],
   "source": [
    "for model in model_list:\n",
    "    pred = model.predict(X_test)\n",
    "    try:\n",
    "        pred_proba = model.predict_proba(X_test)[:,1]\n",
    "        precision_recall_curve_plot(y_test, pred_proba)\n",
    "    except:\n",
    "        print(confusion_matrix(y_test, pred))"
   ]
  },
  {
   "cell_type": "code",
   "execution_count": 40,
   "id": "2edd864e",
   "metadata": {
    "ExecuteTime": {
     "end_time": "2022-12-26T08:27:13.996714Z",
     "start_time": "2022-12-26T08:21:27.450410Z"
    }
   },
   "outputs": [
    {
     "name": "stdout",
     "output_type": "stream",
     "text": [
      "0.0    286765\n",
      "1.0    286765\n",
      "Name: HEARTDISEASE, dtype: int64\n",
      "Fitting 3 folds for each of 128 candidates, totalling 384 fits\n",
      "[CV] END alpha=0.0001, class_weight=balanced, learning_rate=optimal, loss=squared_error, penalty=l2; total time=   0.7s\n",
      "[CV] END alpha=0.0001, class_weight=balanced, learning_rate=optimal, loss=squared_error, penalty=l2; total time=   0.6s\n",
      "[CV] END alpha=0.0001, class_weight=balanced, learning_rate=optimal, loss=squared_error, penalty=l2; total time=   0.6s\n",
      "[CV] END alpha=0.0001, class_weight=balanced, learning_rate=optimal, loss=squared_error, penalty=l1; total time=   1.1s\n",
      "[CV] END alpha=0.0001, class_weight=balanced, learning_rate=optimal, loss=squared_error, penalty=l1; total time=   0.7s\n",
      "[CV] END alpha=0.0001, class_weight=balanced, learning_rate=optimal, loss=squared_error, penalty=l1; total time=   1.2s\n",
      "[CV] END alpha=0.0001, class_weight=balanced, learning_rate=optimal, loss=squared_error, penalty=elasticnet; total time=   0.7s\n",
      "[CV] END alpha=0.0001, class_weight=balanced, learning_rate=optimal, loss=squared_error, penalty=elasticnet; total time=   0.7s\n",
      "[CV] END alpha=0.0001, class_weight=balanced, learning_rate=optimal, loss=squared_error, penalty=elasticnet; total time=   0.7s\n",
      "[CV] END alpha=0.0001, class_weight=balanced, learning_rate=optimal, loss=squared_error, penalty=None; total time=   0.7s\n",
      "[CV] END alpha=0.0001, class_weight=balanced, learning_rate=optimal, loss=squared_error, penalty=None; total time=   0.7s\n",
      "[CV] END alpha=0.0001, class_weight=balanced, learning_rate=optimal, loss=squared_error, penalty=None; total time=   0.8s\n",
      "[CV] END alpha=0.0001, class_weight=balanced, learning_rate=optimal, loss=huber, penalty=l2; total time=   0.7s\n",
      "[CV] END alpha=0.0001, class_weight=balanced, learning_rate=optimal, loss=huber, penalty=l2; total time=   0.7s\n",
      "[CV] END alpha=0.0001, class_weight=balanced, learning_rate=optimal, loss=huber, penalty=l2; total time=   0.7s\n",
      "[CV] END alpha=0.0001, class_weight=balanced, learning_rate=optimal, loss=huber, penalty=l1; total time=   0.7s\n",
      "[CV] END alpha=0.0001, class_weight=balanced, learning_rate=optimal, loss=huber, penalty=l1; total time=   0.7s\n",
      "[CV] END alpha=0.0001, class_weight=balanced, learning_rate=optimal, loss=huber, penalty=l1; total time=   0.7s\n",
      "[CV] END alpha=0.0001, class_weight=balanced, learning_rate=optimal, loss=huber, penalty=elasticnet; total time=   0.7s\n",
      "[CV] END alpha=0.0001, class_weight=balanced, learning_rate=optimal, loss=huber, penalty=elasticnet; total time=   0.7s\n",
      "[CV] END alpha=0.0001, class_weight=balanced, learning_rate=optimal, loss=huber, penalty=elasticnet; total time=   0.7s\n",
      "[CV] END alpha=0.0001, class_weight=balanced, learning_rate=optimal, loss=huber, penalty=None; total time=   0.7s\n",
      "[CV] END alpha=0.0001, class_weight=balanced, learning_rate=optimal, loss=huber, penalty=None; total time=   0.7s\n",
      "[CV] END alpha=0.0001, class_weight=balanced, learning_rate=optimal, loss=huber, penalty=None; total time=   0.7s\n",
      "[CV] END alpha=0.0001, class_weight=balanced, learning_rate=optimal, loss=epsilon_insensitive, penalty=l2; total time=   0.7s\n",
      "[CV] END alpha=0.0001, class_weight=balanced, learning_rate=optimal, loss=epsilon_insensitive, penalty=l2; total time=   0.7s\n",
      "[CV] END alpha=0.0001, class_weight=balanced, learning_rate=optimal, loss=epsilon_insensitive, penalty=l2; total time=   0.7s\n",
      "[CV] END alpha=0.0001, class_weight=balanced, learning_rate=optimal, loss=epsilon_insensitive, penalty=l1; total time=   0.7s\n",
      "[CV] END alpha=0.0001, class_weight=balanced, learning_rate=optimal, loss=epsilon_insensitive, penalty=l1; total time=   0.8s\n",
      "[CV] END alpha=0.0001, class_weight=balanced, learning_rate=optimal, loss=epsilon_insensitive, penalty=l1; total time=   0.7s\n",
      "[CV] END alpha=0.0001, class_weight=balanced, learning_rate=optimal, loss=epsilon_insensitive, penalty=elasticnet; total time=   0.7s\n",
      "[CV] END alpha=0.0001, class_weight=balanced, learning_rate=optimal, loss=epsilon_insensitive, penalty=elasticnet; total time=   0.7s\n",
      "[CV] END alpha=0.0001, class_weight=balanced, learning_rate=optimal, loss=epsilon_insensitive, penalty=elasticnet; total time=   0.7s\n",
      "[CV] END alpha=0.0001, class_weight=balanced, learning_rate=optimal, loss=epsilon_insensitive, penalty=None; total time=   0.7s\n",
      "[CV] END alpha=0.0001, class_weight=balanced, learning_rate=optimal, loss=epsilon_insensitive, penalty=None; total time=   0.7s\n",
      "[CV] END alpha=0.0001, class_weight=balanced, learning_rate=optimal, loss=epsilon_insensitive, penalty=None; total time=   0.7s\n",
      "[CV] END alpha=0.0001, class_weight=balanced, learning_rate=optimal, loss=squared_epsilon_insensitive, penalty=l2; total time=   0.7s\n",
      "[CV] END alpha=0.0001, class_weight=balanced, learning_rate=optimal, loss=squared_epsilon_insensitive, penalty=l2; total time=   0.7s\n",
      "[CV] END alpha=0.0001, class_weight=balanced, learning_rate=optimal, loss=squared_epsilon_insensitive, penalty=l2; total time=   0.7s\n",
      "[CV] END alpha=0.0001, class_weight=balanced, learning_rate=optimal, loss=squared_epsilon_insensitive, penalty=l1; total time=   0.9s\n",
      "[CV] END alpha=0.0001, class_weight=balanced, learning_rate=optimal, loss=squared_epsilon_insensitive, penalty=l1; total time=   1.2s\n",
      "[CV] END alpha=0.0001, class_weight=balanced, learning_rate=optimal, loss=squared_epsilon_insensitive, penalty=l1; total time=   0.9s\n",
      "[CV] END alpha=0.0001, class_weight=balanced, learning_rate=optimal, loss=squared_epsilon_insensitive, penalty=elasticnet; total time=   0.8s\n",
      "[CV] END alpha=0.0001, class_weight=balanced, learning_rate=optimal, loss=squared_epsilon_insensitive, penalty=elasticnet; total time=   0.9s\n",
      "[CV] END alpha=0.0001, class_weight=balanced, learning_rate=optimal, loss=squared_epsilon_insensitive, penalty=elasticnet; total time=   0.8s\n",
      "[CV] END alpha=0.0001, class_weight=balanced, learning_rate=optimal, loss=squared_epsilon_insensitive, penalty=None; total time=   0.9s\n",
      "[CV] END alpha=0.0001, class_weight=balanced, learning_rate=optimal, loss=squared_epsilon_insensitive, penalty=None; total time=   0.8s\n",
      "[CV] END alpha=0.0001, class_weight=balanced, learning_rate=optimal, loss=squared_epsilon_insensitive, penalty=None; total time=   0.9s\n",
      "[CV] END alpha=0.0001, class_weight=None, learning_rate=optimal, loss=squared_error, penalty=l2; total time=   0.8s\n",
      "[CV] END alpha=0.0001, class_weight=None, learning_rate=optimal, loss=squared_error, penalty=l2; total time=   0.7s\n",
      "[CV] END alpha=0.0001, class_weight=None, learning_rate=optimal, loss=squared_error, penalty=l2; total time=   0.7s\n",
      "[CV] END alpha=0.0001, class_weight=None, learning_rate=optimal, loss=squared_error, penalty=l1; total time=   0.9s\n",
      "[CV] END alpha=0.0001, class_weight=None, learning_rate=optimal, loss=squared_error, penalty=l1; total time=   0.8s\n",
      "[CV] END alpha=0.0001, class_weight=None, learning_rate=optimal, loss=squared_error, penalty=l1; total time=   1.0s\n",
      "[CV] END alpha=0.0001, class_weight=None, learning_rate=optimal, loss=squared_error, penalty=elasticnet; total time=   0.8s\n",
      "[CV] END alpha=0.0001, class_weight=None, learning_rate=optimal, loss=squared_error, penalty=elasticnet; total time=   0.8s\n",
      "[CV] END alpha=0.0001, class_weight=None, learning_rate=optimal, loss=squared_error, penalty=elasticnet; total time=   0.8s\n",
      "[CV] END alpha=0.0001, class_weight=None, learning_rate=optimal, loss=squared_error, penalty=None; total time=   0.7s\n",
      "[CV] END alpha=0.0001, class_weight=None, learning_rate=optimal, loss=squared_error, penalty=None; total time=   0.7s\n",
      "[CV] END alpha=0.0001, class_weight=None, learning_rate=optimal, loss=squared_error, penalty=None; total time=   0.7s\n",
      "[CV] END alpha=0.0001, class_weight=None, learning_rate=optimal, loss=huber, penalty=l2; total time=   0.7s\n",
      "[CV] END alpha=0.0001, class_weight=None, learning_rate=optimal, loss=huber, penalty=l2; total time=   0.7s\n",
      "[CV] END alpha=0.0001, class_weight=None, learning_rate=optimal, loss=huber, penalty=l2; total time=   0.7s\n",
      "[CV] END alpha=0.0001, class_weight=None, learning_rate=optimal, loss=huber, penalty=l1; total time=   0.8s\n",
      "[CV] END alpha=0.0001, class_weight=None, learning_rate=optimal, loss=huber, penalty=l1; total time=   0.7s\n",
      "[CV] END alpha=0.0001, class_weight=None, learning_rate=optimal, loss=huber, penalty=l1; total time=   0.7s\n"
     ]
    },
    {
     "name": "stdout",
     "output_type": "stream",
     "text": [
      "[CV] END alpha=0.0001, class_weight=None, learning_rate=optimal, loss=huber, penalty=elasticnet; total time=   0.7s\n",
      "[CV] END alpha=0.0001, class_weight=None, learning_rate=optimal, loss=huber, penalty=elasticnet; total time=   0.8s\n",
      "[CV] END alpha=0.0001, class_weight=None, learning_rate=optimal, loss=huber, penalty=elasticnet; total time=   0.8s\n",
      "[CV] END alpha=0.0001, class_weight=None, learning_rate=optimal, loss=huber, penalty=None; total time=   0.8s\n",
      "[CV] END alpha=0.0001, class_weight=None, learning_rate=optimal, loss=huber, penalty=None; total time=   0.7s\n",
      "[CV] END alpha=0.0001, class_weight=None, learning_rate=optimal, loss=huber, penalty=None; total time=   0.8s\n",
      "[CV] END alpha=0.0001, class_weight=None, learning_rate=optimal, loss=epsilon_insensitive, penalty=l2; total time=   0.7s\n",
      "[CV] END alpha=0.0001, class_weight=None, learning_rate=optimal, loss=epsilon_insensitive, penalty=l2; total time=   0.8s\n",
      "[CV] END alpha=0.0001, class_weight=None, learning_rate=optimal, loss=epsilon_insensitive, penalty=l2; total time=   0.7s\n",
      "[CV] END alpha=0.0001, class_weight=None, learning_rate=optimal, loss=epsilon_insensitive, penalty=l1; total time=   0.8s\n",
      "[CV] END alpha=0.0001, class_weight=None, learning_rate=optimal, loss=epsilon_insensitive, penalty=l1; total time=   0.7s\n",
      "[CV] END alpha=0.0001, class_weight=None, learning_rate=optimal, loss=epsilon_insensitive, penalty=l1; total time=   0.7s\n",
      "[CV] END alpha=0.0001, class_weight=None, learning_rate=optimal, loss=epsilon_insensitive, penalty=elasticnet; total time=   0.7s\n",
      "[CV] END alpha=0.0001, class_weight=None, learning_rate=optimal, loss=epsilon_insensitive, penalty=elasticnet; total time=   1.1s\n",
      "[CV] END alpha=0.0001, class_weight=None, learning_rate=optimal, loss=epsilon_insensitive, penalty=elasticnet; total time=   0.7s\n",
      "[CV] END alpha=0.0001, class_weight=None, learning_rate=optimal, loss=epsilon_insensitive, penalty=None; total time=   0.7s\n",
      "[CV] END alpha=0.0001, class_weight=None, learning_rate=optimal, loss=epsilon_insensitive, penalty=None; total time=   0.7s\n",
      "[CV] END alpha=0.0001, class_weight=None, learning_rate=optimal, loss=epsilon_insensitive, penalty=None; total time=   0.7s\n",
      "[CV] END alpha=0.0001, class_weight=None, learning_rate=optimal, loss=squared_epsilon_insensitive, penalty=l2; total time=   0.7s\n",
      "[CV] END alpha=0.0001, class_weight=None, learning_rate=optimal, loss=squared_epsilon_insensitive, penalty=l2; total time=   0.7s\n",
      "[CV] END alpha=0.0001, class_weight=None, learning_rate=optimal, loss=squared_epsilon_insensitive, penalty=l2; total time=   0.7s\n",
      "[CV] END alpha=0.0001, class_weight=None, learning_rate=optimal, loss=squared_epsilon_insensitive, penalty=l1; total time=   1.1s\n",
      "[CV] END alpha=0.0001, class_weight=None, learning_rate=optimal, loss=squared_epsilon_insensitive, penalty=l1; total time=   0.9s\n",
      "[CV] END alpha=0.0001, class_weight=None, learning_rate=optimal, loss=squared_epsilon_insensitive, penalty=l1; total time=   1.3s\n",
      "[CV] END alpha=0.0001, class_weight=None, learning_rate=optimal, loss=squared_epsilon_insensitive, penalty=elasticnet; total time=   0.8s\n",
      "[CV] END alpha=0.0001, class_weight=None, learning_rate=optimal, loss=squared_epsilon_insensitive, penalty=elasticnet; total time=   0.8s\n",
      "[CV] END alpha=0.0001, class_weight=None, learning_rate=optimal, loss=squared_epsilon_insensitive, penalty=elasticnet; total time=   0.8s\n",
      "[CV] END alpha=0.0001, class_weight=None, learning_rate=optimal, loss=squared_epsilon_insensitive, penalty=None; total time=   0.7s\n",
      "[CV] END alpha=0.0001, class_weight=None, learning_rate=optimal, loss=squared_epsilon_insensitive, penalty=None; total time=   1.1s\n",
      "[CV] END alpha=0.0001, class_weight=None, learning_rate=optimal, loss=squared_epsilon_insensitive, penalty=None; total time=   0.8s\n",
      "[CV] END alpha=0.001, class_weight=balanced, learning_rate=optimal, loss=squared_error, penalty=l2; total time=   0.7s\n",
      "[CV] END alpha=0.001, class_weight=balanced, learning_rate=optimal, loss=squared_error, penalty=l2; total time=   0.8s\n",
      "[CV] END alpha=0.001, class_weight=balanced, learning_rate=optimal, loss=squared_error, penalty=l2; total time=   0.7s\n",
      "[CV] END alpha=0.001, class_weight=balanced, learning_rate=optimal, loss=squared_error, penalty=l1; total time=   0.9s\n",
      "[CV] END alpha=0.001, class_weight=balanced, learning_rate=optimal, loss=squared_error, penalty=l1; total time=   0.8s\n",
      "[CV] END alpha=0.001, class_weight=balanced, learning_rate=optimal, loss=squared_error, penalty=l1; total time=   1.0s\n",
      "[CV] END alpha=0.001, class_weight=balanced, learning_rate=optimal, loss=squared_error, penalty=elasticnet; total time=   0.8s\n",
      "[CV] END alpha=0.001, class_weight=balanced, learning_rate=optimal, loss=squared_error, penalty=elasticnet; total time=   0.8s\n",
      "[CV] END alpha=0.001, class_weight=balanced, learning_rate=optimal, loss=squared_error, penalty=elasticnet; total time=   0.9s\n",
      "[CV] END alpha=0.001, class_weight=balanced, learning_rate=optimal, loss=squared_error, penalty=None; total time=   0.9s\n",
      "[CV] END alpha=0.001, class_weight=balanced, learning_rate=optimal, loss=squared_error, penalty=None; total time=   0.9s\n",
      "[CV] END alpha=0.001, class_weight=balanced, learning_rate=optimal, loss=squared_error, penalty=None; total time=   0.8s\n",
      "[CV] END alpha=0.001, class_weight=balanced, learning_rate=optimal, loss=huber, penalty=l2; total time=   0.8s\n",
      "[CV] END alpha=0.001, class_weight=balanced, learning_rate=optimal, loss=huber, penalty=l2; total time=   0.9s\n",
      "[CV] END alpha=0.001, class_weight=balanced, learning_rate=optimal, loss=huber, penalty=l2; total time=   0.8s\n",
      "[CV] END alpha=0.001, class_weight=balanced, learning_rate=optimal, loss=huber, penalty=l1; total time=   0.9s\n",
      "[CV] END alpha=0.001, class_weight=balanced, learning_rate=optimal, loss=huber, penalty=l1; total time=   1.0s\n",
      "[CV] END alpha=0.001, class_weight=balanced, learning_rate=optimal, loss=huber, penalty=l1; total time=   0.9s\n",
      "[CV] END alpha=0.001, class_weight=balanced, learning_rate=optimal, loss=huber, penalty=elasticnet; total time=   0.9s\n",
      "[CV] END alpha=0.001, class_weight=balanced, learning_rate=optimal, loss=huber, penalty=elasticnet; total time=   1.3s\n",
      "[CV] END alpha=0.001, class_weight=balanced, learning_rate=optimal, loss=huber, penalty=elasticnet; total time=   1.1s\n",
      "[CV] END alpha=0.001, class_weight=balanced, learning_rate=optimal, loss=huber, penalty=None; total time=   0.8s\n",
      "[CV] END alpha=0.001, class_weight=balanced, learning_rate=optimal, loss=huber, penalty=None; total time=   0.8s\n",
      "[CV] END alpha=0.001, class_weight=balanced, learning_rate=optimal, loss=huber, penalty=None; total time=   0.8s\n",
      "[CV] END alpha=0.001, class_weight=balanced, learning_rate=optimal, loss=epsilon_insensitive, penalty=l2; total time=   0.7s\n",
      "[CV] END alpha=0.001, class_weight=balanced, learning_rate=optimal, loss=epsilon_insensitive, penalty=l2; total time=   0.7s\n",
      "[CV] END alpha=0.001, class_weight=balanced, learning_rate=optimal, loss=epsilon_insensitive, penalty=l2; total time=   0.9s\n",
      "[CV] END alpha=0.001, class_weight=balanced, learning_rate=optimal, loss=epsilon_insensitive, penalty=l1; total time=   0.9s\n",
      "[CV] END alpha=0.001, class_weight=balanced, learning_rate=optimal, loss=epsilon_insensitive, penalty=l1; total time=   0.8s\n",
      "[CV] END alpha=0.001, class_weight=balanced, learning_rate=optimal, loss=epsilon_insensitive, penalty=l1; total time=   0.8s\n",
      "[CV] END alpha=0.001, class_weight=balanced, learning_rate=optimal, loss=epsilon_insensitive, penalty=elasticnet; total time=   0.8s\n",
      "[CV] END alpha=0.001, class_weight=balanced, learning_rate=optimal, loss=epsilon_insensitive, penalty=elasticnet; total time=   0.9s\n",
      "[CV] END alpha=0.001, class_weight=balanced, learning_rate=optimal, loss=epsilon_insensitive, penalty=elasticnet; total time=   0.7s\n",
      "[CV] END alpha=0.001, class_weight=balanced, learning_rate=optimal, loss=epsilon_insensitive, penalty=None; total time=   0.6s\n",
      "[CV] END alpha=0.001, class_weight=balanced, learning_rate=optimal, loss=epsilon_insensitive, penalty=None; total time=   0.6s\n",
      "[CV] END alpha=0.001, class_weight=balanced, learning_rate=optimal, loss=epsilon_insensitive, penalty=None; total time=   0.7s\n",
      "[CV] END alpha=0.001, class_weight=balanced, learning_rate=optimal, loss=squared_epsilon_insensitive, penalty=l2; total time=   0.6s\n"
     ]
    },
    {
     "name": "stdout",
     "output_type": "stream",
     "text": [
      "[CV] END alpha=0.001, class_weight=balanced, learning_rate=optimal, loss=squared_epsilon_insensitive, penalty=l2; total time=   0.6s\n",
      "[CV] END alpha=0.001, class_weight=balanced, learning_rate=optimal, loss=squared_epsilon_insensitive, penalty=l2; total time=   0.7s\n",
      "[CV] END alpha=0.001, class_weight=balanced, learning_rate=optimal, loss=squared_epsilon_insensitive, penalty=l1; total time=   0.7s\n",
      "[CV] END alpha=0.001, class_weight=balanced, learning_rate=optimal, loss=squared_epsilon_insensitive, penalty=l1; total time=   0.7s\n",
      "[CV] END alpha=0.001, class_weight=balanced, learning_rate=optimal, loss=squared_epsilon_insensitive, penalty=l1; total time=   0.9s\n",
      "[CV] END alpha=0.001, class_weight=balanced, learning_rate=optimal, loss=squared_epsilon_insensitive, penalty=elasticnet; total time=   0.7s\n",
      "[CV] END alpha=0.001, class_weight=balanced, learning_rate=optimal, loss=squared_epsilon_insensitive, penalty=elasticnet; total time=   0.7s\n",
      "[CV] END alpha=0.001, class_weight=balanced, learning_rate=optimal, loss=squared_epsilon_insensitive, penalty=elasticnet; total time=   0.7s\n",
      "[CV] END alpha=0.001, class_weight=balanced, learning_rate=optimal, loss=squared_epsilon_insensitive, penalty=None; total time=   0.7s\n",
      "[CV] END alpha=0.001, class_weight=balanced, learning_rate=optimal, loss=squared_epsilon_insensitive, penalty=None; total time=   0.6s\n",
      "[CV] END alpha=0.001, class_weight=balanced, learning_rate=optimal, loss=squared_epsilon_insensitive, penalty=None; total time=   0.7s\n",
      "[CV] END alpha=0.001, class_weight=None, learning_rate=optimal, loss=squared_error, penalty=l2; total time=   0.6s\n",
      "[CV] END alpha=0.001, class_weight=None, learning_rate=optimal, loss=squared_error, penalty=l2; total time=   0.6s\n",
      "[CV] END alpha=0.001, class_weight=None, learning_rate=optimal, loss=squared_error, penalty=l2; total time=   0.7s\n",
      "[CV] END alpha=0.001, class_weight=None, learning_rate=optimal, loss=squared_error, penalty=l1; total time=   0.8s\n",
      "[CV] END alpha=0.001, class_weight=None, learning_rate=optimal, loss=squared_error, penalty=l1; total time=   0.7s\n",
      "[CV] END alpha=0.001, class_weight=None, learning_rate=optimal, loss=squared_error, penalty=l1; total time=   0.8s\n",
      "[CV] END alpha=0.001, class_weight=None, learning_rate=optimal, loss=squared_error, penalty=elasticnet; total time=   0.7s\n",
      "[CV] END alpha=0.001, class_weight=None, learning_rate=optimal, loss=squared_error, penalty=elasticnet; total time=   0.7s\n",
      "[CV] END alpha=0.001, class_weight=None, learning_rate=optimal, loss=squared_error, penalty=elasticnet; total time=   0.7s\n",
      "[CV] END alpha=0.001, class_weight=None, learning_rate=optimal, loss=squared_error, penalty=None; total time=   0.8s\n",
      "[CV] END alpha=0.001, class_weight=None, learning_rate=optimal, loss=squared_error, penalty=None; total time=   0.6s\n",
      "[CV] END alpha=0.001, class_weight=None, learning_rate=optimal, loss=squared_error, penalty=None; total time=   0.8s\n",
      "[CV] END alpha=0.001, class_weight=None, learning_rate=optimal, loss=huber, penalty=l2; total time=   0.7s\n",
      "[CV] END alpha=0.001, class_weight=None, learning_rate=optimal, loss=huber, penalty=l2; total time=   0.7s\n",
      "[CV] END alpha=0.001, class_weight=None, learning_rate=optimal, loss=huber, penalty=l2; total time=   0.7s\n",
      "[CV] END alpha=0.001, class_weight=None, learning_rate=optimal, loss=huber, penalty=l1; total time=   0.7s\n",
      "[CV] END alpha=0.001, class_weight=None, learning_rate=optimal, loss=huber, penalty=l1; total time=   0.8s\n",
      "[CV] END alpha=0.001, class_weight=None, learning_rate=optimal, loss=huber, penalty=l1; total time=   0.8s\n",
      "[CV] END alpha=0.001, class_weight=None, learning_rate=optimal, loss=huber, penalty=elasticnet; total time=   0.8s\n",
      "[CV] END alpha=0.001, class_weight=None, learning_rate=optimal, loss=huber, penalty=elasticnet; total time=   0.8s\n",
      "[CV] END alpha=0.001, class_weight=None, learning_rate=optimal, loss=huber, penalty=elasticnet; total time=   0.9s\n",
      "[CV] END alpha=0.001, class_weight=None, learning_rate=optimal, loss=huber, penalty=None; total time=   0.7s\n",
      "[CV] END alpha=0.001, class_weight=None, learning_rate=optimal, loss=huber, penalty=None; total time=   0.7s\n",
      "[CV] END alpha=0.001, class_weight=None, learning_rate=optimal, loss=huber, penalty=None; total time=   0.7s\n",
      "[CV] END alpha=0.001, class_weight=None, learning_rate=optimal, loss=epsilon_insensitive, penalty=l2; total time=   0.8s\n",
      "[CV] END alpha=0.001, class_weight=None, learning_rate=optimal, loss=epsilon_insensitive, penalty=l2; total time=   0.7s\n",
      "[CV] END alpha=0.001, class_weight=None, learning_rate=optimal, loss=epsilon_insensitive, penalty=l2; total time=   0.6s\n",
      "[CV] END alpha=0.001, class_weight=None, learning_rate=optimal, loss=epsilon_insensitive, penalty=l1; total time=   0.7s\n",
      "[CV] END alpha=0.001, class_weight=None, learning_rate=optimal, loss=epsilon_insensitive, penalty=l1; total time=   0.7s\n",
      "[CV] END alpha=0.001, class_weight=None, learning_rate=optimal, loss=epsilon_insensitive, penalty=l1; total time=   0.8s\n",
      "[CV] END alpha=0.001, class_weight=None, learning_rate=optimal, loss=epsilon_insensitive, penalty=elasticnet; total time=   0.7s\n",
      "[CV] END alpha=0.001, class_weight=None, learning_rate=optimal, loss=epsilon_insensitive, penalty=elasticnet; total time=   1.1s\n",
      "[CV] END alpha=0.001, class_weight=None, learning_rate=optimal, loss=epsilon_insensitive, penalty=elasticnet; total time=   0.8s\n",
      "[CV] END alpha=0.001, class_weight=None, learning_rate=optimal, loss=epsilon_insensitive, penalty=None; total time=   0.8s\n",
      "[CV] END alpha=0.001, class_weight=None, learning_rate=optimal, loss=epsilon_insensitive, penalty=None; total time=   0.8s\n",
      "[CV] END alpha=0.001, class_weight=None, learning_rate=optimal, loss=epsilon_insensitive, penalty=None; total time=   0.7s\n",
      "[CV] END alpha=0.001, class_weight=None, learning_rate=optimal, loss=squared_epsilon_insensitive, penalty=l2; total time=   1.0s\n",
      "[CV] END alpha=0.001, class_weight=None, learning_rate=optimal, loss=squared_epsilon_insensitive, penalty=l2; total time=   0.8s\n",
      "[CV] END alpha=0.001, class_weight=None, learning_rate=optimal, loss=squared_epsilon_insensitive, penalty=l2; total time=   0.8s\n",
      "[CV] END alpha=0.001, class_weight=None, learning_rate=optimal, loss=squared_epsilon_insensitive, penalty=l1; total time=   0.8s\n",
      "[CV] END alpha=0.001, class_weight=None, learning_rate=optimal, loss=squared_epsilon_insensitive, penalty=l1; total time=   1.0s\n",
      "[CV] END alpha=0.001, class_weight=None, learning_rate=optimal, loss=squared_epsilon_insensitive, penalty=l1; total time=   1.2s\n",
      "[CV] END alpha=0.001, class_weight=None, learning_rate=optimal, loss=squared_epsilon_insensitive, penalty=elasticnet; total time=   0.9s\n",
      "[CV] END alpha=0.001, class_weight=None, learning_rate=optimal, loss=squared_epsilon_insensitive, penalty=elasticnet; total time=   0.9s\n",
      "[CV] END alpha=0.001, class_weight=None, learning_rate=optimal, loss=squared_epsilon_insensitive, penalty=elasticnet; total time=   0.8s\n",
      "[CV] END alpha=0.001, class_weight=None, learning_rate=optimal, loss=squared_epsilon_insensitive, penalty=None; total time=   0.8s\n",
      "[CV] END alpha=0.001, class_weight=None, learning_rate=optimal, loss=squared_epsilon_insensitive, penalty=None; total time=   0.8s\n",
      "[CV] END alpha=0.001, class_weight=None, learning_rate=optimal, loss=squared_epsilon_insensitive, penalty=None; total time=   1.0s\n",
      "[CV] END alpha=0.01, class_weight=balanced, learning_rate=optimal, loss=squared_error, penalty=l2; total time=   0.8s\n",
      "[CV] END alpha=0.01, class_weight=balanced, learning_rate=optimal, loss=squared_error, penalty=l2; total time=   0.7s\n",
      "[CV] END alpha=0.01, class_weight=balanced, learning_rate=optimal, loss=squared_error, penalty=l2; total time=   0.8s\n",
      "[CV] END alpha=0.01, class_weight=balanced, learning_rate=optimal, loss=squared_error, penalty=l1; total time=   1.0s\n",
      "[CV] END alpha=0.01, class_weight=balanced, learning_rate=optimal, loss=squared_error, penalty=l1; total time=   0.8s\n",
      "[CV] END alpha=0.01, class_weight=balanced, learning_rate=optimal, loss=squared_error, penalty=l1; total time=   0.8s\n",
      "[CV] END alpha=0.01, class_weight=balanced, learning_rate=optimal, loss=squared_error, penalty=elasticnet; total time=   0.9s\n",
      "[CV] END alpha=0.01, class_weight=balanced, learning_rate=optimal, loss=squared_error, penalty=elasticnet; total time=   0.8s\n"
     ]
    },
    {
     "name": "stdout",
     "output_type": "stream",
     "text": [
      "[CV] END alpha=0.01, class_weight=balanced, learning_rate=optimal, loss=squared_error, penalty=elasticnet; total time=   0.8s\n",
      "[CV] END alpha=0.01, class_weight=balanced, learning_rate=optimal, loss=squared_error, penalty=None; total time=   0.8s\n",
      "[CV] END alpha=0.01, class_weight=balanced, learning_rate=optimal, loss=squared_error, penalty=None; total time=   0.8s\n",
      "[CV] END alpha=0.01, class_weight=balanced, learning_rate=optimal, loss=squared_error, penalty=None; total time=   0.8s\n",
      "[CV] END alpha=0.01, class_weight=balanced, learning_rate=optimal, loss=huber, penalty=l2; total time=   0.8s\n",
      "[CV] END alpha=0.01, class_weight=balanced, learning_rate=optimal, loss=huber, penalty=l2; total time=   0.8s\n",
      "[CV] END alpha=0.01, class_weight=balanced, learning_rate=optimal, loss=huber, penalty=l2; total time=   1.0s\n",
      "[CV] END alpha=0.01, class_weight=balanced, learning_rate=optimal, loss=huber, penalty=l1; total time=   1.0s\n",
      "[CV] END alpha=0.01, class_weight=balanced, learning_rate=optimal, loss=huber, penalty=l1; total time=   0.9s\n",
      "[CV] END alpha=0.01, class_weight=balanced, learning_rate=optimal, loss=huber, penalty=l1; total time=   1.0s\n",
      "[CV] END alpha=0.01, class_weight=balanced, learning_rate=optimal, loss=huber, penalty=elasticnet; total time=   1.0s\n",
      "[CV] END alpha=0.01, class_weight=balanced, learning_rate=optimal, loss=huber, penalty=elasticnet; total time=   0.9s\n",
      "[CV] END alpha=0.01, class_weight=balanced, learning_rate=optimal, loss=huber, penalty=elasticnet; total time=   0.9s\n",
      "[CV] END alpha=0.01, class_weight=balanced, learning_rate=optimal, loss=huber, penalty=None; total time=   1.1s\n",
      "[CV] END alpha=0.01, class_weight=balanced, learning_rate=optimal, loss=huber, penalty=None; total time=   0.9s\n",
      "[CV] END alpha=0.01, class_weight=balanced, learning_rate=optimal, loss=huber, penalty=None; total time=   0.8s\n",
      "[CV] END alpha=0.01, class_weight=balanced, learning_rate=optimal, loss=epsilon_insensitive, penalty=l2; total time=   0.9s\n",
      "[CV] END alpha=0.01, class_weight=balanced, learning_rate=optimal, loss=epsilon_insensitive, penalty=l2; total time=   0.9s\n",
      "[CV] END alpha=0.01, class_weight=balanced, learning_rate=optimal, loss=epsilon_insensitive, penalty=l2; total time=   0.8s\n",
      "[CV] END alpha=0.01, class_weight=balanced, learning_rate=optimal, loss=epsilon_insensitive, penalty=l1; total time=   0.9s\n",
      "[CV] END alpha=0.01, class_weight=balanced, learning_rate=optimal, loss=epsilon_insensitive, penalty=l1; total time=   1.2s\n",
      "[CV] END alpha=0.01, class_weight=balanced, learning_rate=optimal, loss=epsilon_insensitive, penalty=l1; total time=   1.0s\n",
      "[CV] END alpha=0.01, class_weight=balanced, learning_rate=optimal, loss=epsilon_insensitive, penalty=elasticnet; total time=   0.9s\n",
      "[CV] END alpha=0.01, class_weight=balanced, learning_rate=optimal, loss=epsilon_insensitive, penalty=elasticnet; total time=   0.9s\n",
      "[CV] END alpha=0.01, class_weight=balanced, learning_rate=optimal, loss=epsilon_insensitive, penalty=elasticnet; total time=   0.9s\n",
      "[CV] END alpha=0.01, class_weight=balanced, learning_rate=optimal, loss=epsilon_insensitive, penalty=None; total time=   0.7s\n",
      "[CV] END alpha=0.01, class_weight=balanced, learning_rate=optimal, loss=epsilon_insensitive, penalty=None; total time=   0.7s\n",
      "[CV] END alpha=0.01, class_weight=balanced, learning_rate=optimal, loss=epsilon_insensitive, penalty=None; total time=   0.8s\n",
      "[CV] END alpha=0.01, class_weight=balanced, learning_rate=optimal, loss=squared_epsilon_insensitive, penalty=l2; total time=   0.7s\n",
      "[CV] END alpha=0.01, class_weight=balanced, learning_rate=optimal, loss=squared_epsilon_insensitive, penalty=l2; total time=   0.7s\n",
      "[CV] END alpha=0.01, class_weight=balanced, learning_rate=optimal, loss=squared_epsilon_insensitive, penalty=l2; total time=   0.8s\n",
      "[CV] END alpha=0.01, class_weight=balanced, learning_rate=optimal, loss=squared_epsilon_insensitive, penalty=l1; total time=   1.1s\n",
      "[CV] END alpha=0.01, class_weight=balanced, learning_rate=optimal, loss=squared_epsilon_insensitive, penalty=l1; total time=   0.9s\n",
      "[CV] END alpha=0.01, class_weight=balanced, learning_rate=optimal, loss=squared_epsilon_insensitive, penalty=l1; total time=   0.8s\n",
      "[CV] END alpha=0.01, class_weight=balanced, learning_rate=optimal, loss=squared_epsilon_insensitive, penalty=elasticnet; total time=   0.9s\n",
      "[CV] END alpha=0.01, class_weight=balanced, learning_rate=optimal, loss=squared_epsilon_insensitive, penalty=elasticnet; total time=   0.9s\n",
      "[CV] END alpha=0.01, class_weight=balanced, learning_rate=optimal, loss=squared_epsilon_insensitive, penalty=elasticnet; total time=   0.8s\n",
      "[CV] END alpha=0.01, class_weight=balanced, learning_rate=optimal, loss=squared_epsilon_insensitive, penalty=None; total time=   0.7s\n",
      "[CV] END alpha=0.01, class_weight=balanced, learning_rate=optimal, loss=squared_epsilon_insensitive, penalty=None; total time=   0.7s\n",
      "[CV] END alpha=0.01, class_weight=balanced, learning_rate=optimal, loss=squared_epsilon_insensitive, penalty=None; total time=   0.7s\n",
      "[CV] END alpha=0.01, class_weight=None, learning_rate=optimal, loss=squared_error, penalty=l2; total time=   0.7s\n",
      "[CV] END alpha=0.01, class_weight=None, learning_rate=optimal, loss=squared_error, penalty=l2; total time=   0.6s\n",
      "[CV] END alpha=0.01, class_weight=None, learning_rate=optimal, loss=squared_error, penalty=l2; total time=   0.7s\n",
      "[CV] END alpha=0.01, class_weight=None, learning_rate=optimal, loss=squared_error, penalty=l1; total time=   0.8s\n",
      "[CV] END alpha=0.01, class_weight=None, learning_rate=optimal, loss=squared_error, penalty=l1; total time=   0.7s\n",
      "[CV] END alpha=0.01, class_weight=None, learning_rate=optimal, loss=squared_error, penalty=l1; total time=   0.8s\n",
      "[CV] END alpha=0.01, class_weight=None, learning_rate=optimal, loss=squared_error, penalty=elasticnet; total time=   0.7s\n",
      "[CV] END alpha=0.01, class_weight=None, learning_rate=optimal, loss=squared_error, penalty=elasticnet; total time=   0.7s\n",
      "[CV] END alpha=0.01, class_weight=None, learning_rate=optimal, loss=squared_error, penalty=elasticnet; total time=   0.7s\n",
      "[CV] END alpha=0.01, class_weight=None, learning_rate=optimal, loss=squared_error, penalty=None; total time=   0.7s\n",
      "[CV] END alpha=0.01, class_weight=None, learning_rate=optimal, loss=squared_error, penalty=None; total time=   0.8s\n",
      "[CV] END alpha=0.01, class_weight=None, learning_rate=optimal, loss=squared_error, penalty=None; total time=   0.8s\n",
      "[CV] END alpha=0.01, class_weight=None, learning_rate=optimal, loss=huber, penalty=l2; total time=   0.7s\n",
      "[CV] END alpha=0.01, class_weight=None, learning_rate=optimal, loss=huber, penalty=l2; total time=   0.7s\n",
      "[CV] END alpha=0.01, class_weight=None, learning_rate=optimal, loss=huber, penalty=l2; total time=   0.7s\n",
      "[CV] END alpha=0.01, class_weight=None, learning_rate=optimal, loss=huber, penalty=l1; total time=   0.8s\n",
      "[CV] END alpha=0.01, class_weight=None, learning_rate=optimal, loss=huber, penalty=l1; total time=   0.7s\n",
      "[CV] END alpha=0.01, class_weight=None, learning_rate=optimal, loss=huber, penalty=l1; total time=   0.7s\n",
      "[CV] END alpha=0.01, class_weight=None, learning_rate=optimal, loss=huber, penalty=elasticnet; total time=   0.7s\n",
      "[CV] END alpha=0.01, class_weight=None, learning_rate=optimal, loss=huber, penalty=elasticnet; total time=   0.8s\n",
      "[CV] END alpha=0.01, class_weight=None, learning_rate=optimal, loss=huber, penalty=elasticnet; total time=   0.7s\n",
      "[CV] END alpha=0.01, class_weight=None, learning_rate=optimal, loss=huber, penalty=None; total time=   0.7s\n",
      "[CV] END alpha=0.01, class_weight=None, learning_rate=optimal, loss=huber, penalty=None; total time=   0.7s\n",
      "[CV] END alpha=0.01, class_weight=None, learning_rate=optimal, loss=huber, penalty=None; total time=   0.7s\n",
      "[CV] END alpha=0.01, class_weight=None, learning_rate=optimal, loss=epsilon_insensitive, penalty=l2; total time=   0.7s\n",
      "[CV] END alpha=0.01, class_weight=None, learning_rate=optimal, loss=epsilon_insensitive, penalty=l2; total time=   0.7s\n",
      "[CV] END alpha=0.01, class_weight=None, learning_rate=optimal, loss=epsilon_insensitive, penalty=l2; total time=   0.6s\n",
      "[CV] END alpha=0.01, class_weight=None, learning_rate=optimal, loss=epsilon_insensitive, penalty=l1; total time=   0.7s\n",
      "[CV] END alpha=0.01, class_weight=None, learning_rate=optimal, loss=epsilon_insensitive, penalty=l1; total time=   0.7s\n"
     ]
    },
    {
     "name": "stdout",
     "output_type": "stream",
     "text": [
      "[CV] END alpha=0.01, class_weight=None, learning_rate=optimal, loss=epsilon_insensitive, penalty=l1; total time=   0.7s\n",
      "[CV] END alpha=0.01, class_weight=None, learning_rate=optimal, loss=epsilon_insensitive, penalty=elasticnet; total time=   0.7s\n",
      "[CV] END alpha=0.01, class_weight=None, learning_rate=optimal, loss=epsilon_insensitive, penalty=elasticnet; total time=   0.7s\n",
      "[CV] END alpha=0.01, class_weight=None, learning_rate=optimal, loss=epsilon_insensitive, penalty=elasticnet; total time=   0.8s\n",
      "[CV] END alpha=0.01, class_weight=None, learning_rate=optimal, loss=epsilon_insensitive, penalty=None; total time=   0.7s\n",
      "[CV] END alpha=0.01, class_weight=None, learning_rate=optimal, loss=epsilon_insensitive, penalty=None; total time=   0.7s\n",
      "[CV] END alpha=0.01, class_weight=None, learning_rate=optimal, loss=epsilon_insensitive, penalty=None; total time=   0.7s\n",
      "[CV] END alpha=0.01, class_weight=None, learning_rate=optimal, loss=squared_epsilon_insensitive, penalty=l2; total time=   0.7s\n",
      "[CV] END alpha=0.01, class_weight=None, learning_rate=optimal, loss=squared_epsilon_insensitive, penalty=l2; total time=   0.7s\n",
      "[CV] END alpha=0.01, class_weight=None, learning_rate=optimal, loss=squared_epsilon_insensitive, penalty=l2; total time=   0.7s\n",
      "[CV] END alpha=0.01, class_weight=None, learning_rate=optimal, loss=squared_epsilon_insensitive, penalty=l1; total time=   0.8s\n",
      "[CV] END alpha=0.01, class_weight=None, learning_rate=optimal, loss=squared_epsilon_insensitive, penalty=l1; total time=   0.9s\n",
      "[CV] END alpha=0.01, class_weight=None, learning_rate=optimal, loss=squared_epsilon_insensitive, penalty=l1; total time=   1.0s\n",
      "[CV] END alpha=0.01, class_weight=None, learning_rate=optimal, loss=squared_epsilon_insensitive, penalty=elasticnet; total time=   0.8s\n",
      "[CV] END alpha=0.01, class_weight=None, learning_rate=optimal, loss=squared_epsilon_insensitive, penalty=elasticnet; total time=   0.8s\n",
      "[CV] END alpha=0.01, class_weight=None, learning_rate=optimal, loss=squared_epsilon_insensitive, penalty=elasticnet; total time=   1.0s\n",
      "[CV] END alpha=0.01, class_weight=None, learning_rate=optimal, loss=squared_epsilon_insensitive, penalty=None; total time=   0.8s\n",
      "[CV] END alpha=0.01, class_weight=None, learning_rate=optimal, loss=squared_epsilon_insensitive, penalty=None; total time=   0.7s\n",
      "[CV] END alpha=0.01, class_weight=None, learning_rate=optimal, loss=squared_epsilon_insensitive, penalty=None; total time=   0.7s\n",
      "[CV] END alpha=0.1, class_weight=balanced, learning_rate=optimal, loss=squared_error, penalty=l2; total time=   0.8s\n",
      "[CV] END alpha=0.1, class_weight=balanced, learning_rate=optimal, loss=squared_error, penalty=l2; total time=   0.7s\n",
      "[CV] END alpha=0.1, class_weight=balanced, learning_rate=optimal, loss=squared_error, penalty=l2; total time=   0.7s\n",
      "[CV] END alpha=0.1, class_weight=balanced, learning_rate=optimal, loss=squared_error, penalty=l1; total time=   0.8s\n",
      "[CV] END alpha=0.1, class_weight=balanced, learning_rate=optimal, loss=squared_error, penalty=l1; total time=   0.9s\n",
      "[CV] END alpha=0.1, class_weight=balanced, learning_rate=optimal, loss=squared_error, penalty=l1; total time=   0.9s\n",
      "[CV] END alpha=0.1, class_weight=balanced, learning_rate=optimal, loss=squared_error, penalty=elasticnet; total time=   0.8s\n",
      "[CV] END alpha=0.1, class_weight=balanced, learning_rate=optimal, loss=squared_error, penalty=elasticnet; total time=   0.8s\n",
      "[CV] END alpha=0.1, class_weight=balanced, learning_rate=optimal, loss=squared_error, penalty=elasticnet; total time=   0.8s\n",
      "[CV] END alpha=0.1, class_weight=balanced, learning_rate=optimal, loss=squared_error, penalty=None; total time=   0.7s\n",
      "[CV] END alpha=0.1, class_weight=balanced, learning_rate=optimal, loss=squared_error, penalty=None; total time=   0.7s\n",
      "[CV] END alpha=0.1, class_weight=balanced, learning_rate=optimal, loss=squared_error, penalty=None; total time=   0.8s\n",
      "[CV] END alpha=0.1, class_weight=balanced, learning_rate=optimal, loss=huber, penalty=l2; total time=   0.8s\n",
      "[CV] END alpha=0.1, class_weight=balanced, learning_rate=optimal, loss=huber, penalty=l2; total time=   0.8s\n",
      "[CV] END alpha=0.1, class_weight=balanced, learning_rate=optimal, loss=huber, penalty=l2; total time=   0.7s\n",
      "[CV] END alpha=0.1, class_weight=balanced, learning_rate=optimal, loss=huber, penalty=l1; total time=   0.8s\n"
     ]
    },
    {
     "name": "stderr",
     "output_type": "stream",
     "text": [
      "D:\\study\\Anaconda\\envs\\multicampus\\lib\\site-packages\\sklearn\\metrics\\_classification.py:1334: UndefinedMetricWarning: Precision is ill-defined and being set to 0.0 due to no predicted samples. Use `zero_division` parameter to control this behavior.\n",
      "  _warn_prf(average, modifier, msg_start, len(result))\n"
     ]
    },
    {
     "name": "stdout",
     "output_type": "stream",
     "text": [
      "[CV] END alpha=0.1, class_weight=balanced, learning_rate=optimal, loss=huber, penalty=l1; total time=   0.8s\n",
      "[CV] END alpha=0.1, class_weight=balanced, learning_rate=optimal, loss=huber, penalty=l1; total time=   0.8s\n",
      "[CV] END alpha=0.1, class_weight=balanced, learning_rate=optimal, loss=huber, penalty=elasticnet; total time=   0.8s\n",
      "[CV] END alpha=0.1, class_weight=balanced, learning_rate=optimal, loss=huber, penalty=elasticnet; total time=   0.9s\n"
     ]
    },
    {
     "name": "stderr",
     "output_type": "stream",
     "text": [
      "D:\\study\\Anaconda\\envs\\multicampus\\lib\\site-packages\\sklearn\\metrics\\_classification.py:1334: UndefinedMetricWarning: Precision is ill-defined and being set to 0.0 due to no predicted samples. Use `zero_division` parameter to control this behavior.\n",
      "  _warn_prf(average, modifier, msg_start, len(result))\n"
     ]
    },
    {
     "name": "stdout",
     "output_type": "stream",
     "text": [
      "[CV] END alpha=0.1, class_weight=balanced, learning_rate=optimal, loss=huber, penalty=elasticnet; total time=   0.9s\n",
      "[CV] END alpha=0.1, class_weight=balanced, learning_rate=optimal, loss=huber, penalty=None; total time=   0.7s\n",
      "[CV] END alpha=0.1, class_weight=balanced, learning_rate=optimal, loss=huber, penalty=None; total time=   0.7s\n",
      "[CV] END alpha=0.1, class_weight=balanced, learning_rate=optimal, loss=huber, penalty=None; total time=   0.7s\n",
      "[CV] END alpha=0.1, class_weight=balanced, learning_rate=optimal, loss=epsilon_insensitive, penalty=l2; total time=   0.8s\n",
      "[CV] END alpha=0.1, class_weight=balanced, learning_rate=optimal, loss=epsilon_insensitive, penalty=l2; total time=   0.7s\n",
      "[CV] END alpha=0.1, class_weight=balanced, learning_rate=optimal, loss=epsilon_insensitive, penalty=l2; total time=   0.7s\n",
      "[CV] END alpha=0.1, class_weight=balanced, learning_rate=optimal, loss=epsilon_insensitive, penalty=l1; total time=   0.8s\n",
      "[CV] END alpha=0.1, class_weight=balanced, learning_rate=optimal, loss=epsilon_insensitive, penalty=l1; total time=   0.8s\n",
      "[CV] END alpha=0.1, class_weight=balanced, learning_rate=optimal, loss=epsilon_insensitive, penalty=l1; total time=   0.8s\n",
      "[CV] END alpha=0.1, class_weight=balanced, learning_rate=optimal, loss=epsilon_insensitive, penalty=elasticnet; total time=   0.7s\n",
      "[CV] END alpha=0.1, class_weight=balanced, learning_rate=optimal, loss=epsilon_insensitive, penalty=elasticnet; total time=   0.9s\n",
      "[CV] END alpha=0.1, class_weight=balanced, learning_rate=optimal, loss=epsilon_insensitive, penalty=elasticnet; total time=   0.8s\n",
      "[CV] END alpha=0.1, class_weight=balanced, learning_rate=optimal, loss=epsilon_insensitive, penalty=None; total time=   0.8s\n",
      "[CV] END alpha=0.1, class_weight=balanced, learning_rate=optimal, loss=epsilon_insensitive, penalty=None; total time=   0.8s\n",
      "[CV] END alpha=0.1, class_weight=balanced, learning_rate=optimal, loss=epsilon_insensitive, penalty=None; total time=   0.8s\n",
      "[CV] END alpha=0.1, class_weight=balanced, learning_rate=optimal, loss=squared_epsilon_insensitive, penalty=l2; total time=   0.7s\n",
      "[CV] END alpha=0.1, class_weight=balanced, learning_rate=optimal, loss=squared_epsilon_insensitive, penalty=l2; total time=   0.7s\n",
      "[CV] END alpha=0.1, class_weight=balanced, learning_rate=optimal, loss=squared_epsilon_insensitive, penalty=l2; total time=   0.7s\n",
      "[CV] END alpha=0.1, class_weight=balanced, learning_rate=optimal, loss=squared_epsilon_insensitive, penalty=l1; total time=   1.1s\n",
      "[CV] END alpha=0.1, class_weight=balanced, learning_rate=optimal, loss=squared_epsilon_insensitive, penalty=l1; total time=   0.8s\n",
      "[CV] END alpha=0.1, class_weight=balanced, learning_rate=optimal, loss=squared_epsilon_insensitive, penalty=l1; total time=   0.8s\n",
      "[CV] END alpha=0.1, class_weight=balanced, learning_rate=optimal, loss=squared_epsilon_insensitive, penalty=elasticnet; total time=   0.8s\n",
      "[CV] END alpha=0.1, class_weight=balanced, learning_rate=optimal, loss=squared_epsilon_insensitive, penalty=elasticnet; total time=   0.8s\n",
      "[CV] END alpha=0.1, class_weight=balanced, learning_rate=optimal, loss=squared_epsilon_insensitive, penalty=elasticnet; total time=   0.8s\n",
      "[CV] END alpha=0.1, class_weight=balanced, learning_rate=optimal, loss=squared_epsilon_insensitive, penalty=None; total time=   0.7s\n",
      "[CV] END alpha=0.1, class_weight=balanced, learning_rate=optimal, loss=squared_epsilon_insensitive, penalty=None; total time=   1.3s\n",
      "[CV] END alpha=0.1, class_weight=balanced, learning_rate=optimal, loss=squared_epsilon_insensitive, penalty=None; total time=   0.7s\n",
      "[CV] END alpha=0.1, class_weight=None, learning_rate=optimal, loss=squared_error, penalty=l2; total time=   0.7s\n",
      "[CV] END alpha=0.1, class_weight=None, learning_rate=optimal, loss=squared_error, penalty=l2; total time=   0.7s\n",
      "[CV] END alpha=0.1, class_weight=None, learning_rate=optimal, loss=squared_error, penalty=l2; total time=   0.7s\n",
      "[CV] END alpha=0.1, class_weight=None, learning_rate=optimal, loss=squared_error, penalty=l1; total time=   0.8s\n",
      "[CV] END alpha=0.1, class_weight=None, learning_rate=optimal, loss=squared_error, penalty=l1; total time=   0.8s\n",
      "[CV] END alpha=0.1, class_weight=None, learning_rate=optimal, loss=squared_error, penalty=l1; total time=   0.8s\n",
      "[CV] END alpha=0.1, class_weight=None, learning_rate=optimal, loss=squared_error, penalty=elasticnet; total time=   0.8s\n",
      "[CV] END alpha=0.1, class_weight=None, learning_rate=optimal, loss=squared_error, penalty=elasticnet; total time=   0.8s\n",
      "[CV] END alpha=0.1, class_weight=None, learning_rate=optimal, loss=squared_error, penalty=elasticnet; total time=   0.8s\n",
      "[CV] END alpha=0.1, class_weight=None, learning_rate=optimal, loss=squared_error, penalty=None; total time=   0.7s\n",
      "[CV] END alpha=0.1, class_weight=None, learning_rate=optimal, loss=squared_error, penalty=None; total time=   0.8s\n",
      "[CV] END alpha=0.1, class_weight=None, learning_rate=optimal, loss=squared_error, penalty=None; total time=   0.7s\n",
      "[CV] END alpha=0.1, class_weight=None, learning_rate=optimal, loss=huber, penalty=l2; total time=   0.7s\n",
      "[CV] END alpha=0.1, class_weight=None, learning_rate=optimal, loss=huber, penalty=l2; total time=   0.7s\n",
      "[CV] END alpha=0.1, class_weight=None, learning_rate=optimal, loss=huber, penalty=l2; total time=   0.7s\n"
     ]
    },
    {
     "name": "stderr",
     "output_type": "stream",
     "text": [
      "D:\\study\\Anaconda\\envs\\multicampus\\lib\\site-packages\\sklearn\\metrics\\_classification.py:1334: UndefinedMetricWarning: Precision is ill-defined and being set to 0.0 due to no predicted samples. Use `zero_division` parameter to control this behavior.\n",
      "  _warn_prf(average, modifier, msg_start, len(result))\n"
     ]
    },
    {
     "name": "stdout",
     "output_type": "stream",
     "text": [
      "[CV] END alpha=0.1, class_weight=None, learning_rate=optimal, loss=huber, penalty=l1; total time=   0.8s\n",
      "[CV] END alpha=0.1, class_weight=None, learning_rate=optimal, loss=huber, penalty=l1; total time=   0.7s\n"
     ]
    },
    {
     "name": "stderr",
     "output_type": "stream",
     "text": [
      "D:\\study\\Anaconda\\envs\\multicampus\\lib\\site-packages\\sklearn\\metrics\\_classification.py:1334: UndefinedMetricWarning: Precision is ill-defined and being set to 0.0 due to no predicted samples. Use `zero_division` parameter to control this behavior.\n",
      "  _warn_prf(average, modifier, msg_start, len(result))\n"
     ]
    },
    {
     "name": "stdout",
     "output_type": "stream",
     "text": [
      "[CV] END alpha=0.1, class_weight=None, learning_rate=optimal, loss=huber, penalty=l1; total time=   0.8s\n",
      "[CV] END alpha=0.1, class_weight=None, learning_rate=optimal, loss=huber, penalty=elasticnet; total time=   1.0s\n",
      "[CV] END alpha=0.1, class_weight=None, learning_rate=optimal, loss=huber, penalty=elasticnet; total time=   0.8s\n",
      "[CV] END alpha=0.1, class_weight=None, learning_rate=optimal, loss=huber, penalty=elasticnet; total time=   0.7s\n",
      "[CV] END alpha=0.1, class_weight=None, learning_rate=optimal, loss=huber, penalty=None; total time=   0.7s\n",
      "[CV] END alpha=0.1, class_weight=None, learning_rate=optimal, loss=huber, penalty=None; total time=   0.7s\n",
      "[CV] END alpha=0.1, class_weight=None, learning_rate=optimal, loss=huber, penalty=None; total time=   0.7s\n",
      "[CV] END alpha=0.1, class_weight=None, learning_rate=optimal, loss=epsilon_insensitive, penalty=l2; total time=   0.7s\n",
      "[CV] END alpha=0.1, class_weight=None, learning_rate=optimal, loss=epsilon_insensitive, penalty=l2; total time=   0.7s\n",
      "[CV] END alpha=0.1, class_weight=None, learning_rate=optimal, loss=epsilon_insensitive, penalty=l2; total time=   0.8s\n",
      "[CV] END alpha=0.1, class_weight=None, learning_rate=optimal, loss=epsilon_insensitive, penalty=l1; total time=   0.8s\n",
      "[CV] END alpha=0.1, class_weight=None, learning_rate=optimal, loss=epsilon_insensitive, penalty=l1; total time=   0.8s\n",
      "[CV] END alpha=0.1, class_weight=None, learning_rate=optimal, loss=epsilon_insensitive, penalty=l1; total time=   0.8s\n",
      "[CV] END alpha=0.1, class_weight=None, learning_rate=optimal, loss=epsilon_insensitive, penalty=elasticnet; total time=   0.9s\n",
      "[CV] END alpha=0.1, class_weight=None, learning_rate=optimal, loss=epsilon_insensitive, penalty=elasticnet; total time=   0.8s\n",
      "[CV] END alpha=0.1, class_weight=None, learning_rate=optimal, loss=epsilon_insensitive, penalty=elasticnet; total time=   1.1s\n",
      "[CV] END alpha=0.1, class_weight=None, learning_rate=optimal, loss=epsilon_insensitive, penalty=None; total time=   1.1s\n",
      "[CV] END alpha=0.1, class_weight=None, learning_rate=optimal, loss=epsilon_insensitive, penalty=None; total time=   0.7s\n",
      "[CV] END alpha=0.1, class_weight=None, learning_rate=optimal, loss=epsilon_insensitive, penalty=None; total time=   0.7s\n",
      "[CV] END alpha=0.1, class_weight=None, learning_rate=optimal, loss=squared_epsilon_insensitive, penalty=l2; total time=   0.7s\n",
      "[CV] END alpha=0.1, class_weight=None, learning_rate=optimal, loss=squared_epsilon_insensitive, penalty=l2; total time=   0.8s\n",
      "[CV] END alpha=0.1, class_weight=None, learning_rate=optimal, loss=squared_epsilon_insensitive, penalty=l2; total time=   1.1s\n",
      "[CV] END alpha=0.1, class_weight=None, learning_rate=optimal, loss=squared_epsilon_insensitive, penalty=l1; total time=   0.8s\n",
      "[CV] END alpha=0.1, class_weight=None, learning_rate=optimal, loss=squared_epsilon_insensitive, penalty=l1; total time=   0.8s\n",
      "[CV] END alpha=0.1, class_weight=None, learning_rate=optimal, loss=squared_epsilon_insensitive, penalty=l1; total time=   1.0s\n",
      "[CV] END alpha=0.1, class_weight=None, learning_rate=optimal, loss=squared_epsilon_insensitive, penalty=elasticnet; total time=   0.8s\n",
      "[CV] END alpha=0.1, class_weight=None, learning_rate=optimal, loss=squared_epsilon_insensitive, penalty=elasticnet; total time=   0.8s\n",
      "[CV] END alpha=0.1, class_weight=None, learning_rate=optimal, loss=squared_epsilon_insensitive, penalty=elasticnet; total time=   0.7s\n",
      "[CV] END alpha=0.1, class_weight=None, learning_rate=optimal, loss=squared_epsilon_insensitive, penalty=None; total time=   0.8s\n",
      "[CV] END alpha=0.1, class_weight=None, learning_rate=optimal, loss=squared_epsilon_insensitive, penalty=None; total time=   0.6s\n",
      "[CV] END alpha=0.1, class_weight=None, learning_rate=optimal, loss=squared_epsilon_insensitive, penalty=None; total time=   2.1s\n",
      "========================================================================================================================================================================================================\n",
      "==================================================================================================== \n",
      " SGDClassifier(class_weight='balanced', early_stopping=True,\n",
      "              loss='squared_epsilon_insensitive', penalty=None)\n",
      "0.7034139452164665\n",
      "0.7387825168361284\n"
     ]
    },
    {
     "ename": "TypeError",
     "evalue": "Singleton array array(None, dtype=object) cannot be considered a valid collection.",
     "output_type": "error",
     "traceback": [
      "\u001b[1;31m---------------------------------------------------------------------------\u001b[0m",
      "\u001b[1;31mAttributeError\u001b[0m                            Traceback (most recent call last)",
      "Cell \u001b[1;32mIn [39], line 27\u001b[0m, in \u001b[0;36mgrid_search_eval\u001b[1;34m(model, params)\u001b[0m\n\u001b[0;32m     26\u001b[0m \u001b[38;5;28;01mtry\u001b[39;00m:\n\u001b[1;32m---> 27\u001b[0m     pred_proba \u001b[38;5;241m=\u001b[39m \u001b[43mbest_model\u001b[49m\u001b[38;5;241;43m.\u001b[39;49m\u001b[43mpredict_proba\u001b[49m(X_test)[:,\u001b[38;5;241m1\u001b[39m]\n\u001b[0;32m     28\u001b[0m     \u001b[38;5;28mprint\u001b[39m(\u001b[38;5;124m\"\u001b[39m\u001b[38;5;124m=\u001b[39m\u001b[38;5;124m\"\u001b[39m\u001b[38;5;241m*\u001b[39m\u001b[38;5;241m100\u001b[39m, \u001b[38;5;124m\"\u001b[39m\u001b[38;5;130;01m\\n\u001b[39;00m\u001b[38;5;124m\"\u001b[39m, best_model)\n",
      "File \u001b[1;32mD:\\study\\Anaconda\\envs\\multicampus\\lib\\site-packages\\sklearn\\utils\\metaestimators.py:127\u001b[0m, in \u001b[0;36m_AvailableIfDescriptor.__get__\u001b[1;34m(self, obj, owner)\u001b[0m\n\u001b[0;32m    124\u001b[0m \u001b[38;5;28;01mif\u001b[39;00m obj \u001b[38;5;129;01mis\u001b[39;00m \u001b[38;5;129;01mnot\u001b[39;00m \u001b[38;5;28;01mNone\u001b[39;00m:\n\u001b[0;32m    125\u001b[0m     \u001b[38;5;66;03m# delegate only on instances, not the classes.\u001b[39;00m\n\u001b[0;32m    126\u001b[0m     \u001b[38;5;66;03m# this is to allow access to the docstrings.\u001b[39;00m\n\u001b[1;32m--> 127\u001b[0m     \u001b[38;5;28;01mif\u001b[39;00m \u001b[38;5;129;01mnot\u001b[39;00m \u001b[38;5;28;43mself\u001b[39;49m\u001b[38;5;241;43m.\u001b[39;49m\u001b[43mcheck\u001b[49m\u001b[43m(\u001b[49m\u001b[43mobj\u001b[49m\u001b[43m)\u001b[49m:\n\u001b[0;32m    128\u001b[0m         \u001b[38;5;28;01mraise\u001b[39;00m attr_err\n",
      "File \u001b[1;32mD:\\study\\Anaconda\\envs\\multicampus\\lib\\site-packages\\sklearn\\linear_model\\_stochastic_gradient.py:1222\u001b[0m, in \u001b[0;36mSGDClassifier._check_proba\u001b[1;34m(self)\u001b[0m\n\u001b[0;32m   1221\u001b[0m \u001b[38;5;28;01mif\u001b[39;00m \u001b[38;5;28mself\u001b[39m\u001b[38;5;241m.\u001b[39mloss \u001b[38;5;129;01mnot\u001b[39;00m \u001b[38;5;129;01min\u001b[39;00m (\u001b[38;5;124m\"\u001b[39m\u001b[38;5;124mlog_loss\u001b[39m\u001b[38;5;124m\"\u001b[39m, \u001b[38;5;124m\"\u001b[39m\u001b[38;5;124mlog\u001b[39m\u001b[38;5;124m\"\u001b[39m, \u001b[38;5;124m\"\u001b[39m\u001b[38;5;124mmodified_huber\u001b[39m\u001b[38;5;124m\"\u001b[39m):\n\u001b[1;32m-> 1222\u001b[0m     \u001b[38;5;28;01mraise\u001b[39;00m \u001b[38;5;167;01mAttributeError\u001b[39;00m(\n\u001b[0;32m   1223\u001b[0m         \u001b[38;5;124m\"\u001b[39m\u001b[38;5;124mprobability estimates are not available for loss=\u001b[39m\u001b[38;5;132;01m%r\u001b[39;00m\u001b[38;5;124m\"\u001b[39m \u001b[38;5;241m%\u001b[39m \u001b[38;5;28mself\u001b[39m\u001b[38;5;241m.\u001b[39mloss\n\u001b[0;32m   1224\u001b[0m     )\n\u001b[0;32m   1225\u001b[0m \u001b[38;5;28;01mreturn\u001b[39;00m \u001b[38;5;28;01mTrue\u001b[39;00m\n",
      "\u001b[1;31mAttributeError\u001b[0m: probability estimates are not available for loss='squared_epsilon_insensitive'",
      "\nDuring handling of the above exception, another exception occurred:\n",
      "\u001b[1;31mTypeError\u001b[0m                                 Traceback (most recent call last)",
      "Cell \u001b[1;32mIn [40], line 11\u001b[0m\n\u001b[0;32m      9\u001b[0m X_train, X_test, y_train, y_test \u001b[38;5;241m=\u001b[39m prepare_data()\n\u001b[0;32m     10\u001b[0m model \u001b[38;5;241m=\u001b[39m SGDClassifier(early_stopping\u001b[38;5;241m=\u001b[39m\u001b[38;5;28;01mTrue\u001b[39;00m, n_iter_no_change\u001b[38;5;241m=\u001b[39m\u001b[38;5;241m5\u001b[39m)\n\u001b[1;32m---> 11\u001b[0m model_list, result \u001b[38;5;241m=\u001b[39m \u001b[43mgrid_search_eval\u001b[49m\u001b[43m(\u001b[49m\u001b[43mmodel\u001b[49m\u001b[43m,\u001b[49m\u001b[43m \u001b[49m\u001b[43mparams\u001b[49m\u001b[43m)\u001b[49m\n",
      "Cell \u001b[1;32mIn [39], line 37\u001b[0m, in \u001b[0;36mgrid_search_eval\u001b[1;34m(model, params)\u001b[0m\n\u001b[0;32m     35\u001b[0m         \u001b[38;5;28mprint\u001b[39m(best_model\u001b[38;5;241m.\u001b[39mscore(X_train, y_train))\n\u001b[0;32m     36\u001b[0m         \u001b[38;5;28mprint\u001b[39m(best_model\u001b[38;5;241m.\u001b[39mscore(X_test, y_test))\n\u001b[1;32m---> 37\u001b[0m         \u001b[43mget_clf_eval\u001b[49m\u001b[43m(\u001b[49m\u001b[43my_test\u001b[49m\u001b[43m,\u001b[49m\u001b[43m \u001b[49m\u001b[43mpred\u001b[49m\u001b[43m)\u001b[49m\n\u001b[0;32m     39\u001b[0m \u001b[38;5;28;01mreturn\u001b[39;00m model_list, result\n",
      "Cell \u001b[1;32mIn [3], line 8\u001b[0m, in \u001b[0;36mget_clf_eval\u001b[1;34m(y_test, pred, pred_proba)\u001b[0m\n\u001b[0;32m      6\u001b[0m recall \u001b[38;5;241m=\u001b[39m recall_score(y_test, pred)\n\u001b[0;32m      7\u001b[0m f1 \u001b[38;5;241m=\u001b[39m f1_score(y_test, pred)\n\u001b[1;32m----> 8\u001b[0m roc_auc \u001b[38;5;241m=\u001b[39m \u001b[43mroc_auc_score\u001b[49m\u001b[43m(\u001b[49m\u001b[43my_test\u001b[49m\u001b[43m,\u001b[49m\u001b[43m \u001b[49m\u001b[43mpred_proba\u001b[49m\u001b[43m)\u001b[49m\n\u001b[0;32m     10\u001b[0m \u001b[38;5;28mprint\u001b[39m(\u001b[38;5;124m'\u001b[39m\u001b[38;5;124m오차 행렬\u001b[39m\u001b[38;5;124m'\u001b[39m)\n\u001b[0;32m     11\u001b[0m \u001b[38;5;28mprint\u001b[39m(confusion)\n",
      "File \u001b[1;32mD:\\study\\Anaconda\\envs\\multicampus\\lib\\site-packages\\sklearn\\metrics\\_ranking.py:550\u001b[0m, in \u001b[0;36mroc_auc_score\u001b[1;34m(y_true, y_score, average, sample_weight, max_fpr, multi_class, labels)\u001b[0m\n\u001b[0;32m    548\u001b[0m y_type \u001b[38;5;241m=\u001b[39m type_of_target(y_true, input_name\u001b[38;5;241m=\u001b[39m\u001b[38;5;124m\"\u001b[39m\u001b[38;5;124my_true\u001b[39m\u001b[38;5;124m\"\u001b[39m)\n\u001b[0;32m    549\u001b[0m y_true \u001b[38;5;241m=\u001b[39m check_array(y_true, ensure_2d\u001b[38;5;241m=\u001b[39m\u001b[38;5;28;01mFalse\u001b[39;00m, dtype\u001b[38;5;241m=\u001b[39m\u001b[38;5;28;01mNone\u001b[39;00m)\n\u001b[1;32m--> 550\u001b[0m y_score \u001b[38;5;241m=\u001b[39m \u001b[43mcheck_array\u001b[49m\u001b[43m(\u001b[49m\u001b[43my_score\u001b[49m\u001b[43m,\u001b[49m\u001b[43m \u001b[49m\u001b[43mensure_2d\u001b[49m\u001b[38;5;241;43m=\u001b[39;49m\u001b[38;5;28;43;01mFalse\u001b[39;49;00m\u001b[43m)\u001b[49m\n\u001b[0;32m    552\u001b[0m \u001b[38;5;28;01mif\u001b[39;00m y_type \u001b[38;5;241m==\u001b[39m \u001b[38;5;124m\"\u001b[39m\u001b[38;5;124mmulticlass\u001b[39m\u001b[38;5;124m\"\u001b[39m \u001b[38;5;129;01mor\u001b[39;00m (\n\u001b[0;32m    553\u001b[0m     y_type \u001b[38;5;241m==\u001b[39m \u001b[38;5;124m\"\u001b[39m\u001b[38;5;124mbinary\u001b[39m\u001b[38;5;124m\"\u001b[39m \u001b[38;5;129;01mand\u001b[39;00m y_score\u001b[38;5;241m.\u001b[39mndim \u001b[38;5;241m==\u001b[39m \u001b[38;5;241m2\u001b[39m \u001b[38;5;129;01mand\u001b[39;00m y_score\u001b[38;5;241m.\u001b[39mshape[\u001b[38;5;241m1\u001b[39m] \u001b[38;5;241m>\u001b[39m \u001b[38;5;241m2\u001b[39m\n\u001b[0;32m    554\u001b[0m ):\n\u001b[0;32m    555\u001b[0m     \u001b[38;5;66;03m# do not support partial ROC computation for multiclass\u001b[39;00m\n\u001b[0;32m    556\u001b[0m     \u001b[38;5;28;01mif\u001b[39;00m max_fpr \u001b[38;5;129;01mis\u001b[39;00m \u001b[38;5;129;01mnot\u001b[39;00m \u001b[38;5;28;01mNone\u001b[39;00m \u001b[38;5;129;01mand\u001b[39;00m max_fpr \u001b[38;5;241m!=\u001b[39m \u001b[38;5;241m1.0\u001b[39m:\n",
      "File \u001b[1;32mD:\\study\\Anaconda\\envs\\multicampus\\lib\\site-packages\\sklearn\\utils\\validation.py:907\u001b[0m, in \u001b[0;36mcheck_array\u001b[1;34m(array, accept_sparse, accept_large_sparse, dtype, order, copy, force_all_finite, ensure_2d, allow_nd, ensure_min_samples, ensure_min_features, estimator, input_name)\u001b[0m\n\u001b[0;32m    899\u001b[0m         _assert_all_finite(\n\u001b[0;32m    900\u001b[0m             array,\n\u001b[0;32m    901\u001b[0m             input_name\u001b[38;5;241m=\u001b[39minput_name,\n\u001b[0;32m    902\u001b[0m             estimator_name\u001b[38;5;241m=\u001b[39mestimator_name,\n\u001b[0;32m    903\u001b[0m             allow_nan\u001b[38;5;241m=\u001b[39mforce_all_finite \u001b[38;5;241m==\u001b[39m \u001b[38;5;124m\"\u001b[39m\u001b[38;5;124mallow-nan\u001b[39m\u001b[38;5;124m\"\u001b[39m,\n\u001b[0;32m    904\u001b[0m         )\n\u001b[0;32m    906\u001b[0m \u001b[38;5;28;01mif\u001b[39;00m ensure_min_samples \u001b[38;5;241m>\u001b[39m \u001b[38;5;241m0\u001b[39m:\n\u001b[1;32m--> 907\u001b[0m     n_samples \u001b[38;5;241m=\u001b[39m \u001b[43m_num_samples\u001b[49m\u001b[43m(\u001b[49m\u001b[43marray\u001b[49m\u001b[43m)\u001b[49m\n\u001b[0;32m    908\u001b[0m     \u001b[38;5;28;01mif\u001b[39;00m n_samples \u001b[38;5;241m<\u001b[39m ensure_min_samples:\n\u001b[0;32m    909\u001b[0m         \u001b[38;5;28;01mraise\u001b[39;00m \u001b[38;5;167;01mValueError\u001b[39;00m(\n\u001b[0;32m    910\u001b[0m             \u001b[38;5;124m\"\u001b[39m\u001b[38;5;124mFound array with \u001b[39m\u001b[38;5;132;01m%d\u001b[39;00m\u001b[38;5;124m sample(s) (shape=\u001b[39m\u001b[38;5;132;01m%s\u001b[39;00m\u001b[38;5;124m) while a\u001b[39m\u001b[38;5;124m\"\u001b[39m\n\u001b[0;32m    911\u001b[0m             \u001b[38;5;124m\"\u001b[39m\u001b[38;5;124m minimum of \u001b[39m\u001b[38;5;132;01m%d\u001b[39;00m\u001b[38;5;124m is required\u001b[39m\u001b[38;5;132;01m%s\u001b[39;00m\u001b[38;5;124m.\u001b[39m\u001b[38;5;124m\"\u001b[39m\n\u001b[0;32m    912\u001b[0m             \u001b[38;5;241m%\u001b[39m (n_samples, array\u001b[38;5;241m.\u001b[39mshape, ensure_min_samples, context)\n\u001b[0;32m    913\u001b[0m         )\n",
      "File \u001b[1;32mD:\\study\\Anaconda\\envs\\multicampus\\lib\\site-packages\\sklearn\\utils\\validation.py:325\u001b[0m, in \u001b[0;36m_num_samples\u001b[1;34m(x)\u001b[0m\n\u001b[0;32m    323\u001b[0m \u001b[38;5;28;01mif\u001b[39;00m \u001b[38;5;28mhasattr\u001b[39m(x, \u001b[38;5;124m\"\u001b[39m\u001b[38;5;124mshape\u001b[39m\u001b[38;5;124m\"\u001b[39m) \u001b[38;5;129;01mand\u001b[39;00m x\u001b[38;5;241m.\u001b[39mshape \u001b[38;5;129;01mis\u001b[39;00m \u001b[38;5;129;01mnot\u001b[39;00m \u001b[38;5;28;01mNone\u001b[39;00m:\n\u001b[0;32m    324\u001b[0m     \u001b[38;5;28;01mif\u001b[39;00m \u001b[38;5;28mlen\u001b[39m(x\u001b[38;5;241m.\u001b[39mshape) \u001b[38;5;241m==\u001b[39m \u001b[38;5;241m0\u001b[39m:\n\u001b[1;32m--> 325\u001b[0m         \u001b[38;5;28;01mraise\u001b[39;00m \u001b[38;5;167;01mTypeError\u001b[39;00m(\n\u001b[0;32m    326\u001b[0m             \u001b[38;5;124m\"\u001b[39m\u001b[38;5;124mSingleton array \u001b[39m\u001b[38;5;132;01m%r\u001b[39;00m\u001b[38;5;124m cannot be considered a valid collection.\u001b[39m\u001b[38;5;124m\"\u001b[39m \u001b[38;5;241m%\u001b[39m x\n\u001b[0;32m    327\u001b[0m         )\n\u001b[0;32m    328\u001b[0m     \u001b[38;5;66;03m# Check that shape is returning an integer or default to len\u001b[39;00m\n\u001b[0;32m    329\u001b[0m     \u001b[38;5;66;03m# Dask dataframes may not return numeric shape[0] value\u001b[39;00m\n\u001b[0;32m    330\u001b[0m     \u001b[38;5;28;01mif\u001b[39;00m \u001b[38;5;28misinstance\u001b[39m(x\u001b[38;5;241m.\u001b[39mshape[\u001b[38;5;241m0\u001b[39m], numbers\u001b[38;5;241m.\u001b[39mIntegral):\n",
      "\u001b[1;31mTypeError\u001b[0m: Singleton array array(None, dtype=object) cannot be considered a valid collection."
     ]
    }
   ],
   "source": [
    "params = {\n",
    "    \"loss\": [\"squared_error\", \"huber\", \"epsilon_insensitive\", \"squared_epsilon_insensitive\"], \n",
    "    \"penalty\": [\"l2\", \"l1\", \"elasticnet\", None], \n",
    "    \"alpha\": [0.0001, 0.001, 0.01, 0.1],\n",
    "    \"learning_rate\": [\"optimal\"],\n",
    "    \"class_weight\": [\"balanced\", None],\n",
    "}\n",
    "\n",
    "X_train, X_test, y_train, y_test = prepare_data()\n",
    "model = SGDClassifier(early_stopping=True, n_iter_no_change=5)\n",
    "model_list, result = grid_search_eval(model, params)"
   ]
  },
  {
   "cell_type": "code",
   "execution_count": null,
   "id": "a34c61cd",
   "metadata": {
    "ExecuteTime": {
     "end_time": "2022-12-26T08:27:14.010641Z",
     "start_time": "2022-12-26T08:27:14.010641Z"
    }
   },
   "outputs": [],
   "source": [
    "# result.fillna(0, inplace=True)\n",
    "for col in result.columns:\n",
    "    if col.startswith(\"param_\"):\n",
    "        print(result.groupby(col).mean()[[\"mean_test_precision\"]])\n",
    "        \n",
    "for model in model_list:\n",
    "    pred = model.predict(X_test)\n",
    "    try:\n",
    "        pred_proba = model.predict_proba(X_test)[:,1]\n",
    "        precision_recall_curve_plot(y_test, pred_proba)\n",
    "    except:\n",
    "        print(confusion_matrix(y_test, pred))"
   ]
  },
  {
   "cell_type": "markdown",
   "id": "a1111a24",
   "metadata": {},
   "source": [
    "## SVM\n",
    "- 종류\n",
    "    - SVC\n",
    "    - LinearSVC\n",
    "    - NuSVC\n",
    "    - https://scikit-learn.org/stable/modules/svm.html#svm-classification\n",
    "- SVC 하이퍼 파라미터\n",
    "    - C: float, default=1.0\n",
    "    - kernel: {‘linear’, ‘poly’, ‘rbf’, ‘sigmoid’, ‘precomputed’} or callable, default=’rbf’\n",
    "    - degree: int, default=3\n",
    "    - gamma: {‘scale’, ‘auto’} or float, default=’scale’\n",
    "    - coef0: float, default=0.0\n",
    "    - shrinking: bool, default=True\n",
    "    - probability: bool, default=False\n",
    "    - tol: float, default=1e-3\n",
    "    - cache_size: float, default=200\n",
    "    - class_weight: dict or ‘balanced’, default=None\n",
    "    - verbose: bool, default=False\n",
    "    - max_iter: int, default=-1\n",
    "    - decision_function_shape: {‘ovo’, ‘ovr’}, default=’ovr’\n",
    "    - break_ties: bool, default=False\n",
    "- NuSVC 하이퍼 파라미터\n",
    "    - nu: float, default=0.5\n",
    "    - kernel: {‘linear’, ‘poly’, ‘rbf’, ‘sigmoid’, ‘precomputed’} or callable, default=’rbf’\n",
    "    - degree: int, default=3\n",
    "    - gamma: {‘scale’, ‘auto’} or float, default=’scale’\n",
    "    - coef0: float, default=0.0\n",
    "    - shrinking: bool, default=True\n",
    "    - probability: bool, default=False\n",
    "    - tol: float, default=1e-3\n",
    "    - cache_size: float, default=200\n",
    "    - class_weight: dict or ‘balanced’, default=None\n",
    "    - verbose: bool, default=False\n",
    "    - max_iter: int, default=-1\n",
    "    - decision_function_shape: {‘ovo’, ‘ovr’}, default=’ovr’\n",
    "    - break_ties: bool, default=False\n",
    "- LinearSVC 하이퍼 파라미터\n",
    "    - penalty: {‘l1’, ‘l2’}, default=’l2’\n",
    "    - loss: {‘hinge’, ‘squared_hinge’}, default=’squared_hinge’\n",
    "    - dual: bool, default=True\n",
    "    - tol: float, default=1e-4\n",
    "    - C: float, default=1.0\n",
    "    - multi_class: {‘ovr’, ‘crammer_singer’}, default=’ovr’\n",
    "    - fit_intercept: bool, default=True\n",
    "    - intercept_scaling: float, default=1.0\n",
    "    - class_weight: dict or ‘balanced’, default=None\n",
    "    - verbose: int, default=0\n",
    "    - random_state: int, RandomState instance or None, default=None\n",
    "    - max_iter: int, default=1000"
   ]
  },
  {
   "cell_type": "code",
   "execution_count": null,
   "id": "ef3a2eeb",
   "metadata": {
    "ExecuteTime": {
     "end_time": "2022-12-23T08:33:17.108264Z",
     "start_time": "2022-12-23T08:31:53.834727Z"
    }
   },
   "outputs": [],
   "source": [
    "from sklearn.svm import SVC, LinearSVC, NuSVC\n",
    "\n",
    "model = SVC(max_iter=100, probability=True)\n",
    "model.fit(X_train, y_train)\n",
    "\n",
    "print(model.score(X_train, y_train))\n",
    "print(model.score(X_test, y_test))\n",
    "\n",
    "pred = model.predict(X_test)\n",
    "pred_proba = model.predict_proba(X_test)[:,1]\n",
    "\n",
    "get_clf_eval(y_test, pred, pred_proba)"
   ]
  },
  {
   "cell_type": "code",
   "execution_count": null,
   "id": "b6e4496d",
   "metadata": {
    "ExecuteTime": {
     "end_time": "2022-12-23T08:48:16.174646Z",
     "start_time": "2022-12-23T08:48:03.295296Z"
    }
   },
   "outputs": [],
   "source": [
    "model = LinearSVC(max_iter=100)\n",
    "model.fit(X_train, y_train)\n",
    "\n",
    "print(model.score(X_train, y_train))\n",
    "print(model.score(X_test, y_test))\n",
    "\n",
    "pred = model.predict(X_test)\n",
    "pred_proba = model.predict_proba(X_test)[:,1]\n",
    "\n",
    "get_clf_eval(y_test, pred, pred_proba)"
   ]
  },
  {
   "cell_type": "code",
   "execution_count": null,
   "id": "a57a99f6",
   "metadata": {
    "ExecuteTime": {
     "start_time": "2022-12-23T08:48:34.298Z"
    }
   },
   "outputs": [],
   "source": [
    "model = NuSVC(max_iter=100, probability=True)\n",
    "model.fit(X_train, y_train)\n",
    "\n",
    "print(model.score(X_train, y_train))\n",
    "print(model.score(X_test, y_test))\n",
    "\n",
    "pred = model.predict(X_test)\n",
    "pred_proba = model.predict_proba(X_test)[:,1]\n",
    "\n",
    "get_clf_eval(y_test, pred, pred_proba)"
   ]
  },
  {
   "cell_type": "markdown",
   "id": "79324bf3",
   "metadata": {
    "ExecuteTime": {
     "end_time": "2022-12-23T07:17:42.418304Z",
     "start_time": "2022-12-23T07:17:42.401992Z"
    }
   },
   "source": [
    "# 서대훈"
   ]
  },
  {
   "cell_type": "markdown",
   "id": "76a8713d",
   "metadata": {
    "ExecuteTime": {
     "end_time": "2022-12-23T05:24:49.030333Z",
     "start_time": "2022-12-23T05:24:49.017366Z"
    }
   },
   "source": [
    "## Linear Regression"
   ]
  },
  {
   "cell_type": "code",
   "execution_count": null,
   "id": "974f41d5",
   "metadata": {
    "ExecuteTime": {
     "end_time": "2022-12-23T07:14:06.530163Z",
     "start_time": "2022-12-23T07:14:06.335741Z"
    }
   },
   "outputs": [],
   "source": [
    "from sklearn.linear_model import LinearRegression\n",
    "\n",
    "model = LinearRegression()\n",
    "model.fit(X_train, y_train)\n",
    "model.score(X_test, y_test)"
   ]
  },
  {
   "cell_type": "markdown",
   "id": "1fd096ee",
   "metadata": {},
   "source": [
    "## LightGBM "
   ]
  },
  {
   "cell_type": "code",
   "execution_count": null,
   "id": "27249739",
   "metadata": {
    "ExecuteTime": {
     "end_time": "2022-12-23T07:13:20.852482Z",
     "start_time": "2022-12-23T07:13:16.623714Z"
    }
   },
   "outputs": [],
   "source": [
    "from lightgbm import LGBMClassifier\n",
    "\n",
    "model = LGBMClassifier()\n",
    "model.fit(X_train, y_train)\n",
    "\n",
    "print(model.score(X_train, y_train))\n",
    "print(model.score(X_test, y_test))\n",
    "\n",
    "pred = model.predict(X_test)\n",
    "pred_proba = model.predict_proba(X_test)[:,1]\n",
    "\n",
    "get_clf_eval(y_test, pred, pred_proba)"
   ]
  },
  {
   "cell_type": "markdown",
   "id": "af62c849",
   "metadata": {
    "ExecuteTime": {
     "end_time": "2022-12-23T06:30:17.390180Z",
     "start_time": "2022-12-23T06:30:17.382142Z"
    }
   },
   "source": [
    "## Random Forest"
   ]
  },
  {
   "cell_type": "code",
   "execution_count": null,
   "id": "85ef48d6",
   "metadata": {
    "ExecuteTime": {
     "end_time": "2022-12-23T06:31:47.526489Z",
     "start_time": "2022-12-23T06:31:11.700919Z"
    }
   },
   "outputs": [],
   "source": [
    "from sklearn.ensemble import RandomForestClassifier\n",
    "\n",
    "model = RandomForestClassifier()\n",
    "model.fit(X_train, y_train)\n",
    "\n",
    "print(model.score(X_train, y_train))\n",
    "print(model.score(X_test, y_test))\n",
    "\n",
    "pred = model.predict(X_test)\n",
    "pred_proba = model.predict_proba(X_test)[:,1]\n",
    "\n",
    "get_clf_eval(y_test, pred, pred_proba)"
   ]
  },
  {
   "cell_type": "markdown",
   "id": "237db66e",
   "metadata": {},
   "source": [
    "# 손지호"
   ]
  },
  {
   "cell_type": "markdown",
   "id": "aa9df1a5",
   "metadata": {},
   "source": [
    "## Logistic Regression"
   ]
  },
  {
   "cell_type": "code",
   "execution_count": null,
   "id": "cfaa4e55",
   "metadata": {
    "ExecuteTime": {
     "end_time": "2022-12-23T07:14:09.003437Z",
     "start_time": "2022-12-23T07:14:08.261998Z"
    }
   },
   "outputs": [],
   "source": [
    "from sklearn.linear_model import LogisticRegression\n",
    "\n",
    "model = LogisticRegression()\n",
    "model.fit(X_train, y_train)\n",
    "pred = model.predict(X_test)\n",
    "pred_proba = model.predict_proba(X_test)[:,1]\n",
    "\n",
    "get_clf_eval(y_test, pred, pred_proba)"
   ]
  },
  {
   "cell_type": "markdown",
   "id": "a5bb5c18",
   "metadata": {},
   "source": [
    "## XGBClassifier"
   ]
  },
  {
   "cell_type": "code",
   "execution_count": null,
   "id": "564edf20",
   "metadata": {
    "ExecuteTime": {
     "end_time": "2022-12-23T07:13:13.763247Z",
     "start_time": "2022-12-23T07:12:59.423159Z"
    }
   },
   "outputs": [],
   "source": [
    "from xgboost import XGBClassifier\n",
    "\n",
    "model = XGBClassifier()\n",
    "model.fit(X_train, y_train)\n",
    "print(model.score(X_train, y_train))\n",
    "print(model.score(X_test, y_test))\n",
    "\n",
    "pred = model.predict(X_test)\n",
    "pred_proba = model.predict_proba(X_test)[:,1]\n",
    "\n",
    "get_clf_eval(y_test, pred, pred_proba)"
   ]
  },
  {
   "cell_type": "code",
   "execution_count": 26,
   "id": "9dc3797b",
   "metadata": {
    "ExecuteTime": {
     "end_time": "2022-12-26T07:09:41.630792Z",
     "start_time": "2022-12-26T07:09:41.375303Z"
    }
   },
   "outputs": [
    {
     "ename": "XGBoostError",
     "evalue": "Invalid Parameter format for learning_rate expect float but value='[0.01, 0.05, 0.1, 0, 15]'",
     "output_type": "error",
     "traceback": [
      "\u001b[1;31m---------------------------------------------------------------------------\u001b[0m",
      "\u001b[1;31mXGBoostError\u001b[0m                              Traceback (most recent call last)",
      "Cell \u001b[1;32mIn [26], line 21\u001b[0m\n\u001b[0;32m     18\u001b[0m wlist \u001b[38;5;241m=\u001b[39m [(dtrain,\u001b[38;5;124m'\u001b[39m\u001b[38;5;124mtrain\u001b[39m\u001b[38;5;124m'\u001b[39m),(dtest,\u001b[38;5;124m'\u001b[39m\u001b[38;5;124meval\u001b[39m\u001b[38;5;124m'\u001b[39m) ] \u001b[38;5;66;03m# eval 평가용\u001b[39;00m\n\u001b[0;32m     20\u001b[0m \u001b[38;5;66;03m# 모델학습\u001b[39;00m\n\u001b[1;32m---> 21\u001b[0m xgb_model \u001b[38;5;241m=\u001b[39m \u001b[43mxgb\u001b[49m\u001b[38;5;241;43m.\u001b[39;49m\u001b[43mtrain\u001b[49m\u001b[43m(\u001b[49m\u001b[43mparams\u001b[49m\u001b[43m \u001b[49m\u001b[38;5;241;43m=\u001b[39;49m\u001b[43m \u001b[49m\u001b[43mparams\u001b[49m\u001b[43m,\u001b[49m\n\u001b[0;32m     22\u001b[0m \u001b[43m                      \u001b[49m\u001b[43mdtrain\u001b[49m\u001b[43m \u001b[49m\u001b[38;5;241;43m=\u001b[39;49m\u001b[43m \u001b[49m\u001b[43mdtrain\u001b[49m\u001b[43m,\u001b[49m\n\u001b[0;32m     23\u001b[0m \u001b[43m                      \u001b[49m\u001b[43mnum_boost_round\u001b[49m\u001b[43m \u001b[49m\u001b[38;5;241;43m=\u001b[39;49m\u001b[43m \u001b[49m\u001b[43mnum_rounds\u001b[49m\u001b[43m,\u001b[49m\n\u001b[0;32m     24\u001b[0m \u001b[38;5;66;43;03m#                      early_stopping_rounds = 100, \u001b[39;49;00m\n\u001b[0;32m     25\u001b[0m \u001b[43m                      \u001b[49m\u001b[43mevals\u001b[49m\u001b[43m \u001b[49m\u001b[38;5;241;43m=\u001b[39;49m\u001b[43m \u001b[49m\u001b[43mwlist\u001b[49m\u001b[43m)\u001b[49m\n",
      "File \u001b[1;32mD:\\study\\Anaconda\\envs\\multicampus\\lib\\site-packages\\xgboost\\core.py:620\u001b[0m, in \u001b[0;36mrequire_keyword_args.<locals>.throw_if.<locals>.inner_f\u001b[1;34m(*args, **kwargs)\u001b[0m\n\u001b[0;32m    618\u001b[0m \u001b[38;5;28;01mfor\u001b[39;00m k, arg \u001b[38;5;129;01min\u001b[39;00m \u001b[38;5;28mzip\u001b[39m(sig\u001b[38;5;241m.\u001b[39mparameters, args):\n\u001b[0;32m    619\u001b[0m     kwargs[k] \u001b[38;5;241m=\u001b[39m arg\n\u001b[1;32m--> 620\u001b[0m \u001b[38;5;28;01mreturn\u001b[39;00m func(\u001b[38;5;241m*\u001b[39m\u001b[38;5;241m*\u001b[39mkwargs)\n",
      "File \u001b[1;32mD:\\study\\Anaconda\\envs\\multicampus\\lib\\site-packages\\xgboost\\training.py:185\u001b[0m, in \u001b[0;36mtrain\u001b[1;34m(params, dtrain, num_boost_round, evals, obj, feval, maximize, early_stopping_rounds, evals_result, verbose_eval, xgb_model, callbacks, custom_metric)\u001b[0m\n\u001b[0;32m    183\u001b[0m \u001b[38;5;28;01mif\u001b[39;00m cb_container\u001b[38;5;241m.\u001b[39mbefore_iteration(bst, i, dtrain, evals):\n\u001b[0;32m    184\u001b[0m     \u001b[38;5;28;01mbreak\u001b[39;00m\n\u001b[1;32m--> 185\u001b[0m \u001b[43mbst\u001b[49m\u001b[38;5;241;43m.\u001b[39;49m\u001b[43mupdate\u001b[49m\u001b[43m(\u001b[49m\u001b[43mdtrain\u001b[49m\u001b[43m,\u001b[49m\u001b[43m \u001b[49m\u001b[43mi\u001b[49m\u001b[43m,\u001b[49m\u001b[43m \u001b[49m\u001b[43mobj\u001b[49m\u001b[43m)\u001b[49m\n\u001b[0;32m    186\u001b[0m \u001b[38;5;28;01mif\u001b[39;00m cb_container\u001b[38;5;241m.\u001b[39mafter_iteration(bst, i, dtrain, evals):\n\u001b[0;32m    187\u001b[0m     \u001b[38;5;28;01mbreak\u001b[39;00m\n",
      "File \u001b[1;32mD:\\study\\Anaconda\\envs\\multicampus\\lib\\site-packages\\xgboost\\core.py:1918\u001b[0m, in \u001b[0;36mBooster.update\u001b[1;34m(self, dtrain, iteration, fobj)\u001b[0m\n\u001b[0;32m   1915\u001b[0m \u001b[38;5;28mself\u001b[39m\u001b[38;5;241m.\u001b[39m_validate_dmatrix_features(dtrain)\n\u001b[0;32m   1917\u001b[0m \u001b[38;5;28;01mif\u001b[39;00m fobj \u001b[38;5;129;01mis\u001b[39;00m \u001b[38;5;28;01mNone\u001b[39;00m:\n\u001b[1;32m-> 1918\u001b[0m     \u001b[43m_check_call\u001b[49m\u001b[43m(\u001b[49m\u001b[43m_LIB\u001b[49m\u001b[38;5;241;43m.\u001b[39;49m\u001b[43mXGBoosterUpdateOneIter\u001b[49m\u001b[43m(\u001b[49m\u001b[38;5;28;43mself\u001b[39;49m\u001b[38;5;241;43m.\u001b[39;49m\u001b[43mhandle\u001b[49m\u001b[43m,\u001b[49m\n\u001b[0;32m   1919\u001b[0m \u001b[43m                                            \u001b[49m\u001b[43mctypes\u001b[49m\u001b[38;5;241;43m.\u001b[39;49m\u001b[43mc_int\u001b[49m\u001b[43m(\u001b[49m\u001b[43miteration\u001b[49m\u001b[43m)\u001b[49m\u001b[43m,\u001b[49m\n\u001b[0;32m   1920\u001b[0m \u001b[43m                                            \u001b[49m\u001b[43mdtrain\u001b[49m\u001b[38;5;241;43m.\u001b[39;49m\u001b[43mhandle\u001b[49m\u001b[43m)\u001b[49m\u001b[43m)\u001b[49m\n\u001b[0;32m   1921\u001b[0m \u001b[38;5;28;01melse\u001b[39;00m:\n\u001b[0;32m   1922\u001b[0m     pred \u001b[38;5;241m=\u001b[39m \u001b[38;5;28mself\u001b[39m\u001b[38;5;241m.\u001b[39mpredict(dtrain, output_margin\u001b[38;5;241m=\u001b[39m\u001b[38;5;28;01mTrue\u001b[39;00m, training\u001b[38;5;241m=\u001b[39m\u001b[38;5;28;01mTrue\u001b[39;00m)\n",
      "File \u001b[1;32mD:\\study\\Anaconda\\envs\\multicampus\\lib\\site-packages\\xgboost\\core.py:279\u001b[0m, in \u001b[0;36m_check_call\u001b[1;34m(ret)\u001b[0m\n\u001b[0;32m    268\u001b[0m \u001b[38;5;124;03m\"\"\"Check the return value of C API call\u001b[39;00m\n\u001b[0;32m    269\u001b[0m \n\u001b[0;32m    270\u001b[0m \u001b[38;5;124;03mThis function will raise exception when error occurs.\u001b[39;00m\n\u001b[1;32m   (...)\u001b[0m\n\u001b[0;32m    276\u001b[0m \u001b[38;5;124;03m    return value from API calls\u001b[39;00m\n\u001b[0;32m    277\u001b[0m \u001b[38;5;124;03m\"\"\"\u001b[39;00m\n\u001b[0;32m    278\u001b[0m \u001b[38;5;28;01mif\u001b[39;00m ret \u001b[38;5;241m!=\u001b[39m \u001b[38;5;241m0\u001b[39m:\n\u001b[1;32m--> 279\u001b[0m     \u001b[38;5;28;01mraise\u001b[39;00m XGBoostError(py_str(_LIB\u001b[38;5;241m.\u001b[39mXGBGetLastError()))\n",
      "\u001b[1;31mXGBoostError\u001b[0m: Invalid Parameter format for learning_rate expect float but value='[0.01, 0.05, 0.1, 0, 15]'"
     ]
    }
   ],
   "source": [
    "import xgboost as xgb\n",
    "\n",
    "dtrain = xgb.DMatrix(data = X_train, label = y_train)\n",
    "dtest = xgb.DMatrix(data = X_test, label = y_test)\n",
    "\n",
    "# 파라미터 설정\n",
    "params = {\n",
    "    'n_estimators' : [100,200,300,400,500],\n",
    "    'eta' : [0.01,0.05,0.1,0,15], # learning_rate\n",
    "    'max_depth' : [3,5,7,10,15],\n",
    "    'gamma' : [0,1,2,3],\n",
    "    'colsample_bytree' : 0.8\n",
    "}\n",
    "\n",
    "# 모델개수\n",
    "num_rounds = 400\n",
    "\n",
    "wlist = [(dtrain,'train'),(dtest,'eval') ] # eval 평가용\n",
    "\n",
    "# 모델학습\n",
    "xgb_model = xgb.train(params = params,\n",
    "                      dtrain = dtrain,\n",
    "                      num_boost_round = num_rounds,\n",
    "#                      early_stopping_rounds = 100, \n",
    "                      evals = wlist)"
   ]
  },
  {
   "cell_type": "markdown",
   "id": "17ca4d07",
   "metadata": {},
   "source": [
    "## KNN Classifier"
   ]
  },
  {
   "cell_type": "code",
   "execution_count": null,
   "id": "da4bfdf0",
   "metadata": {
    "ExecuteTime": {
     "start_time": "2022-12-23T06:47:47.678Z"
    }
   },
   "outputs": [],
   "source": [
    "from sklearn.neighbors import KNeighborsClassifier\n",
    "\n",
    "model = KNeighborsClassifier()\n",
    "model.fit(X_train, y_train)\n",
    "\n",
    "print(model.score(X_train, y_train))\n",
    "print(model.score(X_test, y_test))\n",
    "\n",
    "pred = model.predict(X_test)\n",
    "pred_proba = model.predict_proba(X_test)[:,1]\n",
    "\n",
    "get_clf_eval(y_test, pred, pred_proba)"
   ]
  },
  {
   "cell_type": "code",
   "execution_count": null,
   "id": "d5517ecf",
   "metadata": {},
   "outputs": [],
   "source": []
  }
 ],
 "metadata": {
  "kernelspec": {
   "display_name": "eduvenv",
   "language": "python",
   "name": "eduvenv"
  },
  "language_info": {
   "codemirror_mode": {
    "name": "ipython",
    "version": 3
   },
   "file_extension": ".py",
   "mimetype": "text/x-python",
   "name": "python",
   "nbconvert_exporter": "python",
   "pygments_lexer": "ipython3",
   "version": "3.9.15"
  },
  "toc": {
   "base_numbering": 1,
   "nav_menu": {},
   "number_sections": true,
   "sideBar": true,
   "skip_h1_title": false,
   "title_cell": "Table of Contents",
   "title_sidebar": "Contents",
   "toc_cell": false,
   "toc_position": {
    "height": "calc(100% - 180px)",
    "left": "10px",
    "top": "150px",
    "width": "256px"
   },
   "toc_section_display": true,
   "toc_window_display": false
  },
  "varInspector": {
   "cols": {
    "lenName": 16,
    "lenType": 16,
    "lenVar": 40
   },
   "kernels_config": {
    "python": {
     "delete_cmd_postfix": "",
     "delete_cmd_prefix": "del ",
     "library": "var_list.py",
     "varRefreshCmd": "print(var_dic_list())"
    },
    "r": {
     "delete_cmd_postfix": ") ",
     "delete_cmd_prefix": "rm(",
     "library": "var_list.r",
     "varRefreshCmd": "cat(var_dic_list()) "
    }
   },
   "position": {
    "height": "498.844px",
    "left": "1545px",
    "right": "20px",
    "top": "142px",
    "width": "350px"
   },
   "types_to_exclude": [
    "module",
    "function",
    "builtin_function_or_method",
    "instance",
    "_Feature"
   ],
   "window_display": false
  }
 },
 "nbformat": 4,
 "nbformat_minor": 5
}

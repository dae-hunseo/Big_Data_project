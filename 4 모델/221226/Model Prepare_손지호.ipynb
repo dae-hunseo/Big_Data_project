{
 "cells": [
  {
   "cell_type": "markdown",
   "id": "304de2a1",
   "metadata": {},
   "source": [
    "# 기본 준비"
   ]
  },
  {
   "cell_type": "code",
   "execution_count": 1,
   "id": "cdd43360",
   "metadata": {
    "ExecuteTime": {
     "end_time": "2022-12-23T07:30:00.704067Z",
     "start_time": "2022-12-23T07:30:00.695066Z"
    }
   },
   "outputs": [],
   "source": [
    "import pandas as pd\n",
    "import numpy as np\n",
    "import matplotlib.pyplot as plt\n",
    "import matplotlib.ticker as ticker\n",
    "\n",
    "%matplotlib inline\n",
    "\n",
    "from sklearn.model_selection import train_test_split\n",
    "from sklearn.metrics import accuracy_score, precision_score, recall_score, roc_auc_score\n",
    "from sklearn.metrics import f1_score, confusion_matrix, precision_recall_curve, roc_curve\n",
    "from sklearn.preprocessing import Binarizer"
   ]
  },
  {
   "cell_type": "code",
   "execution_count": 2,
   "id": "f5118ab9",
   "metadata": {
    "ExecuteTime": {
     "end_time": "2022-12-23T07:30:01.634487Z",
     "start_time": "2022-12-23T07:30:01.610481Z"
    }
   },
   "outputs": [],
   "source": [
    "# 오차행렬 및 평가지표 출력\n",
    "def get_clf_eval(y_test, pred=None, pred_proba=None):\n",
    "    confusion = confusion_matrix( y_test, pred)\n",
    "    accuracy = accuracy_score(y_test , pred)\n",
    "    precision = precision_score(y_test , pred)\n",
    "    recall = recall_score(y_test , pred)\n",
    "    f1 = f1_score(y_test,pred)\n",
    "\n",
    "    roc_auc = roc_auc_score(y_test, pred_proba)\n",
    "    print('오차 행렬')\n",
    "    print(confusion)\n",
    "\n",
    "    print('정확도: {0:.4f}, 정밀도: {1:.4f}, 재현율: {2:.4f}, F1: {3:.4f}, AUC:{4:.4f}'.format(accuracy, precision, recall, f1, roc_auc))\n",
    "\n",
    "\n",
    "# 임계값 조정\n",
    "def get_eval_by_threshold(y_test, pred, pred_proba_c1, thresholds):\n",
    "    pred_proba_c1 = pred_proba_c1.reshape(-1, 1)\n",
    "    for custom_threshold in thresholds:\n",
    "        bina = Binarizer(threshold=custom_threshold).fit(pred_proba_c1)\n",
    "        custom_predict = bina.transform(pred_proba_c1)\n",
    "        print('분류 임계값 :', custom_threshold)\n",
    "        get_clf_eval(y_test, pred, custom_predict)\n",
    "    \n",
    "\n",
    "# precision recall curve 그리기\n",
    "def precision_recall_curve_plot(y_test, pred_proba_c1): \n",
    "    precisions, recalls, thresholds = precision_recall_curve(y_test, pred_proba_c1)\n",
    "    \n",
    "    plt.figure(figsize=(8,6))\n",
    "    threshold_boundary = thresholds.shape[0]\n",
    "\n",
    "    plt.plot(thresholds, precisions[0:threshold_boundary], linestyle='--', label='precision') \n",
    "    plt.plot(thresholds, recalls[0:threshold_boundary],label='recall')\n",
    "\n",
    "    start, end = plt.xlim() # X축 범위 반환\n",
    "    plt.xticks(np.round(np.arange(start, end, 0.1),2))\n",
    "    \n",
    "    plt.xlabel('Threshold value'); plt.ylabel('Precision and Recall value')\n",
    "    plt.legend(); plt.grid()\n",
    "    plt.show()"
   ]
  },
  {
   "cell_type": "code",
   "execution_count": 3,
   "id": "321274dd",
   "metadata": {
    "ExecuteTime": {
     "end_time": "2022-12-23T07:12:36.946731Z",
     "start_time": "2022-12-23T07:12:35.124012Z"
    }
   },
   "outputs": [],
   "source": [
    "brfss = pd.read_csv(\"./data_2/brfss.csv\")\n",
    "checkup = pd.read_csv(\"./data_2/checkup.csv\")"
   ]
  },
  {
   "cell_type": "markdown",
   "id": "67bb5901",
   "metadata": {},
   "source": [
    "### 데이터 분할"
   ]
  },
  {
   "cell_type": "code",
   "execution_count": 4,
   "id": "3f0c8b79",
   "metadata": {
    "ExecuteTime": {
     "end_time": "2022-12-23T07:12:37.022125Z",
     "start_time": "2022-12-23T07:12:37.010277Z"
    }
   },
   "outputs": [],
   "source": [
    "# X = brfss.drop([\"HEARTDISEASE\"], axis=1)\n",
    "X = brfss.drop([\"HEARTDISEASE\", \"ALCOHOL\"], axis=1)\n",
    "y = brfss[\"HEARTDISEASE\"]"
   ]
  },
  {
   "cell_type": "code",
   "execution_count": 5,
   "id": "806f3cc3",
   "metadata": {
    "ExecuteTime": {
     "end_time": "2022-12-23T07:12:37.129299Z",
     "start_time": "2022-12-23T07:12:37.101369Z"
    }
   },
   "outputs": [
    {
     "data": {
      "text/plain": [
       "0.0    358424\n",
       "1.0     20222\n",
       "Name: HEARTDISEASE, dtype: int64"
      ]
     },
     "execution_count": 5,
     "metadata": {},
     "output_type": "execute_result"
    }
   ],
   "source": [
    "y.value_counts()"
   ]
  },
  {
   "cell_type": "code",
   "execution_count": 6,
   "id": "741a46dd",
   "metadata": {
    "ExecuteTime": {
     "end_time": "2022-12-23T07:14:03.089962Z",
     "start_time": "2022-12-23T07:14:01.904146Z"
    }
   },
   "outputs": [
    {
     "data": {
      "text/plain": [
       "0.0    286703\n",
       "1.0    286703\n",
       "Name: HEARTDISEASE, dtype: int64"
      ]
     },
     "execution_count": 6,
     "metadata": {},
     "output_type": "execute_result"
    }
   ],
   "source": [
    "from sklearn.model_selection import train_test_split\n",
    "from imblearn.over_sampling import SMOTE\n",
    "from sklearn.preprocessing import StandardScaler, MinMaxScaler\n",
    "\n",
    "X_train, X_test, y_train, y_test = train_test_split(X, y, test_size=.2)\n",
    "\n",
    "# scaler\n",
    "#scaler = StandardScaler()\n",
    "# scaler = MinMaxScaler()\n",
    "#scaler.fit(X_train)\n",
    "#X_train = scaler.transform(X_train)\n",
    "#X_test = scaler.transform(X_test)\n",
    "\n",
    "# smote\n",
    "smote = SMOTE()\n",
    "X_train, y_train = smote.fit_resample(X_train, y_train)\n",
    "y_train.value_counts()"
   ]
  },
  {
   "cell_type": "markdown",
   "id": "59723c0d",
   "metadata": {},
   "source": [
    "# 할 일\n",
    "- 하이퍼 파라미터 튜닝\n",
    "    - 각 모델 document 보면서 찾아보기\n",
    "- 임계점 변경\n",
    "    - 변경해보면서 최적값 찾기"
   ]
  },
  {
   "cell_type": "markdown",
   "id": "5e280016",
   "metadata": {},
   "source": [
    "# 박민정"
   ]
  },
  {
   "cell_type": "markdown",
   "id": "25ca6152",
   "metadata": {},
   "source": [
    "## DecisionTree"
   ]
  },
  {
   "cell_type": "code",
   "execution_count": 30,
   "id": "881f303f",
   "metadata": {
    "ExecuteTime": {
     "end_time": "2022-12-23T07:31:39.982536Z",
     "start_time": "2022-12-23T07:31:38.708853Z"
    }
   },
   "outputs": [
    {
     "name": "stdout",
     "output_type": "stream",
     "text": [
      "0.7110940579381552\n",
      "0.6567014393239139\n",
      "오차 행렬\n",
      "[[46698 25041]\n",
      " [  957  3034]]\n",
      "정확도: 0.6567, 정밀도: 0.1081, 재현율: 0.7602, F1: 0.1892, AUC:0.7696\n",
      "분류 임계값 : 0.5\n",
      "오차 행렬\n",
      "[[46698 25041]\n",
      " [  957  3034]]\n",
      "정확도: 0.6567, 정밀도: 0.1081, 재현율: 0.7602, F1: 0.1892, AUC:0.7056\n",
      "분류 임계값 : 0.55\n",
      "오차 행렬\n",
      "[[46698 25041]\n",
      " [  957  3034]]\n",
      "정확도: 0.6567, 정밀도: 0.1081, 재현율: 0.7602, F1: 0.1892, AUC:0.7048\n",
      "분류 임계값 : 0.6\n",
      "오차 행렬\n",
      "[[46698 25041]\n",
      " [  957  3034]]\n",
      "정확도: 0.6567, 정밀도: 0.1081, 재현율: 0.7602, F1: 0.1892, AUC:0.6923\n"
     ]
    }
   ],
   "source": [
    "from sklearn.tree import DecisionTreeClassifier\n",
    "\n",
    "model = DecisionTreeClassifier()\n",
    "model.fit(X_train, y_train)\n",
    "print(model.score(X_train, y_train))\n",
    "print(model.score(X_test, y_test))\n",
    "\n",
    "pred = model.predict(X_test)\n",
    "pred_proba = model.predict_proba(X_test)[:,1]\n",
    "\n",
    "get_clf_eval(y_test, pred, pred_proba)\n",
    "\n",
    "# 임계값 조정 예시\n",
    "thresholds = [0.5, 0.55, 0.6]\n",
    "get_eval_by_threshold(y_test, pred, pred_proba, thresholds)"
   ]
  },
  {
   "cell_type": "code",
   "execution_count": 31,
   "id": "1be5bc33",
   "metadata": {
    "ExecuteTime": {
     "end_time": "2022-12-23T07:35:26.005953Z",
     "start_time": "2022-12-23T07:35:25.774938Z"
    }
   },
   "outputs": [
    {
     "data": {
      "image/png": "[encoded data removed]",
      "text/plain": [
       "<Figure size 800x600 with 1 Axes>"
      ]
     },
     "metadata": {},
     "output_type": "display_data"
    }
   ],
   "source": [
    "# 임계값 그래프\n",
    "precision_recall_curve_plot(y_test, pred_proba)"
   ]
  },
  {
   "cell_type": "markdown",
   "id": "068e133a",
   "metadata": {
    "ExecuteTime": {
     "end_time": "2022-12-23T05:30:52.564141Z",
     "start_time": "2022-12-23T05:30:52.556165Z"
    }
   },
   "source": [
    "## SGDClassifier"
   ]
  },
  {
   "cell_type": "code",
   "execution_count": 17,
   "id": "705da419",
   "metadata": {
    "ExecuteTime": {
     "end_time": "2022-12-23T07:14:11.394518Z",
     "start_time": "2022-12-23T07:14:10.210298Z"
    }
   },
   "outputs": [
    {
     "name": "stdout",
     "output_type": "stream",
     "text": [
      "0.7078343826848283\n",
      "0.6706589198468242\n",
      "오차 행렬\n",
      "[[47835 23904]\n",
      " [ 1037  2954]]\n",
      "정확도: 0.6707, 정밀도: 0.1100, 재현율: 0.7402, F1: 0.1915, AUC:0.7691\n"
     ]
    }
   ],
   "source": [
    "from sklearn.linear_model import SGDClassifier\n",
    "model = SGDClassifier(loss=\"log_loss\", max_iter=10)\n",
    "model.fit(X_train, y_train)\n",
    "print(model.score(X_train, y_train))\n",
    "print(model.score(X_test, y_test))\n",
    "\n",
    "pred = model.predict(X_test)\n",
    "pred_proba = model.predict_proba(X_test)[:,1]\n",
    "\n",
    "get_clf_eval(y_test, pred, pred_proba)"
   ]
  },
  {
   "cell_type": "markdown",
   "id": "a1111a24",
   "metadata": {},
   "source": [
    "## SVM"
   ]
  },
  {
   "cell_type": "code",
   "execution_count": null,
   "id": "ef3a2eeb",
   "metadata": {
    "ExecuteTime": {
     "start_time": "2022-12-23T06:42:41.322Z"
    }
   },
   "outputs": [],
   "source": [
    "from sklearn.svm import SVC\n",
    "\n",
    "model = SVC()\n",
    "model.fit(X_train, y_train)\n",
    "\n",
    "print(model.score(X_train, y_train))\n",
    "print(model.score(X_test, y_test))\n",
    "\n",
    "pred = model.predict(X_test)\n",
    "pred_proba = model.predict_proba(X_test)[:,1]\n",
    "\n",
    "get_clf_eval(y_test, pred, pred_proba)"
   ]
  },
  {
   "cell_type": "markdown",
   "id": "643e261e",
   "metadata": {
    "ExecuteTime": {
     "end_time": "2022-12-23T07:17:42.418304Z",
     "start_time": "2022-12-23T07:17:42.401992Z"
    }
   },
   "source": [
    "# 서대훈"
   ]
  },
  {
   "cell_type": "markdown",
   "id": "76a8713d",
   "metadata": {
    "ExecuteTime": {
     "end_time": "2022-12-23T05:24:49.030333Z",
     "start_time": "2022-12-23T05:24:49.017366Z"
    }
   },
   "source": [
    "## Linear Regression"
   ]
  },
  {
   "cell_type": "code",
   "execution_count": 15,
   "id": "974f41d5",
   "metadata": {
    "ExecuteTime": {
     "end_time": "2022-12-23T07:14:06.530163Z",
     "start_time": "2022-12-23T07:14:06.335741Z"
    }
   },
   "outputs": [
    {
     "data": {
      "text/plain": [
       "-2.8939165652334635"
      ]
     },
     "execution_count": 15,
     "metadata": {},
     "output_type": "execute_result"
    }
   ],
   "source": [
    "from sklearn.linear_model import LinearRegression\n",
    "\n",
    "model = LinearRegression()\n",
    "model.fit(X_train, y_train)\n",
    "model.score(X_test, y_test)"
   ]
  },
  {
   "cell_type": "markdown",
   "id": "1fd096ee",
   "metadata": {},
   "source": [
    "## LightGBM "
   ]
  },
  {
   "cell_type": "code",
   "execution_count": 13,
   "id": "27249739",
   "metadata": {
    "ExecuteTime": {
     "end_time": "2022-12-23T07:13:20.852482Z",
     "start_time": "2022-12-23T07:13:16.623714Z"
    }
   },
   "outputs": [
    {
     "name": "stdout",
     "output_type": "stream",
     "text": [
      "0.7105471419208189\n",
      "0.656410933579823\n",
      "오차 행렬\n",
      "[[46554 25034]\n",
      " [  986  3156]]\n",
      "정확도: 0.6564, 정밀도: 0.1120, 재현율: 0.7620, F1: 0.1952, AUC:0.7700\n"
     ]
    }
   ],
   "source": [
    "from lightgbm import LGBMClassifier\n",
    "\n",
    "model = LGBMClassifier()\n",
    "model.fit(X_train, y_train)\n",
    "\n",
    "print(model.score(X_train, y_train))\n",
    "print(model.score(X_test, y_test))\n",
    "\n",
    "pred = model.predict(X_test)\n",
    "pred_proba = model.predict_proba(X_test)[:,1]\n",
    "\n",
    "get_clf_eval(y_test, pred, pred_proba)"
   ]
  },
  {
   "cell_type": "markdown",
   "id": "af62c849",
   "metadata": {
    "ExecuteTime": {
     "end_time": "2022-12-23T06:30:17.390180Z",
     "start_time": "2022-12-23T06:30:17.382142Z"
    }
   },
   "source": [
    "## Random Forest"
   ]
  },
  {
   "cell_type": "code",
   "execution_count": 11,
   "id": "85ef48d6",
   "metadata": {
    "ExecuteTime": {
     "end_time": "2022-12-23T06:31:47.526489Z",
     "start_time": "2022-12-23T06:31:11.700919Z"
    }
   },
   "outputs": [
    {
     "name": "stdout",
     "output_type": "stream",
     "text": [
      "0.7105211755924352\n",
      "0.6586293410801531\n",
      "오차 행렬\n",
      "[[46843 24883]\n",
      " [  969  3035]]\n",
      "정확도: 0.6586, 정밀도: 0.1087, 재현율: 0.7580, F1: 0.1902, AUC:0.7665\n"
     ]
    }
   ],
   "source": [
    "from sklearn.ensemble import RandomForestClassifier\n",
    "\n",
    "model = RandomForestClassifier()\n",
    "model.fit(X_train, y_train)\n",
    "\n",
    "print(model.score(X_train, y_train))\n",
    "print(model.score(X_test, y_test))\n",
    "\n",
    "pred = model.predict(X_test)\n",
    "pred_proba = model.predict_proba(X_test)[:,1]\n",
    "\n",
    "get_clf_eval(y_test, pred, pred_proba)"
   ]
  },
  {
   "cell_type": "markdown",
   "id": "56f92f4d",
   "metadata": {},
   "source": [
    "# 손지호"
   ]
  },
  {
   "cell_type": "markdown",
   "id": "aa9df1a5",
   "metadata": {},
   "source": [
    "## Logistic Regression"
   ]
  },
  {
   "cell_type": "code",
   "execution_count": 12,
   "id": "cfaa4e55",
   "metadata": {
    "ExecuteTime": {
     "end_time": "2022-12-23T07:14:09.003437Z",
     "start_time": "2022-12-23T07:14:08.261998Z"
    }
   },
   "outputs": [
    {
     "name": "stdout",
     "output_type": "stream",
     "text": [
      "오차 행렬\n",
      "[[50422 21270]\n",
      " [ 1173  2865]]\n",
      "정확도: 0.7036, 정밀도: 0.1187, 재현율: 0.7095, F1: 0.2034, AUC:0.7772\n"
     ]
    }
   ],
   "source": [
    "from sklearn.linear_model import LogisticRegression\n",
    "\n",
    "model = LogisticRegression()\n",
    "model.fit(X_train, y_train)\n",
    "pred = model.predict(X_test)\n",
    "pred_proba = model.predict_proba(X_test)[:,1]\n",
    "\n",
    "get_clf_eval(y_test, pred, pred_proba)"
   ]
  },
  {
   "cell_type": "code",
   "execution_count": 27,
   "id": "5af26067-fb77-4cad-92d4-babfbc9620c4",
   "metadata": {},
   "outputs": [
    {
     "name": "stdout",
     "output_type": "stream",
     "text": [
      "0.7084812306919853\n",
      "0.707236233989172\n",
      "오차 행렬\n",
      "[[50670 20956]\n",
      " [ 1215  2889]]\n",
      "정확도: 0.7072, 정밀도: 0.1212, 재현율: 0.7039, F1: 0.2067, AUC:0.7764\n",
      "분류 임계값 : 0.5\n",
      "오차 행렬\n",
      "[[50670 20956]\n",
      " [ 1215  2889]]\n",
      "정확도: 0.7072, 정밀도: 0.1212, 재현율: 0.7039, F1: 0.2067, AUC:0.7057\n",
      "분류 임계값 : 0.55\n",
      "오차 행렬\n",
      "[[50670 20956]\n",
      " [ 1215  2889]]\n",
      "정확도: 0.7072, 정밀도: 0.1212, 재현율: 0.7039, F1: 0.2067, AUC:0.7003\n",
      "분류 임계값 : 0.6\n",
      "오차 행렬\n",
      "[[50670 20956]\n",
      " [ 1215  2889]]\n",
      "정확도: 0.7072, 정밀도: 0.1212, 재현율: 0.7039, F1: 0.2067, AUC:0.6906\n"
     ]
    }
   ],
   "source": [
    "from sklearn.linear_model import LogisticRegression\n",
    "\n",
    "model = LogisticRegression()\n",
    "model.fit(X_train, y_train)\n",
    "print(model.score(X_train, y_train))\n",
    "print(model.score(X_test, y_test))\n",
    "\n",
    "pred = model.predict(X_test)\n",
    "pred_proba = model.predict_proba(X_test)[:,1]\n",
    "\n",
    "get_clf_eval(y_test, pred, pred_proba)\n",
    "\n",
    "# 임계값 조정\n",
    "thresholds = [0.5, 0.55, 0.6]\n",
    "get_eval_by_threshold(y_test, pred, pred_proba, thresholds)"
   ]
  },
  {
   "cell_type": "code",
   "execution_count": 28,
   "id": "f1abdc1b-8302-444e-a82e-d7340b8bcb0c",
   "metadata": {
    "tags": []
   },
   "outputs": [
    {
     "data": {
      "image/png": "[encoded data removed]",
      "text/plain": [
       "<Figure size 800x600 with 1 Axes>"
      ]
     },
     "metadata": {},
     "output_type": "display_data"
    }
   ],
   "source": [
    "# 임계값 그래프\n",
    "precision_recall_curve_plot(y_test, pred_proba)"
   ]
  },
  {
   "cell_type": "code",
   "execution_count": 34,
   "id": "3ddbcc8a-e333-4459-bdf1-a33ebc81e2a3",
   "metadata": {},
   "outputs": [
    {
     "name": "stdout",
     "output_type": "stream",
     "text": [
      "0.7084812306919853\n",
      "0.707236233989172\n",
      "오차 행렬\n",
      "[[50670 20956]\n",
      " [ 1215  2889]]\n",
      "정확도: 0.7072, 정밀도: 0.1212, 재현율: 0.7039, F1: 0.2067, AUC:0.7764\n",
      "분류 임계값 : 0.78\n",
      "오차 행렬\n",
      "[[50670 20956]\n",
      " [ 1215  2889]]\n",
      "정확도: 0.7072, 정밀도: 0.1212, 재현율: 0.7039, F1: 0.2067, AUC:0.6002\n",
      "분류 임계값 : 0.8\n",
      "오차 행렬\n",
      "[[50670 20956]\n",
      " [ 1215  2889]]\n",
      "정확도: 0.7072, 정밀도: 0.1212, 재현율: 0.7039, F1: 0.2067, AUC:0.5903\n",
      "분류 임계값 : 0.82\n",
      "오차 행렬\n",
      "[[50670 20956]\n",
      " [ 1215  2889]]\n",
      "정확도: 0.7072, 정밀도: 0.1212, 재현율: 0.7039, F1: 0.2067, AUC:0.5752\n"
     ]
    }
   ],
   "source": [
    "from sklearn.linear_model import LogisticRegression\n",
    "\n",
    "model = LogisticRegression()\n",
    "model.fit(X_train, y_train)\n",
    "print(model.score(X_train, y_train))\n",
    "print(model.score(X_test, y_test))\n",
    "\n",
    "pred = model.predict(X_test)\n",
    "pred_proba = model.predict_proba(X_test)[:,1]\n",
    "\n",
    "get_clf_eval(y_test, pred, pred_proba)\n",
    "\n",
    "# 임계값 조정\n",
    "thresholds = [0.78, 0.8, 0.82]\n",
    "get_eval_by_threshold(y_test, pred, pred_proba, thresholds)"
   ]
  },
  {
   "cell_type": "code",
   "execution_count": 21,
   "id": "930eb89b-b144-47ba-abb6-44e99b3c8b6c",
   "metadata": {},
   "outputs": [
    {
     "data": {
      "image/png": "[encoded data removed]",
      "text/plain": [
       "<Figure size 800x600 with 1 Axes>"
      ]
     },
     "metadata": {},
     "output_type": "display_data"
    }
   ],
   "source": [
    "# 임계값 그래프\n",
    "precision_recall_curve_plot(y_test, pred_proba)"
   ]
  },
  {
   "cell_type": "code",
   "execution_count": 65,
   "id": "632d55cc-a891-4d64-a7db-f69b7f6d02b5",
   "metadata": {},
   "outputs": [],
   "source": [
    "# X = brfss.drop([\"HEARTDISEASE\"], axis=1)\n",
    "X = brfss.drop([\"HEARTDISEASE\", \"ALCOHOL\"], axis=1).to_numpy()\n",
    "y = brfss[\"HEARTDISEASE\"].to_numpy()"
   ]
  },
  {
   "cell_type": "code",
   "execution_count": 66,
   "id": "3d446cfb-43d5-4d1e-8389-608790ae1ce2",
   "metadata": {},
   "outputs": [],
   "source": [
    "from sklearn.model_selection import train_test_split\n",
    "\n",
    "#train_input, test_input, train_target, test_target = train_test_split(\n",
    "#    fish_input, fish_target, random_state=42)\n",
    "\n",
    "X_train, X_test, y_train, y_test = train_test_split(X, y, random_state=42)"
   ]
  },
  {
   "cell_type": "code",
   "execution_count": 67,
   "id": "2ac535d3-5d55-4ee8-a1e8-d8274f46d90c",
   "metadata": {},
   "outputs": [],
   "source": [
    "from sklearn.preprocessing import StandardScaler\n",
    "ss = StandardScaler()\n",
    "ss.fit(X_train) # 훈련세트의 통계값으로\n",
    "train_scaled = ss.transform(X_train)\n",
    "test_scaled = ss.transform(X_test) # 테스트 세트를 반환"
   ]
  },
  {
   "cell_type": "code",
   "execution_count": 71,
   "id": "eecdbe02-4fef-4949-9aca-09b3fd39a347",
   "metadata": {},
   "outputs": [
    {
     "name": "stdout",
     "output_type": "stream",
     "text": [
      "0.9397818186940109\n",
      "0.9343664828547886\n"
     ]
    }
   ],
   "source": [
    "from sklearn.neighbors import KNeighborsClassifier\n",
    "kn = KNeighborsClassifier(n_neighbors = 3)\n",
    "kn.fit(train_scaled, y_train)\n",
    "print(kn.score(train_scaled, y_train))\n",
    "print(kn.score(test_scaled, y_test))"
   ]
  },
  {
   "cell_type": "code",
   "execution_count": 72,
   "id": "528b8c9a-f05f-4739-8c8a-e336fbf2c199",
   "metadata": {},
   "outputs": [
    {
     "name": "stdout",
     "output_type": "stream",
     "text": [
      "[0. 1.]\n"
     ]
    }
   ],
   "source": [
    "print(kn.classes_)"
   ]
  },
  {
   "cell_type": "code",
   "execution_count": 73,
   "id": "4ce5ddc7-a9b8-4801-8fbd-063d5501cd36",
   "metadata": {},
   "outputs": [
    {
     "name": "stdout",
     "output_type": "stream",
     "text": [
      "[0. 0. 1. 0. 0.]\n"
     ]
    }
   ],
   "source": [
    "print(kn.predict(test_scaled[:5]))"
   ]
  },
  {
   "cell_type": "code",
   "execution_count": 74,
   "id": "f194822f-8551-4eb8-b490-1cddaf564677",
   "metadata": {},
   "outputs": [
    {
     "name": "stdout",
     "output_type": "stream",
     "text": [
      "[[0.6667 0.3333]\n",
      " [1.     0.    ]\n",
      " [0.3333 0.6667]\n",
      " [1.     0.    ]\n",
      " [1.     0.    ]]\n"
     ]
    }
   ],
   "source": [
    "import numpy as nmp\n",
    "proba = kn.predict_proba(test_scaled[:5])\n",
    "print(np.round(proba, decimals = 4))"
   ]
  },
  {
   "cell_type": "code",
   "execution_count": 75,
   "id": "1d9fd2f2-8af6-4a71-8da6-2804d15fbacf",
   "metadata": {},
   "outputs": [
    {
     "name": "stdout",
     "output_type": "stream",
     "text": [
      "[[0. 0. 0.]]\n"
     ]
    }
   ],
   "source": [
    "distance, indexes = kn.kneighbors(test_scaled[3:4])\n",
    "print(y_train[indexes])"
   ]
  },
  {
   "cell_type": "code",
   "execution_count": 77,
   "id": "fda60d56-3ea0-4ca3-a113-f8a550d49a07",
   "metadata": {},
   "outputs": [],
   "source": [
    "from sklearn.linear_model import LogisticRegression"
   ]
  },
  {
   "cell_type": "code",
   "execution_count": 78,
   "id": "927a9f07-475f-4614-8863-9fe2cc850fa1",
   "metadata": {},
   "outputs": [
    {
     "data": {
      "text/html": [
       "<style>#sk-container-id-1 {color: black;background-color: white;}#sk-container-id-1 pre{padding: 0;}#sk-container-id-1 div.sk-toggleable {background-color: white;}#sk-container-id-1 label.sk-toggleable__label {cursor: pointer;display: block;width: 100%;margin-bottom: 0;padding: 0.3em;box-sizing: border-box;text-align: center;}#sk-container-id-1 label.sk-toggleable__label-arrow:before {content: \"▸\";float: left;margin-right: 0.25em;color: #696969;}#sk-container-id-1 label.sk-toggleable__label-arrow:hover:before {color: black;}#sk-container-id-1 div.sk-estimator:hover label.sk-toggleable__label-arrow:before {color: black;}#sk-container-id-1 div.sk-toggleable__content {max-height: 0;max-width: 0;overflow: hidden;text-align: left;background-color: #f0f8ff;}#sk-container-id-1 div.sk-toggleable__content pre {margin: 0.2em;color: black;border-radius: 0.25em;background-color: #f0f8ff;}#sk-container-id-1 input.sk-toggleable__control:checked~div.sk-toggleable__content {max-height: 200px;max-width: 100%;overflow: auto;}#sk-container-id-1 input.sk-toggleable__control:checked~label.sk-toggleable__label-arrow:before {content: \"▾\";}#sk-container-id-1 div.sk-estimator input.sk-toggleable__control:checked~label.sk-toggleable__label {background-color: #d4ebff;}#sk-container-id-1 div.sk-label input.sk-toggleable__control:checked~label.sk-toggleable__label {background-color: #d4ebff;}#sk-container-id-1 input.sk-hidden--visually {border: 0;clip: rect(1px 1px 1px 1px);clip: rect(1px, 1px, 1px, 1px);height: 1px;margin: -1px;overflow: hidden;padding: 0;position: absolute;width: 1px;}#sk-container-id-1 div.sk-estimator {font-family: monospace;background-color: #f0f8ff;border: 1px dotted black;border-radius: 0.25em;box-sizing: border-box;margin-bottom: 0.5em;}#sk-container-id-1 div.sk-estimator:hover {background-color: #d4ebff;}#sk-container-id-1 div.sk-parallel-item::after {content: \"\";width: 100%;border-bottom: 1px solid gray;flex-grow: 1;}#sk-container-id-1 div.sk-label:hover label.sk-toggleable__label {background-color: #d4ebff;}#sk-container-id-1 div.sk-serial::before {content: \"\";position: absolute;border-left: 1px solid gray;box-sizing: border-box;top: 0;bottom: 0;left: 50%;z-index: 0;}#sk-container-id-1 div.sk-serial {display: flex;flex-direction: column;align-items: center;background-color: white;padding-right: 0.2em;padding-left: 0.2em;position: relative;}#sk-container-id-1 div.sk-item {position: relative;z-index: 1;}#sk-container-id-1 div.sk-parallel {display: flex;align-items: stretch;justify-content: center;background-color: white;position: relative;}#sk-container-id-1 div.sk-item::before, #sk-container-id-1 div.sk-parallel-item::before {content: \"\";position: absolute;border-left: 1px solid gray;box-sizing: border-box;top: 0;bottom: 0;left: 50%;z-index: -1;}#sk-container-id-1 div.sk-parallel-item {display: flex;flex-direction: column;z-index: 1;position: relative;background-color: white;}#sk-container-id-1 div.sk-parallel-item:first-child::after {align-self: flex-end;width: 50%;}#sk-container-id-1 div.sk-parallel-item:last-child::after {align-self: flex-start;width: 50%;}#sk-container-id-1 div.sk-parallel-item:only-child::after {width: 0;}#sk-container-id-1 div.sk-dashed-wrapped {border: 1px dashed gray;margin: 0 0.4em 0.5em 0.4em;box-sizing: border-box;padding-bottom: 0.4em;background-color: white;}#sk-container-id-1 div.sk-label label {font-family: monospace;font-weight: bold;display: inline-block;line-height: 1.2em;}#sk-container-id-1 div.sk-label-container {text-align: center;}#sk-container-id-1 div.sk-container {/* jupyter's `normalize.less` sets `[hidden] { display: none; }` but bootstrap.min.css set `[hidden] { display: none !important; }` so we also need the `!important` here to be able to override the default hidden behavior on the sphinx rendered scikit-learn.org. See: https://github.com/scikit-learn/scikit-learn/issues/21755 */display: inline-block !important;position: relative;}#sk-container-id-1 div.sk-text-repr-fallback {display: none;}</style><div id=\"sk-container-id-1\" class=\"sk-top-container\"><div class=\"sk-text-repr-fallback\"><pre>LogisticRegression(C=20, max_iter=1000)</pre><b>In a Jupyter environment, please rerun this cell to show the HTML representation or trust the notebook. <br />On GitHub, the HTML representation is unable to render, please try loading this page with nbviewer.org.</b></div><div class=\"sk-container\" hidden><div class=\"sk-item\"><div class=\"sk-estimator sk-toggleable\"><input class=\"sk-toggleable__control sk-hidden--visually\" id=\"sk-estimator-id-1\" type=\"checkbox\" checked><label for=\"sk-estimator-id-1\" class=\"sk-toggleable__label sk-toggleable__label-arrow\">LogisticRegression</label><div class=\"sk-toggleable__content\"><pre>LogisticRegression(C=20, max_iter=1000)</pre></div></div></div></div></div>"
      ],
      "text/plain": [
       "LogisticRegression(C=20, max_iter=1000)"
      ]
     },
     "execution_count": 78,
     "metadata": {},
     "output_type": "execute_result"
    }
   ],
   "source": [
    "# 규제를 좀 완화하기 위해 C=20, 충분한 반복 학습을 위해 max_iter=1000\n",
    "lr = LogisticRegression(C=20, max_iter=1000)\n",
    "lr.fit(train_scaled, y_train)"
   ]
  },
  {
   "cell_type": "code",
   "execution_count": 79,
   "id": "c93643ac-5bad-4253-8db2-457b138cdec5",
   "metadata": {},
   "outputs": [
    {
     "name": "stdout",
     "output_type": "stream",
     "text": [
      "0.9462610569609555\n",
      "0.9468318860788912\n"
     ]
    }
   ],
   "source": [
    "print(lr.score(train_scaled, y_train))\n",
    "print(lr.score(test_scaled, y_test))"
   ]
  },
  {
   "cell_type": "code",
   "execution_count": 51,
   "id": "79fce56f-5c64-4ae1-ac21-bff51dca5a80",
   "metadata": {},
   "outputs": [
    {
     "name": "stdout",
     "output_type": "stream",
     "text": [
      "[[0.827 0.173]\n",
      " [0.927 0.073]\n",
      " [0.812 0.188]\n",
      " [0.986 0.014]\n",
      " [0.989 0.011]]\n"
     ]
    }
   ],
   "source": [
    "proba = lr.predict_proba(test_scaled[:5])\n",
    "print(np.round(proba, decimals=3))"
   ]
  },
  {
   "cell_type": "code",
   "execution_count": 52,
   "id": "86aabdd8-bbf5-4d02-871e-b48ed4343624",
   "metadata": {},
   "outputs": [
    {
     "data": {
      "text/html": [
       "<div>\n",
       "<style scoped>\n",
       "    .dataframe tbody tr th:only-of-type {\n",
       "        vertical-align: middle;\n",
       "    }\n",
       "\n",
       "    .dataframe tbody tr th {\n",
       "        vertical-align: top;\n",
       "    }\n",
       "\n",
       "    .dataframe thead th {\n",
       "        text-align: right;\n",
       "    }\n",
       "</style>\n",
       "<table border=\"1\" class=\"dataframe\">\n",
       "  <thead>\n",
       "    <tr style=\"text-align: right;\">\n",
       "      <th></th>\n",
       "      <th>0.0</th>\n",
       "      <th>1.0</th>\n",
       "    </tr>\n",
       "  </thead>\n",
       "  <tbody>\n",
       "    <tr>\n",
       "      <th>0</th>\n",
       "      <td>0.827</td>\n",
       "      <td>0.173</td>\n",
       "    </tr>\n",
       "    <tr>\n",
       "      <th>1</th>\n",
       "      <td>0.927</td>\n",
       "      <td>0.073</td>\n",
       "    </tr>\n",
       "    <tr>\n",
       "      <th>2</th>\n",
       "      <td>0.812</td>\n",
       "      <td>0.188</td>\n",
       "    </tr>\n",
       "    <tr>\n",
       "      <th>3</th>\n",
       "      <td>0.986</td>\n",
       "      <td>0.014</td>\n",
       "    </tr>\n",
       "    <tr>\n",
       "      <th>4</th>\n",
       "      <td>0.989</td>\n",
       "      <td>0.011</td>\n",
       "    </tr>\n",
       "  </tbody>\n",
       "</table>\n",
       "</div>"
      ],
      "text/plain": [
       "     0.0    1.0\n",
       "0  0.827  0.173\n",
       "1  0.927  0.073\n",
       "2  0.812  0.188\n",
       "3  0.986  0.014\n",
       "4  0.989  0.011"
      ]
     },
     "execution_count": 52,
     "metadata": {},
     "output_type": "execute_result"
    }
   ],
   "source": [
    "data = np.round(proba, decimals=3)\n",
    "predict_df = pd.DataFrame(data)\n",
    "predict_df.columns = lr.classes_\n",
    "predict_df"
   ]
  },
  {
   "cell_type": "code",
   "execution_count": 53,
   "id": "6d074ac8-dbc1-4e41-83fa-c7d0850083c8",
   "metadata": {},
   "outputs": [
    {
     "data": {
      "text/plain": [
       "array([0., 1.])"
      ]
     },
     "execution_count": 53,
     "metadata": {},
     "output_type": "execute_result"
    }
   ],
   "source": [
    "# 각 열에 대한 클래스 명\n",
    "lr.classes_"
   ]
  },
  {
   "cell_type": "code",
   "execution_count": 82,
   "id": "b5505142-af47-45db-9ad7-8e80e3a7a463",
   "metadata": {},
   "outputs": [
    {
     "name": "stdout",
     "output_type": "stream",
     "text": [
      "(1, 9) (1,)\n"
     ]
    }
   ],
   "source": [
    "print(lr.coef_.shape, lr.intercept_.shape)"
   ]
  },
  {
   "cell_type": "code",
   "execution_count": 83,
   "id": "f9266937-4103-4032-800d-e5f55e1b2727",
   "metadata": {},
   "outputs": [
    {
     "name": "stdout",
     "output_type": "stream",
     "text": [
      "[-1.56522536 -2.54760358 -1.46428163 -4.23080525 -4.46713907 -3.99752276\n",
      " -3.45966742 -3.33093839 -4.40929886]\n"
     ]
    }
   ],
   "source": [
    "# 테스트데이터에 대한 z값\n",
    "decision = lr.decision_function(test_scaled[:9])\n",
    "print(decision)"
   ]
  },
  {
   "cell_type": "code",
   "execution_count": 85,
   "id": "e3890f94-0321-4916-845c-0489761f677c",
   "metadata": {},
   "outputs": [
    {
     "name": "stdout",
     "output_type": "stream",
     "text": [
      "[0.325 0.122 0.36  0.023 0.018 0.029 0.049 0.056 0.019]\n"
     ]
    }
   ],
   "source": [
    "from scipy.special import softmax\n",
    "proba = softmax(decision, axis=0)\n",
    "print(np.round(proba, decimals=3))"
   ]
  },
  {
   "cell_type": "code",
   "execution_count": null,
   "id": "3f5f6b1b-6e49-4db9-91da-288e2514a571",
   "metadata": {},
   "outputs": [],
   "source": []
  },
  {
   "cell_type": "markdown",
   "id": "a5bb5c18",
   "metadata": {},
   "source": [
    "## XGBClassifier"
   ]
  },
  {
   "cell_type": "code",
   "execution_count": 7,
   "id": "564edf20",
   "metadata": {
    "ExecuteTime": {
     "end_time": "2022-12-23T07:13:13.763247Z",
     "start_time": "2022-12-23T07:12:59.423159Z"
    },
    "tags": []
   },
   "outputs": [
    {
     "name": "stdout",
     "output_type": "stream",
     "text": [
      "0.764215930771565\n",
      "0.7545754654694309\n",
      "오차 행렬\n",
      "[[54885 16836]\n",
      " [ 1750  2259]]\n",
      "정확도: 0.7546, 정밀도: 0.1183, 재현율: 0.5635, F1: 0.1956, AUC:0.7264\n",
      "분류 임계값 : 0.5\n",
      "오차 행렬\n",
      "[[54885 16836]\n",
      " [ 1750  2259]]\n",
      "정확도: 0.7546, 정밀도: 0.1183, 재현율: 0.5635, F1: 0.1956, AUC:0.6644\n",
      "분류 임계값 : 0.55\n",
      "오차 행렬\n",
      "[[54885 16836]\n",
      " [ 1750  2259]]\n",
      "정확도: 0.7546, 정밀도: 0.1183, 재현율: 0.5635, F1: 0.1956, AUC:0.6502\n",
      "분류 임계값 : 0.6\n",
      "오차 행렬\n",
      "[[54885 16836]\n",
      " [ 1750  2259]]\n",
      "정확도: 0.7546, 정밀도: 0.1183, 재현율: 0.5635, F1: 0.1956, AUC:0.6324\n"
     ]
    }
   ],
   "source": [
    "from xgboost import XGBClassifier\n",
    "\n",
    "model = XGBClassifier()\n",
    "model.fit(X_train, y_train)\n",
    "print(model.score(X_train, y_train))\n",
    "print(model.score(X_test, y_test))\n",
    "\n",
    "pred = model.predict(X_test)\n",
    "pred_proba = model.predict_proba(X_test)[:,1]\n",
    "\n",
    "get_clf_eval(y_test, pred, pred_proba)\n",
    "\n",
    "# 임계값 조정\n",
    "thresholds = [0.5, 0.55, 0.6]\n",
    "get_eval_by_threshold(y_test, pred, pred_proba, thresholds)"
   ]
  },
  {
   "cell_type": "code",
   "execution_count": 8,
   "id": "b1da1ac6-6b9f-4588-aa55-8ee16c55d46a",
   "metadata": {
    "tags": []
   },
   "outputs": [
    {
     "data": {
      "image/png": "[encoded data removed]",
      "text/plain": [
       "<Figure size 800x600 with 1 Axes>"
      ]
     },
     "metadata": {},
     "output_type": "display_data"
    }
   ],
   "source": [
    "# 임계값 그래프\n",
    "precision_recall_curve_plot(y_test, pred_proba)"
   ]
  },
  {
   "cell_type": "code",
   "execution_count": 9,
   "id": "2c2c5b15-ebfa-40cc-bc16-ef0271e4b654",
   "metadata": {
    "tags": []
   },
   "outputs": [
    {
     "name": "stdout",
     "output_type": "stream",
     "text": [
      "0.764215930771565\n",
      "0.7545754654694309\n",
      "오차 행렬\n",
      "[[54885 16836]\n",
      " [ 1750  2259]]\n",
      "정확도: 0.7546, 정밀도: 0.1183, 재현율: 0.5635, F1: 0.1956, AUC:0.7264\n",
      "분류 임계값 : 0.66\n",
      "오차 행렬\n",
      "[[54885 16836]\n",
      " [ 1750  2259]]\n",
      "정확도: 0.7546, 정밀도: 0.1183, 재현율: 0.5635, F1: 0.1956, AUC:0.6093\n",
      "분류 임계값 : 0.71\n",
      "오차 행렬\n",
      "[[54885 16836]\n",
      " [ 1750  2259]]\n",
      "정확도: 0.7546, 정밀도: 0.1183, 재현율: 0.5635, F1: 0.1956, AUC:0.5738\n",
      "분류 임계값 : 0.76\n",
      "오차 행렬\n",
      "[[54885 16836]\n",
      " [ 1750  2259]]\n",
      "정확도: 0.7546, 정밀도: 0.1183, 재현율: 0.5635, F1: 0.1956, AUC:0.5467\n"
     ]
    }
   ],
   "source": [
    "from xgboost import XGBClassifier\n",
    "\n",
    "model = XGBClassifier()\n",
    "model.fit(X_train, y_train)\n",
    "print(model.score(X_train, y_train))\n",
    "print(model.score(X_test, y_test))\n",
    "\n",
    "pred = model.predict(X_test)\n",
    "pred_proba = model.predict_proba(X_test)[:,1]\n",
    "\n",
    "get_clf_eval(y_test, pred, pred_proba)\n",
    "\n",
    "# 임계값 조정\n",
    "thresholds = [0.66, 0.71, 0.76]\n",
    "get_eval_by_threshold(y_test, pred, pred_proba, thresholds)"
   ]
  },
  {
   "cell_type": "code",
   "execution_count": 10,
   "id": "688b0025-3a92-4012-bc67-93cc0a566c0e",
   "metadata": {
    "tags": []
   },
   "outputs": [
    {
     "data": {
      "image/png": "[encoded data removed]",
      "text/plain": [
       "<Figure size 800x600 with 1 Axes>"
      ]
     },
     "metadata": {},
     "output_type": "display_data"
    }
   ],
   "source": [
    "# 임계값 그래프\n",
    "precision_recall_curve_plot(y_test, pred_proba)"
   ]
  },
  {
   "cell_type": "markdown",
   "id": "c5b9b74e-88f0-4c3c-9221-314e53ad8f92",
   "metadata": {},
   "source": [
    "## 강의 document\n",
    "    - 머신러닝_5_3_1_XGBoost(eXtra Gradient Boost) 윗 부분"
   ]
  },
  {
   "cell_type": "code",
   "execution_count": 69,
   "id": "77ad8c83-8644-4b23-8a09-89c41485f5a7",
   "metadata": {},
   "outputs": [],
   "source": [
    "# 모듈 import\n",
    "import xgboost as xgb\n",
    "from xgboost import plot_importance\n",
    "\n",
    "import pandas as pd\n",
    "import numpy as np\n",
    "from sklearn.datasets import load_breast_cancer\n",
    "from sklearn.model_selection import train_test_split\n",
    "import warnings\n",
    "warnings.filterwarnings('ignore')"
   ]
  },
  {
   "cell_type": "code",
   "execution_count": 77,
   "id": "3fdcabfc-b167-49b5-b884-b27f1a8a423f",
   "metadata": {},
   "outputs": [],
   "source": [
    "# 데이터 세트 로딩\n",
    "dataset = brfss\n",
    "X_features = brfss.drop([\"HEARTDISEASE\", \"ALCOHOL\"], axis=1)\n",
    "y_label = brfss[\"HEARTDISEASE\"]"
   ]
  },
  {
   "cell_type": "code",
   "execution_count": 81,
   "id": "692908af-cf3f-4147-aa45-010d235b2c00",
   "metadata": {},
   "outputs": [
    {
     "data": {
      "text/html": [
       "<div>\n",
       "<style scoped>\n",
       "    .dataframe tbody tr th:only-of-type {\n",
       "        vertical-align: middle;\n",
       "    }\n",
       "\n",
       "    .dataframe tbody tr th {\n",
       "        vertical-align: top;\n",
       "    }\n",
       "\n",
       "    .dataframe thead th {\n",
       "        text-align: right;\n",
       "    }\n",
       "</style>\n",
       "<table border=\"1\" class=\"dataframe\">\n",
       "  <thead>\n",
       "    <tr style=\"text-align: right;\">\n",
       "      <th></th>\n",
       "      <th>HEARTDISEASE</th>\n",
       "      <th>SEX</th>\n",
       "      <th>HEIGHT</th>\n",
       "      <th>WEIGHT</th>\n",
       "      <th>BLIND</th>\n",
       "      <th>DEAF</th>\n",
       "      <th>DIABETE</th>\n",
       "      <th>HYPERTENSION</th>\n",
       "      <th>KIDNEY</th>\n",
       "      <th>ALCOHOL</th>\n",
       "      <th>SMOKE</th>\n",
       "      <th>target</th>\n",
       "    </tr>\n",
       "  </thead>\n",
       "  <tbody>\n",
       "    <tr>\n",
       "      <th>0</th>\n",
       "      <td>NaN</td>\n",
       "      <td>0</td>\n",
       "      <td>145.0</td>\n",
       "      <td>30.0</td>\n",
       "      <td>0.0</td>\n",
       "      <td>0.0</td>\n",
       "      <td>0.0</td>\n",
       "      <td>0.0</td>\n",
       "      <td>0.0</td>\n",
       "      <td>NaN</td>\n",
       "      <td>1.0</td>\n",
       "      <td>0.0</td>\n",
       "    </tr>\n",
       "    <tr>\n",
       "      <th>1</th>\n",
       "      <td>NaN</td>\n",
       "      <td>0</td>\n",
       "      <td>165.0</td>\n",
       "      <td>75.0</td>\n",
       "      <td>0.0</td>\n",
       "      <td>0.0</td>\n",
       "      <td>1.0</td>\n",
       "      <td>1.0</td>\n",
       "      <td>0.0</td>\n",
       "      <td>NaN</td>\n",
       "      <td>0.0</td>\n",
       "      <td>0.0</td>\n",
       "    </tr>\n",
       "    <tr>\n",
       "      <th>2</th>\n",
       "      <td>NaN</td>\n",
       "      <td>0</td>\n",
       "      <td>160.0</td>\n",
       "      <td>85.0</td>\n",
       "      <td>0.0</td>\n",
       "      <td>0.0</td>\n",
       "      <td>1.0</td>\n",
       "      <td>1.0</td>\n",
       "      <td>0.0</td>\n",
       "      <td>NaN</td>\n",
       "      <td>0.0</td>\n",
       "      <td>0.0</td>\n",
       "    </tr>\n",
       "  </tbody>\n",
       "</table>\n",
       "</div>"
      ],
      "text/plain": [
       "   HEARTDISEASE  SEX  HEIGHT  WEIGHT  BLIND  DEAF  DIABETE  HYPERTENSION  \\\n",
       "0           NaN    0   145.0    30.0    0.0   0.0      0.0           0.0   \n",
       "1           NaN    0   165.0    75.0    0.0   0.0      1.0           1.0   \n",
       "2           NaN    0   160.0    85.0    0.0   0.0      1.0           1.0   \n",
       "\n",
       "   KIDNEY  ALCOHOL  SMOKE  target  \n",
       "0     0.0      NaN    1.0     0.0  \n",
       "1     0.0      NaN    0.0     0.0  \n",
       "2     0.0      NaN    0.0     0.0  "
      ]
     },
     "execution_count": 81,
     "metadata": {},
     "output_type": "execute_result"
    }
   ],
   "source": [
    "# 데이터 확인하기 위해 데이터 프레임으로 생성\n",
    "cancer_df = pd.DataFrame(data=X_features, columns=dataset.columns)\n",
    "cancer_df['target']= y_label # 맨 마지막에 target 열 추가\n",
    "cancer_df.head(3)\n",
    "\n",
    "# target : 0 악성, 1 양성"
   ]
  },
  {
   "cell_type": "code",
   "execution_count": 83,
   "id": "2de5bc9f-a129-4b2c-abd5-37f3bb1a5eab",
   "metadata": {},
   "outputs": [
    {
     "name": "stdout",
     "output_type": "stream",
     "text": [
      "RangeIndex(start=0, stop=378646, step=1)\n",
      "0.0    358424\n",
      "1.0     20222\n",
      "Name: target, dtype: int64\n"
     ]
    }
   ],
   "source": [
    "# 레이블 값 분포 확인\n",
    "print(dataset.index)\n",
    "print(cancer_df['target'].value_counts())"
   ]
  },
  {
   "cell_type": "code",
   "execution_count": 84,
   "id": "4a33911b-db55-494c-bc75-ce1e22fcebb9",
   "metadata": {},
   "outputs": [
    {
     "data": {
      "text/plain": [
       "0.0    286670\n",
       "1.0    286670\n",
       "Name: HEARTDISEASE, dtype: int64"
      ]
     },
     "execution_count": 84,
     "metadata": {},
     "output_type": "execute_result"
    }
   ],
   "source": [
    "from sklearn.model_selection import train_test_split\n",
    "from imblearn.over_sampling import SMOTE\n",
    "from sklearn.preprocessing import StandardScaler, MinMaxScaler\n",
    "\n",
    "X_train, X_test, y_train, y_test = train_test_split(X, y, test_size=.2)\n",
    "\n",
    "# scaler\n",
    "#scaler = StandardScaler()\n",
    "# scaler = MinMaxScaler()\n",
    "#scaler.fit(X_train)\n",
    "#X_train = scaler.transform(X_train)\n",
    "#X_test = scaler.transform(X_test)\n",
    "\n",
    "# smote\n",
    "smote = SMOTE()\n",
    "X_train, y_train = smote.fit_resample(X_train, y_train)\n",
    "y_train.value_counts()"
   ]
  },
  {
   "cell_type": "code",
   "execution_count": 91,
   "id": "3133284e-444a-46b3-aae0-367aa9a226bb",
   "metadata": {},
   "outputs": [],
   "source": [
    "# 학습용/테스트용 모두 변환해야 함\n",
    "#dtrain = xgb.DMatrix(data=X_train, label=y_train,\n",
    "#                     columns=dataset.columns)\n",
    "#dtest = xgb.DMatrix(data=X_test, label=y_test,\n",
    "#                     columns=dataset.columns)\n",
    "dtrain = xgb.DMatrix(data = X_train, label = y_train)\n",
    "dtest = xgb.DMatrix(data = X_test, label = y_test)"
   ]
  },
  {
   "cell_type": "code",
   "execution_count": 92,
   "id": "abee1747-49da-474d-a59a-93af46bca1f6",
   "metadata": {},
   "outputs": [],
   "source": [
    "# 파라미터 설정\n",
    "params = {'max_depth': 3,\n",
    "          'eta':0.1,#learning_rate\n",
    "          'objective':'binary:logistic',\n",
    "          'eval_metric':'logloss',\n",
    "          'silent':0,\n",
    "          'vervosity':0}\n",
    "# 모델갯수\n",
    "num_rounds = 400"
   ]
  },
  {
   "cell_type": "code",
   "execution_count": 93,
   "id": "408e5dad-b192-472c-aad9-7bf39644afb5",
   "metadata": {},
   "outputs": [],
   "source": [
    "## train 데이터 셋은 ‘train’ , evaluation 데이터 셋은 ‘eval'로 명기\n",
    "wlist = [(dtrain,'train'),(dtest,'eval') ] # eval 평가용"
   ]
  },
  {
   "cell_type": "code",
   "execution_count": 94,
   "id": "84660cf1-ce34-407e-9cae-2be02925b008",
   "metadata": {
    "collapsed": true,
    "jupyter": {
     "outputs_hidden": true
    },
    "tags": []
   },
   "outputs": [
    {
     "name": "stdout",
     "output_type": "stream",
     "text": [
      "[16:39:24] WARNING: C:/buildkite-agent/builds/buildkite-windows-cpu-autoscaling-group-i-03de431ba26204c4d-1/xgboost/xgboost-ci-windows/src/learner.cc:767: \n",
      "Parameters: { \"silent\", \"vervosity\" } are not used.\n",
      "\n",
      "[0]\ttrain-logloss:0.67183\teval-logloss:0.67221\n",
      "[1]\ttrain-logloss:0.65449\teval-logloss:0.65528\n",
      "[2]\ttrain-logloss:0.63966\teval-logloss:0.64116\n",
      "[3]\ttrain-logloss:0.62695\teval-logloss:0.62897\n",
      "[4]\ttrain-logloss:0.61669\teval-logloss:0.61911\n",
      "[5]\ttrain-logloss:0.60796\teval-logloss:0.61082\n",
      "[6]\ttrain-logloss:0.60010\teval-logloss:0.60328\n",
      "[7]\ttrain-logloss:0.59382\teval-logloss:0.59728\n",
      "[8]\ttrain-logloss:0.58800\teval-logloss:0.59168\n",
      "[9]\ttrain-logloss:0.58290\teval-logloss:0.58673\n",
      "[10]\ttrain-logloss:0.57866\teval-logloss:0.58268\n",
      "[11]\ttrain-logloss:0.57459\teval-logloss:0.57880\n",
      "[12]\ttrain-logloss:0.57081\teval-logloss:0.57493\n",
      "[13]\ttrain-logloss:0.56691\teval-logloss:0.57076\n",
      "[14]\ttrain-logloss:0.56417\teval-logloss:0.56809\n",
      "[15]\ttrain-logloss:0.56101\teval-logloss:0.56460\n",
      "[16]\ttrain-logloss:0.55876\teval-logloss:0.56238\n",
      "[17]\ttrain-logloss:0.55580\teval-logloss:0.55905\n",
      "[18]\ttrain-logloss:0.55236\teval-logloss:0.55573\n",
      "[19]\ttrain-logloss:0.55058\teval-logloss:0.55391\n",
      "[20]\ttrain-logloss:0.54777\teval-logloss:0.55110\n",
      "[21]\ttrain-logloss:0.54565\teval-logloss:0.54852\n",
      "[22]\ttrain-logloss:0.54421\teval-logloss:0.54699\n",
      "[23]\ttrain-logloss:0.54171\teval-logloss:0.54419\n",
      "[24]\ttrain-logloss:0.54047\teval-logloss:0.54301\n",
      "[25]\ttrain-logloss:0.53906\teval-logloss:0.54137\n",
      "[26]\ttrain-logloss:0.53697\teval-logloss:0.53919\n",
      "[27]\ttrain-logloss:0.53524\teval-logloss:0.53712\n",
      "[28]\ttrain-logloss:0.53347\teval-logloss:0.53527\n",
      "[29]\ttrain-logloss:0.53173\teval-logloss:0.53344\n",
      "[30]\ttrain-logloss:0.53065\teval-logloss:0.53221\n",
      "[31]\ttrain-logloss:0.52950\teval-logloss:0.53098\n",
      "[32]\ttrain-logloss:0.52782\teval-logloss:0.52906\n",
      "[33]\ttrain-logloss:0.52611\teval-logloss:0.52701\n",
      "[34]\ttrain-logloss:0.52524\teval-logloss:0.52600\n",
      "[35]\ttrain-logloss:0.52380\teval-logloss:0.52434\n",
      "[36]\ttrain-logloss:0.52312\teval-logloss:0.52372\n",
      "[37]\ttrain-logloss:0.52181\teval-logloss:0.52228\n",
      "[38]\ttrain-logloss:0.52046\teval-logloss:0.52061\n",
      "[39]\ttrain-logloss:0.51975\teval-logloss:0.51968\n",
      "[40]\ttrain-logloss:0.51902\teval-logloss:0.51888\n",
      "[41]\ttrain-logloss:0.51805\teval-logloss:0.51782\n",
      "[42]\ttrain-logloss:0.51679\teval-logloss:0.51624\n",
      "[43]\ttrain-logloss:0.51619\teval-logloss:0.51553\n",
      "[44]\ttrain-logloss:0.51568\teval-logloss:0.51505\n",
      "[45]\ttrain-logloss:0.51469\teval-logloss:0.51381\n",
      "[46]\ttrain-logloss:0.51414\teval-logloss:0.51315\n",
      "[47]\ttrain-logloss:0.51324\teval-logloss:0.51214\n",
      "[48]\ttrain-logloss:0.51279\teval-logloss:0.51168\n",
      "[49]\ttrain-logloss:0.51215\teval-logloss:0.51082\n",
      "[50]\ttrain-logloss:0.51163\teval-logloss:0.51021\n",
      "[51]\ttrain-logloss:0.51076\teval-logloss:0.50927\n",
      "[52]\ttrain-logloss:0.51029\teval-logloss:0.50871\n",
      "[53]\ttrain-logloss:0.50991\teval-logloss:0.50837\n",
      "[54]\ttrain-logloss:0.50936\teval-logloss:0.50762\n",
      "[55]\ttrain-logloss:0.50872\teval-logloss:0.50688\n",
      "[56]\ttrain-logloss:0.50825\teval-logloss:0.50635\n",
      "[57]\ttrain-logloss:0.50792\teval-logloss:0.50602\n",
      "[58]\ttrain-logloss:0.50753\teval-logloss:0.50556\n",
      "[59]\ttrain-logloss:0.50688\teval-logloss:0.50481\n",
      "[60]\ttrain-logloss:0.50597\teval-logloss:0.50363\n",
      "[61]\ttrain-logloss:0.50578\teval-logloss:0.50358\n",
      "[62]\ttrain-logloss:0.50540\teval-logloss:0.50315\n",
      "[63]\ttrain-logloss:0.50494\teval-logloss:0.50257\n",
      "[64]\ttrain-logloss:0.50458\teval-logloss:0.50215\n",
      "[65]\ttrain-logloss:0.50429\teval-logloss:0.50198\n",
      "[66]\ttrain-logloss:0.50349\teval-logloss:0.50091\n",
      "[67]\ttrain-logloss:0.50322\teval-logloss:0.50062\n",
      "[68]\ttrain-logloss:0.50289\teval-logloss:0.50023\n",
      "[69]\ttrain-logloss:0.50263\teval-logloss:0.49995\n",
      "[70]\ttrain-logloss:0.50223\teval-logloss:0.49939\n",
      "[71]\ttrain-logloss:0.50177\teval-logloss:0.49883\n",
      "[72]\ttrain-logloss:0.50130\teval-logloss:0.49822\n",
      "[73]\ttrain-logloss:0.50106\teval-logloss:0.49797\n",
      "[74]\ttrain-logloss:0.50068\teval-logloss:0.49749\n",
      "[75]\ttrain-logloss:0.50057\teval-logloss:0.49746\n",
      "[76]\ttrain-logloss:0.50008\teval-logloss:0.49680\n",
      "[77]\ttrain-logloss:0.49982\teval-logloss:0.49649\n",
      "[78]\ttrain-logloss:0.49951\teval-logloss:0.49610\n",
      "[79]\ttrain-logloss:0.49938\teval-logloss:0.49607\n",
      "[80]\ttrain-logloss:0.49930\teval-logloss:0.49604\n",
      "[81]\ttrain-logloss:0.49887\teval-logloss:0.49543\n",
      "[82]\ttrain-logloss:0.49876\teval-logloss:0.49542\n",
      "[83]\ttrain-logloss:0.49841\teval-logloss:0.49500\n",
      "[84]\ttrain-logloss:0.49822\teval-logloss:0.49479\n",
      "[85]\ttrain-logloss:0.49786\teval-logloss:0.49430\n",
      "[86]\ttrain-logloss:0.49757\teval-logloss:0.49394\n",
      "[87]\ttrain-logloss:0.49720\teval-logloss:0.49349\n",
      "[88]\ttrain-logloss:0.49686\teval-logloss:0.49307\n",
      "[89]\ttrain-logloss:0.49669\teval-logloss:0.49288\n",
      "[90]\ttrain-logloss:0.49652\teval-logloss:0.49280\n",
      "[91]\ttrain-logloss:0.49630\teval-logloss:0.49252\n",
      "[92]\ttrain-logloss:0.49613\teval-logloss:0.49241\n",
      "[93]\ttrain-logloss:0.49584\teval-logloss:0.49202\n",
      "[94]\ttrain-logloss:0.49563\teval-logloss:0.49177\n",
      "[95]\ttrain-logloss:0.49535\teval-logloss:0.49143\n",
      "[96]\ttrain-logloss:0.49517\teval-logloss:0.49124\n",
      "[97]\ttrain-logloss:0.49489\teval-logloss:0.49090\n",
      "[98]\ttrain-logloss:0.49485\teval-logloss:0.49087\n",
      "[99]\ttrain-logloss:0.49465\teval-logloss:0.49063\n",
      "[100]\ttrain-logloss:0.49440\teval-logloss:0.49032\n",
      "[101]\ttrain-logloss:0.49414\teval-logloss:0.49001\n",
      "[102]\ttrain-logloss:0.49399\teval-logloss:0.48985\n",
      "[103]\ttrain-logloss:0.49385\teval-logloss:0.48978\n",
      "[104]\ttrain-logloss:0.49358\teval-logloss:0.48941\n",
      "[105]\ttrain-logloss:0.49337\teval-logloss:0.48913\n",
      "[106]\ttrain-logloss:0.49330\teval-logloss:0.48911\n",
      "[107]\ttrain-logloss:0.49307\teval-logloss:0.48882\n",
      "[108]\ttrain-logloss:0.49285\teval-logloss:0.48859\n",
      "[109]\ttrain-logloss:0.49280\teval-logloss:0.48858\n",
      "[110]\ttrain-logloss:0.49272\teval-logloss:0.48857\n",
      "[111]\ttrain-logloss:0.49250\teval-logloss:0.48830\n",
      "[112]\ttrain-logloss:0.49243\teval-logloss:0.48829\n",
      "[113]\ttrain-logloss:0.49223\teval-logloss:0.48802\n",
      "[114]\ttrain-logloss:0.49213\teval-logloss:0.48799\n",
      "[115]\ttrain-logloss:0.49193\teval-logloss:0.48778\n",
      "[116]\ttrain-logloss:0.49188\teval-logloss:0.48778\n",
      "[117]\ttrain-logloss:0.49160\teval-logloss:0.48744\n",
      "[118]\ttrain-logloss:0.49139\teval-logloss:0.48716\n",
      "[119]\ttrain-logloss:0.49126\teval-logloss:0.48701\n",
      "[120]\ttrain-logloss:0.49122\teval-logloss:0.48701\n",
      "[121]\ttrain-logloss:0.49105\teval-logloss:0.48678\n",
      "[122]\ttrain-logloss:0.49087\teval-logloss:0.48659\n",
      "[123]\ttrain-logloss:0.49067\teval-logloss:0.48634\n",
      "[124]\ttrain-logloss:0.49059\teval-logloss:0.48632\n",
      "[125]\ttrain-logloss:0.49056\teval-logloss:0.48632\n",
      "[126]\ttrain-logloss:0.49052\teval-logloss:0.48631\n",
      "[127]\ttrain-logloss:0.49035\teval-logloss:0.48608\n",
      "[128]\ttrain-logloss:0.49018\teval-logloss:0.48586\n",
      "[129]\ttrain-logloss:0.49002\teval-logloss:0.48566\n",
      "[130]\ttrain-logloss:0.48986\teval-logloss:0.48548\n",
      "[131]\ttrain-logloss:0.48961\teval-logloss:0.48517\n",
      "[132]\ttrain-logloss:0.48956\teval-logloss:0.48514\n",
      "[133]\ttrain-logloss:0.48951\teval-logloss:0.48514\n",
      "[134]\ttrain-logloss:0.48937\teval-logloss:0.48495\n",
      "[135]\ttrain-logloss:0.48929\teval-logloss:0.48493\n",
      "[136]\ttrain-logloss:0.48926\teval-logloss:0.48493\n",
      "[137]\ttrain-logloss:0.48911\teval-logloss:0.48475\n",
      "[138]\ttrain-logloss:0.48896\teval-logloss:0.48456\n",
      "[139]\ttrain-logloss:0.48880\teval-logloss:0.48436\n",
      "[140]\ttrain-logloss:0.48866\teval-logloss:0.48420\n",
      "[141]\ttrain-logloss:0.48864\teval-logloss:0.48421\n",
      "[142]\ttrain-logloss:0.48856\teval-logloss:0.48413\n",
      "[143]\ttrain-logloss:0.48854\teval-logloss:0.48413\n",
      "[144]\ttrain-logloss:0.48844\teval-logloss:0.48401\n",
      "[145]\ttrain-logloss:0.48829\teval-logloss:0.48381\n",
      "[146]\ttrain-logloss:0.48827\teval-logloss:0.48381\n",
      "[147]\ttrain-logloss:0.48813\teval-logloss:0.48364\n",
      "[148]\ttrain-logloss:0.48810\teval-logloss:0.48363\n",
      "[149]\ttrain-logloss:0.48796\teval-logloss:0.48345\n",
      "[150]\ttrain-logloss:0.48794\teval-logloss:0.48346\n",
      "[151]\ttrain-logloss:0.48781\teval-logloss:0.48334\n",
      "[152]\ttrain-logloss:0.48776\teval-logloss:0.48334\n",
      "[153]\ttrain-logloss:0.48764\teval-logloss:0.48318\n",
      "[154]\ttrain-logloss:0.48753\teval-logloss:0.48307\n",
      "[155]\ttrain-logloss:0.48734\teval-logloss:0.48281\n",
      "[156]\ttrain-logloss:0.48732\teval-logloss:0.48281\n",
      "[157]\ttrain-logloss:0.48730\teval-logloss:0.48279\n",
      "[158]\ttrain-logloss:0.48718\teval-logloss:0.48263\n",
      "[159]\ttrain-logloss:0.48714\teval-logloss:0.48263\n",
      "[160]\ttrain-logloss:0.48702\teval-logloss:0.48250\n",
      "[161]\ttrain-logloss:0.48684\teval-logloss:0.48226\n",
      "[162]\ttrain-logloss:0.48673\teval-logloss:0.48212\n",
      "[163]\ttrain-logloss:0.48662\teval-logloss:0.48197\n",
      "[164]\ttrain-logloss:0.48659\teval-logloss:0.48197\n",
      "[165]\ttrain-logloss:0.48657\teval-logloss:0.48196\n",
      "[166]\ttrain-logloss:0.48649\teval-logloss:0.48187\n",
      "[167]\ttrain-logloss:0.48638\teval-logloss:0.48174\n",
      "[168]\ttrain-logloss:0.48635\teval-logloss:0.48174\n",
      "[169]\ttrain-logloss:0.48632\teval-logloss:0.48174\n",
      "[170]\ttrain-logloss:0.48624\teval-logloss:0.48163\n",
      "[171]\ttrain-logloss:0.48621\teval-logloss:0.48163\n",
      "[172]\ttrain-logloss:0.48606\teval-logloss:0.48142\n",
      "[173]\ttrain-logloss:0.48597\teval-logloss:0.48139\n",
      "[174]\ttrain-logloss:0.48595\teval-logloss:0.48140\n",
      "[175]\ttrain-logloss:0.48585\teval-logloss:0.48128\n",
      "[176]\ttrain-logloss:0.48571\teval-logloss:0.48108\n",
      "[177]\ttrain-logloss:0.48564\teval-logloss:0.48100\n",
      "[178]\ttrain-logloss:0.48562\teval-logloss:0.48100\n",
      "[179]\ttrain-logloss:0.48554\teval-logloss:0.48096\n",
      "[180]\ttrain-logloss:0.48550\teval-logloss:0.48093\n",
      "[181]\ttrain-logloss:0.48549\teval-logloss:0.48094\n",
      "[182]\ttrain-logloss:0.48548\teval-logloss:0.48093\n",
      "[183]\ttrain-logloss:0.48545\teval-logloss:0.48092\n",
      "[184]\ttrain-logloss:0.48536\teval-logloss:0.48088\n",
      "[185]\ttrain-logloss:0.48534\teval-logloss:0.48088\n",
      "[186]\ttrain-logloss:0.48518\teval-logloss:0.48065\n",
      "[187]\ttrain-logloss:0.48506\teval-logloss:0.48048\n",
      "[188]\ttrain-logloss:0.48505\teval-logloss:0.48048\n",
      "[189]\ttrain-logloss:0.48503\teval-logloss:0.48048\n",
      "[190]\ttrain-logloss:0.48502\teval-logloss:0.48048\n",
      "[191]\ttrain-logloss:0.48495\teval-logloss:0.48040\n",
      "[192]\ttrain-logloss:0.48486\teval-logloss:0.48029\n",
      "[193]\ttrain-logloss:0.48477\teval-logloss:0.48019\n",
      "[194]\ttrain-logloss:0.48468\teval-logloss:0.48009\n",
      "[195]\ttrain-logloss:0.48466\teval-logloss:0.48010\n",
      "[196]\ttrain-logloss:0.48465\teval-logloss:0.48010\n",
      "[197]\ttrain-logloss:0.48464\teval-logloss:0.48011\n",
      "[198]\ttrain-logloss:0.48453\teval-logloss:0.47995\n",
      "[199]\ttrain-logloss:0.48445\teval-logloss:0.47986\n",
      "[200]\ttrain-logloss:0.48443\teval-logloss:0.47986\n",
      "[201]\ttrain-logloss:0.48442\teval-logloss:0.47986\n",
      "[202]\ttrain-logloss:0.48435\teval-logloss:0.47977\n",
      "[203]\ttrain-logloss:0.48432\teval-logloss:0.47977\n",
      "[204]\ttrain-logloss:0.48431\teval-logloss:0.47977\n",
      "[205]\ttrain-logloss:0.48424\teval-logloss:0.47967\n",
      "[206]\ttrain-logloss:0.48423\teval-logloss:0.47968\n",
      "[207]\ttrain-logloss:0.48414\teval-logloss:0.47957\n",
      "[208]\ttrain-logloss:0.48413\teval-logloss:0.47957\n",
      "[209]\ttrain-logloss:0.48412\teval-logloss:0.47957\n",
      "[210]\ttrain-logloss:0.48404\teval-logloss:0.47949\n",
      "[211]\ttrain-logloss:0.48404\teval-logloss:0.47949\n",
      "[212]\ttrain-logloss:0.48393\teval-logloss:0.47935\n",
      "[213]\ttrain-logloss:0.48390\teval-logloss:0.47931\n",
      "[214]\ttrain-logloss:0.48382\teval-logloss:0.47928\n",
      "[215]\ttrain-logloss:0.48368\teval-logloss:0.47911\n",
      "[216]\ttrain-logloss:0.48366\teval-logloss:0.47912\n",
      "[217]\ttrain-logloss:0.48363\teval-logloss:0.47910\n",
      "[218]\ttrain-logloss:0.48356\teval-logloss:0.47902\n",
      "[219]\ttrain-logloss:0.48348\teval-logloss:0.47894\n",
      "[220]\ttrain-logloss:0.48345\teval-logloss:0.47892\n",
      "[221]\ttrain-logloss:0.48340\teval-logloss:0.47885\n",
      "[222]\ttrain-logloss:0.48337\teval-logloss:0.47886\n",
      "[223]\ttrain-logloss:0.48336\teval-logloss:0.47886\n",
      "[224]\ttrain-logloss:0.48335\teval-logloss:0.47886\n",
      "[225]\ttrain-logloss:0.48329\teval-logloss:0.47878\n",
      "[226]\ttrain-logloss:0.48320\teval-logloss:0.47865\n",
      "[227]\ttrain-logloss:0.48314\teval-logloss:0.47858\n",
      "[228]\ttrain-logloss:0.48308\teval-logloss:0.47850\n",
      "[229]\ttrain-logloss:0.48306\teval-logloss:0.47850\n",
      "[230]\ttrain-logloss:0.48299\teval-logloss:0.47840\n",
      "[231]\ttrain-logloss:0.48292\teval-logloss:0.47833\n",
      "[232]\ttrain-logloss:0.48291\teval-logloss:0.47833\n",
      "[233]\ttrain-logloss:0.48291\teval-logloss:0.47833\n",
      "[234]\ttrain-logloss:0.48283\teval-logloss:0.47822\n",
      "[235]\ttrain-logloss:0.48276\teval-logloss:0.47815\n",
      "[236]\ttrain-logloss:0.48270\teval-logloss:0.47808\n",
      "[237]\ttrain-logloss:0.48267\teval-logloss:0.47807\n",
      "[238]\ttrain-logloss:0.48265\teval-logloss:0.47807\n",
      "[239]\ttrain-logloss:0.48264\teval-logloss:0.47807\n",
      "[240]\ttrain-logloss:0.48259\teval-logloss:0.47802\n",
      "[241]\ttrain-logloss:0.48253\teval-logloss:0.47798\n",
      "[242]\ttrain-logloss:0.48252\teval-logloss:0.47798\n",
      "[243]\ttrain-logloss:0.48246\teval-logloss:0.47790\n",
      "[244]\ttrain-logloss:0.48235\teval-logloss:0.47778\n",
      "[245]\ttrain-logloss:0.48230\teval-logloss:0.47773\n",
      "[246]\ttrain-logloss:0.48229\teval-logloss:0.47773\n",
      "[247]\ttrain-logloss:0.48228\teval-logloss:0.47772\n",
      "[248]\ttrain-logloss:0.48222\teval-logloss:0.47771\n",
      "[249]\ttrain-logloss:0.48220\teval-logloss:0.47770\n",
      "[250]\ttrain-logloss:0.48220\teval-logloss:0.47770\n",
      "[251]\ttrain-logloss:0.48218\teval-logloss:0.47771\n",
      "[252]\ttrain-logloss:0.48210\teval-logloss:0.47759\n",
      "[253]\ttrain-logloss:0.48203\teval-logloss:0.47749\n",
      "[254]\ttrain-logloss:0.48202\teval-logloss:0.47749\n",
      "[255]\ttrain-logloss:0.48198\teval-logloss:0.47748\n",
      "[256]\ttrain-logloss:0.48198\teval-logloss:0.47749\n",
      "[257]\ttrain-logloss:0.48197\teval-logloss:0.47749\n",
      "[258]\ttrain-logloss:0.48195\teval-logloss:0.47749\n",
      "[259]\ttrain-logloss:0.48186\teval-logloss:0.47737\n",
      "[260]\ttrain-logloss:0.48183\teval-logloss:0.47736\n",
      "[261]\ttrain-logloss:0.48181\teval-logloss:0.47736\n",
      "[262]\ttrain-logloss:0.48180\teval-logloss:0.47737\n",
      "[263]\ttrain-logloss:0.48175\teval-logloss:0.47728\n",
      "[264]\ttrain-logloss:0.48171\teval-logloss:0.47723\n",
      "[265]\ttrain-logloss:0.48166\teval-logloss:0.47718\n",
      "[266]\ttrain-logloss:0.48159\teval-logloss:0.47710\n",
      "[267]\ttrain-logloss:0.48154\teval-logloss:0.47705\n",
      "[268]\ttrain-logloss:0.48154\teval-logloss:0.47705\n",
      "[269]\ttrain-logloss:0.48153\teval-logloss:0.47705\n",
      "[270]\ttrain-logloss:0.48152\teval-logloss:0.47705\n",
      "[271]\ttrain-logloss:0.48147\teval-logloss:0.47704\n",
      "[272]\ttrain-logloss:0.48146\teval-logloss:0.47704\n",
      "[273]\ttrain-logloss:0.48144\teval-logloss:0.47704\n",
      "[274]\ttrain-logloss:0.48143\teval-logloss:0.47704\n",
      "[275]\ttrain-logloss:0.48140\teval-logloss:0.47705\n",
      "[276]\ttrain-logloss:0.48138\teval-logloss:0.47705\n",
      "[277]\ttrain-logloss:0.48136\teval-logloss:0.47705\n",
      "[278]\ttrain-logloss:0.48135\teval-logloss:0.47705\n",
      "[279]\ttrain-logloss:0.48134\teval-logloss:0.47705\n",
      "[280]\ttrain-logloss:0.48129\teval-logloss:0.47699\n",
      "[281]\ttrain-logloss:0.48124\teval-logloss:0.47692\n",
      "[282]\ttrain-logloss:0.48119\teval-logloss:0.47686\n",
      "[283]\ttrain-logloss:0.48119\teval-logloss:0.47687\n",
      "[284]\ttrain-logloss:0.48114\teval-logloss:0.47680\n",
      "[285]\ttrain-logloss:0.48111\teval-logloss:0.47679\n",
      "[286]\ttrain-logloss:0.48110\teval-logloss:0.47679\n",
      "[287]\ttrain-logloss:0.48110\teval-logloss:0.47680\n",
      "[288]\ttrain-logloss:0.48105\teval-logloss:0.47675\n",
      "[289]\ttrain-logloss:0.48101\teval-logloss:0.47669\n",
      "[290]\ttrain-logloss:0.48093\teval-logloss:0.47659\n",
      "[291]\ttrain-logloss:0.48090\teval-logloss:0.47658\n",
      "[292]\ttrain-logloss:0.48085\teval-logloss:0.47652\n",
      "[293]\ttrain-logloss:0.48081\teval-logloss:0.47648\n",
      "[294]\ttrain-logloss:0.48078\teval-logloss:0.47647\n",
      "[295]\ttrain-logloss:0.48078\teval-logloss:0.47647\n",
      "[296]\ttrain-logloss:0.48076\teval-logloss:0.47647\n",
      "[297]\ttrain-logloss:0.48072\teval-logloss:0.47642\n",
      "[298]\ttrain-logloss:0.48071\teval-logloss:0.47642\n",
      "[299]\ttrain-logloss:0.48069\teval-logloss:0.47642\n",
      "[300]\ttrain-logloss:0.48065\teval-logloss:0.47637\n",
      "[301]\ttrain-logloss:0.48057\teval-logloss:0.47628\n",
      "[302]\ttrain-logloss:0.48057\teval-logloss:0.47628\n",
      "[303]\ttrain-logloss:0.48056\teval-logloss:0.47628\n",
      "[304]\ttrain-logloss:0.48055\teval-logloss:0.47627\n",
      "[305]\ttrain-logloss:0.48051\teval-logloss:0.47621\n",
      "[306]\ttrain-logloss:0.48047\teval-logloss:0.47616\n",
      "[307]\ttrain-logloss:0.48046\teval-logloss:0.47616\n",
      "[308]\ttrain-logloss:0.48043\teval-logloss:0.47618\n",
      "[309]\ttrain-logloss:0.48042\teval-logloss:0.47618\n",
      "[310]\ttrain-logloss:0.48040\teval-logloss:0.47617\n",
      "[311]\ttrain-logloss:0.48038\teval-logloss:0.47616\n",
      "[312]\ttrain-logloss:0.48037\teval-logloss:0.47616\n",
      "[313]\ttrain-logloss:0.48035\teval-logloss:0.47617\n",
      "[314]\ttrain-logloss:0.48032\teval-logloss:0.47616\n",
      "[315]\ttrain-logloss:0.48026\teval-logloss:0.47609\n",
      "[316]\ttrain-logloss:0.48024\teval-logloss:0.47609\n",
      "[317]\ttrain-logloss:0.48023\teval-logloss:0.47609\n",
      "[318]\ttrain-logloss:0.48016\teval-logloss:0.47600\n",
      "[319]\ttrain-logloss:0.48015\teval-logloss:0.47600\n",
      "[320]\ttrain-logloss:0.48015\teval-logloss:0.47600\n",
      "[321]\ttrain-logloss:0.48012\teval-logloss:0.47596\n",
      "[322]\ttrain-logloss:0.48009\teval-logloss:0.47594\n",
      "[323]\ttrain-logloss:0.48008\teval-logloss:0.47594\n",
      "[324]\ttrain-logloss:0.48007\teval-logloss:0.47593\n",
      "[325]\ttrain-logloss:0.48006\teval-logloss:0.47593\n",
      "[326]\ttrain-logloss:0.48004\teval-logloss:0.47592\n",
      "[327]\ttrain-logloss:0.48004\teval-logloss:0.47592\n",
      "[328]\ttrain-logloss:0.48001\teval-logloss:0.47588\n",
      "[329]\ttrain-logloss:0.47999\teval-logloss:0.47588\n",
      "[330]\ttrain-logloss:0.47995\teval-logloss:0.47583\n",
      "[331]\ttrain-logloss:0.47993\teval-logloss:0.47583\n",
      "[332]\ttrain-logloss:0.47992\teval-logloss:0.47582\n",
      "[333]\ttrain-logloss:0.47991\teval-logloss:0.47583\n",
      "[334]\ttrain-logloss:0.47989\teval-logloss:0.47583\n",
      "[335]\ttrain-logloss:0.47988\teval-logloss:0.47583\n",
      "[336]\ttrain-logloss:0.47987\teval-logloss:0.47582\n",
      "[337]\ttrain-logloss:0.47987\teval-logloss:0.47582\n",
      "[338]\ttrain-logloss:0.47981\teval-logloss:0.47574\n",
      "[339]\ttrain-logloss:0.47981\teval-logloss:0.47574\n",
      "[340]\ttrain-logloss:0.47979\teval-logloss:0.47574\n",
      "[341]\ttrain-logloss:0.47978\teval-logloss:0.47573\n",
      "[342]\ttrain-logloss:0.47977\teval-logloss:0.47573\n",
      "[343]\ttrain-logloss:0.47972\teval-logloss:0.47571\n",
      "[344]\ttrain-logloss:0.47972\teval-logloss:0.47572\n",
      "[345]\ttrain-logloss:0.47970\teval-logloss:0.47570\n",
      "[346]\ttrain-logloss:0.47969\teval-logloss:0.47570\n",
      "[347]\ttrain-logloss:0.47966\teval-logloss:0.47567\n",
      "[348]\ttrain-logloss:0.47962\teval-logloss:0.47566\n",
      "[349]\ttrain-logloss:0.47961\teval-logloss:0.47566\n",
      "[350]\ttrain-logloss:0.47960\teval-logloss:0.47566\n",
      "[351]\ttrain-logloss:0.47955\teval-logloss:0.47559\n",
      "[352]\ttrain-logloss:0.47952\teval-logloss:0.47556\n",
      "[353]\ttrain-logloss:0.47951\teval-logloss:0.47556\n",
      "[354]\ttrain-logloss:0.47950\teval-logloss:0.47555\n",
      "[355]\ttrain-logloss:0.47946\teval-logloss:0.47549\n",
      "[356]\ttrain-logloss:0.47942\teval-logloss:0.47544\n",
      "[357]\ttrain-logloss:0.47941\teval-logloss:0.47546\n",
      "[358]\ttrain-logloss:0.47938\teval-logloss:0.47544\n",
      "[359]\ttrain-logloss:0.47934\teval-logloss:0.47539\n",
      "[360]\ttrain-logloss:0.47933\teval-logloss:0.47538\n",
      "[361]\ttrain-logloss:0.47932\teval-logloss:0.47538\n",
      "[362]\ttrain-logloss:0.47931\teval-logloss:0.47538\n",
      "[363]\ttrain-logloss:0.47926\teval-logloss:0.47533\n",
      "[364]\ttrain-logloss:0.47926\teval-logloss:0.47533\n",
      "[365]\ttrain-logloss:0.47922\teval-logloss:0.47528\n",
      "[366]\ttrain-logloss:0.47920\teval-logloss:0.47525\n",
      "[367]\ttrain-logloss:0.47917\teval-logloss:0.47524\n",
      "[368]\ttrain-logloss:0.47917\teval-logloss:0.47524\n",
      "[369]\ttrain-logloss:0.47915\teval-logloss:0.47523\n",
      "[370]\ttrain-logloss:0.47910\teval-logloss:0.47516\n",
      "[371]\ttrain-logloss:0.47909\teval-logloss:0.47515\n",
      "[372]\ttrain-logloss:0.47906\teval-logloss:0.47512\n",
      "[373]\ttrain-logloss:0.47903\teval-logloss:0.47509\n",
      "[374]\ttrain-logloss:0.47900\teval-logloss:0.47507\n",
      "[375]\ttrain-logloss:0.47898\teval-logloss:0.47508\n",
      "[376]\ttrain-logloss:0.47898\teval-logloss:0.47508\n",
      "[377]\ttrain-logloss:0.47897\teval-logloss:0.47508\n",
      "[378]\ttrain-logloss:0.47896\teval-logloss:0.47508\n",
      "[379]\ttrain-logloss:0.47892\teval-logloss:0.47507\n",
      "[380]\ttrain-logloss:0.47891\teval-logloss:0.47507\n",
      "[381]\ttrain-logloss:0.47890\teval-logloss:0.47508\n",
      "[382]\ttrain-logloss:0.47890\teval-logloss:0.47508\n",
      "[383]\ttrain-logloss:0.47889\teval-logloss:0.47508\n",
      "[384]\ttrain-logloss:0.47889\teval-logloss:0.47508\n",
      "[385]\ttrain-logloss:0.47888\teval-logloss:0.47507\n",
      "[386]\ttrain-logloss:0.47885\teval-logloss:0.47503\n",
      "[387]\ttrain-logloss:0.47881\teval-logloss:0.47499\n",
      "[388]\ttrain-logloss:0.47879\teval-logloss:0.47497\n",
      "[389]\ttrain-logloss:0.47877\teval-logloss:0.47496\n",
      "[390]\ttrain-logloss:0.47872\teval-logloss:0.47490\n",
      "[391]\ttrain-logloss:0.47871\teval-logloss:0.47490\n",
      "[392]\ttrain-logloss:0.47871\teval-logloss:0.47490\n",
      "[393]\ttrain-logloss:0.47870\teval-logloss:0.47490\n",
      "[394]\ttrain-logloss:0.47869\teval-logloss:0.47489\n",
      "[395]\ttrain-logloss:0.47869\teval-logloss:0.47489\n",
      "[396]\ttrain-logloss:0.47868\teval-logloss:0.47489\n",
      "[397]\ttrain-logloss:0.47868\teval-logloss:0.47489\n",
      "[398]\ttrain-logloss:0.47868\teval-logloss:0.47490\n",
      "[399]\ttrain-logloss:0.47866\teval-logloss:0.47488\n"
     ]
    }
   ],
   "source": [
    "# 모델학습\n",
    "xgb_model = xgb.train(params=params,\n",
    "                      dtrain=dtrain,\n",
    "                      num_boost_round=num_rounds,\n",
    "                      early_stopping_rounds=100,\n",
    "                      evals=wlist)\n",
    "# 211이후 100번 더 반복 동안 성능 평가 지수가 향상되지 못해서 학습 종료 - 단 311까지 학습을 종료한 모델을 사용\n",
    "# 211이 best여도 311까지는 학습을 해야 성능을 높일 수 있음"
   ]
  },
  {
   "cell_type": "code",
   "execution_count": 95,
   "id": "a7936c8f-6035-460a-9d61-52914f101131",
   "metadata": {},
   "outputs": [
    {
     "name": "stdout",
     "output_type": "stream",
     "text": [
      "predict( ) 수행 결과값을 10개만 표시, 예측 확률 값으로 표시됨\n",
      "[0.284 0.226 0.466 0.108 0.226 0.293 0.556 0.581 0.42  0.389]\n"
     ]
    }
   ],
   "source": [
    "pred_probs = xgb_model.predict(dtest)\n",
    "print('predict( ) 수행 결과값을 10개만 표시, 예측 확률 값으로 표시됨')\n",
    "print(np.round(pred_probs[:10],3))\n"
   ]
  },
  {
   "cell_type": "code",
   "execution_count": 96,
   "id": "8bbd1f98-5d33-4577-a0ec-ca820df5b4ed",
   "metadata": {},
   "outputs": [
    {
     "name": "stdout",
     "output_type": "stream",
     "text": [
      "[0 0 0 0 0 0 1 1 0 0]\n"
     ]
    }
   ],
   "source": [
    "# 예측 확률로 예측값이 반환 되므로 임계값을 정해 0또는 1로 변환해야 함\n",
    "preds = [1 if x>0.5 else 0 for x in pred_probs]\n",
    "print(np.round(preds[:10]))"
   ]
  },
  {
   "cell_type": "markdown",
   "id": "4a317309-eb68-4d2b-b710-61b2883ca074",
   "metadata": {},
   "source": [
    "#### XGBoost 모델의 예측 성능 평가"
   ]
  },
  {
   "cell_type": "code",
   "execution_count": 100,
   "id": "8abaadc7-71c3-49c8-975d-df7e7a391906",
   "metadata": {},
   "outputs": [],
   "source": [
    "from sklearn.metrics import confusion_matrix, accuracy_score\n",
    "from sklearn.metrics import precision_score, recall_score\n",
    "from sklearn.metrics import f1_score, roc_auc_score\n",
    "\n",
    "# 수정된 get_clf_eval() 함수 \n",
    "def get_clf_eval(y_test, pred=None, pred_proba=None):\n",
    "    confusion = confusion_matrix( y_test, pred)\n",
    "    accuracy = accuracy_score(y_test , pred)\n",
    "    precision = precision_score(y_test , pred)\n",
    "    recall = recall_score(y_test , pred)\n",
    "    f1 = f1_score(y_test,pred)\n",
    "    # ROC-AUC 추가 \n",
    "    roc_auc = roc_auc_score(y_test, pred_proba)\n",
    "    print('오차 행렬')\n",
    "    print(confusion)\n",
    "    # ROC-AUC print 추가\n",
    "    print('정확도: {0:.4f}, 정밀도: {1:.4f}, 재현율: {2:.4f},\\\n",
    "    F1: {3:.4f}, AUC:{4:.4f}'.format(accuracy, precision, recall, f1, roc_auc))"
   ]
  },
  {
   "cell_type": "code",
   "execution_count": 101,
   "id": "9ae8da5b-0c81-49a3-85cf-cf2969b504c3",
   "metadata": {},
   "outputs": [
    {
     "name": "stdout",
     "output_type": "stream",
     "text": [
      "오차 행렬\n",
      "[[54603 17151]\n",
      " [ 1672  2304]]\n",
      "정확도: 0.7514, 정밀도: 0.1184, 재현율: 0.5795,    F1: 0.1967, AUC:0.7390\n"
     ]
    }
   ],
   "source": [
    "# 테스트 레이블 y_test 예측 레이블/예측확률 preds/pred_probs\n",
    "get_clf_eval(y_test,preds,pred_probs)"
   ]
  },
  {
   "cell_type": "code",
   "execution_count": 102,
   "id": "7a77dd86-e020-488b-837c-2787903456ba",
   "metadata": {},
   "outputs": [
    {
     "data": {
      "text/plain": [
       "<AxesSubplot:title={'center':'Feature importance'}, xlabel='F score', ylabel='Features'>"
      ]
     },
     "execution_count": 102,
     "metadata": {},
     "output_type": "execute_result"
    },
    {
     "data": {
      "image/png": "[encoded data removed]",
      "text/plain": [
       "<Figure size 1000x1000 with 1 Axes>"
      ]
     },
     "metadata": {},
     "output_type": "display_data"
    }
   ],
   "source": [
    "import matplotlib.pyplot as plt\n",
    "%matplotlib inline\n",
    "fig, ax = plt.subplots(figsize=(10,10)) # 1개의 그래프 공간 생성\n",
    "plot_importance(xgb_model, ax=ax)"
   ]
  },
  {
   "cell_type": "markdown",
   "id": "f95e65d9-3c2d-4fe0-af8d-9021aba1e78f",
   "metadata": {},
   "source": [
    "## 강의 document\n",
    "    - 머신러닝_5_3_1_XGBoost(eXtra Gradient Boost) 아랫 부분\n",
    "        - 사이킷런 레퍼 XGBoost 클래스인 XGBClassifier 임포트"
   ]
  },
  {
   "cell_type": "markdown",
   "id": "406cc414-82e2-4933-9642-c0daa20b27be",
   "metadata": {},
   "source": [
    "### early_stopping_rounds = 400"
   ]
  },
  {
   "cell_type": "code",
   "execution_count": 30,
   "id": "ac3bb2c2-6fbb-438c-ada8-94d136a10a76",
   "metadata": {
    "collapsed": true,
    "jupyter": {
     "outputs_hidden": true
    },
    "tags": []
   },
   "outputs": [
    {
     "name": "stdout",
     "output_type": "stream",
     "text": [
      "[0]\tvalidation_0-logloss:0.61655\n",
      "[1]\tvalidation_0-logloss:0.55395\n",
      "[2]\tvalidation_0-logloss:0.50198\n",
      "[3]\tvalidation_0-logloss:0.45838\n",
      "[4]\tvalidation_0-logloss:0.42144\n",
      "[5]\tvalidation_0-logloss:0.38995\n",
      "[6]\tvalidation_0-logloss:0.36298\n",
      "[7]\tvalidation_0-logloss:0.33975\n",
      "[8]\tvalidation_0-logloss:0.31969\n",
      "[9]\tvalidation_0-logloss:0.30235\n",
      "[10]\tvalidation_0-logloss:0.28727\n",
      "[11]\tvalidation_0-logloss:0.27421\n",
      "[12]\tvalidation_0-logloss:0.26280\n",
      "[13]\tvalidation_0-logloss:0.25285\n",
      "[14]\tvalidation_0-logloss:0.24419\n",
      "[15]\tvalidation_0-logloss:0.23666\n",
      "[16]\tvalidation_0-logloss:0.23007\n",
      "[17]\tvalidation_0-logloss:0.22434\n",
      "[18]\tvalidation_0-logloss:0.21932\n",
      "[19]\tvalidation_0-logloss:0.21493\n",
      "[20]\tvalidation_0-logloss:0.21110\n",
      "[21]\tvalidation_0-logloss:0.20778\n",
      "[22]\tvalidation_0-logloss:0.20488\n",
      "[23]\tvalidation_0-logloss:0.20236\n",
      "[24]\tvalidation_0-logloss:0.20013\n",
      "[25]\tvalidation_0-logloss:0.19822\n",
      "[26]\tvalidation_0-logloss:0.19654\n",
      "[27]\tvalidation_0-logloss:0.19508\n",
      "[28]\tvalidation_0-logloss:0.19379\n",
      "[29]\tvalidation_0-logloss:0.19272\n",
      "[30]\tvalidation_0-logloss:0.19176\n",
      "[31]\tvalidation_0-logloss:0.19091\n",
      "[32]\tvalidation_0-logloss:0.19017\n",
      "[33]\tvalidation_0-logloss:0.18951\n",
      "[34]\tvalidation_0-logloss:0.18895\n",
      "[35]\tvalidation_0-logloss:0.18844\n",
      "[36]\tvalidation_0-logloss:0.18799\n",
      "[37]\tvalidation_0-logloss:0.18760\n",
      "[38]\tvalidation_0-logloss:0.18727\n",
      "[39]\tvalidation_0-logloss:0.18697\n",
      "[40]\tvalidation_0-logloss:0.18673\n",
      "[41]\tvalidation_0-logloss:0.18648\n",
      "[42]\tvalidation_0-logloss:0.18626\n",
      "[43]\tvalidation_0-logloss:0.18604\n",
      "[44]\tvalidation_0-logloss:0.18588\n",
      "[45]\tvalidation_0-logloss:0.18575\n",
      "[46]\tvalidation_0-logloss:0.18562\n",
      "[47]\tvalidation_0-logloss:0.18549\n",
      "[48]\tvalidation_0-logloss:0.18539\n",
      "[49]\tvalidation_0-logloss:0.18527\n",
      "[50]\tvalidation_0-logloss:0.18518\n",
      "[51]\tvalidation_0-logloss:0.18509\n",
      "[52]\tvalidation_0-logloss:0.18502\n",
      "[53]\tvalidation_0-logloss:0.18496\n",
      "[54]\tvalidation_0-logloss:0.18490\n",
      "[55]\tvalidation_0-logloss:0.18482\n",
      "[56]\tvalidation_0-logloss:0.18476\n",
      "[57]\tvalidation_0-logloss:0.18472\n",
      "[58]\tvalidation_0-logloss:0.18467\n",
      "[59]\tvalidation_0-logloss:0.18462\n",
      "[60]\tvalidation_0-logloss:0.18457\n",
      "[61]\tvalidation_0-logloss:0.18454\n",
      "[62]\tvalidation_0-logloss:0.18451\n",
      "[63]\tvalidation_0-logloss:0.18447\n",
      "[64]\tvalidation_0-logloss:0.18444\n",
      "[65]\tvalidation_0-logloss:0.18441\n",
      "[66]\tvalidation_0-logloss:0.18439\n",
      "[67]\tvalidation_0-logloss:0.18437\n",
      "[68]\tvalidation_0-logloss:0.18436\n",
      "[69]\tvalidation_0-logloss:0.18434\n",
      "[70]\tvalidation_0-logloss:0.18433\n",
      "[71]\tvalidation_0-logloss:0.18431\n",
      "[72]\tvalidation_0-logloss:0.18429\n",
      "[73]\tvalidation_0-logloss:0.18428\n",
      "[74]\tvalidation_0-logloss:0.18426\n",
      "[75]\tvalidation_0-logloss:0.18425\n",
      "[76]\tvalidation_0-logloss:0.18423\n",
      "[77]\tvalidation_0-logloss:0.18422\n",
      "[78]\tvalidation_0-logloss:0.18421\n",
      "[79]\tvalidation_0-logloss:0.18421\n",
      "[80]\tvalidation_0-logloss:0.18420\n",
      "[81]\tvalidation_0-logloss:0.18419\n",
      "[82]\tvalidation_0-logloss:0.18419\n",
      "[83]\tvalidation_0-logloss:0.18419\n",
      "[84]\tvalidation_0-logloss:0.18418\n",
      "[85]\tvalidation_0-logloss:0.18417\n",
      "[86]\tvalidation_0-logloss:0.18416\n",
      "[87]\tvalidation_0-logloss:0.18416\n",
      "[88]\tvalidation_0-logloss:0.18415\n",
      "[89]\tvalidation_0-logloss:0.18416\n",
      "[90]\tvalidation_0-logloss:0.18415\n",
      "[91]\tvalidation_0-logloss:0.18414\n",
      "[92]\tvalidation_0-logloss:0.18414\n",
      "[93]\tvalidation_0-logloss:0.18414\n",
      "[94]\tvalidation_0-logloss:0.18414\n",
      "[95]\tvalidation_0-logloss:0.18415\n",
      "[96]\tvalidation_0-logloss:0.18414\n",
      "[97]\tvalidation_0-logloss:0.18413\n",
      "[98]\tvalidation_0-logloss:0.18413\n",
      "[99]\tvalidation_0-logloss:0.18413\n",
      "[100]\tvalidation_0-logloss:0.18413\n",
      "[101]\tvalidation_0-logloss:0.18413\n",
      "[102]\tvalidation_0-logloss:0.18413\n",
      "[103]\tvalidation_0-logloss:0.18412\n",
      "[104]\tvalidation_0-logloss:0.18413\n",
      "[105]\tvalidation_0-logloss:0.18413\n",
      "[106]\tvalidation_0-logloss:0.18413\n",
      "[107]\tvalidation_0-logloss:0.18413\n",
      "[108]\tvalidation_0-logloss:0.18413\n",
      "[109]\tvalidation_0-logloss:0.18413\n",
      "[110]\tvalidation_0-logloss:0.18413\n",
      "[111]\tvalidation_0-logloss:0.18414\n",
      "[112]\tvalidation_0-logloss:0.18414\n",
      "[113]\tvalidation_0-logloss:0.18413\n",
      "[114]\tvalidation_0-logloss:0.18414\n",
      "[115]\tvalidation_0-logloss:0.18413\n",
      "[116]\tvalidation_0-logloss:0.18414\n",
      "[117]\tvalidation_0-logloss:0.18414\n",
      "[118]\tvalidation_0-logloss:0.18414\n",
      "[119]\tvalidation_0-logloss:0.18415\n",
      "[120]\tvalidation_0-logloss:0.18415\n",
      "[121]\tvalidation_0-logloss:0.18415\n",
      "[122]\tvalidation_0-logloss:0.18415\n",
      "[123]\tvalidation_0-logloss:0.18416\n",
      "[124]\tvalidation_0-logloss:0.18415\n",
      "[125]\tvalidation_0-logloss:0.18416\n",
      "[126]\tvalidation_0-logloss:0.18416\n",
      "[127]\tvalidation_0-logloss:0.18416\n",
      "[128]\tvalidation_0-logloss:0.18416\n",
      "[129]\tvalidation_0-logloss:0.18416\n",
      "[130]\tvalidation_0-logloss:0.18417\n",
      "[131]\tvalidation_0-logloss:0.18417\n",
      "[132]\tvalidation_0-logloss:0.18417\n",
      "[133]\tvalidation_0-logloss:0.18417\n",
      "[134]\tvalidation_0-logloss:0.18417\n",
      "[135]\tvalidation_0-logloss:0.18418\n",
      "[136]\tvalidation_0-logloss:0.18418\n",
      "[137]\tvalidation_0-logloss:0.18418\n",
      "[138]\tvalidation_0-logloss:0.18418\n",
      "[139]\tvalidation_0-logloss:0.18419\n",
      "[140]\tvalidation_0-logloss:0.18419\n",
      "[141]\tvalidation_0-logloss:0.18419\n",
      "[142]\tvalidation_0-logloss:0.18419\n",
      "[143]\tvalidation_0-logloss:0.18419\n",
      "[144]\tvalidation_0-logloss:0.18419\n",
      "[145]\tvalidation_0-logloss:0.18419\n",
      "[146]\tvalidation_0-logloss:0.18419\n",
      "[147]\tvalidation_0-logloss:0.18419\n",
      "[148]\tvalidation_0-logloss:0.18418\n",
      "[149]\tvalidation_0-logloss:0.18418\n",
      "[150]\tvalidation_0-logloss:0.18418\n",
      "[151]\tvalidation_0-logloss:0.18418\n",
      "[152]\tvalidation_0-logloss:0.18418\n",
      "[153]\tvalidation_0-logloss:0.18418\n",
      "[154]\tvalidation_0-logloss:0.18419\n",
      "[155]\tvalidation_0-logloss:0.18418\n",
      "[156]\tvalidation_0-logloss:0.18418\n",
      "[157]\tvalidation_0-logloss:0.18418\n",
      "[158]\tvalidation_0-logloss:0.18418\n",
      "[159]\tvalidation_0-logloss:0.18418\n",
      "[160]\tvalidation_0-logloss:0.18418\n",
      "[161]\tvalidation_0-logloss:0.18419\n",
      "[162]\tvalidation_0-logloss:0.18419\n",
      "[163]\tvalidation_0-logloss:0.18419\n",
      "[164]\tvalidation_0-logloss:0.18419\n",
      "[165]\tvalidation_0-logloss:0.18419\n",
      "[166]\tvalidation_0-logloss:0.18419\n",
      "[167]\tvalidation_0-logloss:0.18419\n",
      "[168]\tvalidation_0-logloss:0.18420\n",
      "[169]\tvalidation_0-logloss:0.18420\n",
      "[170]\tvalidation_0-logloss:0.18420\n",
      "[171]\tvalidation_0-logloss:0.18420\n",
      "[172]\tvalidation_0-logloss:0.18421\n",
      "[173]\tvalidation_0-logloss:0.18420\n",
      "[174]\tvalidation_0-logloss:0.18421\n",
      "[175]\tvalidation_0-logloss:0.18421\n",
      "[176]\tvalidation_0-logloss:0.18421\n",
      "[177]\tvalidation_0-logloss:0.18422\n",
      "[178]\tvalidation_0-logloss:0.18422\n",
      "[179]\tvalidation_0-logloss:0.18422\n",
      "[180]\tvalidation_0-logloss:0.18422\n",
      "[181]\tvalidation_0-logloss:0.18422\n",
      "[182]\tvalidation_0-logloss:0.18422\n",
      "[183]\tvalidation_0-logloss:0.18422\n",
      "[184]\tvalidation_0-logloss:0.18422\n",
      "[185]\tvalidation_0-logloss:0.18423\n",
      "[186]\tvalidation_0-logloss:0.18423\n",
      "[187]\tvalidation_0-logloss:0.18423\n",
      "[188]\tvalidation_0-logloss:0.18423\n",
      "[189]\tvalidation_0-logloss:0.18423\n",
      "[190]\tvalidation_0-logloss:0.18423\n",
      "[191]\tvalidation_0-logloss:0.18423\n",
      "[192]\tvalidation_0-logloss:0.18423\n",
      "[193]\tvalidation_0-logloss:0.18423\n",
      "[194]\tvalidation_0-logloss:0.18423\n",
      "[195]\tvalidation_0-logloss:0.18423\n",
      "[196]\tvalidation_0-logloss:0.18423\n",
      "[197]\tvalidation_0-logloss:0.18423\n",
      "[198]\tvalidation_0-logloss:0.18423\n",
      "[199]\tvalidation_0-logloss:0.18423\n",
      "[200]\tvalidation_0-logloss:0.18423\n",
      "[201]\tvalidation_0-logloss:0.18423\n",
      "[202]\tvalidation_0-logloss:0.18423\n",
      "[203]\tvalidation_0-logloss:0.18423\n",
      "[204]\tvalidation_0-logloss:0.18423\n",
      "[205]\tvalidation_0-logloss:0.18423\n",
      "[206]\tvalidation_0-logloss:0.18423\n",
      "[207]\tvalidation_0-logloss:0.18423\n",
      "[208]\tvalidation_0-logloss:0.18423\n",
      "[209]\tvalidation_0-logloss:0.18423\n",
      "[210]\tvalidation_0-logloss:0.18423\n",
      "[211]\tvalidation_0-logloss:0.18424\n",
      "[212]\tvalidation_0-logloss:0.18424\n",
      "[213]\tvalidation_0-logloss:0.18424\n",
      "[214]\tvalidation_0-logloss:0.18424\n",
      "[215]\tvalidation_0-logloss:0.18424\n",
      "[216]\tvalidation_0-logloss:0.18424\n",
      "[217]\tvalidation_0-logloss:0.18424\n",
      "[218]\tvalidation_0-logloss:0.18424\n",
      "[219]\tvalidation_0-logloss:0.18424\n",
      "[220]\tvalidation_0-logloss:0.18424\n",
      "[221]\tvalidation_0-logloss:0.18424\n",
      "[222]\tvalidation_0-logloss:0.18424\n",
      "[223]\tvalidation_0-logloss:0.18424\n",
      "[224]\tvalidation_0-logloss:0.18425\n",
      "[225]\tvalidation_0-logloss:0.18425\n",
      "[226]\tvalidation_0-logloss:0.18425\n",
      "[227]\tvalidation_0-logloss:0.18425\n",
      "[228]\tvalidation_0-logloss:0.18425\n",
      "[229]\tvalidation_0-logloss:0.18425\n",
      "[230]\tvalidation_0-logloss:0.18425\n",
      "[231]\tvalidation_0-logloss:0.18425\n",
      "[232]\tvalidation_0-logloss:0.18425\n",
      "[233]\tvalidation_0-logloss:0.18425\n",
      "[234]\tvalidation_0-logloss:0.18425\n",
      "[235]\tvalidation_0-logloss:0.18425\n",
      "[236]\tvalidation_0-logloss:0.18424\n",
      "[237]\tvalidation_0-logloss:0.18424\n",
      "[238]\tvalidation_0-logloss:0.18424\n",
      "[239]\tvalidation_0-logloss:0.18424\n",
      "[240]\tvalidation_0-logloss:0.18424\n",
      "[241]\tvalidation_0-logloss:0.18424\n",
      "[242]\tvalidation_0-logloss:0.18424\n",
      "[243]\tvalidation_0-logloss:0.18424\n",
      "[244]\tvalidation_0-logloss:0.18425\n",
      "[245]\tvalidation_0-logloss:0.18424\n",
      "[246]\tvalidation_0-logloss:0.18425\n",
      "[247]\tvalidation_0-logloss:0.18425\n",
      "[248]\tvalidation_0-logloss:0.18425\n",
      "[249]\tvalidation_0-logloss:0.18425\n",
      "[250]\tvalidation_0-logloss:0.18425\n",
      "[251]\tvalidation_0-logloss:0.18425\n",
      "[252]\tvalidation_0-logloss:0.18425\n",
      "[253]\tvalidation_0-logloss:0.18425\n",
      "[254]\tvalidation_0-logloss:0.18425\n",
      "[255]\tvalidation_0-logloss:0.18425\n",
      "[256]\tvalidation_0-logloss:0.18425\n",
      "[257]\tvalidation_0-logloss:0.18425\n",
      "[258]\tvalidation_0-logloss:0.18425\n",
      "[259]\tvalidation_0-logloss:0.18425\n",
      "[260]\tvalidation_0-logloss:0.18425\n",
      "[261]\tvalidation_0-logloss:0.18425\n",
      "[262]\tvalidation_0-logloss:0.18425\n",
      "[263]\tvalidation_0-logloss:0.18425\n",
      "[264]\tvalidation_0-logloss:0.18426\n",
      "[265]\tvalidation_0-logloss:0.18426\n",
      "[266]\tvalidation_0-logloss:0.18426\n",
      "[267]\tvalidation_0-logloss:0.18426\n",
      "[268]\tvalidation_0-logloss:0.18426\n",
      "[269]\tvalidation_0-logloss:0.18426\n",
      "[270]\tvalidation_0-logloss:0.18426\n",
      "[271]\tvalidation_0-logloss:0.18426\n",
      "[272]\tvalidation_0-logloss:0.18426\n",
      "[273]\tvalidation_0-logloss:0.18426\n",
      "[274]\tvalidation_0-logloss:0.18426\n",
      "[275]\tvalidation_0-logloss:0.18426\n",
      "[276]\tvalidation_0-logloss:0.18426\n",
      "[277]\tvalidation_0-logloss:0.18426\n",
      "[278]\tvalidation_0-logloss:0.18426\n",
      "[279]\tvalidation_0-logloss:0.18426\n",
      "[280]\tvalidation_0-logloss:0.18426\n",
      "[281]\tvalidation_0-logloss:0.18426\n",
      "[282]\tvalidation_0-logloss:0.18426\n",
      "[283]\tvalidation_0-logloss:0.18426\n",
      "[284]\tvalidation_0-logloss:0.18426\n",
      "[285]\tvalidation_0-logloss:0.18426\n",
      "[286]\tvalidation_0-logloss:0.18426\n",
      "[287]\tvalidation_0-logloss:0.18426\n",
      "[288]\tvalidation_0-logloss:0.18426\n",
      "[289]\tvalidation_0-logloss:0.18426\n",
      "[290]\tvalidation_0-logloss:0.18426\n",
      "[291]\tvalidation_0-logloss:0.18427\n",
      "[292]\tvalidation_0-logloss:0.18427\n",
      "[293]\tvalidation_0-logloss:0.18427\n",
      "[294]\tvalidation_0-logloss:0.18427\n",
      "[295]\tvalidation_0-logloss:0.18427\n",
      "[296]\tvalidation_0-logloss:0.18427\n",
      "[297]\tvalidation_0-logloss:0.18428\n",
      "[298]\tvalidation_0-logloss:0.18428\n",
      "[299]\tvalidation_0-logloss:0.18428\n",
      "[300]\tvalidation_0-logloss:0.18428\n",
      "[301]\tvalidation_0-logloss:0.18428\n",
      "[302]\tvalidation_0-logloss:0.18428\n",
      "[303]\tvalidation_0-logloss:0.18428\n",
      "[304]\tvalidation_0-logloss:0.18428\n",
      "[305]\tvalidation_0-logloss:0.18428\n",
      "[306]\tvalidation_0-logloss:0.18428\n",
      "[307]\tvalidation_0-logloss:0.18428\n",
      "[308]\tvalidation_0-logloss:0.18428\n",
      "[309]\tvalidation_0-logloss:0.18428\n",
      "[310]\tvalidation_0-logloss:0.18428\n",
      "[311]\tvalidation_0-logloss:0.18428\n",
      "[312]\tvalidation_0-logloss:0.18428\n",
      "[313]\tvalidation_0-logloss:0.18428\n",
      "[314]\tvalidation_0-logloss:0.18428\n",
      "[315]\tvalidation_0-logloss:0.18428\n",
      "[316]\tvalidation_0-logloss:0.18428\n",
      "[317]\tvalidation_0-logloss:0.18428\n",
      "[318]\tvalidation_0-logloss:0.18428\n",
      "[319]\tvalidation_0-logloss:0.18428\n",
      "[320]\tvalidation_0-logloss:0.18428\n",
      "[321]\tvalidation_0-logloss:0.18428\n",
      "[322]\tvalidation_0-logloss:0.18428\n",
      "[323]\tvalidation_0-logloss:0.18428\n",
      "[324]\tvalidation_0-logloss:0.18428\n",
      "[325]\tvalidation_0-logloss:0.18428\n",
      "[326]\tvalidation_0-logloss:0.18428\n",
      "[327]\tvalidation_0-logloss:0.18428\n",
      "[328]\tvalidation_0-logloss:0.18428\n",
      "[329]\tvalidation_0-logloss:0.18428\n",
      "[330]\tvalidation_0-logloss:0.18428\n",
      "[331]\tvalidation_0-logloss:0.18428\n",
      "[332]\tvalidation_0-logloss:0.18428\n",
      "[333]\tvalidation_0-logloss:0.18428\n",
      "[334]\tvalidation_0-logloss:0.18428\n",
      "[335]\tvalidation_0-logloss:0.18428\n",
      "[336]\tvalidation_0-logloss:0.18428\n",
      "[337]\tvalidation_0-logloss:0.18428\n",
      "[338]\tvalidation_0-logloss:0.18428\n",
      "[339]\tvalidation_0-logloss:0.18428\n",
      "[340]\tvalidation_0-logloss:0.18428\n",
      "[341]\tvalidation_0-logloss:0.18428\n",
      "[342]\tvalidation_0-logloss:0.18428\n",
      "[343]\tvalidation_0-logloss:0.18428\n",
      "[344]\tvalidation_0-logloss:0.18428\n",
      "[345]\tvalidation_0-logloss:0.18428\n",
      "[346]\tvalidation_0-logloss:0.18428\n",
      "[347]\tvalidation_0-logloss:0.18428\n",
      "[348]\tvalidation_0-logloss:0.18428\n",
      "[349]\tvalidation_0-logloss:0.18429\n",
      "[350]\tvalidation_0-logloss:0.18429\n",
      "[351]\tvalidation_0-logloss:0.18429\n",
      "[352]\tvalidation_0-logloss:0.18429\n",
      "[353]\tvalidation_0-logloss:0.18429\n",
      "[354]\tvalidation_0-logloss:0.18429\n",
      "[355]\tvalidation_0-logloss:0.18429\n",
      "[356]\tvalidation_0-logloss:0.18429\n",
      "[357]\tvalidation_0-logloss:0.18429\n",
      "[358]\tvalidation_0-logloss:0.18429\n",
      "[359]\tvalidation_0-logloss:0.18429\n",
      "[360]\tvalidation_0-logloss:0.18429\n",
      "[361]\tvalidation_0-logloss:0.18429\n",
      "[362]\tvalidation_0-logloss:0.18429\n",
      "[363]\tvalidation_0-logloss:0.18429\n",
      "[364]\tvalidation_0-logloss:0.18429\n",
      "[365]\tvalidation_0-logloss:0.18429\n",
      "[366]\tvalidation_0-logloss:0.18429\n",
      "[367]\tvalidation_0-logloss:0.18429\n",
      "[368]\tvalidation_0-logloss:0.18430\n",
      "[369]\tvalidation_0-logloss:0.18430\n",
      "[370]\tvalidation_0-logloss:0.18430\n",
      "[371]\tvalidation_0-logloss:0.18430\n",
      "[372]\tvalidation_0-logloss:0.18430\n",
      "[373]\tvalidation_0-logloss:0.18430\n",
      "[374]\tvalidation_0-logloss:0.18430\n",
      "[375]\tvalidation_0-logloss:0.18430\n",
      "[376]\tvalidation_0-logloss:0.18430\n",
      "[377]\tvalidation_0-logloss:0.18430\n",
      "[378]\tvalidation_0-logloss:0.18431\n",
      "[379]\tvalidation_0-logloss:0.18431\n",
      "[380]\tvalidation_0-logloss:0.18431\n",
      "[381]\tvalidation_0-logloss:0.18431\n",
      "[382]\tvalidation_0-logloss:0.18431\n",
      "[383]\tvalidation_0-logloss:0.18431\n",
      "[384]\tvalidation_0-logloss:0.18431\n",
      "[385]\tvalidation_0-logloss:0.18431\n",
      "[386]\tvalidation_0-logloss:0.18431\n",
      "[387]\tvalidation_0-logloss:0.18432\n",
      "[388]\tvalidation_0-logloss:0.18432\n",
      "[389]\tvalidation_0-logloss:0.18432\n",
      "[390]\tvalidation_0-logloss:0.18432\n",
      "[391]\tvalidation_0-logloss:0.18432\n",
      "[392]\tvalidation_0-logloss:0.18432\n",
      "[393]\tvalidation_0-logloss:0.18432\n",
      "[394]\tvalidation_0-logloss:0.18432\n",
      "[395]\tvalidation_0-logloss:0.18433\n",
      "[396]\tvalidation_0-logloss:0.18433\n",
      "[397]\tvalidation_0-logloss:0.18433\n",
      "[398]\tvalidation_0-logloss:0.18433\n",
      "[399]\tvalidation_0-logloss:0.18433\n"
     ]
    }
   ],
   "source": [
    "from xgboost import XGBClassifier\n",
    "\n",
    "evals = [(X_test, y_test)]\n",
    "xgb_wrapper = XGBClassifier(n_estimators = 400, learning_rate = 0.1, max_depth = 3)\n",
    "xgb_wrapper.fit(X_train, y_train, early_stopping_rounds = 400, eval_set = evals, eval_metric = \"logloss\", verbose = True)\n",
    "xgb_wrapper.fit(X_train, y_train)\n",
    "\n",
    "w_preds = xgb_wrapper.predict(X_test)\n",
    "w_pred_proba = xgb_wrapper.predict_proba(X_test)[:,1]"
   ]
  },
  {
   "cell_type": "code",
   "execution_count": 33,
   "id": "40f42ec3-9618-4d3b-8c54-48582802d208",
   "metadata": {},
   "outputs": [
    {
     "name": "stdout",
     "output_type": "stream",
     "text": [
      "오차 행렬\n",
      "[[71632     7]\n",
      " [ 4080    11]]\n",
      "정확도: 0.9460, 정밀도: 0.6111, 재현율: 0.0027,    F1: 0.0054, AUC:0.7734\n"
     ]
    }
   ],
   "source": [
    "get_clf_eval(y_test, w_preds, w_pred_proba)"
   ]
  },
  {
   "cell_type": "markdown",
   "id": "20d92aa6-ebb7-4627-922e-30b23b4487fb",
   "metadata": {},
   "source": [
    "### early_stopping_rounds = 100"
   ]
  },
  {
   "cell_type": "code",
   "execution_count": 29,
   "id": "8db71921-ea3a-4e01-bb69-79c36715ba64",
   "metadata": {
    "collapsed": true,
    "jupyter": {
     "outputs_hidden": true
    },
    "tags": []
   },
   "outputs": [
    {
     "name": "stdout",
     "output_type": "stream",
     "text": [
      "[0]\tvalidation_0-logloss:0.61655\n",
      "[1]\tvalidation_0-logloss:0.55395\n",
      "[2]\tvalidation_0-logloss:0.50198\n",
      "[3]\tvalidation_0-logloss:0.45838\n",
      "[4]\tvalidation_0-logloss:0.42144\n",
      "[5]\tvalidation_0-logloss:0.38995\n",
      "[6]\tvalidation_0-logloss:0.36298\n",
      "[7]\tvalidation_0-logloss:0.33975\n",
      "[8]\tvalidation_0-logloss:0.31969\n",
      "[9]\tvalidation_0-logloss:0.30235\n",
      "[10]\tvalidation_0-logloss:0.28727\n",
      "[11]\tvalidation_0-logloss:0.27421\n",
      "[12]\tvalidation_0-logloss:0.26280\n",
      "[13]\tvalidation_0-logloss:0.25285\n",
      "[14]\tvalidation_0-logloss:0.24419\n",
      "[15]\tvalidation_0-logloss:0.23666\n",
      "[16]\tvalidation_0-logloss:0.23007\n",
      "[17]\tvalidation_0-logloss:0.22434\n",
      "[18]\tvalidation_0-logloss:0.21932\n",
      "[19]\tvalidation_0-logloss:0.21493\n",
      "[20]\tvalidation_0-logloss:0.21110\n",
      "[21]\tvalidation_0-logloss:0.20778\n",
      "[22]\tvalidation_0-logloss:0.20488\n",
      "[23]\tvalidation_0-logloss:0.20236\n",
      "[24]\tvalidation_0-logloss:0.20013\n",
      "[25]\tvalidation_0-logloss:0.19822\n",
      "[26]\tvalidation_0-logloss:0.19654\n",
      "[27]\tvalidation_0-logloss:0.19508\n",
      "[28]\tvalidation_0-logloss:0.19379\n",
      "[29]\tvalidation_0-logloss:0.19272\n",
      "[30]\tvalidation_0-logloss:0.19176\n",
      "[31]\tvalidation_0-logloss:0.19091\n",
      "[32]\tvalidation_0-logloss:0.19017\n",
      "[33]\tvalidation_0-logloss:0.18951\n",
      "[34]\tvalidation_0-logloss:0.18895\n",
      "[35]\tvalidation_0-logloss:0.18844\n",
      "[36]\tvalidation_0-logloss:0.18799\n",
      "[37]\tvalidation_0-logloss:0.18760\n",
      "[38]\tvalidation_0-logloss:0.18727\n",
      "[39]\tvalidation_0-logloss:0.18697\n",
      "[40]\tvalidation_0-logloss:0.18673\n",
      "[41]\tvalidation_0-logloss:0.18648\n",
      "[42]\tvalidation_0-logloss:0.18626\n",
      "[43]\tvalidation_0-logloss:0.18604\n",
      "[44]\tvalidation_0-logloss:0.18588\n",
      "[45]\tvalidation_0-logloss:0.18575\n",
      "[46]\tvalidation_0-logloss:0.18562\n",
      "[47]\tvalidation_0-logloss:0.18549\n",
      "[48]\tvalidation_0-logloss:0.18539\n",
      "[49]\tvalidation_0-logloss:0.18527\n",
      "[50]\tvalidation_0-logloss:0.18518\n",
      "[51]\tvalidation_0-logloss:0.18509\n",
      "[52]\tvalidation_0-logloss:0.18502\n",
      "[53]\tvalidation_0-logloss:0.18496\n",
      "[54]\tvalidation_0-logloss:0.18490\n",
      "[55]\tvalidation_0-logloss:0.18482\n",
      "[56]\tvalidation_0-logloss:0.18476\n",
      "[57]\tvalidation_0-logloss:0.18472\n",
      "[58]\tvalidation_0-logloss:0.18467\n",
      "[59]\tvalidation_0-logloss:0.18462\n",
      "[60]\tvalidation_0-logloss:0.18457\n",
      "[61]\tvalidation_0-logloss:0.18454\n",
      "[62]\tvalidation_0-logloss:0.18451\n",
      "[63]\tvalidation_0-logloss:0.18447\n",
      "[64]\tvalidation_0-logloss:0.18444\n",
      "[65]\tvalidation_0-logloss:0.18441\n",
      "[66]\tvalidation_0-logloss:0.18439\n",
      "[67]\tvalidation_0-logloss:0.18437\n",
      "[68]\tvalidation_0-logloss:0.18436\n",
      "[69]\tvalidation_0-logloss:0.18434\n",
      "[70]\tvalidation_0-logloss:0.18433\n",
      "[71]\tvalidation_0-logloss:0.18431\n",
      "[72]\tvalidation_0-logloss:0.18429\n",
      "[73]\tvalidation_0-logloss:0.18428\n",
      "[74]\tvalidation_0-logloss:0.18426\n",
      "[75]\tvalidation_0-logloss:0.18425\n",
      "[76]\tvalidation_0-logloss:0.18423\n",
      "[77]\tvalidation_0-logloss:0.18422\n",
      "[78]\tvalidation_0-logloss:0.18421\n",
      "[79]\tvalidation_0-logloss:0.18421\n",
      "[80]\tvalidation_0-logloss:0.18420\n",
      "[81]\tvalidation_0-logloss:0.18419\n",
      "[82]\tvalidation_0-logloss:0.18419\n",
      "[83]\tvalidation_0-logloss:0.18419\n",
      "[84]\tvalidation_0-logloss:0.18418\n",
      "[85]\tvalidation_0-logloss:0.18417\n",
      "[86]\tvalidation_0-logloss:0.18416\n",
      "[87]\tvalidation_0-logloss:0.18416\n",
      "[88]\tvalidation_0-logloss:0.18415\n",
      "[89]\tvalidation_0-logloss:0.18416\n",
      "[90]\tvalidation_0-logloss:0.18415\n",
      "[91]\tvalidation_0-logloss:0.18414\n",
      "[92]\tvalidation_0-logloss:0.18414\n",
      "[93]\tvalidation_0-logloss:0.18414\n",
      "[94]\tvalidation_0-logloss:0.18414\n",
      "[95]\tvalidation_0-logloss:0.18415\n",
      "[96]\tvalidation_0-logloss:0.18414\n",
      "[97]\tvalidation_0-logloss:0.18413\n",
      "[98]\tvalidation_0-logloss:0.18413\n",
      "[99]\tvalidation_0-logloss:0.18413\n",
      "[100]\tvalidation_0-logloss:0.18413\n",
      "[101]\tvalidation_0-logloss:0.18413\n",
      "[102]\tvalidation_0-logloss:0.18413\n",
      "[103]\tvalidation_0-logloss:0.18412\n",
      "[104]\tvalidation_0-logloss:0.18413\n",
      "[105]\tvalidation_0-logloss:0.18413\n",
      "[106]\tvalidation_0-logloss:0.18413\n",
      "[107]\tvalidation_0-logloss:0.18413\n",
      "[108]\tvalidation_0-logloss:0.18413\n",
      "[109]\tvalidation_0-logloss:0.18413\n",
      "[110]\tvalidation_0-logloss:0.18413\n",
      "[111]\tvalidation_0-logloss:0.18414\n",
      "[112]\tvalidation_0-logloss:0.18414\n",
      "[113]\tvalidation_0-logloss:0.18413\n",
      "[114]\tvalidation_0-logloss:0.18414\n",
      "[115]\tvalidation_0-logloss:0.18413\n",
      "[116]\tvalidation_0-logloss:0.18414\n",
      "[117]\tvalidation_0-logloss:0.18414\n",
      "[118]\tvalidation_0-logloss:0.18414\n",
      "[119]\tvalidation_0-logloss:0.18415\n",
      "[120]\tvalidation_0-logloss:0.18415\n",
      "[121]\tvalidation_0-logloss:0.18415\n",
      "[122]\tvalidation_0-logloss:0.18415\n",
      "[123]\tvalidation_0-logloss:0.18416\n",
      "[124]\tvalidation_0-logloss:0.18415\n",
      "[125]\tvalidation_0-logloss:0.18416\n",
      "[126]\tvalidation_0-logloss:0.18416\n",
      "[127]\tvalidation_0-logloss:0.18416\n",
      "[128]\tvalidation_0-logloss:0.18416\n",
      "[129]\tvalidation_0-logloss:0.18416\n",
      "[130]\tvalidation_0-logloss:0.18417\n",
      "[131]\tvalidation_0-logloss:0.18417\n",
      "[132]\tvalidation_0-logloss:0.18417\n",
      "[133]\tvalidation_0-logloss:0.18417\n",
      "[134]\tvalidation_0-logloss:0.18417\n",
      "[135]\tvalidation_0-logloss:0.18418\n",
      "[136]\tvalidation_0-logloss:0.18418\n",
      "[137]\tvalidation_0-logloss:0.18418\n",
      "[138]\tvalidation_0-logloss:0.18418\n",
      "[139]\tvalidation_0-logloss:0.18419\n",
      "[140]\tvalidation_0-logloss:0.18419\n",
      "[141]\tvalidation_0-logloss:0.18419\n",
      "[142]\tvalidation_0-logloss:0.18419\n",
      "[143]\tvalidation_0-logloss:0.18419\n",
      "[144]\tvalidation_0-logloss:0.18419\n",
      "[145]\tvalidation_0-logloss:0.18419\n",
      "[146]\tvalidation_0-logloss:0.18419\n",
      "[147]\tvalidation_0-logloss:0.18419\n",
      "[148]\tvalidation_0-logloss:0.18418\n",
      "[149]\tvalidation_0-logloss:0.18418\n",
      "[150]\tvalidation_0-logloss:0.18418\n",
      "[151]\tvalidation_0-logloss:0.18418\n",
      "[152]\tvalidation_0-logloss:0.18418\n",
      "[153]\tvalidation_0-logloss:0.18418\n",
      "[154]\tvalidation_0-logloss:0.18419\n",
      "[155]\tvalidation_0-logloss:0.18418\n",
      "[156]\tvalidation_0-logloss:0.18418\n",
      "[157]\tvalidation_0-logloss:0.18418\n",
      "[158]\tvalidation_0-logloss:0.18418\n",
      "[159]\tvalidation_0-logloss:0.18418\n",
      "[160]\tvalidation_0-logloss:0.18418\n",
      "[161]\tvalidation_0-logloss:0.18419\n",
      "[162]\tvalidation_0-logloss:0.18419\n",
      "[163]\tvalidation_0-logloss:0.18419\n",
      "[164]\tvalidation_0-logloss:0.18419\n",
      "[165]\tvalidation_0-logloss:0.18419\n",
      "[166]\tvalidation_0-logloss:0.18419\n",
      "[167]\tvalidation_0-logloss:0.18419\n",
      "[168]\tvalidation_0-logloss:0.18420\n",
      "[169]\tvalidation_0-logloss:0.18420\n",
      "[170]\tvalidation_0-logloss:0.18420\n",
      "[171]\tvalidation_0-logloss:0.18420\n",
      "[172]\tvalidation_0-logloss:0.18421\n",
      "[173]\tvalidation_0-logloss:0.18420\n",
      "[174]\tvalidation_0-logloss:0.18421\n",
      "[175]\tvalidation_0-logloss:0.18421\n",
      "[176]\tvalidation_0-logloss:0.18421\n",
      "[177]\tvalidation_0-logloss:0.18422\n",
      "[178]\tvalidation_0-logloss:0.18422\n",
      "[179]\tvalidation_0-logloss:0.18422\n",
      "[180]\tvalidation_0-logloss:0.18422\n",
      "[181]\tvalidation_0-logloss:0.18422\n",
      "[182]\tvalidation_0-logloss:0.18422\n",
      "[183]\tvalidation_0-logloss:0.18422\n",
      "[184]\tvalidation_0-logloss:0.18422\n",
      "[185]\tvalidation_0-logloss:0.18423\n",
      "[186]\tvalidation_0-logloss:0.18423\n",
      "[187]\tvalidation_0-logloss:0.18423\n",
      "[188]\tvalidation_0-logloss:0.18423\n",
      "[189]\tvalidation_0-logloss:0.18423\n",
      "[190]\tvalidation_0-logloss:0.18423\n",
      "[191]\tvalidation_0-logloss:0.18423\n",
      "[192]\tvalidation_0-logloss:0.18423\n",
      "[193]\tvalidation_0-logloss:0.18423\n",
      "[194]\tvalidation_0-logloss:0.18423\n",
      "[195]\tvalidation_0-logloss:0.18423\n",
      "[196]\tvalidation_0-logloss:0.18423\n",
      "[197]\tvalidation_0-logloss:0.18423\n",
      "[198]\tvalidation_0-logloss:0.18423\n",
      "[199]\tvalidation_0-logloss:0.18423\n",
      "[200]\tvalidation_0-logloss:0.18423\n",
      "[201]\tvalidation_0-logloss:0.18423\n",
      "[202]\tvalidation_0-logloss:0.18423\n"
     ]
    }
   ],
   "source": [
    "xgb_wrapper = XGBClassifier(n_estimators = 400, learning_rate = 0.1, max_depth = 3)\n",
    "\n",
    "evals = [(X_test, y_test)]\n",
    "xgb_wrapper.fit(X_train, y_train, early_stopping_rounds = 100, eval_metric = 'logloss', \\\n",
    "                eval_set = evals, verbose = True)\n",
    "\n",
    "ws100_preds = xgb_wrapper.predict(X_test)\n",
    "ws100_pred_proba = xgb_wrapper.predict_proba(X_test)[:,1]"
   ]
  },
  {
   "cell_type": "code",
   "execution_count": 32,
   "id": "50528455-33bb-4b17-b4bf-ef6691e7e83a",
   "metadata": {},
   "outputs": [
    {
     "name": "stdout",
     "output_type": "stream",
     "text": [
      "오차 행렬\n",
      "[[71636     3]\n",
      " [ 4082     9]]\n",
      "정확도: 0.9461, 정밀도: 0.7500, 재현율: 0.0022,    F1: 0.0044, AUC:0.7743\n"
     ]
    }
   ],
   "source": [
    "get_clf_eval(y_test, ws100_preds, ws100_pred_proba)"
   ]
  },
  {
   "cell_type": "code",
   "execution_count": 34,
   "id": "1c61d190-da19-4641-a9da-2027be9d9c70",
   "metadata": {},
   "outputs": [
    {
     "data": {
      "text/plain": [
       "<AxesSubplot:title={'center':'Feature importance'}, xlabel='F score', ylabel='Features'>"
      ]
     },
     "execution_count": 34,
     "metadata": {},
     "output_type": "execute_result"
    },
    {
     "data": {
      "image/png": "[encoded data removed]",
      "text/plain": [
       "<Figure size 1000x1200 with 1 Axes>"
      ]
     },
     "metadata": {},
     "output_type": "display_data"
    }
   ],
   "source": [
    "from xgboost import plot_importance\n",
    "import matplotlib.pyplot as plt\n",
    "%matplotlib inline\n",
    "\n",
    "fig, ax = plt.subplots(figsize = (10, 12))\n",
    "plot_importance(xgb_wrapper, ax = ax)"
   ]
  },
  {
   "cell_type": "markdown",
   "id": "a1cea774-ccf8-4571-8e9a-05ac4b978a91",
   "metadata": {
    "tags": []
   },
   "source": [
    "## XGBoost 적용\n",
    "    - https://assaeunji.github.io/machine%20learning/2021-01-07-xgboost/ 참고"
   ]
  },
  {
   "cell_type": "code",
   "execution_count": 44,
   "id": "153265a2-ed47-455e-a28f-d85ae0d9914e",
   "metadata": {},
   "outputs": [],
   "source": [
    "from xgboost import XGBClassifier\n",
    "from xgboost import plot_importance\n",
    "import matplotlib.pyplot as plt"
   ]
  },
  {
   "cell_type": "code",
   "execution_count": 45,
   "id": "fbf98ec6-1eb6-4162-a96a-f5f4ab05086e",
   "metadata": {},
   "outputs": [
    {
     "name": "stdout",
     "output_type": "stream",
     "text": [
      "오차 행렬\n",
      "[[71626    13]\n",
      " [ 4084     7]]\n",
      "정확도: 0.9459, 정밀도: 0.3500, 재현율: 0.0017,    F1: 0.0034, AUC:0.7728\n"
     ]
    },
    {
     "data": {
      "text/plain": [
       "<AxesSubplot:title={'center':'Feature importance'}, xlabel='F score', ylabel='Features'>"
      ]
     },
     "execution_count": 45,
     "metadata": {},
     "output_type": "execute_result"
    },
    {
     "data": {
      "image/png": "[encoded data removed]",
      "text/plain": [
       "<Figure size 1000x1200 with 1 Axes>"
      ]
     },
     "metadata": {},
     "output_type": "display_data"
    }
   ],
   "source": [
    "# train\n",
    "xgb = XGBClassifier(n_estimators = 400, learning_rate = 0.3, max_depth = 3)\n",
    "xgb.fit(X_train, y_train)\n",
    "\n",
    "# prediction\n",
    "w_pred = xgb.predict(X_test)\n",
    "w_pred_proba = xgb.predict_proba(X_test)[:,1]\n",
    "\n",
    "# confusion matrix\n",
    "get_clf_eval(y_test, w_pred, w_pred_proba)\n",
    "\n",
    "# importance plot\n",
    "fig, ax = plt.subplots(figsize = (10,12))\n",
    "plot_importance(xgb, ax=ax)"
   ]
  },
  {
   "cell_type": "code",
   "execution_count": 59,
   "id": "d6bb0167-bcb9-4edf-8be2-727b497dabf1",
   "metadata": {
    "collapsed": true,
    "jupyter": {
     "outputs_hidden": true
    },
    "tags": []
   },
   "outputs": [
    {
     "name": "stdout",
     "output_type": "stream",
     "text": [
      "[0]\tvalidation_0-auc:0.77286\tvalidation_1-auc:0.76657\n",
      "[1]\tvalidation_0-auc:0.77502\tvalidation_1-auc:0.76802\n",
      "[2]\tvalidation_0-auc:0.77636\tvalidation_1-auc:0.76914\n",
      "[3]\tvalidation_0-auc:0.77661\tvalidation_1-auc:0.76947\n",
      "[4]\tvalidation_0-auc:0.77766\tvalidation_1-auc:0.77007\n",
      "[5]\tvalidation_0-auc:0.77775\tvalidation_1-auc:0.76997\n",
      "[6]\tvalidation_0-auc:0.77819\tvalidation_1-auc:0.77053\n",
      "[7]\tvalidation_0-auc:0.77902\tvalidation_1-auc:0.77110\n",
      "[8]\tvalidation_0-auc:0.77953\tvalidation_1-auc:0.77161\n",
      "[9]\tvalidation_0-auc:0.78017\tvalidation_1-auc:0.77240\n",
      "[10]\tvalidation_0-auc:0.78073\tvalidation_1-auc:0.77255\n",
      "[11]\tvalidation_0-auc:0.78121\tvalidation_1-auc:0.77261\n",
      "[12]\tvalidation_0-auc:0.78224\tvalidation_1-auc:0.77305\n",
      "[13]\tvalidation_0-auc:0.78256\tvalidation_1-auc:0.77330\n",
      "[14]\tvalidation_0-auc:0.78313\tvalidation_1-auc:0.77321\n",
      "[15]\tvalidation_0-auc:0.78344\tvalidation_1-auc:0.77351\n",
      "[16]\tvalidation_0-auc:0.78378\tvalidation_1-auc:0.77363\n",
      "[17]\tvalidation_0-auc:0.78437\tvalidation_1-auc:0.77374\n",
      "[18]\tvalidation_0-auc:0.78466\tvalidation_1-auc:0.77394\n",
      "[19]\tvalidation_0-auc:0.78479\tvalidation_1-auc:0.77381\n",
      "[20]\tvalidation_0-auc:0.78504\tvalidation_1-auc:0.77385\n",
      "[21]\tvalidation_0-auc:0.78530\tvalidation_1-auc:0.77376\n",
      "[22]\tvalidation_0-auc:0.78551\tvalidation_1-auc:0.77378\n",
      "[23]\tvalidation_0-auc:0.78575\tvalidation_1-auc:0.77359\n",
      "[24]\tvalidation_0-auc:0.78586\tvalidation_1-auc:0.77355\n",
      "[25]\tvalidation_0-auc:0.78602\tvalidation_1-auc:0.77345\n",
      "[26]\tvalidation_0-auc:0.78612\tvalidation_1-auc:0.77339\n",
      "[27]\tvalidation_0-auc:0.78625\tvalidation_1-auc:0.77337\n",
      "[28]\tvalidation_0-auc:0.78632\tvalidation_1-auc:0.77335\n",
      "[29]\tvalidation_0-auc:0.78636\tvalidation_1-auc:0.77326\n",
      "[30]\tvalidation_0-auc:0.78639\tvalidation_1-auc:0.77322\n",
      "[31]\tvalidation_0-auc:0.78643\tvalidation_1-auc:0.77316\n",
      "[32]\tvalidation_0-auc:0.78654\tvalidation_1-auc:0.77309\n",
      "[33]\tvalidation_0-auc:0.78656\tvalidation_1-auc:0.77307\n",
      "[34]\tvalidation_0-auc:0.78661\tvalidation_1-auc:0.77306\n",
      "[35]\tvalidation_0-auc:0.78680\tvalidation_1-auc:0.77296\n",
      "[36]\tvalidation_0-auc:0.78684\tvalidation_1-auc:0.77294\n",
      "[37]\tvalidation_0-auc:0.78686\tvalidation_1-auc:0.77289\n",
      "[38]\tvalidation_0-auc:0.78701\tvalidation_1-auc:0.77277\n",
      "[39]\tvalidation_0-auc:0.78703\tvalidation_1-auc:0.77278\n",
      "[40]\tvalidation_0-auc:0.78704\tvalidation_1-auc:0.77276\n",
      "[41]\tvalidation_0-auc:0.78721\tvalidation_1-auc:0.77276\n",
      "[42]\tvalidation_0-auc:0.78731\tvalidation_1-auc:0.77268\n",
      "[43]\tvalidation_0-auc:0.78746\tvalidation_1-auc:0.77265\n",
      "[44]\tvalidation_0-auc:0.78765\tvalidation_1-auc:0.77260\n",
      "[45]\tvalidation_0-auc:0.78775\tvalidation_1-auc:0.77257\n",
      "[46]\tvalidation_0-auc:0.78780\tvalidation_1-auc:0.77244\n",
      "[47]\tvalidation_0-auc:0.78781\tvalidation_1-auc:0.77245\n",
      "[48]\tvalidation_0-auc:0.78782\tvalidation_1-auc:0.77245\n",
      "[49]\tvalidation_0-auc:0.78784\tvalidation_1-auc:0.77237\n",
      "[50]\tvalidation_0-auc:0.78784\tvalidation_1-auc:0.77238\n",
      "[51]\tvalidation_0-auc:0.78785\tvalidation_1-auc:0.77235\n",
      "[52]\tvalidation_0-auc:0.78786\tvalidation_1-auc:0.77229\n",
      "[53]\tvalidation_0-auc:0.78787\tvalidation_1-auc:0.77226\n",
      "[54]\tvalidation_0-auc:0.78803\tvalidation_1-auc:0.77228\n",
      "[55]\tvalidation_0-auc:0.78804\tvalidation_1-auc:0.77227\n",
      "[56]\tvalidation_0-auc:0.78804\tvalidation_1-auc:0.77226\n",
      "[57]\tvalidation_0-auc:0.78805\tvalidation_1-auc:0.77223\n",
      "[58]\tvalidation_0-auc:0.78806\tvalidation_1-auc:0.77217\n",
      "[59]\tvalidation_0-auc:0.78807\tvalidation_1-auc:0.77215\n",
      "[60]\tvalidation_0-auc:0.78810\tvalidation_1-auc:0.77211\n",
      "[61]\tvalidation_0-auc:0.78831\tvalidation_1-auc:0.77217\n",
      "[62]\tvalidation_0-auc:0.78840\tvalidation_1-auc:0.77215\n",
      "[63]\tvalidation_0-auc:0.78849\tvalidation_1-auc:0.77202\n",
      "[64]\tvalidation_0-auc:0.78850\tvalidation_1-auc:0.77201\n",
      "[65]\tvalidation_0-auc:0.78851\tvalidation_1-auc:0.77192\n",
      "[66]\tvalidation_0-auc:0.78854\tvalidation_1-auc:0.77194\n",
      "[67]\tvalidation_0-auc:0.78855\tvalidation_1-auc:0.77190\n",
      "[68]\tvalidation_0-auc:0.78857\tvalidation_1-auc:0.77188\n",
      "[69]\tvalidation_0-auc:0.78858\tvalidation_1-auc:0.77188\n",
      "[70]\tvalidation_0-auc:0.78863\tvalidation_1-auc:0.77192\n",
      "[71]\tvalidation_0-auc:0.78864\tvalidation_1-auc:0.77190\n",
      "[72]\tvalidation_0-auc:0.78865\tvalidation_1-auc:0.77191\n",
      "[73]\tvalidation_0-auc:0.78865\tvalidation_1-auc:0.77189\n",
      "[74]\tvalidation_0-auc:0.78865\tvalidation_1-auc:0.77188\n",
      "[75]\tvalidation_0-auc:0.78866\tvalidation_1-auc:0.77187\n",
      "[76]\tvalidation_0-auc:0.78867\tvalidation_1-auc:0.77185\n",
      "[77]\tvalidation_0-auc:0.78867\tvalidation_1-auc:0.77187\n",
      "[78]\tvalidation_0-auc:0.78867\tvalidation_1-auc:0.77186\n",
      "[79]\tvalidation_0-auc:0.78867\tvalidation_1-auc:0.77188\n",
      "[80]\tvalidation_0-auc:0.78894\tvalidation_1-auc:0.77176\n",
      "[81]\tvalidation_0-auc:0.78909\tvalidation_1-auc:0.77173\n",
      "[82]\tvalidation_0-auc:0.78919\tvalidation_1-auc:0.77169\n",
      "[83]\tvalidation_0-auc:0.78922\tvalidation_1-auc:0.77164\n",
      "[84]\tvalidation_0-auc:0.78933\tvalidation_1-auc:0.77157\n",
      "[85]\tvalidation_0-auc:0.78946\tvalidation_1-auc:0.77148\n",
      "[86]\tvalidation_0-auc:0.78965\tvalidation_1-auc:0.77130\n",
      "[87]\tvalidation_0-auc:0.78982\tvalidation_1-auc:0.77119\n",
      "[88]\tvalidation_0-auc:0.78991\tvalidation_1-auc:0.77101\n",
      "[89]\tvalidation_0-auc:0.78992\tvalidation_1-auc:0.77100\n",
      "[90]\tvalidation_0-auc:0.79015\tvalidation_1-auc:0.77090\n",
      "[91]\tvalidation_0-auc:0.79020\tvalidation_1-auc:0.77087\n",
      "[92]\tvalidation_0-auc:0.79021\tvalidation_1-auc:0.77086\n",
      "[93]\tvalidation_0-auc:0.79028\tvalidation_1-auc:0.77092\n",
      "[94]\tvalidation_0-auc:0.79029\tvalidation_1-auc:0.77093\n",
      "[95]\tvalidation_0-auc:0.79029\tvalidation_1-auc:0.77090\n",
      "[96]\tvalidation_0-auc:0.79029\tvalidation_1-auc:0.77092\n",
      "[97]\tvalidation_0-auc:0.79031\tvalidation_1-auc:0.77092\n",
      "[98]\tvalidation_0-auc:0.79032\tvalidation_1-auc:0.77093\n",
      "[99]\tvalidation_0-auc:0.79032\tvalidation_1-auc:0.77092\n",
      "[100]\tvalidation_0-auc:0.79033\tvalidation_1-auc:0.77094\n",
      "[101]\tvalidation_0-auc:0.79033\tvalidation_1-auc:0.77092\n",
      "[102]\tvalidation_0-auc:0.79033\tvalidation_1-auc:0.77092\n",
      "[103]\tvalidation_0-auc:0.79034\tvalidation_1-auc:0.77093\n",
      "[104]\tvalidation_0-auc:0.79034\tvalidation_1-auc:0.77093\n",
      "[105]\tvalidation_0-auc:0.79052\tvalidation_1-auc:0.77081\n",
      "[106]\tvalidation_0-auc:0.79061\tvalidation_1-auc:0.77075\n",
      "[107]\tvalidation_0-auc:0.79068\tvalidation_1-auc:0.77067\n",
      "[108]\tvalidation_0-auc:0.79069\tvalidation_1-auc:0.77067\n",
      "[109]\tvalidation_0-auc:0.79070\tvalidation_1-auc:0.77066\n",
      "[110]\tvalidation_0-auc:0.79071\tvalidation_1-auc:0.77063\n",
      "[111]\tvalidation_0-auc:0.79075\tvalidation_1-auc:0.77059\n",
      "[112]\tvalidation_0-auc:0.79086\tvalidation_1-auc:0.77065\n",
      "[113]\tvalidation_0-auc:0.79090\tvalidation_1-auc:0.77060\n",
      "[114]\tvalidation_0-auc:0.79095\tvalidation_1-auc:0.77056\n",
      "[115]\tvalidation_0-auc:0.79095\tvalidation_1-auc:0.77056\n",
      "[116]\tvalidation_0-auc:0.79096\tvalidation_1-auc:0.77056\n",
      "[117]\tvalidation_0-auc:0.79096\tvalidation_1-auc:0.77056\n",
      "[118]\tvalidation_0-auc:0.79096\tvalidation_1-auc:0.77055\n",
      "ROC AUC: 0.7739\n"
     ]
    }
   ],
   "source": [
    "# 학습\n",
    "xgb = XGBClassifier(n_estimators = 500, random_state = 156)\n",
    "xgb.fit(X_train, y_train, early_stopping_rounds = 100,\n",
    "       eval_metric = \"auc\", eval_set = [(X_train, y_train), (X_test, y_test)])\n",
    "xgb_roc_score = roc_auc_score(y_test, xgb.predict_proba(X_test)[:,1],average = 'macro')\n",
    "\n",
    "print('ROC AUC: {0:.4f}'.format(xgb_roc_score)) #0.7739"
   ]
  },
  {
   "cell_type": "code",
   "execution_count": 60,
   "id": "e0e613b9-7ab5-40fd-9630-a4fd7ff0d031",
   "metadata": {},
   "outputs": [
    {
     "name": "stdout",
     "output_type": "stream",
     "text": [
      "ROC AUC: 0.7739\n"
     ]
    }
   ],
   "source": [
    "print('ROC AUC: {0:.4f}'.format(xgb_roc_score))"
   ]
  },
  {
   "cell_type": "code",
   "execution_count": 53,
   "id": "1d049cd5-1c14-48cc-9183-280a919dc092",
   "metadata": {
    "collapsed": true,
    "jupyter": {
     "outputs_hidden": true
    },
    "tags": []
   },
   "outputs": [
    {
     "name": "stdout",
     "output_type": "stream",
     "text": [
      "[0]\tvalidation_0-auc:0.66942\tvalidation_1-auc:0.66550\n",
      "[1]\tvalidation_0-auc:0.76109\tvalidation_1-auc:0.75776\n",
      "[2]\tvalidation_0-auc:0.76242\tvalidation_1-auc:0.75976\n",
      "[3]\tvalidation_0-auc:0.76607\tvalidation_1-auc:0.76200\n",
      "[4]\tvalidation_0-auc:0.76377\tvalidation_1-auc:0.76004\n",
      "[5]\tvalidation_0-auc:0.76928\tvalidation_1-auc:0.76547\n",
      "[6]\tvalidation_0-auc:0.76613\tvalidation_1-auc:0.76203\n",
      "[7]\tvalidation_0-auc:0.76619\tvalidation_1-auc:0.76139\n",
      "[8]\tvalidation_0-auc:0.76836\tvalidation_1-auc:0.76390\n",
      "[9]\tvalidation_0-auc:0.77694\tvalidation_1-auc:0.77225\n",
      "[10]\tvalidation_0-auc:0.77768\tvalidation_1-auc:0.77256\n",
      "[11]\tvalidation_0-auc:0.77646\tvalidation_1-auc:0.77117\n",
      "[12]\tvalidation_0-auc:0.77783\tvalidation_1-auc:0.77255\n",
      "[13]\tvalidation_0-auc:0.77796\tvalidation_1-auc:0.77301\n",
      "[14]\tvalidation_0-auc:0.77815\tvalidation_1-auc:0.77304\n",
      "[15]\tvalidation_0-auc:0.77888\tvalidation_1-auc:0.77334\n",
      "[16]\tvalidation_0-auc:0.77921\tvalidation_1-auc:0.77327\n",
      "[17]\tvalidation_0-auc:0.77903\tvalidation_1-auc:0.77302\n",
      "[18]\tvalidation_0-auc:0.77905\tvalidation_1-auc:0.77307\n",
      "[19]\tvalidation_0-auc:0.77928\tvalidation_1-auc:0.77312\n",
      "[20]\tvalidation_0-auc:0.77945\tvalidation_1-auc:0.77334\n",
      "[21]\tvalidation_0-auc:0.77961\tvalidation_1-auc:0.77336\n",
      "[22]\tvalidation_0-auc:0.78026\tvalidation_1-auc:0.77350\n",
      "[23]\tvalidation_0-auc:0.78061\tvalidation_1-auc:0.77348\n",
      "[24]\tvalidation_0-auc:0.78090\tvalidation_1-auc:0.77345\n",
      "[25]\tvalidation_0-auc:0.78132\tvalidation_1-auc:0.77392\n",
      "[26]\tvalidation_0-auc:0.78155\tvalidation_1-auc:0.77366\n",
      "[27]\tvalidation_0-auc:0.78160\tvalidation_1-auc:0.77381\n",
      "[28]\tvalidation_0-auc:0.78160\tvalidation_1-auc:0.77374\n",
      "[29]\tvalidation_0-auc:0.78179\tvalidation_1-auc:0.77372\n",
      "[30]\tvalidation_0-auc:0.78177\tvalidation_1-auc:0.77372\n",
      "[31]\tvalidation_0-auc:0.78182\tvalidation_1-auc:0.77372\n",
      "[32]\tvalidation_0-auc:0.78181\tvalidation_1-auc:0.77378\n",
      "[33]\tvalidation_0-auc:0.78186\tvalidation_1-auc:0.77380\n",
      "[34]\tvalidation_0-auc:0.78187\tvalidation_1-auc:0.77379\n",
      "[35]\tvalidation_0-auc:0.78189\tvalidation_1-auc:0.77371\n",
      "[36]\tvalidation_0-auc:0.78197\tvalidation_1-auc:0.77373\n",
      "[37]\tvalidation_0-auc:0.78222\tvalidation_1-auc:0.77394\n",
      "[38]\tvalidation_0-auc:0.78224\tvalidation_1-auc:0.77386\n",
      "[39]\tvalidation_0-auc:0.78226\tvalidation_1-auc:0.77386\n",
      "[40]\tvalidation_0-auc:0.78250\tvalidation_1-auc:0.77399\n",
      "[41]\tvalidation_0-auc:0.78254\tvalidation_1-auc:0.77394\n",
      "[42]\tvalidation_0-auc:0.78267\tvalidation_1-auc:0.77400\n",
      "[43]\tvalidation_0-auc:0.78277\tvalidation_1-auc:0.77393\n",
      "[44]\tvalidation_0-auc:0.78280\tvalidation_1-auc:0.77402\n",
      "[45]\tvalidation_0-auc:0.78279\tvalidation_1-auc:0.77402\n",
      "[46]\tvalidation_0-auc:0.78286\tvalidation_1-auc:0.77402\n",
      "[47]\tvalidation_0-auc:0.78288\tvalidation_1-auc:0.77395\n",
      "[48]\tvalidation_0-auc:0.78292\tvalidation_1-auc:0.77388\n",
      "[49]\tvalidation_0-auc:0.78294\tvalidation_1-auc:0.77387\n",
      "[50]\tvalidation_0-auc:0.78293\tvalidation_1-auc:0.77384\n",
      "[51]\tvalidation_0-auc:0.78298\tvalidation_1-auc:0.77379\n",
      "[52]\tvalidation_0-auc:0.78298\tvalidation_1-auc:0.77380\n",
      "[53]\tvalidation_0-auc:0.78300\tvalidation_1-auc:0.77383\n",
      "[54]\tvalidation_0-auc:0.78301\tvalidation_1-auc:0.77380\n",
      "[55]\tvalidation_0-auc:0.78303\tvalidation_1-auc:0.77380\n",
      "[56]\tvalidation_0-auc:0.78302\tvalidation_1-auc:0.77388\n",
      "[57]\tvalidation_0-auc:0.78310\tvalidation_1-auc:0.77381\n",
      "[58]\tvalidation_0-auc:0.78310\tvalidation_1-auc:0.77386\n",
      "[59]\tvalidation_0-auc:0.78310\tvalidation_1-auc:0.77386\n",
      "[60]\tvalidation_0-auc:0.78314\tvalidation_1-auc:0.77393\n",
      "[61]\tvalidation_0-auc:0.78314\tvalidation_1-auc:0.77393\n",
      "[62]\tvalidation_0-auc:0.78314\tvalidation_1-auc:0.77393\n",
      "[63]\tvalidation_0-auc:0.78314\tvalidation_1-auc:0.77394\n",
      "[64]\tvalidation_0-auc:0.78317\tvalidation_1-auc:0.77392\n",
      "[65]\tvalidation_0-auc:0.78317\tvalidation_1-auc:0.77390\n",
      "[66]\tvalidation_0-auc:0.78317\tvalidation_1-auc:0.77390\n",
      "[67]\tvalidation_0-auc:0.78317\tvalidation_1-auc:0.77390\n",
      "[68]\tvalidation_0-auc:0.78318\tvalidation_1-auc:0.77386\n",
      "[69]\tvalidation_0-auc:0.78319\tvalidation_1-auc:0.77386\n",
      "[70]\tvalidation_0-auc:0.78319\tvalidation_1-auc:0.77385\n",
      "[71]\tvalidation_0-auc:0.78319\tvalidation_1-auc:0.77382\n",
      "[72]\tvalidation_0-auc:0.78320\tvalidation_1-auc:0.77384\n",
      "[73]\tvalidation_0-auc:0.78319\tvalidation_1-auc:0.77384\n",
      "[74]\tvalidation_0-auc:0.78320\tvalidation_1-auc:0.77377\n",
      "[0]\tvalidation_0-auc:0.66944\tvalidation_1-auc:0.66552\n",
      "[1]\tvalidation_0-auc:0.76168\tvalidation_1-auc:0.75879\n",
      "[2]\tvalidation_0-auc:0.76270\tvalidation_1-auc:0.76003\n",
      "[3]\tvalidation_0-auc:0.76708\tvalidation_1-auc:0.76326\n",
      "[4]\tvalidation_0-auc:0.76412\tvalidation_1-auc:0.76053\n",
      "[5]\tvalidation_0-auc:0.76890\tvalidation_1-auc:0.76504\n",
      "[6]\tvalidation_0-auc:0.76679\tvalidation_1-auc:0.76307\n",
      "[7]\tvalidation_0-auc:0.76639\tvalidation_1-auc:0.76154\n",
      "[8]\tvalidation_0-auc:0.76821\tvalidation_1-auc:0.76294\n",
      "[9]\tvalidation_0-auc:0.77700\tvalidation_1-auc:0.77156\n",
      "[10]\tvalidation_0-auc:0.77778\tvalidation_1-auc:0.77201\n",
      "[11]\tvalidation_0-auc:0.77675\tvalidation_1-auc:0.77060\n",
      "[12]\tvalidation_0-auc:0.77800\tvalidation_1-auc:0.77201\n",
      "[13]\tvalidation_0-auc:0.77804\tvalidation_1-auc:0.77225\n",
      "[14]\tvalidation_0-auc:0.77815\tvalidation_1-auc:0.77230\n",
      "[15]\tvalidation_0-auc:0.77865\tvalidation_1-auc:0.77278\n",
      "[16]\tvalidation_0-auc:0.77899\tvalidation_1-auc:0.77264\n",
      "[17]\tvalidation_0-auc:0.77875\tvalidation_1-auc:0.77236\n",
      "[18]\tvalidation_0-auc:0.77898\tvalidation_1-auc:0.77240\n",
      "[19]\tvalidation_0-auc:0.77940\tvalidation_1-auc:0.77264\n",
      "[20]\tvalidation_0-auc:0.77955\tvalidation_1-auc:0.77293\n",
      "[21]\tvalidation_0-auc:0.77962\tvalidation_1-auc:0.77286\n",
      "[22]\tvalidation_0-auc:0.78033\tvalidation_1-auc:0.77297\n",
      "[23]\tvalidation_0-auc:0.78068\tvalidation_1-auc:0.77291\n",
      "[24]\tvalidation_0-auc:0.78108\tvalidation_1-auc:0.77271\n",
      "[25]\tvalidation_0-auc:0.78144\tvalidation_1-auc:0.77300\n",
      "[26]\tvalidation_0-auc:0.78163\tvalidation_1-auc:0.77287\n",
      "[27]\tvalidation_0-auc:0.78167\tvalidation_1-auc:0.77291\n",
      "[28]\tvalidation_0-auc:0.78169\tvalidation_1-auc:0.77290\n",
      "[29]\tvalidation_0-auc:0.78179\tvalidation_1-auc:0.77298\n",
      "[30]\tvalidation_0-auc:0.78174\tvalidation_1-auc:0.77296\n",
      "[31]\tvalidation_0-auc:0.78180\tvalidation_1-auc:0.77284\n",
      "[32]\tvalidation_0-auc:0.78179\tvalidation_1-auc:0.77278\n",
      "[33]\tvalidation_0-auc:0.78187\tvalidation_1-auc:0.77280\n",
      "[34]\tvalidation_0-auc:0.78188\tvalidation_1-auc:0.77269\n",
      "[35]\tvalidation_0-auc:0.78190\tvalidation_1-auc:0.77258\n",
      "[36]\tvalidation_0-auc:0.78200\tvalidation_1-auc:0.77253\n",
      "[37]\tvalidation_0-auc:0.78225\tvalidation_1-auc:0.77281\n",
      "[38]\tvalidation_0-auc:0.78225\tvalidation_1-auc:0.77278\n",
      "[39]\tvalidation_0-auc:0.78231\tvalidation_1-auc:0.77273\n",
      "[40]\tvalidation_0-auc:0.78250\tvalidation_1-auc:0.77300\n",
      "[41]\tvalidation_0-auc:0.78254\tvalidation_1-auc:0.77287\n",
      "[42]\tvalidation_0-auc:0.78268\tvalidation_1-auc:0.77287\n",
      "[43]\tvalidation_0-auc:0.78272\tvalidation_1-auc:0.77291\n",
      "[44]\tvalidation_0-auc:0.78274\tvalidation_1-auc:0.77297\n",
      "[45]\tvalidation_0-auc:0.78287\tvalidation_1-auc:0.77295\n",
      "[46]\tvalidation_0-auc:0.78287\tvalidation_1-auc:0.77293\n",
      "[47]\tvalidation_0-auc:0.78287\tvalidation_1-auc:0.77292\n",
      "[48]\tvalidation_0-auc:0.78292\tvalidation_1-auc:0.77291\n",
      "[49]\tvalidation_0-auc:0.78298\tvalidation_1-auc:0.77290\n",
      "[50]\tvalidation_0-auc:0.78299\tvalidation_1-auc:0.77290\n",
      "[51]\tvalidation_0-auc:0.78300\tvalidation_1-auc:0.77288\n",
      "[52]\tvalidation_0-auc:0.78303\tvalidation_1-auc:0.77286\n",
      "[53]\tvalidation_0-auc:0.78304\tvalidation_1-auc:0.77288\n",
      "[54]\tvalidation_0-auc:0.78304\tvalidation_1-auc:0.77286\n",
      "[55]\tvalidation_0-auc:0.78304\tvalidation_1-auc:0.77286\n",
      "[56]\tvalidation_0-auc:0.78304\tvalidation_1-auc:0.77285\n",
      "[57]\tvalidation_0-auc:0.78306\tvalidation_1-auc:0.77278\n",
      "[58]\tvalidation_0-auc:0.78316\tvalidation_1-auc:0.77277\n",
      "[59]\tvalidation_0-auc:0.78318\tvalidation_1-auc:0.77280\n",
      "[60]\tvalidation_0-auc:0.78319\tvalidation_1-auc:0.77286\n",
      "[61]\tvalidation_0-auc:0.78318\tvalidation_1-auc:0.77284\n",
      "[62]\tvalidation_0-auc:0.78318\tvalidation_1-auc:0.77282\n",
      "[63]\tvalidation_0-auc:0.78320\tvalidation_1-auc:0.77280\n",
      "[64]\tvalidation_0-auc:0.78320\tvalidation_1-auc:0.77280\n",
      "[65]\tvalidation_0-auc:0.78320\tvalidation_1-auc:0.77279\n",
      "[66]\tvalidation_0-auc:0.78321\tvalidation_1-auc:0.77278\n",
      "[67]\tvalidation_0-auc:0.78325\tvalidation_1-auc:0.77281\n",
      "[68]\tvalidation_0-auc:0.78325\tvalidation_1-auc:0.77281\n",
      "[69]\tvalidation_0-auc:0.78327\tvalidation_1-auc:0.77283\n",
      "[0]\tvalidation_0-auc:0.66945\tvalidation_1-auc:0.66554\n",
      "[1]\tvalidation_0-auc:0.76129\tvalidation_1-auc:0.75844\n",
      "[2]\tvalidation_0-auc:0.76226\tvalidation_1-auc:0.75971\n",
      "[3]\tvalidation_0-auc:0.76429\tvalidation_1-auc:0.76043\n",
      "[4]\tvalidation_0-auc:0.76227\tvalidation_1-auc:0.75836\n",
      "[5]\tvalidation_0-auc:0.76906\tvalidation_1-auc:0.76535\n",
      "[6]\tvalidation_0-auc:0.76641\tvalidation_1-auc:0.76279\n",
      "[7]\tvalidation_0-auc:0.76627\tvalidation_1-auc:0.76163\n",
      "[8]\tvalidation_0-auc:0.76816\tvalidation_1-auc:0.76383\n",
      "[9]\tvalidation_0-auc:0.77630\tvalidation_1-auc:0.77161\n",
      "[10]\tvalidation_0-auc:0.77730\tvalidation_1-auc:0.77231\n",
      "[11]\tvalidation_0-auc:0.77615\tvalidation_1-auc:0.77083\n",
      "[12]\tvalidation_0-auc:0.77763\tvalidation_1-auc:0.77251\n",
      "[13]\tvalidation_0-auc:0.77778\tvalidation_1-auc:0.77278\n",
      "[14]\tvalidation_0-auc:0.77808\tvalidation_1-auc:0.77290\n",
      "[15]\tvalidation_0-auc:0.77875\tvalidation_1-auc:0.77320\n",
      "[16]\tvalidation_0-auc:0.77914\tvalidation_1-auc:0.77331\n",
      "[17]\tvalidation_0-auc:0.77899\tvalidation_1-auc:0.77301\n",
      "[18]\tvalidation_0-auc:0.77917\tvalidation_1-auc:0.77300\n",
      "[19]\tvalidation_0-auc:0.77948\tvalidation_1-auc:0.77310\n",
      "[20]\tvalidation_0-auc:0.77966\tvalidation_1-auc:0.77349\n",
      "[21]\tvalidation_0-auc:0.77970\tvalidation_1-auc:0.77338\n",
      "[22]\tvalidation_0-auc:0.78019\tvalidation_1-auc:0.77324\n",
      "[23]\tvalidation_0-auc:0.78047\tvalidation_1-auc:0.77312\n",
      "[24]\tvalidation_0-auc:0.78090\tvalidation_1-auc:0.77317\n",
      "[25]\tvalidation_0-auc:0.78136\tvalidation_1-auc:0.77345\n",
      "[26]\tvalidation_0-auc:0.78152\tvalidation_1-auc:0.77324\n",
      "[27]\tvalidation_0-auc:0.78161\tvalidation_1-auc:0.77350\n",
      "[28]\tvalidation_0-auc:0.78161\tvalidation_1-auc:0.77348\n",
      "[29]\tvalidation_0-auc:0.78177\tvalidation_1-auc:0.77346\n",
      "[30]\tvalidation_0-auc:0.78175\tvalidation_1-auc:0.77349\n",
      "[31]\tvalidation_0-auc:0.78183\tvalidation_1-auc:0.77344\n",
      "[32]\tvalidation_0-auc:0.78185\tvalidation_1-auc:0.77345\n",
      "[33]\tvalidation_0-auc:0.78189\tvalidation_1-auc:0.77327\n",
      "[34]\tvalidation_0-auc:0.78194\tvalidation_1-auc:0.77319\n",
      "[35]\tvalidation_0-auc:0.78196\tvalidation_1-auc:0.77313\n",
      "[36]\tvalidation_0-auc:0.78206\tvalidation_1-auc:0.77313\n",
      "[37]\tvalidation_0-auc:0.78233\tvalidation_1-auc:0.77352\n",
      "[38]\tvalidation_0-auc:0.78235\tvalidation_1-auc:0.77345\n",
      "[39]\tvalidation_0-auc:0.78239\tvalidation_1-auc:0.77346\n",
      "[40]\tvalidation_0-auc:0.78265\tvalidation_1-auc:0.77358\n",
      "[41]\tvalidation_0-auc:0.78269\tvalidation_1-auc:0.77357\n",
      "[42]\tvalidation_0-auc:0.78279\tvalidation_1-auc:0.77370\n",
      "[43]\tvalidation_0-auc:0.78282\tvalidation_1-auc:0.77373\n",
      "[44]\tvalidation_0-auc:0.78286\tvalidation_1-auc:0.77383\n",
      "[45]\tvalidation_0-auc:0.78286\tvalidation_1-auc:0.77383\n",
      "[46]\tvalidation_0-auc:0.78288\tvalidation_1-auc:0.77373\n",
      "[47]\tvalidation_0-auc:0.78289\tvalidation_1-auc:0.77371\n",
      "[48]\tvalidation_0-auc:0.78294\tvalidation_1-auc:0.77373\n",
      "[49]\tvalidation_0-auc:0.78295\tvalidation_1-auc:0.77372\n",
      "[50]\tvalidation_0-auc:0.78295\tvalidation_1-auc:0.77369\n",
      "[51]\tvalidation_0-auc:0.78294\tvalidation_1-auc:0.77372\n",
      "[52]\tvalidation_0-auc:0.78295\tvalidation_1-auc:0.77371\n",
      "[53]\tvalidation_0-auc:0.78296\tvalidation_1-auc:0.77370\n",
      "[54]\tvalidation_0-auc:0.78303\tvalidation_1-auc:0.77361\n",
      "[55]\tvalidation_0-auc:0.78304\tvalidation_1-auc:0.77360\n",
      "[56]\tvalidation_0-auc:0.78305\tvalidation_1-auc:0.77361\n",
      "[57]\tvalidation_0-auc:0.78308\tvalidation_1-auc:0.77361\n",
      "[58]\tvalidation_0-auc:0.78308\tvalidation_1-auc:0.77360\n",
      "[59]\tvalidation_0-auc:0.78309\tvalidation_1-auc:0.77359\n",
      "[60]\tvalidation_0-auc:0.78311\tvalidation_1-auc:0.77363\n",
      "[61]\tvalidation_0-auc:0.78316\tvalidation_1-auc:0.77364\n",
      "[62]\tvalidation_0-auc:0.78317\tvalidation_1-auc:0.77363\n",
      "[63]\tvalidation_0-auc:0.78322\tvalidation_1-auc:0.77360\n",
      "[64]\tvalidation_0-auc:0.78322\tvalidation_1-auc:0.77360\n",
      "[65]\tvalidation_0-auc:0.78325\tvalidation_1-auc:0.77348\n",
      "[66]\tvalidation_0-auc:0.78325\tvalidation_1-auc:0.77345\n",
      "[67]\tvalidation_0-auc:0.78327\tvalidation_1-auc:0.77340\n",
      "[68]\tvalidation_0-auc:0.78328\tvalidation_1-auc:0.77343\n",
      "[69]\tvalidation_0-auc:0.78329\tvalidation_1-auc:0.77338\n",
      "[70]\tvalidation_0-auc:0.78328\tvalidation_1-auc:0.77330\n",
      "[71]\tvalidation_0-auc:0.78329\tvalidation_1-auc:0.77330\n",
      "[72]\tvalidation_0-auc:0.78332\tvalidation_1-auc:0.77326\n",
      "[73]\tvalidation_0-auc:0.78332\tvalidation_1-auc:0.77326\n",
      "[0]\tvalidation_0-auc:0.66941\tvalidation_1-auc:0.66551\n",
      "[1]\tvalidation_0-auc:0.76107\tvalidation_1-auc:0.75777\n",
      "[2]\tvalidation_0-auc:0.76240\tvalidation_1-auc:0.75976\n",
      "[3]\tvalidation_0-auc:0.76605\tvalidation_1-auc:0.76202\n",
      "[4]\tvalidation_0-auc:0.76376\tvalidation_1-auc:0.76004\n",
      "[5]\tvalidation_0-auc:0.76925\tvalidation_1-auc:0.76545\n",
      "[6]\tvalidation_0-auc:0.76605\tvalidation_1-auc:0.76203\n",
      "[7]\tvalidation_0-auc:0.76609\tvalidation_1-auc:0.76129\n",
      "[8]\tvalidation_0-auc:0.76829\tvalidation_1-auc:0.76383\n",
      "[9]\tvalidation_0-auc:0.77694\tvalidation_1-auc:0.77221\n",
      "[10]\tvalidation_0-auc:0.77765\tvalidation_1-auc:0.77254\n",
      "[11]\tvalidation_0-auc:0.77643\tvalidation_1-auc:0.77112\n",
      "[12]\tvalidation_0-auc:0.77778\tvalidation_1-auc:0.77251\n",
      "[13]\tvalidation_0-auc:0.77794\tvalidation_1-auc:0.77294\n",
      "[14]\tvalidation_0-auc:0.77812\tvalidation_1-auc:0.77294\n",
      "[15]\tvalidation_0-auc:0.77883\tvalidation_1-auc:0.77332\n",
      "[16]\tvalidation_0-auc:0.77920\tvalidation_1-auc:0.77324\n",
      "[17]\tvalidation_0-auc:0.77903\tvalidation_1-auc:0.77303\n",
      "[18]\tvalidation_0-auc:0.77905\tvalidation_1-auc:0.77313\n",
      "[19]\tvalidation_0-auc:0.77920\tvalidation_1-auc:0.77321\n",
      "[20]\tvalidation_0-auc:0.77939\tvalidation_1-auc:0.77345\n",
      "[21]\tvalidation_0-auc:0.77954\tvalidation_1-auc:0.77339\n",
      "[22]\tvalidation_0-auc:0.78023\tvalidation_1-auc:0.77354\n",
      "[23]\tvalidation_0-auc:0.78054\tvalidation_1-auc:0.77351\n",
      "[24]\tvalidation_0-auc:0.78087\tvalidation_1-auc:0.77343\n",
      "[25]\tvalidation_0-auc:0.78126\tvalidation_1-auc:0.77385\n",
      "[26]\tvalidation_0-auc:0.78147\tvalidation_1-auc:0.77374\n",
      "[27]\tvalidation_0-auc:0.78150\tvalidation_1-auc:0.77377\n",
      "[28]\tvalidation_0-auc:0.78150\tvalidation_1-auc:0.77377\n",
      "[29]\tvalidation_0-auc:0.78168\tvalidation_1-auc:0.77382\n",
      "[30]\tvalidation_0-auc:0.78161\tvalidation_1-auc:0.77382\n",
      "[31]\tvalidation_0-auc:0.78164\tvalidation_1-auc:0.77380\n",
      "[32]\tvalidation_0-auc:0.78166\tvalidation_1-auc:0.77380\n",
      "[33]\tvalidation_0-auc:0.78174\tvalidation_1-auc:0.77379\n",
      "[34]\tvalidation_0-auc:0.78175\tvalidation_1-auc:0.77384\n",
      "[35]\tvalidation_0-auc:0.78175\tvalidation_1-auc:0.77383\n",
      "[36]\tvalidation_0-auc:0.78181\tvalidation_1-auc:0.77383\n",
      "[37]\tvalidation_0-auc:0.78203\tvalidation_1-auc:0.77415\n",
      "[38]\tvalidation_0-auc:0.78204\tvalidation_1-auc:0.77413\n",
      "[39]\tvalidation_0-auc:0.78206\tvalidation_1-auc:0.77418\n",
      "[40]\tvalidation_0-auc:0.78227\tvalidation_1-auc:0.77432\n",
      "[41]\tvalidation_0-auc:0.78228\tvalidation_1-auc:0.77427\n",
      "[42]\tvalidation_0-auc:0.78243\tvalidation_1-auc:0.77428\n",
      "[43]\tvalidation_0-auc:0.78249\tvalidation_1-auc:0.77422\n",
      "[44]\tvalidation_0-auc:0.78253\tvalidation_1-auc:0.77432\n",
      "[45]\tvalidation_0-auc:0.78255\tvalidation_1-auc:0.77427\n",
      "[46]\tvalidation_0-auc:0.78264\tvalidation_1-auc:0.77419\n",
      "[47]\tvalidation_0-auc:0.78265\tvalidation_1-auc:0.77419\n",
      "[48]\tvalidation_0-auc:0.78268\tvalidation_1-auc:0.77422\n",
      "[49]\tvalidation_0-auc:0.78272\tvalidation_1-auc:0.77412\n",
      "[50]\tvalidation_0-auc:0.78272\tvalidation_1-auc:0.77411\n",
      "[51]\tvalidation_0-auc:0.78275\tvalidation_1-auc:0.77408\n",
      "[52]\tvalidation_0-auc:0.78280\tvalidation_1-auc:0.77402\n",
      "[53]\tvalidation_0-auc:0.78282\tvalidation_1-auc:0.77401\n",
      "[54]\tvalidation_0-auc:0.78284\tvalidation_1-auc:0.77397\n",
      "[55]\tvalidation_0-auc:0.78285\tvalidation_1-auc:0.77398\n",
      "[56]\tvalidation_0-auc:0.78285\tvalidation_1-auc:0.77406\n",
      "[57]\tvalidation_0-auc:0.78286\tvalidation_1-auc:0.77403\n",
      "[58]\tvalidation_0-auc:0.78285\tvalidation_1-auc:0.77400\n",
      "[59]\tvalidation_0-auc:0.78289\tvalidation_1-auc:0.77397\n",
      "[60]\tvalidation_0-auc:0.78291\tvalidation_1-auc:0.77401\n",
      "[61]\tvalidation_0-auc:0.78299\tvalidation_1-auc:0.77402\n",
      "[62]\tvalidation_0-auc:0.78299\tvalidation_1-auc:0.77402\n",
      "[63]\tvalidation_0-auc:0.78308\tvalidation_1-auc:0.77397\n",
      "[64]\tvalidation_0-auc:0.78307\tvalidation_1-auc:0.77397\n",
      "[65]\tvalidation_0-auc:0.78307\tvalidation_1-auc:0.77394\n",
      "[66]\tvalidation_0-auc:0.78308\tvalidation_1-auc:0.77392\n",
      "[67]\tvalidation_0-auc:0.78311\tvalidation_1-auc:0.77386\n",
      "[68]\tvalidation_0-auc:0.78311\tvalidation_1-auc:0.77384\n",
      "[69]\tvalidation_0-auc:0.78312\tvalidation_1-auc:0.77385\n",
      "[70]\tvalidation_0-auc:0.78314\tvalidation_1-auc:0.77388\n",
      "[71]\tvalidation_0-auc:0.78317\tvalidation_1-auc:0.77391\n",
      "[72]\tvalidation_0-auc:0.78317\tvalidation_1-auc:0.77392\n",
      "[73]\tvalidation_0-auc:0.78316\tvalidation_1-auc:0.77393\n",
      "[0]\tvalidation_0-auc:0.66945\tvalidation_1-auc:0.66553\n",
      "[1]\tvalidation_0-auc:0.76163\tvalidation_1-auc:0.75873\n",
      "[2]\tvalidation_0-auc:0.76268\tvalidation_1-auc:0.76004\n",
      "[3]\tvalidation_0-auc:0.76708\tvalidation_1-auc:0.76323\n",
      "[4]\tvalidation_0-auc:0.76418\tvalidation_1-auc:0.76055\n",
      "[5]\tvalidation_0-auc:0.76896\tvalidation_1-auc:0.76503\n",
      "[6]\tvalidation_0-auc:0.76678\tvalidation_1-auc:0.76294\n",
      "[7]\tvalidation_0-auc:0.76628\tvalidation_1-auc:0.76133\n",
      "[8]\tvalidation_0-auc:0.76821\tvalidation_1-auc:0.76283\n",
      "[9]\tvalidation_0-auc:0.77704\tvalidation_1-auc:0.77158\n",
      "[10]\tvalidation_0-auc:0.77774\tvalidation_1-auc:0.77196\n",
      "[11]\tvalidation_0-auc:0.77672\tvalidation_1-auc:0.77068\n",
      "[12]\tvalidation_0-auc:0.77797\tvalidation_1-auc:0.77209\n",
      "[13]\tvalidation_0-auc:0.77801\tvalidation_1-auc:0.77226\n",
      "[14]\tvalidation_0-auc:0.77816\tvalidation_1-auc:0.77229\n",
      "[15]\tvalidation_0-auc:0.77867\tvalidation_1-auc:0.77274\n",
      "[16]\tvalidation_0-auc:0.77898\tvalidation_1-auc:0.77270\n",
      "[17]\tvalidation_0-auc:0.77873\tvalidation_1-auc:0.77241\n",
      "[18]\tvalidation_0-auc:0.77889\tvalidation_1-auc:0.77251\n",
      "[19]\tvalidation_0-auc:0.77941\tvalidation_1-auc:0.77285\n",
      "[20]\tvalidation_0-auc:0.77952\tvalidation_1-auc:0.77310\n",
      "[21]\tvalidation_0-auc:0.77961\tvalidation_1-auc:0.77312\n",
      "[22]\tvalidation_0-auc:0.78033\tvalidation_1-auc:0.77320\n",
      "[23]\tvalidation_0-auc:0.78066\tvalidation_1-auc:0.77311\n",
      "[24]\tvalidation_0-auc:0.78106\tvalidation_1-auc:0.77293\n",
      "[25]\tvalidation_0-auc:0.78145\tvalidation_1-auc:0.77324\n",
      "[26]\tvalidation_0-auc:0.78168\tvalidation_1-auc:0.77309\n",
      "[27]\tvalidation_0-auc:0.78172\tvalidation_1-auc:0.77303\n",
      "[28]\tvalidation_0-auc:0.78174\tvalidation_1-auc:0.77305\n",
      "[29]\tvalidation_0-auc:0.78180\tvalidation_1-auc:0.77310\n",
      "[30]\tvalidation_0-auc:0.78181\tvalidation_1-auc:0.77312\n",
      "[31]\tvalidation_0-auc:0.78185\tvalidation_1-auc:0.77305\n",
      "[32]\tvalidation_0-auc:0.78184\tvalidation_1-auc:0.77298\n",
      "[33]\tvalidation_0-auc:0.78192\tvalidation_1-auc:0.77300\n",
      "[34]\tvalidation_0-auc:0.78191\tvalidation_1-auc:0.77292\n",
      "[35]\tvalidation_0-auc:0.78193\tvalidation_1-auc:0.77289\n",
      "[36]\tvalidation_0-auc:0.78198\tvalidation_1-auc:0.77291\n",
      "[37]\tvalidation_0-auc:0.78223\tvalidation_1-auc:0.77312\n",
      "[38]\tvalidation_0-auc:0.78225\tvalidation_1-auc:0.77312\n",
      "[39]\tvalidation_0-auc:0.78229\tvalidation_1-auc:0.77317\n",
      "[40]\tvalidation_0-auc:0.78251\tvalidation_1-auc:0.77341\n",
      "[41]\tvalidation_0-auc:0.78251\tvalidation_1-auc:0.77330\n",
      "[42]\tvalidation_0-auc:0.78261\tvalidation_1-auc:0.77326\n",
      "[43]\tvalidation_0-auc:0.78269\tvalidation_1-auc:0.77328\n",
      "[44]\tvalidation_0-auc:0.78273\tvalidation_1-auc:0.77336\n",
      "[45]\tvalidation_0-auc:0.78276\tvalidation_1-auc:0.77330\n",
      "[46]\tvalidation_0-auc:0.78283\tvalidation_1-auc:0.77317\n",
      "[47]\tvalidation_0-auc:0.78283\tvalidation_1-auc:0.77316\n",
      "[48]\tvalidation_0-auc:0.78284\tvalidation_1-auc:0.77314\n",
      "[49]\tvalidation_0-auc:0.78290\tvalidation_1-auc:0.77308\n",
      "[50]\tvalidation_0-auc:0.78291\tvalidation_1-auc:0.77306\n",
      "[51]\tvalidation_0-auc:0.78292\tvalidation_1-auc:0.77302\n",
      "[52]\tvalidation_0-auc:0.78296\tvalidation_1-auc:0.77302\n",
      "[53]\tvalidation_0-auc:0.78296\tvalidation_1-auc:0.77303\n",
      "[54]\tvalidation_0-auc:0.78300\tvalidation_1-auc:0.77305\n",
      "[55]\tvalidation_0-auc:0.78305\tvalidation_1-auc:0.77307\n",
      "[56]\tvalidation_0-auc:0.78305\tvalidation_1-auc:0.77307\n",
      "[57]\tvalidation_0-auc:0.78307\tvalidation_1-auc:0.77303\n",
      "[58]\tvalidation_0-auc:0.78308\tvalidation_1-auc:0.77304\n",
      "[59]\tvalidation_0-auc:0.78309\tvalidation_1-auc:0.77302\n",
      "[60]\tvalidation_0-auc:0.78311\tvalidation_1-auc:0.77306\n",
      "[61]\tvalidation_0-auc:0.78311\tvalidation_1-auc:0.77306\n",
      "[62]\tvalidation_0-auc:0.78311\tvalidation_1-auc:0.77305\n",
      "[63]\tvalidation_0-auc:0.78312\tvalidation_1-auc:0.77305\n",
      "[64]\tvalidation_0-auc:0.78312\tvalidation_1-auc:0.77304\n",
      "[65]\tvalidation_0-auc:0.78312\tvalidation_1-auc:0.77302\n",
      "[66]\tvalidation_0-auc:0.78312\tvalidation_1-auc:0.77302\n",
      "[67]\tvalidation_0-auc:0.78313\tvalidation_1-auc:0.77303\n",
      "[68]\tvalidation_0-auc:0.78313\tvalidation_1-auc:0.77302\n",
      "[69]\tvalidation_0-auc:0.78313\tvalidation_1-auc:0.77301\n",
      "[70]\tvalidation_0-auc:0.78315\tvalidation_1-auc:0.77301\n",
      "[0]\tvalidation_0-auc:0.66946\tvalidation_1-auc:0.66555\n",
      "[1]\tvalidation_0-auc:0.76131\tvalidation_1-auc:0.75843\n",
      "[2]\tvalidation_0-auc:0.76226\tvalidation_1-auc:0.75971\n",
      "[3]\tvalidation_0-auc:0.76430\tvalidation_1-auc:0.76043\n",
      "[4]\tvalidation_0-auc:0.76232\tvalidation_1-auc:0.75832\n",
      "[5]\tvalidation_0-auc:0.76907\tvalidation_1-auc:0.76540\n",
      "[6]\tvalidation_0-auc:0.76643\tvalidation_1-auc:0.76289\n",
      "[7]\tvalidation_0-auc:0.76626\tvalidation_1-auc:0.76165\n",
      "[8]\tvalidation_0-auc:0.76815\tvalidation_1-auc:0.76374\n",
      "[9]\tvalidation_0-auc:0.77625\tvalidation_1-auc:0.77151\n",
      "[10]\tvalidation_0-auc:0.77726\tvalidation_1-auc:0.77226\n",
      "[11]\tvalidation_0-auc:0.77602\tvalidation_1-auc:0.77066\n",
      "[12]\tvalidation_0-auc:0.77751\tvalidation_1-auc:0.77242\n",
      "[13]\tvalidation_0-auc:0.77767\tvalidation_1-auc:0.77259\n",
      "[14]\tvalidation_0-auc:0.77793\tvalidation_1-auc:0.77279\n",
      "[15]\tvalidation_0-auc:0.77861\tvalidation_1-auc:0.77310\n",
      "[16]\tvalidation_0-auc:0.77904\tvalidation_1-auc:0.77320\n",
      "[17]\tvalidation_0-auc:0.77890\tvalidation_1-auc:0.77294\n",
      "[18]\tvalidation_0-auc:0.77906\tvalidation_1-auc:0.77306\n",
      "[19]\tvalidation_0-auc:0.77938\tvalidation_1-auc:0.77309\n",
      "[20]\tvalidation_0-auc:0.77955\tvalidation_1-auc:0.77346\n",
      "[21]\tvalidation_0-auc:0.77961\tvalidation_1-auc:0.77341\n",
      "[22]\tvalidation_0-auc:0.78012\tvalidation_1-auc:0.77331\n",
      "[23]\tvalidation_0-auc:0.78034\tvalidation_1-auc:0.77317\n",
      "[24]\tvalidation_0-auc:0.78083\tvalidation_1-auc:0.77304\n",
      "[25]\tvalidation_0-auc:0.78126\tvalidation_1-auc:0.77334\n",
      "[26]\tvalidation_0-auc:0.78145\tvalidation_1-auc:0.77349\n",
      "[27]\tvalidation_0-auc:0.78152\tvalidation_1-auc:0.77349\n",
      "[28]\tvalidation_0-auc:0.78155\tvalidation_1-auc:0.77351\n",
      "[29]\tvalidation_0-auc:0.78173\tvalidation_1-auc:0.77355\n",
      "[30]\tvalidation_0-auc:0.78168\tvalidation_1-auc:0.77349\n",
      "[31]\tvalidation_0-auc:0.78170\tvalidation_1-auc:0.77346\n",
      "[32]\tvalidation_0-auc:0.78176\tvalidation_1-auc:0.77352\n",
      "[33]\tvalidation_0-auc:0.78177\tvalidation_1-auc:0.77348\n",
      "[34]\tvalidation_0-auc:0.78177\tvalidation_1-auc:0.77343\n",
      "[35]\tvalidation_0-auc:0.78180\tvalidation_1-auc:0.77345\n",
      "[36]\tvalidation_0-auc:0.78190\tvalidation_1-auc:0.77343\n",
      "[37]\tvalidation_0-auc:0.78213\tvalidation_1-auc:0.77376\n",
      "[38]\tvalidation_0-auc:0.78215\tvalidation_1-auc:0.77369\n",
      "[39]\tvalidation_0-auc:0.78222\tvalidation_1-auc:0.77367\n",
      "[40]\tvalidation_0-auc:0.78251\tvalidation_1-auc:0.77380\n",
      "[41]\tvalidation_0-auc:0.78251\tvalidation_1-auc:0.77374\n",
      "[42]\tvalidation_0-auc:0.78263\tvalidation_1-auc:0.77386\n",
      "[43]\tvalidation_0-auc:0.78266\tvalidation_1-auc:0.77384\n",
      "[44]\tvalidation_0-auc:0.78269\tvalidation_1-auc:0.77394\n",
      "[45]\tvalidation_0-auc:0.78275\tvalidation_1-auc:0.77400\n",
      "[46]\tvalidation_0-auc:0.78281\tvalidation_1-auc:0.77392\n",
      "[47]\tvalidation_0-auc:0.78281\tvalidation_1-auc:0.77386\n",
      "[48]\tvalidation_0-auc:0.78289\tvalidation_1-auc:0.77384\n",
      "[49]\tvalidation_0-auc:0.78295\tvalidation_1-auc:0.77388\n",
      "[50]\tvalidation_0-auc:0.78294\tvalidation_1-auc:0.77387\n",
      "[51]\tvalidation_0-auc:0.78295\tvalidation_1-auc:0.77385\n",
      "[52]\tvalidation_0-auc:0.78303\tvalidation_1-auc:0.77383\n",
      "[53]\tvalidation_0-auc:0.78304\tvalidation_1-auc:0.77382\n",
      "[54]\tvalidation_0-auc:0.78310\tvalidation_1-auc:0.77387\n",
      "[55]\tvalidation_0-auc:0.78311\tvalidation_1-auc:0.77386\n",
      "[56]\tvalidation_0-auc:0.78311\tvalidation_1-auc:0.77387\n",
      "[57]\tvalidation_0-auc:0.78311\tvalidation_1-auc:0.77386\n",
      "[58]\tvalidation_0-auc:0.78311\tvalidation_1-auc:0.77384\n",
      "[59]\tvalidation_0-auc:0.78311\tvalidation_1-auc:0.77383\n",
      "[60]\tvalidation_0-auc:0.78313\tvalidation_1-auc:0.77386\n",
      "[61]\tvalidation_0-auc:0.78314\tvalidation_1-auc:0.77384\n",
      "[62]\tvalidation_0-auc:0.78314\tvalidation_1-auc:0.77383\n",
      "[63]\tvalidation_0-auc:0.78315\tvalidation_1-auc:0.77384\n",
      "[64]\tvalidation_0-auc:0.78315\tvalidation_1-auc:0.77384\n",
      "[65]\tvalidation_0-auc:0.78315\tvalidation_1-auc:0.77384\n",
      "[66]\tvalidation_0-auc:0.78315\tvalidation_1-auc:0.77384\n",
      "[67]\tvalidation_0-auc:0.78317\tvalidation_1-auc:0.77383\n",
      "[68]\tvalidation_0-auc:0.78318\tvalidation_1-auc:0.77383\n",
      "[69]\tvalidation_0-auc:0.78318\tvalidation_1-auc:0.77382\n",
      "[70]\tvalidation_0-auc:0.78317\tvalidation_1-auc:0.77382\n",
      "[71]\tvalidation_0-auc:0.78318\tvalidation_1-auc:0.77383\n",
      "[72]\tvalidation_0-auc:0.78319\tvalidation_1-auc:0.77381\n",
      "[73]\tvalidation_0-auc:0.78319\tvalidation_1-auc:0.77382\n",
      "[74]\tvalidation_0-auc:0.78321\tvalidation_1-auc:0.77381\n",
      "[75]\tvalidation_0-auc:0.78324\tvalidation_1-auc:0.77376\n",
      "[0]\tvalidation_0-auc:0.66943\tvalidation_1-auc:0.66550\n",
      "[1]\tvalidation_0-auc:0.76126\tvalidation_1-auc:0.75791\n",
      "[2]\tvalidation_0-auc:0.76256\tvalidation_1-auc:0.75988\n",
      "[3]\tvalidation_0-auc:0.76454\tvalidation_1-auc:0.76042\n",
      "[4]\tvalidation_0-auc:0.76326\tvalidation_1-auc:0.75954\n",
      "[5]\tvalidation_0-auc:0.76983\tvalidation_1-auc:0.76573\n",
      "[6]\tvalidation_0-auc:0.76728\tvalidation_1-auc:0.76309\n",
      "[7]\tvalidation_0-auc:0.76759\tvalidation_1-auc:0.76263\n",
      "[8]\tvalidation_0-auc:0.76861\tvalidation_1-auc:0.76355\n",
      "[9]\tvalidation_0-auc:0.77724\tvalidation_1-auc:0.77159\n",
      "[10]\tvalidation_0-auc:0.77816\tvalidation_1-auc:0.77204\n",
      "[11]\tvalidation_0-auc:0.77691\tvalidation_1-auc:0.77047\n",
      "[12]\tvalidation_0-auc:0.77823\tvalidation_1-auc:0.77206\n",
      "[13]\tvalidation_0-auc:0.77845\tvalidation_1-auc:0.77256\n",
      "[14]\tvalidation_0-auc:0.77864\tvalidation_1-auc:0.77256\n",
      "[15]\tvalidation_0-auc:0.77972\tvalidation_1-auc:0.77294\n",
      "[16]\tvalidation_0-auc:0.78024\tvalidation_1-auc:0.77293\n",
      "[17]\tvalidation_0-auc:0.78002\tvalidation_1-auc:0.77269\n",
      "[18]\tvalidation_0-auc:0.78023\tvalidation_1-auc:0.77275\n",
      "[19]\tvalidation_0-auc:0.78046\tvalidation_1-auc:0.77275\n",
      "[20]\tvalidation_0-auc:0.78061\tvalidation_1-auc:0.77308\n",
      "[21]\tvalidation_0-auc:0.78071\tvalidation_1-auc:0.77309\n",
      "[22]\tvalidation_0-auc:0.78133\tvalidation_1-auc:0.77327\n",
      "[23]\tvalidation_0-auc:0.78171\tvalidation_1-auc:0.77312\n",
      "[24]\tvalidation_0-auc:0.78225\tvalidation_1-auc:0.77275\n",
      "[25]\tvalidation_0-auc:0.78269\tvalidation_1-auc:0.77323\n",
      "[26]\tvalidation_0-auc:0.78304\tvalidation_1-auc:0.77291\n",
      "[27]\tvalidation_0-auc:0.78317\tvalidation_1-auc:0.77276\n",
      "[28]\tvalidation_0-auc:0.78317\tvalidation_1-auc:0.77276\n",
      "[29]\tvalidation_0-auc:0.78332\tvalidation_1-auc:0.77279\n",
      "[30]\tvalidation_0-auc:0.78329\tvalidation_1-auc:0.77275\n",
      "[31]\tvalidation_0-auc:0.78335\tvalidation_1-auc:0.77274\n",
      "[32]\tvalidation_0-auc:0.78336\tvalidation_1-auc:0.77274\n",
      "[33]\tvalidation_0-auc:0.78344\tvalidation_1-auc:0.77282\n",
      "[34]\tvalidation_0-auc:0.78347\tvalidation_1-auc:0.77277\n",
      "[35]\tvalidation_0-auc:0.78348\tvalidation_1-auc:0.77271\n",
      "[36]\tvalidation_0-auc:0.78364\tvalidation_1-auc:0.77273\n",
      "[37]\tvalidation_0-auc:0.78398\tvalidation_1-auc:0.77295\n",
      "[38]\tvalidation_0-auc:0.78400\tvalidation_1-auc:0.77284\n",
      "[39]\tvalidation_0-auc:0.78404\tvalidation_1-auc:0.77292\n",
      "[40]\tvalidation_0-auc:0.78434\tvalidation_1-auc:0.77294\n",
      "[41]\tvalidation_0-auc:0.78440\tvalidation_1-auc:0.77279\n",
      "[42]\tvalidation_0-auc:0.78454\tvalidation_1-auc:0.77270\n",
      "[43]\tvalidation_0-auc:0.78464\tvalidation_1-auc:0.77262\n",
      "[44]\tvalidation_0-auc:0.78471\tvalidation_1-auc:0.77273\n",
      "[45]\tvalidation_0-auc:0.78477\tvalidation_1-auc:0.77271\n",
      "[46]\tvalidation_0-auc:0.78478\tvalidation_1-auc:0.77270\n",
      "[47]\tvalidation_0-auc:0.78477\tvalidation_1-auc:0.77267\n",
      "[48]\tvalidation_0-auc:0.78481\tvalidation_1-auc:0.77265\n",
      "[49]\tvalidation_0-auc:0.78491\tvalidation_1-auc:0.77264\n",
      "[50]\tvalidation_0-auc:0.78491\tvalidation_1-auc:0.77261\n",
      "[51]\tvalidation_0-auc:0.78497\tvalidation_1-auc:0.77255\n",
      "[0]\tvalidation_0-auc:0.66945\tvalidation_1-auc:0.66552\n",
      "[1]\tvalidation_0-auc:0.76191\tvalidation_1-auc:0.75882\n",
      "[2]\tvalidation_0-auc:0.76285\tvalidation_1-auc:0.76002\n",
      "[3]\tvalidation_0-auc:0.76673\tvalidation_1-auc:0.76289\n",
      "[4]\tvalidation_0-auc:0.76407\tvalidation_1-auc:0.76032\n",
      "[5]\tvalidation_0-auc:0.76972\tvalidation_1-auc:0.76537\n",
      "[6]\tvalidation_0-auc:0.76806\tvalidation_1-auc:0.76376\n",
      "[7]\tvalidation_0-auc:0.76773\tvalidation_1-auc:0.76245\n",
      "[8]\tvalidation_0-auc:0.76896\tvalidation_1-auc:0.76303\n",
      "[9]\tvalidation_0-auc:0.77781\tvalidation_1-auc:0.77139\n",
      "[10]\tvalidation_0-auc:0.77837\tvalidation_1-auc:0.77148\n",
      "[11]\tvalidation_0-auc:0.77738\tvalidation_1-auc:0.77011\n",
      "[12]\tvalidation_0-auc:0.77858\tvalidation_1-auc:0.77164\n",
      "[13]\tvalidation_0-auc:0.77873\tvalidation_1-auc:0.77195\n",
      "[14]\tvalidation_0-auc:0.77886\tvalidation_1-auc:0.77193\n",
      "[15]\tvalidation_0-auc:0.77974\tvalidation_1-auc:0.77225\n",
      "[16]\tvalidation_0-auc:0.77995\tvalidation_1-auc:0.77213\n",
      "[17]\tvalidation_0-auc:0.77973\tvalidation_1-auc:0.77180\n",
      "[18]\tvalidation_0-auc:0.77997\tvalidation_1-auc:0.77182\n",
      "[19]\tvalidation_0-auc:0.78049\tvalidation_1-auc:0.77204\n",
      "[20]\tvalidation_0-auc:0.78059\tvalidation_1-auc:0.77230\n",
      "[21]\tvalidation_0-auc:0.78069\tvalidation_1-auc:0.77207\n",
      "[22]\tvalidation_0-auc:0.78143\tvalidation_1-auc:0.77219\n",
      "[23]\tvalidation_0-auc:0.78185\tvalidation_1-auc:0.77208\n",
      "[24]\tvalidation_0-auc:0.78240\tvalidation_1-auc:0.77180\n",
      "[25]\tvalidation_0-auc:0.78273\tvalidation_1-auc:0.77216\n",
      "[26]\tvalidation_0-auc:0.78308\tvalidation_1-auc:0.77211\n",
      "[27]\tvalidation_0-auc:0.78319\tvalidation_1-auc:0.77211\n",
      "[28]\tvalidation_0-auc:0.78321\tvalidation_1-auc:0.77212\n",
      "[29]\tvalidation_0-auc:0.78333\tvalidation_1-auc:0.77223\n",
      "[30]\tvalidation_0-auc:0.78331\tvalidation_1-auc:0.77218\n",
      "[31]\tvalidation_0-auc:0.78333\tvalidation_1-auc:0.77216\n",
      "[32]\tvalidation_0-auc:0.78334\tvalidation_1-auc:0.77214\n",
      "[33]\tvalidation_0-auc:0.78342\tvalidation_1-auc:0.77209\n",
      "[34]\tvalidation_0-auc:0.78344\tvalidation_1-auc:0.77198\n",
      "[35]\tvalidation_0-auc:0.78345\tvalidation_1-auc:0.77189\n",
      "[36]\tvalidation_0-auc:0.78358\tvalidation_1-auc:0.77194\n",
      "[37]\tvalidation_0-auc:0.78395\tvalidation_1-auc:0.77215\n",
      "[38]\tvalidation_0-auc:0.78398\tvalidation_1-auc:0.77213\n",
      "[39]\tvalidation_0-auc:0.78413\tvalidation_1-auc:0.77200\n",
      "[40]\tvalidation_0-auc:0.78441\tvalidation_1-auc:0.77219\n",
      "[41]\tvalidation_0-auc:0.78442\tvalidation_1-auc:0.77216\n",
      "[42]\tvalidation_0-auc:0.78457\tvalidation_1-auc:0.77217\n",
      "[43]\tvalidation_0-auc:0.78467\tvalidation_1-auc:0.77201\n",
      "[44]\tvalidation_0-auc:0.78471\tvalidation_1-auc:0.77212\n",
      "[45]\tvalidation_0-auc:0.78473\tvalidation_1-auc:0.77210\n",
      "[46]\tvalidation_0-auc:0.78474\tvalidation_1-auc:0.77208\n",
      "[47]\tvalidation_0-auc:0.78475\tvalidation_1-auc:0.77203\n",
      "[48]\tvalidation_0-auc:0.78477\tvalidation_1-auc:0.77202\n",
      "[49]\tvalidation_0-auc:0.78485\tvalidation_1-auc:0.77212\n",
      "[50]\tvalidation_0-auc:0.78486\tvalidation_1-auc:0.77209\n",
      "[0]\tvalidation_0-auc:0.66946\tvalidation_1-auc:0.66555\n",
      "[1]\tvalidation_0-auc:0.76146\tvalidation_1-auc:0.75863\n",
      "[2]\tvalidation_0-auc:0.76241\tvalidation_1-auc:0.75987\n",
      "[3]\tvalidation_0-auc:0.76457\tvalidation_1-auc:0.76076\n",
      "[4]\tvalidation_0-auc:0.76322\tvalidation_1-auc:0.75926\n",
      "[5]\tvalidation_0-auc:0.76971\tvalidation_1-auc:0.76563\n",
      "[6]\tvalidation_0-auc:0.76736\tvalidation_1-auc:0.76332\n",
      "[7]\tvalidation_0-auc:0.76747\tvalidation_1-auc:0.76219\n",
      "[8]\tvalidation_0-auc:0.76864\tvalidation_1-auc:0.76307\n",
      "[9]\tvalidation_0-auc:0.77709\tvalidation_1-auc:0.77120\n",
      "[10]\tvalidation_0-auc:0.77785\tvalidation_1-auc:0.77176\n",
      "[11]\tvalidation_0-auc:0.77669\tvalidation_1-auc:0.77004\n",
      "[12]\tvalidation_0-auc:0.77811\tvalidation_1-auc:0.77184\n",
      "[13]\tvalidation_0-auc:0.77835\tvalidation_1-auc:0.77215\n",
      "[14]\tvalidation_0-auc:0.77853\tvalidation_1-auc:0.77225\n",
      "[15]\tvalidation_0-auc:0.77954\tvalidation_1-auc:0.77238\n",
      "[16]\tvalidation_0-auc:0.78006\tvalidation_1-auc:0.77265\n",
      "[17]\tvalidation_0-auc:0.77988\tvalidation_1-auc:0.77243\n",
      "[18]\tvalidation_0-auc:0.77999\tvalidation_1-auc:0.77232\n",
      "[19]\tvalidation_0-auc:0.78042\tvalidation_1-auc:0.77235\n",
      "[20]\tvalidation_0-auc:0.78054\tvalidation_1-auc:0.77272\n",
      "[21]\tvalidation_0-auc:0.78060\tvalidation_1-auc:0.77254\n",
      "[22]\tvalidation_0-auc:0.78118\tvalidation_1-auc:0.77259\n",
      "[23]\tvalidation_0-auc:0.78154\tvalidation_1-auc:0.77248\n",
      "[24]\tvalidation_0-auc:0.78218\tvalidation_1-auc:0.77240\n",
      "[25]\tvalidation_0-auc:0.78255\tvalidation_1-auc:0.77276\n",
      "[26]\tvalidation_0-auc:0.78300\tvalidation_1-auc:0.77265\n",
      "[27]\tvalidation_0-auc:0.78312\tvalidation_1-auc:0.77253\n",
      "[28]\tvalidation_0-auc:0.78313\tvalidation_1-auc:0.77253\n",
      "[29]\tvalidation_0-auc:0.78329\tvalidation_1-auc:0.77251\n",
      "[30]\tvalidation_0-auc:0.78325\tvalidation_1-auc:0.77247\n",
      "[31]\tvalidation_0-auc:0.78329\tvalidation_1-auc:0.77242\n",
      "[32]\tvalidation_0-auc:0.78333\tvalidation_1-auc:0.77245\n",
      "[33]\tvalidation_0-auc:0.78339\tvalidation_1-auc:0.77241\n",
      "[34]\tvalidation_0-auc:0.78342\tvalidation_1-auc:0.77233\n",
      "[35]\tvalidation_0-auc:0.78344\tvalidation_1-auc:0.77227\n",
      "[36]\tvalidation_0-auc:0.78354\tvalidation_1-auc:0.77221\n",
      "[37]\tvalidation_0-auc:0.78385\tvalidation_1-auc:0.77242\n",
      "[38]\tvalidation_0-auc:0.78390\tvalidation_1-auc:0.77226\n",
      "[39]\tvalidation_0-auc:0.78396\tvalidation_1-auc:0.77220\n",
      "[40]\tvalidation_0-auc:0.78429\tvalidation_1-auc:0.77230\n",
      "[41]\tvalidation_0-auc:0.78432\tvalidation_1-auc:0.77222\n",
      "[42]\tvalidation_0-auc:0.78448\tvalidation_1-auc:0.77216\n",
      "[43]\tvalidation_0-auc:0.78454\tvalidation_1-auc:0.77220\n",
      "[44]\tvalidation_0-auc:0.78458\tvalidation_1-auc:0.77227\n",
      "[45]\tvalidation_0-auc:0.78461\tvalidation_1-auc:0.77235\n",
      "[46]\tvalidation_0-auc:0.78464\tvalidation_1-auc:0.77227\n",
      "[47]\tvalidation_0-auc:0.78465\tvalidation_1-auc:0.77218\n",
      "[48]\tvalidation_0-auc:0.78470\tvalidation_1-auc:0.77213\n",
      "[49]\tvalidation_0-auc:0.78472\tvalidation_1-auc:0.77227\n",
      "[50]\tvalidation_0-auc:0.78473\tvalidation_1-auc:0.77224\n",
      "[51]\tvalidation_0-auc:0.78473\tvalidation_1-auc:0.77223\n",
      "[52]\tvalidation_0-auc:0.78476\tvalidation_1-auc:0.77216\n",
      "[53]\tvalidation_0-auc:0.78477\tvalidation_1-auc:0.77217\n",
      "[54]\tvalidation_0-auc:0.78480\tvalidation_1-auc:0.77206\n",
      "[55]\tvalidation_0-auc:0.78482\tvalidation_1-auc:0.77207\n",
      "[0]\tvalidation_0-auc:0.66942\tvalidation_1-auc:0.66551\n",
      "[1]\tvalidation_0-auc:0.76124\tvalidation_1-auc:0.75793\n",
      "[2]\tvalidation_0-auc:0.76254\tvalidation_1-auc:0.75989\n",
      "[3]\tvalidation_0-auc:0.76451\tvalidation_1-auc:0.76043\n",
      "[4]\tvalidation_0-auc:0.76323\tvalidation_1-auc:0.75961\n",
      "[5]\tvalidation_0-auc:0.76978\tvalidation_1-auc:0.76573\n",
      "[6]\tvalidation_0-auc:0.76727\tvalidation_1-auc:0.76313\n",
      "[7]\tvalidation_0-auc:0.76753\tvalidation_1-auc:0.76251\n",
      "[8]\tvalidation_0-auc:0.76852\tvalidation_1-auc:0.76351\n",
      "[9]\tvalidation_0-auc:0.77713\tvalidation_1-auc:0.77170\n",
      "[10]\tvalidation_0-auc:0.77801\tvalidation_1-auc:0.77222\n",
      "[11]\tvalidation_0-auc:0.77681\tvalidation_1-auc:0.77068\n",
      "[12]\tvalidation_0-auc:0.77813\tvalidation_1-auc:0.77223\n",
      "[13]\tvalidation_0-auc:0.77834\tvalidation_1-auc:0.77268\n",
      "[14]\tvalidation_0-auc:0.77852\tvalidation_1-auc:0.77262\n",
      "[15]\tvalidation_0-auc:0.77960\tvalidation_1-auc:0.77304\n",
      "[16]\tvalidation_0-auc:0.78015\tvalidation_1-auc:0.77295\n",
      "[17]\tvalidation_0-auc:0.77994\tvalidation_1-auc:0.77270\n",
      "[18]\tvalidation_0-auc:0.78004\tvalidation_1-auc:0.77280\n",
      "[19]\tvalidation_0-auc:0.78029\tvalidation_1-auc:0.77280\n",
      "[20]\tvalidation_0-auc:0.78045\tvalidation_1-auc:0.77313\n",
      "[21]\tvalidation_0-auc:0.78053\tvalidation_1-auc:0.77316\n",
      "[22]\tvalidation_0-auc:0.78115\tvalidation_1-auc:0.77325\n",
      "[23]\tvalidation_0-auc:0.78149\tvalidation_1-auc:0.77313\n",
      "[24]\tvalidation_0-auc:0.78204\tvalidation_1-auc:0.77285\n",
      "[25]\tvalidation_0-auc:0.78245\tvalidation_1-auc:0.77326\n",
      "[26]\tvalidation_0-auc:0.78276\tvalidation_1-auc:0.77289\n",
      "[27]\tvalidation_0-auc:0.78290\tvalidation_1-auc:0.77285\n",
      "[28]\tvalidation_0-auc:0.78287\tvalidation_1-auc:0.77280\n",
      "[29]\tvalidation_0-auc:0.78304\tvalidation_1-auc:0.77287\n",
      "[30]\tvalidation_0-auc:0.78299\tvalidation_1-auc:0.77288\n",
      "[31]\tvalidation_0-auc:0.78305\tvalidation_1-auc:0.77286\n",
      "[32]\tvalidation_0-auc:0.78304\tvalidation_1-auc:0.77286\n",
      "[33]\tvalidation_0-auc:0.78314\tvalidation_1-auc:0.77296\n",
      "[34]\tvalidation_0-auc:0.78314\tvalidation_1-auc:0.77287\n",
      "[35]\tvalidation_0-auc:0.78314\tvalidation_1-auc:0.77288\n",
      "[36]\tvalidation_0-auc:0.78328\tvalidation_1-auc:0.77295\n",
      "[37]\tvalidation_0-auc:0.78362\tvalidation_1-auc:0.77320\n",
      "[38]\tvalidation_0-auc:0.78365\tvalidation_1-auc:0.77318\n",
      "[39]\tvalidation_0-auc:0.78374\tvalidation_1-auc:0.77314\n",
      "[40]\tvalidation_0-auc:0.78401\tvalidation_1-auc:0.77324\n",
      "[41]\tvalidation_0-auc:0.78403\tvalidation_1-auc:0.77313\n",
      "[42]\tvalidation_0-auc:0.78421\tvalidation_1-auc:0.77304\n",
      "[43]\tvalidation_0-auc:0.78431\tvalidation_1-auc:0.77291\n",
      "[44]\tvalidation_0-auc:0.78436\tvalidation_1-auc:0.77303\n",
      "[45]\tvalidation_0-auc:0.78448\tvalidation_1-auc:0.77309\n",
      "[46]\tvalidation_0-auc:0.78451\tvalidation_1-auc:0.77304\n",
      "[47]\tvalidation_0-auc:0.78451\tvalidation_1-auc:0.77306\n",
      "[48]\tvalidation_0-auc:0.78476\tvalidation_1-auc:0.77269\n",
      "[49]\tvalidation_0-auc:0.78487\tvalidation_1-auc:0.77262\n",
      "[50]\tvalidation_0-auc:0.78486\tvalidation_1-auc:0.77262\n",
      "[51]\tvalidation_0-auc:0.78486\tvalidation_1-auc:0.77261\n",
      "[52]\tvalidation_0-auc:0.78489\tvalidation_1-auc:0.77255\n",
      "[53]\tvalidation_0-auc:0.78490\tvalidation_1-auc:0.77256\n",
      "[54]\tvalidation_0-auc:0.78492\tvalidation_1-auc:0.77255\n",
      "[55]\tvalidation_0-auc:0.78493\tvalidation_1-auc:0.77255\n",
      "[0]\tvalidation_0-auc:0.66945\tvalidation_1-auc:0.66553\n",
      "[1]\tvalidation_0-auc:0.76191\tvalidation_1-auc:0.75882\n",
      "[2]\tvalidation_0-auc:0.76285\tvalidation_1-auc:0.76002\n",
      "[3]\tvalidation_0-auc:0.76673\tvalidation_1-auc:0.76289\n",
      "[4]\tvalidation_0-auc:0.76407\tvalidation_1-auc:0.76032\n",
      "[5]\tvalidation_0-auc:0.76971\tvalidation_1-auc:0.76534\n",
      "[6]\tvalidation_0-auc:0.76823\tvalidation_1-auc:0.76389\n",
      "[7]\tvalidation_0-auc:0.76776\tvalidation_1-auc:0.76251\n",
      "[8]\tvalidation_0-auc:0.76889\tvalidation_1-auc:0.76309\n",
      "[9]\tvalidation_0-auc:0.77770\tvalidation_1-auc:0.77145\n",
      "[10]\tvalidation_0-auc:0.77826\tvalidation_1-auc:0.77162\n",
      "[11]\tvalidation_0-auc:0.77724\tvalidation_1-auc:0.77030\n",
      "[12]\tvalidation_0-auc:0.77844\tvalidation_1-auc:0.77177\n",
      "[13]\tvalidation_0-auc:0.77861\tvalidation_1-auc:0.77202\n",
      "[14]\tvalidation_0-auc:0.77870\tvalidation_1-auc:0.77201\n",
      "[15]\tvalidation_0-auc:0.77952\tvalidation_1-auc:0.77248\n",
      "[16]\tvalidation_0-auc:0.77979\tvalidation_1-auc:0.77252\n",
      "[17]\tvalidation_0-auc:0.77957\tvalidation_1-auc:0.77218\n",
      "[18]\tvalidation_0-auc:0.77975\tvalidation_1-auc:0.77231\n",
      "[19]\tvalidation_0-auc:0.78024\tvalidation_1-auc:0.77252\n",
      "[20]\tvalidation_0-auc:0.78033\tvalidation_1-auc:0.77278\n",
      "[21]\tvalidation_0-auc:0.78042\tvalidation_1-auc:0.77268\n",
      "[22]\tvalidation_0-auc:0.78114\tvalidation_1-auc:0.77285\n",
      "[23]\tvalidation_0-auc:0.78158\tvalidation_1-auc:0.77272\n",
      "[24]\tvalidation_0-auc:0.78217\tvalidation_1-auc:0.77253\n",
      "[25]\tvalidation_0-auc:0.78249\tvalidation_1-auc:0.77290\n",
      "[26]\tvalidation_0-auc:0.78294\tvalidation_1-auc:0.77275\n",
      "[27]\tvalidation_0-auc:0.78299\tvalidation_1-auc:0.77276\n",
      "[28]\tvalidation_0-auc:0.78300\tvalidation_1-auc:0.77276\n",
      "[29]\tvalidation_0-auc:0.78310\tvalidation_1-auc:0.77280\n",
      "[30]\tvalidation_0-auc:0.78308\tvalidation_1-auc:0.77279\n",
      "[31]\tvalidation_0-auc:0.78310\tvalidation_1-auc:0.77270\n",
      "[32]\tvalidation_0-auc:0.78308\tvalidation_1-auc:0.77272\n",
      "[33]\tvalidation_0-auc:0.78314\tvalidation_1-auc:0.77270\n",
      "[34]\tvalidation_0-auc:0.78316\tvalidation_1-auc:0.77263\n",
      "[35]\tvalidation_0-auc:0.78316\tvalidation_1-auc:0.77262\n",
      "[36]\tvalidation_0-auc:0.78332\tvalidation_1-auc:0.77264\n",
      "[37]\tvalidation_0-auc:0.78363\tvalidation_1-auc:0.77278\n",
      "[38]\tvalidation_0-auc:0.78367\tvalidation_1-auc:0.77268\n",
      "[39]\tvalidation_0-auc:0.78368\tvalidation_1-auc:0.77262\n",
      "[40]\tvalidation_0-auc:0.78397\tvalidation_1-auc:0.77285\n",
      "[41]\tvalidation_0-auc:0.78400\tvalidation_1-auc:0.77274\n",
      "[42]\tvalidation_0-auc:0.78414\tvalidation_1-auc:0.77272\n",
      "[43]\tvalidation_0-auc:0.78426\tvalidation_1-auc:0.77265\n",
      "[44]\tvalidation_0-auc:0.78430\tvalidation_1-auc:0.77272\n",
      "[45]\tvalidation_0-auc:0.78428\tvalidation_1-auc:0.77274\n",
      "[46]\tvalidation_0-auc:0.78449\tvalidation_1-auc:0.77279\n",
      "[47]\tvalidation_0-auc:0.78449\tvalidation_1-auc:0.77272\n",
      "[48]\tvalidation_0-auc:0.78452\tvalidation_1-auc:0.77270\n",
      "[49]\tvalidation_0-auc:0.78452\tvalidation_1-auc:0.77271\n",
      "[50]\tvalidation_0-auc:0.78451\tvalidation_1-auc:0.77268\n",
      "[51]\tvalidation_0-auc:0.78453\tvalidation_1-auc:0.77254\n",
      "[52]\tvalidation_0-auc:0.78456\tvalidation_1-auc:0.77256\n",
      "[53]\tvalidation_0-auc:0.78457\tvalidation_1-auc:0.77255\n",
      "[54]\tvalidation_0-auc:0.78460\tvalidation_1-auc:0.77249\n",
      "[55]\tvalidation_0-auc:0.78460\tvalidation_1-auc:0.77253\n",
      "[0]\tvalidation_0-auc:0.66946\tvalidation_1-auc:0.66554\n",
      "[1]\tvalidation_0-auc:0.76146\tvalidation_1-auc:0.75863\n",
      "[2]\tvalidation_0-auc:0.76241\tvalidation_1-auc:0.75987\n",
      "[3]\tvalidation_0-auc:0.76456\tvalidation_1-auc:0.76079\n",
      "[4]\tvalidation_0-auc:0.76321\tvalidation_1-auc:0.75927\n",
      "[5]\tvalidation_0-auc:0.76966\tvalidation_1-auc:0.76565\n",
      "[6]\tvalidation_0-auc:0.76730\tvalidation_1-auc:0.76336\n",
      "[7]\tvalidation_0-auc:0.76743\tvalidation_1-auc:0.76224\n",
      "[8]\tvalidation_0-auc:0.76860\tvalidation_1-auc:0.76314\n",
      "[9]\tvalidation_0-auc:0.77703\tvalidation_1-auc:0.77124\n",
      "[10]\tvalidation_0-auc:0.77780\tvalidation_1-auc:0.77192\n",
      "[11]\tvalidation_0-auc:0.77663\tvalidation_1-auc:0.77025\n",
      "[12]\tvalidation_0-auc:0.77805\tvalidation_1-auc:0.77196\n",
      "[13]\tvalidation_0-auc:0.77827\tvalidation_1-auc:0.77230\n",
      "[14]\tvalidation_0-auc:0.77845\tvalidation_1-auc:0.77241\n",
      "[15]\tvalidation_0-auc:0.77945\tvalidation_1-auc:0.77265\n",
      "[16]\tvalidation_0-auc:0.77996\tvalidation_1-auc:0.77281\n",
      "[17]\tvalidation_0-auc:0.77979\tvalidation_1-auc:0.77254\n",
      "[18]\tvalidation_0-auc:0.77990\tvalidation_1-auc:0.77253\n",
      "[19]\tvalidation_0-auc:0.78032\tvalidation_1-auc:0.77257\n",
      "[20]\tvalidation_0-auc:0.78043\tvalidation_1-auc:0.77297\n",
      "[21]\tvalidation_0-auc:0.78050\tvalidation_1-auc:0.77287\n",
      "[22]\tvalidation_0-auc:0.78106\tvalidation_1-auc:0.77282\n",
      "[23]\tvalidation_0-auc:0.78138\tvalidation_1-auc:0.77264\n",
      "[24]\tvalidation_0-auc:0.78199\tvalidation_1-auc:0.77253\n",
      "[25]\tvalidation_0-auc:0.78233\tvalidation_1-auc:0.77285\n",
      "[26]\tvalidation_0-auc:0.78280\tvalidation_1-auc:0.77279\n",
      "[27]\tvalidation_0-auc:0.78298\tvalidation_1-auc:0.77277\n",
      "[28]\tvalidation_0-auc:0.78301\tvalidation_1-auc:0.77278\n",
      "[29]\tvalidation_0-auc:0.78314\tvalidation_1-auc:0.77281\n",
      "[30]\tvalidation_0-auc:0.78311\tvalidation_1-auc:0.77277\n",
      "[31]\tvalidation_0-auc:0.78314\tvalidation_1-auc:0.77270\n",
      "[32]\tvalidation_0-auc:0.78315\tvalidation_1-auc:0.77273\n",
      "[33]\tvalidation_0-auc:0.78319\tvalidation_1-auc:0.77275\n",
      "[34]\tvalidation_0-auc:0.78323\tvalidation_1-auc:0.77268\n",
      "[35]\tvalidation_0-auc:0.78325\tvalidation_1-auc:0.77260\n",
      "[36]\tvalidation_0-auc:0.78333\tvalidation_1-auc:0.77265\n",
      "[37]\tvalidation_0-auc:0.78361\tvalidation_1-auc:0.77285\n",
      "[38]\tvalidation_0-auc:0.78363\tvalidation_1-auc:0.77275\n",
      "[39]\tvalidation_0-auc:0.78369\tvalidation_1-auc:0.77274\n",
      "[40]\tvalidation_0-auc:0.78402\tvalidation_1-auc:0.77285\n",
      "[41]\tvalidation_0-auc:0.78401\tvalidation_1-auc:0.77275\n",
      "[42]\tvalidation_0-auc:0.78417\tvalidation_1-auc:0.77271\n",
      "[43]\tvalidation_0-auc:0.78424\tvalidation_1-auc:0.77278\n",
      "[44]\tvalidation_0-auc:0.78429\tvalidation_1-auc:0.77287\n",
      "[45]\tvalidation_0-auc:0.78429\tvalidation_1-auc:0.77294\n",
      "[46]\tvalidation_0-auc:0.78433\tvalidation_1-auc:0.77289\n",
      "[47]\tvalidation_0-auc:0.78435\tvalidation_1-auc:0.77284\n",
      "[48]\tvalidation_0-auc:0.78438\tvalidation_1-auc:0.77277\n",
      "[49]\tvalidation_0-auc:0.78445\tvalidation_1-auc:0.77277\n",
      "[0]\tvalidation_0-auc:0.75807\tvalidation_1-auc:0.75425\n",
      "[1]\tvalidation_0-auc:0.76927\tvalidation_1-auc:0.76442\n",
      "[2]\tvalidation_0-auc:0.77359\tvalidation_1-auc:0.76895\n",
      "[3]\tvalidation_0-auc:0.77427\tvalidation_1-auc:0.76940\n",
      "[4]\tvalidation_0-auc:0.77560\tvalidation_1-auc:0.77051\n",
      "[5]\tvalidation_0-auc:0.77742\tvalidation_1-auc:0.77183\n",
      "[6]\tvalidation_0-auc:0.77751\tvalidation_1-auc:0.77161\n",
      "[7]\tvalidation_0-auc:0.77677\tvalidation_1-auc:0.77106\n",
      "[8]\tvalidation_0-auc:0.77647\tvalidation_1-auc:0.77079\n",
      "[9]\tvalidation_0-auc:0.77920\tvalidation_1-auc:0.77319\n",
      "[10]\tvalidation_0-auc:0.77962\tvalidation_1-auc:0.77347\n",
      "[11]\tvalidation_0-auc:0.77948\tvalidation_1-auc:0.77341\n",
      "[12]\tvalidation_0-auc:0.78014\tvalidation_1-auc:0.77416\n",
      "[13]\tvalidation_0-auc:0.78077\tvalidation_1-auc:0.77435\n",
      "[14]\tvalidation_0-auc:0.78083\tvalidation_1-auc:0.77436\n",
      "[15]\tvalidation_0-auc:0.78095\tvalidation_1-auc:0.77425\n",
      "[16]\tvalidation_0-auc:0.78143\tvalidation_1-auc:0.77446\n",
      "[17]\tvalidation_0-auc:0.78149\tvalidation_1-auc:0.77451\n",
      "[18]\tvalidation_0-auc:0.78184\tvalidation_1-auc:0.77466\n",
      "[19]\tvalidation_0-auc:0.78198\tvalidation_1-auc:0.77480\n",
      "[20]\tvalidation_0-auc:0.78211\tvalidation_1-auc:0.77477\n",
      "[21]\tvalidation_0-auc:0.78224\tvalidation_1-auc:0.77479\n",
      "[22]\tvalidation_0-auc:0.78243\tvalidation_1-auc:0.77456\n",
      "[23]\tvalidation_0-auc:0.78258\tvalidation_1-auc:0.77451\n",
      "[24]\tvalidation_0-auc:0.78272\tvalidation_1-auc:0.77446\n",
      "[25]\tvalidation_0-auc:0.78277\tvalidation_1-auc:0.77449\n",
      "[26]\tvalidation_0-auc:0.78279\tvalidation_1-auc:0.77444\n",
      "[27]\tvalidation_0-auc:0.78280\tvalidation_1-auc:0.77439\n",
      "[28]\tvalidation_0-auc:0.78298\tvalidation_1-auc:0.77422\n",
      "[29]\tvalidation_0-auc:0.78304\tvalidation_1-auc:0.77425\n",
      "[30]\tvalidation_0-auc:0.78308\tvalidation_1-auc:0.77422\n",
      "[31]\tvalidation_0-auc:0.78309\tvalidation_1-auc:0.77408\n",
      "[32]\tvalidation_0-auc:0.78312\tvalidation_1-auc:0.77420\n",
      "[33]\tvalidation_0-auc:0.78321\tvalidation_1-auc:0.77412\n",
      "[34]\tvalidation_0-auc:0.78324\tvalidation_1-auc:0.77408\n",
      "[35]\tvalidation_0-auc:0.78326\tvalidation_1-auc:0.77404\n",
      "[36]\tvalidation_0-auc:0.78329\tvalidation_1-auc:0.77390\n",
      "[37]\tvalidation_0-auc:0.78332\tvalidation_1-auc:0.77385\n",
      "[38]\tvalidation_0-auc:0.78334\tvalidation_1-auc:0.77380\n",
      "[39]\tvalidation_0-auc:0.78337\tvalidation_1-auc:0.77378\n",
      "[40]\tvalidation_0-auc:0.78338\tvalidation_1-auc:0.77380\n",
      "[41]\tvalidation_0-auc:0.78339\tvalidation_1-auc:0.77377\n",
      "[42]\tvalidation_0-auc:0.78340\tvalidation_1-auc:0.77375\n",
      "[43]\tvalidation_0-auc:0.78341\tvalidation_1-auc:0.77372\n",
      "[44]\tvalidation_0-auc:0.78341\tvalidation_1-auc:0.77376\n",
      "[45]\tvalidation_0-auc:0.78341\tvalidation_1-auc:0.77375\n",
      "[46]\tvalidation_0-auc:0.78345\tvalidation_1-auc:0.77384\n",
      "[47]\tvalidation_0-auc:0.78345\tvalidation_1-auc:0.77378\n",
      "[48]\tvalidation_0-auc:0.78345\tvalidation_1-auc:0.77380\n",
      "[49]\tvalidation_0-auc:0.78345\tvalidation_1-auc:0.77382\n",
      "[0]\tvalidation_0-auc:0.75785\tvalidation_1-auc:0.75476\n",
      "[1]\tvalidation_0-auc:0.76900\tvalidation_1-auc:0.76407\n",
      "[2]\tvalidation_0-auc:0.77399\tvalidation_1-auc:0.76887\n",
      "[3]\tvalidation_0-auc:0.77340\tvalidation_1-auc:0.76813\n",
      "[4]\tvalidation_0-auc:0.77482\tvalidation_1-auc:0.76957\n",
      "[5]\tvalidation_0-auc:0.77727\tvalidation_1-auc:0.77133\n",
      "[6]\tvalidation_0-auc:0.77706\tvalidation_1-auc:0.77122\n",
      "[7]\tvalidation_0-auc:0.77644\tvalidation_1-auc:0.77055\n",
      "[8]\tvalidation_0-auc:0.77651\tvalidation_1-auc:0.77047\n",
      "[9]\tvalidation_0-auc:0.77945\tvalidation_1-auc:0.77271\n",
      "[10]\tvalidation_0-auc:0.77947\tvalidation_1-auc:0.77272\n",
      "[11]\tvalidation_0-auc:0.77963\tvalidation_1-auc:0.77301\n",
      "[12]\tvalidation_0-auc:0.77983\tvalidation_1-auc:0.77296\n",
      "[13]\tvalidation_0-auc:0.78059\tvalidation_1-auc:0.77333\n",
      "[14]\tvalidation_0-auc:0.78067\tvalidation_1-auc:0.77344\n",
      "[15]\tvalidation_0-auc:0.78075\tvalidation_1-auc:0.77328\n",
      "[16]\tvalidation_0-auc:0.78131\tvalidation_1-auc:0.77349\n",
      "[17]\tvalidation_0-auc:0.78132\tvalidation_1-auc:0.77364\n",
      "[18]\tvalidation_0-auc:0.78153\tvalidation_1-auc:0.77371\n",
      "[19]\tvalidation_0-auc:0.78196\tvalidation_1-auc:0.77382\n",
      "[20]\tvalidation_0-auc:0.78210\tvalidation_1-auc:0.77382\n",
      "[21]\tvalidation_0-auc:0.78221\tvalidation_1-auc:0.77377\n",
      "[22]\tvalidation_0-auc:0.78259\tvalidation_1-auc:0.77362\n",
      "[23]\tvalidation_0-auc:0.78274\tvalidation_1-auc:0.77352\n",
      "[24]\tvalidation_0-auc:0.78280\tvalidation_1-auc:0.77348\n",
      "[25]\tvalidation_0-auc:0.78288\tvalidation_1-auc:0.77343\n",
      "[26]\tvalidation_0-auc:0.78295\tvalidation_1-auc:0.77338\n",
      "[27]\tvalidation_0-auc:0.78305\tvalidation_1-auc:0.77324\n",
      "[28]\tvalidation_0-auc:0.78309\tvalidation_1-auc:0.77317\n",
      "[29]\tvalidation_0-auc:0.78316\tvalidation_1-auc:0.77313\n",
      "[30]\tvalidation_0-auc:0.78318\tvalidation_1-auc:0.77307\n",
      "[31]\tvalidation_0-auc:0.78323\tvalidation_1-auc:0.77307\n",
      "[32]\tvalidation_0-auc:0.78326\tvalidation_1-auc:0.77314\n",
      "[33]\tvalidation_0-auc:0.78332\tvalidation_1-auc:0.77310\n",
      "[34]\tvalidation_0-auc:0.78333\tvalidation_1-auc:0.77305\n",
      "[35]\tvalidation_0-auc:0.78332\tvalidation_1-auc:0.77297\n",
      "[36]\tvalidation_0-auc:0.78338\tvalidation_1-auc:0.77300\n",
      "[37]\tvalidation_0-auc:0.78341\tvalidation_1-auc:0.77296\n",
      "[38]\tvalidation_0-auc:0.78346\tvalidation_1-auc:0.77294\n",
      "[39]\tvalidation_0-auc:0.78350\tvalidation_1-auc:0.77296\n",
      "[40]\tvalidation_0-auc:0.78352\tvalidation_1-auc:0.77286\n",
      "[41]\tvalidation_0-auc:0.78354\tvalidation_1-auc:0.77281\n",
      "[42]\tvalidation_0-auc:0.78354\tvalidation_1-auc:0.77279\n",
      "[43]\tvalidation_0-auc:0.78355\tvalidation_1-auc:0.77278\n",
      "[44]\tvalidation_0-auc:0.78354\tvalidation_1-auc:0.77277\n",
      "[45]\tvalidation_0-auc:0.78354\tvalidation_1-auc:0.77276\n",
      "[46]\tvalidation_0-auc:0.78353\tvalidation_1-auc:0.77273\n",
      "[47]\tvalidation_0-auc:0.78354\tvalidation_1-auc:0.77269\n",
      "[48]\tvalidation_0-auc:0.78354\tvalidation_1-auc:0.77271\n",
      "[0]\tvalidation_0-auc:0.75796\tvalidation_1-auc:0.75450\n",
      "[1]\tvalidation_0-auc:0.76854\tvalidation_1-auc:0.76352\n",
      "[2]\tvalidation_0-auc:0.77381\tvalidation_1-auc:0.76856\n",
      "[3]\tvalidation_0-auc:0.77350\tvalidation_1-auc:0.76806\n",
      "[4]\tvalidation_0-auc:0.77585\tvalidation_1-auc:0.76976\n",
      "[5]\tvalidation_0-auc:0.77776\tvalidation_1-auc:0.77100\n",
      "[6]\tvalidation_0-auc:0.77755\tvalidation_1-auc:0.77122\n",
      "[7]\tvalidation_0-auc:0.77673\tvalidation_1-auc:0.77095\n",
      "[8]\tvalidation_0-auc:0.77655\tvalidation_1-auc:0.77066\n",
      "[9]\tvalidation_0-auc:0.77937\tvalidation_1-auc:0.77310\n",
      "[10]\tvalidation_0-auc:0.77961\tvalidation_1-auc:0.77335\n",
      "[11]\tvalidation_0-auc:0.77977\tvalidation_1-auc:0.77355\n",
      "[12]\tvalidation_0-auc:0.78000\tvalidation_1-auc:0.77384\n",
      "[13]\tvalidation_0-auc:0.78045\tvalidation_1-auc:0.77395\n",
      "[14]\tvalidation_0-auc:0.78062\tvalidation_1-auc:0.77404\n",
      "[15]\tvalidation_0-auc:0.78079\tvalidation_1-auc:0.77386\n",
      "[16]\tvalidation_0-auc:0.78122\tvalidation_1-auc:0.77373\n",
      "[17]\tvalidation_0-auc:0.78129\tvalidation_1-auc:0.77376\n",
      "[18]\tvalidation_0-auc:0.78156\tvalidation_1-auc:0.77394\n",
      "[19]\tvalidation_0-auc:0.78191\tvalidation_1-auc:0.77403\n",
      "[20]\tvalidation_0-auc:0.78209\tvalidation_1-auc:0.77409\n",
      "[21]\tvalidation_0-auc:0.78225\tvalidation_1-auc:0.77406\n",
      "[22]\tvalidation_0-auc:0.78252\tvalidation_1-auc:0.77416\n",
      "[23]\tvalidation_0-auc:0.78264\tvalidation_1-auc:0.77414\n",
      "[24]\tvalidation_0-auc:0.78285\tvalidation_1-auc:0.77412\n",
      "[25]\tvalidation_0-auc:0.78296\tvalidation_1-auc:0.77400\n",
      "[26]\tvalidation_0-auc:0.78305\tvalidation_1-auc:0.77398\n",
      "[27]\tvalidation_0-auc:0.78310\tvalidation_1-auc:0.77388\n",
      "[28]\tvalidation_0-auc:0.78311\tvalidation_1-auc:0.77383\n",
      "[29]\tvalidation_0-auc:0.78321\tvalidation_1-auc:0.77394\n",
      "[30]\tvalidation_0-auc:0.78320\tvalidation_1-auc:0.77391\n",
      "[31]\tvalidation_0-auc:0.78327\tvalidation_1-auc:0.77381\n",
      "[32]\tvalidation_0-auc:0.78328\tvalidation_1-auc:0.77383\n",
      "[33]\tvalidation_0-auc:0.78338\tvalidation_1-auc:0.77381\n",
      "[34]\tvalidation_0-auc:0.78340\tvalidation_1-auc:0.77383\n",
      "[35]\tvalidation_0-auc:0.78342\tvalidation_1-auc:0.77375\n",
      "[36]\tvalidation_0-auc:0.78353\tvalidation_1-auc:0.77375\n",
      "[37]\tvalidation_0-auc:0.78358\tvalidation_1-auc:0.77378\n",
      "[38]\tvalidation_0-auc:0.78362\tvalidation_1-auc:0.77363\n",
      "[39]\tvalidation_0-auc:0.78363\tvalidation_1-auc:0.77361\n",
      "[40]\tvalidation_0-auc:0.78364\tvalidation_1-auc:0.77361\n",
      "[41]\tvalidation_0-auc:0.78364\tvalidation_1-auc:0.77363\n",
      "[42]\tvalidation_0-auc:0.78366\tvalidation_1-auc:0.77355\n",
      "[43]\tvalidation_0-auc:0.78373\tvalidation_1-auc:0.77359\n",
      "[44]\tvalidation_0-auc:0.78373\tvalidation_1-auc:0.77357\n",
      "[45]\tvalidation_0-auc:0.78380\tvalidation_1-auc:0.77346\n",
      "[46]\tvalidation_0-auc:0.78385\tvalidation_1-auc:0.77340\n",
      "[47]\tvalidation_0-auc:0.78388\tvalidation_1-auc:0.77333\n",
      "[48]\tvalidation_0-auc:0.78388\tvalidation_1-auc:0.77332\n",
      "[49]\tvalidation_0-auc:0.78394\tvalidation_1-auc:0.77336\n",
      "[50]\tvalidation_0-auc:0.78393\tvalidation_1-auc:0.77337\n",
      "[51]\tvalidation_0-auc:0.78394\tvalidation_1-auc:0.77336\n",
      "[52]\tvalidation_0-auc:0.78394\tvalidation_1-auc:0.77332\n",
      "[0]\tvalidation_0-auc:0.75807\tvalidation_1-auc:0.75425\n",
      "[1]\tvalidation_0-auc:0.76929\tvalidation_1-auc:0.76442\n",
      "[2]\tvalidation_0-auc:0.77360\tvalidation_1-auc:0.76898\n",
      "[3]\tvalidation_0-auc:0.77428\tvalidation_1-auc:0.76941\n",
      "[4]\tvalidation_0-auc:0.77561\tvalidation_1-auc:0.77051\n",
      "[5]\tvalidation_0-auc:0.77741\tvalidation_1-auc:0.77194\n",
      "[6]\tvalidation_0-auc:0.77748\tvalidation_1-auc:0.77166\n",
      "[7]\tvalidation_0-auc:0.77673\tvalidation_1-auc:0.77111\n",
      "[8]\tvalidation_0-auc:0.77647\tvalidation_1-auc:0.77089\n",
      "[9]\tvalidation_0-auc:0.77910\tvalidation_1-auc:0.77322\n",
      "[10]\tvalidation_0-auc:0.77953\tvalidation_1-auc:0.77356\n",
      "[11]\tvalidation_0-auc:0.77944\tvalidation_1-auc:0.77347\n",
      "[12]\tvalidation_0-auc:0.78004\tvalidation_1-auc:0.77420\n",
      "[13]\tvalidation_0-auc:0.78067\tvalidation_1-auc:0.77440\n",
      "[14]\tvalidation_0-auc:0.78072\tvalidation_1-auc:0.77438\n",
      "[15]\tvalidation_0-auc:0.78085\tvalidation_1-auc:0.77416\n",
      "[16]\tvalidation_0-auc:0.78126\tvalidation_1-auc:0.77432\n",
      "[17]\tvalidation_0-auc:0.78132\tvalidation_1-auc:0.77443\n",
      "[18]\tvalidation_0-auc:0.78160\tvalidation_1-auc:0.77451\n",
      "[19]\tvalidation_0-auc:0.78179\tvalidation_1-auc:0.77445\n",
      "[20]\tvalidation_0-auc:0.78191\tvalidation_1-auc:0.77447\n",
      "[21]\tvalidation_0-auc:0.78216\tvalidation_1-auc:0.77433\n",
      "[22]\tvalidation_0-auc:0.78236\tvalidation_1-auc:0.77432\n",
      "[23]\tvalidation_0-auc:0.78250\tvalidation_1-auc:0.77421\n",
      "[24]\tvalidation_0-auc:0.78270\tvalidation_1-auc:0.77399\n",
      "[25]\tvalidation_0-auc:0.78275\tvalidation_1-auc:0.77399\n",
      "[26]\tvalidation_0-auc:0.78278\tvalidation_1-auc:0.77395\n",
      "[27]\tvalidation_0-auc:0.78286\tvalidation_1-auc:0.77378\n",
      "[28]\tvalidation_0-auc:0.78288\tvalidation_1-auc:0.77372\n",
      "[29]\tvalidation_0-auc:0.78299\tvalidation_1-auc:0.77375\n",
      "[30]\tvalidation_0-auc:0.78300\tvalidation_1-auc:0.77369\n",
      "[31]\tvalidation_0-auc:0.78303\tvalidation_1-auc:0.77368\n",
      "[32]\tvalidation_0-auc:0.78309\tvalidation_1-auc:0.77377\n",
      "[33]\tvalidation_0-auc:0.78315\tvalidation_1-auc:0.77376\n",
      "[34]\tvalidation_0-auc:0.78316\tvalidation_1-auc:0.77379\n",
      "[35]\tvalidation_0-auc:0.78316\tvalidation_1-auc:0.77379\n",
      "[36]\tvalidation_0-auc:0.78315\tvalidation_1-auc:0.77387\n",
      "[37]\tvalidation_0-auc:0.78325\tvalidation_1-auc:0.77383\n",
      "[38]\tvalidation_0-auc:0.78328\tvalidation_1-auc:0.77385\n",
      "[39]\tvalidation_0-auc:0.78330\tvalidation_1-auc:0.77386\n",
      "[40]\tvalidation_0-auc:0.78335\tvalidation_1-auc:0.77389\n",
      "[41]\tvalidation_0-auc:0.78335\tvalidation_1-auc:0.77387\n",
      "[42]\tvalidation_0-auc:0.78337\tvalidation_1-auc:0.77383\n",
      "[43]\tvalidation_0-auc:0.78337\tvalidation_1-auc:0.77383\n",
      "[44]\tvalidation_0-auc:0.78340\tvalidation_1-auc:0.77385\n",
      "[45]\tvalidation_0-auc:0.78343\tvalidation_1-auc:0.77376\n",
      "[46]\tvalidation_0-auc:0.78347\tvalidation_1-auc:0.77375\n",
      "[47]\tvalidation_0-auc:0.78348\tvalidation_1-auc:0.77369\n",
      "[48]\tvalidation_0-auc:0.78351\tvalidation_1-auc:0.77360\n",
      "[0]\tvalidation_0-auc:0.75785\tvalidation_1-auc:0.75476\n",
      "[1]\tvalidation_0-auc:0.76900\tvalidation_1-auc:0.76407\n",
      "[2]\tvalidation_0-auc:0.77399\tvalidation_1-auc:0.76887\n",
      "[3]\tvalidation_0-auc:0.77340\tvalidation_1-auc:0.76813\n",
      "[4]\tvalidation_0-auc:0.77482\tvalidation_1-auc:0.76957\n",
      "[5]\tvalidation_0-auc:0.77720\tvalidation_1-auc:0.77133\n",
      "[6]\tvalidation_0-auc:0.77703\tvalidation_1-auc:0.77125\n",
      "[7]\tvalidation_0-auc:0.77640\tvalidation_1-auc:0.77055\n",
      "[8]\tvalidation_0-auc:0.77651\tvalidation_1-auc:0.77054\n",
      "[9]\tvalidation_0-auc:0.77944\tvalidation_1-auc:0.77276\n",
      "[10]\tvalidation_0-auc:0.77944\tvalidation_1-auc:0.77273\n",
      "[11]\tvalidation_0-auc:0.77962\tvalidation_1-auc:0.77300\n",
      "[12]\tvalidation_0-auc:0.77972\tvalidation_1-auc:0.77314\n",
      "[13]\tvalidation_0-auc:0.78053\tvalidation_1-auc:0.77363\n",
      "[14]\tvalidation_0-auc:0.78059\tvalidation_1-auc:0.77358\n",
      "[15]\tvalidation_0-auc:0.78071\tvalidation_1-auc:0.77345\n",
      "[16]\tvalidation_0-auc:0.78137\tvalidation_1-auc:0.77352\n",
      "[17]\tvalidation_0-auc:0.78139\tvalidation_1-auc:0.77361\n",
      "[18]\tvalidation_0-auc:0.78159\tvalidation_1-auc:0.77376\n",
      "[19]\tvalidation_0-auc:0.78199\tvalidation_1-auc:0.77387\n",
      "[20]\tvalidation_0-auc:0.78213\tvalidation_1-auc:0.77386\n",
      "[21]\tvalidation_0-auc:0.78222\tvalidation_1-auc:0.77383\n",
      "[22]\tvalidation_0-auc:0.78252\tvalidation_1-auc:0.77379\n",
      "[23]\tvalidation_0-auc:0.78267\tvalidation_1-auc:0.77376\n",
      "[24]\tvalidation_0-auc:0.78277\tvalidation_1-auc:0.77370\n",
      "[25]\tvalidation_0-auc:0.78282\tvalidation_1-auc:0.77359\n",
      "[26]\tvalidation_0-auc:0.78284\tvalidation_1-auc:0.77356\n",
      "[27]\tvalidation_0-auc:0.78288\tvalidation_1-auc:0.77356\n",
      "[28]\tvalidation_0-auc:0.78295\tvalidation_1-auc:0.77356\n",
      "[29]\tvalidation_0-auc:0.78308\tvalidation_1-auc:0.77349\n",
      "[30]\tvalidation_0-auc:0.78307\tvalidation_1-auc:0.77338\n",
      "[31]\tvalidation_0-auc:0.78310\tvalidation_1-auc:0.77339\n",
      "[32]\tvalidation_0-auc:0.78314\tvalidation_1-auc:0.77343\n",
      "[33]\tvalidation_0-auc:0.78319\tvalidation_1-auc:0.77333\n",
      "[34]\tvalidation_0-auc:0.78322\tvalidation_1-auc:0.77323\n",
      "[35]\tvalidation_0-auc:0.78324\tvalidation_1-auc:0.77318\n",
      "[36]\tvalidation_0-auc:0.78325\tvalidation_1-auc:0.77316\n",
      "[37]\tvalidation_0-auc:0.78326\tvalidation_1-auc:0.77313\n",
      "[38]\tvalidation_0-auc:0.78341\tvalidation_1-auc:0.77312\n",
      "[39]\tvalidation_0-auc:0.78347\tvalidation_1-auc:0.77319\n",
      "[40]\tvalidation_0-auc:0.78350\tvalidation_1-auc:0.77312\n",
      "[41]\tvalidation_0-auc:0.78356\tvalidation_1-auc:0.77310\n",
      "[42]\tvalidation_0-auc:0.78358\tvalidation_1-auc:0.77314\n",
      "[43]\tvalidation_0-auc:0.78361\tvalidation_1-auc:0.77315\n",
      "[44]\tvalidation_0-auc:0.78361\tvalidation_1-auc:0.77311\n",
      "[45]\tvalidation_0-auc:0.78367\tvalidation_1-auc:0.77310\n",
      "[46]\tvalidation_0-auc:0.78369\tvalidation_1-auc:0.77305\n",
      "[47]\tvalidation_0-auc:0.78370\tvalidation_1-auc:0.77301\n",
      "[48]\tvalidation_0-auc:0.78372\tvalidation_1-auc:0.77293\n",
      "[49]\tvalidation_0-auc:0.78373\tvalidation_1-auc:0.77292\n",
      "[0]\tvalidation_0-auc:0.75795\tvalidation_1-auc:0.75445\n",
      "[1]\tvalidation_0-auc:0.76851\tvalidation_1-auc:0.76335\n",
      "[2]\tvalidation_0-auc:0.77380\tvalidation_1-auc:0.76853\n",
      "[3]\tvalidation_0-auc:0.77350\tvalidation_1-auc:0.76805\n",
      "[4]\tvalidation_0-auc:0.77586\tvalidation_1-auc:0.76979\n",
      "[5]\tvalidation_0-auc:0.77764\tvalidation_1-auc:0.77102\n",
      "[6]\tvalidation_0-auc:0.77742\tvalidation_1-auc:0.77126\n",
      "[7]\tvalidation_0-auc:0.77669\tvalidation_1-auc:0.77098\n",
      "[8]\tvalidation_0-auc:0.77651\tvalidation_1-auc:0.77069\n",
      "[9]\tvalidation_0-auc:0.77935\tvalidation_1-auc:0.77317\n",
      "[10]\tvalidation_0-auc:0.77953\tvalidation_1-auc:0.77333\n",
      "[11]\tvalidation_0-auc:0.77967\tvalidation_1-auc:0.77352\n",
      "[12]\tvalidation_0-auc:0.77997\tvalidation_1-auc:0.77361\n",
      "[13]\tvalidation_0-auc:0.78044\tvalidation_1-auc:0.77376\n",
      "[14]\tvalidation_0-auc:0.78052\tvalidation_1-auc:0.77383\n",
      "[15]\tvalidation_0-auc:0.78075\tvalidation_1-auc:0.77384\n",
      "[16]\tvalidation_0-auc:0.78099\tvalidation_1-auc:0.77365\n",
      "[17]\tvalidation_0-auc:0.78111\tvalidation_1-auc:0.77387\n",
      "[18]\tvalidation_0-auc:0.78148\tvalidation_1-auc:0.77399\n",
      "[19]\tvalidation_0-auc:0.78177\tvalidation_1-auc:0.77408\n",
      "[20]\tvalidation_0-auc:0.78199\tvalidation_1-auc:0.77412\n",
      "[21]\tvalidation_0-auc:0.78212\tvalidation_1-auc:0.77410\n",
      "[22]\tvalidation_0-auc:0.78230\tvalidation_1-auc:0.77406\n",
      "[23]\tvalidation_0-auc:0.78235\tvalidation_1-auc:0.77400\n",
      "[24]\tvalidation_0-auc:0.78252\tvalidation_1-auc:0.77385\n",
      "[25]\tvalidation_0-auc:0.78260\tvalidation_1-auc:0.77387\n",
      "[26]\tvalidation_0-auc:0.78263\tvalidation_1-auc:0.77391\n",
      "[27]\tvalidation_0-auc:0.78270\tvalidation_1-auc:0.77389\n",
      "[28]\tvalidation_0-auc:0.78272\tvalidation_1-auc:0.77387\n",
      "[29]\tvalidation_0-auc:0.78286\tvalidation_1-auc:0.77382\n",
      "[30]\tvalidation_0-auc:0.78282\tvalidation_1-auc:0.77379\n",
      "[31]\tvalidation_0-auc:0.78283\tvalidation_1-auc:0.77377\n",
      "[32]\tvalidation_0-auc:0.78286\tvalidation_1-auc:0.77381\n",
      "[33]\tvalidation_0-auc:0.78295\tvalidation_1-auc:0.77378\n",
      "[34]\tvalidation_0-auc:0.78303\tvalidation_1-auc:0.77373\n",
      "[35]\tvalidation_0-auc:0.78304\tvalidation_1-auc:0.77366\n",
      "[36]\tvalidation_0-auc:0.78305\tvalidation_1-auc:0.77360\n",
      "[37]\tvalidation_0-auc:0.78310\tvalidation_1-auc:0.77355\n",
      "[38]\tvalidation_0-auc:0.78311\tvalidation_1-auc:0.77353\n",
      "[39]\tvalidation_0-auc:0.78312\tvalidation_1-auc:0.77356\n",
      "[40]\tvalidation_0-auc:0.78317\tvalidation_1-auc:0.77364\n",
      "[41]\tvalidation_0-auc:0.78320\tvalidation_1-auc:0.77361\n",
      "[42]\tvalidation_0-auc:0.78319\tvalidation_1-auc:0.77352\n",
      "[43]\tvalidation_0-auc:0.78319\tvalidation_1-auc:0.77352\n",
      "[44]\tvalidation_0-auc:0.78320\tvalidation_1-auc:0.77351\n",
      "[45]\tvalidation_0-auc:0.78323\tvalidation_1-auc:0.77347\n",
      "[46]\tvalidation_0-auc:0.78324\tvalidation_1-auc:0.77344\n",
      "[47]\tvalidation_0-auc:0.78326\tvalidation_1-auc:0.77339\n",
      "[48]\tvalidation_0-auc:0.78326\tvalidation_1-auc:0.77338\n",
      "[49]\tvalidation_0-auc:0.78326\tvalidation_1-auc:0.77335\n",
      "[0]\tvalidation_0-auc:0.76002\tvalidation_1-auc:0.75675\n",
      "[1]\tvalidation_0-auc:0.77047\tvalidation_1-auc:0.76567\n",
      "[2]\tvalidation_0-auc:0.77524\tvalidation_1-auc:0.77026\n",
      "[3]\tvalidation_0-auc:0.77544\tvalidation_1-auc:0.76995\n",
      "[4]\tvalidation_0-auc:0.77763\tvalidation_1-auc:0.77132\n",
      "[5]\tvalidation_0-auc:0.77997\tvalidation_1-auc:0.77296\n",
      "[6]\tvalidation_0-auc:0.77987\tvalidation_1-auc:0.77283\n",
      "[7]\tvalidation_0-auc:0.77980\tvalidation_1-auc:0.77245\n",
      "[8]\tvalidation_0-auc:0.77983\tvalidation_1-auc:0.77246\n",
      "[9]\tvalidation_0-auc:0.78250\tvalidation_1-auc:0.77415\n",
      "[10]\tvalidation_0-auc:0.78259\tvalidation_1-auc:0.77422\n",
      "[11]\tvalidation_0-auc:0.78249\tvalidation_1-auc:0.77393\n",
      "[12]\tvalidation_0-auc:0.78321\tvalidation_1-auc:0.77382\n",
      "[13]\tvalidation_0-auc:0.78355\tvalidation_1-auc:0.77392\n",
      "[14]\tvalidation_0-auc:0.78369\tvalidation_1-auc:0.77405\n",
      "[15]\tvalidation_0-auc:0.78398\tvalidation_1-auc:0.77392\n",
      "[16]\tvalidation_0-auc:0.78453\tvalidation_1-auc:0.77364\n",
      "[17]\tvalidation_0-auc:0.78462\tvalidation_1-auc:0.77388\n",
      "[18]\tvalidation_0-auc:0.78517\tvalidation_1-auc:0.77417\n",
      "[19]\tvalidation_0-auc:0.78548\tvalidation_1-auc:0.77403\n",
      "[20]\tvalidation_0-auc:0.78572\tvalidation_1-auc:0.77375\n",
      "[21]\tvalidation_0-auc:0.78589\tvalidation_1-auc:0.77368\n",
      "[22]\tvalidation_0-auc:0.78612\tvalidation_1-auc:0.77353\n",
      "[23]\tvalidation_0-auc:0.78625\tvalidation_1-auc:0.77334\n",
      "[24]\tvalidation_0-auc:0.78643\tvalidation_1-auc:0.77308\n",
      "[25]\tvalidation_0-auc:0.78657\tvalidation_1-auc:0.77291\n",
      "[26]\tvalidation_0-auc:0.78661\tvalidation_1-auc:0.77284\n",
      "[27]\tvalidation_0-auc:0.78663\tvalidation_1-auc:0.77284\n",
      "[28]\tvalidation_0-auc:0.78667\tvalidation_1-auc:0.77266\n",
      "[29]\tvalidation_0-auc:0.78672\tvalidation_1-auc:0.77259\n",
      "[30]\tvalidation_0-auc:0.78673\tvalidation_1-auc:0.77254\n",
      "[31]\tvalidation_0-auc:0.78674\tvalidation_1-auc:0.77247\n",
      "[32]\tvalidation_0-auc:0.78676\tvalidation_1-auc:0.77247\n",
      "[33]\tvalidation_0-auc:0.78687\tvalidation_1-auc:0.77237\n",
      "[34]\tvalidation_0-auc:0.78695\tvalidation_1-auc:0.77233\n",
      "[35]\tvalidation_0-auc:0.78697\tvalidation_1-auc:0.77227\n",
      "[36]\tvalidation_0-auc:0.78705\tvalidation_1-auc:0.77225\n",
      "[37]\tvalidation_0-auc:0.78706\tvalidation_1-auc:0.77226\n",
      "[38]\tvalidation_0-auc:0.78710\tvalidation_1-auc:0.77223\n",
      "[39]\tvalidation_0-auc:0.78718\tvalidation_1-auc:0.77211\n",
      "[40]\tvalidation_0-auc:0.78718\tvalidation_1-auc:0.77213\n",
      "[0]\tvalidation_0-auc:0.75995\tvalidation_1-auc:0.75765\n",
      "[1]\tvalidation_0-auc:0.77031\tvalidation_1-auc:0.76540\n",
      "[2]\tvalidation_0-auc:0.77528\tvalidation_1-auc:0.76966\n",
      "[3]\tvalidation_0-auc:0.77478\tvalidation_1-auc:0.76881\n",
      "[4]\tvalidation_0-auc:0.77717\tvalidation_1-auc:0.77062\n",
      "[5]\tvalidation_0-auc:0.78004\tvalidation_1-auc:0.77227\n",
      "[6]\tvalidation_0-auc:0.77982\tvalidation_1-auc:0.77208\n",
      "[7]\tvalidation_0-auc:0.77944\tvalidation_1-auc:0.77159\n",
      "[8]\tvalidation_0-auc:0.77970\tvalidation_1-auc:0.77160\n",
      "[9]\tvalidation_0-auc:0.78244\tvalidation_1-auc:0.77301\n",
      "[10]\tvalidation_0-auc:0.78254\tvalidation_1-auc:0.77323\n",
      "[11]\tvalidation_0-auc:0.78262\tvalidation_1-auc:0.77291\n",
      "[12]\tvalidation_0-auc:0.78308\tvalidation_1-auc:0.77318\n",
      "[13]\tvalidation_0-auc:0.78365\tvalidation_1-auc:0.77333\n",
      "[14]\tvalidation_0-auc:0.78377\tvalidation_1-auc:0.77335\n",
      "[15]\tvalidation_0-auc:0.78378\tvalidation_1-auc:0.77318\n",
      "[16]\tvalidation_0-auc:0.78443\tvalidation_1-auc:0.77308\n",
      "[17]\tvalidation_0-auc:0.78449\tvalidation_1-auc:0.77316\n",
      "[18]\tvalidation_0-auc:0.78486\tvalidation_1-auc:0.77305\n",
      "[19]\tvalidation_0-auc:0.78522\tvalidation_1-auc:0.77304\n",
      "[20]\tvalidation_0-auc:0.78546\tvalidation_1-auc:0.77291\n",
      "[21]\tvalidation_0-auc:0.78556\tvalidation_1-auc:0.77286\n",
      "[22]\tvalidation_0-auc:0.78586\tvalidation_1-auc:0.77275\n",
      "[23]\tvalidation_0-auc:0.78601\tvalidation_1-auc:0.77250\n",
      "[24]\tvalidation_0-auc:0.78613\tvalidation_1-auc:0.77232\n",
      "[25]\tvalidation_0-auc:0.78638\tvalidation_1-auc:0.77224\n",
      "[26]\tvalidation_0-auc:0.78646\tvalidation_1-auc:0.77221\n",
      "[27]\tvalidation_0-auc:0.78651\tvalidation_1-auc:0.77215\n",
      "[28]\tvalidation_0-auc:0.78653\tvalidation_1-auc:0.77211\n",
      "[29]\tvalidation_0-auc:0.78666\tvalidation_1-auc:0.77191\n",
      "[30]\tvalidation_0-auc:0.78667\tvalidation_1-auc:0.77190\n",
      "[31]\tvalidation_0-auc:0.78668\tvalidation_1-auc:0.77185\n",
      "[32]\tvalidation_0-auc:0.78669\tvalidation_1-auc:0.77185\n",
      "[33]\tvalidation_0-auc:0.78675\tvalidation_1-auc:0.77182\n",
      "[34]\tvalidation_0-auc:0.78682\tvalidation_1-auc:0.77179\n",
      "[35]\tvalidation_0-auc:0.78682\tvalidation_1-auc:0.77172\n",
      "[36]\tvalidation_0-auc:0.78684\tvalidation_1-auc:0.77169\n",
      "[37]\tvalidation_0-auc:0.78684\tvalidation_1-auc:0.77168\n",
      "[38]\tvalidation_0-auc:0.78684\tvalidation_1-auc:0.77165\n",
      "[39]\tvalidation_0-auc:0.78686\tvalidation_1-auc:0.77159\n",
      "[40]\tvalidation_0-auc:0.78690\tvalidation_1-auc:0.77142\n",
      "[41]\tvalidation_0-auc:0.78690\tvalidation_1-auc:0.77137\n",
      "[42]\tvalidation_0-auc:0.78690\tvalidation_1-auc:0.77135\n",
      "[43]\tvalidation_0-auc:0.78692\tvalidation_1-auc:0.77132\n",
      "[44]\tvalidation_0-auc:0.78690\tvalidation_1-auc:0.77124\n",
      "[0]\tvalidation_0-auc:0.75983\tvalidation_1-auc:0.75658\n",
      "[1]\tvalidation_0-auc:0.77022\tvalidation_1-auc:0.76503\n",
      "[2]\tvalidation_0-auc:0.77530\tvalidation_1-auc:0.76966\n",
      "[3]\tvalidation_0-auc:0.77560\tvalidation_1-auc:0.76948\n",
      "[4]\tvalidation_0-auc:0.77763\tvalidation_1-auc:0.77049\n",
      "[5]\tvalidation_0-auc:0.78015\tvalidation_1-auc:0.77246\n",
      "[6]\tvalidation_0-auc:0.77986\tvalidation_1-auc:0.77251\n",
      "[7]\tvalidation_0-auc:0.77964\tvalidation_1-auc:0.77216\n",
      "[8]\tvalidation_0-auc:0.77992\tvalidation_1-auc:0.77226\n",
      "[9]\tvalidation_0-auc:0.78232\tvalidation_1-auc:0.77373\n",
      "[10]\tvalidation_0-auc:0.78242\tvalidation_1-auc:0.77379\n",
      "[11]\tvalidation_0-auc:0.78237\tvalidation_1-auc:0.77342\n",
      "[12]\tvalidation_0-auc:0.78295\tvalidation_1-auc:0.77396\n",
      "[13]\tvalidation_0-auc:0.78336\tvalidation_1-auc:0.77374\n",
      "[14]\tvalidation_0-auc:0.78359\tvalidation_1-auc:0.77397\n",
      "[15]\tvalidation_0-auc:0.78378\tvalidation_1-auc:0.77374\n",
      "[16]\tvalidation_0-auc:0.78436\tvalidation_1-auc:0.77360\n",
      "[17]\tvalidation_0-auc:0.78447\tvalidation_1-auc:0.77383\n",
      "[18]\tvalidation_0-auc:0.78491\tvalidation_1-auc:0.77352\n",
      "[19]\tvalidation_0-auc:0.78531\tvalidation_1-auc:0.77331\n",
      "[20]\tvalidation_0-auc:0.78554\tvalidation_1-auc:0.77321\n",
      "[21]\tvalidation_0-auc:0.78562\tvalidation_1-auc:0.77308\n",
      "[22]\tvalidation_0-auc:0.78596\tvalidation_1-auc:0.77288\n",
      "[23]\tvalidation_0-auc:0.78609\tvalidation_1-auc:0.77267\n",
      "[24]\tvalidation_0-auc:0.78622\tvalidation_1-auc:0.77267\n",
      "[25]\tvalidation_0-auc:0.78643\tvalidation_1-auc:0.77249\n",
      "[26]\tvalidation_0-auc:0.78644\tvalidation_1-auc:0.77242\n",
      "[27]\tvalidation_0-auc:0.78651\tvalidation_1-auc:0.77240\n",
      "[28]\tvalidation_0-auc:0.78652\tvalidation_1-auc:0.77232\n",
      "[29]\tvalidation_0-auc:0.78665\tvalidation_1-auc:0.77235\n",
      "[30]\tvalidation_0-auc:0.78664\tvalidation_1-auc:0.77229\n",
      "[31]\tvalidation_0-auc:0.78666\tvalidation_1-auc:0.77221\n",
      "[32]\tvalidation_0-auc:0.78669\tvalidation_1-auc:0.77216\n",
      "[33]\tvalidation_0-auc:0.78683\tvalidation_1-auc:0.77216\n",
      "[34]\tvalidation_0-auc:0.78690\tvalidation_1-auc:0.77198\n",
      "[35]\tvalidation_0-auc:0.78691\tvalidation_1-auc:0.77196\n",
      "[36]\tvalidation_0-auc:0.78692\tvalidation_1-auc:0.77196\n",
      "[37]\tvalidation_0-auc:0.78694\tvalidation_1-auc:0.77197\n",
      "[38]\tvalidation_0-auc:0.78699\tvalidation_1-auc:0.77194\n",
      "[39]\tvalidation_0-auc:0.78699\tvalidation_1-auc:0.77191\n",
      "[40]\tvalidation_0-auc:0.78700\tvalidation_1-auc:0.77189\n",
      "[41]\tvalidation_0-auc:0.78702\tvalidation_1-auc:0.77184\n",
      "[42]\tvalidation_0-auc:0.78702\tvalidation_1-auc:0.77177\n",
      "[43]\tvalidation_0-auc:0.78701\tvalidation_1-auc:0.77175\n",
      "[0]\tvalidation_0-auc:0.76001\tvalidation_1-auc:0.75666\n",
      "[1]\tvalidation_0-auc:0.77046\tvalidation_1-auc:0.76563\n",
      "[2]\tvalidation_0-auc:0.77523\tvalidation_1-auc:0.77018\n",
      "[3]\tvalidation_0-auc:0.77541\tvalidation_1-auc:0.76998\n",
      "[4]\tvalidation_0-auc:0.77756\tvalidation_1-auc:0.77134\n",
      "[5]\tvalidation_0-auc:0.77987\tvalidation_1-auc:0.77291\n",
      "[6]\tvalidation_0-auc:0.77974\tvalidation_1-auc:0.77294\n",
      "[7]\tvalidation_0-auc:0.77965\tvalidation_1-auc:0.77247\n",
      "[8]\tvalidation_0-auc:0.77965\tvalidation_1-auc:0.77233\n",
      "[9]\tvalidation_0-auc:0.78237\tvalidation_1-auc:0.77402\n",
      "[10]\tvalidation_0-auc:0.78241\tvalidation_1-auc:0.77412\n",
      "[11]\tvalidation_0-auc:0.78233\tvalidation_1-auc:0.77383\n",
      "[12]\tvalidation_0-auc:0.78295\tvalidation_1-auc:0.77396\n",
      "[13]\tvalidation_0-auc:0.78329\tvalidation_1-auc:0.77409\n",
      "[14]\tvalidation_0-auc:0.78344\tvalidation_1-auc:0.77431\n",
      "[15]\tvalidation_0-auc:0.78367\tvalidation_1-auc:0.77425\n",
      "[16]\tvalidation_0-auc:0.78418\tvalidation_1-auc:0.77397\n",
      "[17]\tvalidation_0-auc:0.78431\tvalidation_1-auc:0.77422\n",
      "[18]\tvalidation_0-auc:0.78482\tvalidation_1-auc:0.77420\n",
      "[19]\tvalidation_0-auc:0.78515\tvalidation_1-auc:0.77414\n",
      "[20]\tvalidation_0-auc:0.78529\tvalidation_1-auc:0.77401\n",
      "[21]\tvalidation_0-auc:0.78538\tvalidation_1-auc:0.77401\n",
      "[22]\tvalidation_0-auc:0.78563\tvalidation_1-auc:0.77377\n",
      "[23]\tvalidation_0-auc:0.78572\tvalidation_1-auc:0.77366\n",
      "[24]\tvalidation_0-auc:0.78593\tvalidation_1-auc:0.77337\n",
      "[25]\tvalidation_0-auc:0.78610\tvalidation_1-auc:0.77331\n",
      "[26]\tvalidation_0-auc:0.78611\tvalidation_1-auc:0.77328\n",
      "[27]\tvalidation_0-auc:0.78613\tvalidation_1-auc:0.77324\n",
      "[28]\tvalidation_0-auc:0.78616\tvalidation_1-auc:0.77321\n",
      "[29]\tvalidation_0-auc:0.78622\tvalidation_1-auc:0.77308\n",
      "[30]\tvalidation_0-auc:0.78621\tvalidation_1-auc:0.77308\n",
      "[31]\tvalidation_0-auc:0.78625\tvalidation_1-auc:0.77291\n",
      "[32]\tvalidation_0-auc:0.78629\tvalidation_1-auc:0.77290\n",
      "[33]\tvalidation_0-auc:0.78634\tvalidation_1-auc:0.77292\n",
      "[34]\tvalidation_0-auc:0.78639\tvalidation_1-auc:0.77284\n",
      "[35]\tvalidation_0-auc:0.78642\tvalidation_1-auc:0.77284\n",
      "[36]\tvalidation_0-auc:0.78642\tvalidation_1-auc:0.77282\n",
      "[37]\tvalidation_0-auc:0.78651\tvalidation_1-auc:0.77270\n",
      "[38]\tvalidation_0-auc:0.78653\tvalidation_1-auc:0.77269\n",
      "[39]\tvalidation_0-auc:0.78655\tvalidation_1-auc:0.77260\n",
      "[40]\tvalidation_0-auc:0.78656\tvalidation_1-auc:0.77256\n",
      "[41]\tvalidation_0-auc:0.78656\tvalidation_1-auc:0.77256\n",
      "[42]\tvalidation_0-auc:0.78656\tvalidation_1-auc:0.77253\n",
      "[43]\tvalidation_0-auc:0.78656\tvalidation_1-auc:0.77249\n",
      "[44]\tvalidation_0-auc:0.78658\tvalidation_1-auc:0.77250\n",
      "[0]\tvalidation_0-auc:0.75993\tvalidation_1-auc:0.75767\n",
      "[1]\tvalidation_0-auc:0.77024\tvalidation_1-auc:0.76544\n",
      "[2]\tvalidation_0-auc:0.77519\tvalidation_1-auc:0.76972\n",
      "[3]\tvalidation_0-auc:0.77471\tvalidation_1-auc:0.76885\n",
      "[4]\tvalidation_0-auc:0.77720\tvalidation_1-auc:0.77069\n",
      "[5]\tvalidation_0-auc:0.77996\tvalidation_1-auc:0.77243\n",
      "[6]\tvalidation_0-auc:0.77962\tvalidation_1-auc:0.77237\n",
      "[7]\tvalidation_0-auc:0.77926\tvalidation_1-auc:0.77175\n",
      "[8]\tvalidation_0-auc:0.77953\tvalidation_1-auc:0.77178\n",
      "[9]\tvalidation_0-auc:0.78228\tvalidation_1-auc:0.77339\n",
      "[10]\tvalidation_0-auc:0.78235\tvalidation_1-auc:0.77347\n",
      "[11]\tvalidation_0-auc:0.78241\tvalidation_1-auc:0.77310\n",
      "[12]\tvalidation_0-auc:0.78284\tvalidation_1-auc:0.77321\n",
      "[13]\tvalidation_0-auc:0.78344\tvalidation_1-auc:0.77330\n",
      "[14]\tvalidation_0-auc:0.78355\tvalidation_1-auc:0.77334\n",
      "[15]\tvalidation_0-auc:0.78361\tvalidation_1-auc:0.77316\n",
      "[16]\tvalidation_0-auc:0.78419\tvalidation_1-auc:0.77298\n",
      "[17]\tvalidation_0-auc:0.78424\tvalidation_1-auc:0.77306\n",
      "[18]\tvalidation_0-auc:0.78458\tvalidation_1-auc:0.77296\n",
      "[19]\tvalidation_0-auc:0.78491\tvalidation_1-auc:0.77305\n",
      "[20]\tvalidation_0-auc:0.78511\tvalidation_1-auc:0.77305\n",
      "[21]\tvalidation_0-auc:0.78522\tvalidation_1-auc:0.77300\n",
      "[22]\tvalidation_0-auc:0.78557\tvalidation_1-auc:0.77282\n",
      "[23]\tvalidation_0-auc:0.78569\tvalidation_1-auc:0.77275\n",
      "[24]\tvalidation_0-auc:0.78574\tvalidation_1-auc:0.77266\n",
      "[25]\tvalidation_0-auc:0.78600\tvalidation_1-auc:0.77257\n",
      "[26]\tvalidation_0-auc:0.78602\tvalidation_1-auc:0.77259\n",
      "[27]\tvalidation_0-auc:0.78608\tvalidation_1-auc:0.77257\n",
      "[28]\tvalidation_0-auc:0.78614\tvalidation_1-auc:0.77254\n",
      "[29]\tvalidation_0-auc:0.78624\tvalidation_1-auc:0.77246\n",
      "[30]\tvalidation_0-auc:0.78626\tvalidation_1-auc:0.77245\n",
      "[31]\tvalidation_0-auc:0.78627\tvalidation_1-auc:0.77243\n",
      "[32]\tvalidation_0-auc:0.78628\tvalidation_1-auc:0.77244\n",
      "[33]\tvalidation_0-auc:0.78634\tvalidation_1-auc:0.77241\n",
      "[34]\tvalidation_0-auc:0.78638\tvalidation_1-auc:0.77233\n",
      "[35]\tvalidation_0-auc:0.78639\tvalidation_1-auc:0.77227\n",
      "[36]\tvalidation_0-auc:0.78644\tvalidation_1-auc:0.77224\n",
      "[37]\tvalidation_0-auc:0.78645\tvalidation_1-auc:0.77223\n",
      "[38]\tvalidation_0-auc:0.78646\tvalidation_1-auc:0.77220\n",
      "[39]\tvalidation_0-auc:0.78652\tvalidation_1-auc:0.77219\n",
      "[40]\tvalidation_0-auc:0.78652\tvalidation_1-auc:0.77221\n",
      "[0]\tvalidation_0-auc:0.75981\tvalidation_1-auc:0.75642\n",
      "[1]\tvalidation_0-auc:0.77015\tvalidation_1-auc:0.76499\n",
      "[2]\tvalidation_0-auc:0.77529\tvalidation_1-auc:0.76969\n",
      "[3]\tvalidation_0-auc:0.77593\tvalidation_1-auc:0.76978\n",
      "[4]\tvalidation_0-auc:0.77756\tvalidation_1-auc:0.77051\n",
      "[5]\tvalidation_0-auc:0.77999\tvalidation_1-auc:0.77249\n",
      "[6]\tvalidation_0-auc:0.77970\tvalidation_1-auc:0.77255\n",
      "[7]\tvalidation_0-auc:0.77953\tvalidation_1-auc:0.77211\n",
      "[8]\tvalidation_0-auc:0.77983\tvalidation_1-auc:0.77232\n",
      "[9]\tvalidation_0-auc:0.78221\tvalidation_1-auc:0.77376\n",
      "[10]\tvalidation_0-auc:0.78229\tvalidation_1-auc:0.77377\n",
      "[11]\tvalidation_0-auc:0.78217\tvalidation_1-auc:0.77344\n",
      "[12]\tvalidation_0-auc:0.78275\tvalidation_1-auc:0.77385\n",
      "[13]\tvalidation_0-auc:0.78321\tvalidation_1-auc:0.77364\n",
      "[14]\tvalidation_0-auc:0.78342\tvalidation_1-auc:0.77380\n",
      "[15]\tvalidation_0-auc:0.78361\tvalidation_1-auc:0.77358\n",
      "[16]\tvalidation_0-auc:0.78405\tvalidation_1-auc:0.77332\n",
      "[17]\tvalidation_0-auc:0.78419\tvalidation_1-auc:0.77362\n",
      "[18]\tvalidation_0-auc:0.78452\tvalidation_1-auc:0.77340\n",
      "[19]\tvalidation_0-auc:0.78487\tvalidation_1-auc:0.77335\n",
      "[20]\tvalidation_0-auc:0.78508\tvalidation_1-auc:0.77343\n",
      "[21]\tvalidation_0-auc:0.78518\tvalidation_1-auc:0.77336\n",
      "[22]\tvalidation_0-auc:0.78549\tvalidation_1-auc:0.77330\n",
      "[23]\tvalidation_0-auc:0.78566\tvalidation_1-auc:0.77315\n",
      "[24]\tvalidation_0-auc:0.78570\tvalidation_1-auc:0.77320\n",
      "[25]\tvalidation_0-auc:0.78584\tvalidation_1-auc:0.77295\n",
      "[26]\tvalidation_0-auc:0.78587\tvalidation_1-auc:0.77288\n",
      "[27]\tvalidation_0-auc:0.78589\tvalidation_1-auc:0.77285\n",
      "[28]\tvalidation_0-auc:0.78595\tvalidation_1-auc:0.77285\n",
      "[29]\tvalidation_0-auc:0.78608\tvalidation_1-auc:0.77279\n",
      "[30]\tvalidation_0-auc:0.78609\tvalidation_1-auc:0.77274\n",
      "[31]\tvalidation_0-auc:0.78609\tvalidation_1-auc:0.77270\n",
      "[32]\tvalidation_0-auc:0.78611\tvalidation_1-auc:0.77264\n",
      "[33]\tvalidation_0-auc:0.78621\tvalidation_1-auc:0.77266\n",
      "[34]\tvalidation_0-auc:0.78630\tvalidation_1-auc:0.77256\n",
      "[35]\tvalidation_0-auc:0.78632\tvalidation_1-auc:0.77249\n",
      "[36]\tvalidation_0-auc:0.78635\tvalidation_1-auc:0.77250\n",
      "[37]\tvalidation_0-auc:0.78636\tvalidation_1-auc:0.77244\n",
      "[38]\tvalidation_0-auc:0.78644\tvalidation_1-auc:0.77242\n",
      "[39]\tvalidation_0-auc:0.78646\tvalidation_1-auc:0.77242\n",
      "[40]\tvalidation_0-auc:0.78647\tvalidation_1-auc:0.77239\n",
      "[41]\tvalidation_0-auc:0.78647\tvalidation_1-auc:0.77237\n",
      "[0]\tvalidation_0-auc:0.66945\tvalidation_1-auc:0.66553\n",
      "[1]\tvalidation_0-auc:0.76224\tvalidation_1-auc:0.75910\n",
      "[2]\tvalidation_0-auc:0.76310\tvalidation_1-auc:0.76041\n",
      "[3]\tvalidation_0-auc:0.76538\tvalidation_1-auc:0.76158\n",
      "[4]\tvalidation_0-auc:0.76366\tvalidation_1-auc:0.75977\n",
      "[5]\tvalidation_0-auc:0.76995\tvalidation_1-auc:0.76561\n",
      "[6]\tvalidation_0-auc:0.76790\tvalidation_1-auc:0.76341\n",
      "[7]\tvalidation_0-auc:0.76768\tvalidation_1-auc:0.76234\n",
      "[8]\tvalidation_0-auc:0.76903\tvalidation_1-auc:0.76358\n",
      "[9]\tvalidation_0-auc:0.77775\tvalidation_1-auc:0.77182\n",
      "[10]\tvalidation_0-auc:0.77844\tvalidation_1-auc:0.77213\n",
      "[11]\tvalidation_0-auc:0.77743\tvalidation_1-auc:0.77070\n",
      "[12]\tvalidation_0-auc:0.77878\tvalidation_1-auc:0.77218\n",
      "[13]\tvalidation_0-auc:0.77890\tvalidation_1-auc:0.77257\n",
      "[14]\tvalidation_0-auc:0.77902\tvalidation_1-auc:0.77250\n",
      "[15]\tvalidation_0-auc:0.78002\tvalidation_1-auc:0.77276\n",
      "[16]\tvalidation_0-auc:0.78065\tvalidation_1-auc:0.77254\n",
      "[17]\tvalidation_0-auc:0.78042\tvalidation_1-auc:0.77239\n",
      "[18]\tvalidation_0-auc:0.78055\tvalidation_1-auc:0.77238\n",
      "[19]\tvalidation_0-auc:0.78107\tvalidation_1-auc:0.77256\n",
      "[20]\tvalidation_0-auc:0.78113\tvalidation_1-auc:0.77277\n",
      "[21]\tvalidation_0-auc:0.78127\tvalidation_1-auc:0.77276\n",
      "[22]\tvalidation_0-auc:0.78196\tvalidation_1-auc:0.77282\n",
      "[23]\tvalidation_0-auc:0.78242\tvalidation_1-auc:0.77278\n",
      "[24]\tvalidation_0-auc:0.78313\tvalidation_1-auc:0.77258\n",
      "[25]\tvalidation_0-auc:0.78350\tvalidation_1-auc:0.77300\n",
      "[26]\tvalidation_0-auc:0.78399\tvalidation_1-auc:0.77285\n",
      "[27]\tvalidation_0-auc:0.78416\tvalidation_1-auc:0.77295\n",
      "[28]\tvalidation_0-auc:0.78417\tvalidation_1-auc:0.77298\n",
      "[29]\tvalidation_0-auc:0.78431\tvalidation_1-auc:0.77304\n",
      "[30]\tvalidation_0-auc:0.78428\tvalidation_1-auc:0.77302\n",
      "[31]\tvalidation_0-auc:0.78432\tvalidation_1-auc:0.77290\n",
      "[32]\tvalidation_0-auc:0.78432\tvalidation_1-auc:0.77292\n",
      "[33]\tvalidation_0-auc:0.78444\tvalidation_1-auc:0.77294\n",
      "[34]\tvalidation_0-auc:0.78448\tvalidation_1-auc:0.77285\n",
      "[35]\tvalidation_0-auc:0.78450\tvalidation_1-auc:0.77279\n",
      "[36]\tvalidation_0-auc:0.78470\tvalidation_1-auc:0.77282\n",
      "[37]\tvalidation_0-auc:0.78505\tvalidation_1-auc:0.77300\n",
      "[38]\tvalidation_0-auc:0.78509\tvalidation_1-auc:0.77294\n",
      "[39]\tvalidation_0-auc:0.78524\tvalidation_1-auc:0.77301\n",
      "[40]\tvalidation_0-auc:0.78555\tvalidation_1-auc:0.77311\n",
      "[41]\tvalidation_0-auc:0.78560\tvalidation_1-auc:0.77309\n",
      "[42]\tvalidation_0-auc:0.78574\tvalidation_1-auc:0.77305\n",
      "[43]\tvalidation_0-auc:0.78589\tvalidation_1-auc:0.77301\n",
      "[44]\tvalidation_0-auc:0.78595\tvalidation_1-auc:0.77310\n",
      "[45]\tvalidation_0-auc:0.78606\tvalidation_1-auc:0.77309\n",
      "[46]\tvalidation_0-auc:0.78612\tvalidation_1-auc:0.77304\n",
      "[47]\tvalidation_0-auc:0.78615\tvalidation_1-auc:0.77297\n",
      "[48]\tvalidation_0-auc:0.78617\tvalidation_1-auc:0.77292\n",
      "[49]\tvalidation_0-auc:0.78634\tvalidation_1-auc:0.77293\n",
      "[50]\tvalidation_0-auc:0.78635\tvalidation_1-auc:0.77292\n",
      "[51]\tvalidation_0-auc:0.78637\tvalidation_1-auc:0.77293\n",
      "[52]\tvalidation_0-auc:0.78640\tvalidation_1-auc:0.77288\n",
      "[53]\tvalidation_0-auc:0.78641\tvalidation_1-auc:0.77288\n",
      "[54]\tvalidation_0-auc:0.78642\tvalidation_1-auc:0.77284\n",
      "[55]\tvalidation_0-auc:0.78643\tvalidation_1-auc:0.77284\n",
      "[56]\tvalidation_0-auc:0.78643\tvalidation_1-auc:0.77286\n",
      "[57]\tvalidation_0-auc:0.78644\tvalidation_1-auc:0.77282\n",
      "[58]\tvalidation_0-auc:0.78662\tvalidation_1-auc:0.77280\n",
      "[59]\tvalidation_0-auc:0.78665\tvalidation_1-auc:0.77276\n",
      "[60]\tvalidation_0-auc:0.78665\tvalidation_1-auc:0.77280\n",
      "[61]\tvalidation_0-auc:0.78674\tvalidation_1-auc:0.77274\n",
      "[62]\tvalidation_0-auc:0.78674\tvalidation_1-auc:0.77274\n",
      "[63]\tvalidation_0-auc:0.78675\tvalidation_1-auc:0.77273\n",
      "[64]\tvalidation_0-auc:0.78676\tvalidation_1-auc:0.77272\n",
      "[65]\tvalidation_0-auc:0.78677\tvalidation_1-auc:0.77269\n",
      "[66]\tvalidation_0-auc:0.78678\tvalidation_1-auc:0.77267\n",
      "[67]\tvalidation_0-auc:0.78679\tvalidation_1-auc:0.77268\n",
      "[68]\tvalidation_0-auc:0.78679\tvalidation_1-auc:0.77267\n",
      "[69]\tvalidation_0-auc:0.78681\tvalidation_1-auc:0.77268\n"
     ]
    }
   ],
   "source": [
    "from sklearn.model_selection import GridSearchCV\n",
    "\n",
    "# Grid Search\n",
    "xgb = XGBClassifier(n_estimators = 100, random_state = 156)\n",
    "\n",
    "# 하이퍼파라미터 후보\n",
    "params = {'max_depth':[5,7]\n",
    "    , 'min_child_weight':[1,3]\n",
    "    , 'colsample_bytree':[0.5,0.75]}\n",
    "# folds = 3\n",
    "gridcv = GridSearchCV(xgb, param_grid = params, cv = 3)\n",
    "gridcv.fit(X_train, y_train, early_stopping_rounds = 30, eval_metric = \"auc\",\n",
    "          eval_set = [(X_train, y_train), (X_test, y_test)])\n",
    "xgb_roc_score = roc_auc_score(y_test, gridcv.predict_proba(X_test)[:,1],\n",
    "    average='macro')"
   ]
  },
  {
   "cell_type": "code",
   "execution_count": 57,
   "id": "da36f9b9-2882-4751-aa81-60eedd73a75c",
   "metadata": {},
   "outputs": [
    {
     "name": "stdout",
     "output_type": "stream",
     "text": [
      "Optimized hyperparameters {'colsample_bytree': 0.5, 'max_depth': 7, 'min_child_weight': 1}\n",
      "ROC AUC: 0.7731\n"
     ]
    }
   ],
   "source": [
    "print('Optimized hyperparameters', gridcv.best_params_) \n",
    "#{'colsample_bytree': 0.75, 'max_depth': 5, 'min_child_weight': 3}\n",
    "print('ROC AUC: {0:.4f}'.format(xgb_roc_score)) #0.7731"
   ]
  },
  {
   "cell_type": "markdown",
   "id": "f2412530-e899-415d-9338-2b1cd15efc79",
   "metadata": {},
   "source": [
    "## XGBRegressor\n",
    "    - https://github.com/rickiepark/handson-gb/blob/main/Chapter01/Gradient_Boosting_in_Machine_Learning.ipynb 참고"
   ]
  },
  {
   "cell_type": "code",
   "execution_count": 37,
   "id": "06d8dc60-fc99-4d47-b6d8-01160071d906",
   "metadata": {},
   "outputs": [
    {
     "data": {
      "text/plain": [
       "0.21969418038145097"
      ]
     },
     "execution_count": 37,
     "metadata": {},
     "output_type": "execute_result"
    }
   ],
   "source": [
    "from sklearn.metrics import mean_squared_error\n",
    "mean_squared_error(y_test, y_pred, squared=False)"
   ]
  },
  {
   "cell_type": "code",
   "execution_count": 38,
   "id": "dab4487c-2062-4e93-8fe5-2c6b1766ebba",
   "metadata": {},
   "outputs": [
    {
     "name": "stdout",
     "output_type": "stream",
     "text": [
      "RMSE: 0.22\n"
     ]
    }
   ],
   "source": [
    "# XGBRegressor를 임포트합니다.\n",
    "from xgboost import XGBRegressor\n",
    "\n",
    "# XGBRegressor의 객체 xg_reg를 만듭니다.\n",
    "xg_reg = XGBRegressor()\n",
    "\n",
    "# 훈련 데이터로 xg_reg 객체를 훈련합니다.\n",
    "xg_reg.fit(X_train, y_train)\n",
    "\n",
    "# 테스트 세트의 레이블을 예측합니다.\n",
    "y_pred = xg_reg.predict(X_test)\n",
    "\n",
    "# 평균 제곱 오차를 계산합니다.\n",
    "mse = mean_squared_error(y_test, y_pred)\n",
    "\n",
    "# 평균 제곱근 오차를 계산합니다.\n",
    "rmse = np.sqrt(mse)\n",
    "\n",
    "# 평균 제곱근 오차를 출력합니다.\n",
    "print(\"RMSE: %0.2f\" % (rmse))"
   ]
  },
  {
   "cell_type": "markdown",
   "id": "da9b30db-87d8-409a-b375-ae0522e5571c",
   "metadata": {},
   "source": [
    "## XGBoost 교차 검증"
   ]
  },
  {
   "cell_type": "code",
   "execution_count": 42,
   "id": "c6e62f72-4d56-49bd-8834-3ee7cc791c39",
   "metadata": {},
   "outputs": [],
   "source": [
    "# cross_val_score 함수를 임포트합니다.\n",
    "from sklearn.model_selection import cross_val_score"
   ]
  },
  {
   "cell_type": "code",
   "execution_count": 43,
   "id": "3757f6b1-36bf-4199-86d7-ca91ea70a604",
   "metadata": {},
   "outputs": [
    {
     "name": "stdout",
     "output_type": "stream",
     "text": [
      "회귀 rmse: [0.21 0.21 0.22 0.22 0.22 0.21 0.23 0.22 0.21 0.22]\n",
      "RMSE 평균: 0.22\n"
     ]
    }
   ],
   "source": [
    "# XGBRegressor 객체를 만듭니다.\n",
    "model = XGBRegressor(objective=\"reg:squarederror\")\n",
    "\n",
    "# 10-폴드 교차 검증으로 평균 제곱 오차를 구합니다.\n",
    "scores = cross_val_score(model, X, y, scoring='neg_mean_squared_error', cv=10)\n",
    "\n",
    "# 이 점수의 제곱근을 계산합니다.\n",
    "rmse = np.sqrt(-scores)\n",
    "\n",
    "# 평균 제곱근 오차를 출력합니다.\n",
    "print('회귀 rmse:', np.round(rmse, 2))\n",
    "\n",
    "# 평균 점수를 출력합니다.\n",
    "print('RMSE 평균: %0.2f' % (rmse.mean()))"
   ]
  },
  {
   "cell_type": "code",
   "execution_count": null,
   "id": "78e6ec29-ca49-47ea-88ab-8bdf3cc82c71",
   "metadata": {},
   "outputs": [],
   "source": []
  },
  {
   "cell_type": "markdown",
   "id": "17ca4d07",
   "metadata": {},
   "source": [
    "## KNN Classifier"
   ]
  },
  {
   "cell_type": "code",
   "execution_count": 30,
   "id": "da4bfdf0",
   "metadata": {
    "ExecuteTime": {
     "start_time": "2022-12-23T06:47:47.678Z"
    }
   },
   "outputs": [
    {
     "name": "stdout",
     "output_type": "stream",
     "text": [
      "0.6481557691502867\n",
      "0.9305691271622871\n",
      "오차 행렬\n",
      "[[70114  1578]\n",
      " [ 3680   358]]\n",
      "정확도: 0.9306, 정밀도: 0.1849, 재현율: 0.0887, F1: 0.1199, AUC:0.6197\n",
      "분류 임계값 : 0.5\n",
      "오차 행렬\n",
      "[[70114  1578]\n",
      " [ 3680   358]]\n",
      "정확도: 0.9306, 정밀도: 0.1849, 재현율: 0.0887, F1: 0.1199, AUC:0.5333\n",
      "분류 임계값 : 0.55\n",
      "오차 행렬\n",
      "[[70114  1578]\n",
      " [ 3680   358]]\n",
      "정확도: 0.9306, 정밀도: 0.1849, 재현율: 0.0887, F1: 0.1199, AUC:0.5333\n",
      "분류 임계값 : 0.65\n",
      "오차 행렬\n",
      "[[70114  1578]\n",
      " [ 3680   358]]\n",
      "정확도: 0.9306, 정밀도: 0.1849, 재현율: 0.0887, F1: 0.1199, AUC:0.5197\n"
     ]
    }
   ],
   "source": [
    "from sklearn.neighbors import KNeighborsClassifier\n",
    "\n",
    "model = KNeighborsClassifier()\n",
    "model.fit(X_train, y_train)\n",
    "\n",
    "print(model.score(X_train, y_train))\n",
    "print(model.score(X_test, y_test))\n",
    "\n",
    "pred = model.predict(X_test)\n",
    "pred_proba = model.predict_proba(X_test)[:,1]\n",
    "\n",
    "get_clf_eval(y_test, pred, pred_proba)\n",
    "\n",
    "# 임계값 조정\n",
    "thresholds = [0.5, 0.55, 0.65]\n",
    "get_eval_by_threshold(y_test, pred, pred_proba, thresholds)"
   ]
  },
  {
   "cell_type": "code",
   "execution_count": 31,
   "id": "d5517ecf",
   "metadata": {},
   "outputs": [
    {
     "data": {
      "image/png": "[encoded data removed]",
      "text/plain": [
       "<Figure size 800x600 with 1 Axes>"
      ]
     },
     "metadata": {},
     "output_type": "display_data"
    }
   ],
   "source": [
    "# 임계값 그래프\n",
    "precision_recall_curve_plot(y_test, pred_proba)"
   ]
  },
  {
   "cell_type": "code",
   "execution_count": 32,
   "id": "73690ad3-4a42-494c-8a22-7fd6eb94337c",
   "metadata": {},
   "outputs": [
    {
     "name": "stdout",
     "output_type": "stream",
     "text": [
      "0.6481557691502867\n",
      "0.9305691271622871\n",
      "오차 행렬\n",
      "[[70114  1578]\n",
      " [ 3680   358]]\n",
      "정확도: 0.9306, 정밀도: 0.1849, 재현율: 0.0887, F1: 0.1199, AUC:0.6197\n",
      "분류 임계값 : 0.4\n",
      "오차 행렬\n",
      "[[70114  1578]\n",
      " [ 3680   358]]\n",
      "정확도: 0.9306, 정밀도: 0.1849, 재현율: 0.0887, F1: 0.1199, AUC:0.5333\n",
      "분류 임계값 : 0.45\n",
      "오차 행렬\n",
      "[[70114  1578]\n",
      " [ 3680   358]]\n",
      "정확도: 0.9306, 정밀도: 0.1849, 재현율: 0.0887, F1: 0.1199, AUC:0.5333\n",
      "분류 임계값 : 0.5\n",
      "오차 행렬\n",
      "[[70114  1578]\n",
      " [ 3680   358]]\n",
      "정확도: 0.9306, 정밀도: 0.1849, 재현율: 0.0887, F1: 0.1199, AUC:0.5333\n"
     ]
    }
   ],
   "source": [
    "from sklearn.neighbors import KNeighborsClassifier\n",
    "\n",
    "model = KNeighborsClassifier()\n",
    "model.fit(X_train, y_train)\n",
    "\n",
    "print(model.score(X_train, y_train))\n",
    "print(model.score(X_test, y_test))\n",
    "\n",
    "pred = model.predict(X_test)\n",
    "pred_proba = model.predict_proba(X_test)[:,1]\n",
    "\n",
    "get_clf_eval(y_test, pred, pred_proba)\n",
    "\n",
    "# 임계값 조정\n",
    "thresholds = [0.40, 0.45, 0.5]\n",
    "get_eval_by_threshold(y_test, pred, pred_proba, thresholds)"
   ]
  },
  {
   "cell_type": "code",
   "execution_count": 33,
   "id": "fbbdd6df-2107-4d0e-b0b8-7ce2c27feb3e",
   "metadata": {},
   "outputs": [
    {
     "data": {
      "image/png": "[encoded data removed]",
      "text/plain": [
       "<Figure size 800x600 with 1 Axes>"
      ]
     },
     "metadata": {},
     "output_type": "display_data"
    }
   ],
   "source": [
    "# 임계값 그래프\n",
    "precision_recall_curve_plot(y_test, pred_proba)"
   ]
  },
  {
   "cell_type": "code",
   "execution_count": 103,
   "id": "94d5bad0-195c-4289-a531-bfdd5c1139e5",
   "metadata": {},
   "outputs": [],
   "source": [
    "from sklearn.model_selection import train_test_split"
   ]
  },
  {
   "cell_type": "code",
   "execution_count": 104,
   "id": "2b4cce72-940c-4256-915f-9de74c540487",
   "metadata": {},
   "outputs": [
    {
     "data": {
      "text/plain": [
       "0.0    286672\n",
       "1.0    286672\n",
       "Name: HEARTDISEASE, dtype: int64"
      ]
     },
     "execution_count": 104,
     "metadata": {},
     "output_type": "execute_result"
    }
   ],
   "source": [
    "from sklearn.model_selection import train_test_split\n",
    "from imblearn.over_sampling import SMOTE\n",
    "from sklearn.preprocessing import StandardScaler, MinMaxScaler\n",
    "\n",
    "X_train, X_test, y_train, y_test = train_test_split(X, y, test_size=.2)\n",
    "#train_input, test_input, train_target, test_target\n",
    "\n",
    "# scaler\n",
    "#scaler = StandardScaler()\n",
    "# scaler = MinMaxScaler()\n",
    "#scaler.fit(X_train)\n",
    "#X_train = scaler.transform(X_train)\n",
    "#X_test = scaler.transform(X_test)\n",
    "\n",
    "# smote\n",
    "smote = SMOTE()\n",
    "X_train, y_train = smote.fit_resample(X_train, y_train)\n",
    "y_train.value_counts()"
   ]
  },
  {
   "cell_type": "code",
   "execution_count": 105,
   "id": "02927238-20e4-4623-af87-c4deeeef7a17",
   "metadata": {},
   "outputs": [
    {
     "name": "stdout",
     "output_type": "stream",
     "text": [
      "(573344, 9) (75730, 9)\n"
     ]
    }
   ],
   "source": [
    "print(X_train.shape, X_test.shape)"
   ]
  },
  {
   "cell_type": "code",
   "execution_count": 106,
   "id": "91885b1e-2a3f-4a09-91c9-5568fb3cfca9",
   "metadata": {},
   "outputs": [
    {
     "data": {
      "text/plain": [
       "4"
      ]
     },
     "execution_count": 106,
     "metadata": {},
     "output_type": "execute_result"
    }
   ],
   "source": [
    "# shape 속성 - 튜플구조를 반환\n",
    "test_array = np.array([1,2,3,4])\n",
    "test_array.shape[0]"
   ]
  },
  {
   "cell_type": "code",
   "execution_count": 107,
   "id": "5392a7f3-cf34-4dbd-9b48-3c982cdf8886",
   "metadata": {},
   "outputs": [
    {
     "name": "stdout",
     "output_type": "stream",
     "text": [
      "(2, 2)\n"
     ]
    }
   ],
   "source": [
    "# reshape() :  데이터의 차원을 변경하는 함수\n",
    "test_array = test_array.reshape(2,2)\n",
    "print(test_array.shape)"
   ]
  },
  {
   "cell_type": "code",
   "execution_count": 108,
   "id": "f33f8373-b9e3-4436-9cff-079a7872953c",
   "metadata": {},
   "outputs": [],
   "source": [
    "X_train = X_train.values.reshape(-1,1)\n",
    "X_test = X_test.values.reshape(-1,1)"
   ]
  },
  {
   "cell_type": "code",
   "execution_count": 109,
   "id": "9fc33fde-f27a-4408-83b2-efc059cd7fe0",
   "metadata": {},
   "outputs": [
    {
     "name": "stdout",
     "output_type": "stream",
     "text": [
      "(5160096, 1) (681570, 1)\n"
     ]
    }
   ],
   "source": [
    "print(X_train.shape, X_test.shape)"
   ]
  },
  {
   "cell_type": "code",
   "execution_count": 113,
   "id": "58088c55-8da8-41d9-802d-45e04ed7e8ff",
   "metadata": {},
   "outputs": [],
   "source": [
    "from sklearn.neighbors import KNeighborsRegressor"
   ]
  },
  {
   "cell_type": "code",
   "execution_count": 115,
   "id": "11808481-a7c2-4e96-8271-a94fb5382957",
   "metadata": {},
   "outputs": [
    {
     "ename": "ValueError",
     "evalue": "Found input variables with inconsistent numbers of samples: [5160096, 573344]",
     "output_type": "error",
     "traceback": [
      "\u001b[1;31m---------------------------------------------------------------------------\u001b[0m",
      "\u001b[1;31mValueError\u001b[0m                                Traceback (most recent call last)",
      "Cell \u001b[1;32mIn [115], line 3\u001b[0m\n\u001b[0;32m      1\u001b[0m knr \u001b[38;5;241m=\u001b[39m KNeighborsRegressor()\n\u001b[0;32m      2\u001b[0m \u001b[38;5;66;03m# k-최근접 이웃 회귀 모델을 훈련합니다\u001b[39;00m\n\u001b[1;32m----> 3\u001b[0m \u001b[43mknr\u001b[49m\u001b[38;5;241;43m.\u001b[39;49m\u001b[43mfit\u001b[49m\u001b[43m(\u001b[49m\u001b[43mX_train\u001b[49m\u001b[43m,\u001b[49m\u001b[43m \u001b[49m\u001b[43my_train\u001b[49m\u001b[43m)\u001b[49m\n",
      "File \u001b[1;32m~\\Anaconda3\\envs\\data_venv\\lib\\site-packages\\sklearn\\neighbors\\_regression.py:210\u001b[0m, in \u001b[0;36mKNeighborsRegressor.fit\u001b[1;34m(self, X, y)\u001b[0m\n\u001b[0;32m    191\u001b[0m \u001b[38;5;124;03m\"\"\"Fit the k-nearest neighbors regressor from the training dataset.\u001b[39;00m\n\u001b[0;32m    192\u001b[0m \n\u001b[0;32m    193\u001b[0m \u001b[38;5;124;03mParameters\u001b[39;00m\n\u001b[1;32m   (...)\u001b[0m\n\u001b[0;32m    206\u001b[0m \u001b[38;5;124;03m    The fitted k-nearest neighbors regressor.\u001b[39;00m\n\u001b[0;32m    207\u001b[0m \u001b[38;5;124;03m\"\"\"\u001b[39;00m\n\u001b[0;32m    208\u001b[0m \u001b[38;5;28mself\u001b[39m\u001b[38;5;241m.\u001b[39mweights \u001b[38;5;241m=\u001b[39m _check_weights(\u001b[38;5;28mself\u001b[39m\u001b[38;5;241m.\u001b[39mweights)\n\u001b[1;32m--> 210\u001b[0m \u001b[38;5;28;01mreturn\u001b[39;00m \u001b[38;5;28;43mself\u001b[39;49m\u001b[38;5;241;43m.\u001b[39;49m\u001b[43m_fit\u001b[49m\u001b[43m(\u001b[49m\u001b[43mX\u001b[49m\u001b[43m,\u001b[49m\u001b[43m \u001b[49m\u001b[43my\u001b[49m\u001b[43m)\u001b[49m\n",
      "File \u001b[1;32m~\\Anaconda3\\envs\\data_venv\\lib\\site-packages\\sklearn\\neighbors\\_base.py:407\u001b[0m, in \u001b[0;36mNeighborsBase._fit\u001b[1;34m(self, X, y)\u001b[0m\n\u001b[0;32m    405\u001b[0m \u001b[38;5;28;01mif\u001b[39;00m \u001b[38;5;28mself\u001b[39m\u001b[38;5;241m.\u001b[39m_get_tags()[\u001b[38;5;124m\"\u001b[39m\u001b[38;5;124mrequires_y\u001b[39m\u001b[38;5;124m\"\u001b[39m]:\n\u001b[0;32m    406\u001b[0m     \u001b[38;5;28;01mif\u001b[39;00m \u001b[38;5;129;01mnot\u001b[39;00m \u001b[38;5;28misinstance\u001b[39m(X, (KDTree, BallTree, NeighborsBase)):\n\u001b[1;32m--> 407\u001b[0m         X, y \u001b[38;5;241m=\u001b[39m \u001b[38;5;28;43mself\u001b[39;49m\u001b[38;5;241;43m.\u001b[39;49m\u001b[43m_validate_data\u001b[49m\u001b[43m(\u001b[49m\n\u001b[0;32m    408\u001b[0m \u001b[43m            \u001b[49m\u001b[43mX\u001b[49m\u001b[43m,\u001b[49m\u001b[43m \u001b[49m\u001b[43my\u001b[49m\u001b[43m,\u001b[49m\u001b[43m \u001b[49m\u001b[43maccept_sparse\u001b[49m\u001b[38;5;241;43m=\u001b[39;49m\u001b[38;5;124;43m\"\u001b[39;49m\u001b[38;5;124;43mcsr\u001b[39;49m\u001b[38;5;124;43m\"\u001b[39;49m\u001b[43m,\u001b[49m\u001b[43m \u001b[49m\u001b[43mmulti_output\u001b[49m\u001b[38;5;241;43m=\u001b[39;49m\u001b[38;5;28;43;01mTrue\u001b[39;49;00m\u001b[43m,\u001b[49m\u001b[43m \u001b[49m\u001b[43morder\u001b[49m\u001b[38;5;241;43m=\u001b[39;49m\u001b[38;5;124;43m\"\u001b[39;49m\u001b[38;5;124;43mC\u001b[39;49m\u001b[38;5;124;43m\"\u001b[39;49m\n\u001b[0;32m    409\u001b[0m \u001b[43m        \u001b[49m\u001b[43m)\u001b[49m\n\u001b[0;32m    411\u001b[0m     \u001b[38;5;28;01mif\u001b[39;00m is_classifier(\u001b[38;5;28mself\u001b[39m):\n\u001b[0;32m    412\u001b[0m         \u001b[38;5;66;03m# Classification targets require a specific format\u001b[39;00m\n\u001b[0;32m    413\u001b[0m         \u001b[38;5;28;01mif\u001b[39;00m y\u001b[38;5;241m.\u001b[39mndim \u001b[38;5;241m==\u001b[39m \u001b[38;5;241m1\u001b[39m \u001b[38;5;129;01mor\u001b[39;00m y\u001b[38;5;241m.\u001b[39mndim \u001b[38;5;241m==\u001b[39m \u001b[38;5;241m2\u001b[39m \u001b[38;5;129;01mand\u001b[39;00m y\u001b[38;5;241m.\u001b[39mshape[\u001b[38;5;241m1\u001b[39m] \u001b[38;5;241m==\u001b[39m \u001b[38;5;241m1\u001b[39m:\n",
      "File \u001b[1;32m~\\Anaconda3\\envs\\data_venv\\lib\\site-packages\\sklearn\\base.py:596\u001b[0m, in \u001b[0;36mBaseEstimator._validate_data\u001b[1;34m(self, X, y, reset, validate_separately, **check_params)\u001b[0m\n\u001b[0;32m    594\u001b[0m         y \u001b[38;5;241m=\u001b[39m check_array(y, input_name\u001b[38;5;241m=\u001b[39m\u001b[38;5;124m\"\u001b[39m\u001b[38;5;124my\u001b[39m\u001b[38;5;124m\"\u001b[39m, \u001b[38;5;241m*\u001b[39m\u001b[38;5;241m*\u001b[39mcheck_y_params)\n\u001b[0;32m    595\u001b[0m     \u001b[38;5;28;01melse\u001b[39;00m:\n\u001b[1;32m--> 596\u001b[0m         X, y \u001b[38;5;241m=\u001b[39m check_X_y(X, y, \u001b[38;5;241m*\u001b[39m\u001b[38;5;241m*\u001b[39mcheck_params)\n\u001b[0;32m    597\u001b[0m     out \u001b[38;5;241m=\u001b[39m X, y\n\u001b[0;32m    599\u001b[0m \u001b[38;5;28;01mif\u001b[39;00m \u001b[38;5;129;01mnot\u001b[39;00m no_val_X \u001b[38;5;129;01mand\u001b[39;00m check_params\u001b[38;5;241m.\u001b[39mget(\u001b[38;5;124m\"\u001b[39m\u001b[38;5;124mensure_2d\u001b[39m\u001b[38;5;124m\"\u001b[39m, \u001b[38;5;28;01mTrue\u001b[39;00m):\n",
      "File \u001b[1;32m~\\Anaconda3\\envs\\data_venv\\lib\\site-packages\\sklearn\\utils\\validation.py:1092\u001b[0m, in \u001b[0;36mcheck_X_y\u001b[1;34m(X, y, accept_sparse, accept_large_sparse, dtype, order, copy, force_all_finite, ensure_2d, allow_nd, multi_output, ensure_min_samples, ensure_min_features, y_numeric, estimator)\u001b[0m\n\u001b[0;32m   1074\u001b[0m X \u001b[38;5;241m=\u001b[39m check_array(\n\u001b[0;32m   1075\u001b[0m     X,\n\u001b[0;32m   1076\u001b[0m     accept_sparse\u001b[38;5;241m=\u001b[39maccept_sparse,\n\u001b[1;32m   (...)\u001b[0m\n\u001b[0;32m   1087\u001b[0m     input_name\u001b[38;5;241m=\u001b[39m\u001b[38;5;124m\"\u001b[39m\u001b[38;5;124mX\u001b[39m\u001b[38;5;124m\"\u001b[39m,\n\u001b[0;32m   1088\u001b[0m )\n\u001b[0;32m   1090\u001b[0m y \u001b[38;5;241m=\u001b[39m _check_y(y, multi_output\u001b[38;5;241m=\u001b[39mmulti_output, y_numeric\u001b[38;5;241m=\u001b[39my_numeric, estimator\u001b[38;5;241m=\u001b[39mestimator)\n\u001b[1;32m-> 1092\u001b[0m \u001b[43mcheck_consistent_length\u001b[49m\u001b[43m(\u001b[49m\u001b[43mX\u001b[49m\u001b[43m,\u001b[49m\u001b[43m \u001b[49m\u001b[43my\u001b[49m\u001b[43m)\u001b[49m\n\u001b[0;32m   1094\u001b[0m \u001b[38;5;28;01mreturn\u001b[39;00m X, y\n",
      "File \u001b[1;32m~\\Anaconda3\\envs\\data_venv\\lib\\site-packages\\sklearn\\utils\\validation.py:387\u001b[0m, in \u001b[0;36mcheck_consistent_length\u001b[1;34m(*arrays)\u001b[0m\n\u001b[0;32m    385\u001b[0m uniques \u001b[38;5;241m=\u001b[39m np\u001b[38;5;241m.\u001b[39munique(lengths)\n\u001b[0;32m    386\u001b[0m \u001b[38;5;28;01mif\u001b[39;00m \u001b[38;5;28mlen\u001b[39m(uniques) \u001b[38;5;241m>\u001b[39m \u001b[38;5;241m1\u001b[39m:\n\u001b[1;32m--> 387\u001b[0m     \u001b[38;5;28;01mraise\u001b[39;00m \u001b[38;5;167;01mValueError\u001b[39;00m(\n\u001b[0;32m    388\u001b[0m         \u001b[38;5;124m\"\u001b[39m\u001b[38;5;124mFound input variables with inconsistent numbers of samples: \u001b[39m\u001b[38;5;132;01m%r\u001b[39;00m\u001b[38;5;124m\"\u001b[39m\n\u001b[0;32m    389\u001b[0m         \u001b[38;5;241m%\u001b[39m [\u001b[38;5;28mint\u001b[39m(l) \u001b[38;5;28;01mfor\u001b[39;00m l \u001b[38;5;129;01min\u001b[39;00m lengths]\n\u001b[0;32m    390\u001b[0m     )\n",
      "\u001b[1;31mValueError\u001b[0m: Found input variables with inconsistent numbers of samples: [5160096, 573344]"
     ]
    }
   ],
   "source": [
    "knr = KNeighborsRegressor()\n",
    "# k-최근접 이웃 회귀 모델을 훈련합니다\n",
    "knr.fit(X_train, y_train)"
   ]
  },
  {
   "cell_type": "code",
   "execution_count": 112,
   "id": "e3ac2b28-84ce-4dd7-97b2-83fe9eaf5438",
   "metadata": {},
   "outputs": [
    {
     "ename": "NotFittedError",
     "evalue": "This KNeighborsRegressor instance is not fitted yet. Call 'fit' with appropriate arguments before using this estimator.",
     "output_type": "error",
     "traceback": [
      "\u001b[1;31m---------------------------------------------------------------------------\u001b[0m",
      "\u001b[1;31mNotFittedError\u001b[0m                            Traceback (most recent call last)",
      "Cell \u001b[1;32mIn [112], line 1\u001b[0m\n\u001b[1;32m----> 1\u001b[0m \u001b[43mknr\u001b[49m\u001b[38;5;241;43m.\u001b[39;49m\u001b[43mscore\u001b[49m\u001b[43m(\u001b[49m\u001b[43mX_test\u001b[49m\u001b[43m,\u001b[49m\u001b[43m \u001b[49m\u001b[43my_test\u001b[49m\u001b[43m)\u001b[49m\n",
      "File \u001b[1;32m~\\Anaconda3\\envs\\data_venv\\lib\\site-packages\\sklearn\\base.py:720\u001b[0m, in \u001b[0;36mRegressorMixin.score\u001b[1;34m(self, X, y, sample_weight)\u001b[0m\n\u001b[0;32m    678\u001b[0m \u001b[38;5;124;03m\"\"\"Return the coefficient of determination of the prediction.\u001b[39;00m\n\u001b[0;32m    679\u001b[0m \n\u001b[0;32m    680\u001b[0m \u001b[38;5;124;03mThe coefficient of determination :math:`R^2` is defined as\u001b[39;00m\n\u001b[1;32m   (...)\u001b[0m\n\u001b[0;32m    715\u001b[0m \u001b[38;5;124;03m:class:`~sklearn.multioutput.MultiOutputRegressor`).\u001b[39;00m\n\u001b[0;32m    716\u001b[0m \u001b[38;5;124;03m\"\"\"\u001b[39;00m\n\u001b[0;32m    718\u001b[0m \u001b[38;5;28;01mfrom\u001b[39;00m \u001b[38;5;21;01m.\u001b[39;00m\u001b[38;5;21;01mmetrics\u001b[39;00m \u001b[38;5;28;01mimport\u001b[39;00m r2_score\n\u001b[1;32m--> 720\u001b[0m y_pred \u001b[38;5;241m=\u001b[39m \u001b[38;5;28;43mself\u001b[39;49m\u001b[38;5;241;43m.\u001b[39;49m\u001b[43mpredict\u001b[49m\u001b[43m(\u001b[49m\u001b[43mX\u001b[49m\u001b[43m)\u001b[49m\n\u001b[0;32m    721\u001b[0m \u001b[38;5;28;01mreturn\u001b[39;00m r2_score(y, y_pred, sample_weight\u001b[38;5;241m=\u001b[39msample_weight)\n",
      "File \u001b[1;32m~\\Anaconda3\\envs\\data_venv\\lib\\site-packages\\sklearn\\neighbors\\_regression.py:229\u001b[0m, in \u001b[0;36mKNeighborsRegressor.predict\u001b[1;34m(self, X)\u001b[0m\n\u001b[0;32m    213\u001b[0m \u001b[38;5;124;03m\"\"\"Predict the target for the provided data.\u001b[39;00m\n\u001b[0;32m    214\u001b[0m \n\u001b[0;32m    215\u001b[0m \u001b[38;5;124;03mParameters\u001b[39;00m\n\u001b[1;32m   (...)\u001b[0m\n\u001b[0;32m    224\u001b[0m \u001b[38;5;124;03m    Target values.\u001b[39;00m\n\u001b[0;32m    225\u001b[0m \u001b[38;5;124;03m\"\"\"\u001b[39;00m\n\u001b[0;32m    226\u001b[0m \u001b[38;5;28;01mif\u001b[39;00m \u001b[38;5;28mself\u001b[39m\u001b[38;5;241m.\u001b[39mweights \u001b[38;5;241m==\u001b[39m \u001b[38;5;124m\"\u001b[39m\u001b[38;5;124muniform\u001b[39m\u001b[38;5;124m\"\u001b[39m:\n\u001b[0;32m    227\u001b[0m     \u001b[38;5;66;03m# In that case, we do not need the distances to perform\u001b[39;00m\n\u001b[0;32m    228\u001b[0m     \u001b[38;5;66;03m# the weighting so we do not compute them.\u001b[39;00m\n\u001b[1;32m--> 229\u001b[0m     neigh_ind \u001b[38;5;241m=\u001b[39m \u001b[38;5;28;43mself\u001b[39;49m\u001b[38;5;241;43m.\u001b[39;49m\u001b[43mkneighbors\u001b[49m\u001b[43m(\u001b[49m\u001b[43mX\u001b[49m\u001b[43m,\u001b[49m\u001b[43m \u001b[49m\u001b[43mreturn_distance\u001b[49m\u001b[38;5;241;43m=\u001b[39;49m\u001b[38;5;28;43;01mFalse\u001b[39;49;00m\u001b[43m)\u001b[49m\n\u001b[0;32m    230\u001b[0m     neigh_dist \u001b[38;5;241m=\u001b[39m \u001b[38;5;28;01mNone\u001b[39;00m\n\u001b[0;32m    231\u001b[0m \u001b[38;5;28;01melse\u001b[39;00m:\n",
      "File \u001b[1;32m~\\Anaconda3\\envs\\data_venv\\lib\\site-packages\\sklearn\\neighbors\\_base.py:723\u001b[0m, in \u001b[0;36mKNeighborsMixin.kneighbors\u001b[1;34m(self, X, n_neighbors, return_distance)\u001b[0m\n\u001b[0;32m    670\u001b[0m \u001b[38;5;28;01mdef\u001b[39;00m \u001b[38;5;21mkneighbors\u001b[39m(\u001b[38;5;28mself\u001b[39m, X\u001b[38;5;241m=\u001b[39m\u001b[38;5;28;01mNone\u001b[39;00m, n_neighbors\u001b[38;5;241m=\u001b[39m\u001b[38;5;28;01mNone\u001b[39;00m, return_distance\u001b[38;5;241m=\u001b[39m\u001b[38;5;28;01mTrue\u001b[39;00m):\n\u001b[0;32m    671\u001b[0m     \u001b[38;5;124;03m\"\"\"Find the K-neighbors of a point.\u001b[39;00m\n\u001b[0;32m    672\u001b[0m \n\u001b[0;32m    673\u001b[0m \u001b[38;5;124;03m    Returns indices of and distances to the neighbors of each point.\u001b[39;00m\n\u001b[1;32m   (...)\u001b[0m\n\u001b[0;32m    721\u001b[0m \u001b[38;5;124;03m           [2]]...)\u001b[39;00m\n\u001b[0;32m    722\u001b[0m \u001b[38;5;124;03m    \"\"\"\u001b[39;00m\n\u001b[1;32m--> 723\u001b[0m     \u001b[43mcheck_is_fitted\u001b[49m\u001b[43m(\u001b[49m\u001b[38;5;28;43mself\u001b[39;49m\u001b[43m)\u001b[49m\n\u001b[0;32m    725\u001b[0m     \u001b[38;5;28;01mif\u001b[39;00m n_neighbors \u001b[38;5;129;01mis\u001b[39;00m \u001b[38;5;28;01mNone\u001b[39;00m:\n\u001b[0;32m    726\u001b[0m         n_neighbors \u001b[38;5;241m=\u001b[39m \u001b[38;5;28mself\u001b[39m\u001b[38;5;241m.\u001b[39mn_neighbors\n",
      "File \u001b[1;32m~\\Anaconda3\\envs\\data_venv\\lib\\site-packages\\sklearn\\utils\\validation.py:1345\u001b[0m, in \u001b[0;36mcheck_is_fitted\u001b[1;34m(estimator, attributes, msg, all_or_any)\u001b[0m\n\u001b[0;32m   1340\u001b[0m     fitted \u001b[38;5;241m=\u001b[39m [\n\u001b[0;32m   1341\u001b[0m         v \u001b[38;5;28;01mfor\u001b[39;00m v \u001b[38;5;129;01min\u001b[39;00m \u001b[38;5;28mvars\u001b[39m(estimator) \u001b[38;5;28;01mif\u001b[39;00m v\u001b[38;5;241m.\u001b[39mendswith(\u001b[38;5;124m\"\u001b[39m\u001b[38;5;124m_\u001b[39m\u001b[38;5;124m\"\u001b[39m) \u001b[38;5;129;01mand\u001b[39;00m \u001b[38;5;129;01mnot\u001b[39;00m v\u001b[38;5;241m.\u001b[39mstartswith(\u001b[38;5;124m\"\u001b[39m\u001b[38;5;124m__\u001b[39m\u001b[38;5;124m\"\u001b[39m)\n\u001b[0;32m   1342\u001b[0m     ]\n\u001b[0;32m   1344\u001b[0m \u001b[38;5;28;01mif\u001b[39;00m \u001b[38;5;129;01mnot\u001b[39;00m fitted:\n\u001b[1;32m-> 1345\u001b[0m     \u001b[38;5;28;01mraise\u001b[39;00m NotFittedError(msg \u001b[38;5;241m%\u001b[39m {\u001b[38;5;124m\"\u001b[39m\u001b[38;5;124mname\u001b[39m\u001b[38;5;124m\"\u001b[39m: \u001b[38;5;28mtype\u001b[39m(estimator)\u001b[38;5;241m.\u001b[39m\u001b[38;5;18m__name__\u001b[39m})\n",
      "\u001b[1;31mNotFittedError\u001b[0m: This KNeighborsRegressor instance is not fitted yet. Call 'fit' with appropriate arguments before using this estimator."
     ]
    }
   ],
   "source": [
    "knr.score(X_test, y_test)"
   ]
  },
  {
   "cell_type": "code",
   "execution_count": 85,
   "id": "e8a8030b-cbf9-414e-82b0-70cab7fc9409",
   "metadata": {},
   "outputs": [],
   "source": [
    "from sklearn.metrics import mean_absolute_error"
   ]
  },
  {
   "cell_type": "code",
   "execution_count": 87,
   "id": "19406f0e-0182-4799-9d1a-59585a9fcf8d",
   "metadata": {},
   "outputs": [
    {
     "ename": "NotFittedError",
     "evalue": "This KNeighborsRegressor instance is not fitted yet. Call 'fit' with appropriate arguments before using this estimator.",
     "output_type": "error",
     "traceback": [
      "\u001b[1;31m---------------------------------------------------------------------------\u001b[0m",
      "\u001b[1;31mNotFittedError\u001b[0m                            Traceback (most recent call last)",
      "Cell \u001b[1;32mIn [87], line 2\u001b[0m\n\u001b[0;32m      1\u001b[0m \u001b[38;5;66;03m# 테스트 세트에 대한 예측을 만듭니다\u001b[39;00m\n\u001b[1;32m----> 2\u001b[0m test_pred \u001b[38;5;241m=\u001b[39m \u001b[43mknr\u001b[49m\u001b[38;5;241;43m.\u001b[39;49m\u001b[43mpredict\u001b[49m\u001b[43m(\u001b[49m\u001b[43mX_test\u001b[49m\u001b[43m)\u001b[49m\n\u001b[0;32m      4\u001b[0m \u001b[38;5;66;03m# 테스트 세트에 대한 평균 절댓값 오차를 계산합니다\u001b[39;00m\n\u001b[0;32m      5\u001b[0m mae \u001b[38;5;241m=\u001b[39m mean_absolute_error(y_test, test_pred)\n",
      "File \u001b[1;32m~\\Anaconda3\\envs\\data_venv\\lib\\site-packages\\sklearn\\neighbors\\_regression.py:229\u001b[0m, in \u001b[0;36mKNeighborsRegressor.predict\u001b[1;34m(self, X)\u001b[0m\n\u001b[0;32m    213\u001b[0m \u001b[38;5;124;03m\"\"\"Predict the target for the provided data.\u001b[39;00m\n\u001b[0;32m    214\u001b[0m \n\u001b[0;32m    215\u001b[0m \u001b[38;5;124;03mParameters\u001b[39;00m\n\u001b[1;32m   (...)\u001b[0m\n\u001b[0;32m    224\u001b[0m \u001b[38;5;124;03m    Target values.\u001b[39;00m\n\u001b[0;32m    225\u001b[0m \u001b[38;5;124;03m\"\"\"\u001b[39;00m\n\u001b[0;32m    226\u001b[0m \u001b[38;5;28;01mif\u001b[39;00m \u001b[38;5;28mself\u001b[39m\u001b[38;5;241m.\u001b[39mweights \u001b[38;5;241m==\u001b[39m \u001b[38;5;124m\"\u001b[39m\u001b[38;5;124muniform\u001b[39m\u001b[38;5;124m\"\u001b[39m:\n\u001b[0;32m    227\u001b[0m     \u001b[38;5;66;03m# In that case, we do not need the distances to perform\u001b[39;00m\n\u001b[0;32m    228\u001b[0m     \u001b[38;5;66;03m# the weighting so we do not compute them.\u001b[39;00m\n\u001b[1;32m--> 229\u001b[0m     neigh_ind \u001b[38;5;241m=\u001b[39m \u001b[38;5;28;43mself\u001b[39;49m\u001b[38;5;241;43m.\u001b[39;49m\u001b[43mkneighbors\u001b[49m\u001b[43m(\u001b[49m\u001b[43mX\u001b[49m\u001b[43m,\u001b[49m\u001b[43m \u001b[49m\u001b[43mreturn_distance\u001b[49m\u001b[38;5;241;43m=\u001b[39;49m\u001b[38;5;28;43;01mFalse\u001b[39;49;00m\u001b[43m)\u001b[49m\n\u001b[0;32m    230\u001b[0m     neigh_dist \u001b[38;5;241m=\u001b[39m \u001b[38;5;28;01mNone\u001b[39;00m\n\u001b[0;32m    231\u001b[0m \u001b[38;5;28;01melse\u001b[39;00m:\n",
      "File \u001b[1;32m~\\Anaconda3\\envs\\data_venv\\lib\\site-packages\\sklearn\\neighbors\\_base.py:723\u001b[0m, in \u001b[0;36mKNeighborsMixin.kneighbors\u001b[1;34m(self, X, n_neighbors, return_distance)\u001b[0m\n\u001b[0;32m    670\u001b[0m \u001b[38;5;28;01mdef\u001b[39;00m \u001b[38;5;21mkneighbors\u001b[39m(\u001b[38;5;28mself\u001b[39m, X\u001b[38;5;241m=\u001b[39m\u001b[38;5;28;01mNone\u001b[39;00m, n_neighbors\u001b[38;5;241m=\u001b[39m\u001b[38;5;28;01mNone\u001b[39;00m, return_distance\u001b[38;5;241m=\u001b[39m\u001b[38;5;28;01mTrue\u001b[39;00m):\n\u001b[0;32m    671\u001b[0m     \u001b[38;5;124;03m\"\"\"Find the K-neighbors of a point.\u001b[39;00m\n\u001b[0;32m    672\u001b[0m \n\u001b[0;32m    673\u001b[0m \u001b[38;5;124;03m    Returns indices of and distances to the neighbors of each point.\u001b[39;00m\n\u001b[1;32m   (...)\u001b[0m\n\u001b[0;32m    721\u001b[0m \u001b[38;5;124;03m           [2]]...)\u001b[39;00m\n\u001b[0;32m    722\u001b[0m \u001b[38;5;124;03m    \"\"\"\u001b[39;00m\n\u001b[1;32m--> 723\u001b[0m     \u001b[43mcheck_is_fitted\u001b[49m\u001b[43m(\u001b[49m\u001b[38;5;28;43mself\u001b[39;49m\u001b[43m)\u001b[49m\n\u001b[0;32m    725\u001b[0m     \u001b[38;5;28;01mif\u001b[39;00m n_neighbors \u001b[38;5;129;01mis\u001b[39;00m \u001b[38;5;28;01mNone\u001b[39;00m:\n\u001b[0;32m    726\u001b[0m         n_neighbors \u001b[38;5;241m=\u001b[39m \u001b[38;5;28mself\u001b[39m\u001b[38;5;241m.\u001b[39mn_neighbors\n",
      "File \u001b[1;32m~\\Anaconda3\\envs\\data_venv\\lib\\site-packages\\sklearn\\utils\\validation.py:1345\u001b[0m, in \u001b[0;36mcheck_is_fitted\u001b[1;34m(estimator, attributes, msg, all_or_any)\u001b[0m\n\u001b[0;32m   1340\u001b[0m     fitted \u001b[38;5;241m=\u001b[39m [\n\u001b[0;32m   1341\u001b[0m         v \u001b[38;5;28;01mfor\u001b[39;00m v \u001b[38;5;129;01min\u001b[39;00m \u001b[38;5;28mvars\u001b[39m(estimator) \u001b[38;5;28;01mif\u001b[39;00m v\u001b[38;5;241m.\u001b[39mendswith(\u001b[38;5;124m\"\u001b[39m\u001b[38;5;124m_\u001b[39m\u001b[38;5;124m\"\u001b[39m) \u001b[38;5;129;01mand\u001b[39;00m \u001b[38;5;129;01mnot\u001b[39;00m v\u001b[38;5;241m.\u001b[39mstartswith(\u001b[38;5;124m\"\u001b[39m\u001b[38;5;124m__\u001b[39m\u001b[38;5;124m\"\u001b[39m)\n\u001b[0;32m   1342\u001b[0m     ]\n\u001b[0;32m   1344\u001b[0m \u001b[38;5;28;01mif\u001b[39;00m \u001b[38;5;129;01mnot\u001b[39;00m fitted:\n\u001b[1;32m-> 1345\u001b[0m     \u001b[38;5;28;01mraise\u001b[39;00m NotFittedError(msg \u001b[38;5;241m%\u001b[39m {\u001b[38;5;124m\"\u001b[39m\u001b[38;5;124mname\u001b[39m\u001b[38;5;124m\"\u001b[39m: \u001b[38;5;28mtype\u001b[39m(estimator)\u001b[38;5;241m.\u001b[39m\u001b[38;5;18m__name__\u001b[39m})\n",
      "\u001b[1;31mNotFittedError\u001b[0m: This KNeighborsRegressor instance is not fitted yet. Call 'fit' with appropriate arguments before using this estimator."
     ]
    }
   ],
   "source": [
    "# 테스트 세트에 대한 예측을 만듭니다\n",
    "test_pred = knr.predict(X_test)\n",
    "\n",
    "# 테스트 세트에 대한 평균 절댓값 오차를 계산합니다\n",
    "mae = mean_absolute_error(y_test, test_pred)\n",
    "mae"
   ]
  },
  {
   "cell_type": "code",
   "execution_count": null,
   "id": "ef908cbb-0c9c-4d43-8ae6-be81faaae386",
   "metadata": {},
   "outputs": [],
   "source": []
  },
  {
   "cell_type": "code",
   "execution_count": 88,
   "id": "e4dad068-28f3-4209-b564-b9c2fef24f73",
   "metadata": {},
   "outputs": [],
   "source": [
    "from sklearn.model_selection import train_test_split"
   ]
  },
  {
   "cell_type": "code",
   "execution_count": 89,
   "id": "49a8231d-8516-4fb4-acc1-93647b9c5619",
   "metadata": {},
   "outputs": [],
   "source": [
    "train_input, test_input, train_target, test_target = train_test_split(X, y, random_state=42)"
   ]
  },
  {
   "cell_type": "code",
   "execution_count": 90,
   "id": "c844660a-cda9-4436-a4ef-aebca1d33045",
   "metadata": {},
   "outputs": [
    {
     "name": "stdout",
     "output_type": "stream",
     "text": [
      "(283984, 9) (94662, 9)\n"
     ]
    }
   ],
   "source": [
    "print(train_input.shape, test_input.shape)"
   ]
  },
  {
   "cell_type": "code",
   "execution_count": 91,
   "id": "0f73cc7b-f83d-42d8-8dc6-502e8ec264c8",
   "metadata": {},
   "outputs": [
    {
     "data": {
      "text/plain": [
       "4"
      ]
     },
     "execution_count": 91,
     "metadata": {},
     "output_type": "execute_result"
    }
   ],
   "source": [
    "# shape 속성 - 튜플구조를 반환\n",
    "test_array = np.array([1,2,3,4])\n",
    "test_array.shape[0]"
   ]
  },
  {
   "cell_type": "code",
   "execution_count": 92,
   "id": "670e42b7-1ebe-467a-a0dc-f9cef93eb67c",
   "metadata": {},
   "outputs": [
    {
     "name": "stdout",
     "output_type": "stream",
     "text": [
      "(2, 2)\n"
     ]
    }
   ],
   "source": [
    "# reshape() :  데이터의 차원을 변경하는 함수\n",
    "test_array = test_array.reshape(2,2)\n",
    "print(test_array.shape)"
   ]
  },
  {
   "cell_type": "code",
   "execution_count": 94,
   "id": "17af674e-b57a-4625-8fd9-5f336937f2fc",
   "metadata": {},
   "outputs": [],
   "source": [
    "train_input = train_input.values.reshape(-1,1)\n",
    "test_input = test_input.values.reshape(-1,1)"
   ]
  },
  {
   "cell_type": "code",
   "execution_count": 95,
   "id": "5aa4b3ef-a772-449a-a6a5-06407fc2b1f8",
   "metadata": {},
   "outputs": [
    {
     "name": "stdout",
     "output_type": "stream",
     "text": [
      "(2555856, 1) (851958, 1)\n"
     ]
    }
   ],
   "source": [
    "print(train_input.shape, test_input.shape)"
   ]
  },
  {
   "cell_type": "code",
   "execution_count": 96,
   "id": "774cd050-b79c-4a2d-8d61-1ba3c347aa6f",
   "metadata": {},
   "outputs": [],
   "source": [
    "from sklearn.neighbors import KNeighborsRegressor"
   ]
  },
  {
   "cell_type": "code",
   "execution_count": 97,
   "id": "934d9603-d06a-463e-b8e8-ce98a5894422",
   "metadata": {},
   "outputs": [
    {
     "ename": "NotFittedError",
     "evalue": "This KNeighborsRegressor instance is not fitted yet. Call 'fit' with appropriate arguments before using this estimator.",
     "output_type": "error",
     "traceback": [
      "\u001b[1;31m---------------------------------------------------------------------------\u001b[0m",
      "\u001b[1;31mNotFittedError\u001b[0m                            Traceback (most recent call last)",
      "Cell \u001b[1;32mIn [97], line 1\u001b[0m\n\u001b[1;32m----> 1\u001b[0m \u001b[43mknr\u001b[49m\u001b[38;5;241;43m.\u001b[39;49m\u001b[43mscore\u001b[49m\u001b[43m(\u001b[49m\u001b[43mtest_input\u001b[49m\u001b[43m,\u001b[49m\u001b[43m \u001b[49m\u001b[43mtest_target\u001b[49m\u001b[43m)\u001b[49m\n",
      "File \u001b[1;32m~\\Anaconda3\\envs\\data_venv\\lib\\site-packages\\sklearn\\base.py:720\u001b[0m, in \u001b[0;36mRegressorMixin.score\u001b[1;34m(self, X, y, sample_weight)\u001b[0m\n\u001b[0;32m    678\u001b[0m \u001b[38;5;124;03m\"\"\"Return the coefficient of determination of the prediction.\u001b[39;00m\n\u001b[0;32m    679\u001b[0m \n\u001b[0;32m    680\u001b[0m \u001b[38;5;124;03mThe coefficient of determination :math:`R^2` is defined as\u001b[39;00m\n\u001b[1;32m   (...)\u001b[0m\n\u001b[0;32m    715\u001b[0m \u001b[38;5;124;03m:class:`~sklearn.multioutput.MultiOutputRegressor`).\u001b[39;00m\n\u001b[0;32m    716\u001b[0m \u001b[38;5;124;03m\"\"\"\u001b[39;00m\n\u001b[0;32m    718\u001b[0m \u001b[38;5;28;01mfrom\u001b[39;00m \u001b[38;5;21;01m.\u001b[39;00m\u001b[38;5;21;01mmetrics\u001b[39;00m \u001b[38;5;28;01mimport\u001b[39;00m r2_score\n\u001b[1;32m--> 720\u001b[0m y_pred \u001b[38;5;241m=\u001b[39m \u001b[38;5;28;43mself\u001b[39;49m\u001b[38;5;241;43m.\u001b[39;49m\u001b[43mpredict\u001b[49m\u001b[43m(\u001b[49m\u001b[43mX\u001b[49m\u001b[43m)\u001b[49m\n\u001b[0;32m    721\u001b[0m \u001b[38;5;28;01mreturn\u001b[39;00m r2_score(y, y_pred, sample_weight\u001b[38;5;241m=\u001b[39msample_weight)\n",
      "File \u001b[1;32m~\\Anaconda3\\envs\\data_venv\\lib\\site-packages\\sklearn\\neighbors\\_regression.py:229\u001b[0m, in \u001b[0;36mKNeighborsRegressor.predict\u001b[1;34m(self, X)\u001b[0m\n\u001b[0;32m    213\u001b[0m \u001b[38;5;124;03m\"\"\"Predict the target for the provided data.\u001b[39;00m\n\u001b[0;32m    214\u001b[0m \n\u001b[0;32m    215\u001b[0m \u001b[38;5;124;03mParameters\u001b[39;00m\n\u001b[1;32m   (...)\u001b[0m\n\u001b[0;32m    224\u001b[0m \u001b[38;5;124;03m    Target values.\u001b[39;00m\n\u001b[0;32m    225\u001b[0m \u001b[38;5;124;03m\"\"\"\u001b[39;00m\n\u001b[0;32m    226\u001b[0m \u001b[38;5;28;01mif\u001b[39;00m \u001b[38;5;28mself\u001b[39m\u001b[38;5;241m.\u001b[39mweights \u001b[38;5;241m==\u001b[39m \u001b[38;5;124m\"\u001b[39m\u001b[38;5;124muniform\u001b[39m\u001b[38;5;124m\"\u001b[39m:\n\u001b[0;32m    227\u001b[0m     \u001b[38;5;66;03m# In that case, we do not need the distances to perform\u001b[39;00m\n\u001b[0;32m    228\u001b[0m     \u001b[38;5;66;03m# the weighting so we do not compute them.\u001b[39;00m\n\u001b[1;32m--> 229\u001b[0m     neigh_ind \u001b[38;5;241m=\u001b[39m \u001b[38;5;28;43mself\u001b[39;49m\u001b[38;5;241;43m.\u001b[39;49m\u001b[43mkneighbors\u001b[49m\u001b[43m(\u001b[49m\u001b[43mX\u001b[49m\u001b[43m,\u001b[49m\u001b[43m \u001b[49m\u001b[43mreturn_distance\u001b[49m\u001b[38;5;241;43m=\u001b[39;49m\u001b[38;5;28;43;01mFalse\u001b[39;49;00m\u001b[43m)\u001b[49m\n\u001b[0;32m    230\u001b[0m     neigh_dist \u001b[38;5;241m=\u001b[39m \u001b[38;5;28;01mNone\u001b[39;00m\n\u001b[0;32m    231\u001b[0m \u001b[38;5;28;01melse\u001b[39;00m:\n",
      "File \u001b[1;32m~\\Anaconda3\\envs\\data_venv\\lib\\site-packages\\sklearn\\neighbors\\_base.py:723\u001b[0m, in \u001b[0;36mKNeighborsMixin.kneighbors\u001b[1;34m(self, X, n_neighbors, return_distance)\u001b[0m\n\u001b[0;32m    670\u001b[0m \u001b[38;5;28;01mdef\u001b[39;00m \u001b[38;5;21mkneighbors\u001b[39m(\u001b[38;5;28mself\u001b[39m, X\u001b[38;5;241m=\u001b[39m\u001b[38;5;28;01mNone\u001b[39;00m, n_neighbors\u001b[38;5;241m=\u001b[39m\u001b[38;5;28;01mNone\u001b[39;00m, return_distance\u001b[38;5;241m=\u001b[39m\u001b[38;5;28;01mTrue\u001b[39;00m):\n\u001b[0;32m    671\u001b[0m     \u001b[38;5;124;03m\"\"\"Find the K-neighbors of a point.\u001b[39;00m\n\u001b[0;32m    672\u001b[0m \n\u001b[0;32m    673\u001b[0m \u001b[38;5;124;03m    Returns indices of and distances to the neighbors of each point.\u001b[39;00m\n\u001b[1;32m   (...)\u001b[0m\n\u001b[0;32m    721\u001b[0m \u001b[38;5;124;03m           [2]]...)\u001b[39;00m\n\u001b[0;32m    722\u001b[0m \u001b[38;5;124;03m    \"\"\"\u001b[39;00m\n\u001b[1;32m--> 723\u001b[0m     \u001b[43mcheck_is_fitted\u001b[49m\u001b[43m(\u001b[49m\u001b[38;5;28;43mself\u001b[39;49m\u001b[43m)\u001b[49m\n\u001b[0;32m    725\u001b[0m     \u001b[38;5;28;01mif\u001b[39;00m n_neighbors \u001b[38;5;129;01mis\u001b[39;00m \u001b[38;5;28;01mNone\u001b[39;00m:\n\u001b[0;32m    726\u001b[0m         n_neighbors \u001b[38;5;241m=\u001b[39m \u001b[38;5;28mself\u001b[39m\u001b[38;5;241m.\u001b[39mn_neighbors\n",
      "File \u001b[1;32m~\\Anaconda3\\envs\\data_venv\\lib\\site-packages\\sklearn\\utils\\validation.py:1345\u001b[0m, in \u001b[0;36mcheck_is_fitted\u001b[1;34m(estimator, attributes, msg, all_or_any)\u001b[0m\n\u001b[0;32m   1340\u001b[0m     fitted \u001b[38;5;241m=\u001b[39m [\n\u001b[0;32m   1341\u001b[0m         v \u001b[38;5;28;01mfor\u001b[39;00m v \u001b[38;5;129;01min\u001b[39;00m \u001b[38;5;28mvars\u001b[39m(estimator) \u001b[38;5;28;01mif\u001b[39;00m v\u001b[38;5;241m.\u001b[39mendswith(\u001b[38;5;124m\"\u001b[39m\u001b[38;5;124m_\u001b[39m\u001b[38;5;124m\"\u001b[39m) \u001b[38;5;129;01mand\u001b[39;00m \u001b[38;5;129;01mnot\u001b[39;00m v\u001b[38;5;241m.\u001b[39mstartswith(\u001b[38;5;124m\"\u001b[39m\u001b[38;5;124m__\u001b[39m\u001b[38;5;124m\"\u001b[39m)\n\u001b[0;32m   1342\u001b[0m     ]\n\u001b[0;32m   1344\u001b[0m \u001b[38;5;28;01mif\u001b[39;00m \u001b[38;5;129;01mnot\u001b[39;00m fitted:\n\u001b[1;32m-> 1345\u001b[0m     \u001b[38;5;28;01mraise\u001b[39;00m NotFittedError(msg \u001b[38;5;241m%\u001b[39m {\u001b[38;5;124m\"\u001b[39m\u001b[38;5;124mname\u001b[39m\u001b[38;5;124m\"\u001b[39m: \u001b[38;5;28mtype\u001b[39m(estimator)\u001b[38;5;241m.\u001b[39m\u001b[38;5;18m__name__\u001b[39m})\n",
      "\u001b[1;31mNotFittedError\u001b[0m: This KNeighborsRegressor instance is not fitted yet. Call 'fit' with appropriate arguments before using this estimator."
     ]
    }
   ],
   "source": [
    "knr.score(test_input, test_target) # 회귀모델(KNN)의 기본 평가지표는 R2값임"
   ]
  },
  {
   "cell_type": "code",
   "execution_count": 98,
   "id": "a8f08758-72c2-4526-a64f-9f124b477425",
   "metadata": {},
   "outputs": [],
   "source": [
    "from sklearn.metrics import mean_absolute_error"
   ]
  },
  {
   "cell_type": "code",
   "execution_count": 99,
   "id": "0cc986e8-d523-4552-8507-9576398249f3",
   "metadata": {},
   "outputs": [
    {
     "ename": "NotFittedError",
     "evalue": "This KNeighborsRegressor instance is not fitted yet. Call 'fit' with appropriate arguments before using this estimator.",
     "output_type": "error",
     "traceback": [
      "\u001b[1;31m---------------------------------------------------------------------------\u001b[0m",
      "\u001b[1;31mNotFittedError\u001b[0m                            Traceback (most recent call last)",
      "Cell \u001b[1;32mIn [99], line 2\u001b[0m\n\u001b[0;32m      1\u001b[0m \u001b[38;5;66;03m# 테스트 세트에 대한 예측을 만듭니다\u001b[39;00m\n\u001b[1;32m----> 2\u001b[0m test_pred \u001b[38;5;241m=\u001b[39m \u001b[43mknr\u001b[49m\u001b[38;5;241;43m.\u001b[39;49m\u001b[43mpredict\u001b[49m\u001b[43m(\u001b[49m\u001b[43mtest_input\u001b[49m\u001b[43m)\u001b[49m\n\u001b[0;32m      4\u001b[0m \u001b[38;5;66;03m# 테스트 세트에 대한 평균 절댓값 오차를 계산합니다\u001b[39;00m\n\u001b[0;32m      5\u001b[0m mae \u001b[38;5;241m=\u001b[39m mean_absolute_error(test_target, test_pred)\n",
      "File \u001b[1;32m~\\Anaconda3\\envs\\data_venv\\lib\\site-packages\\sklearn\\neighbors\\_regression.py:229\u001b[0m, in \u001b[0;36mKNeighborsRegressor.predict\u001b[1;34m(self, X)\u001b[0m\n\u001b[0;32m    213\u001b[0m \u001b[38;5;124;03m\"\"\"Predict the target for the provided data.\u001b[39;00m\n\u001b[0;32m    214\u001b[0m \n\u001b[0;32m    215\u001b[0m \u001b[38;5;124;03mParameters\u001b[39;00m\n\u001b[1;32m   (...)\u001b[0m\n\u001b[0;32m    224\u001b[0m \u001b[38;5;124;03m    Target values.\u001b[39;00m\n\u001b[0;32m    225\u001b[0m \u001b[38;5;124;03m\"\"\"\u001b[39;00m\n\u001b[0;32m    226\u001b[0m \u001b[38;5;28;01mif\u001b[39;00m \u001b[38;5;28mself\u001b[39m\u001b[38;5;241m.\u001b[39mweights \u001b[38;5;241m==\u001b[39m \u001b[38;5;124m\"\u001b[39m\u001b[38;5;124muniform\u001b[39m\u001b[38;5;124m\"\u001b[39m:\n\u001b[0;32m    227\u001b[0m     \u001b[38;5;66;03m# In that case, we do not need the distances to perform\u001b[39;00m\n\u001b[0;32m    228\u001b[0m     \u001b[38;5;66;03m# the weighting so we do not compute them.\u001b[39;00m\n\u001b[1;32m--> 229\u001b[0m     neigh_ind \u001b[38;5;241m=\u001b[39m \u001b[38;5;28;43mself\u001b[39;49m\u001b[38;5;241;43m.\u001b[39;49m\u001b[43mkneighbors\u001b[49m\u001b[43m(\u001b[49m\u001b[43mX\u001b[49m\u001b[43m,\u001b[49m\u001b[43m \u001b[49m\u001b[43mreturn_distance\u001b[49m\u001b[38;5;241;43m=\u001b[39;49m\u001b[38;5;28;43;01mFalse\u001b[39;49;00m\u001b[43m)\u001b[49m\n\u001b[0;32m    230\u001b[0m     neigh_dist \u001b[38;5;241m=\u001b[39m \u001b[38;5;28;01mNone\u001b[39;00m\n\u001b[0;32m    231\u001b[0m \u001b[38;5;28;01melse\u001b[39;00m:\n",
      "File \u001b[1;32m~\\Anaconda3\\envs\\data_venv\\lib\\site-packages\\sklearn\\neighbors\\_base.py:723\u001b[0m, in \u001b[0;36mKNeighborsMixin.kneighbors\u001b[1;34m(self, X, n_neighbors, return_distance)\u001b[0m\n\u001b[0;32m    670\u001b[0m \u001b[38;5;28;01mdef\u001b[39;00m \u001b[38;5;21mkneighbors\u001b[39m(\u001b[38;5;28mself\u001b[39m, X\u001b[38;5;241m=\u001b[39m\u001b[38;5;28;01mNone\u001b[39;00m, n_neighbors\u001b[38;5;241m=\u001b[39m\u001b[38;5;28;01mNone\u001b[39;00m, return_distance\u001b[38;5;241m=\u001b[39m\u001b[38;5;28;01mTrue\u001b[39;00m):\n\u001b[0;32m    671\u001b[0m     \u001b[38;5;124;03m\"\"\"Find the K-neighbors of a point.\u001b[39;00m\n\u001b[0;32m    672\u001b[0m \n\u001b[0;32m    673\u001b[0m \u001b[38;5;124;03m    Returns indices of and distances to the neighbors of each point.\u001b[39;00m\n\u001b[1;32m   (...)\u001b[0m\n\u001b[0;32m    721\u001b[0m \u001b[38;5;124;03m           [2]]...)\u001b[39;00m\n\u001b[0;32m    722\u001b[0m \u001b[38;5;124;03m    \"\"\"\u001b[39;00m\n\u001b[1;32m--> 723\u001b[0m     \u001b[43mcheck_is_fitted\u001b[49m\u001b[43m(\u001b[49m\u001b[38;5;28;43mself\u001b[39;49m\u001b[43m)\u001b[49m\n\u001b[0;32m    725\u001b[0m     \u001b[38;5;28;01mif\u001b[39;00m n_neighbors \u001b[38;5;129;01mis\u001b[39;00m \u001b[38;5;28;01mNone\u001b[39;00m:\n\u001b[0;32m    726\u001b[0m         n_neighbors \u001b[38;5;241m=\u001b[39m \u001b[38;5;28mself\u001b[39m\u001b[38;5;241m.\u001b[39mn_neighbors\n",
      "File \u001b[1;32m~\\Anaconda3\\envs\\data_venv\\lib\\site-packages\\sklearn\\utils\\validation.py:1345\u001b[0m, in \u001b[0;36mcheck_is_fitted\u001b[1;34m(estimator, attributes, msg, all_or_any)\u001b[0m\n\u001b[0;32m   1340\u001b[0m     fitted \u001b[38;5;241m=\u001b[39m [\n\u001b[0;32m   1341\u001b[0m         v \u001b[38;5;28;01mfor\u001b[39;00m v \u001b[38;5;129;01min\u001b[39;00m \u001b[38;5;28mvars\u001b[39m(estimator) \u001b[38;5;28;01mif\u001b[39;00m v\u001b[38;5;241m.\u001b[39mendswith(\u001b[38;5;124m\"\u001b[39m\u001b[38;5;124m_\u001b[39m\u001b[38;5;124m\"\u001b[39m) \u001b[38;5;129;01mand\u001b[39;00m \u001b[38;5;129;01mnot\u001b[39;00m v\u001b[38;5;241m.\u001b[39mstartswith(\u001b[38;5;124m\"\u001b[39m\u001b[38;5;124m__\u001b[39m\u001b[38;5;124m\"\u001b[39m)\n\u001b[0;32m   1342\u001b[0m     ]\n\u001b[0;32m   1344\u001b[0m \u001b[38;5;28;01mif\u001b[39;00m \u001b[38;5;129;01mnot\u001b[39;00m fitted:\n\u001b[1;32m-> 1345\u001b[0m     \u001b[38;5;28;01mraise\u001b[39;00m NotFittedError(msg \u001b[38;5;241m%\u001b[39m {\u001b[38;5;124m\"\u001b[39m\u001b[38;5;124mname\u001b[39m\u001b[38;5;124m\"\u001b[39m: \u001b[38;5;28mtype\u001b[39m(estimator)\u001b[38;5;241m.\u001b[39m\u001b[38;5;18m__name__\u001b[39m})\n",
      "\u001b[1;31mNotFittedError\u001b[0m: This KNeighborsRegressor instance is not fitted yet. Call 'fit' with appropriate arguments before using this estimator."
     ]
    }
   ],
   "source": [
    "# 테스트 세트에 대한 예측을 만듭니다\n",
    "test_pred = knr.predict(test_input)\n",
    "\n",
    "# 테스트 세트에 대한 평균 절댓값 오차를 계산합니다\n",
    "mae = mean_absolute_error(test_target, test_pred)\n",
    "mae"
   ]
  },
  {
   "cell_type": "code",
   "execution_count": null,
   "id": "77db787f-685f-4b6a-a427-b362d099a8d3",
   "metadata": {},
   "outputs": [],
   "source": []
  },
  {
   "cell_type": "code",
   "execution_count": null,
   "id": "de8594d5-e917-4179-907e-c8b5645ee0e2",
   "metadata": {},
   "outputs": [],
   "source": []
  },
  {
   "cell_type": "code",
   "execution_count": null,
   "id": "d1460fa0-fdda-4775-b45c-3637c7b10157",
   "metadata": {},
   "outputs": [],
   "source": []
  }
 ],
 "metadata": {
  "kernelspec": {
   "display_name": "eduvenv",
   "language": "python",
   "name": "eduvenv"
  },
  "language_info": {
   "codemirror_mode": {
    "name": "ipython",
    "version": 3
   },
   "file_extension": ".py",
   "mimetype": "text/x-python",
   "name": "python",
   "nbconvert_exporter": "python",
   "pygments_lexer": "ipython3",
   "version": "3.9.15"
  },
  "toc": {
   "base_numbering": 1,
   "nav_menu": {},
   "number_sections": true,
   "sideBar": true,
   "skip_h1_title": false,
   "title_cell": "Table of Contents",
   "title_sidebar": "Contents",
   "toc_cell": false,
   "toc_position": {},
   "toc_section_display": true,
   "toc_window_display": false
  },
  "varInspector": {
   "cols": {
    "lenName": 16,
    "lenType": 16,
    "lenVar": 40
   },
   "kernels_config": {
    "python": {
     "delete_cmd_postfix": "",
     "delete_cmd_prefix": "del ",
     "library": "var_list.py",
     "varRefreshCmd": "print(var_dic_list())"
    },
    "r": {
     "delete_cmd_postfix": ") ",
     "delete_cmd_prefix": "rm(",
     "library": "var_list.r",
     "varRefreshCmd": "cat(var_dic_list()) "
    }
   },
   "position": {
    "height": "498.844px",
    "left": "1550px",
    "right": "20px",
    "top": "120px",
    "width": "350px"
   },
   "types_to_exclude": [
    "module",
    "function",
    "builtin_function_or_method",
    "instance",
    "_Feature"
   ],
   "window_display": true
  }
 },
 "nbformat": 4,
 "nbformat_minor": 5
}

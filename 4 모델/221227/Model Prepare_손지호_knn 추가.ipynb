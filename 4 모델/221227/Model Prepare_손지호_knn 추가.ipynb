{
 "cells": [
  {
   "cell_type": "markdown",
   "id": "304de2a1",
   "metadata": {},
   "source": [
    "# 기본 준비"
   ]
  },
  {
   "cell_type": "code",
   "execution_count": 1,
   "id": "cdd43360",
   "metadata": {
    "ExecuteTime": {
     "end_time": "2022-12-23T07:30:00.704067Z",
     "start_time": "2022-12-23T07:30:00.695066Z"
    }
   },
   "outputs": [],
   "source": [
    "import pandas as pd\n",
    "import numpy as np\n",
    "import matplotlib.pyplot as plt\n",
    "import matplotlib.ticker as ticker\n",
    "\n",
    "%matplotlib inline\n",
    "\n",
    "from sklearn.model_selection import train_test_split\n",
    "from sklearn.metrics import accuracy_score, precision_score, recall_score, roc_auc_score\n",
    "from sklearn.metrics import f1_score, confusion_matrix, precision_recall_curve, roc_curve\n",
    "from sklearn.preprocessing import Binarizer"
   ]
  },
  {
   "cell_type": "code",
   "execution_count": 2,
   "id": "f5118ab9",
   "metadata": {
    "ExecuteTime": {
     "end_time": "2022-12-23T07:30:01.634487Z",
     "start_time": "2022-12-23T07:30:01.610481Z"
    }
   },
   "outputs": [],
   "source": [
    "# 오차행렬 및 평가지표 출력\n",
    "def get_clf_eval(y_test, pred=None, pred_proba=None):\n",
    "    confusion = confusion_matrix( y_test, pred)\n",
    "    accuracy = accuracy_score(y_test , pred)\n",
    "    precision = precision_score(y_test , pred)\n",
    "    recall = recall_score(y_test , pred)\n",
    "    f1 = f1_score(y_test,pred)\n",
    "\n",
    "    roc_auc = roc_auc_score(y_test, pred_proba)\n",
    "    print('오차 행렬')\n",
    "    print(confusion)\n",
    "\n",
    "    print('정확도: {0:.4f}, 정밀도: {1:.4f}, 재현율: {2:.4f}, F1: {3:.4f}, AUC:{4:.4f}'.format(accuracy, precision, recall, f1, roc_auc))\n",
    "\n",
    "\n",
    "# 임계값 조정\n",
    "def get_eval_by_threshold(y_test, pred, pred_proba_c1, thresholds):\n",
    "    pred_proba_c1 = pred_proba_c1.reshape(-1, 1)\n",
    "    for custom_threshold in thresholds:\n",
    "        bina = Binarizer(threshold=custom_threshold).fit(pred_proba_c1)\n",
    "        custom_predict = bina.transform(pred_proba_c1)\n",
    "        print('분류 임계값 :', custom_threshold)\n",
    "        get_clf_eval(y_test, pred, custom_predict)\n",
    "    \n",
    "\n",
    "# precision recall curve 그리기\n",
    "def precision_recall_curve_plot(y_test, pred_proba_c1): \n",
    "    precisions, recalls, thresholds = precision_recall_curve(y_test, pred_proba_c1)\n",
    "    \n",
    "    plt.figure(figsize=(8,6))\n",
    "    threshold_boundary = thresholds.shape[0]\n",
    "\n",
    "    plt.plot(thresholds, precisions[0:threshold_boundary], linestyle='--', label='precision') \n",
    "    plt.plot(thresholds, recalls[0:threshold_boundary],label='recall')\n",
    "\n",
    "    start, end = plt.xlim() # X축 범위 반환\n",
    "    plt.xticks(np.round(np.arange(start, end, 0.1),2))\n",
    "    \n",
    "    plt.xlabel('Threshold value'); plt.ylabel('Precision and Recall value')\n",
    "    plt.legend(); plt.grid()\n",
    "    plt.show()"
   ]
  },
  {
   "cell_type": "code",
   "execution_count": 3,
   "id": "321274dd",
   "metadata": {
    "ExecuteTime": {
     "end_time": "2022-12-23T07:12:36.946731Z",
     "start_time": "2022-12-23T07:12:35.124012Z"
    }
   },
   "outputs": [],
   "source": [
    "brfss = pd.read_csv(\"./data_2/brfss.csv\")\n",
    "checkup = pd.read_csv(\"./data_2/checkup.csv\")"
   ]
  },
  {
   "cell_type": "markdown",
   "id": "67bb5901",
   "metadata": {},
   "source": [
    "### 데이터 분할"
   ]
  },
  {
   "cell_type": "code",
   "execution_count": 4,
   "id": "3f0c8b79",
   "metadata": {
    "ExecuteTime": {
     "end_time": "2022-12-23T07:12:37.022125Z",
     "start_time": "2022-12-23T07:12:37.010277Z"
    }
   },
   "outputs": [],
   "source": [
    "# X = brfss.drop([\"HEARTDISEASE\"], axis=1)\n",
    "X = brfss.drop([\"HEARTDISEASE\", \"ALCOHOL\"], axis=1)\n",
    "y = brfss[\"HEARTDISEASE\"]"
   ]
  },
  {
   "cell_type": "code",
   "execution_count": 5,
   "id": "806f3cc3",
   "metadata": {
    "ExecuteTime": {
     "end_time": "2022-12-23T07:12:37.129299Z",
     "start_time": "2022-12-23T07:12:37.101369Z"
    }
   },
   "outputs": [
    {
     "data": {
      "text/plain": [
       "0.0    358424\n",
       "1.0     20222\n",
       "Name: HEARTDISEASE, dtype: int64"
      ]
     },
     "execution_count": 5,
     "metadata": {},
     "output_type": "execute_result"
    }
   ],
   "source": [
    "y.value_counts()"
   ]
  },
  {
   "cell_type": "code",
   "execution_count": 6,
   "id": "741a46dd",
   "metadata": {
    "ExecuteTime": {
     "end_time": "2022-12-23T07:14:03.089962Z",
     "start_time": "2022-12-23T07:14:01.904146Z"
    }
   },
   "outputs": [
    {
     "data": {
      "text/plain": [
       "0.0    286787\n",
       "1.0    286787\n",
       "Name: HEARTDISEASE, dtype: int64"
      ]
     },
     "execution_count": 6,
     "metadata": {},
     "output_type": "execute_result"
    }
   ],
   "source": [
    "from sklearn.model_selection import train_test_split\n",
    "from imblearn.over_sampling import SMOTE\n",
    "from sklearn.preprocessing import StandardScaler, MinMaxScaler\n",
    "\n",
    "X_train, X_test, y_train, y_test = train_test_split(X, y, test_size=.2)\n",
    "\n",
    "# scaler\n",
    "#scaler = StandardScaler()\n",
    "# scaler = MinMaxScaler()\n",
    "#scaler.fit(X_train)\n",
    "#X_train = scaler.transform(X_train)\n",
    "#X_test = scaler.transform(X_test)\n",
    "\n",
    "# smote\n",
    "smote = SMOTE()\n",
    "X_train, y_train = smote.fit_resample(X_train, y_train)\n",
    "y_train.value_counts()"
   ]
  },
  {
   "cell_type": "markdown",
   "id": "59723c0d",
   "metadata": {},
   "source": [
    "# 할 일\n",
    "- 하이퍼 파라미터 튜닝\n",
    "    - 각 모델 document 보면서 찾아보기\n",
    "- 임계점 변경\n",
    "    - 변경해보면서 최적값 찾기"
   ]
  },
  {
   "cell_type": "markdown",
   "id": "5e280016",
   "metadata": {},
   "source": [
    "# 박민정"
   ]
  },
  {
   "cell_type": "markdown",
   "id": "25ca6152",
   "metadata": {},
   "source": [
    "## DecisionTree"
   ]
  },
  {
   "cell_type": "code",
   "execution_count": 30,
   "id": "881f303f",
   "metadata": {
    "ExecuteTime": {
     "end_time": "2022-12-23T07:31:39.982536Z",
     "start_time": "2022-12-23T07:31:38.708853Z"
    }
   },
   "outputs": [
    {
     "name": "stdout",
     "output_type": "stream",
     "text": [
      "0.7110940579381552\n",
      "0.6567014393239139\n",
      "오차 행렬\n",
      "[[46698 25041]\n",
      " [  957  3034]]\n",
      "정확도: 0.6567, 정밀도: 0.1081, 재현율: 0.7602, F1: 0.1892, AUC:0.7696\n",
      "분류 임계값 : 0.5\n",
      "오차 행렬\n",
      "[[46698 25041]\n",
      " [  957  3034]]\n",
      "정확도: 0.6567, 정밀도: 0.1081, 재현율: 0.7602, F1: 0.1892, AUC:0.7056\n",
      "분류 임계값 : 0.55\n",
      "오차 행렬\n",
      "[[46698 25041]\n",
      " [  957  3034]]\n",
      "정확도: 0.6567, 정밀도: 0.1081, 재현율: 0.7602, F1: 0.1892, AUC:0.7048\n",
      "분류 임계값 : 0.6\n",
      "오차 행렬\n",
      "[[46698 25041]\n",
      " [  957  3034]]\n",
      "정확도: 0.6567, 정밀도: 0.1081, 재현율: 0.7602, F1: 0.1892, AUC:0.6923\n"
     ]
    }
   ],
   "source": [
    "from sklearn.tree import DecisionTreeClassifier\n",
    "\n",
    "model = DecisionTreeClassifier()\n",
    "model.fit(X_train, y_train)\n",
    "print(model.score(X_train, y_train))\n",
    "print(model.score(X_test, y_test))\n",
    "\n",
    "pred = model.predict(X_test)\n",
    "pred_proba = model.predict_proba(X_test)[:,1]\n",
    "\n",
    "get_clf_eval(y_test, pred, pred_proba)\n",
    "\n",
    "# 임계값 조정 예시\n",
    "thresholds = [0.5, 0.55, 0.6]\n",
    "get_eval_by_threshold(y_test, pred, pred_proba, thresholds)"
   ]
  },
  {
   "cell_type": "code",
   "execution_count": 31,
   "id": "1be5bc33",
   "metadata": {
    "ExecuteTime": {
     "end_time": "2022-12-23T07:35:26.005953Z",
     "start_time": "2022-12-23T07:35:25.774938Z"
    }
   },
   "outputs": [
    {
     "data": {
      "image/png": "[encoded data removed]",
      "text/plain": [
       "<Figure size 800x600 with 1 Axes>"
      ]
     },
     "metadata": {},
     "output_type": "display_data"
    }
   ],
   "source": [
    "# 임계값 그래프\n",
    "precision_recall_curve_plot(y_test, pred_proba)"
   ]
  },
  {
   "cell_type": "markdown",
   "id": "068e133a",
   "metadata": {
    "ExecuteTime": {
     "end_time": "2022-12-23T05:30:52.564141Z",
     "start_time": "2022-12-23T05:30:52.556165Z"
    }
   },
   "source": [
    "## SGDClassifier"
   ]
  },
  {
   "cell_type": "code",
   "execution_count": 17,
   "id": "705da419",
   "metadata": {
    "ExecuteTime": {
     "end_time": "2022-12-23T07:14:11.394518Z",
     "start_time": "2022-12-23T07:14:10.210298Z"
    }
   },
   "outputs": [
    {
     "name": "stdout",
     "output_type": "stream",
     "text": [
      "0.7078343826848283\n",
      "0.6706589198468242\n",
      "오차 행렬\n",
      "[[47835 23904]\n",
      " [ 1037  2954]]\n",
      "정확도: 0.6707, 정밀도: 0.1100, 재현율: 0.7402, F1: 0.1915, AUC:0.7691\n"
     ]
    }
   ],
   "source": [
    "from sklearn.linear_model import SGDClassifier\n",
    "model = SGDClassifier(loss=\"log_loss\", max_iter=10)\n",
    "model.fit(X_train, y_train)\n",
    "print(model.score(X_train, y_train))\n",
    "print(model.score(X_test, y_test))\n",
    "\n",
    "pred = model.predict(X_test)\n",
    "pred_proba = model.predict_proba(X_test)[:,1]\n",
    "\n",
    "get_clf_eval(y_test, pred, pred_proba)"
   ]
  },
  {
   "cell_type": "markdown",
   "id": "a1111a24",
   "metadata": {},
   "source": [
    "## SVM"
   ]
  },
  {
   "cell_type": "code",
   "execution_count": null,
   "id": "ef3a2eeb",
   "metadata": {
    "ExecuteTime": {
     "start_time": "2022-12-23T06:42:41.322Z"
    }
   },
   "outputs": [],
   "source": [
    "from sklearn.svm import SVC\n",
    "\n",
    "model = SVC()\n",
    "model.fit(X_train, y_train)\n",
    "\n",
    "print(model.score(X_train, y_train))\n",
    "print(model.score(X_test, y_test))\n",
    "\n",
    "pred = model.predict(X_test)\n",
    "pred_proba = model.predict_proba(X_test)[:,1]\n",
    "\n",
    "get_clf_eval(y_test, pred, pred_proba)"
   ]
  },
  {
   "cell_type": "markdown",
   "id": "643e261e",
   "metadata": {
    "ExecuteTime": {
     "end_time": "2022-12-23T07:17:42.418304Z",
     "start_time": "2022-12-23T07:17:42.401992Z"
    }
   },
   "source": [
    "# 서대훈"
   ]
  },
  {
   "cell_type": "markdown",
   "id": "76a8713d",
   "metadata": {
    "ExecuteTime": {
     "end_time": "2022-12-23T05:24:49.030333Z",
     "start_time": "2022-12-23T05:24:49.017366Z"
    }
   },
   "source": [
    "## Linear Regression"
   ]
  },
  {
   "cell_type": "code",
   "execution_count": 15,
   "id": "974f41d5",
   "metadata": {
    "ExecuteTime": {
     "end_time": "2022-12-23T07:14:06.530163Z",
     "start_time": "2022-12-23T07:14:06.335741Z"
    }
   },
   "outputs": [
    {
     "data": {
      "text/plain": [
       "-2.8939165652334635"
      ]
     },
     "execution_count": 15,
     "metadata": {},
     "output_type": "execute_result"
    }
   ],
   "source": [
    "from sklearn.linear_model import LinearRegression\n",
    "\n",
    "model = LinearRegression()\n",
    "model.fit(X_train, y_train)\n",
    "model.score(X_test, y_test)"
   ]
  },
  {
   "cell_type": "markdown",
   "id": "1fd096ee",
   "metadata": {},
   "source": [
    "## LightGBM "
   ]
  },
  {
   "cell_type": "code",
   "execution_count": 13,
   "id": "27249739",
   "metadata": {
    "ExecuteTime": {
     "end_time": "2022-12-23T07:13:20.852482Z",
     "start_time": "2022-12-23T07:13:16.623714Z"
    }
   },
   "outputs": [
    {
     "name": "stdout",
     "output_type": "stream",
     "text": [
      "0.7105471419208189\n",
      "0.656410933579823\n",
      "오차 행렬\n",
      "[[46554 25034]\n",
      " [  986  3156]]\n",
      "정확도: 0.6564, 정밀도: 0.1120, 재현율: 0.7620, F1: 0.1952, AUC:0.7700\n"
     ]
    }
   ],
   "source": [
    "from lightgbm import LGBMClassifier\n",
    "\n",
    "model = LGBMClassifier()\n",
    "model.fit(X_train, y_train)\n",
    "\n",
    "print(model.score(X_train, y_train))\n",
    "print(model.score(X_test, y_test))\n",
    "\n",
    "pred = model.predict(X_test)\n",
    "pred_proba = model.predict_proba(X_test)[:,1]\n",
    "\n",
    "get_clf_eval(y_test, pred, pred_proba)"
   ]
  },
  {
   "cell_type": "markdown",
   "id": "af62c849",
   "metadata": {
    "ExecuteTime": {
     "end_time": "2022-12-23T06:30:17.390180Z",
     "start_time": "2022-12-23T06:30:17.382142Z"
    }
   },
   "source": [
    "## Random Forest"
   ]
  },
  {
   "cell_type": "code",
   "execution_count": 11,
   "id": "85ef48d6",
   "metadata": {
    "ExecuteTime": {
     "end_time": "2022-12-23T06:31:47.526489Z",
     "start_time": "2022-12-23T06:31:11.700919Z"
    }
   },
   "outputs": [
    {
     "name": "stdout",
     "output_type": "stream",
     "text": [
      "0.7105211755924352\n",
      "0.6586293410801531\n",
      "오차 행렬\n",
      "[[46843 24883]\n",
      " [  969  3035]]\n",
      "정확도: 0.6586, 정밀도: 0.1087, 재현율: 0.7580, F1: 0.1902, AUC:0.7665\n"
     ]
    }
   ],
   "source": [
    "from sklearn.ensemble import RandomForestClassifier\n",
    "\n",
    "model = RandomForestClassifier()\n",
    "model.fit(X_train, y_train)\n",
    "\n",
    "print(model.score(X_train, y_train))\n",
    "print(model.score(X_test, y_test))\n",
    "\n",
    "pred = model.predict(X_test)\n",
    "pred_proba = model.predict_proba(X_test)[:,1]\n",
    "\n",
    "get_clf_eval(y_test, pred, pred_proba)"
   ]
  },
  {
   "cell_type": "markdown",
   "id": "56f92f4d",
   "metadata": {},
   "source": [
    "# 손지호"
   ]
  },
  {
   "cell_type": "markdown",
   "id": "aa9df1a5",
   "metadata": {},
   "source": [
    "## Logistic Regression"
   ]
  },
  {
   "cell_type": "code",
   "execution_count": 12,
   "id": "cfaa4e55",
   "metadata": {
    "ExecuteTime": {
     "end_time": "2022-12-23T07:14:09.003437Z",
     "start_time": "2022-12-23T07:14:08.261998Z"
    }
   },
   "outputs": [
    {
     "name": "stdout",
     "output_type": "stream",
     "text": [
      "오차 행렬\n",
      "[[50422 21270]\n",
      " [ 1173  2865]]\n",
      "정확도: 0.7036, 정밀도: 0.1187, 재현율: 0.7095, F1: 0.2034, AUC:0.7772\n"
     ]
    }
   ],
   "source": [
    "from sklearn.linear_model import LogisticRegression\n",
    "\n",
    "model = LogisticRegression()\n",
    "model.fit(X_train, y_train)\n",
    "pred = model.predict(X_test)\n",
    "pred_proba = model.predict_proba(X_test)[:,1]\n",
    "\n",
    "get_clf_eval(y_test, pred, pred_proba)"
   ]
  },
  {
   "cell_type": "code",
   "execution_count": 27,
   "id": "5af26067-fb77-4cad-92d4-babfbc9620c4",
   "metadata": {},
   "outputs": [
    {
     "name": "stdout",
     "output_type": "stream",
     "text": [
      "0.7084812306919853\n",
      "0.707236233989172\n",
      "오차 행렬\n",
      "[[50670 20956]\n",
      " [ 1215  2889]]\n",
      "정확도: 0.7072, 정밀도: 0.1212, 재현율: 0.7039, F1: 0.2067, AUC:0.7764\n",
      "분류 임계값 : 0.5\n",
      "오차 행렬\n",
      "[[50670 20956]\n",
      " [ 1215  2889]]\n",
      "정확도: 0.7072, 정밀도: 0.1212, 재현율: 0.7039, F1: 0.2067, AUC:0.7057\n",
      "분류 임계값 : 0.55\n",
      "오차 행렬\n",
      "[[50670 20956]\n",
      " [ 1215  2889]]\n",
      "정확도: 0.7072, 정밀도: 0.1212, 재현율: 0.7039, F1: 0.2067, AUC:0.7003\n",
      "분류 임계값 : 0.6\n",
      "오차 행렬\n",
      "[[50670 20956]\n",
      " [ 1215  2889]]\n",
      "정확도: 0.7072, 정밀도: 0.1212, 재현율: 0.7039, F1: 0.2067, AUC:0.6906\n"
     ]
    }
   ],
   "source": [
    "from sklearn.linear_model import LogisticRegression\n",
    "\n",
    "model = LogisticRegression()\n",
    "model.fit(X_train, y_train)\n",
    "print(model.score(X_train, y_train))\n",
    "print(model.score(X_test, y_test))\n",
    "\n",
    "pred = model.predict(X_test)\n",
    "pred_proba = model.predict_proba(X_test)[:,1]\n",
    "\n",
    "get_clf_eval(y_test, pred, pred_proba)\n",
    "\n",
    "# 임계값 조정\n",
    "thresholds = [0.5, 0.55, 0.6]\n",
    "get_eval_by_threshold(y_test, pred, pred_proba, thresholds)"
   ]
  },
  {
   "cell_type": "code",
   "execution_count": 28,
   "id": "f1abdc1b-8302-444e-a82e-d7340b8bcb0c",
   "metadata": {
    "tags": []
   },
   "outputs": [
    {
     "data": {
      "image/png": "[encoded data removed]",
      "text/plain": [
       "<Figure size 800x600 with 1 Axes>"
      ]
     },
     "metadata": {},
     "output_type": "display_data"
    }
   ],
   "source": [
    "# 임계값 그래프\n",
    "precision_recall_curve_plot(y_test, pred_proba)"
   ]
  },
  {
   "cell_type": "code",
   "execution_count": 34,
   "id": "3ddbcc8a-e333-4459-bdf1-a33ebc81e2a3",
   "metadata": {},
   "outputs": [
    {
     "name": "stdout",
     "output_type": "stream",
     "text": [
      "0.7084812306919853\n",
      "0.707236233989172\n",
      "오차 행렬\n",
      "[[50670 20956]\n",
      " [ 1215  2889]]\n",
      "정확도: 0.7072, 정밀도: 0.1212, 재현율: 0.7039, F1: 0.2067, AUC:0.7764\n",
      "분류 임계값 : 0.78\n",
      "오차 행렬\n",
      "[[50670 20956]\n",
      " [ 1215  2889]]\n",
      "정확도: 0.7072, 정밀도: 0.1212, 재현율: 0.7039, F1: 0.2067, AUC:0.6002\n",
      "분류 임계값 : 0.8\n",
      "오차 행렬\n",
      "[[50670 20956]\n",
      " [ 1215  2889]]\n",
      "정확도: 0.7072, 정밀도: 0.1212, 재현율: 0.7039, F1: 0.2067, AUC:0.5903\n",
      "분류 임계값 : 0.82\n",
      "오차 행렬\n",
      "[[50670 20956]\n",
      " [ 1215  2889]]\n",
      "정확도: 0.7072, 정밀도: 0.1212, 재현율: 0.7039, F1: 0.2067, AUC:0.5752\n"
     ]
    }
   ],
   "source": [
    "from sklearn.linear_model import LogisticRegression\n",
    "\n",
    "model = LogisticRegression()\n",
    "model.fit(X_train, y_train)\n",
    "print(model.score(X_train, y_train))\n",
    "print(model.score(X_test, y_test))\n",
    "\n",
    "pred = model.predict(X_test)\n",
    "pred_proba = model.predict_proba(X_test)[:,1]\n",
    "\n",
    "get_clf_eval(y_test, pred, pred_proba)\n",
    "\n",
    "# 임계값 조정\n",
    "thresholds = [0.78, 0.8, 0.82]\n",
    "get_eval_by_threshold(y_test, pred, pred_proba, thresholds)"
   ]
  },
  {
   "cell_type": "code",
   "execution_count": 21,
   "id": "930eb89b-b144-47ba-abb6-44e99b3c8b6c",
   "metadata": {},
   "outputs": [
    {
     "data": {
      "image/png": "[encoded data removed]",
      "text/plain": [
       "<Figure size 800x600 with 1 Axes>"
      ]
     },
     "metadata": {},
     "output_type": "display_data"
    }
   ],
   "source": [
    "# 임계값 그래프\n",
    "precision_recall_curve_plot(y_test, pred_proba)"
   ]
  },
  {
   "cell_type": "markdown",
   "id": "b97e52b5-22e3-4e2e-8ee5-5a277ad16bac",
   "metadata": {},
   "source": [
    "## 강의 document\n",
    "    - 머신러닝_04_1_로지스틱회귀(분류).ipynb"
   ]
  },
  {
   "cell_type": "code",
   "execution_count": 65,
   "id": "632d55cc-a891-4d64-a7db-f69b7f6d02b5",
   "metadata": {},
   "outputs": [],
   "source": [
    "# X = brfss.drop([\"HEARTDISEASE\"], axis=1)\n",
    "X = brfss.drop([\"HEARTDISEASE\", \"ALCOHOL\"], axis=1).to_numpy()\n",
    "y = brfss[\"HEARTDISEASE\"].to_numpy()"
   ]
  },
  {
   "cell_type": "code",
   "execution_count": 66,
   "id": "3d446cfb-43d5-4d1e-8389-608790ae1ce2",
   "metadata": {},
   "outputs": [],
   "source": [
    "from sklearn.model_selection import train_test_split\n",
    "\n",
    "#train_input, test_input, train_target, test_target = train_test_split(\n",
    "#    fish_input, fish_target, random_state=42)\n",
    "\n",
    "X_train, X_test, y_train, y_test = train_test_split(X, y, random_state=42)"
   ]
  },
  {
   "cell_type": "code",
   "execution_count": 67,
   "id": "2ac535d3-5d55-4ee8-a1e8-d8274f46d90c",
   "metadata": {},
   "outputs": [],
   "source": [
    "from sklearn.preprocessing import StandardScaler\n",
    "ss = StandardScaler()\n",
    "ss.fit(X_train) # 훈련세트의 통계값으로\n",
    "train_scaled = ss.transform(X_train)\n",
    "test_scaled = ss.transform(X_test) # 테스트 세트를 반환"
   ]
  },
  {
   "cell_type": "code",
   "execution_count": 71,
   "id": "eecdbe02-4fef-4949-9aca-09b3fd39a347",
   "metadata": {},
   "outputs": [
    {
     "name": "stdout",
     "output_type": "stream",
     "text": [
      "0.9397818186940109\n",
      "0.9343664828547886\n"
     ]
    }
   ],
   "source": [
    "from sklearn.neighbors import KNeighborsClassifier\n",
    "kn = KNeighborsClassifier(n_neighbors = 3)\n",
    "kn.fit(train_scaled, y_train)\n",
    "print(kn.score(train_scaled, y_train))\n",
    "print(kn.score(test_scaled, y_test))"
   ]
  },
  {
   "cell_type": "code",
   "execution_count": 72,
   "id": "528b8c9a-f05f-4739-8c8a-e336fbf2c199",
   "metadata": {},
   "outputs": [
    {
     "name": "stdout",
     "output_type": "stream",
     "text": [
      "[0. 1.]\n"
     ]
    }
   ],
   "source": [
    "print(kn.classes_)"
   ]
  },
  {
   "cell_type": "code",
   "execution_count": 73,
   "id": "4ce5ddc7-a9b8-4801-8fbd-063d5501cd36",
   "metadata": {},
   "outputs": [
    {
     "name": "stdout",
     "output_type": "stream",
     "text": [
      "[0. 0. 1. 0. 0.]\n"
     ]
    }
   ],
   "source": [
    "print(kn.predict(test_scaled[:5]))"
   ]
  },
  {
   "cell_type": "code",
   "execution_count": 74,
   "id": "f194822f-8551-4eb8-b490-1cddaf564677",
   "metadata": {},
   "outputs": [
    {
     "name": "stdout",
     "output_type": "stream",
     "text": [
      "[[0.6667 0.3333]\n",
      " [1.     0.    ]\n",
      " [0.3333 0.6667]\n",
      " [1.     0.    ]\n",
      " [1.     0.    ]]\n"
     ]
    }
   ],
   "source": [
    "import numpy as nmp\n",
    "proba = kn.predict_proba(test_scaled[:5])\n",
    "print(np.round(proba, decimals = 4))"
   ]
  },
  {
   "cell_type": "code",
   "execution_count": 75,
   "id": "1d9fd2f2-8af6-4a71-8da6-2804d15fbacf",
   "metadata": {},
   "outputs": [
    {
     "name": "stdout",
     "output_type": "stream",
     "text": [
      "[[0. 0. 0.]]\n"
     ]
    }
   ],
   "source": [
    "distance, indexes = kn.kneighbors(test_scaled[3:4])\n",
    "print(y_train[indexes])"
   ]
  },
  {
   "cell_type": "code",
   "execution_count": 77,
   "id": "fda60d56-3ea0-4ca3-a113-f8a550d49a07",
   "metadata": {},
   "outputs": [],
   "source": [
    "from sklearn.linear_model import LogisticRegression"
   ]
  },
  {
   "cell_type": "code",
   "execution_count": 78,
   "id": "927a9f07-475f-4614-8863-9fe2cc850fa1",
   "metadata": {},
   "outputs": [
    {
     "data": {
      "text/html": [
       "<style>#sk-container-id-1 {color: black;background-color: white;}#sk-container-id-1 pre{padding: 0;}#sk-container-id-1 div.sk-toggleable {background-color: white;}#sk-container-id-1 label.sk-toggleable__label {cursor: pointer;display: block;width: 100%;margin-bottom: 0;padding: 0.3em;box-sizing: border-box;text-align: center;}#sk-container-id-1 label.sk-toggleable__label-arrow:before {content: \"▸\";float: left;margin-right: 0.25em;color: #696969;}#sk-container-id-1 label.sk-toggleable__label-arrow:hover:before {color: black;}#sk-container-id-1 div.sk-estimator:hover label.sk-toggleable__label-arrow:before {color: black;}#sk-container-id-1 div.sk-toggleable__content {max-height: 0;max-width: 0;overflow: hidden;text-align: left;background-color: #f0f8ff;}#sk-container-id-1 div.sk-toggleable__content pre {margin: 0.2em;color: black;border-radius: 0.25em;background-color: #f0f8ff;}#sk-container-id-1 input.sk-toggleable__control:checked~div.sk-toggleable__content {max-height: 200px;max-width: 100%;overflow: auto;}#sk-container-id-1 input.sk-toggleable__control:checked~label.sk-toggleable__label-arrow:before {content: \"▾\";}#sk-container-id-1 div.sk-estimator input.sk-toggleable__control:checked~label.sk-toggleable__label {background-color: #d4ebff;}#sk-container-id-1 div.sk-label input.sk-toggleable__control:checked~label.sk-toggleable__label {background-color: #d4ebff;}#sk-container-id-1 input.sk-hidden--visually {border: 0;clip: rect(1px 1px 1px 1px);clip: rect(1px, 1px, 1px, 1px);height: 1px;margin: -1px;overflow: hidden;padding: 0;position: absolute;width: 1px;}#sk-container-id-1 div.sk-estimator {font-family: monospace;background-color: #f0f8ff;border: 1px dotted black;border-radius: 0.25em;box-sizing: border-box;margin-bottom: 0.5em;}#sk-container-id-1 div.sk-estimator:hover {background-color: #d4ebff;}#sk-container-id-1 div.sk-parallel-item::after {content: \"\";width: 100%;border-bottom: 1px solid gray;flex-grow: 1;}#sk-container-id-1 div.sk-label:hover label.sk-toggleable__label {background-color: #d4ebff;}#sk-container-id-1 div.sk-serial::before {content: \"\";position: absolute;border-left: 1px solid gray;box-sizing: border-box;top: 0;bottom: 0;left: 50%;z-index: 0;}#sk-container-id-1 div.sk-serial {display: flex;flex-direction: column;align-items: center;background-color: white;padding-right: 0.2em;padding-left: 0.2em;position: relative;}#sk-container-id-1 div.sk-item {position: relative;z-index: 1;}#sk-container-id-1 div.sk-parallel {display: flex;align-items: stretch;justify-content: center;background-color: white;position: relative;}#sk-container-id-1 div.sk-item::before, #sk-container-id-1 div.sk-parallel-item::before {content: \"\";position: absolute;border-left: 1px solid gray;box-sizing: border-box;top: 0;bottom: 0;left: 50%;z-index: -1;}#sk-container-id-1 div.sk-parallel-item {display: flex;flex-direction: column;z-index: 1;position: relative;background-color: white;}#sk-container-id-1 div.sk-parallel-item:first-child::after {align-self: flex-end;width: 50%;}#sk-container-id-1 div.sk-parallel-item:last-child::after {align-self: flex-start;width: 50%;}#sk-container-id-1 div.sk-parallel-item:only-child::after {width: 0;}#sk-container-id-1 div.sk-dashed-wrapped {border: 1px dashed gray;margin: 0 0.4em 0.5em 0.4em;box-sizing: border-box;padding-bottom: 0.4em;background-color: white;}#sk-container-id-1 div.sk-label label {font-family: monospace;font-weight: bold;display: inline-block;line-height: 1.2em;}#sk-container-id-1 div.sk-label-container {text-align: center;}#sk-container-id-1 div.sk-container {/* jupyter's `normalize.less` sets `[hidden] { display: none; }` but bootstrap.min.css set `[hidden] { display: none !important; }` so we also need the `!important` here to be able to override the default hidden behavior on the sphinx rendered scikit-learn.org. See: https://github.com/scikit-learn/scikit-learn/issues/21755 */display: inline-block !important;position: relative;}#sk-container-id-1 div.sk-text-repr-fallback {display: none;}</style><div id=\"sk-container-id-1\" class=\"sk-top-container\"><div class=\"sk-text-repr-fallback\"><pre>LogisticRegression(C=20, max_iter=1000)</pre><b>In a Jupyter environment, please rerun this cell to show the HTML representation or trust the notebook. <br />On GitHub, the HTML representation is unable to render, please try loading this page with nbviewer.org.</b></div><div class=\"sk-container\" hidden><div class=\"sk-item\"><div class=\"sk-estimator sk-toggleable\"><input class=\"sk-toggleable__control sk-hidden--visually\" id=\"sk-estimator-id-1\" type=\"checkbox\" checked><label for=\"sk-estimator-id-1\" class=\"sk-toggleable__label sk-toggleable__label-arrow\">LogisticRegression</label><div class=\"sk-toggleable__content\"><pre>LogisticRegression(C=20, max_iter=1000)</pre></div></div></div></div></div>"
      ],
      "text/plain": [
       "LogisticRegression(C=20, max_iter=1000)"
      ]
     },
     "execution_count": 78,
     "metadata": {},
     "output_type": "execute_result"
    }
   ],
   "source": [
    "# 규제를 좀 완화하기 위해 C=20, 충분한 반복 학습을 위해 max_iter=1000\n",
    "lr = LogisticRegression(C=20, max_iter=1000)\n",
    "lr.fit(train_scaled, y_train)"
   ]
  },
  {
   "cell_type": "code",
   "execution_count": 79,
   "id": "c93643ac-5bad-4253-8db2-457b138cdec5",
   "metadata": {},
   "outputs": [
    {
     "name": "stdout",
     "output_type": "stream",
     "text": [
      "0.9462610569609555\n",
      "0.9468318860788912\n"
     ]
    }
   ],
   "source": [
    "print(lr.score(train_scaled, y_train))\n",
    "print(lr.score(test_scaled, y_test))"
   ]
  },
  {
   "cell_type": "code",
   "execution_count": 51,
   "id": "79fce56f-5c64-4ae1-ac21-bff51dca5a80",
   "metadata": {},
   "outputs": [
    {
     "name": "stdout",
     "output_type": "stream",
     "text": [
      "[[0.827 0.173]\n",
      " [0.927 0.073]\n",
      " [0.812 0.188]\n",
      " [0.986 0.014]\n",
      " [0.989 0.011]]\n"
     ]
    }
   ],
   "source": [
    "proba = lr.predict_proba(test_scaled[:5])\n",
    "print(np.round(proba, decimals=3))"
   ]
  },
  {
   "cell_type": "code",
   "execution_count": 52,
   "id": "86aabdd8-bbf5-4d02-871e-b48ed4343624",
   "metadata": {},
   "outputs": [
    {
     "data": {
      "text/html": [
       "<div>\n",
       "<style scoped>\n",
       "    .dataframe tbody tr th:only-of-type {\n",
       "        vertical-align: middle;\n",
       "    }\n",
       "\n",
       "    .dataframe tbody tr th {\n",
       "        vertical-align: top;\n",
       "    }\n",
       "\n",
       "    .dataframe thead th {\n",
       "        text-align: right;\n",
       "    }\n",
       "</style>\n",
       "<table border=\"1\" class=\"dataframe\">\n",
       "  <thead>\n",
       "    <tr style=\"text-align: right;\">\n",
       "      <th></th>\n",
       "      <th>0.0</th>\n",
       "      <th>1.0</th>\n",
       "    </tr>\n",
       "  </thead>\n",
       "  <tbody>\n",
       "    <tr>\n",
       "      <th>0</th>\n",
       "      <td>0.827</td>\n",
       "      <td>0.173</td>\n",
       "    </tr>\n",
       "    <tr>\n",
       "      <th>1</th>\n",
       "      <td>0.927</td>\n",
       "      <td>0.073</td>\n",
       "    </tr>\n",
       "    <tr>\n",
       "      <th>2</th>\n",
       "      <td>0.812</td>\n",
       "      <td>0.188</td>\n",
       "    </tr>\n",
       "    <tr>\n",
       "      <th>3</th>\n",
       "      <td>0.986</td>\n",
       "      <td>0.014</td>\n",
       "    </tr>\n",
       "    <tr>\n",
       "      <th>4</th>\n",
       "      <td>0.989</td>\n",
       "      <td>0.011</td>\n",
       "    </tr>\n",
       "  </tbody>\n",
       "</table>\n",
       "</div>"
      ],
      "text/plain": [
       "     0.0    1.0\n",
       "0  0.827  0.173\n",
       "1  0.927  0.073\n",
       "2  0.812  0.188\n",
       "3  0.986  0.014\n",
       "4  0.989  0.011"
      ]
     },
     "execution_count": 52,
     "metadata": {},
     "output_type": "execute_result"
    }
   ],
   "source": [
    "data = np.round(proba, decimals=3)\n",
    "predict_df = pd.DataFrame(data)\n",
    "predict_df.columns = lr.classes_\n",
    "predict_df"
   ]
  },
  {
   "cell_type": "code",
   "execution_count": 53,
   "id": "6d074ac8-dbc1-4e41-83fa-c7d0850083c8",
   "metadata": {},
   "outputs": [
    {
     "data": {
      "text/plain": [
       "array([0., 1.])"
      ]
     },
     "execution_count": 53,
     "metadata": {},
     "output_type": "execute_result"
    }
   ],
   "source": [
    "# 각 열에 대한 클래스 명\n",
    "lr.classes_"
   ]
  },
  {
   "cell_type": "code",
   "execution_count": 82,
   "id": "b5505142-af47-45db-9ad7-8e80e3a7a463",
   "metadata": {},
   "outputs": [
    {
     "name": "stdout",
     "output_type": "stream",
     "text": [
      "(1, 9) (1,)\n"
     ]
    }
   ],
   "source": [
    "print(lr.coef_.shape, lr.intercept_.shape)"
   ]
  },
  {
   "cell_type": "code",
   "execution_count": 83,
   "id": "f9266937-4103-4032-800d-e5f55e1b2727",
   "metadata": {},
   "outputs": [
    {
     "name": "stdout",
     "output_type": "stream",
     "text": [
      "[-1.56522536 -2.54760358 -1.46428163 -4.23080525 -4.46713907 -3.99752276\n",
      " -3.45966742 -3.33093839 -4.40929886]\n"
     ]
    }
   ],
   "source": [
    "# 테스트데이터에 대한 z값\n",
    "decision = lr.decision_function(test_scaled[:9])\n",
    "print(decision)"
   ]
  },
  {
   "cell_type": "code",
   "execution_count": 85,
   "id": "e3890f94-0321-4916-845c-0489761f677c",
   "metadata": {},
   "outputs": [
    {
     "name": "stdout",
     "output_type": "stream",
     "text": [
      "[0.325 0.122 0.36  0.023 0.018 0.029 0.049 0.056 0.019]\n"
     ]
    }
   ],
   "source": [
    "from scipy.special import softmax\n",
    "proba = softmax(decision, axis=0)\n",
    "print(np.round(proba, decimals=3))"
   ]
  },
  {
   "cell_type": "code",
   "execution_count": null,
   "id": "3f5f6b1b-6e49-4db9-91da-288e2514a571",
   "metadata": {},
   "outputs": [],
   "source": []
  },
  {
   "cell_type": "markdown",
   "id": "a5bb5c18",
   "metadata": {},
   "source": [
    "## XGBClassifier"
   ]
  },
  {
   "cell_type": "code",
   "execution_count": 7,
   "id": "564edf20",
   "metadata": {
    "ExecuteTime": {
     "end_time": "2022-12-23T07:13:13.763247Z",
     "start_time": "2022-12-23T07:12:59.423159Z"
    },
    "tags": []
   },
   "outputs": [
    {
     "name": "stdout",
     "output_type": "stream",
     "text": [
      "0.764215930771565\n",
      "0.7545754654694309\n",
      "오차 행렬\n",
      "[[54885 16836]\n",
      " [ 1750  2259]]\n",
      "정확도: 0.7546, 정밀도: 0.1183, 재현율: 0.5635, F1: 0.1956, AUC:0.7264\n",
      "분류 임계값 : 0.5\n",
      "오차 행렬\n",
      "[[54885 16836]\n",
      " [ 1750  2259]]\n",
      "정확도: 0.7546, 정밀도: 0.1183, 재현율: 0.5635, F1: 0.1956, AUC:0.6644\n",
      "분류 임계값 : 0.55\n",
      "오차 행렬\n",
      "[[54885 16836]\n",
      " [ 1750  2259]]\n",
      "정확도: 0.7546, 정밀도: 0.1183, 재현율: 0.5635, F1: 0.1956, AUC:0.6502\n",
      "분류 임계값 : 0.6\n",
      "오차 행렬\n",
      "[[54885 16836]\n",
      " [ 1750  2259]]\n",
      "정확도: 0.7546, 정밀도: 0.1183, 재현율: 0.5635, F1: 0.1956, AUC:0.6324\n"
     ]
    }
   ],
   "source": [
    "from xgboost import XGBClassifier\n",
    "\n",
    "model = XGBClassifier()\n",
    "model.fit(X_train, y_train)\n",
    "print(model.score(X_train, y_train))\n",
    "print(model.score(X_test, y_test))\n",
    "\n",
    "pred = model.predict(X_test)\n",
    "pred_proba = model.predict_proba(X_test)[:,1]\n",
    "\n",
    "get_clf_eval(y_test, pred, pred_proba)\n",
    "\n",
    "# 임계값 조정\n",
    "thresholds = [0.5, 0.55, 0.6]\n",
    "get_eval_by_threshold(y_test, pred, pred_proba, thresholds)"
   ]
  },
  {
   "cell_type": "code",
   "execution_count": 8,
   "id": "b1da1ac6-6b9f-4588-aa55-8ee16c55d46a",
   "metadata": {
    "tags": []
   },
   "outputs": [
    {
     "data": {
      "image/png": "[encoded data removed]",
      "text/plain": [
       "<Figure size 800x600 with 1 Axes>"
      ]
     },
     "metadata": {},
     "output_type": "display_data"
    }
   ],
   "source": [
    "# 임계값 그래프\n",
    "precision_recall_curve_plot(y_test, pred_proba)"
   ]
  },
  {
   "cell_type": "code",
   "execution_count": 9,
   "id": "2c2c5b15-ebfa-40cc-bc16-ef0271e4b654",
   "metadata": {
    "tags": []
   },
   "outputs": [
    {
     "name": "stdout",
     "output_type": "stream",
     "text": [
      "0.764215930771565\n",
      "0.7545754654694309\n",
      "오차 행렬\n",
      "[[54885 16836]\n",
      " [ 1750  2259]]\n",
      "정확도: 0.7546, 정밀도: 0.1183, 재현율: 0.5635, F1: 0.1956, AUC:0.7264\n",
      "분류 임계값 : 0.66\n",
      "오차 행렬\n",
      "[[54885 16836]\n",
      " [ 1750  2259]]\n",
      "정확도: 0.7546, 정밀도: 0.1183, 재현율: 0.5635, F1: 0.1956, AUC:0.6093\n",
      "분류 임계값 : 0.71\n",
      "오차 행렬\n",
      "[[54885 16836]\n",
      " [ 1750  2259]]\n",
      "정확도: 0.7546, 정밀도: 0.1183, 재현율: 0.5635, F1: 0.1956, AUC:0.5738\n",
      "분류 임계값 : 0.76\n",
      "오차 행렬\n",
      "[[54885 16836]\n",
      " [ 1750  2259]]\n",
      "정확도: 0.7546, 정밀도: 0.1183, 재현율: 0.5635, F1: 0.1956, AUC:0.5467\n"
     ]
    }
   ],
   "source": [
    "from xgboost import XGBClassifier\n",
    "\n",
    "model = XGBClassifier()\n",
    "model.fit(X_train, y_train)\n",
    "print(model.score(X_train, y_train))\n",
    "print(model.score(X_test, y_test))\n",
    "\n",
    "pred = model.predict(X_test)\n",
    "pred_proba = model.predict_proba(X_test)[:,1]\n",
    "\n",
    "get_clf_eval(y_test, pred, pred_proba)\n",
    "\n",
    "# 임계값 조정\n",
    "thresholds = [0.66, 0.71, 0.76]\n",
    "get_eval_by_threshold(y_test, pred, pred_proba, thresholds)"
   ]
  },
  {
   "cell_type": "code",
   "execution_count": 10,
   "id": "688b0025-3a92-4012-bc67-93cc0a566c0e",
   "metadata": {
    "tags": []
   },
   "outputs": [
    {
     "data": {
      "image/png": "[encoded data removed]",
      "text/plain": [
       "<Figure size 800x600 with 1 Axes>"
      ]
     },
     "metadata": {},
     "output_type": "display_data"
    }
   ],
   "source": [
    "# 임계값 그래프\n",
    "precision_recall_curve_plot(y_test, pred_proba)"
   ]
  },
  {
   "cell_type": "markdown",
   "id": "c5b9b74e-88f0-4c3c-9221-314e53ad8f92",
   "metadata": {},
   "source": [
    "## 강의 document\n",
    "    - 머신러닝_5_3_1_XGBoost(eXtra Gradient Boost) 윗 부분"
   ]
  },
  {
   "cell_type": "code",
   "execution_count": 73,
   "id": "77ad8c83-8644-4b23-8a09-89c41485f5a7",
   "metadata": {},
   "outputs": [],
   "source": [
    "# 모듈 import\n",
    "import xgboost as xgb\n",
    "from xgboost import plot_importance\n",
    "\n",
    "import pandas as pd\n",
    "import numpy as np\n",
    "from sklearn.datasets import load_breast_cancer\n",
    "from sklearn.model_selection import train_test_split\n",
    "import warnings\n",
    "warnings.filterwarnings('ignore')"
   ]
  },
  {
   "cell_type": "code",
   "execution_count": 74,
   "id": "3fdcabfc-b167-49b5-b884-b27f1a8a423f",
   "metadata": {},
   "outputs": [],
   "source": [
    "# 데이터 세트 로딩\n",
    "dataset = brfss\n",
    "X_features = brfss.drop([\"HEARTDISEASE\", \"ALCOHOL\"], axis=1)\n",
    "y_label = brfss[\"HEARTDISEASE\"]"
   ]
  },
  {
   "cell_type": "code",
   "execution_count": 75,
   "id": "692908af-cf3f-4147-aa45-010d235b2c00",
   "metadata": {},
   "outputs": [
    {
     "data": {
      "text/html": [
       "<div>\n",
       "<style scoped>\n",
       "    .dataframe tbody tr th:only-of-type {\n",
       "        vertical-align: middle;\n",
       "    }\n",
       "\n",
       "    .dataframe tbody tr th {\n",
       "        vertical-align: top;\n",
       "    }\n",
       "\n",
       "    .dataframe thead th {\n",
       "        text-align: right;\n",
       "    }\n",
       "</style>\n",
       "<table border=\"1\" class=\"dataframe\">\n",
       "  <thead>\n",
       "    <tr style=\"text-align: right;\">\n",
       "      <th></th>\n",
       "      <th>HEARTDISEASE</th>\n",
       "      <th>SEX</th>\n",
       "      <th>HEIGHT</th>\n",
       "      <th>WEIGHT</th>\n",
       "      <th>BLIND</th>\n",
       "      <th>DEAF</th>\n",
       "      <th>DIABETE</th>\n",
       "      <th>HYPERTENSION</th>\n",
       "      <th>KIDNEY</th>\n",
       "      <th>ALCOHOL</th>\n",
       "      <th>SMOKE</th>\n",
       "      <th>target</th>\n",
       "    </tr>\n",
       "  </thead>\n",
       "  <tbody>\n",
       "    <tr>\n",
       "      <th>0</th>\n",
       "      <td>NaN</td>\n",
       "      <td>0</td>\n",
       "      <td>145.0</td>\n",
       "      <td>30.0</td>\n",
       "      <td>0.0</td>\n",
       "      <td>0.0</td>\n",
       "      <td>0.0</td>\n",
       "      <td>0.0</td>\n",
       "      <td>0.0</td>\n",
       "      <td>NaN</td>\n",
       "      <td>1.0</td>\n",
       "      <td>0.0</td>\n",
       "    </tr>\n",
       "    <tr>\n",
       "      <th>1</th>\n",
       "      <td>NaN</td>\n",
       "      <td>0</td>\n",
       "      <td>165.0</td>\n",
       "      <td>75.0</td>\n",
       "      <td>0.0</td>\n",
       "      <td>0.0</td>\n",
       "      <td>1.0</td>\n",
       "      <td>1.0</td>\n",
       "      <td>0.0</td>\n",
       "      <td>NaN</td>\n",
       "      <td>0.0</td>\n",
       "      <td>0.0</td>\n",
       "    </tr>\n",
       "    <tr>\n",
       "      <th>2</th>\n",
       "      <td>NaN</td>\n",
       "      <td>0</td>\n",
       "      <td>160.0</td>\n",
       "      <td>85.0</td>\n",
       "      <td>0.0</td>\n",
       "      <td>0.0</td>\n",
       "      <td>1.0</td>\n",
       "      <td>1.0</td>\n",
       "      <td>0.0</td>\n",
       "      <td>NaN</td>\n",
       "      <td>0.0</td>\n",
       "      <td>0.0</td>\n",
       "    </tr>\n",
       "  </tbody>\n",
       "</table>\n",
       "</div>"
      ],
      "text/plain": [
       "   HEARTDISEASE  SEX  HEIGHT  WEIGHT  BLIND  DEAF  DIABETE  HYPERTENSION  \\\n",
       "0           NaN    0   145.0    30.0    0.0   0.0      0.0           0.0   \n",
       "1           NaN    0   165.0    75.0    0.0   0.0      1.0           1.0   \n",
       "2           NaN    0   160.0    85.0    0.0   0.0      1.0           1.0   \n",
       "\n",
       "   KIDNEY  ALCOHOL  SMOKE  target  \n",
       "0     0.0      NaN    1.0     0.0  \n",
       "1     0.0      NaN    0.0     0.0  \n",
       "2     0.0      NaN    0.0     0.0  "
      ]
     },
     "execution_count": 75,
     "metadata": {},
     "output_type": "execute_result"
    }
   ],
   "source": [
    "# 데이터 확인하기 위해 데이터 프레임으로 생성\n",
    "cancer_df = pd.DataFrame(data=X_features, columns=dataset.columns)\n",
    "cancer_df['target']= y_label # 맨 마지막에 target 열 추가\n",
    "cancer_df.head(3)\n",
    "\n",
    "# target : 0 악성, 1 양성"
   ]
  },
  {
   "cell_type": "code",
   "execution_count": 76,
   "id": "2de5bc9f-a129-4b2c-abd5-37f3bb1a5eab",
   "metadata": {},
   "outputs": [
    {
     "name": "stdout",
     "output_type": "stream",
     "text": [
      "RangeIndex(start=0, stop=378646, step=1)\n",
      "0.0    358424\n",
      "1.0     20222\n",
      "Name: target, dtype: int64\n"
     ]
    }
   ],
   "source": [
    "# 레이블 값 분포 확인\n",
    "print(dataset.index)\n",
    "print(cancer_df['target'].value_counts())"
   ]
  },
  {
   "cell_type": "code",
   "execution_count": 77,
   "id": "4a33911b-db55-494c-bc75-ce1e22fcebb9",
   "metadata": {},
   "outputs": [
    {
     "data": {
      "text/plain": [
       "0.0    286675\n",
       "1.0    286675\n",
       "Name: HEARTDISEASE, dtype: int64"
      ]
     },
     "execution_count": 77,
     "metadata": {},
     "output_type": "execute_result"
    }
   ],
   "source": [
    "from sklearn.model_selection import train_test_split\n",
    "from imblearn.over_sampling import SMOTE\n",
    "from sklearn.preprocessing import StandardScaler, MinMaxScaler\n",
    "\n",
    "X_train, X_test, y_train, y_test = train_test_split(X, y, test_size=.2)\n",
    "\n",
    "# scaler\n",
    "#scaler = StandardScaler()\n",
    "# scaler = MinMaxScaler()\n",
    "#scaler.fit(X_train)\n",
    "#X_train = scaler.transform(X_train)\n",
    "#X_test = scaler.transform(X_test)\n",
    "\n",
    "# smote\n",
    "smote = SMOTE()\n",
    "X_train, y_train = smote.fit_resample(X_train, y_train)\n",
    "y_train.value_counts()"
   ]
  },
  {
   "cell_type": "code",
   "execution_count": 78,
   "id": "3133284e-444a-46b3-aae0-367aa9a226bb",
   "metadata": {},
   "outputs": [],
   "source": [
    "# 학습용/테스트용 모두 변환해야 함\n",
    "#dtrain = xgb.DMatrix(data=X_train, label=y_train,\n",
    "#                     columns=dataset.columns)\n",
    "#dtest = xgb.DMatrix(data=X_test, label=y_test,\n",
    "#                     columns=dataset.columns)\n",
    "dtrain = xgb.DMatrix(data = X_train, label = y_train)\n",
    "dtest = xgb.DMatrix(data = X_test, label = y_test)"
   ]
  },
  {
   "cell_type": "code",
   "execution_count": 79,
   "id": "abee1747-49da-474d-a59a-93af46bca1f6",
   "metadata": {},
   "outputs": [],
   "source": [
    "# 파라미터 설정\n",
    "params = {'max_depth': [3,5],\n",
    "          'eta':[0.1, 0.2], #learning_rate\n",
    "          'objective':'binary:logistic',\n",
    "          'eval_metric':'logloss',\n",
    "          'silent':0,\n",
    "          'vervosity':0}\n",
    "# 모델갯수\n",
    "num_rounds = 400"
   ]
  },
  {
   "cell_type": "code",
   "execution_count": 80,
   "id": "408e5dad-b192-472c-aad9-7bf39644afb5",
   "metadata": {},
   "outputs": [],
   "source": [
    "## train 데이터 셋은 ‘train’ , evaluation 데이터 셋은 ‘eval'로 명기\n",
    "wlist = [(dtrain,'train'),(dtest,'eval') ] # eval 평가용"
   ]
  },
  {
   "cell_type": "code",
   "execution_count": 81,
   "id": "84660cf1-ce34-407e-9cae-2be02925b008",
   "metadata": {
    "tags": []
   },
   "outputs": [
    {
     "ename": "XGBoostError",
     "evalue": "Invalid Parameter format for learning_rate expect float but value='[0.1, 0.2]'",
     "output_type": "error",
     "traceback": [
      "\u001b[1;31m---------------------------------------------------------------------------\u001b[0m",
      "\u001b[1;31mXGBoostError\u001b[0m                              Traceback (most recent call last)",
      "Cell \u001b[1;32mIn [81], line 2\u001b[0m\n\u001b[0;32m      1\u001b[0m \u001b[38;5;66;03m# 모델학습\u001b[39;00m\n\u001b[1;32m----> 2\u001b[0m xgb_model \u001b[38;5;241m=\u001b[39m \u001b[43mxgb\u001b[49m\u001b[38;5;241;43m.\u001b[39;49m\u001b[43mtrain\u001b[49m\u001b[43m(\u001b[49m\u001b[43mparams\u001b[49m\u001b[38;5;241;43m=\u001b[39;49m\u001b[43mparams\u001b[49m\u001b[43m,\u001b[49m\n\u001b[0;32m      3\u001b[0m \u001b[43m                      \u001b[49m\u001b[43mdtrain\u001b[49m\u001b[38;5;241;43m=\u001b[39;49m\u001b[43mdtrain\u001b[49m\u001b[43m,\u001b[49m\n\u001b[0;32m      4\u001b[0m \u001b[43m                      \u001b[49m\u001b[43mnum_boost_round\u001b[49m\u001b[38;5;241;43m=\u001b[39;49m\u001b[43mnum_rounds\u001b[49m\u001b[43m,\u001b[49m\n\u001b[0;32m      5\u001b[0m \u001b[43m                      \u001b[49m\u001b[43mearly_stopping_rounds\u001b[49m\u001b[38;5;241;43m=\u001b[39;49m\u001b[38;5;241;43m100\u001b[39;49m\u001b[43m,\u001b[49m\n\u001b[0;32m      6\u001b[0m \u001b[43m                      \u001b[49m\u001b[43mevals\u001b[49m\u001b[38;5;241;43m=\u001b[39;49m\u001b[43mwlist\u001b[49m\u001b[43m)\u001b[49m\n",
      "File \u001b[1;32m~\\Anaconda3\\envs\\data_venv\\lib\\site-packages\\xgboost\\core.py:620\u001b[0m, in \u001b[0;36mrequire_keyword_args.<locals>.throw_if.<locals>.inner_f\u001b[1;34m(*args, **kwargs)\u001b[0m\n\u001b[0;32m    618\u001b[0m \u001b[38;5;28;01mfor\u001b[39;00m k, arg \u001b[38;5;129;01min\u001b[39;00m \u001b[38;5;28mzip\u001b[39m(sig\u001b[38;5;241m.\u001b[39mparameters, args):\n\u001b[0;32m    619\u001b[0m     kwargs[k] \u001b[38;5;241m=\u001b[39m arg\n\u001b[1;32m--> 620\u001b[0m \u001b[38;5;28;01mreturn\u001b[39;00m func(\u001b[38;5;241m*\u001b[39m\u001b[38;5;241m*\u001b[39mkwargs)\n",
      "File \u001b[1;32m~\\Anaconda3\\envs\\data_venv\\lib\\site-packages\\xgboost\\training.py:180\u001b[0m, in \u001b[0;36mtrain\u001b[1;34m(params, dtrain, num_boost_round, evals, obj, feval, maximize, early_stopping_rounds, evals_result, verbose_eval, xgb_model, callbacks, custom_metric)\u001b[0m\n\u001b[0;32m    168\u001b[0m     callbacks\u001b[38;5;241m.\u001b[39mappend(\n\u001b[0;32m    169\u001b[0m         EarlyStopping(rounds\u001b[38;5;241m=\u001b[39mearly_stopping_rounds, maximize\u001b[38;5;241m=\u001b[39mmaximize)\n\u001b[0;32m    170\u001b[0m     )\n\u001b[0;32m    171\u001b[0m cb_container \u001b[38;5;241m=\u001b[39m CallbackContainer(\n\u001b[0;32m    172\u001b[0m     callbacks,\n\u001b[0;32m    173\u001b[0m     metric\u001b[38;5;241m=\u001b[39mmetric_fn,\n\u001b[1;32m   (...)\u001b[0m\n\u001b[0;32m    177\u001b[0m     output_margin\u001b[38;5;241m=\u001b[39mcallable(obj) \u001b[38;5;129;01mor\u001b[39;00m metric_fn \u001b[38;5;129;01mis\u001b[39;00m feval,\n\u001b[0;32m    178\u001b[0m )\n\u001b[1;32m--> 180\u001b[0m bst \u001b[38;5;241m=\u001b[39m \u001b[43mcb_container\u001b[49m\u001b[38;5;241;43m.\u001b[39;49m\u001b[43mbefore_training\u001b[49m\u001b[43m(\u001b[49m\u001b[43mbst\u001b[49m\u001b[43m)\u001b[49m\n\u001b[0;32m    182\u001b[0m \u001b[38;5;28;01mfor\u001b[39;00m i \u001b[38;5;129;01min\u001b[39;00m \u001b[38;5;28mrange\u001b[39m(start_iteration, num_boost_round):\n\u001b[0;32m    183\u001b[0m     \u001b[38;5;28;01mif\u001b[39;00m cb_container\u001b[38;5;241m.\u001b[39mbefore_iteration(bst, i, dtrain, evals):\n",
      "File \u001b[1;32m~\\Anaconda3\\envs\\data_venv\\lib\\site-packages\\xgboost\\callback.py:148\u001b[0m, in \u001b[0;36mCallbackContainer.before_training\u001b[1;34m(self, model)\u001b[0m\n\u001b[0;32m    146\u001b[0m \u001b[38;5;124;03m'''Function called before training.'''\u001b[39;00m\n\u001b[0;32m    147\u001b[0m \u001b[38;5;28;01mfor\u001b[39;00m c \u001b[38;5;129;01min\u001b[39;00m \u001b[38;5;28mself\u001b[39m\u001b[38;5;241m.\u001b[39mcallbacks:\n\u001b[1;32m--> 148\u001b[0m     model \u001b[38;5;241m=\u001b[39m \u001b[43mc\u001b[49m\u001b[38;5;241;43m.\u001b[39;49m\u001b[43mbefore_training\u001b[49m\u001b[43m(\u001b[49m\u001b[43mmodel\u001b[49m\u001b[38;5;241;43m=\u001b[39;49m\u001b[43mmodel\u001b[49m\u001b[43m)\u001b[49m\n\u001b[0;32m    149\u001b[0m     msg \u001b[38;5;241m=\u001b[39m \u001b[38;5;124m'\u001b[39m\u001b[38;5;124mbefore_training should return the model\u001b[39m\u001b[38;5;124m'\u001b[39m\n\u001b[0;32m    150\u001b[0m     \u001b[38;5;28;01mif\u001b[39;00m \u001b[38;5;28mself\u001b[39m\u001b[38;5;241m.\u001b[39mis_cv:\n",
      "File \u001b[1;32m~\\Anaconda3\\envs\\data_venv\\lib\\site-packages\\xgboost\\callback.py:350\u001b[0m, in \u001b[0;36mEarlyStopping.before_training\u001b[1;34m(self, model)\u001b[0m\n\u001b[0;32m    349\u001b[0m \u001b[38;5;28;01mdef\u001b[39;00m \u001b[38;5;21mbefore_training\u001b[39m(\u001b[38;5;28mself\u001b[39m, model: _Model) \u001b[38;5;241m-\u001b[39m\u001b[38;5;241m>\u001b[39m _Model:\n\u001b[1;32m--> 350\u001b[0m     \u001b[38;5;28mself\u001b[39m\u001b[38;5;241m.\u001b[39mstarting_round \u001b[38;5;241m=\u001b[39m \u001b[43mmodel\u001b[49m\u001b[38;5;241;43m.\u001b[39;49m\u001b[43mnum_boosted_rounds\u001b[49m\u001b[43m(\u001b[49m\u001b[43m)\u001b[49m\n\u001b[0;32m    351\u001b[0m     \u001b[38;5;28;01mreturn\u001b[39;00m model\n",
      "File \u001b[1;32m~\\Anaconda3\\envs\\data_venv\\lib\\site-packages\\xgboost\\core.py:2466\u001b[0m, in \u001b[0;36mBooster.num_boosted_rounds\u001b[1;34m(self)\u001b[0m\n\u001b[0;32m   2464\u001b[0m rounds \u001b[38;5;241m=\u001b[39m ctypes\u001b[38;5;241m.\u001b[39mc_int()\n\u001b[0;32m   2465\u001b[0m \u001b[38;5;28;01massert\u001b[39;00m \u001b[38;5;28mself\u001b[39m\u001b[38;5;241m.\u001b[39mhandle \u001b[38;5;129;01mis\u001b[39;00m \u001b[38;5;129;01mnot\u001b[39;00m \u001b[38;5;28;01mNone\u001b[39;00m\n\u001b[1;32m-> 2466\u001b[0m \u001b[43m_check_call\u001b[49m\u001b[43m(\u001b[49m\u001b[43m_LIB\u001b[49m\u001b[38;5;241;43m.\u001b[39;49m\u001b[43mXGBoosterBoostedRounds\u001b[49m\u001b[43m(\u001b[49m\u001b[38;5;28;43mself\u001b[39;49m\u001b[38;5;241;43m.\u001b[39;49m\u001b[43mhandle\u001b[49m\u001b[43m,\u001b[49m\u001b[43m \u001b[49m\u001b[43mctypes\u001b[49m\u001b[38;5;241;43m.\u001b[39;49m\u001b[43mbyref\u001b[49m\u001b[43m(\u001b[49m\u001b[43mrounds\u001b[49m\u001b[43m)\u001b[49m\u001b[43m)\u001b[49m\u001b[43m)\u001b[49m\n\u001b[0;32m   2467\u001b[0m \u001b[38;5;28;01mreturn\u001b[39;00m rounds\u001b[38;5;241m.\u001b[39mvalue\n",
      "File \u001b[1;32m~\\Anaconda3\\envs\\data_venv\\lib\\site-packages\\xgboost\\core.py:279\u001b[0m, in \u001b[0;36m_check_call\u001b[1;34m(ret)\u001b[0m\n\u001b[0;32m    268\u001b[0m \u001b[38;5;124;03m\"\"\"Check the return value of C API call\u001b[39;00m\n\u001b[0;32m    269\u001b[0m \n\u001b[0;32m    270\u001b[0m \u001b[38;5;124;03mThis function will raise exception when error occurs.\u001b[39;00m\n\u001b[1;32m   (...)\u001b[0m\n\u001b[0;32m    276\u001b[0m \u001b[38;5;124;03m    return value from API calls\u001b[39;00m\n\u001b[0;32m    277\u001b[0m \u001b[38;5;124;03m\"\"\"\u001b[39;00m\n\u001b[0;32m    278\u001b[0m \u001b[38;5;28;01mif\u001b[39;00m ret \u001b[38;5;241m!=\u001b[39m \u001b[38;5;241m0\u001b[39m:\n\u001b[1;32m--> 279\u001b[0m     \u001b[38;5;28;01mraise\u001b[39;00m XGBoostError(py_str(_LIB\u001b[38;5;241m.\u001b[39mXGBGetLastError()))\n",
      "\u001b[1;31mXGBoostError\u001b[0m: Invalid Parameter format for learning_rate expect float but value='[0.1, 0.2]'"
     ]
    }
   ],
   "source": [
    "# 모델학습\n",
    "xgb_model = xgb.train(params=params,\n",
    "                      dtrain=dtrain,\n",
    "                      num_boost_round=num_rounds,\n",
    "                      early_stopping_rounds=100,\n",
    "                      evals=wlist)\n",
    "# 211이후 100번 더 반복 동안 성능 평가 지수가 향상되지 못해서 학습 종료 - 단 311까지 학습을 종료한 모델을 사용\n",
    "# 211이 best여도 311까지는 학습을 해야 성능을 높일 수 있음"
   ]
  },
  {
   "cell_type": "code",
   "execution_count": 21,
   "id": "a7936c8f-6035-460a-9d61-52914f101131",
   "metadata": {},
   "outputs": [
    {
     "name": "stdout",
     "output_type": "stream",
     "text": [
      "predict( ) 수행 결과값을 10개만 표시, 예측 확률 값으로 표시됨\n",
      "[0.267 0.422 0.141 0.204 0.551 0.516 0.134 0.229 0.496 0.259]\n"
     ]
    }
   ],
   "source": [
    "pred_probs = xgb_model.predict(dtest)\n",
    "print('predict( ) 수행 결과값을 10개만 표시, 예측 확률 값으로 표시됨')\n",
    "print(np.round(pred_probs[:10],3))\n"
   ]
  },
  {
   "cell_type": "code",
   "execution_count": 22,
   "id": "8bbd1f98-5d33-4577-a0ec-ca820df5b4ed",
   "metadata": {},
   "outputs": [
    {
     "name": "stdout",
     "output_type": "stream",
     "text": [
      "[0 0 0 0 1 1 0 0 0 0]\n"
     ]
    }
   ],
   "source": [
    "# 예측 확률로 예측값이 반환 되므로 임계값을 정해 0또는 1로 변환해야 함\n",
    "preds = [1 if x>0.5 else 0 for x in pred_probs]\n",
    "print(np.round(preds[:10]))"
   ]
  },
  {
   "cell_type": "markdown",
   "id": "4a317309-eb68-4d2b-b710-61b2883ca074",
   "metadata": {},
   "source": [
    "#### XGBoost 모델의 예측 성능 평가"
   ]
  },
  {
   "cell_type": "code",
   "execution_count": 23,
   "id": "8abaadc7-71c3-49c8-975d-df7e7a391906",
   "metadata": {},
   "outputs": [],
   "source": [
    "from sklearn.metrics import confusion_matrix, accuracy_score\n",
    "from sklearn.metrics import precision_score, recall_score\n",
    "from sklearn.metrics import f1_score, roc_auc_score\n",
    "\n",
    "# 수정된 get_clf_eval() 함수 \n",
    "def get_clf_eval(y_test, pred=None, pred_proba=None):\n",
    "    confusion = confusion_matrix( y_test, pred)\n",
    "    accuracy = accuracy_score(y_test , pred)\n",
    "    precision = precision_score(y_test , pred)\n",
    "    recall = recall_score(y_test , pred)\n",
    "    f1 = f1_score(y_test,pred)\n",
    "    # ROC-AUC 추가 \n",
    "    roc_auc = roc_auc_score(y_test, pred_proba)\n",
    "    print('오차 행렬')\n",
    "    print(confusion)\n",
    "    # ROC-AUC print 추가\n",
    "    print('정확도: {0:.4f}, 정밀도: {1:.4f}, 재현율: {2:.4f},\\\n",
    "    F1: {3:.4f}, AUC:{4:.4f}'.format(accuracy, precision, recall, f1, roc_auc))"
   ]
  },
  {
   "cell_type": "code",
   "execution_count": 24,
   "id": "9ae8da5b-0c81-49a3-85cf-cf2969b504c3",
   "metadata": {},
   "outputs": [
    {
     "name": "stdout",
     "output_type": "stream",
     "text": [
      "오차 행렬\n",
      "[[54497 17154]\n",
      " [ 1671  2408]]\n",
      "정확도: 0.7514, 정밀도: 0.1231, 재현율: 0.5903,    F1: 0.2037, AUC:0.7437\n"
     ]
    }
   ],
   "source": [
    "# 테스트 레이블 y_test 예측 레이블/예측확률 preds/pred_probs\n",
    "get_clf_eval(y_test,preds,pred_probs)"
   ]
  },
  {
   "cell_type": "code",
   "execution_count": 25,
   "id": "7a77dd86-e020-488b-837c-2787903456ba",
   "metadata": {},
   "outputs": [
    {
     "data": {
      "text/plain": [
       "<AxesSubplot:title={'center':'Feature importance'}, xlabel='F score', ylabel='Features'>"
      ]
     },
     "execution_count": 25,
     "metadata": {},
     "output_type": "execute_result"
    },
    {
     "data": {
      "image/png": "[encoded data removed]",
      "text/plain": [
       "<Figure size 1000x1000 with 1 Axes>"
      ]
     },
     "metadata": {},
     "output_type": "display_data"
    }
   ],
   "source": [
    "import matplotlib.pyplot as plt\n",
    "%matplotlib inline\n",
    "fig, ax = plt.subplots(figsize=(10,10)) # 1개의 그래프 공간 생성\n",
    "plot_importance(xgb_model, ax=ax)"
   ]
  },
  {
   "cell_type": "markdown",
   "id": "f95e65d9-3c2d-4fe0-af8d-9021aba1e78f",
   "metadata": {},
   "source": [
    "## 강의 document\n",
    "    - 머신러닝_5_3_1_XGBoost(eXtra Gradient Boost) 아랫 부분\n",
    "        - 사이킷런 레퍼 XGBoost 클래스인 XGBClassifier 임포트"
   ]
  },
  {
   "cell_type": "markdown",
   "id": "406cc414-82e2-4933-9642-c0daa20b27be",
   "metadata": {},
   "source": [
    "### early_stopping_rounds = 400"
   ]
  },
  {
   "cell_type": "code",
   "execution_count": 26,
   "id": "ac3bb2c2-6fbb-438c-ada8-94d136a10a76",
   "metadata": {
    "collapsed": true,
    "jupyter": {
     "outputs_hidden": true
    },
    "tags": []
   },
   "outputs": [
    {
     "name": "stdout",
     "output_type": "stream",
     "text": [
      "[0]\tvalidation_0-logloss:0.67207\n",
      "[1]\tvalidation_0-logloss:0.65500\n",
      "[2]\tvalidation_0-logloss:0.64076\n",
      "[3]\tvalidation_0-logloss:0.62885\n",
      "[4]\tvalidation_0-logloss:0.61897\n",
      "[5]\tvalidation_0-logloss:0.61018\n",
      "[6]\tvalidation_0-logloss:0.60286\n",
      "[7]\tvalidation_0-logloss:0.59667\n",
      "[8]\tvalidation_0-logloss:0.59066\n",
      "[9]\tvalidation_0-logloss:0.58597\n",
      "[10]\tvalidation_0-logloss:0.58140\n",
      "[11]\tvalidation_0-logloss:0.57770\n",
      "[12]\tvalidation_0-logloss:0.57377\n",
      "[13]\tvalidation_0-logloss:0.56951\n",
      "[14]\tvalidation_0-logloss:0.56621\n",
      "[15]\tvalidation_0-logloss:0.56298\n",
      "[16]\tvalidation_0-logloss:0.56070\n",
      "[17]\tvalidation_0-logloss:0.55760\n",
      "[18]\tvalidation_0-logloss:0.55467\n",
      "[19]\tvalidation_0-logloss:0.55201\n",
      "[20]\tvalidation_0-logloss:0.55018\n",
      "[21]\tvalidation_0-logloss:0.54747\n",
      "[22]\tvalidation_0-logloss:0.54591\n",
      "[23]\tvalidation_0-logloss:0.54419\n",
      "[24]\tvalidation_0-logloss:0.54140\n",
      "[25]\tvalidation_0-logloss:0.54023\n",
      "[26]\tvalidation_0-logloss:0.53759\n",
      "[27]\tvalidation_0-logloss:0.53611\n",
      "[28]\tvalidation_0-logloss:0.53519\n",
      "[29]\tvalidation_0-logloss:0.53289\n",
      "[30]\tvalidation_0-logloss:0.53098\n",
      "[31]\tvalidation_0-logloss:0.52986\n",
      "[32]\tvalidation_0-logloss:0.52872\n",
      "[33]\tvalidation_0-logloss:0.52650\n",
      "[34]\tvalidation_0-logloss:0.52523\n",
      "[35]\tvalidation_0-logloss:0.52431\n",
      "[36]\tvalidation_0-logloss:0.52366\n",
      "[37]\tvalidation_0-logloss:0.52180\n",
      "[38]\tvalidation_0-logloss:0.52047\n",
      "[39]\tvalidation_0-logloss:0.51939\n",
      "[40]\tvalidation_0-logloss:0.51805\n",
      "[41]\tvalidation_0-logloss:0.51721\n",
      "[42]\tvalidation_0-logloss:0.51670\n",
      "[43]\tvalidation_0-logloss:0.51508\n",
      "[44]\tvalidation_0-logloss:0.51377\n",
      "[45]\tvalidation_0-logloss:0.51305\n",
      "[46]\tvalidation_0-logloss:0.51263\n",
      "[47]\tvalidation_0-logloss:0.51162\n",
      "[48]\tvalidation_0-logloss:0.51082\n",
      "[49]\tvalidation_0-logloss:0.50998\n",
      "[50]\tvalidation_0-logloss:0.50934\n",
      "[51]\tvalidation_0-logloss:0.50827\n",
      "[52]\tvalidation_0-logloss:0.50791\n",
      "[53]\tvalidation_0-logloss:0.50737\n",
      "[54]\tvalidation_0-logloss:0.50652\n",
      "[55]\tvalidation_0-logloss:0.50553\n",
      "[56]\tvalidation_0-logloss:0.50477\n",
      "[57]\tvalidation_0-logloss:0.50458\n",
      "[58]\tvalidation_0-logloss:0.50407\n",
      "[59]\tvalidation_0-logloss:0.50334\n",
      "[60]\tvalidation_0-logloss:0.50304\n",
      "[61]\tvalidation_0-logloss:0.50193\n",
      "[62]\tvalidation_0-logloss:0.50146\n",
      "[63]\tvalidation_0-logloss:0.50102\n",
      "[64]\tvalidation_0-logloss:0.50074\n",
      "[65]\tvalidation_0-logloss:0.50034\n",
      "[66]\tvalidation_0-logloss:0.49964\n",
      "[67]\tvalidation_0-logloss:0.49947\n",
      "[68]\tvalidation_0-logloss:0.49847\n",
      "[69]\tvalidation_0-logloss:0.49808\n",
      "[70]\tvalidation_0-logloss:0.49782\n",
      "[71]\tvalidation_0-logloss:0.49720\n",
      "[72]\tvalidation_0-logloss:0.49702\n",
      "[73]\tvalidation_0-logloss:0.49688\n",
      "[74]\tvalidation_0-logloss:0.49599\n",
      "[75]\tvalidation_0-logloss:0.49582\n",
      "[76]\tvalidation_0-logloss:0.49526\n",
      "[77]\tvalidation_0-logloss:0.49526\n",
      "[78]\tvalidation_0-logloss:0.49491\n",
      "[79]\tvalidation_0-logloss:0.49413\n",
      "[80]\tvalidation_0-logloss:0.49362\n",
      "[81]\tvalidation_0-logloss:0.49339\n",
      "[82]\tvalidation_0-logloss:0.49309\n",
      "[83]\tvalidation_0-logloss:0.49299\n",
      "[84]\tvalidation_0-logloss:0.49289\n",
      "[85]\tvalidation_0-logloss:0.49248\n",
      "[86]\tvalidation_0-logloss:0.49203\n",
      "[87]\tvalidation_0-logloss:0.49182\n",
      "[88]\tvalidation_0-logloss:0.49135\n",
      "[89]\tvalidation_0-logloss:0.49102\n",
      "[90]\tvalidation_0-logloss:0.49096\n",
      "[91]\tvalidation_0-logloss:0.49060\n",
      "[92]\tvalidation_0-logloss:0.49043\n",
      "[93]\tvalidation_0-logloss:0.48995\n",
      "[94]\tvalidation_0-logloss:0.48988\n",
      "[95]\tvalidation_0-logloss:0.48926\n",
      "[96]\tvalidation_0-logloss:0.48920\n",
      "[97]\tvalidation_0-logloss:0.48920\n",
      "[98]\tvalidation_0-logloss:0.48904\n",
      "[99]\tvalidation_0-logloss:0.48903\n",
      "[100]\tvalidation_0-logloss:0.48862\n",
      "[101]\tvalidation_0-logloss:0.48821\n",
      "[102]\tvalidation_0-logloss:0.48791\n",
      "[103]\tvalidation_0-logloss:0.48761\n",
      "[104]\tvalidation_0-logloss:0.48727\n",
      "[105]\tvalidation_0-logloss:0.48713\n",
      "[106]\tvalidation_0-logloss:0.48713\n",
      "[107]\tvalidation_0-logloss:0.48677\n",
      "[108]\tvalidation_0-logloss:0.48676\n",
      "[109]\tvalidation_0-logloss:0.48644\n",
      "[110]\tvalidation_0-logloss:0.48632\n",
      "[111]\tvalidation_0-logloss:0.48607\n",
      "[112]\tvalidation_0-logloss:0.48581\n",
      "[113]\tvalidation_0-logloss:0.48556\n",
      "[114]\tvalidation_0-logloss:0.48550\n",
      "[115]\tvalidation_0-logloss:0.48531\n",
      "[116]\tvalidation_0-logloss:0.48526\n",
      "[117]\tvalidation_0-logloss:0.48494\n",
      "[118]\tvalidation_0-logloss:0.48468\n",
      "[119]\tvalidation_0-logloss:0.48454\n",
      "[120]\tvalidation_0-logloss:0.48451\n",
      "[121]\tvalidation_0-logloss:0.48447\n",
      "[122]\tvalidation_0-logloss:0.48421\n",
      "[123]\tvalidation_0-logloss:0.48421\n",
      "[124]\tvalidation_0-logloss:0.48393\n",
      "[125]\tvalidation_0-logloss:0.48380\n",
      "[126]\tvalidation_0-logloss:0.48378\n",
      "[127]\tvalidation_0-logloss:0.48376\n",
      "[128]\tvalidation_0-logloss:0.48373\n",
      "[129]\tvalidation_0-logloss:0.48352\n",
      "[130]\tvalidation_0-logloss:0.48331\n",
      "[131]\tvalidation_0-logloss:0.48330\n",
      "[132]\tvalidation_0-logloss:0.48330\n",
      "[133]\tvalidation_0-logloss:0.48307\n",
      "[134]\tvalidation_0-logloss:0.48286\n",
      "[135]\tvalidation_0-logloss:0.48286\n",
      "[136]\tvalidation_0-logloss:0.48285\n",
      "[137]\tvalidation_0-logloss:0.48256\n",
      "[138]\tvalidation_0-logloss:0.48236\n",
      "[139]\tvalidation_0-logloss:0.48235\n",
      "[140]\tvalidation_0-logloss:0.48235\n",
      "[141]\tvalidation_0-logloss:0.48214\n",
      "[142]\tvalidation_0-logloss:0.48204\n",
      "[143]\tvalidation_0-logloss:0.48204\n",
      "[144]\tvalidation_0-logloss:0.48180\n",
      "[145]\tvalidation_0-logloss:0.48166\n",
      "[146]\tvalidation_0-logloss:0.48140\n",
      "[147]\tvalidation_0-logloss:0.48140\n",
      "[148]\tvalidation_0-logloss:0.48139\n",
      "[149]\tvalidation_0-logloss:0.48129\n",
      "[150]\tvalidation_0-logloss:0.48127\n",
      "[151]\tvalidation_0-logloss:0.48110\n",
      "[152]\tvalidation_0-logloss:0.48094\n",
      "[153]\tvalidation_0-logloss:0.48094\n",
      "[154]\tvalidation_0-logloss:0.48076\n",
      "[155]\tvalidation_0-logloss:0.48075\n",
      "[156]\tvalidation_0-logloss:0.48075\n",
      "[157]\tvalidation_0-logloss:0.48066\n",
      "[158]\tvalidation_0-logloss:0.48051\n",
      "[159]\tvalidation_0-logloss:0.48052\n",
      "[160]\tvalidation_0-logloss:0.48052\n",
      "[161]\tvalidation_0-logloss:0.48052\n",
      "[162]\tvalidation_0-logloss:0.48028\n",
      "[163]\tvalidation_0-logloss:0.48013\n",
      "[164]\tvalidation_0-logloss:0.48013\n",
      "[165]\tvalidation_0-logloss:0.48001\n",
      "[166]\tvalidation_0-logloss:0.47981\n",
      "[167]\tvalidation_0-logloss:0.47967\n",
      "[168]\tvalidation_0-logloss:0.47955\n",
      "[169]\tvalidation_0-logloss:0.47956\n",
      "[170]\tvalidation_0-logloss:0.47942\n",
      "[171]\tvalidation_0-logloss:0.47941\n",
      "[172]\tvalidation_0-logloss:0.47928\n",
      "[173]\tvalidation_0-logloss:0.47929\n",
      "[174]\tvalidation_0-logloss:0.47912\n",
      "[175]\tvalidation_0-logloss:0.47914\n",
      "[176]\tvalidation_0-logloss:0.47914\n",
      "[177]\tvalidation_0-logloss:0.47903\n",
      "[178]\tvalidation_0-logloss:0.47903\n",
      "[179]\tvalidation_0-logloss:0.47904\n",
      "[180]\tvalidation_0-logloss:0.47903\n",
      "[181]\tvalidation_0-logloss:0.47884\n",
      "[182]\tvalidation_0-logloss:0.47869\n",
      "[183]\tvalidation_0-logloss:0.47850\n",
      "[184]\tvalidation_0-logloss:0.47840\n",
      "[185]\tvalidation_0-logloss:0.47840\n",
      "[186]\tvalidation_0-logloss:0.47836\n",
      "[187]\tvalidation_0-logloss:0.47827\n",
      "[188]\tvalidation_0-logloss:0.47828\n",
      "[189]\tvalidation_0-logloss:0.47829\n",
      "[190]\tvalidation_0-logloss:0.47828\n",
      "[191]\tvalidation_0-logloss:0.47825\n",
      "[192]\tvalidation_0-logloss:0.47808\n",
      "[193]\tvalidation_0-logloss:0.47789\n",
      "[194]\tvalidation_0-logloss:0.47783\n",
      "[195]\tvalidation_0-logloss:0.47784\n",
      "[196]\tvalidation_0-logloss:0.47784\n",
      "[197]\tvalidation_0-logloss:0.47775\n",
      "[198]\tvalidation_0-logloss:0.47765\n",
      "[199]\tvalidation_0-logloss:0.47766\n",
      "[200]\tvalidation_0-logloss:0.47766\n",
      "[201]\tvalidation_0-logloss:0.47748\n",
      "[202]\tvalidation_0-logloss:0.47748\n",
      "[203]\tvalidation_0-logloss:0.47747\n",
      "[204]\tvalidation_0-logloss:0.47749\n",
      "[205]\tvalidation_0-logloss:0.47738\n",
      "[206]\tvalidation_0-logloss:0.47729\n",
      "[207]\tvalidation_0-logloss:0.47711\n",
      "[208]\tvalidation_0-logloss:0.47712\n",
      "[209]\tvalidation_0-logloss:0.47712\n",
      "[210]\tvalidation_0-logloss:0.47710\n",
      "[211]\tvalidation_0-logloss:0.47711\n",
      "[212]\tvalidation_0-logloss:0.47710\n",
      "[213]\tvalidation_0-logloss:0.47708\n",
      "[214]\tvalidation_0-logloss:0.47681\n",
      "[215]\tvalidation_0-logloss:0.47681\n",
      "[216]\tvalidation_0-logloss:0.47681\n",
      "[217]\tvalidation_0-logloss:0.47683\n",
      "[218]\tvalidation_0-logloss:0.47682\n",
      "[219]\tvalidation_0-logloss:0.47675\n",
      "[220]\tvalidation_0-logloss:0.47676\n",
      "[221]\tvalidation_0-logloss:0.47661\n",
      "[222]\tvalidation_0-logloss:0.47659\n",
      "[223]\tvalidation_0-logloss:0.47658\n",
      "[224]\tvalidation_0-logloss:0.47651\n",
      "[225]\tvalidation_0-logloss:0.47639\n",
      "[226]\tvalidation_0-logloss:0.47639\n",
      "[227]\tvalidation_0-logloss:0.47636\n",
      "[228]\tvalidation_0-logloss:0.47635\n",
      "[229]\tvalidation_0-logloss:0.47635\n",
      "[230]\tvalidation_0-logloss:0.47624\n",
      "[231]\tvalidation_0-logloss:0.47623\n",
      "[232]\tvalidation_0-logloss:0.47623\n",
      "[233]\tvalidation_0-logloss:0.47622\n",
      "[234]\tvalidation_0-logloss:0.47622\n",
      "[235]\tvalidation_0-logloss:0.47621\n",
      "[236]\tvalidation_0-logloss:0.47621\n",
      "[237]\tvalidation_0-logloss:0.47611\n",
      "[238]\tvalidation_0-logloss:0.47611\n",
      "[239]\tvalidation_0-logloss:0.47611\n",
      "[240]\tvalidation_0-logloss:0.47589\n",
      "[241]\tvalidation_0-logloss:0.47582\n",
      "[242]\tvalidation_0-logloss:0.47583\n",
      "[243]\tvalidation_0-logloss:0.47581\n",
      "[244]\tvalidation_0-logloss:0.47580\n",
      "[245]\tvalidation_0-logloss:0.47580\n",
      "[246]\tvalidation_0-logloss:0.47580\n",
      "[247]\tvalidation_0-logloss:0.47579\n",
      "[248]\tvalidation_0-logloss:0.47579\n",
      "[249]\tvalidation_0-logloss:0.47579\n",
      "[250]\tvalidation_0-logloss:0.47579\n",
      "[251]\tvalidation_0-logloss:0.47565\n",
      "[252]\tvalidation_0-logloss:0.47559\n",
      "[253]\tvalidation_0-logloss:0.47559\n",
      "[254]\tvalidation_0-logloss:0.47559\n",
      "[255]\tvalidation_0-logloss:0.47559\n",
      "[256]\tvalidation_0-logloss:0.47558\n",
      "[257]\tvalidation_0-logloss:0.47557\n",
      "[258]\tvalidation_0-logloss:0.47557\n",
      "[259]\tvalidation_0-logloss:0.47557\n",
      "[260]\tvalidation_0-logloss:0.47555\n",
      "[261]\tvalidation_0-logloss:0.47554\n",
      "[262]\tvalidation_0-logloss:0.47554\n",
      "[263]\tvalidation_0-logloss:0.47555\n",
      "[264]\tvalidation_0-logloss:0.47545\n",
      "[265]\tvalidation_0-logloss:0.47545\n",
      "[266]\tvalidation_0-logloss:0.47537\n",
      "[267]\tvalidation_0-logloss:0.47537\n",
      "[268]\tvalidation_0-logloss:0.47518\n",
      "[269]\tvalidation_0-logloss:0.47513\n",
      "[270]\tvalidation_0-logloss:0.47512\n",
      "[271]\tvalidation_0-logloss:0.47512\n",
      "[272]\tvalidation_0-logloss:0.47512\n",
      "[273]\tvalidation_0-logloss:0.47506\n",
      "[274]\tvalidation_0-logloss:0.47506\n",
      "[275]\tvalidation_0-logloss:0.47506\n",
      "[276]\tvalidation_0-logloss:0.47501\n",
      "[277]\tvalidation_0-logloss:0.47502\n",
      "[278]\tvalidation_0-logloss:0.47502\n",
      "[279]\tvalidation_0-logloss:0.47494\n",
      "[280]\tvalidation_0-logloss:0.47493\n",
      "[281]\tvalidation_0-logloss:0.47493\n",
      "[282]\tvalidation_0-logloss:0.47493\n",
      "[283]\tvalidation_0-logloss:0.47494\n",
      "[284]\tvalidation_0-logloss:0.47494\n",
      "[285]\tvalidation_0-logloss:0.47485\n",
      "[286]\tvalidation_0-logloss:0.47476\n",
      "[287]\tvalidation_0-logloss:0.47476\n",
      "[288]\tvalidation_0-logloss:0.47468\n",
      "[289]\tvalidation_0-logloss:0.47466\n",
      "[290]\tvalidation_0-logloss:0.47466\n",
      "[291]\tvalidation_0-logloss:0.47461\n",
      "[292]\tvalidation_0-logloss:0.47461\n",
      "[293]\tvalidation_0-logloss:0.47461\n",
      "[294]\tvalidation_0-logloss:0.47459\n",
      "[295]\tvalidation_0-logloss:0.47454\n",
      "[296]\tvalidation_0-logloss:0.47451\n",
      "[297]\tvalidation_0-logloss:0.47448\n",
      "[298]\tvalidation_0-logloss:0.47432\n",
      "[299]\tvalidation_0-logloss:0.47428\n",
      "[300]\tvalidation_0-logloss:0.47429\n",
      "[301]\tvalidation_0-logloss:0.47429\n",
      "[302]\tvalidation_0-logloss:0.47428\n",
      "[303]\tvalidation_0-logloss:0.47428\n",
      "[304]\tvalidation_0-logloss:0.47424\n",
      "[305]\tvalidation_0-logloss:0.47420\n",
      "[306]\tvalidation_0-logloss:0.47419\n",
      "[307]\tvalidation_0-logloss:0.47420\n",
      "[308]\tvalidation_0-logloss:0.47420\n",
      "[309]\tvalidation_0-logloss:0.47406\n",
      "[310]\tvalidation_0-logloss:0.47406\n",
      "[311]\tvalidation_0-logloss:0.47407\n",
      "[312]\tvalidation_0-logloss:0.47407\n",
      "[313]\tvalidation_0-logloss:0.47406\n",
      "[314]\tvalidation_0-logloss:0.47407\n",
      "[315]\tvalidation_0-logloss:0.47407\n",
      "[316]\tvalidation_0-logloss:0.47401\n",
      "[317]\tvalidation_0-logloss:0.47396\n",
      "[318]\tvalidation_0-logloss:0.47392\n",
      "[319]\tvalidation_0-logloss:0.47390\n",
      "[320]\tvalidation_0-logloss:0.47390\n",
      "[321]\tvalidation_0-logloss:0.47391\n",
      "[322]\tvalidation_0-logloss:0.47390\n",
      "[323]\tvalidation_0-logloss:0.47391\n",
      "[324]\tvalidation_0-logloss:0.47392\n",
      "[325]\tvalidation_0-logloss:0.47392\n",
      "[326]\tvalidation_0-logloss:0.47384\n",
      "[327]\tvalidation_0-logloss:0.47377\n",
      "[328]\tvalidation_0-logloss:0.47378\n",
      "[329]\tvalidation_0-logloss:0.47378\n",
      "[330]\tvalidation_0-logloss:0.47379\n",
      "[331]\tvalidation_0-logloss:0.47373\n",
      "[332]\tvalidation_0-logloss:0.47372\n",
      "[333]\tvalidation_0-logloss:0.47373\n",
      "[334]\tvalidation_0-logloss:0.47372\n",
      "[335]\tvalidation_0-logloss:0.47364\n",
      "[336]\tvalidation_0-logloss:0.47364\n",
      "[337]\tvalidation_0-logloss:0.47360\n",
      "[338]\tvalidation_0-logloss:0.47360\n",
      "[339]\tvalidation_0-logloss:0.47359\n",
      "[340]\tvalidation_0-logloss:0.47359\n",
      "[341]\tvalidation_0-logloss:0.47359\n",
      "[342]\tvalidation_0-logloss:0.47359\n",
      "[343]\tvalidation_0-logloss:0.47356\n",
      "[344]\tvalidation_0-logloss:0.47357\n",
      "[345]\tvalidation_0-logloss:0.47356\n",
      "[346]\tvalidation_0-logloss:0.47356\n",
      "[347]\tvalidation_0-logloss:0.47356\n",
      "[348]\tvalidation_0-logloss:0.47352\n",
      "[349]\tvalidation_0-logloss:0.47352\n",
      "[350]\tvalidation_0-logloss:0.47353\n",
      "[351]\tvalidation_0-logloss:0.47352\n",
      "[352]\tvalidation_0-logloss:0.47352\n",
      "[353]\tvalidation_0-logloss:0.47349\n",
      "[354]\tvalidation_0-logloss:0.47350\n",
      "[355]\tvalidation_0-logloss:0.47350\n",
      "[356]\tvalidation_0-logloss:0.47349\n",
      "[357]\tvalidation_0-logloss:0.47349\n",
      "[358]\tvalidation_0-logloss:0.47343\n",
      "[359]\tvalidation_0-logloss:0.47337\n",
      "[360]\tvalidation_0-logloss:0.47338\n",
      "[361]\tvalidation_0-logloss:0.47333\n",
      "[362]\tvalidation_0-logloss:0.47334\n",
      "[363]\tvalidation_0-logloss:0.47330\n",
      "[364]\tvalidation_0-logloss:0.47329\n",
      "[365]\tvalidation_0-logloss:0.47329\n",
      "[366]\tvalidation_0-logloss:0.47330\n",
      "[367]\tvalidation_0-logloss:0.47327\n",
      "[368]\tvalidation_0-logloss:0.47322\n",
      "[369]\tvalidation_0-logloss:0.47315\n",
      "[370]\tvalidation_0-logloss:0.47309\n",
      "[371]\tvalidation_0-logloss:0.47307\n",
      "[372]\tvalidation_0-logloss:0.47306\n",
      "[373]\tvalidation_0-logloss:0.47305\n",
      "[374]\tvalidation_0-logloss:0.47305\n",
      "[375]\tvalidation_0-logloss:0.47300\n",
      "[376]\tvalidation_0-logloss:0.47300\n",
      "[377]\tvalidation_0-logloss:0.47297\n",
      "[378]\tvalidation_0-logloss:0.47298\n",
      "[379]\tvalidation_0-logloss:0.47298\n",
      "[380]\tvalidation_0-logloss:0.47294\n",
      "[381]\tvalidation_0-logloss:0.47294\n",
      "[382]\tvalidation_0-logloss:0.47294\n",
      "[383]\tvalidation_0-logloss:0.47294\n",
      "[384]\tvalidation_0-logloss:0.47293\n",
      "[385]\tvalidation_0-logloss:0.47293\n",
      "[386]\tvalidation_0-logloss:0.47293\n",
      "[387]\tvalidation_0-logloss:0.47293\n",
      "[388]\tvalidation_0-logloss:0.47293\n",
      "[389]\tvalidation_0-logloss:0.47293\n",
      "[390]\tvalidation_0-logloss:0.47292\n",
      "[391]\tvalidation_0-logloss:0.47292\n",
      "[392]\tvalidation_0-logloss:0.47292\n",
      "[393]\tvalidation_0-logloss:0.47292\n",
      "[394]\tvalidation_0-logloss:0.47290\n",
      "[395]\tvalidation_0-logloss:0.47289\n",
      "[396]\tvalidation_0-logloss:0.47284\n",
      "[397]\tvalidation_0-logloss:0.47284\n",
      "[398]\tvalidation_0-logloss:0.47284\n",
      "[399]\tvalidation_0-logloss:0.47285\n"
     ]
    }
   ],
   "source": [
    "from xgboost import XGBClassifier\n",
    "\n",
    "evals = [(X_test, y_test)]\n",
    "xgb_wrapper = XGBClassifier(n_estimators = 400, learning_rate = 0.1, max_depth = 3)\n",
    "xgb_wrapper.fit(X_train, y_train, early_stopping_rounds = 400, eval_set = evals, eval_metric = \"logloss\", verbose = True)\n",
    "xgb_wrapper.fit(X_train, y_train)\n",
    "\n",
    "w_preds = xgb_wrapper.predict(X_test)\n",
    "w_pred_proba = xgb_wrapper.predict_proba(X_test)[:,1]"
   ]
  },
  {
   "cell_type": "code",
   "execution_count": 28,
   "id": "40f42ec3-9618-4d3b-8c54-48582802d208",
   "metadata": {},
   "outputs": [
    {
     "name": "stdout",
     "output_type": "stream",
     "text": [
      "오차 행렬\n",
      "[[54497 17154]\n",
      " [ 1671  2408]]\n",
      "정확도: 0.7514, 정밀도: 0.1231, 재현율: 0.5903,    F1: 0.2037, AUC:0.7437\n"
     ]
    }
   ],
   "source": [
    "get_clf_eval(y_test, w_preds, w_pred_proba)"
   ]
  },
  {
   "cell_type": "markdown",
   "id": "20d92aa6-ebb7-4627-922e-30b23b4487fb",
   "metadata": {},
   "source": [
    "### early_stopping_rounds = 100"
   ]
  },
  {
   "cell_type": "code",
   "execution_count": 29,
   "id": "8db71921-ea3a-4e01-bb69-79c36715ba64",
   "metadata": {
    "collapsed": true,
    "jupyter": {
     "outputs_hidden": true
    },
    "tags": []
   },
   "outputs": [
    {
     "name": "stdout",
     "output_type": "stream",
     "text": [
      "[0]\tvalidation_0-logloss:0.67207\n",
      "[1]\tvalidation_0-logloss:0.65500\n",
      "[2]\tvalidation_0-logloss:0.64076\n",
      "[3]\tvalidation_0-logloss:0.62885\n",
      "[4]\tvalidation_0-logloss:0.61897\n",
      "[5]\tvalidation_0-logloss:0.61018\n",
      "[6]\tvalidation_0-logloss:0.60286\n",
      "[7]\tvalidation_0-logloss:0.59667\n",
      "[8]\tvalidation_0-logloss:0.59066\n",
      "[9]\tvalidation_0-logloss:0.58597\n",
      "[10]\tvalidation_0-logloss:0.58140\n",
      "[11]\tvalidation_0-logloss:0.57770\n",
      "[12]\tvalidation_0-logloss:0.57377\n",
      "[13]\tvalidation_0-logloss:0.56951\n",
      "[14]\tvalidation_0-logloss:0.56621\n",
      "[15]\tvalidation_0-logloss:0.56298\n",
      "[16]\tvalidation_0-logloss:0.56070\n",
      "[17]\tvalidation_0-logloss:0.55760\n",
      "[18]\tvalidation_0-logloss:0.55467\n",
      "[19]\tvalidation_0-logloss:0.55201\n",
      "[20]\tvalidation_0-logloss:0.55018\n",
      "[21]\tvalidation_0-logloss:0.54747\n",
      "[22]\tvalidation_0-logloss:0.54591\n",
      "[23]\tvalidation_0-logloss:0.54419\n",
      "[24]\tvalidation_0-logloss:0.54140\n",
      "[25]\tvalidation_0-logloss:0.54023\n",
      "[26]\tvalidation_0-logloss:0.53759\n",
      "[27]\tvalidation_0-logloss:0.53611\n",
      "[28]\tvalidation_0-logloss:0.53519\n",
      "[29]\tvalidation_0-logloss:0.53289\n",
      "[30]\tvalidation_0-logloss:0.53098\n",
      "[31]\tvalidation_0-logloss:0.52986\n",
      "[32]\tvalidation_0-logloss:0.52872\n",
      "[33]\tvalidation_0-logloss:0.52650\n",
      "[34]\tvalidation_0-logloss:0.52523\n",
      "[35]\tvalidation_0-logloss:0.52431\n",
      "[36]\tvalidation_0-logloss:0.52366\n",
      "[37]\tvalidation_0-logloss:0.52180\n",
      "[38]\tvalidation_0-logloss:0.52047\n",
      "[39]\tvalidation_0-logloss:0.51939\n",
      "[40]\tvalidation_0-logloss:0.51805\n",
      "[41]\tvalidation_0-logloss:0.51721\n",
      "[42]\tvalidation_0-logloss:0.51670\n",
      "[43]\tvalidation_0-logloss:0.51508\n",
      "[44]\tvalidation_0-logloss:0.51377\n",
      "[45]\tvalidation_0-logloss:0.51305\n",
      "[46]\tvalidation_0-logloss:0.51263\n",
      "[47]\tvalidation_0-logloss:0.51162\n",
      "[48]\tvalidation_0-logloss:0.51082\n",
      "[49]\tvalidation_0-logloss:0.50998\n",
      "[50]\tvalidation_0-logloss:0.50934\n",
      "[51]\tvalidation_0-logloss:0.50827\n",
      "[52]\tvalidation_0-logloss:0.50791\n",
      "[53]\tvalidation_0-logloss:0.50737\n",
      "[54]\tvalidation_0-logloss:0.50652\n",
      "[55]\tvalidation_0-logloss:0.50553\n",
      "[56]\tvalidation_0-logloss:0.50477\n",
      "[57]\tvalidation_0-logloss:0.50458\n",
      "[58]\tvalidation_0-logloss:0.50407\n",
      "[59]\tvalidation_0-logloss:0.50334\n",
      "[60]\tvalidation_0-logloss:0.50304\n",
      "[61]\tvalidation_0-logloss:0.50193\n",
      "[62]\tvalidation_0-logloss:0.50146\n",
      "[63]\tvalidation_0-logloss:0.50102\n",
      "[64]\tvalidation_0-logloss:0.50074\n",
      "[65]\tvalidation_0-logloss:0.50034\n",
      "[66]\tvalidation_0-logloss:0.49964\n",
      "[67]\tvalidation_0-logloss:0.49947\n",
      "[68]\tvalidation_0-logloss:0.49847\n",
      "[69]\tvalidation_0-logloss:0.49808\n",
      "[70]\tvalidation_0-logloss:0.49782\n",
      "[71]\tvalidation_0-logloss:0.49720\n",
      "[72]\tvalidation_0-logloss:0.49702\n",
      "[73]\tvalidation_0-logloss:0.49688\n",
      "[74]\tvalidation_0-logloss:0.49599\n",
      "[75]\tvalidation_0-logloss:0.49582\n",
      "[76]\tvalidation_0-logloss:0.49526\n",
      "[77]\tvalidation_0-logloss:0.49526\n",
      "[78]\tvalidation_0-logloss:0.49491\n",
      "[79]\tvalidation_0-logloss:0.49413\n",
      "[80]\tvalidation_0-logloss:0.49362\n",
      "[81]\tvalidation_0-logloss:0.49339\n",
      "[82]\tvalidation_0-logloss:0.49309\n",
      "[83]\tvalidation_0-logloss:0.49299\n",
      "[84]\tvalidation_0-logloss:0.49289\n",
      "[85]\tvalidation_0-logloss:0.49248\n",
      "[86]\tvalidation_0-logloss:0.49203\n",
      "[87]\tvalidation_0-logloss:0.49182\n",
      "[88]\tvalidation_0-logloss:0.49135\n",
      "[89]\tvalidation_0-logloss:0.49102\n",
      "[90]\tvalidation_0-logloss:0.49096\n",
      "[91]\tvalidation_0-logloss:0.49060\n",
      "[92]\tvalidation_0-logloss:0.49043\n",
      "[93]\tvalidation_0-logloss:0.48995\n",
      "[94]\tvalidation_0-logloss:0.48988\n",
      "[95]\tvalidation_0-logloss:0.48926\n",
      "[96]\tvalidation_0-logloss:0.48920\n",
      "[97]\tvalidation_0-logloss:0.48920\n",
      "[98]\tvalidation_0-logloss:0.48904\n",
      "[99]\tvalidation_0-logloss:0.48903\n",
      "[100]\tvalidation_0-logloss:0.48862\n",
      "[101]\tvalidation_0-logloss:0.48821\n",
      "[102]\tvalidation_0-logloss:0.48791\n",
      "[103]\tvalidation_0-logloss:0.48761\n",
      "[104]\tvalidation_0-logloss:0.48727\n",
      "[105]\tvalidation_0-logloss:0.48713\n",
      "[106]\tvalidation_0-logloss:0.48713\n",
      "[107]\tvalidation_0-logloss:0.48677\n",
      "[108]\tvalidation_0-logloss:0.48676\n",
      "[109]\tvalidation_0-logloss:0.48644\n",
      "[110]\tvalidation_0-logloss:0.48632\n",
      "[111]\tvalidation_0-logloss:0.48607\n",
      "[112]\tvalidation_0-logloss:0.48581\n",
      "[113]\tvalidation_0-logloss:0.48556\n",
      "[114]\tvalidation_0-logloss:0.48550\n",
      "[115]\tvalidation_0-logloss:0.48531\n",
      "[116]\tvalidation_0-logloss:0.48526\n",
      "[117]\tvalidation_0-logloss:0.48494\n",
      "[118]\tvalidation_0-logloss:0.48468\n",
      "[119]\tvalidation_0-logloss:0.48454\n",
      "[120]\tvalidation_0-logloss:0.48451\n",
      "[121]\tvalidation_0-logloss:0.48447\n",
      "[122]\tvalidation_0-logloss:0.48421\n",
      "[123]\tvalidation_0-logloss:0.48421\n",
      "[124]\tvalidation_0-logloss:0.48393\n",
      "[125]\tvalidation_0-logloss:0.48380\n",
      "[126]\tvalidation_0-logloss:0.48378\n",
      "[127]\tvalidation_0-logloss:0.48376\n",
      "[128]\tvalidation_0-logloss:0.48373\n",
      "[129]\tvalidation_0-logloss:0.48352\n",
      "[130]\tvalidation_0-logloss:0.48331\n",
      "[131]\tvalidation_0-logloss:0.48330\n",
      "[132]\tvalidation_0-logloss:0.48330\n",
      "[133]\tvalidation_0-logloss:0.48307\n",
      "[134]\tvalidation_0-logloss:0.48286\n",
      "[135]\tvalidation_0-logloss:0.48286\n",
      "[136]\tvalidation_0-logloss:0.48285\n",
      "[137]\tvalidation_0-logloss:0.48256\n",
      "[138]\tvalidation_0-logloss:0.48236\n",
      "[139]\tvalidation_0-logloss:0.48235\n",
      "[140]\tvalidation_0-logloss:0.48235\n",
      "[141]\tvalidation_0-logloss:0.48214\n",
      "[142]\tvalidation_0-logloss:0.48204\n",
      "[143]\tvalidation_0-logloss:0.48204\n",
      "[144]\tvalidation_0-logloss:0.48180\n",
      "[145]\tvalidation_0-logloss:0.48166\n",
      "[146]\tvalidation_0-logloss:0.48140\n",
      "[147]\tvalidation_0-logloss:0.48140\n",
      "[148]\tvalidation_0-logloss:0.48139\n",
      "[149]\tvalidation_0-logloss:0.48129\n",
      "[150]\tvalidation_0-logloss:0.48127\n",
      "[151]\tvalidation_0-logloss:0.48110\n",
      "[152]\tvalidation_0-logloss:0.48094\n",
      "[153]\tvalidation_0-logloss:0.48094\n",
      "[154]\tvalidation_0-logloss:0.48076\n",
      "[155]\tvalidation_0-logloss:0.48075\n",
      "[156]\tvalidation_0-logloss:0.48075\n",
      "[157]\tvalidation_0-logloss:0.48066\n",
      "[158]\tvalidation_0-logloss:0.48051\n",
      "[159]\tvalidation_0-logloss:0.48052\n",
      "[160]\tvalidation_0-logloss:0.48052\n",
      "[161]\tvalidation_0-logloss:0.48052\n",
      "[162]\tvalidation_0-logloss:0.48028\n",
      "[163]\tvalidation_0-logloss:0.48013\n",
      "[164]\tvalidation_0-logloss:0.48013\n",
      "[165]\tvalidation_0-logloss:0.48001\n",
      "[166]\tvalidation_0-logloss:0.47981\n",
      "[167]\tvalidation_0-logloss:0.47967\n",
      "[168]\tvalidation_0-logloss:0.47955\n",
      "[169]\tvalidation_0-logloss:0.47956\n",
      "[170]\tvalidation_0-logloss:0.47942\n",
      "[171]\tvalidation_0-logloss:0.47941\n",
      "[172]\tvalidation_0-logloss:0.47928\n",
      "[173]\tvalidation_0-logloss:0.47929\n",
      "[174]\tvalidation_0-logloss:0.47912\n",
      "[175]\tvalidation_0-logloss:0.47914\n",
      "[176]\tvalidation_0-logloss:0.47914\n",
      "[177]\tvalidation_0-logloss:0.47903\n",
      "[178]\tvalidation_0-logloss:0.47903\n",
      "[179]\tvalidation_0-logloss:0.47904\n",
      "[180]\tvalidation_0-logloss:0.47903\n",
      "[181]\tvalidation_0-logloss:0.47884\n",
      "[182]\tvalidation_0-logloss:0.47869\n",
      "[183]\tvalidation_0-logloss:0.47850\n",
      "[184]\tvalidation_0-logloss:0.47840\n",
      "[185]\tvalidation_0-logloss:0.47840\n",
      "[186]\tvalidation_0-logloss:0.47836\n",
      "[187]\tvalidation_0-logloss:0.47827\n",
      "[188]\tvalidation_0-logloss:0.47828\n",
      "[189]\tvalidation_0-logloss:0.47829\n",
      "[190]\tvalidation_0-logloss:0.47828\n",
      "[191]\tvalidation_0-logloss:0.47825\n",
      "[192]\tvalidation_0-logloss:0.47808\n",
      "[193]\tvalidation_0-logloss:0.47789\n",
      "[194]\tvalidation_0-logloss:0.47783\n",
      "[195]\tvalidation_0-logloss:0.47784\n",
      "[196]\tvalidation_0-logloss:0.47784\n",
      "[197]\tvalidation_0-logloss:0.47775\n",
      "[198]\tvalidation_0-logloss:0.47765\n",
      "[199]\tvalidation_0-logloss:0.47766\n",
      "[200]\tvalidation_0-logloss:0.47766\n",
      "[201]\tvalidation_0-logloss:0.47748\n",
      "[202]\tvalidation_0-logloss:0.47748\n",
      "[203]\tvalidation_0-logloss:0.47747\n",
      "[204]\tvalidation_0-logloss:0.47749\n",
      "[205]\tvalidation_0-logloss:0.47738\n",
      "[206]\tvalidation_0-logloss:0.47729\n",
      "[207]\tvalidation_0-logloss:0.47711\n",
      "[208]\tvalidation_0-logloss:0.47712\n",
      "[209]\tvalidation_0-logloss:0.47712\n",
      "[210]\tvalidation_0-logloss:0.47710\n",
      "[211]\tvalidation_0-logloss:0.47711\n",
      "[212]\tvalidation_0-logloss:0.47710\n",
      "[213]\tvalidation_0-logloss:0.47708\n",
      "[214]\tvalidation_0-logloss:0.47681\n",
      "[215]\tvalidation_0-logloss:0.47681\n",
      "[216]\tvalidation_0-logloss:0.47681\n",
      "[217]\tvalidation_0-logloss:0.47683\n",
      "[218]\tvalidation_0-logloss:0.47682\n",
      "[219]\tvalidation_0-logloss:0.47675\n",
      "[220]\tvalidation_0-logloss:0.47676\n",
      "[221]\tvalidation_0-logloss:0.47661\n",
      "[222]\tvalidation_0-logloss:0.47659\n",
      "[223]\tvalidation_0-logloss:0.47658\n",
      "[224]\tvalidation_0-logloss:0.47651\n",
      "[225]\tvalidation_0-logloss:0.47639\n",
      "[226]\tvalidation_0-logloss:0.47639\n",
      "[227]\tvalidation_0-logloss:0.47636\n",
      "[228]\tvalidation_0-logloss:0.47635\n",
      "[229]\tvalidation_0-logloss:0.47635\n",
      "[230]\tvalidation_0-logloss:0.47624\n",
      "[231]\tvalidation_0-logloss:0.47623\n",
      "[232]\tvalidation_0-logloss:0.47623\n",
      "[233]\tvalidation_0-logloss:0.47622\n",
      "[234]\tvalidation_0-logloss:0.47622\n",
      "[235]\tvalidation_0-logloss:0.47621\n",
      "[236]\tvalidation_0-logloss:0.47621\n",
      "[237]\tvalidation_0-logloss:0.47611\n",
      "[238]\tvalidation_0-logloss:0.47611\n",
      "[239]\tvalidation_0-logloss:0.47611\n",
      "[240]\tvalidation_0-logloss:0.47589\n",
      "[241]\tvalidation_0-logloss:0.47582\n",
      "[242]\tvalidation_0-logloss:0.47583\n",
      "[243]\tvalidation_0-logloss:0.47581\n",
      "[244]\tvalidation_0-logloss:0.47580\n",
      "[245]\tvalidation_0-logloss:0.47580\n",
      "[246]\tvalidation_0-logloss:0.47580\n",
      "[247]\tvalidation_0-logloss:0.47579\n",
      "[248]\tvalidation_0-logloss:0.47579\n",
      "[249]\tvalidation_0-logloss:0.47579\n",
      "[250]\tvalidation_0-logloss:0.47579\n",
      "[251]\tvalidation_0-logloss:0.47565\n",
      "[252]\tvalidation_0-logloss:0.47559\n",
      "[253]\tvalidation_0-logloss:0.47559\n",
      "[254]\tvalidation_0-logloss:0.47559\n",
      "[255]\tvalidation_0-logloss:0.47559\n",
      "[256]\tvalidation_0-logloss:0.47558\n",
      "[257]\tvalidation_0-logloss:0.47557\n",
      "[258]\tvalidation_0-logloss:0.47557\n",
      "[259]\tvalidation_0-logloss:0.47557\n",
      "[260]\tvalidation_0-logloss:0.47555\n",
      "[261]\tvalidation_0-logloss:0.47554\n",
      "[262]\tvalidation_0-logloss:0.47554\n",
      "[263]\tvalidation_0-logloss:0.47555\n",
      "[264]\tvalidation_0-logloss:0.47545\n",
      "[265]\tvalidation_0-logloss:0.47545\n",
      "[266]\tvalidation_0-logloss:0.47537\n",
      "[267]\tvalidation_0-logloss:0.47537\n",
      "[268]\tvalidation_0-logloss:0.47518\n",
      "[269]\tvalidation_0-logloss:0.47513\n",
      "[270]\tvalidation_0-logloss:0.47512\n",
      "[271]\tvalidation_0-logloss:0.47512\n",
      "[272]\tvalidation_0-logloss:0.47512\n",
      "[273]\tvalidation_0-logloss:0.47506\n",
      "[274]\tvalidation_0-logloss:0.47506\n",
      "[275]\tvalidation_0-logloss:0.47506\n",
      "[276]\tvalidation_0-logloss:0.47501\n",
      "[277]\tvalidation_0-logloss:0.47502\n",
      "[278]\tvalidation_0-logloss:0.47502\n",
      "[279]\tvalidation_0-logloss:0.47494\n",
      "[280]\tvalidation_0-logloss:0.47493\n",
      "[281]\tvalidation_0-logloss:0.47493\n",
      "[282]\tvalidation_0-logloss:0.47493\n",
      "[283]\tvalidation_0-logloss:0.47494\n",
      "[284]\tvalidation_0-logloss:0.47494\n",
      "[285]\tvalidation_0-logloss:0.47485\n",
      "[286]\tvalidation_0-logloss:0.47476\n",
      "[287]\tvalidation_0-logloss:0.47476\n",
      "[288]\tvalidation_0-logloss:0.47468\n",
      "[289]\tvalidation_0-logloss:0.47466\n",
      "[290]\tvalidation_0-logloss:0.47466\n",
      "[291]\tvalidation_0-logloss:0.47461\n",
      "[292]\tvalidation_0-logloss:0.47461\n",
      "[293]\tvalidation_0-logloss:0.47461\n",
      "[294]\tvalidation_0-logloss:0.47459\n",
      "[295]\tvalidation_0-logloss:0.47454\n",
      "[296]\tvalidation_0-logloss:0.47451\n",
      "[297]\tvalidation_0-logloss:0.47448\n",
      "[298]\tvalidation_0-logloss:0.47432\n",
      "[299]\tvalidation_0-logloss:0.47428\n",
      "[300]\tvalidation_0-logloss:0.47429\n",
      "[301]\tvalidation_0-logloss:0.47429\n",
      "[302]\tvalidation_0-logloss:0.47428\n",
      "[303]\tvalidation_0-logloss:0.47428\n",
      "[304]\tvalidation_0-logloss:0.47424\n",
      "[305]\tvalidation_0-logloss:0.47420\n",
      "[306]\tvalidation_0-logloss:0.47419\n",
      "[307]\tvalidation_0-logloss:0.47420\n",
      "[308]\tvalidation_0-logloss:0.47420\n",
      "[309]\tvalidation_0-logloss:0.47406\n",
      "[310]\tvalidation_0-logloss:0.47406\n",
      "[311]\tvalidation_0-logloss:0.47407\n",
      "[312]\tvalidation_0-logloss:0.47407\n",
      "[313]\tvalidation_0-logloss:0.47406\n",
      "[314]\tvalidation_0-logloss:0.47407\n",
      "[315]\tvalidation_0-logloss:0.47407\n",
      "[316]\tvalidation_0-logloss:0.47401\n",
      "[317]\tvalidation_0-logloss:0.47396\n",
      "[318]\tvalidation_0-logloss:0.47392\n",
      "[319]\tvalidation_0-logloss:0.47390\n",
      "[320]\tvalidation_0-logloss:0.47390\n",
      "[321]\tvalidation_0-logloss:0.47391\n",
      "[322]\tvalidation_0-logloss:0.47390\n",
      "[323]\tvalidation_0-logloss:0.47391\n",
      "[324]\tvalidation_0-logloss:0.47392\n",
      "[325]\tvalidation_0-logloss:0.47392\n",
      "[326]\tvalidation_0-logloss:0.47384\n",
      "[327]\tvalidation_0-logloss:0.47377\n",
      "[328]\tvalidation_0-logloss:0.47378\n",
      "[329]\tvalidation_0-logloss:0.47378\n",
      "[330]\tvalidation_0-logloss:0.47379\n",
      "[331]\tvalidation_0-logloss:0.47373\n",
      "[332]\tvalidation_0-logloss:0.47372\n",
      "[333]\tvalidation_0-logloss:0.47373\n",
      "[334]\tvalidation_0-logloss:0.47372\n",
      "[335]\tvalidation_0-logloss:0.47364\n",
      "[336]\tvalidation_0-logloss:0.47364\n",
      "[337]\tvalidation_0-logloss:0.47360\n",
      "[338]\tvalidation_0-logloss:0.47360\n",
      "[339]\tvalidation_0-logloss:0.47359\n",
      "[340]\tvalidation_0-logloss:0.47359\n",
      "[341]\tvalidation_0-logloss:0.47359\n",
      "[342]\tvalidation_0-logloss:0.47359\n",
      "[343]\tvalidation_0-logloss:0.47356\n",
      "[344]\tvalidation_0-logloss:0.47357\n",
      "[345]\tvalidation_0-logloss:0.47356\n",
      "[346]\tvalidation_0-logloss:0.47356\n",
      "[347]\tvalidation_0-logloss:0.47356\n",
      "[348]\tvalidation_0-logloss:0.47352\n",
      "[349]\tvalidation_0-logloss:0.47352\n",
      "[350]\tvalidation_0-logloss:0.47353\n",
      "[351]\tvalidation_0-logloss:0.47352\n",
      "[352]\tvalidation_0-logloss:0.47352\n",
      "[353]\tvalidation_0-logloss:0.47349\n",
      "[354]\tvalidation_0-logloss:0.47350\n",
      "[355]\tvalidation_0-logloss:0.47350\n",
      "[356]\tvalidation_0-logloss:0.47349\n",
      "[357]\tvalidation_0-logloss:0.47349\n",
      "[358]\tvalidation_0-logloss:0.47343\n",
      "[359]\tvalidation_0-logloss:0.47337\n",
      "[360]\tvalidation_0-logloss:0.47338\n",
      "[361]\tvalidation_0-logloss:0.47333\n",
      "[362]\tvalidation_0-logloss:0.47334\n",
      "[363]\tvalidation_0-logloss:0.47330\n",
      "[364]\tvalidation_0-logloss:0.47329\n",
      "[365]\tvalidation_0-logloss:0.47329\n",
      "[366]\tvalidation_0-logloss:0.47330\n",
      "[367]\tvalidation_0-logloss:0.47327\n",
      "[368]\tvalidation_0-logloss:0.47322\n",
      "[369]\tvalidation_0-logloss:0.47315\n",
      "[370]\tvalidation_0-logloss:0.47309\n",
      "[371]\tvalidation_0-logloss:0.47307\n",
      "[372]\tvalidation_0-logloss:0.47306\n",
      "[373]\tvalidation_0-logloss:0.47305\n",
      "[374]\tvalidation_0-logloss:0.47305\n",
      "[375]\tvalidation_0-logloss:0.47300\n",
      "[376]\tvalidation_0-logloss:0.47300\n",
      "[377]\tvalidation_0-logloss:0.47297\n",
      "[378]\tvalidation_0-logloss:0.47298\n",
      "[379]\tvalidation_0-logloss:0.47298\n",
      "[380]\tvalidation_0-logloss:0.47294\n",
      "[381]\tvalidation_0-logloss:0.47294\n",
      "[382]\tvalidation_0-logloss:0.47294\n",
      "[383]\tvalidation_0-logloss:0.47294\n",
      "[384]\tvalidation_0-logloss:0.47293\n",
      "[385]\tvalidation_0-logloss:0.47293\n",
      "[386]\tvalidation_0-logloss:0.47293\n",
      "[387]\tvalidation_0-logloss:0.47293\n",
      "[388]\tvalidation_0-logloss:0.47293\n",
      "[389]\tvalidation_0-logloss:0.47293\n",
      "[390]\tvalidation_0-logloss:0.47292\n",
      "[391]\tvalidation_0-logloss:0.47292\n",
      "[392]\tvalidation_0-logloss:0.47292\n",
      "[393]\tvalidation_0-logloss:0.47292\n",
      "[394]\tvalidation_0-logloss:0.47290\n",
      "[395]\tvalidation_0-logloss:0.47289\n",
      "[396]\tvalidation_0-logloss:0.47284\n",
      "[397]\tvalidation_0-logloss:0.47284\n",
      "[398]\tvalidation_0-logloss:0.47284\n",
      "[399]\tvalidation_0-logloss:0.47285\n"
     ]
    }
   ],
   "source": [
    "xgb_wrapper = XGBClassifier(n_estimators = 400, learning_rate = 0.1, max_depth = 3)\n",
    "\n",
    "evals = [(X_test, y_test)]\n",
    "xgb_wrapper.fit(X_train, y_train, early_stopping_rounds = 100, eval_metric = 'logloss', \\\n",
    "                eval_set = evals, verbose = True)\n",
    "\n",
    "ws100_preds = xgb_wrapper.predict(X_test)\n",
    "ws100_pred_proba = xgb_wrapper.predict_proba(X_test)[:,1]"
   ]
  },
  {
   "cell_type": "code",
   "execution_count": 30,
   "id": "50528455-33bb-4b17-b4bf-ef6691e7e83a",
   "metadata": {},
   "outputs": [
    {
     "name": "stdout",
     "output_type": "stream",
     "text": [
      "오차 행렬\n",
      "[[54491 17160]\n",
      " [ 1669  2410]]\n",
      "정확도: 0.7514, 정밀도: 0.1231, 재현율: 0.5908,    F1: 0.2038, AUC:0.7438\n"
     ]
    }
   ],
   "source": [
    "get_clf_eval(y_test, ws100_preds, ws100_pred_proba)"
   ]
  },
  {
   "cell_type": "code",
   "execution_count": 31,
   "id": "1c61d190-da19-4641-a9da-2027be9d9c70",
   "metadata": {},
   "outputs": [
    {
     "data": {
      "text/plain": [
       "<AxesSubplot:title={'center':'Feature importance'}, xlabel='F score', ylabel='Features'>"
      ]
     },
     "execution_count": 31,
     "metadata": {},
     "output_type": "execute_result"
    },
    {
     "data": {
      "image/png": "[encoded data removed]",
      "text/plain": [
       "<Figure size 1000x1200 with 1 Axes>"
      ]
     },
     "metadata": {},
     "output_type": "display_data"
    }
   ],
   "source": [
    "from xgboost import plot_importance\n",
    "import matplotlib.pyplot as plt\n",
    "%matplotlib inline\n",
    "\n",
    "fig, ax = plt.subplots(figsize = (10, 12))\n",
    "plot_importance(xgb_wrapper, ax = ax)"
   ]
  },
  {
   "cell_type": "markdown",
   "id": "a1cea774-ccf8-4571-8e9a-05ac4b978a91",
   "metadata": {
    "tags": []
   },
   "source": [
    "## XGBoost 적용\n",
    "    - https://assaeunji.github.io/machine%20learning/2021-01-07-xgboost/ 참고"
   ]
  },
  {
   "cell_type": "code",
   "execution_count": 32,
   "id": "153265a2-ed47-455e-a28f-d85ae0d9914e",
   "metadata": {},
   "outputs": [],
   "source": [
    "from xgboost import XGBClassifier\n",
    "from xgboost import plot_importance\n",
    "import matplotlib.pyplot as plt"
   ]
  },
  {
   "cell_type": "code",
   "execution_count": 33,
   "id": "fbf98ec6-1eb6-4162-a96a-f5f4ab05086e",
   "metadata": {},
   "outputs": [
    {
     "name": "stdout",
     "output_type": "stream",
     "text": [
      "오차 행렬\n",
      "[[54754 16897]\n",
      " [ 1745  2334]]\n",
      "정확도: 0.7538, 정밀도: 0.1214, 재현율: 0.5722,    F1: 0.2003, AUC:0.7334\n"
     ]
    },
    {
     "data": {
      "text/plain": [
       "<AxesSubplot:title={'center':'Feature importance'}, xlabel='F score', ylabel='Features'>"
      ]
     },
     "execution_count": 33,
     "metadata": {},
     "output_type": "execute_result"
    },
    {
     "data": {
      "image/png": "[encoded data removed]",
      "text/plain": [
       "<Figure size 1000x1200 with 1 Axes>"
      ]
     },
     "metadata": {},
     "output_type": "display_data"
    }
   ],
   "source": [
    "# train\n",
    "xgb = XGBClassifier(n_estimators = 400, learning_rate = 0.3, max_depth = 3)\n",
    "xgb.fit(X_train, y_train)\n",
    "\n",
    "# prediction\n",
    "w_pred = xgb.predict(X_test)\n",
    "w_pred_proba = xgb.predict_proba(X_test)[:,1]\n",
    "\n",
    "# confusion matrix\n",
    "get_clf_eval(y_test, w_pred, w_pred_proba)\n",
    "\n",
    "# importance plot\n",
    "fig, ax = plt.subplots(figsize = (10,12))\n",
    "plot_importance(xgb, ax=ax)"
   ]
  },
  {
   "cell_type": "code",
   "execution_count": 34,
   "id": "d6bb0167-bcb9-4edf-8be2-727b497dabf1",
   "metadata": {
    "collapsed": true,
    "jupyter": {
     "outputs_hidden": true
    },
    "tags": []
   },
   "outputs": [
    {
     "name": "stdout",
     "output_type": "stream",
     "text": [
      "[0]\tvalidation_0-auc:0.80482\tvalidation_1-auc:0.76169\n",
      "[1]\tvalidation_0-auc:0.81070\tvalidation_1-auc:0.76277\n",
      "[2]\tvalidation_0-auc:0.81537\tvalidation_1-auc:0.76372\n",
      "[3]\tvalidation_0-auc:0.82052\tvalidation_1-auc:0.76509\n",
      "[4]\tvalidation_0-auc:0.82189\tvalidation_1-auc:0.76610\n",
      "[5]\tvalidation_0-auc:0.82684\tvalidation_1-auc:0.76488\n",
      "[6]\tvalidation_0-auc:0.82903\tvalidation_1-auc:0.76509\n",
      "[7]\tvalidation_0-auc:0.83163\tvalidation_1-auc:0.76366\n",
      "[8]\tvalidation_0-auc:0.83468\tvalidation_1-auc:0.76303\n",
      "[9]\tvalidation_0-auc:0.83610\tvalidation_1-auc:0.76246\n",
      "[10]\tvalidation_0-auc:0.83750\tvalidation_1-auc:0.76027\n",
      "[11]\tvalidation_0-auc:0.83838\tvalidation_1-auc:0.75946\n",
      "[12]\tvalidation_0-auc:0.83918\tvalidation_1-auc:0.75917\n",
      "[13]\tvalidation_0-auc:0.83963\tvalidation_1-auc:0.75776\n",
      "[14]\tvalidation_0-auc:0.84022\tvalidation_1-auc:0.75691\n",
      "[15]\tvalidation_0-auc:0.84098\tvalidation_1-auc:0.75597\n",
      "[16]\tvalidation_0-auc:0.84144\tvalidation_1-auc:0.75468\n",
      "[17]\tvalidation_0-auc:0.84179\tvalidation_1-auc:0.75372\n",
      "[18]\tvalidation_0-auc:0.84211\tvalidation_1-auc:0.75264\n",
      "[19]\tvalidation_0-auc:0.84234\tvalidation_1-auc:0.75141\n",
      "[20]\tvalidation_0-auc:0.84270\tvalidation_1-auc:0.75055\n",
      "[21]\tvalidation_0-auc:0.84287\tvalidation_1-auc:0.75024\n",
      "[22]\tvalidation_0-auc:0.84341\tvalidation_1-auc:0.74909\n",
      "[23]\tvalidation_0-auc:0.84367\tvalidation_1-auc:0.74851\n",
      "[24]\tvalidation_0-auc:0.84398\tvalidation_1-auc:0.74786\n",
      "[25]\tvalidation_0-auc:0.84419\tvalidation_1-auc:0.74725\n",
      "[26]\tvalidation_0-auc:0.84449\tvalidation_1-auc:0.74648\n",
      "[27]\tvalidation_0-auc:0.84476\tvalidation_1-auc:0.74576\n",
      "[28]\tvalidation_0-auc:0.84501\tvalidation_1-auc:0.74476\n",
      "[29]\tvalidation_0-auc:0.84510\tvalidation_1-auc:0.74413\n",
      "[30]\tvalidation_0-auc:0.84519\tvalidation_1-auc:0.74360\n",
      "[31]\tvalidation_0-auc:0.84547\tvalidation_1-auc:0.74259\n",
      "[32]\tvalidation_0-auc:0.84554\tvalidation_1-auc:0.74221\n",
      "[33]\tvalidation_0-auc:0.84558\tvalidation_1-auc:0.74201\n",
      "[34]\tvalidation_0-auc:0.84573\tvalidation_1-auc:0.74153\n",
      "[35]\tvalidation_0-auc:0.84594\tvalidation_1-auc:0.74071\n",
      "[36]\tvalidation_0-auc:0.84611\tvalidation_1-auc:0.74005\n",
      "[37]\tvalidation_0-auc:0.84616\tvalidation_1-auc:0.73991\n",
      "[38]\tvalidation_0-auc:0.84624\tvalidation_1-auc:0.73956\n",
      "[39]\tvalidation_0-auc:0.84640\tvalidation_1-auc:0.73939\n",
      "[40]\tvalidation_0-auc:0.84658\tvalidation_1-auc:0.73873\n",
      "[41]\tvalidation_0-auc:0.84681\tvalidation_1-auc:0.73813\n",
      "[42]\tvalidation_0-auc:0.84687\tvalidation_1-auc:0.73810\n",
      "[43]\tvalidation_0-auc:0.84721\tvalidation_1-auc:0.73737\n",
      "[44]\tvalidation_0-auc:0.84735\tvalidation_1-auc:0.73696\n",
      "[45]\tvalidation_0-auc:0.84739\tvalidation_1-auc:0.73666\n",
      "[46]\tvalidation_0-auc:0.84752\tvalidation_1-auc:0.73624\n",
      "[47]\tvalidation_0-auc:0.84767\tvalidation_1-auc:0.73586\n",
      "[48]\tvalidation_0-auc:0.84785\tvalidation_1-auc:0.73525\n",
      "[49]\tvalidation_0-auc:0.84789\tvalidation_1-auc:0.73505\n",
      "[50]\tvalidation_0-auc:0.84791\tvalidation_1-auc:0.73503\n",
      "[51]\tvalidation_0-auc:0.84792\tvalidation_1-auc:0.73503\n",
      "[52]\tvalidation_0-auc:0.84793\tvalidation_1-auc:0.73496\n",
      "[53]\tvalidation_0-auc:0.84811\tvalidation_1-auc:0.73448\n",
      "[54]\tvalidation_0-auc:0.84832\tvalidation_1-auc:0.73386\n",
      "[55]\tvalidation_0-auc:0.84837\tvalidation_1-auc:0.73378\n",
      "[56]\tvalidation_0-auc:0.84843\tvalidation_1-auc:0.73335\n",
      "[57]\tvalidation_0-auc:0.84844\tvalidation_1-auc:0.73334\n",
      "[58]\tvalidation_0-auc:0.84844\tvalidation_1-auc:0.73331\n",
      "[59]\tvalidation_0-auc:0.84861\tvalidation_1-auc:0.73290\n",
      "[60]\tvalidation_0-auc:0.84870\tvalidation_1-auc:0.73255\n",
      "[61]\tvalidation_0-auc:0.84885\tvalidation_1-auc:0.73214\n",
      "[62]\tvalidation_0-auc:0.84891\tvalidation_1-auc:0.73200\n",
      "[63]\tvalidation_0-auc:0.84895\tvalidation_1-auc:0.73195\n",
      "[64]\tvalidation_0-auc:0.84897\tvalidation_1-auc:0.73175\n",
      "[65]\tvalidation_0-auc:0.84899\tvalidation_1-auc:0.73169\n",
      "[66]\tvalidation_0-auc:0.84902\tvalidation_1-auc:0.73156\n",
      "[67]\tvalidation_0-auc:0.84903\tvalidation_1-auc:0.73153\n",
      "[68]\tvalidation_0-auc:0.84903\tvalidation_1-auc:0.73151\n",
      "[69]\tvalidation_0-auc:0.84903\tvalidation_1-auc:0.73147\n",
      "[70]\tvalidation_0-auc:0.84918\tvalidation_1-auc:0.73145\n",
      "[71]\tvalidation_0-auc:0.84934\tvalidation_1-auc:0.73127\n",
      "[72]\tvalidation_0-auc:0.84962\tvalidation_1-auc:0.73093\n",
      "[73]\tvalidation_0-auc:0.84970\tvalidation_1-auc:0.73101\n",
      "[74]\tvalidation_0-auc:0.84982\tvalidation_1-auc:0.73078\n",
      "[75]\tvalidation_0-auc:0.84990\tvalidation_1-auc:0.73035\n",
      "[76]\tvalidation_0-auc:0.84994\tvalidation_1-auc:0.73026\n",
      "[77]\tvalidation_0-auc:0.84994\tvalidation_1-auc:0.73024\n",
      "[78]\tvalidation_0-auc:0.85007\tvalidation_1-auc:0.72999\n",
      "[79]\tvalidation_0-auc:0.85013\tvalidation_1-auc:0.72963\n",
      "[80]\tvalidation_0-auc:0.85017\tvalidation_1-auc:0.72946\n",
      "[81]\tvalidation_0-auc:0.85026\tvalidation_1-auc:0.72919\n",
      "[82]\tvalidation_0-auc:0.85046\tvalidation_1-auc:0.72919\n",
      "[83]\tvalidation_0-auc:0.85059\tvalidation_1-auc:0.72882\n",
      "[84]\tvalidation_0-auc:0.85074\tvalidation_1-auc:0.72858\n",
      "[85]\tvalidation_0-auc:0.85082\tvalidation_1-auc:0.72841\n",
      "[86]\tvalidation_0-auc:0.85084\tvalidation_1-auc:0.72822\n",
      "[87]\tvalidation_0-auc:0.85086\tvalidation_1-auc:0.72815\n",
      "[88]\tvalidation_0-auc:0.85091\tvalidation_1-auc:0.72801\n",
      "[89]\tvalidation_0-auc:0.85095\tvalidation_1-auc:0.72793\n",
      "[90]\tvalidation_0-auc:0.85112\tvalidation_1-auc:0.72768\n",
      "[91]\tvalidation_0-auc:0.85125\tvalidation_1-auc:0.72764\n",
      "[92]\tvalidation_0-auc:0.85146\tvalidation_1-auc:0.72723\n",
      "[93]\tvalidation_0-auc:0.85148\tvalidation_1-auc:0.72727\n",
      "[94]\tvalidation_0-auc:0.85161\tvalidation_1-auc:0.72725\n",
      "[95]\tvalidation_0-auc:0.85166\tvalidation_1-auc:0.72719\n",
      "[96]\tvalidation_0-auc:0.85169\tvalidation_1-auc:0.72708\n",
      "[97]\tvalidation_0-auc:0.85170\tvalidation_1-auc:0.72701\n",
      "[98]\tvalidation_0-auc:0.85172\tvalidation_1-auc:0.72694\n",
      "[99]\tvalidation_0-auc:0.85173\tvalidation_1-auc:0.72691\n",
      "[100]\tvalidation_0-auc:0.85174\tvalidation_1-auc:0.72692\n",
      "[101]\tvalidation_0-auc:0.85179\tvalidation_1-auc:0.72671\n",
      "[102]\tvalidation_0-auc:0.85184\tvalidation_1-auc:0.72667\n",
      "[103]\tvalidation_0-auc:0.85186\tvalidation_1-auc:0.72672\n",
      "ROC AUC: 0.7661\n"
     ]
    }
   ],
   "source": [
    "# 학습\n",
    "xgb = XGBClassifier(n_estimators = 500, random_state = 156)\n",
    "xgb.fit(X_train, y_train, early_stopping_rounds = 100,\n",
    "       eval_metric = \"auc\", eval_set = [(X_train, y_train), (X_test, y_test)])\n",
    "xgb_roc_score = roc_auc_score(y_test, xgb.predict_proba(X_test)[:,1],average = 'macro')\n",
    "\n",
    "print('ROC AUC: {0:.4f}'.format(xgb_roc_score)) #0.7739"
   ]
  },
  {
   "cell_type": "code",
   "execution_count": 36,
   "id": "e0e613b9-7ab5-40fd-9630-a4fd7ff0d031",
   "metadata": {},
   "outputs": [
    {
     "name": "stdout",
     "output_type": "stream",
     "text": [
      "ROC AUC: 0.7661\n"
     ]
    }
   ],
   "source": [
    "print('ROC AUC: {0:.4f}'.format(xgb_roc_score))"
   ]
  },
  {
   "cell_type": "code",
   "execution_count": 37,
   "id": "1d049cd5-1c14-48cc-9183-280a919dc092",
   "metadata": {
    "collapsed": true,
    "jupyter": {
     "outputs_hidden": true
    },
    "tags": []
   },
   "outputs": [
    {
     "name": "stdout",
     "output_type": "stream",
     "text": [
      "[0]\tvalidation_0-auc:0.70114\tvalidation_1-auc:0.64869\n",
      "[1]\tvalidation_0-auc:0.81068\tvalidation_1-auc:0.75517\n",
      "[2]\tvalidation_0-auc:0.81163\tvalidation_1-auc:0.75467\n",
      "[3]\tvalidation_0-auc:0.81939\tvalidation_1-auc:0.75964\n",
      "[4]\tvalidation_0-auc:0.81993\tvalidation_1-auc:0.75987\n",
      "[5]\tvalidation_0-auc:0.82235\tvalidation_1-auc:0.75953\n",
      "[6]\tvalidation_0-auc:0.82398\tvalidation_1-auc:0.76070\n",
      "[7]\tvalidation_0-auc:0.82598\tvalidation_1-auc:0.75878\n",
      "[8]\tvalidation_0-auc:0.82938\tvalidation_1-auc:0.76169\n",
      "[9]\tvalidation_0-auc:0.83251\tvalidation_1-auc:0.76453\n",
      "[10]\tvalidation_0-auc:0.83377\tvalidation_1-auc:0.76168\n",
      "[11]\tvalidation_0-auc:0.83451\tvalidation_1-auc:0.75935\n",
      "[12]\tvalidation_0-auc:0.83471\tvalidation_1-auc:0.75773\n",
      "[13]\tvalidation_0-auc:0.83533\tvalidation_1-auc:0.75741\n",
      "[14]\tvalidation_0-auc:0.83552\tvalidation_1-auc:0.75583\n",
      "[15]\tvalidation_0-auc:0.83647\tvalidation_1-auc:0.75501\n",
      "[16]\tvalidation_0-auc:0.83709\tvalidation_1-auc:0.75334\n",
      "[17]\tvalidation_0-auc:0.83723\tvalidation_1-auc:0.75138\n",
      "[18]\tvalidation_0-auc:0.83754\tvalidation_1-auc:0.75022\n",
      "[19]\tvalidation_0-auc:0.83834\tvalidation_1-auc:0.74937\n",
      "[20]\tvalidation_0-auc:0.83824\tvalidation_1-auc:0.74797\n",
      "[21]\tvalidation_0-auc:0.83847\tvalidation_1-auc:0.74635\n",
      "[22]\tvalidation_0-auc:0.83916\tvalidation_1-auc:0.74658\n",
      "[23]\tvalidation_0-auc:0.83947\tvalidation_1-auc:0.74592\n",
      "[24]\tvalidation_0-auc:0.84020\tvalidation_1-auc:0.74490\n",
      "[25]\tvalidation_0-auc:0.84026\tvalidation_1-auc:0.74419\n",
      "[26]\tvalidation_0-auc:0.84052\tvalidation_1-auc:0.74306\n",
      "[27]\tvalidation_0-auc:0.84069\tvalidation_1-auc:0.74233\n",
      "[28]\tvalidation_0-auc:0.84075\tvalidation_1-auc:0.74136\n",
      "[29]\tvalidation_0-auc:0.84077\tvalidation_1-auc:0.74115\n",
      "[30]\tvalidation_0-auc:0.84086\tvalidation_1-auc:0.74044\n",
      "[31]\tvalidation_0-auc:0.84095\tvalidation_1-auc:0.73947\n",
      "[32]\tvalidation_0-auc:0.84091\tvalidation_1-auc:0.73928\n",
      "[33]\tvalidation_0-auc:0.84092\tvalidation_1-auc:0.73900\n",
      "[34]\tvalidation_0-auc:0.84104\tvalidation_1-auc:0.73888\n",
      "[35]\tvalidation_0-auc:0.84107\tvalidation_1-auc:0.73787\n",
      "[36]\tvalidation_0-auc:0.84120\tvalidation_1-auc:0.73705\n",
      "[37]\tvalidation_0-auc:0.84131\tvalidation_1-auc:0.73687\n",
      "[38]\tvalidation_0-auc:0.84137\tvalidation_1-auc:0.73617\n",
      "[39]\tvalidation_0-auc:0.84157\tvalidation_1-auc:0.73546\n",
      "[0]\tvalidation_0-auc:0.70105\tvalidation_1-auc:0.65314\n",
      "[1]\tvalidation_0-auc:0.81080\tvalidation_1-auc:0.75716\n",
      "[2]\tvalidation_0-auc:0.81156\tvalidation_1-auc:0.75637\n",
      "[3]\tvalidation_0-auc:0.81940\tvalidation_1-auc:0.76216\n",
      "[4]\tvalidation_0-auc:0.81885\tvalidation_1-auc:0.76334\n",
      "[5]\tvalidation_0-auc:0.82167\tvalidation_1-auc:0.76262\n",
      "[6]\tvalidation_0-auc:0.82336\tvalidation_1-auc:0.76382\n",
      "[7]\tvalidation_0-auc:0.82550\tvalidation_1-auc:0.76389\n",
      "[8]\tvalidation_0-auc:0.82865\tvalidation_1-auc:0.76649\n",
      "[9]\tvalidation_0-auc:0.83130\tvalidation_1-auc:0.76813\n",
      "[10]\tvalidation_0-auc:0.83263\tvalidation_1-auc:0.76611\n",
      "[11]\tvalidation_0-auc:0.83352\tvalidation_1-auc:0.76533\n",
      "[12]\tvalidation_0-auc:0.83364\tvalidation_1-auc:0.76399\n",
      "[13]\tvalidation_0-auc:0.83405\tvalidation_1-auc:0.76409\n",
      "[14]\tvalidation_0-auc:0.83432\tvalidation_1-auc:0.76347\n",
      "[15]\tvalidation_0-auc:0.83556\tvalidation_1-auc:0.76275\n",
      "[16]\tvalidation_0-auc:0.83615\tvalidation_1-auc:0.76176\n",
      "[17]\tvalidation_0-auc:0.83630\tvalidation_1-auc:0.76086\n",
      "[18]\tvalidation_0-auc:0.83656\tvalidation_1-auc:0.76010\n",
      "[19]\tvalidation_0-auc:0.83739\tvalidation_1-auc:0.76019\n",
      "[20]\tvalidation_0-auc:0.83740\tvalidation_1-auc:0.75931\n",
      "[21]\tvalidation_0-auc:0.83774\tvalidation_1-auc:0.75834\n",
      "[22]\tvalidation_0-auc:0.83844\tvalidation_1-auc:0.75880\n",
      "[23]\tvalidation_0-auc:0.83881\tvalidation_1-auc:0.75878\n",
      "[24]\tvalidation_0-auc:0.83946\tvalidation_1-auc:0.75821\n",
      "[25]\tvalidation_0-auc:0.83954\tvalidation_1-auc:0.75772\n",
      "[26]\tvalidation_0-auc:0.84006\tvalidation_1-auc:0.75683\n",
      "[27]\tvalidation_0-auc:0.84024\tvalidation_1-auc:0.75618\n",
      "[28]\tvalidation_0-auc:0.84034\tvalidation_1-auc:0.75564\n",
      "[29]\tvalidation_0-auc:0.84043\tvalidation_1-auc:0.75536\n",
      "[30]\tvalidation_0-auc:0.84050\tvalidation_1-auc:0.75504\n",
      "[31]\tvalidation_0-auc:0.84058\tvalidation_1-auc:0.75479\n",
      "[32]\tvalidation_0-auc:0.84057\tvalidation_1-auc:0.75460\n",
      "[33]\tvalidation_0-auc:0.84056\tvalidation_1-auc:0.75448\n",
      "[34]\tvalidation_0-auc:0.84060\tvalidation_1-auc:0.75424\n",
      "[35]\tvalidation_0-auc:0.84067\tvalidation_1-auc:0.75388\n",
      "[36]\tvalidation_0-auc:0.84081\tvalidation_1-auc:0.75361\n",
      "[37]\tvalidation_0-auc:0.84096\tvalidation_1-auc:0.75352\n",
      "[38]\tvalidation_0-auc:0.84103\tvalidation_1-auc:0.75331\n",
      "[0]\tvalidation_0-auc:0.70123\tvalidation_1-auc:0.65204\n",
      "[1]\tvalidation_0-auc:0.81076\tvalidation_1-auc:0.75680\n",
      "[2]\tvalidation_0-auc:0.81144\tvalidation_1-auc:0.75611\n",
      "[3]\tvalidation_0-auc:0.81840\tvalidation_1-auc:0.76356\n",
      "[4]\tvalidation_0-auc:0.81877\tvalidation_1-auc:0.76365\n",
      "[5]\tvalidation_0-auc:0.82141\tvalidation_1-auc:0.76253\n",
      "[6]\tvalidation_0-auc:0.82302\tvalidation_1-auc:0.76404\n",
      "[7]\tvalidation_0-auc:0.82460\tvalidation_1-auc:0.76389\n",
      "[8]\tvalidation_0-auc:0.82784\tvalidation_1-auc:0.76670\n",
      "[9]\tvalidation_0-auc:0.83111\tvalidation_1-auc:0.76864\n",
      "[10]\tvalidation_0-auc:0.83241\tvalidation_1-auc:0.76675\n",
      "[11]\tvalidation_0-auc:0.83326\tvalidation_1-auc:0.76584\n",
      "[12]\tvalidation_0-auc:0.83338\tvalidation_1-auc:0.76480\n",
      "[13]\tvalidation_0-auc:0.83376\tvalidation_1-auc:0.76498\n",
      "[14]\tvalidation_0-auc:0.83422\tvalidation_1-auc:0.76441\n",
      "[15]\tvalidation_0-auc:0.83540\tvalidation_1-auc:0.76357\n",
      "[16]\tvalidation_0-auc:0.83613\tvalidation_1-auc:0.76259\n",
      "[17]\tvalidation_0-auc:0.83636\tvalidation_1-auc:0.76164\n",
      "[18]\tvalidation_0-auc:0.83672\tvalidation_1-auc:0.76072\n",
      "[19]\tvalidation_0-auc:0.83744\tvalidation_1-auc:0.76039\n",
      "[20]\tvalidation_0-auc:0.83743\tvalidation_1-auc:0.75952\n",
      "[21]\tvalidation_0-auc:0.83770\tvalidation_1-auc:0.75864\n",
      "[22]\tvalidation_0-auc:0.83834\tvalidation_1-auc:0.75912\n",
      "[23]\tvalidation_0-auc:0.83867\tvalidation_1-auc:0.75905\n",
      "[24]\tvalidation_0-auc:0.83924\tvalidation_1-auc:0.75847\n",
      "[25]\tvalidation_0-auc:0.83938\tvalidation_1-auc:0.75793\n",
      "[26]\tvalidation_0-auc:0.83984\tvalidation_1-auc:0.75709\n",
      "[27]\tvalidation_0-auc:0.83998\tvalidation_1-auc:0.75674\n",
      "[28]\tvalidation_0-auc:0.84008\tvalidation_1-auc:0.75621\n",
      "[29]\tvalidation_0-auc:0.84019\tvalidation_1-auc:0.75579\n",
      "[30]\tvalidation_0-auc:0.84025\tvalidation_1-auc:0.75545\n",
      "[31]\tvalidation_0-auc:0.84034\tvalidation_1-auc:0.75488\n",
      "[32]\tvalidation_0-auc:0.84039\tvalidation_1-auc:0.75458\n",
      "[33]\tvalidation_0-auc:0.84041\tvalidation_1-auc:0.75431\n",
      "[34]\tvalidation_0-auc:0.84044\tvalidation_1-auc:0.75410\n",
      "[35]\tvalidation_0-auc:0.84053\tvalidation_1-auc:0.75397\n",
      "[36]\tvalidation_0-auc:0.84075\tvalidation_1-auc:0.75344\n",
      "[37]\tvalidation_0-auc:0.84088\tvalidation_1-auc:0.75303\n",
      "[38]\tvalidation_0-auc:0.84096\tvalidation_1-auc:0.75247\n",
      "[39]\tvalidation_0-auc:0.84118\tvalidation_1-auc:0.75201\n",
      "[0]\tvalidation_0-auc:0.70114\tvalidation_1-auc:0.64869\n",
      "[1]\tvalidation_0-auc:0.81068\tvalidation_1-auc:0.75517\n",
      "[2]\tvalidation_0-auc:0.81163\tvalidation_1-auc:0.75467\n",
      "[3]\tvalidation_0-auc:0.81939\tvalidation_1-auc:0.75964\n",
      "[4]\tvalidation_0-auc:0.81993\tvalidation_1-auc:0.75987\n",
      "[5]\tvalidation_0-auc:0.82235\tvalidation_1-auc:0.75953\n",
      "[6]\tvalidation_0-auc:0.82398\tvalidation_1-auc:0.76070\n",
      "[7]\tvalidation_0-auc:0.82598\tvalidation_1-auc:0.75878\n",
      "[8]\tvalidation_0-auc:0.82938\tvalidation_1-auc:0.76169\n",
      "[9]\tvalidation_0-auc:0.83251\tvalidation_1-auc:0.76453\n",
      "[10]\tvalidation_0-auc:0.83377\tvalidation_1-auc:0.76168\n",
      "[11]\tvalidation_0-auc:0.83451\tvalidation_1-auc:0.75935\n",
      "[12]\tvalidation_0-auc:0.83471\tvalidation_1-auc:0.75773\n",
      "[13]\tvalidation_0-auc:0.83533\tvalidation_1-auc:0.75741\n",
      "[14]\tvalidation_0-auc:0.83552\tvalidation_1-auc:0.75583\n",
      "[15]\tvalidation_0-auc:0.83647\tvalidation_1-auc:0.75501\n",
      "[16]\tvalidation_0-auc:0.83709\tvalidation_1-auc:0.75331\n",
      "[17]\tvalidation_0-auc:0.83723\tvalidation_1-auc:0.75134\n",
      "[18]\tvalidation_0-auc:0.83754\tvalidation_1-auc:0.75013\n",
      "[19]\tvalidation_0-auc:0.83833\tvalidation_1-auc:0.74927\n",
      "[20]\tvalidation_0-auc:0.83822\tvalidation_1-auc:0.74786\n",
      "[21]\tvalidation_0-auc:0.83846\tvalidation_1-auc:0.74633\n",
      "[22]\tvalidation_0-auc:0.83915\tvalidation_1-auc:0.74651\n",
      "[23]\tvalidation_0-auc:0.83946\tvalidation_1-auc:0.74589\n",
      "[24]\tvalidation_0-auc:0.84018\tvalidation_1-auc:0.74488\n",
      "[25]\tvalidation_0-auc:0.84025\tvalidation_1-auc:0.74415\n",
      "[26]\tvalidation_0-auc:0.84050\tvalidation_1-auc:0.74313\n",
      "[27]\tvalidation_0-auc:0.84068\tvalidation_1-auc:0.74239\n",
      "[28]\tvalidation_0-auc:0.84074\tvalidation_1-auc:0.74141\n",
      "[29]\tvalidation_0-auc:0.84077\tvalidation_1-auc:0.74091\n",
      "[30]\tvalidation_0-auc:0.84086\tvalidation_1-auc:0.74025\n",
      "[31]\tvalidation_0-auc:0.84095\tvalidation_1-auc:0.73929\n",
      "[32]\tvalidation_0-auc:0.84090\tvalidation_1-auc:0.73907\n",
      "[33]\tvalidation_0-auc:0.84091\tvalidation_1-auc:0.73885\n",
      "[34]\tvalidation_0-auc:0.84112\tvalidation_1-auc:0.73854\n",
      "[35]\tvalidation_0-auc:0.84117\tvalidation_1-auc:0.73758\n",
      "[36]\tvalidation_0-auc:0.84129\tvalidation_1-auc:0.73671\n",
      "[37]\tvalidation_0-auc:0.84143\tvalidation_1-auc:0.73648\n",
      "[38]\tvalidation_0-auc:0.84145\tvalidation_1-auc:0.73595\n",
      "[0]\tvalidation_0-auc:0.70105\tvalidation_1-auc:0.65314\n",
      "[1]\tvalidation_0-auc:0.81080\tvalidation_1-auc:0.75716\n",
      "[2]\tvalidation_0-auc:0.81156\tvalidation_1-auc:0.75637\n",
      "[3]\tvalidation_0-auc:0.81940\tvalidation_1-auc:0.76216\n",
      "[4]\tvalidation_0-auc:0.81885\tvalidation_1-auc:0.76334\n",
      "[5]\tvalidation_0-auc:0.82167\tvalidation_1-auc:0.76262\n",
      "[6]\tvalidation_0-auc:0.82336\tvalidation_1-auc:0.76382\n",
      "[7]\tvalidation_0-auc:0.82550\tvalidation_1-auc:0.76389\n",
      "[8]\tvalidation_0-auc:0.82865\tvalidation_1-auc:0.76649\n",
      "[9]\tvalidation_0-auc:0.83130\tvalidation_1-auc:0.76813\n",
      "[10]\tvalidation_0-auc:0.83263\tvalidation_1-auc:0.76611\n",
      "[11]\tvalidation_0-auc:0.83352\tvalidation_1-auc:0.76533\n",
      "[12]\tvalidation_0-auc:0.83364\tvalidation_1-auc:0.76399\n",
      "[13]\tvalidation_0-auc:0.83405\tvalidation_1-auc:0.76409\n",
      "[14]\tvalidation_0-auc:0.83432\tvalidation_1-auc:0.76347\n",
      "[15]\tvalidation_0-auc:0.83556\tvalidation_1-auc:0.76280\n",
      "[16]\tvalidation_0-auc:0.83615\tvalidation_1-auc:0.76167\n",
      "[17]\tvalidation_0-auc:0.83629\tvalidation_1-auc:0.76072\n",
      "[18]\tvalidation_0-auc:0.83657\tvalidation_1-auc:0.76002\n",
      "[19]\tvalidation_0-auc:0.83740\tvalidation_1-auc:0.76008\n",
      "[20]\tvalidation_0-auc:0.83741\tvalidation_1-auc:0.75921\n",
      "[21]\tvalidation_0-auc:0.83776\tvalidation_1-auc:0.75826\n",
      "[22]\tvalidation_0-auc:0.83843\tvalidation_1-auc:0.75874\n",
      "[23]\tvalidation_0-auc:0.83881\tvalidation_1-auc:0.75875\n",
      "[24]\tvalidation_0-auc:0.83944\tvalidation_1-auc:0.75819\n",
      "[25]\tvalidation_0-auc:0.83952\tvalidation_1-auc:0.75770\n",
      "[26]\tvalidation_0-auc:0.84003\tvalidation_1-auc:0.75663\n",
      "[27]\tvalidation_0-auc:0.84017\tvalidation_1-auc:0.75605\n",
      "[28]\tvalidation_0-auc:0.84027\tvalidation_1-auc:0.75555\n",
      "[29]\tvalidation_0-auc:0.84038\tvalidation_1-auc:0.75525\n",
      "[30]\tvalidation_0-auc:0.84045\tvalidation_1-auc:0.75493\n",
      "[31]\tvalidation_0-auc:0.84052\tvalidation_1-auc:0.75464\n",
      "[32]\tvalidation_0-auc:0.84052\tvalidation_1-auc:0.75445\n",
      "[33]\tvalidation_0-auc:0.84051\tvalidation_1-auc:0.75428\n",
      "[34]\tvalidation_0-auc:0.84059\tvalidation_1-auc:0.75418\n",
      "[35]\tvalidation_0-auc:0.84064\tvalidation_1-auc:0.75383\n",
      "[36]\tvalidation_0-auc:0.84082\tvalidation_1-auc:0.75323\n",
      "[37]\tvalidation_0-auc:0.84097\tvalidation_1-auc:0.75286\n",
      "[38]\tvalidation_0-auc:0.84103\tvalidation_1-auc:0.75270\n",
      "[39]\tvalidation_0-auc:0.84110\tvalidation_1-auc:0.75261\n",
      "[0]\tvalidation_0-auc:0.70123\tvalidation_1-auc:0.65204\n",
      "[1]\tvalidation_0-auc:0.81076\tvalidation_1-auc:0.75680\n",
      "[2]\tvalidation_0-auc:0.81144\tvalidation_1-auc:0.75611\n",
      "[3]\tvalidation_0-auc:0.81840\tvalidation_1-auc:0.76356\n",
      "[4]\tvalidation_0-auc:0.81877\tvalidation_1-auc:0.76365\n",
      "[5]\tvalidation_0-auc:0.82141\tvalidation_1-auc:0.76253\n",
      "[6]\tvalidation_0-auc:0.82302\tvalidation_1-auc:0.76404\n",
      "[7]\tvalidation_0-auc:0.82460\tvalidation_1-auc:0.76389\n",
      "[8]\tvalidation_0-auc:0.82784\tvalidation_1-auc:0.76670\n",
      "[9]\tvalidation_0-auc:0.83111\tvalidation_1-auc:0.76864\n",
      "[10]\tvalidation_0-auc:0.83241\tvalidation_1-auc:0.76675\n",
      "[11]\tvalidation_0-auc:0.83326\tvalidation_1-auc:0.76584\n",
      "[12]\tvalidation_0-auc:0.83338\tvalidation_1-auc:0.76480\n",
      "[13]\tvalidation_0-auc:0.83376\tvalidation_1-auc:0.76498\n",
      "[14]\tvalidation_0-auc:0.83422\tvalidation_1-auc:0.76441\n",
      "[15]\tvalidation_0-auc:0.83539\tvalidation_1-auc:0.76356\n",
      "[16]\tvalidation_0-auc:0.83612\tvalidation_1-auc:0.76254\n",
      "[17]\tvalidation_0-auc:0.83635\tvalidation_1-auc:0.76160\n",
      "[18]\tvalidation_0-auc:0.83670\tvalidation_1-auc:0.76062\n",
      "[19]\tvalidation_0-auc:0.83743\tvalidation_1-auc:0.76029\n",
      "[20]\tvalidation_0-auc:0.83742\tvalidation_1-auc:0.75943\n",
      "[21]\tvalidation_0-auc:0.83768\tvalidation_1-auc:0.75857\n",
      "[22]\tvalidation_0-auc:0.83832\tvalidation_1-auc:0.75907\n",
      "[23]\tvalidation_0-auc:0.83865\tvalidation_1-auc:0.75897\n",
      "[24]\tvalidation_0-auc:0.83922\tvalidation_1-auc:0.75849\n",
      "[25]\tvalidation_0-auc:0.83935\tvalidation_1-auc:0.75796\n",
      "[26]\tvalidation_0-auc:0.83980\tvalidation_1-auc:0.75717\n",
      "[27]\tvalidation_0-auc:0.83991\tvalidation_1-auc:0.75688\n",
      "[28]\tvalidation_0-auc:0.84002\tvalidation_1-auc:0.75632\n",
      "[29]\tvalidation_0-auc:0.84008\tvalidation_1-auc:0.75617\n",
      "[30]\tvalidation_0-auc:0.84015\tvalidation_1-auc:0.75583\n",
      "[31]\tvalidation_0-auc:0.84023\tvalidation_1-auc:0.75535\n",
      "[32]\tvalidation_0-auc:0.84030\tvalidation_1-auc:0.75510\n",
      "[33]\tvalidation_0-auc:0.84035\tvalidation_1-auc:0.75475\n",
      "[34]\tvalidation_0-auc:0.84049\tvalidation_1-auc:0.75448\n",
      "[35]\tvalidation_0-auc:0.84058\tvalidation_1-auc:0.75400\n",
      "[36]\tvalidation_0-auc:0.84079\tvalidation_1-auc:0.75329\n",
      "[37]\tvalidation_0-auc:0.84094\tvalidation_1-auc:0.75291\n",
      "[38]\tvalidation_0-auc:0.84099\tvalidation_1-auc:0.75269\n",
      "[0]\tvalidation_0-auc:0.70590\tvalidation_1-auc:0.64662\n",
      "[1]\tvalidation_0-auc:0.81642\tvalidation_1-auc:0.74873\n",
      "[2]\tvalidation_0-auc:0.81514\tvalidation_1-auc:0.74992\n",
      "[3]\tvalidation_0-auc:0.82507\tvalidation_1-auc:0.75332\n",
      "[4]\tvalidation_0-auc:0.82474\tvalidation_1-auc:0.75363\n",
      "[5]\tvalidation_0-auc:0.82715\tvalidation_1-auc:0.75093\n",
      "[6]\tvalidation_0-auc:0.82869\tvalidation_1-auc:0.75152\n",
      "[7]\tvalidation_0-auc:0.83035\tvalidation_1-auc:0.74948\n",
      "[8]\tvalidation_0-auc:0.83375\tvalidation_1-auc:0.75072\n",
      "[9]\tvalidation_0-auc:0.83669\tvalidation_1-auc:0.75345\n",
      "[10]\tvalidation_0-auc:0.83735\tvalidation_1-auc:0.75114\n",
      "[11]\tvalidation_0-auc:0.83789\tvalidation_1-auc:0.74858\n",
      "[12]\tvalidation_0-auc:0.83777\tvalidation_1-auc:0.74737\n",
      "[13]\tvalidation_0-auc:0.83823\tvalidation_1-auc:0.74736\n",
      "[14]\tvalidation_0-auc:0.83831\tvalidation_1-auc:0.74658\n",
      "[15]\tvalidation_0-auc:0.83979\tvalidation_1-auc:0.74407\n",
      "[16]\tvalidation_0-auc:0.84051\tvalidation_1-auc:0.74139\n",
      "[17]\tvalidation_0-auc:0.84056\tvalidation_1-auc:0.73996\n",
      "[18]\tvalidation_0-auc:0.84073\tvalidation_1-auc:0.73869\n",
      "[19]\tvalidation_0-auc:0.84136\tvalidation_1-auc:0.73766\n",
      "[20]\tvalidation_0-auc:0.84126\tvalidation_1-auc:0.73678\n",
      "[21]\tvalidation_0-auc:0.84142\tvalidation_1-auc:0.73569\n",
      "[22]\tvalidation_0-auc:0.84197\tvalidation_1-auc:0.73517\n",
      "[23]\tvalidation_0-auc:0.84225\tvalidation_1-auc:0.73477\n",
      "[24]\tvalidation_0-auc:0.84314\tvalidation_1-auc:0.73316\n",
      "[25]\tvalidation_0-auc:0.84315\tvalidation_1-auc:0.73284\n",
      "[26]\tvalidation_0-auc:0.84364\tvalidation_1-auc:0.73135\n",
      "[27]\tvalidation_0-auc:0.84377\tvalidation_1-auc:0.73059\n",
      "[28]\tvalidation_0-auc:0.84379\tvalidation_1-auc:0.72986\n",
      "[29]\tvalidation_0-auc:0.84387\tvalidation_1-auc:0.72926\n",
      "[30]\tvalidation_0-auc:0.84389\tvalidation_1-auc:0.72880\n",
      "[31]\tvalidation_0-auc:0.84396\tvalidation_1-auc:0.72786\n",
      "[32]\tvalidation_0-auc:0.84394\tvalidation_1-auc:0.72761\n",
      "[33]\tvalidation_0-auc:0.84399\tvalidation_1-auc:0.72778\n",
      "[0]\tvalidation_0-auc:0.70627\tvalidation_1-auc:0.65743\n",
      "[1]\tvalidation_0-auc:0.81540\tvalidation_1-auc:0.75475\n",
      "[2]\tvalidation_0-auc:0.81443\tvalidation_1-auc:0.75530\n",
      "[3]\tvalidation_0-auc:0.82423\tvalidation_1-auc:0.75999\n",
      "[4]\tvalidation_0-auc:0.82334\tvalidation_1-auc:0.76125\n",
      "[5]\tvalidation_0-auc:0.82594\tvalidation_1-auc:0.75857\n",
      "[6]\tvalidation_0-auc:0.82733\tvalidation_1-auc:0.75993\n",
      "[7]\tvalidation_0-auc:0.82912\tvalidation_1-auc:0.75943\n",
      "[8]\tvalidation_0-auc:0.83257\tvalidation_1-auc:0.76071\n",
      "[9]\tvalidation_0-auc:0.83539\tvalidation_1-auc:0.76286\n",
      "[10]\tvalidation_0-auc:0.83615\tvalidation_1-auc:0.76117\n",
      "[11]\tvalidation_0-auc:0.83680\tvalidation_1-auc:0.75955\n",
      "[12]\tvalidation_0-auc:0.83674\tvalidation_1-auc:0.75858\n",
      "[13]\tvalidation_0-auc:0.83714\tvalidation_1-auc:0.75891\n",
      "[14]\tvalidation_0-auc:0.83729\tvalidation_1-auc:0.75848\n",
      "[15]\tvalidation_0-auc:0.83871\tvalidation_1-auc:0.75723\n",
      "[16]\tvalidation_0-auc:0.83969\tvalidation_1-auc:0.75586\n",
      "[17]\tvalidation_0-auc:0.83979\tvalidation_1-auc:0.75511\n",
      "[18]\tvalidation_0-auc:0.84001\tvalidation_1-auc:0.75407\n",
      "[19]\tvalidation_0-auc:0.84063\tvalidation_1-auc:0.75339\n",
      "[20]\tvalidation_0-auc:0.84061\tvalidation_1-auc:0.75286\n",
      "[21]\tvalidation_0-auc:0.84079\tvalidation_1-auc:0.75216\n",
      "[22]\tvalidation_0-auc:0.84145\tvalidation_1-auc:0.75202\n",
      "[23]\tvalidation_0-auc:0.84179\tvalidation_1-auc:0.75208\n",
      "[24]\tvalidation_0-auc:0.84274\tvalidation_1-auc:0.75107\n",
      "[25]\tvalidation_0-auc:0.84276\tvalidation_1-auc:0.75076\n",
      "[26]\tvalidation_0-auc:0.84332\tvalidation_1-auc:0.74939\n",
      "[27]\tvalidation_0-auc:0.84349\tvalidation_1-auc:0.74884\n",
      "[28]\tvalidation_0-auc:0.84355\tvalidation_1-auc:0.74844\n",
      "[29]\tvalidation_0-auc:0.84366\tvalidation_1-auc:0.74829\n",
      "[30]\tvalidation_0-auc:0.84368\tvalidation_1-auc:0.74810\n",
      "[31]\tvalidation_0-auc:0.84377\tvalidation_1-auc:0.74784\n",
      "[32]\tvalidation_0-auc:0.84377\tvalidation_1-auc:0.74769\n",
      "[33]\tvalidation_0-auc:0.84383\tvalidation_1-auc:0.74762\n",
      "[34]\tvalidation_0-auc:0.84395\tvalidation_1-auc:0.74723\n",
      "[35]\tvalidation_0-auc:0.84402\tvalidation_1-auc:0.74683\n",
      "[36]\tvalidation_0-auc:0.84418\tvalidation_1-auc:0.74623\n",
      "[37]\tvalidation_0-auc:0.84444\tvalidation_1-auc:0.74569\n",
      "[38]\tvalidation_0-auc:0.84450\tvalidation_1-auc:0.74549\n",
      "[0]\tvalidation_0-auc:0.70619\tvalidation_1-auc:0.65899\n",
      "[1]\tvalidation_0-auc:0.81509\tvalidation_1-auc:0.75480\n",
      "[2]\tvalidation_0-auc:0.81437\tvalidation_1-auc:0.75544\n",
      "[3]\tvalidation_0-auc:0.82396\tvalidation_1-auc:0.76004\n",
      "[4]\tvalidation_0-auc:0.82297\tvalidation_1-auc:0.76093\n",
      "[5]\tvalidation_0-auc:0.82603\tvalidation_1-auc:0.75840\n",
      "[6]\tvalidation_0-auc:0.82711\tvalidation_1-auc:0.75974\n",
      "[7]\tvalidation_0-auc:0.82866\tvalidation_1-auc:0.75946\n",
      "[8]\tvalidation_0-auc:0.83225\tvalidation_1-auc:0.76080\n",
      "[9]\tvalidation_0-auc:0.83520\tvalidation_1-auc:0.76304\n",
      "[10]\tvalidation_0-auc:0.83600\tvalidation_1-auc:0.76117\n",
      "[11]\tvalidation_0-auc:0.83667\tvalidation_1-auc:0.75965\n",
      "[12]\tvalidation_0-auc:0.83665\tvalidation_1-auc:0.75887\n",
      "[13]\tvalidation_0-auc:0.83703\tvalidation_1-auc:0.75909\n",
      "[14]\tvalidation_0-auc:0.83719\tvalidation_1-auc:0.75862\n",
      "[15]\tvalidation_0-auc:0.83870\tvalidation_1-auc:0.75713\n",
      "[16]\tvalidation_0-auc:0.83960\tvalidation_1-auc:0.75603\n",
      "[17]\tvalidation_0-auc:0.83971\tvalidation_1-auc:0.75524\n",
      "[18]\tvalidation_0-auc:0.83992\tvalidation_1-auc:0.75437\n",
      "[19]\tvalidation_0-auc:0.84058\tvalidation_1-auc:0.75368\n",
      "[20]\tvalidation_0-auc:0.84056\tvalidation_1-auc:0.75314\n",
      "[21]\tvalidation_0-auc:0.84072\tvalidation_1-auc:0.75248\n",
      "[22]\tvalidation_0-auc:0.84139\tvalidation_1-auc:0.75238\n",
      "[23]\tvalidation_0-auc:0.84176\tvalidation_1-auc:0.75251\n",
      "[24]\tvalidation_0-auc:0.84274\tvalidation_1-auc:0.75135\n",
      "[25]\tvalidation_0-auc:0.84278\tvalidation_1-auc:0.75111\n",
      "[26]\tvalidation_0-auc:0.84343\tvalidation_1-auc:0.74967\n",
      "[27]\tvalidation_0-auc:0.84356\tvalidation_1-auc:0.74933\n",
      "[28]\tvalidation_0-auc:0.84361\tvalidation_1-auc:0.74898\n",
      "[29]\tvalidation_0-auc:0.84369\tvalidation_1-auc:0.74871\n",
      "[30]\tvalidation_0-auc:0.84372\tvalidation_1-auc:0.74850\n",
      "[31]\tvalidation_0-auc:0.84380\tvalidation_1-auc:0.74822\n",
      "[32]\tvalidation_0-auc:0.84379\tvalidation_1-auc:0.74808\n",
      "[33]\tvalidation_0-auc:0.84385\tvalidation_1-auc:0.74800\n",
      "[34]\tvalidation_0-auc:0.84398\tvalidation_1-auc:0.74752\n",
      "[35]\tvalidation_0-auc:0.84402\tvalidation_1-auc:0.74734\n",
      "[36]\tvalidation_0-auc:0.84421\tvalidation_1-auc:0.74690\n",
      "[37]\tvalidation_0-auc:0.84446\tvalidation_1-auc:0.74636\n",
      "[38]\tvalidation_0-auc:0.84451\tvalidation_1-auc:0.74597\n",
      "[0]\tvalidation_0-auc:0.70584\tvalidation_1-auc:0.64661\n",
      "[1]\tvalidation_0-auc:0.81640\tvalidation_1-auc:0.74877\n",
      "[2]\tvalidation_0-auc:0.81513\tvalidation_1-auc:0.74997\n",
      "[3]\tvalidation_0-auc:0.82507\tvalidation_1-auc:0.75332\n",
      "[4]\tvalidation_0-auc:0.82475\tvalidation_1-auc:0.75364\n",
      "[5]\tvalidation_0-auc:0.82715\tvalidation_1-auc:0.75094\n",
      "[6]\tvalidation_0-auc:0.82868\tvalidation_1-auc:0.75152\n",
      "[7]\tvalidation_0-auc:0.83034\tvalidation_1-auc:0.74954\n",
      "[8]\tvalidation_0-auc:0.83370\tvalidation_1-auc:0.75076\n",
      "[9]\tvalidation_0-auc:0.83664\tvalidation_1-auc:0.75356\n",
      "[10]\tvalidation_0-auc:0.83731\tvalidation_1-auc:0.75133\n",
      "[11]\tvalidation_0-auc:0.83779\tvalidation_1-auc:0.74874\n",
      "[12]\tvalidation_0-auc:0.83769\tvalidation_1-auc:0.74750\n",
      "[13]\tvalidation_0-auc:0.83816\tvalidation_1-auc:0.74742\n",
      "[14]\tvalidation_0-auc:0.83825\tvalidation_1-auc:0.74666\n",
      "[15]\tvalidation_0-auc:0.83971\tvalidation_1-auc:0.74425\n",
      "[16]\tvalidation_0-auc:0.84043\tvalidation_1-auc:0.74160\n",
      "[17]\tvalidation_0-auc:0.84048\tvalidation_1-auc:0.74016\n",
      "[18]\tvalidation_0-auc:0.84065\tvalidation_1-auc:0.73902\n",
      "[19]\tvalidation_0-auc:0.84124\tvalidation_1-auc:0.73798\n",
      "[20]\tvalidation_0-auc:0.84114\tvalidation_1-auc:0.73709\n",
      "[21]\tvalidation_0-auc:0.84129\tvalidation_1-auc:0.73592\n",
      "[22]\tvalidation_0-auc:0.84187\tvalidation_1-auc:0.73548\n",
      "[23]\tvalidation_0-auc:0.84217\tvalidation_1-auc:0.73500\n",
      "[24]\tvalidation_0-auc:0.84307\tvalidation_1-auc:0.73331\n",
      "[25]\tvalidation_0-auc:0.84311\tvalidation_1-auc:0.73301\n",
      "[26]\tvalidation_0-auc:0.84354\tvalidation_1-auc:0.73173\n",
      "[27]\tvalidation_0-auc:0.84370\tvalidation_1-auc:0.73047\n",
      "[28]\tvalidation_0-auc:0.84373\tvalidation_1-auc:0.72969\n",
      "[29]\tvalidation_0-auc:0.84381\tvalidation_1-auc:0.72924\n",
      "[30]\tvalidation_0-auc:0.84382\tvalidation_1-auc:0.72888\n",
      "[31]\tvalidation_0-auc:0.84389\tvalidation_1-auc:0.72788\n",
      "[32]\tvalidation_0-auc:0.84387\tvalidation_1-auc:0.72771\n",
      "[33]\tvalidation_0-auc:0.84392\tvalidation_1-auc:0.72771\n",
      "[0]\tvalidation_0-auc:0.70623\tvalidation_1-auc:0.65743\n",
      "[1]\tvalidation_0-auc:0.81539\tvalidation_1-auc:0.75480\n",
      "[2]\tvalidation_0-auc:0.81442\tvalidation_1-auc:0.75537\n",
      "[3]\tvalidation_0-auc:0.82422\tvalidation_1-auc:0.76002\n",
      "[4]\tvalidation_0-auc:0.82333\tvalidation_1-auc:0.76130\n",
      "[5]\tvalidation_0-auc:0.82592\tvalidation_1-auc:0.75861\n",
      "[6]\tvalidation_0-auc:0.82730\tvalidation_1-auc:0.76000\n",
      "[7]\tvalidation_0-auc:0.82909\tvalidation_1-auc:0.75950\n",
      "[8]\tvalidation_0-auc:0.83250\tvalidation_1-auc:0.76077\n",
      "[9]\tvalidation_0-auc:0.83537\tvalidation_1-auc:0.76295\n",
      "[10]\tvalidation_0-auc:0.83613\tvalidation_1-auc:0.76126\n",
      "[11]\tvalidation_0-auc:0.83673\tvalidation_1-auc:0.75953\n",
      "[12]\tvalidation_0-auc:0.83667\tvalidation_1-auc:0.75862\n",
      "[13]\tvalidation_0-auc:0.83708\tvalidation_1-auc:0.75890\n",
      "[14]\tvalidation_0-auc:0.83723\tvalidation_1-auc:0.75850\n",
      "[15]\tvalidation_0-auc:0.83866\tvalidation_1-auc:0.75737\n",
      "[16]\tvalidation_0-auc:0.83960\tvalidation_1-auc:0.75617\n",
      "[17]\tvalidation_0-auc:0.83971\tvalidation_1-auc:0.75540\n",
      "[18]\tvalidation_0-auc:0.83991\tvalidation_1-auc:0.75430\n",
      "[19]\tvalidation_0-auc:0.84051\tvalidation_1-auc:0.75365\n",
      "[20]\tvalidation_0-auc:0.84049\tvalidation_1-auc:0.75311\n",
      "[21]\tvalidation_0-auc:0.84068\tvalidation_1-auc:0.75226\n",
      "[22]\tvalidation_0-auc:0.84133\tvalidation_1-auc:0.75228\n",
      "[23]\tvalidation_0-auc:0.84164\tvalidation_1-auc:0.75224\n",
      "[24]\tvalidation_0-auc:0.84265\tvalidation_1-auc:0.75138\n",
      "[25]\tvalidation_0-auc:0.84268\tvalidation_1-auc:0.75109\n",
      "[26]\tvalidation_0-auc:0.84328\tvalidation_1-auc:0.74977\n",
      "[27]\tvalidation_0-auc:0.84346\tvalidation_1-auc:0.74921\n",
      "[28]\tvalidation_0-auc:0.84352\tvalidation_1-auc:0.74885\n",
      "[29]\tvalidation_0-auc:0.84363\tvalidation_1-auc:0.74867\n",
      "[30]\tvalidation_0-auc:0.84365\tvalidation_1-auc:0.74851\n",
      "[31]\tvalidation_0-auc:0.84374\tvalidation_1-auc:0.74805\n",
      "[32]\tvalidation_0-auc:0.84375\tvalidation_1-auc:0.74791\n",
      "[33]\tvalidation_0-auc:0.84380\tvalidation_1-auc:0.74796\n",
      "[34]\tvalidation_0-auc:0.84390\tvalidation_1-auc:0.74741\n",
      "[35]\tvalidation_0-auc:0.84400\tvalidation_1-auc:0.74700\n",
      "[36]\tvalidation_0-auc:0.84419\tvalidation_1-auc:0.74641\n",
      "[37]\tvalidation_0-auc:0.84441\tvalidation_1-auc:0.74615\n",
      "[38]\tvalidation_0-auc:0.84446\tvalidation_1-auc:0.74585\n",
      "[0]\tvalidation_0-auc:0.70617\tvalidation_1-auc:0.65901\n",
      "[1]\tvalidation_0-auc:0.81512\tvalidation_1-auc:0.75480\n",
      "[2]\tvalidation_0-auc:0.81440\tvalidation_1-auc:0.75553\n",
      "[3]\tvalidation_0-auc:0.82400\tvalidation_1-auc:0.76008\n",
      "[4]\tvalidation_0-auc:0.82297\tvalidation_1-auc:0.76095\n",
      "[5]\tvalidation_0-auc:0.82599\tvalidation_1-auc:0.75839\n",
      "[6]\tvalidation_0-auc:0.82709\tvalidation_1-auc:0.75971\n",
      "[7]\tvalidation_0-auc:0.82864\tvalidation_1-auc:0.75940\n",
      "[8]\tvalidation_0-auc:0.83220\tvalidation_1-auc:0.76073\n",
      "[9]\tvalidation_0-auc:0.83516\tvalidation_1-auc:0.76301\n",
      "[10]\tvalidation_0-auc:0.83595\tvalidation_1-auc:0.76121\n",
      "[11]\tvalidation_0-auc:0.83663\tvalidation_1-auc:0.75974\n",
      "[12]\tvalidation_0-auc:0.83661\tvalidation_1-auc:0.75902\n",
      "[13]\tvalidation_0-auc:0.83698\tvalidation_1-auc:0.75924\n",
      "[14]\tvalidation_0-auc:0.83715\tvalidation_1-auc:0.75871\n",
      "[15]\tvalidation_0-auc:0.83862\tvalidation_1-auc:0.75724\n",
      "[16]\tvalidation_0-auc:0.83952\tvalidation_1-auc:0.75625\n",
      "[17]\tvalidation_0-auc:0.83964\tvalidation_1-auc:0.75549\n",
      "[18]\tvalidation_0-auc:0.83979\tvalidation_1-auc:0.75452\n",
      "[19]\tvalidation_0-auc:0.84046\tvalidation_1-auc:0.75375\n",
      "[20]\tvalidation_0-auc:0.84046\tvalidation_1-auc:0.75318\n",
      "[21]\tvalidation_0-auc:0.84063\tvalidation_1-auc:0.75229\n",
      "[22]\tvalidation_0-auc:0.84129\tvalidation_1-auc:0.75226\n",
      "[23]\tvalidation_0-auc:0.84171\tvalidation_1-auc:0.75233\n",
      "[24]\tvalidation_0-auc:0.84266\tvalidation_1-auc:0.75118\n",
      "[25]\tvalidation_0-auc:0.84269\tvalidation_1-auc:0.75101\n",
      "[26]\tvalidation_0-auc:0.84319\tvalidation_1-auc:0.74973\n",
      "[27]\tvalidation_0-auc:0.84336\tvalidation_1-auc:0.74927\n",
      "[28]\tvalidation_0-auc:0.84339\tvalidation_1-auc:0.74894\n",
      "[29]\tvalidation_0-auc:0.84350\tvalidation_1-auc:0.74830\n",
      "[30]\tvalidation_0-auc:0.84354\tvalidation_1-auc:0.74812\n",
      "[31]\tvalidation_0-auc:0.84361\tvalidation_1-auc:0.74787\n",
      "[32]\tvalidation_0-auc:0.84362\tvalidation_1-auc:0.74776\n",
      "[33]\tvalidation_0-auc:0.84368\tvalidation_1-auc:0.74792\n",
      "[34]\tvalidation_0-auc:0.84386\tvalidation_1-auc:0.74721\n",
      "[35]\tvalidation_0-auc:0.84389\tvalidation_1-auc:0.74696\n",
      "[36]\tvalidation_0-auc:0.84409\tvalidation_1-auc:0.74615\n",
      "[37]\tvalidation_0-auc:0.84432\tvalidation_1-auc:0.74575\n",
      "[38]\tvalidation_0-auc:0.84437\tvalidation_1-auc:0.74545\n",
      "[0]\tvalidation_0-auc:0.78855\tvalidation_1-auc:0.74460\n",
      "[1]\tvalidation_0-auc:0.79992\tvalidation_1-auc:0.75880\n",
      "[2]\tvalidation_0-auc:0.81003\tvalidation_1-auc:0.76223\n",
      "[3]\tvalidation_0-auc:0.81471\tvalidation_1-auc:0.76423\n",
      "[4]\tvalidation_0-auc:0.81969\tvalidation_1-auc:0.76493\n",
      "[5]\tvalidation_0-auc:0.82113\tvalidation_1-auc:0.76444\n",
      "[6]\tvalidation_0-auc:0.82240\tvalidation_1-auc:0.76372\n",
      "[7]\tvalidation_0-auc:0.82758\tvalidation_1-auc:0.76347\n",
      "[8]\tvalidation_0-auc:0.83052\tvalidation_1-auc:0.76302\n",
      "[9]\tvalidation_0-auc:0.83210\tvalidation_1-auc:0.76282\n",
      "[10]\tvalidation_0-auc:0.83334\tvalidation_1-auc:0.76000\n",
      "[11]\tvalidation_0-auc:0.83476\tvalidation_1-auc:0.75840\n",
      "[12]\tvalidation_0-auc:0.83557\tvalidation_1-auc:0.75778\n",
      "[13]\tvalidation_0-auc:0.83653\tvalidation_1-auc:0.75712\n",
      "[14]\tvalidation_0-auc:0.83712\tvalidation_1-auc:0.75605\n",
      "[15]\tvalidation_0-auc:0.83786\tvalidation_1-auc:0.75406\n",
      "[16]\tvalidation_0-auc:0.83828\tvalidation_1-auc:0.75390\n",
      "[17]\tvalidation_0-auc:0.83846\tvalidation_1-auc:0.75209\n",
      "[18]\tvalidation_0-auc:0.83885\tvalidation_1-auc:0.75113\n",
      "[19]\tvalidation_0-auc:0.83938\tvalidation_1-auc:0.74968\n",
      "[20]\tvalidation_0-auc:0.83965\tvalidation_1-auc:0.74770\n",
      "[21]\tvalidation_0-auc:0.84001\tvalidation_1-auc:0.74670\n",
      "[22]\tvalidation_0-auc:0.84018\tvalidation_1-auc:0.74679\n",
      "[23]\tvalidation_0-auc:0.84040\tvalidation_1-auc:0.74548\n",
      "[24]\tvalidation_0-auc:0.84059\tvalidation_1-auc:0.74485\n",
      "[25]\tvalidation_0-auc:0.84084\tvalidation_1-auc:0.74415\n",
      "[26]\tvalidation_0-auc:0.84096\tvalidation_1-auc:0.74380\n",
      "[27]\tvalidation_0-auc:0.84123\tvalidation_1-auc:0.74308\n",
      "[28]\tvalidation_0-auc:0.84169\tvalidation_1-auc:0.74141\n",
      "[29]\tvalidation_0-auc:0.84185\tvalidation_1-auc:0.74099\n",
      "[30]\tvalidation_0-auc:0.84187\tvalidation_1-auc:0.73968\n",
      "[31]\tvalidation_0-auc:0.84194\tvalidation_1-auc:0.73931\n",
      "[32]\tvalidation_0-auc:0.84197\tvalidation_1-auc:0.73859\n",
      "[33]\tvalidation_0-auc:0.84200\tvalidation_1-auc:0.73826\n",
      "[34]\tvalidation_0-auc:0.84208\tvalidation_1-auc:0.73737\n",
      "[0]\tvalidation_0-auc:0.78865\tvalidation_1-auc:0.74662\n",
      "[1]\tvalidation_0-auc:0.80021\tvalidation_1-auc:0.76105\n",
      "[2]\tvalidation_0-auc:0.80980\tvalidation_1-auc:0.76484\n",
      "[3]\tvalidation_0-auc:0.81421\tvalidation_1-auc:0.76778\n",
      "[4]\tvalidation_0-auc:0.81872\tvalidation_1-auc:0.76930\n",
      "[5]\tvalidation_0-auc:0.82037\tvalidation_1-auc:0.76939\n",
      "[6]\tvalidation_0-auc:0.82129\tvalidation_1-auc:0.76919\n",
      "[7]\tvalidation_0-auc:0.82636\tvalidation_1-auc:0.76910\n",
      "[8]\tvalidation_0-auc:0.82851\tvalidation_1-auc:0.77013\n",
      "[9]\tvalidation_0-auc:0.82980\tvalidation_1-auc:0.76935\n",
      "[10]\tvalidation_0-auc:0.83146\tvalidation_1-auc:0.76820\n",
      "[11]\tvalidation_0-auc:0.83319\tvalidation_1-auc:0.76671\n",
      "[12]\tvalidation_0-auc:0.83404\tvalidation_1-auc:0.76584\n",
      "[13]\tvalidation_0-auc:0.83499\tvalidation_1-auc:0.76572\n",
      "[14]\tvalidation_0-auc:0.83571\tvalidation_1-auc:0.76518\n",
      "[15]\tvalidation_0-auc:0.83654\tvalidation_1-auc:0.76409\n",
      "[16]\tvalidation_0-auc:0.83699\tvalidation_1-auc:0.76352\n",
      "[17]\tvalidation_0-auc:0.83726\tvalidation_1-auc:0.76276\n",
      "[18]\tvalidation_0-auc:0.83780\tvalidation_1-auc:0.76209\n",
      "[19]\tvalidation_0-auc:0.83841\tvalidation_1-auc:0.76160\n",
      "[20]\tvalidation_0-auc:0.83870\tvalidation_1-auc:0.76071\n",
      "[21]\tvalidation_0-auc:0.83915\tvalidation_1-auc:0.75978\n",
      "[22]\tvalidation_0-auc:0.83959\tvalidation_1-auc:0.75984\n",
      "[23]\tvalidation_0-auc:0.83988\tvalidation_1-auc:0.75933\n",
      "[24]\tvalidation_0-auc:0.84006\tvalidation_1-auc:0.75895\n",
      "[25]\tvalidation_0-auc:0.84022\tvalidation_1-auc:0.75859\n",
      "[26]\tvalidation_0-auc:0.84051\tvalidation_1-auc:0.75791\n",
      "[27]\tvalidation_0-auc:0.84073\tvalidation_1-auc:0.75723\n",
      "[28]\tvalidation_0-auc:0.84096\tvalidation_1-auc:0.75639\n",
      "[29]\tvalidation_0-auc:0.84110\tvalidation_1-auc:0.75599\n",
      "[30]\tvalidation_0-auc:0.84125\tvalidation_1-auc:0.75521\n",
      "[31]\tvalidation_0-auc:0.84142\tvalidation_1-auc:0.75477\n",
      "[32]\tvalidation_0-auc:0.84146\tvalidation_1-auc:0.75421\n",
      "[33]\tvalidation_0-auc:0.84152\tvalidation_1-auc:0.75391\n",
      "[34]\tvalidation_0-auc:0.84162\tvalidation_1-auc:0.75364\n",
      "[35]\tvalidation_0-auc:0.84166\tvalidation_1-auc:0.75347\n",
      "[36]\tvalidation_0-auc:0.84176\tvalidation_1-auc:0.75315\n",
      "[37]\tvalidation_0-auc:0.84184\tvalidation_1-auc:0.75282\n",
      "[0]\tvalidation_0-auc:0.78969\tvalidation_1-auc:0.74964\n",
      "[1]\tvalidation_0-auc:0.80297\tvalidation_1-auc:0.76146\n",
      "[2]\tvalidation_0-auc:0.81248\tvalidation_1-auc:0.76434\n",
      "[3]\tvalidation_0-auc:0.81616\tvalidation_1-auc:0.76758\n",
      "[4]\tvalidation_0-auc:0.81966\tvalidation_1-auc:0.76902\n",
      "[5]\tvalidation_0-auc:0.82160\tvalidation_1-auc:0.76957\n",
      "[6]\tvalidation_0-auc:0.82217\tvalidation_1-auc:0.76919\n",
      "[7]\tvalidation_0-auc:0.82654\tvalidation_1-auc:0.76890\n",
      "[8]\tvalidation_0-auc:0.82923\tvalidation_1-auc:0.77003\n",
      "[9]\tvalidation_0-auc:0.83011\tvalidation_1-auc:0.76974\n",
      "[10]\tvalidation_0-auc:0.83173\tvalidation_1-auc:0.76795\n",
      "[11]\tvalidation_0-auc:0.83329\tvalidation_1-auc:0.76674\n",
      "[12]\tvalidation_0-auc:0.83415\tvalidation_1-auc:0.76588\n",
      "[13]\tvalidation_0-auc:0.83527\tvalidation_1-auc:0.76631\n",
      "[14]\tvalidation_0-auc:0.83569\tvalidation_1-auc:0.76532\n",
      "[15]\tvalidation_0-auc:0.83667\tvalidation_1-auc:0.76436\n",
      "[16]\tvalidation_0-auc:0.83758\tvalidation_1-auc:0.76370\n",
      "[17]\tvalidation_0-auc:0.83781\tvalidation_1-auc:0.76316\n",
      "[18]\tvalidation_0-auc:0.83827\tvalidation_1-auc:0.76228\n",
      "[19]\tvalidation_0-auc:0.83868\tvalidation_1-auc:0.76120\n",
      "[20]\tvalidation_0-auc:0.83898\tvalidation_1-auc:0.76056\n",
      "[21]\tvalidation_0-auc:0.83934\tvalidation_1-auc:0.75949\n",
      "[22]\tvalidation_0-auc:0.83972\tvalidation_1-auc:0.75860\n",
      "[23]\tvalidation_0-auc:0.83991\tvalidation_1-auc:0.75840\n",
      "[24]\tvalidation_0-auc:0.84017\tvalidation_1-auc:0.75792\n",
      "[25]\tvalidation_0-auc:0.84037\tvalidation_1-auc:0.75743\n",
      "[26]\tvalidation_0-auc:0.84052\tvalidation_1-auc:0.75701\n",
      "[27]\tvalidation_0-auc:0.84097\tvalidation_1-auc:0.75609\n",
      "[28]\tvalidation_0-auc:0.84120\tvalidation_1-auc:0.75556\n",
      "[29]\tvalidation_0-auc:0.84137\tvalidation_1-auc:0.75504\n",
      "[30]\tvalidation_0-auc:0.84150\tvalidation_1-auc:0.75442\n",
      "[31]\tvalidation_0-auc:0.84177\tvalidation_1-auc:0.75391\n",
      "[32]\tvalidation_0-auc:0.84183\tvalidation_1-auc:0.75352\n",
      "[33]\tvalidation_0-auc:0.84193\tvalidation_1-auc:0.75294\n",
      "[34]\tvalidation_0-auc:0.84209\tvalidation_1-auc:0.75256\n",
      "[35]\tvalidation_0-auc:0.84219\tvalidation_1-auc:0.75230\n",
      "[36]\tvalidation_0-auc:0.84225\tvalidation_1-auc:0.75184\n",
      "[37]\tvalidation_0-auc:0.84232\tvalidation_1-auc:0.75163\n",
      "[38]\tvalidation_0-auc:0.84244\tvalidation_1-auc:0.75126\n",
      "[0]\tvalidation_0-auc:0.78855\tvalidation_1-auc:0.74460\n",
      "[1]\tvalidation_0-auc:0.79992\tvalidation_1-auc:0.75880\n",
      "[2]\tvalidation_0-auc:0.81003\tvalidation_1-auc:0.76223\n",
      "[3]\tvalidation_0-auc:0.81471\tvalidation_1-auc:0.76423\n",
      "[4]\tvalidation_0-auc:0.81969\tvalidation_1-auc:0.76493\n",
      "[5]\tvalidation_0-auc:0.82113\tvalidation_1-auc:0.76444\n",
      "[6]\tvalidation_0-auc:0.82240\tvalidation_1-auc:0.76372\n",
      "[7]\tvalidation_0-auc:0.82758\tvalidation_1-auc:0.76347\n",
      "[8]\tvalidation_0-auc:0.83053\tvalidation_1-auc:0.76302\n",
      "[9]\tvalidation_0-auc:0.83210\tvalidation_1-auc:0.76282\n",
      "[10]\tvalidation_0-auc:0.83334\tvalidation_1-auc:0.76000\n",
      "[11]\tvalidation_0-auc:0.83476\tvalidation_1-auc:0.75840\n",
      "[12]\tvalidation_0-auc:0.83557\tvalidation_1-auc:0.75780\n",
      "[13]\tvalidation_0-auc:0.83653\tvalidation_1-auc:0.75715\n",
      "[14]\tvalidation_0-auc:0.83711\tvalidation_1-auc:0.75607\n",
      "[15]\tvalidation_0-auc:0.83785\tvalidation_1-auc:0.75410\n",
      "[16]\tvalidation_0-auc:0.83828\tvalidation_1-auc:0.75392\n",
      "[17]\tvalidation_0-auc:0.83846\tvalidation_1-auc:0.75212\n",
      "[18]\tvalidation_0-auc:0.83880\tvalidation_1-auc:0.75108\n",
      "[19]\tvalidation_0-auc:0.83937\tvalidation_1-auc:0.74936\n",
      "[20]\tvalidation_0-auc:0.83954\tvalidation_1-auc:0.74854\n",
      "[21]\tvalidation_0-auc:0.83988\tvalidation_1-auc:0.74735\n",
      "[22]\tvalidation_0-auc:0.84003\tvalidation_1-auc:0.74748\n",
      "[23]\tvalidation_0-auc:0.84020\tvalidation_1-auc:0.74571\n",
      "[24]\tvalidation_0-auc:0.84054\tvalidation_1-auc:0.74515\n",
      "[25]\tvalidation_0-auc:0.84081\tvalidation_1-auc:0.74399\n",
      "[26]\tvalidation_0-auc:0.84109\tvalidation_1-auc:0.74289\n",
      "[27]\tvalidation_0-auc:0.84132\tvalidation_1-auc:0.74185\n",
      "[28]\tvalidation_0-auc:0.84158\tvalidation_1-auc:0.74039\n",
      "[29]\tvalidation_0-auc:0.84166\tvalidation_1-auc:0.73955\n",
      "[30]\tvalidation_0-auc:0.84170\tvalidation_1-auc:0.73838\n",
      "[31]\tvalidation_0-auc:0.84179\tvalidation_1-auc:0.73787\n",
      "[32]\tvalidation_0-auc:0.84180\tvalidation_1-auc:0.73677\n",
      "[33]\tvalidation_0-auc:0.84178\tvalidation_1-auc:0.73658\n",
      "[0]\tvalidation_0-auc:0.78865\tvalidation_1-auc:0.74662\n",
      "[1]\tvalidation_0-auc:0.80021\tvalidation_1-auc:0.76105\n",
      "[2]\tvalidation_0-auc:0.80980\tvalidation_1-auc:0.76484\n",
      "[3]\tvalidation_0-auc:0.81421\tvalidation_1-auc:0.76778\n",
      "[4]\tvalidation_0-auc:0.81872\tvalidation_1-auc:0.76930\n",
      "[5]\tvalidation_0-auc:0.82037\tvalidation_1-auc:0.76939\n",
      "[6]\tvalidation_0-auc:0.82129\tvalidation_1-auc:0.76919\n",
      "[7]\tvalidation_0-auc:0.82636\tvalidation_1-auc:0.76910\n",
      "[8]\tvalidation_0-auc:0.82851\tvalidation_1-auc:0.77013\n",
      "[9]\tvalidation_0-auc:0.82980\tvalidation_1-auc:0.76935\n",
      "[10]\tvalidation_0-auc:0.83146\tvalidation_1-auc:0.76820\n",
      "[11]\tvalidation_0-auc:0.83319\tvalidation_1-auc:0.76670\n",
      "[12]\tvalidation_0-auc:0.83404\tvalidation_1-auc:0.76584\n",
      "[13]\tvalidation_0-auc:0.83498\tvalidation_1-auc:0.76572\n",
      "[14]\tvalidation_0-auc:0.83571\tvalidation_1-auc:0.76518\n",
      "[15]\tvalidation_0-auc:0.83653\tvalidation_1-auc:0.76409\n",
      "[16]\tvalidation_0-auc:0.83699\tvalidation_1-auc:0.76352\n",
      "[17]\tvalidation_0-auc:0.83725\tvalidation_1-auc:0.76276\n",
      "[18]\tvalidation_0-auc:0.83779\tvalidation_1-auc:0.76214\n",
      "[19]\tvalidation_0-auc:0.83839\tvalidation_1-auc:0.76168\n",
      "[20]\tvalidation_0-auc:0.83868\tvalidation_1-auc:0.76081\n",
      "[21]\tvalidation_0-auc:0.83913\tvalidation_1-auc:0.75987\n",
      "[22]\tvalidation_0-auc:0.83963\tvalidation_1-auc:0.75960\n",
      "[23]\tvalidation_0-auc:0.83979\tvalidation_1-auc:0.75916\n",
      "[24]\tvalidation_0-auc:0.84012\tvalidation_1-auc:0.75823\n",
      "[25]\tvalidation_0-auc:0.84022\tvalidation_1-auc:0.75805\n",
      "[26]\tvalidation_0-auc:0.84063\tvalidation_1-auc:0.75775\n",
      "[27]\tvalidation_0-auc:0.84078\tvalidation_1-auc:0.75761\n",
      "[28]\tvalidation_0-auc:0.84109\tvalidation_1-auc:0.75668\n",
      "[29]\tvalidation_0-auc:0.84122\tvalidation_1-auc:0.75606\n",
      "[30]\tvalidation_0-auc:0.84135\tvalidation_1-auc:0.75533\n",
      "[31]\tvalidation_0-auc:0.84155\tvalidation_1-auc:0.75514\n",
      "[32]\tvalidation_0-auc:0.84163\tvalidation_1-auc:0.75437\n",
      "[33]\tvalidation_0-auc:0.84172\tvalidation_1-auc:0.75414\n",
      "[34]\tvalidation_0-auc:0.84177\tvalidation_1-auc:0.75381\n",
      "[35]\tvalidation_0-auc:0.84187\tvalidation_1-auc:0.75335\n",
      "[36]\tvalidation_0-auc:0.84198\tvalidation_1-auc:0.75272\n",
      "[37]\tvalidation_0-auc:0.84213\tvalidation_1-auc:0.75207\n",
      "[0]\tvalidation_0-auc:0.78969\tvalidation_1-auc:0.74964\n",
      "[1]\tvalidation_0-auc:0.80297\tvalidation_1-auc:0.76146\n",
      "[2]\tvalidation_0-auc:0.81248\tvalidation_1-auc:0.76434\n",
      "[3]\tvalidation_0-auc:0.81616\tvalidation_1-auc:0.76758\n",
      "[4]\tvalidation_0-auc:0.81966\tvalidation_1-auc:0.76902\n",
      "[5]\tvalidation_0-auc:0.82160\tvalidation_1-auc:0.76957\n",
      "[6]\tvalidation_0-auc:0.82217\tvalidation_1-auc:0.76919\n",
      "[7]\tvalidation_0-auc:0.82654\tvalidation_1-auc:0.76890\n",
      "[8]\tvalidation_0-auc:0.82923\tvalidation_1-auc:0.77003\n",
      "[9]\tvalidation_0-auc:0.83011\tvalidation_1-auc:0.76974\n",
      "[10]\tvalidation_0-auc:0.83173\tvalidation_1-auc:0.76795\n",
      "[11]\tvalidation_0-auc:0.83329\tvalidation_1-auc:0.76674\n",
      "[12]\tvalidation_0-auc:0.83415\tvalidation_1-auc:0.76588\n",
      "[13]\tvalidation_0-auc:0.83527\tvalidation_1-auc:0.76625\n",
      "[14]\tvalidation_0-auc:0.83569\tvalidation_1-auc:0.76526\n",
      "[15]\tvalidation_0-auc:0.83667\tvalidation_1-auc:0.76433\n",
      "[16]\tvalidation_0-auc:0.83758\tvalidation_1-auc:0.76368\n",
      "[17]\tvalidation_0-auc:0.83781\tvalidation_1-auc:0.76313\n",
      "[18]\tvalidation_0-auc:0.83827\tvalidation_1-auc:0.76225\n",
      "[19]\tvalidation_0-auc:0.83867\tvalidation_1-auc:0.76117\n",
      "[20]\tvalidation_0-auc:0.83898\tvalidation_1-auc:0.76053\n",
      "[21]\tvalidation_0-auc:0.83933\tvalidation_1-auc:0.75949\n",
      "[22]\tvalidation_0-auc:0.83971\tvalidation_1-auc:0.75858\n",
      "[23]\tvalidation_0-auc:0.83990\tvalidation_1-auc:0.75838\n",
      "[24]\tvalidation_0-auc:0.84016\tvalidation_1-auc:0.75789\n",
      "[25]\tvalidation_0-auc:0.84035\tvalidation_1-auc:0.75738\n",
      "[26]\tvalidation_0-auc:0.84050\tvalidation_1-auc:0.75695\n",
      "[27]\tvalidation_0-auc:0.84081\tvalidation_1-auc:0.75634\n",
      "[28]\tvalidation_0-auc:0.84097\tvalidation_1-auc:0.75586\n",
      "[29]\tvalidation_0-auc:0.84109\tvalidation_1-auc:0.75523\n",
      "[30]\tvalidation_0-auc:0.84118\tvalidation_1-auc:0.75461\n",
      "[31]\tvalidation_0-auc:0.84146\tvalidation_1-auc:0.75413\n",
      "[32]\tvalidation_0-auc:0.84153\tvalidation_1-auc:0.75363\n",
      "[33]\tvalidation_0-auc:0.84160\tvalidation_1-auc:0.75344\n",
      "[34]\tvalidation_0-auc:0.84171\tvalidation_1-auc:0.75322\n",
      "[35]\tvalidation_0-auc:0.84181\tvalidation_1-auc:0.75295\n",
      "[36]\tvalidation_0-auc:0.84188\tvalidation_1-auc:0.75241\n",
      "[37]\tvalidation_0-auc:0.84197\tvalidation_1-auc:0.75222\n",
      "[0]\tvalidation_0-auc:0.80615\tvalidation_1-auc:0.74290\n",
      "[1]\tvalidation_0-auc:0.81573\tvalidation_1-auc:0.75507\n",
      "[2]\tvalidation_0-auc:0.82569\tvalidation_1-auc:0.75700\n",
      "[3]\tvalidation_0-auc:0.82975\tvalidation_1-auc:0.75933\n",
      "[4]\tvalidation_0-auc:0.83126\tvalidation_1-auc:0.75965\n",
      "[5]\tvalidation_0-auc:0.83426\tvalidation_1-auc:0.75887\n",
      "[6]\tvalidation_0-auc:0.83465\tvalidation_1-auc:0.75711\n",
      "[7]\tvalidation_0-auc:0.83675\tvalidation_1-auc:0.75488\n",
      "[8]\tvalidation_0-auc:0.83804\tvalidation_1-auc:0.75428\n",
      "[9]\tvalidation_0-auc:0.83948\tvalidation_1-auc:0.75341\n",
      "[10]\tvalidation_0-auc:0.83991\tvalidation_1-auc:0.75022\n",
      "[11]\tvalidation_0-auc:0.84078\tvalidation_1-auc:0.74723\n",
      "[12]\tvalidation_0-auc:0.84145\tvalidation_1-auc:0.74530\n",
      "[13]\tvalidation_0-auc:0.84205\tvalidation_1-auc:0.74419\n",
      "[14]\tvalidation_0-auc:0.84226\tvalidation_1-auc:0.74258\n",
      "[15]\tvalidation_0-auc:0.84282\tvalidation_1-auc:0.74073\n",
      "[16]\tvalidation_0-auc:0.84364\tvalidation_1-auc:0.73905\n",
      "[17]\tvalidation_0-auc:0.84362\tvalidation_1-auc:0.73720\n",
      "[18]\tvalidation_0-auc:0.84391\tvalidation_1-auc:0.73665\n",
      "[19]\tvalidation_0-auc:0.84405\tvalidation_1-auc:0.73505\n",
      "[20]\tvalidation_0-auc:0.84419\tvalidation_1-auc:0.73415\n",
      "[21]\tvalidation_0-auc:0.84460\tvalidation_1-auc:0.73225\n",
      "[22]\tvalidation_0-auc:0.84472\tvalidation_1-auc:0.73174\n",
      "[23]\tvalidation_0-auc:0.84497\tvalidation_1-auc:0.72979\n",
      "[24]\tvalidation_0-auc:0.84507\tvalidation_1-auc:0.72951\n",
      "[25]\tvalidation_0-auc:0.84535\tvalidation_1-auc:0.72850\n",
      "[26]\tvalidation_0-auc:0.84561\tvalidation_1-auc:0.72768\n",
      "[27]\tvalidation_0-auc:0.84566\tvalidation_1-auc:0.72712\n",
      "[28]\tvalidation_0-auc:0.84598\tvalidation_1-auc:0.72576\n",
      "[29]\tvalidation_0-auc:0.84605\tvalidation_1-auc:0.72490\n",
      "[30]\tvalidation_0-auc:0.84607\tvalidation_1-auc:0.72413\n",
      "[31]\tvalidation_0-auc:0.84638\tvalidation_1-auc:0.72321\n",
      "[32]\tvalidation_0-auc:0.84638\tvalidation_1-auc:0.72231\n",
      "[33]\tvalidation_0-auc:0.84644\tvalidation_1-auc:0.72185\n",
      "[0]\tvalidation_0-auc:0.80632\tvalidation_1-auc:0.75006\n",
      "[1]\tvalidation_0-auc:0.81592\tvalidation_1-auc:0.76014\n",
      "[2]\tvalidation_0-auc:0.82529\tvalidation_1-auc:0.76377\n",
      "[3]\tvalidation_0-auc:0.82873\tvalidation_1-auc:0.76584\n",
      "[4]\tvalidation_0-auc:0.83043\tvalidation_1-auc:0.76588\n",
      "[5]\tvalidation_0-auc:0.83344\tvalidation_1-auc:0.76556\n",
      "[6]\tvalidation_0-auc:0.83380\tvalidation_1-auc:0.76439\n",
      "[7]\tvalidation_0-auc:0.83566\tvalidation_1-auc:0.76342\n",
      "[8]\tvalidation_0-auc:0.83690\tvalidation_1-auc:0.76319\n",
      "[9]\tvalidation_0-auc:0.83835\tvalidation_1-auc:0.76191\n",
      "[10]\tvalidation_0-auc:0.83902\tvalidation_1-auc:0.75998\n",
      "[11]\tvalidation_0-auc:0.83992\tvalidation_1-auc:0.75805\n",
      "[12]\tvalidation_0-auc:0.84076\tvalidation_1-auc:0.75744\n",
      "[13]\tvalidation_0-auc:0.84139\tvalidation_1-auc:0.75694\n",
      "[14]\tvalidation_0-auc:0.84168\tvalidation_1-auc:0.75596\n",
      "[15]\tvalidation_0-auc:0.84235\tvalidation_1-auc:0.75443\n",
      "[16]\tvalidation_0-auc:0.84306\tvalidation_1-auc:0.75310\n",
      "[17]\tvalidation_0-auc:0.84316\tvalidation_1-auc:0.75242\n",
      "[18]\tvalidation_0-auc:0.84359\tvalidation_1-auc:0.75177\n",
      "[19]\tvalidation_0-auc:0.84388\tvalidation_1-auc:0.75081\n",
      "[20]\tvalidation_0-auc:0.84428\tvalidation_1-auc:0.74985\n",
      "[21]\tvalidation_0-auc:0.84447\tvalidation_1-auc:0.74931\n",
      "[22]\tvalidation_0-auc:0.84462\tvalidation_1-auc:0.74896\n",
      "[23]\tvalidation_0-auc:0.84476\tvalidation_1-auc:0.74847\n",
      "[24]\tvalidation_0-auc:0.84500\tvalidation_1-auc:0.74796\n",
      "[25]\tvalidation_0-auc:0.84520\tvalidation_1-auc:0.74749\n",
      "[26]\tvalidation_0-auc:0.84535\tvalidation_1-auc:0.74685\n",
      "[27]\tvalidation_0-auc:0.84557\tvalidation_1-auc:0.74660\n",
      "[28]\tvalidation_0-auc:0.84592\tvalidation_1-auc:0.74577\n",
      "[29]\tvalidation_0-auc:0.84601\tvalidation_1-auc:0.74555\n",
      "[30]\tvalidation_0-auc:0.84606\tvalidation_1-auc:0.74507\n",
      "[31]\tvalidation_0-auc:0.84611\tvalidation_1-auc:0.74485\n",
      "[32]\tvalidation_0-auc:0.84615\tvalidation_1-auc:0.74452\n",
      "[33]\tvalidation_0-auc:0.84627\tvalidation_1-auc:0.74406\n",
      "[34]\tvalidation_0-auc:0.84642\tvalidation_1-auc:0.74381\n",
      "[0]\tvalidation_0-auc:0.80577\tvalidation_1-auc:0.74943\n",
      "[1]\tvalidation_0-auc:0.81482\tvalidation_1-auc:0.76118\n",
      "[2]\tvalidation_0-auc:0.82502\tvalidation_1-auc:0.76359\n",
      "[3]\tvalidation_0-auc:0.82862\tvalidation_1-auc:0.76601\n",
      "[4]\tvalidation_0-auc:0.83041\tvalidation_1-auc:0.76624\n",
      "[5]\tvalidation_0-auc:0.83338\tvalidation_1-auc:0.76645\n",
      "[6]\tvalidation_0-auc:0.83366\tvalidation_1-auc:0.76575\n",
      "[7]\tvalidation_0-auc:0.83586\tvalidation_1-auc:0.76399\n",
      "[8]\tvalidation_0-auc:0.83716\tvalidation_1-auc:0.76341\n",
      "[9]\tvalidation_0-auc:0.83854\tvalidation_1-auc:0.76291\n",
      "[10]\tvalidation_0-auc:0.83910\tvalidation_1-auc:0.76139\n",
      "[11]\tvalidation_0-auc:0.83997\tvalidation_1-auc:0.75966\n",
      "[12]\tvalidation_0-auc:0.84080\tvalidation_1-auc:0.75867\n",
      "[13]\tvalidation_0-auc:0.84148\tvalidation_1-auc:0.75798\n",
      "[14]\tvalidation_0-auc:0.84171\tvalidation_1-auc:0.75715\n",
      "[15]\tvalidation_0-auc:0.84227\tvalidation_1-auc:0.75624\n",
      "[16]\tvalidation_0-auc:0.84314\tvalidation_1-auc:0.75455\n",
      "[17]\tvalidation_0-auc:0.84325\tvalidation_1-auc:0.75367\n",
      "[18]\tvalidation_0-auc:0.84353\tvalidation_1-auc:0.75258\n",
      "[19]\tvalidation_0-auc:0.84382\tvalidation_1-auc:0.75170\n",
      "[20]\tvalidation_0-auc:0.84407\tvalidation_1-auc:0.75082\n",
      "[21]\tvalidation_0-auc:0.84436\tvalidation_1-auc:0.74986\n",
      "[22]\tvalidation_0-auc:0.84469\tvalidation_1-auc:0.74933\n",
      "[23]\tvalidation_0-auc:0.84483\tvalidation_1-auc:0.74881\n",
      "[24]\tvalidation_0-auc:0.84522\tvalidation_1-auc:0.74802\n",
      "[25]\tvalidation_0-auc:0.84540\tvalidation_1-auc:0.74734\n",
      "[26]\tvalidation_0-auc:0.84576\tvalidation_1-auc:0.74666\n",
      "[27]\tvalidation_0-auc:0.84595\tvalidation_1-auc:0.74634\n",
      "[28]\tvalidation_0-auc:0.84622\tvalidation_1-auc:0.74584\n",
      "[29]\tvalidation_0-auc:0.84630\tvalidation_1-auc:0.74542\n",
      "[30]\tvalidation_0-auc:0.84639\tvalidation_1-auc:0.74480\n",
      "[31]\tvalidation_0-auc:0.84648\tvalidation_1-auc:0.74457\n",
      "[32]\tvalidation_0-auc:0.84651\tvalidation_1-auc:0.74404\n",
      "[33]\tvalidation_0-auc:0.84659\tvalidation_1-auc:0.74380\n",
      "[34]\tvalidation_0-auc:0.84668\tvalidation_1-auc:0.74340\n",
      "[0]\tvalidation_0-auc:0.80615\tvalidation_1-auc:0.74290\n",
      "[1]\tvalidation_0-auc:0.81571\tvalidation_1-auc:0.75513\n",
      "[2]\tvalidation_0-auc:0.82568\tvalidation_1-auc:0.75707\n",
      "[3]\tvalidation_0-auc:0.82974\tvalidation_1-auc:0.75940\n",
      "[4]\tvalidation_0-auc:0.83120\tvalidation_1-auc:0.75986\n",
      "[5]\tvalidation_0-auc:0.83419\tvalidation_1-auc:0.75906\n",
      "[6]\tvalidation_0-auc:0.83464\tvalidation_1-auc:0.75742\n",
      "[7]\tvalidation_0-auc:0.83676\tvalidation_1-auc:0.75526\n",
      "[8]\tvalidation_0-auc:0.83802\tvalidation_1-auc:0.75489\n",
      "[9]\tvalidation_0-auc:0.83940\tvalidation_1-auc:0.75403\n",
      "[10]\tvalidation_0-auc:0.83989\tvalidation_1-auc:0.75067\n",
      "[11]\tvalidation_0-auc:0.84082\tvalidation_1-auc:0.74768\n",
      "[12]\tvalidation_0-auc:0.84142\tvalidation_1-auc:0.74598\n",
      "[13]\tvalidation_0-auc:0.84206\tvalidation_1-auc:0.74442\n",
      "[14]\tvalidation_0-auc:0.84224\tvalidation_1-auc:0.74288\n",
      "[15]\tvalidation_0-auc:0.84308\tvalidation_1-auc:0.74068\n",
      "[16]\tvalidation_0-auc:0.84375\tvalidation_1-auc:0.73837\n",
      "[17]\tvalidation_0-auc:0.84375\tvalidation_1-auc:0.73656\n",
      "[18]\tvalidation_0-auc:0.84406\tvalidation_1-auc:0.73521\n",
      "[19]\tvalidation_0-auc:0.84435\tvalidation_1-auc:0.73410\n",
      "[20]\tvalidation_0-auc:0.84454\tvalidation_1-auc:0.73274\n",
      "[21]\tvalidation_0-auc:0.84490\tvalidation_1-auc:0.73201\n",
      "[22]\tvalidation_0-auc:0.84525\tvalidation_1-auc:0.73101\n",
      "[23]\tvalidation_0-auc:0.84541\tvalidation_1-auc:0.72940\n",
      "[24]\tvalidation_0-auc:0.84559\tvalidation_1-auc:0.72847\n",
      "[25]\tvalidation_0-auc:0.84573\tvalidation_1-auc:0.72769\n",
      "[26]\tvalidation_0-auc:0.84587\tvalidation_1-auc:0.72668\n",
      "[27]\tvalidation_0-auc:0.84605\tvalidation_1-auc:0.72583\n",
      "[28]\tvalidation_0-auc:0.84621\tvalidation_1-auc:0.72463\n",
      "[29]\tvalidation_0-auc:0.84627\tvalidation_1-auc:0.72423\n",
      "[30]\tvalidation_0-auc:0.84628\tvalidation_1-auc:0.72325\n",
      "[31]\tvalidation_0-auc:0.84637\tvalidation_1-auc:0.72271\n",
      "[32]\tvalidation_0-auc:0.84635\tvalidation_1-auc:0.72195\n",
      "[33]\tvalidation_0-auc:0.84642\tvalidation_1-auc:0.72149\n",
      "[0]\tvalidation_0-auc:0.80632\tvalidation_1-auc:0.75006\n",
      "[1]\tvalidation_0-auc:0.81592\tvalidation_1-auc:0.76014\n",
      "[2]\tvalidation_0-auc:0.82529\tvalidation_1-auc:0.76377\n",
      "[3]\tvalidation_0-auc:0.82872\tvalidation_1-auc:0.76580\n",
      "[4]\tvalidation_0-auc:0.83041\tvalidation_1-auc:0.76590\n",
      "[5]\tvalidation_0-auc:0.83343\tvalidation_1-auc:0.76557\n",
      "[6]\tvalidation_0-auc:0.83379\tvalidation_1-auc:0.76443\n",
      "[7]\tvalidation_0-auc:0.83563\tvalidation_1-auc:0.76346\n",
      "[8]\tvalidation_0-auc:0.83681\tvalidation_1-auc:0.76321\n",
      "[9]\tvalidation_0-auc:0.83825\tvalidation_1-auc:0.76197\n",
      "[10]\tvalidation_0-auc:0.83894\tvalidation_1-auc:0.75990\n",
      "[11]\tvalidation_0-auc:0.83986\tvalidation_1-auc:0.75810\n",
      "[12]\tvalidation_0-auc:0.84078\tvalidation_1-auc:0.75693\n",
      "[13]\tvalidation_0-auc:0.84140\tvalidation_1-auc:0.75652\n",
      "[14]\tvalidation_0-auc:0.84168\tvalidation_1-auc:0.75555\n",
      "[15]\tvalidation_0-auc:0.84250\tvalidation_1-auc:0.75383\n",
      "[16]\tvalidation_0-auc:0.84324\tvalidation_1-auc:0.75301\n",
      "[17]\tvalidation_0-auc:0.84333\tvalidation_1-auc:0.75229\n",
      "[18]\tvalidation_0-auc:0.84382\tvalidation_1-auc:0.75086\n",
      "[19]\tvalidation_0-auc:0.84413\tvalidation_1-auc:0.74992\n",
      "[20]\tvalidation_0-auc:0.84442\tvalidation_1-auc:0.74900\n",
      "[21]\tvalidation_0-auc:0.84466\tvalidation_1-auc:0.74846\n",
      "[22]\tvalidation_0-auc:0.84496\tvalidation_1-auc:0.74782\n",
      "[23]\tvalidation_0-auc:0.84510\tvalidation_1-auc:0.74729\n",
      "[24]\tvalidation_0-auc:0.84524\tvalidation_1-auc:0.74711\n",
      "[25]\tvalidation_0-auc:0.84539\tvalidation_1-auc:0.74671\n",
      "[26]\tvalidation_0-auc:0.84575\tvalidation_1-auc:0.74608\n",
      "[27]\tvalidation_0-auc:0.84594\tvalidation_1-auc:0.74584\n",
      "[28]\tvalidation_0-auc:0.84629\tvalidation_1-auc:0.74509\n",
      "[29]\tvalidation_0-auc:0.84640\tvalidation_1-auc:0.74463\n",
      "[30]\tvalidation_0-auc:0.84646\tvalidation_1-auc:0.74427\n",
      "[31]\tvalidation_0-auc:0.84653\tvalidation_1-auc:0.74413\n",
      "[32]\tvalidation_0-auc:0.84657\tvalidation_1-auc:0.74380\n",
      "[33]\tvalidation_0-auc:0.84665\tvalidation_1-auc:0.74351\n",
      "[0]\tvalidation_0-auc:0.80577\tvalidation_1-auc:0.74943\n",
      "[1]\tvalidation_0-auc:0.81482\tvalidation_1-auc:0.76118\n",
      "[2]\tvalidation_0-auc:0.82502\tvalidation_1-auc:0.76359\n",
      "[3]\tvalidation_0-auc:0.82862\tvalidation_1-auc:0.76602\n",
      "[4]\tvalidation_0-auc:0.83040\tvalidation_1-auc:0.76628\n",
      "[5]\tvalidation_0-auc:0.83337\tvalidation_1-auc:0.76648\n",
      "[6]\tvalidation_0-auc:0.83365\tvalidation_1-auc:0.76575\n",
      "[7]\tvalidation_0-auc:0.83586\tvalidation_1-auc:0.76374\n",
      "[8]\tvalidation_0-auc:0.83716\tvalidation_1-auc:0.76304\n",
      "[9]\tvalidation_0-auc:0.83854\tvalidation_1-auc:0.76256\n",
      "[10]\tvalidation_0-auc:0.83906\tvalidation_1-auc:0.76126\n",
      "[11]\tvalidation_0-auc:0.83998\tvalidation_1-auc:0.75926\n",
      "[12]\tvalidation_0-auc:0.84053\tvalidation_1-auc:0.75842\n",
      "[13]\tvalidation_0-auc:0.84120\tvalidation_1-auc:0.75770\n",
      "[14]\tvalidation_0-auc:0.84141\tvalidation_1-auc:0.75686\n",
      "[15]\tvalidation_0-auc:0.84227\tvalidation_1-auc:0.75512\n",
      "[16]\tvalidation_0-auc:0.84317\tvalidation_1-auc:0.75380\n",
      "[17]\tvalidation_0-auc:0.84325\tvalidation_1-auc:0.75292\n",
      "[18]\tvalidation_0-auc:0.84386\tvalidation_1-auc:0.75209\n",
      "[19]\tvalidation_0-auc:0.84424\tvalidation_1-auc:0.75146\n",
      "[20]\tvalidation_0-auc:0.84446\tvalidation_1-auc:0.75053\n",
      "[21]\tvalidation_0-auc:0.84489\tvalidation_1-auc:0.74916\n",
      "[22]\tvalidation_0-auc:0.84504\tvalidation_1-auc:0.74856\n",
      "[23]\tvalidation_0-auc:0.84516\tvalidation_1-auc:0.74799\n",
      "[24]\tvalidation_0-auc:0.84559\tvalidation_1-auc:0.74705\n",
      "[25]\tvalidation_0-auc:0.84584\tvalidation_1-auc:0.74630\n",
      "[26]\tvalidation_0-auc:0.84609\tvalidation_1-auc:0.74586\n",
      "[27]\tvalidation_0-auc:0.84623\tvalidation_1-auc:0.74545\n",
      "[28]\tvalidation_0-auc:0.84640\tvalidation_1-auc:0.74477\n",
      "[29]\tvalidation_0-auc:0.84655\tvalidation_1-auc:0.74436\n",
      "[30]\tvalidation_0-auc:0.84661\tvalidation_1-auc:0.74400\n",
      "[31]\tvalidation_0-auc:0.84696\tvalidation_1-auc:0.74342\n",
      "[32]\tvalidation_0-auc:0.84699\tvalidation_1-auc:0.74309\n",
      "[33]\tvalidation_0-auc:0.84711\tvalidation_1-auc:0.74278\n",
      "[34]\tvalidation_0-auc:0.84715\tvalidation_1-auc:0.74269\n",
      "[0]\tvalidation_0-auc:0.80649\tvalidation_1-auc:0.74757\n",
      "[1]\tvalidation_0-auc:0.81549\tvalidation_1-auc:0.75968\n",
      "[2]\tvalidation_0-auc:0.82532\tvalidation_1-auc:0.76201\n",
      "[3]\tvalidation_0-auc:0.82877\tvalidation_1-auc:0.76439\n",
      "[4]\tvalidation_0-auc:0.83052\tvalidation_1-auc:0.76451\n",
      "[5]\tvalidation_0-auc:0.83381\tvalidation_1-auc:0.76432\n",
      "[6]\tvalidation_0-auc:0.83399\tvalidation_1-auc:0.76298\n",
      "[7]\tvalidation_0-auc:0.83639\tvalidation_1-auc:0.76120\n",
      "[8]\tvalidation_0-auc:0.83761\tvalidation_1-auc:0.76092\n",
      "[9]\tvalidation_0-auc:0.83893\tvalidation_1-auc:0.75964\n",
      "[10]\tvalidation_0-auc:0.83958\tvalidation_1-auc:0.75756\n",
      "[11]\tvalidation_0-auc:0.84049\tvalidation_1-auc:0.75578\n",
      "[12]\tvalidation_0-auc:0.84138\tvalidation_1-auc:0.75389\n",
      "[13]\tvalidation_0-auc:0.84202\tvalidation_1-auc:0.75292\n",
      "[14]\tvalidation_0-auc:0.84226\tvalidation_1-auc:0.75200\n",
      "[15]\tvalidation_0-auc:0.84289\tvalidation_1-auc:0.74983\n",
      "[16]\tvalidation_0-auc:0.84368\tvalidation_1-auc:0.74841\n",
      "[17]\tvalidation_0-auc:0.84378\tvalidation_1-auc:0.74732\n",
      "[18]\tvalidation_0-auc:0.84403\tvalidation_1-auc:0.74674\n",
      "[19]\tvalidation_0-auc:0.84435\tvalidation_1-auc:0.74531\n",
      "[20]\tvalidation_0-auc:0.84457\tvalidation_1-auc:0.74454\n",
      "[21]\tvalidation_0-auc:0.84480\tvalidation_1-auc:0.74382\n",
      "[22]\tvalidation_0-auc:0.84508\tvalidation_1-auc:0.74333\n",
      "[23]\tvalidation_0-auc:0.84519\tvalidation_1-auc:0.74295\n",
      "[24]\tvalidation_0-auc:0.84539\tvalidation_1-auc:0.74206\n",
      "[25]\tvalidation_0-auc:0.84548\tvalidation_1-auc:0.74168\n",
      "[26]\tvalidation_0-auc:0.84570\tvalidation_1-auc:0.74066\n",
      "[27]\tvalidation_0-auc:0.84595\tvalidation_1-auc:0.73998\n",
      "[28]\tvalidation_0-auc:0.84620\tvalidation_1-auc:0.73920\n",
      "[29]\tvalidation_0-auc:0.84630\tvalidation_1-auc:0.73889\n",
      "[30]\tvalidation_0-auc:0.84638\tvalidation_1-auc:0.73815\n",
      "[31]\tvalidation_0-auc:0.84665\tvalidation_1-auc:0.73794\n",
      "[32]\tvalidation_0-auc:0.84668\tvalidation_1-auc:0.73760\n",
      "[33]\tvalidation_0-auc:0.84674\tvalidation_1-auc:0.73751\n"
     ]
    }
   ],
   "source": [
    "from sklearn.model_selection import GridSearchCV\n",
    "\n",
    "# Grid Search\n",
    "xgb = XGBClassifier(n_estimators = 100, random_state = 156)\n",
    "\n",
    "# 하이퍼파라미터 후보\n",
    "params = {'max_depth':[5,7]\n",
    "    , 'min_child_weight':[1,3]\n",
    "    , 'colsample_bytree':[0.5,0.75]}\n",
    "# folds = 3\n",
    "gridcv = GridSearchCV(xgb, param_grid = params, cv = 3)\n",
    "gridcv.fit(X_train, y_train, early_stopping_rounds = 30, eval_metric = \"auc\",\n",
    "          eval_set = [(X_train, y_train), (X_test, y_test)])\n",
    "xgb_roc_score = roc_auc_score(y_test, gridcv.predict_proba(X_test)[:,1],\n",
    "    average='macro')"
   ]
  },
  {
   "cell_type": "code",
   "execution_count": 38,
   "id": "da36f9b9-2882-4751-aa81-60eedd73a75c",
   "metadata": {},
   "outputs": [
    {
     "name": "stdout",
     "output_type": "stream",
     "text": [
      "Optimized hyperparameters {'colsample_bytree': 0.75, 'max_depth': 7, 'min_child_weight': 1}\n",
      "ROC AUC: 0.7645\n"
     ]
    }
   ],
   "source": [
    "print('Optimized hyperparameters', gridcv.best_params_) \n",
    "#{'colsample_bytree': 0.75, 'max_depth': 5, 'min_child_weight': 3}\n",
    "print('ROC AUC: {0:.4f}'.format(xgb_roc_score)) #0.7731"
   ]
  },
  {
   "cell_type": "markdown",
   "id": "f2412530-e899-415d-9338-2b1cd15efc79",
   "metadata": {},
   "source": [
    "## XGBRegressor\n",
    "    - https://github.com/rickiepark/handson-gb/blob/main/Chapter01/Gradient_Boosting_in_Machine_Learning.ipynb 참고"
   ]
  },
  {
   "cell_type": "code",
   "execution_count": 45,
   "id": "1ae03258-1375-46f0-a5a9-ed23b96ba97f",
   "metadata": {},
   "outputs": [],
   "source": [
    "# train_test_split 함수를 임포트합니다.\n",
    "from sklearn.model_selection import train_test_split\n",
    "\n",
    "# LinearRegression 클래스를 임포트합니다.\n",
    "from sklearn.linear_model import LinearRegression\n",
    "\n",
    "# 데이터를 훈련 세트와 테스트 세트로 나눕니다.\n",
    "X_train, X_test, y_train, y_test = train_test_split(X, y, random_state=2)"
   ]
  },
  {
   "cell_type": "markdown",
   "id": "728eaf40-4aa5-49d4-80a9-ff05e55bdc4c",
   "metadata": {},
   "source": [
    "### 선형회귀모델 만들기"
   ]
  },
  {
   "cell_type": "code",
   "execution_count": 46,
   "id": "00d17b84-a6f9-474e-8fc3-f463d4042c9a",
   "metadata": {},
   "outputs": [
    {
     "name": "stdout",
     "output_type": "stream",
     "text": [
      "RMSE: 0.22\n"
     ]
    }
   ],
   "source": [
    "# LinearRegression 모델 객체를 만듭니다.\n",
    "lin_reg = LinearRegression()\n",
    "\n",
    "# 훈련 데이터로 lin_reg 객체를 훈련합니다.\n",
    "lin_reg.fit(X_train, y_train)\n",
    "\n",
    "# lin_reg 객체를 사용해 X_test에 대한 예측값을 만듭니다.\n",
    "y_pred = lin_reg.predict(X_test)\n",
    "\n",
    "# mean_squared_error 함수를 임포트합니다.\n",
    "from sklearn.metrics import mean_squared_error\n",
    "\n",
    "# numpy를 임포트합니다.\n",
    "import numpy as np\n",
    "\n",
    "# mean_squared_error 함수로 평균 제곱 오차를 계산합니다.\n",
    "mse = mean_squared_error(y_test, y_pred)\n",
    "\n",
    "# 평균 제곱근 오차를 계산합니다.\n",
    "rmse = np.sqrt(mse)\n",
    "\n",
    "# 평균 제곱근 오차를 출력합니다.\n",
    "print(\"RMSE: %0.2f\" % (rmse))"
   ]
  },
  {
   "cell_type": "code",
   "execution_count": 48,
   "id": "06d8dc60-fc99-4d47-b6d8-01160071d906",
   "metadata": {},
   "outputs": [
    {
     "data": {
      "text/plain": [
       "0.21882651913138443"
      ]
     },
     "execution_count": 48,
     "metadata": {},
     "output_type": "execute_result"
    }
   ],
   "source": [
    "from sklearn.metrics import mean_squared_error\n",
    "\n",
    "mean_squared_error(y_test, y_pred, squared=False)"
   ]
  },
  {
   "cell_type": "code",
   "execution_count": 49,
   "id": "dab4487c-2062-4e93-8fe5-2c6b1766ebba",
   "metadata": {},
   "outputs": [
    {
     "name": "stdout",
     "output_type": "stream",
     "text": [
      "RMSE: 0.22\n"
     ]
    }
   ],
   "source": [
    "# XGBRegressor를 임포트합니다.\n",
    "from xgboost import XGBRegressor\n",
    "\n",
    "# XGBRegressor의 객체 xg_reg를 만듭니다.\n",
    "xg_reg = XGBRegressor()\n",
    "\n",
    "# 훈련 데이터로 xg_reg 객체를 훈련합니다.\n",
    "xg_reg.fit(X_train, y_train)\n",
    "\n",
    "# 테스트 세트의 레이블을 예측합니다.\n",
    "y_pred = xg_reg.predict(X_test)\n",
    "\n",
    "# 평균 제곱 오차를 계산합니다.\n",
    "mse = mean_squared_error(y_test, y_pred)\n",
    "\n",
    "# 평균 제곱근 오차를 계산합니다.\n",
    "rmse = np.sqrt(mse)\n",
    "\n",
    "# 평균 제곱근 오차를 출력합니다.\n",
    "print(\"RMSE: %0.2f\" % (rmse))"
   ]
  },
  {
   "cell_type": "markdown",
   "id": "da9b30db-87d8-409a-b375-ae0522e5571c",
   "metadata": {},
   "source": [
    "## XGBoost 교차 검증"
   ]
  },
  {
   "cell_type": "code",
   "execution_count": 50,
   "id": "c6e62f72-4d56-49bd-8834-3ee7cc791c39",
   "metadata": {},
   "outputs": [],
   "source": [
    "# cross_val_score 함수를 임포트합니다.\n",
    "from sklearn.model_selection import cross_val_score"
   ]
  },
  {
   "cell_type": "code",
   "execution_count": 51,
   "id": "3757f6b1-36bf-4199-86d7-ca91ea70a604",
   "metadata": {},
   "outputs": [
    {
     "name": "stdout",
     "output_type": "stream",
     "text": [
      "회귀 rmse: [0.21 0.21 0.22 0.22 0.22 0.21 0.23 0.22 0.21 0.22]\n",
      "RMSE 평균: 0.22\n"
     ]
    }
   ],
   "source": [
    "# XGBRegressor 객체를 만듭니다.\n",
    "model = XGBRegressor(objective=\"reg:squarederror\")\n",
    "\n",
    "# 10-폴드 교차 검증으로 평균 제곱 오차를 구합니다.\n",
    "scores = cross_val_score(model, X, y, scoring='neg_mean_squared_error', cv=10)\n",
    "\n",
    "# 이 점수의 제곱근을 계산합니다.\n",
    "rmse = np.sqrt(-scores)\n",
    "\n",
    "# 평균 제곱근 오차를 출력합니다.\n",
    "print('회귀 rmse:', np.round(rmse, 2))\n",
    "\n",
    "# 평균 점수를 출력합니다.\n",
    "print('RMSE 평균: %0.2f' % (rmse.mean()))"
   ]
  },
  {
   "cell_type": "code",
   "execution_count": null,
   "id": "78e6ec29-ca49-47ea-88ab-8bdf3cc82c71",
   "metadata": {},
   "outputs": [],
   "source": []
  },
  {
   "cell_type": "markdown",
   "id": "17ca4d07",
   "metadata": {},
   "source": [
    "## KNN Classifier"
   ]
  },
  {
   "cell_type": "code",
   "execution_count": 7,
   "id": "59efda5b-8519-4fbf-b7f5-2d1f1a39e7ed",
   "metadata": {},
   "outputs": [
    {
     "data": {
      "text/plain": [
       "0.0    286693\n",
       "1.0    286693\n",
       "Name: HEARTDISEASE, dtype: int64"
      ]
     },
     "execution_count": 7,
     "metadata": {},
     "output_type": "execute_result"
    }
   ],
   "source": [
    "from sklearn.model_selection import train_test_split\n",
    "from imblearn.over_sampling import SMOTE\n",
    "from sklearn.preprocessing import StandardScaler, MinMaxScaler\n",
    "\n",
    "X_train, X_test, y_train, y_test = train_test_split(X, y, test_size=.2)\n",
    "\n",
    "# scaler\n",
    "#scaler = StandardScaler()\n",
    "# scaler = MinMaxScaler()\n",
    "#scaler.fit(X_train)\n",
    "#X_train = scaler.transform(X_train)\n",
    "#X_test = scaler.transform(X_test)\n",
    "\n",
    "# smote\n",
    "smote = SMOTE()\n",
    "X_train, y_train = smote.fit_resample(X_train, y_train)\n",
    "y_train.value_counts()"
   ]
  },
  {
   "cell_type": "code",
   "execution_count": 8,
   "id": "da4bfdf0",
   "metadata": {
    "ExecuteTime": {
     "start_time": "2022-12-23T06:47:47.678Z"
    }
   },
   "outputs": [
    {
     "name": "stdout",
     "output_type": "stream",
     "text": [
      "0.6416776830965527\n",
      "0.9333421365376997\n",
      "오차 행렬\n",
      "[[70406  1325]\n",
      " [ 3723   276]]\n",
      "정확도: 0.9333, 정밀도: 0.1724, 재현율: 0.0690, F1: 0.0986, AUC:0.6168\n",
      "분류 임계값 : 0.5\n",
      "오차 행렬\n",
      "[[70406  1325]\n",
      " [ 3723   276]]\n",
      "정확도: 0.9333, 정밀도: 0.1724, 재현율: 0.0690, F1: 0.0986, AUC:0.5253\n",
      "분류 임계값 : 0.55\n",
      "오차 행렬\n",
      "[[70406  1325]\n",
      " [ 3723   276]]\n",
      "정확도: 0.9333, 정밀도: 0.1724, 재현율: 0.0690, F1: 0.0986, AUC:0.5253\n",
      "분류 임계값 : 0.65\n",
      "오차 행렬\n",
      "[[70406  1325]\n",
      " [ 3723   276]]\n",
      "정확도: 0.9333, 정밀도: 0.1724, 재현율: 0.0690, F1: 0.0986, AUC:0.5149\n"
     ]
    }
   ],
   "source": [
    "from sklearn.neighbors import KNeighborsClassifier\n",
    "\n",
    "model = KNeighborsClassifier()\n",
    "model.fit(X_train, y_train)\n",
    "\n",
    "print(model.score(X_train, y_train))\n",
    "print(model.score(X_test, y_test))\n",
    "\n",
    "pred = model.predict(X_test)\n",
    "pred_proba = model.predict_proba(X_test)[:,1]\n",
    "\n",
    "get_clf_eval(y_test, pred, pred_proba)\n",
    "\n",
    "# 임계값 조정\n",
    "thresholds = [0.5, 0.55, 0.65]\n",
    "get_eval_by_threshold(y_test, pred, pred_proba, thresholds)"
   ]
  },
  {
   "cell_type": "code",
   "execution_count": 9,
   "id": "d5517ecf",
   "metadata": {},
   "outputs": [
    {
     "data": {
      "image/png": "[encoded data removed]",
      "text/plain": [
       "<Figure size 800x600 with 1 Axes>"
      ]
     },
     "metadata": {},
     "output_type": "display_data"
    }
   ],
   "source": [
    "# 임계값 그래프\n",
    "precision_recall_curve_plot(y_test, pred_proba)"
   ]
  },
  {
   "cell_type": "code",
   "execution_count": 11,
   "id": "73690ad3-4a42-494c-8a22-7fd6eb94337c",
   "metadata": {},
   "outputs": [
    {
     "name": "stdout",
     "output_type": "stream",
     "text": [
      "0.6416776830965527\n",
      "0.9333421365376997\n",
      "오차 행렬\n",
      "[[70406  1325]\n",
      " [ 3723   276]]\n",
      "정확도: 0.9333, 정밀도: 0.1724, 재현율: 0.0690, F1: 0.0986, AUC:0.6168\n",
      "분류 임계값 : 0.35\n",
      "오차 행렬\n",
      "[[70406  1325]\n",
      " [ 3723   276]]\n",
      "정확도: 0.9333, 정밀도: 0.1724, 재현율: 0.0690, F1: 0.0986, AUC:0.5603\n",
      "분류 임계값 : 0.4\n",
      "오차 행렬\n",
      "[[70406  1325]\n",
      " [ 3723   276]]\n",
      "정확도: 0.9333, 정밀도: 0.1724, 재현율: 0.0690, F1: 0.0986, AUC:0.5253\n",
      "분류 임계값 : 0.45\n",
      "오차 행렬\n",
      "[[70406  1325]\n",
      " [ 3723   276]]\n",
      "정확도: 0.9333, 정밀도: 0.1724, 재현율: 0.0690, F1: 0.0986, AUC:0.5253\n"
     ]
    }
   ],
   "source": [
    "from sklearn.neighbors import KNeighborsClassifier\n",
    "\n",
    "model = KNeighborsClassifier()\n",
    "model.fit(X_train, y_train)\n",
    "\n",
    "print(model.score(X_train, y_train))\n",
    "print(model.score(X_test, y_test))\n",
    "\n",
    "pred = model.predict(X_test)\n",
    "pred_proba = model.predict_proba(X_test)[:,1]\n",
    "\n",
    "get_clf_eval(y_test, pred, pred_proba)\n",
    "\n",
    "# 임계값 조정\n",
    "thresholds = [0.35, 0.40, 0.45]\n",
    "get_eval_by_threshold(y_test, pred, pred_proba, thresholds)"
   ]
  },
  {
   "cell_type": "code",
   "execution_count": 12,
   "id": "fbbdd6df-2107-4d0e-b0b8-7ce2c27feb3e",
   "metadata": {},
   "outputs": [
    {
     "data": {
      "image/png": "[encoded data removed]",
      "text/plain": [
       "<Figure size 800x600 with 1 Axes>"
      ]
     },
     "metadata": {},
     "output_type": "display_data"
    }
   ],
   "source": [
    "# 임계값 그래프\n",
    "precision_recall_curve_plot(y_test, pred_proba)"
   ]
  },
  {
   "cell_type": "markdown",
   "id": "9f10ddf6-a025-434c-9959-59f9381d243a",
   "metadata": {},
   "source": [
    "## 강의 document\n",
    "    - 머신러닝_03_1_K-최근접이웃.ipynb"
   ]
  },
  {
   "cell_type": "code",
   "execution_count": 13,
   "id": "94d5bad0-195c-4289-a531-bfdd5c1139e5",
   "metadata": {},
   "outputs": [],
   "source": [
    "from sklearn.model_selection import train_test_split"
   ]
  },
  {
   "cell_type": "code",
   "execution_count": 14,
   "id": "2b4cce72-940c-4256-915f-9de74c540487",
   "metadata": {},
   "outputs": [
    {
     "data": {
      "text/plain": [
       "0.0    268783\n",
       "1.0    268783\n",
       "Name: HEARTDISEASE, dtype: int64"
      ]
     },
     "execution_count": 14,
     "metadata": {},
     "output_type": "execute_result"
    }
   ],
   "source": [
    "from sklearn.model_selection import train_test_split\n",
    "from imblearn.over_sampling import SMOTE\n",
    "from sklearn.preprocessing import StandardScaler, MinMaxScaler\n",
    "\n",
    "X_train, X_test, y_train, y_test = train_test_split(X, y, random_state = 42)\n",
    "\n",
    "# scaler\n",
    "#scaler = StandardScaler()\n",
    "# scaler = MinMaxScaler()\n",
    "#scaler.fit(X_train)\n",
    "#X_train = scaler.transform(X_train)\n",
    "#X_test = scaler.transform(X_test)\n",
    "\n",
    "# smote\n",
    "smote = SMOTE()\n",
    "X_train, y_train = smote.fit_resample(X_train, y_train)\n",
    "y_train.value_counts()"
   ]
  },
  {
   "cell_type": "code",
   "execution_count": 15,
   "id": "02927238-20e4-4623-af87-c4deeeef7a17",
   "metadata": {},
   "outputs": [
    {
     "name": "stdout",
     "output_type": "stream",
     "text": [
      "(537566, 9) (94662, 9)\n"
     ]
    }
   ],
   "source": [
    "print(X_train.shape, X_test.shape)"
   ]
  },
  {
   "cell_type": "code",
   "execution_count": 16,
   "id": "91885b1e-2a3f-4a09-91c9-5568fb3cfca9",
   "metadata": {},
   "outputs": [
    {
     "name": "stdout",
     "output_type": "stream",
     "text": [
      "(4,)\n"
     ]
    }
   ],
   "source": [
    "# shape 속성 - 튜플구조를 반환\n",
    "test_array = np.array([1,2,3,4])\n",
    "print(test_array.shape)"
   ]
  },
  {
   "cell_type": "code",
   "execution_count": 17,
   "id": "5392a7f3-cf34-4dbd-9b48-3c982cdf8886",
   "metadata": {},
   "outputs": [
    {
     "name": "stdout",
     "output_type": "stream",
     "text": [
      "(2, 2)\n"
     ]
    }
   ],
   "source": [
    "# reshape() :  데이터의 차원을 변경하는 함수\n",
    "test_array = test_array.reshape(2,2)\n",
    "print(test_array.shape)"
   ]
  },
  {
   "cell_type": "code",
   "execution_count": 18,
   "id": "f33f8373-b9e3-4436-9cff-079a7872953c",
   "metadata": {},
   "outputs": [],
   "source": [
    "X_train = X_train.values.reshape(-1,1)\n",
    "X_test = X_test.values.reshape(-1,1)"
   ]
  },
  {
   "cell_type": "code",
   "execution_count": 19,
   "id": "9fc33fde-f27a-4408-83b2-efc059cd7fe0",
   "metadata": {},
   "outputs": [
    {
     "name": "stdout",
     "output_type": "stream",
     "text": [
      "(4838094, 1) (851958, 1)\n"
     ]
    }
   ],
   "source": [
    "print(X_train.shape, X_test.shape)"
   ]
  },
  {
   "cell_type": "code",
   "execution_count": 24,
   "id": "58088c55-8da8-41d9-802d-45e04ed7e8ff",
   "metadata": {},
   "outputs": [],
   "source": [
    "from sklearn.neighbors import KNeighborsRegressor\n",
    "\n",
    "knr = KNeighborsRegressor()"
   ]
  },
  {
   "cell_type": "code",
   "execution_count": 43,
   "id": "11808481-a7c2-4e96-8271-a94fb5382957",
   "metadata": {},
   "outputs": [
    {
     "data": {
      "text/html": [
       "<style>#sk-container-id-1 {color: black;background-color: white;}#sk-container-id-1 pre{padding: 0;}#sk-container-id-1 div.sk-toggleable {background-color: white;}#sk-container-id-1 label.sk-toggleable__label {cursor: pointer;display: block;width: 100%;margin-bottom: 0;padding: 0.3em;box-sizing: border-box;text-align: center;}#sk-container-id-1 label.sk-toggleable__label-arrow:before {content: \"▸\";float: left;margin-right: 0.25em;color: #696969;}#sk-container-id-1 label.sk-toggleable__label-arrow:hover:before {color: black;}#sk-container-id-1 div.sk-estimator:hover label.sk-toggleable__label-arrow:before {color: black;}#sk-container-id-1 div.sk-toggleable__content {max-height: 0;max-width: 0;overflow: hidden;text-align: left;background-color: #f0f8ff;}#sk-container-id-1 div.sk-toggleable__content pre {margin: 0.2em;color: black;border-radius: 0.25em;background-color: #f0f8ff;}#sk-container-id-1 input.sk-toggleable__control:checked~div.sk-toggleable__content {max-height: 200px;max-width: 100%;overflow: auto;}#sk-container-id-1 input.sk-toggleable__control:checked~label.sk-toggleable__label-arrow:before {content: \"▾\";}#sk-container-id-1 div.sk-estimator input.sk-toggleable__control:checked~label.sk-toggleable__label {background-color: #d4ebff;}#sk-container-id-1 div.sk-label input.sk-toggleable__control:checked~label.sk-toggleable__label {background-color: #d4ebff;}#sk-container-id-1 input.sk-hidden--visually {border: 0;clip: rect(1px 1px 1px 1px);clip: rect(1px, 1px, 1px, 1px);height: 1px;margin: -1px;overflow: hidden;padding: 0;position: absolute;width: 1px;}#sk-container-id-1 div.sk-estimator {font-family: monospace;background-color: #f0f8ff;border: 1px dotted black;border-radius: 0.25em;box-sizing: border-box;margin-bottom: 0.5em;}#sk-container-id-1 div.sk-estimator:hover {background-color: #d4ebff;}#sk-container-id-1 div.sk-parallel-item::after {content: \"\";width: 100%;border-bottom: 1px solid gray;flex-grow: 1;}#sk-container-id-1 div.sk-label:hover label.sk-toggleable__label {background-color: #d4ebff;}#sk-container-id-1 div.sk-serial::before {content: \"\";position: absolute;border-left: 1px solid gray;box-sizing: border-box;top: 0;bottom: 0;left: 50%;z-index: 0;}#sk-container-id-1 div.sk-serial {display: flex;flex-direction: column;align-items: center;background-color: white;padding-right: 0.2em;padding-left: 0.2em;position: relative;}#sk-container-id-1 div.sk-item {position: relative;z-index: 1;}#sk-container-id-1 div.sk-parallel {display: flex;align-items: stretch;justify-content: center;background-color: white;position: relative;}#sk-container-id-1 div.sk-item::before, #sk-container-id-1 div.sk-parallel-item::before {content: \"\";position: absolute;border-left: 1px solid gray;box-sizing: border-box;top: 0;bottom: 0;left: 50%;z-index: -1;}#sk-container-id-1 div.sk-parallel-item {display: flex;flex-direction: column;z-index: 1;position: relative;background-color: white;}#sk-container-id-1 div.sk-parallel-item:first-child::after {align-self: flex-end;width: 50%;}#sk-container-id-1 div.sk-parallel-item:last-child::after {align-self: flex-start;width: 50%;}#sk-container-id-1 div.sk-parallel-item:only-child::after {width: 0;}#sk-container-id-1 div.sk-dashed-wrapped {border: 1px dashed gray;margin: 0 0.4em 0.5em 0.4em;box-sizing: border-box;padding-bottom: 0.4em;background-color: white;}#sk-container-id-1 div.sk-label label {font-family: monospace;font-weight: bold;display: inline-block;line-height: 1.2em;}#sk-container-id-1 div.sk-label-container {text-align: center;}#sk-container-id-1 div.sk-container {/* jupyter's `normalize.less` sets `[hidden] { display: none; }` but bootstrap.min.css set `[hidden] { display: none !important; }` so we also need the `!important` here to be able to override the default hidden behavior on the sphinx rendered scikit-learn.org. See: https://github.com/scikit-learn/scikit-learn/issues/21755 */display: inline-block !important;position: relative;}#sk-container-id-1 div.sk-text-repr-fallback {display: none;}</style><div id=\"sk-container-id-1\" class=\"sk-top-container\"><div class=\"sk-text-repr-fallback\"><pre>KNeighborsRegressor()</pre><b>In a Jupyter environment, please rerun this cell to show the HTML representation or trust the notebook. <br />On GitHub, the HTML representation is unable to render, please try loading this page with nbviewer.org.</b></div><div class=\"sk-container\" hidden><div class=\"sk-item\"><div class=\"sk-estimator sk-toggleable\"><input class=\"sk-toggleable__control sk-hidden--visually\" id=\"sk-estimator-id-1\" type=\"checkbox\" checked><label for=\"sk-estimator-id-1\" class=\"sk-toggleable__label sk-toggleable__label-arrow\">KNeighborsRegressor</label><div class=\"sk-toggleable__content\"><pre>KNeighborsRegressor()</pre></div></div></div></div></div>"
      ],
      "text/plain": [
       "KNeighborsRegressor()"
      ]
     },
     "execution_count": 43,
     "metadata": {},
     "output_type": "execute_result"
    }
   ],
   "source": [
    "# k-최근접 이웃 회귀 모델을 훈련합니다\n",
    "knr.fit(X_train, y_train)"
   ]
  },
  {
   "cell_type": "code",
   "execution_count": 44,
   "id": "e3ac2b28-84ce-4dd7-97b2-83fe9eaf5438",
   "metadata": {},
   "outputs": [
    {
     "data": {
      "text/plain": [
       "-0.11364816821679868"
      ]
     },
     "execution_count": 44,
     "metadata": {},
     "output_type": "execute_result"
    }
   ],
   "source": [
    "knr.score(X_test, y_test)"
   ]
  },
  {
   "cell_type": "code",
   "execution_count": 45,
   "id": "e8a8030b-cbf9-414e-82b0-70cab7fc9409",
   "metadata": {},
   "outputs": [],
   "source": [
    "from sklearn.metrics import mean_absolute_error"
   ]
  },
  {
   "cell_type": "code",
   "execution_count": 46,
   "id": "19406f0e-0182-4799-9d1a-59585a9fcf8d",
   "metadata": {},
   "outputs": [
    {
     "data": {
      "text/plain": [
       "0.0893198960512138"
      ]
     },
     "execution_count": 46,
     "metadata": {},
     "output_type": "execute_result"
    }
   ],
   "source": [
    "# 테스트 세트에 대한 예측을 만듭니다\n",
    "test_pred = knr.predict(X_test)\n",
    "\n",
    "# 테스트 세트에 대한 평균 절댓값 오차를 계산합니다\n",
    "mae = mean_absolute_error(y_test, test_pred)\n",
    "mae"
   ]
  },
  {
   "cell_type": "code",
   "execution_count": null,
   "id": "ef908cbb-0c9c-4d43-8ae6-be81faaae386",
   "metadata": {},
   "outputs": [],
   "source": []
  },
  {
   "cell_type": "code",
   "execution_count": 47,
   "id": "e4dad068-28f3-4209-b564-b9c2fef24f73",
   "metadata": {},
   "outputs": [],
   "source": [
    "from sklearn.model_selection import train_test_split"
   ]
  },
  {
   "cell_type": "code",
   "execution_count": 29,
   "id": "49a8231d-8516-4fb4-acc1-93647b9c5619",
   "metadata": {},
   "outputs": [],
   "source": [
    "#train_input, test_input, train_target, test_target = train_test_split(X, y, random_state=42)\n",
    "X_train, X_test, y_train, y_test = train_test_split(X, y, random_state=42)"
   ]
  },
  {
   "cell_type": "code",
   "execution_count": 48,
   "id": "c844660a-cda9-4436-a4ef-aebca1d33045",
   "metadata": {},
   "outputs": [
    {
     "name": "stdout",
     "output_type": "stream",
     "text": [
      "(283984, 9) (94662, 9)\n"
     ]
    }
   ],
   "source": [
    "print(X_train.shape, X_test.shape)"
   ]
  },
  {
   "cell_type": "code",
   "execution_count": 49,
   "id": "0f73cc7b-f83d-42d8-8dc6-502e8ec264c8",
   "metadata": {},
   "outputs": [
    {
     "data": {
      "text/plain": [
       "4"
      ]
     },
     "execution_count": 49,
     "metadata": {},
     "output_type": "execute_result"
    }
   ],
   "source": [
    "# shape 속성 - 튜플구조를 반환\n",
    "test_array = np.array([1,2,3,4])\n",
    "test_array.shape[0]"
   ]
  },
  {
   "cell_type": "code",
   "execution_count": 50,
   "id": "670e42b7-1ebe-467a-a0dc-f9cef93eb67c",
   "metadata": {},
   "outputs": [
    {
     "name": "stdout",
     "output_type": "stream",
     "text": [
      "(2, 2)\n"
     ]
    }
   ],
   "source": [
    "# reshape() :  데이터의 차원을 변경하는 함수\n",
    "test_array = test_array.reshape(2,2)\n",
    "print(test_array.shape)"
   ]
  },
  {
   "cell_type": "code",
   "execution_count": 51,
   "id": "17af674e-b57a-4625-8fd9-5f336937f2fc",
   "metadata": {},
   "outputs": [],
   "source": [
    "train_input = X_train.values.reshape(-1,1)\n",
    "test_input = X_test.values.reshape(-1,1)"
   ]
  },
  {
   "cell_type": "code",
   "execution_count": 52,
   "id": "5aa4b3ef-a772-449a-a6a5-06407fc2b1f8",
   "metadata": {},
   "outputs": [
    {
     "name": "stdout",
     "output_type": "stream",
     "text": [
      "(2555856, 1) (851958, 1)\n"
     ]
    }
   ],
   "source": [
    "print(train_input.shape, test_input.shape)"
   ]
  },
  {
   "cell_type": "code",
   "execution_count": 53,
   "id": "774cd050-b79c-4a2d-8d61-1ba3c347aa6f",
   "metadata": {},
   "outputs": [],
   "source": [
    "from sklearn.neighbors import KNeighborsRegressor\n",
    "\n",
    "knr = KNeighborsRegressor()"
   ]
  },
  {
   "cell_type": "code",
   "execution_count": 55,
   "id": "934d9603-d06a-463e-b8e8-ce98a5894422",
   "metadata": {},
   "outputs": [
    {
     "data": {
      "text/html": [
       "<style>#sk-container-id-2 {color: black;background-color: white;}#sk-container-id-2 pre{padding: 0;}#sk-container-id-2 div.sk-toggleable {background-color: white;}#sk-container-id-2 label.sk-toggleable__label {cursor: pointer;display: block;width: 100%;margin-bottom: 0;padding: 0.3em;box-sizing: border-box;text-align: center;}#sk-container-id-2 label.sk-toggleable__label-arrow:before {content: \"▸\";float: left;margin-right: 0.25em;color: #696969;}#sk-container-id-2 label.sk-toggleable__label-arrow:hover:before {color: black;}#sk-container-id-2 div.sk-estimator:hover label.sk-toggleable__label-arrow:before {color: black;}#sk-container-id-2 div.sk-toggleable__content {max-height: 0;max-width: 0;overflow: hidden;text-align: left;background-color: #f0f8ff;}#sk-container-id-2 div.sk-toggleable__content pre {margin: 0.2em;color: black;border-radius: 0.25em;background-color: #f0f8ff;}#sk-container-id-2 input.sk-toggleable__control:checked~div.sk-toggleable__content {max-height: 200px;max-width: 100%;overflow: auto;}#sk-container-id-2 input.sk-toggleable__control:checked~label.sk-toggleable__label-arrow:before {content: \"▾\";}#sk-container-id-2 div.sk-estimator input.sk-toggleable__control:checked~label.sk-toggleable__label {background-color: #d4ebff;}#sk-container-id-2 div.sk-label input.sk-toggleable__control:checked~label.sk-toggleable__label {background-color: #d4ebff;}#sk-container-id-2 input.sk-hidden--visually {border: 0;clip: rect(1px 1px 1px 1px);clip: rect(1px, 1px, 1px, 1px);height: 1px;margin: -1px;overflow: hidden;padding: 0;position: absolute;width: 1px;}#sk-container-id-2 div.sk-estimator {font-family: monospace;background-color: #f0f8ff;border: 1px dotted black;border-radius: 0.25em;box-sizing: border-box;margin-bottom: 0.5em;}#sk-container-id-2 div.sk-estimator:hover {background-color: #d4ebff;}#sk-container-id-2 div.sk-parallel-item::after {content: \"\";width: 100%;border-bottom: 1px solid gray;flex-grow: 1;}#sk-container-id-2 div.sk-label:hover label.sk-toggleable__label {background-color: #d4ebff;}#sk-container-id-2 div.sk-serial::before {content: \"\";position: absolute;border-left: 1px solid gray;box-sizing: border-box;top: 0;bottom: 0;left: 50%;z-index: 0;}#sk-container-id-2 div.sk-serial {display: flex;flex-direction: column;align-items: center;background-color: white;padding-right: 0.2em;padding-left: 0.2em;position: relative;}#sk-container-id-2 div.sk-item {position: relative;z-index: 1;}#sk-container-id-2 div.sk-parallel {display: flex;align-items: stretch;justify-content: center;background-color: white;position: relative;}#sk-container-id-2 div.sk-item::before, #sk-container-id-2 div.sk-parallel-item::before {content: \"\";position: absolute;border-left: 1px solid gray;box-sizing: border-box;top: 0;bottom: 0;left: 50%;z-index: -1;}#sk-container-id-2 div.sk-parallel-item {display: flex;flex-direction: column;z-index: 1;position: relative;background-color: white;}#sk-container-id-2 div.sk-parallel-item:first-child::after {align-self: flex-end;width: 50%;}#sk-container-id-2 div.sk-parallel-item:last-child::after {align-self: flex-start;width: 50%;}#sk-container-id-2 div.sk-parallel-item:only-child::after {width: 0;}#sk-container-id-2 div.sk-dashed-wrapped {border: 1px dashed gray;margin: 0 0.4em 0.5em 0.4em;box-sizing: border-box;padding-bottom: 0.4em;background-color: white;}#sk-container-id-2 div.sk-label label {font-family: monospace;font-weight: bold;display: inline-block;line-height: 1.2em;}#sk-container-id-2 div.sk-label-container {text-align: center;}#sk-container-id-2 div.sk-container {/* jupyter's `normalize.less` sets `[hidden] { display: none; }` but bootstrap.min.css set `[hidden] { display: none !important; }` so we also need the `!important` here to be able to override the default hidden behavior on the sphinx rendered scikit-learn.org. See: https://github.com/scikit-learn/scikit-learn/issues/21755 */display: inline-block !important;position: relative;}#sk-container-id-2 div.sk-text-repr-fallback {display: none;}</style><div id=\"sk-container-id-2\" class=\"sk-top-container\"><div class=\"sk-text-repr-fallback\"><pre>KNeighborsRegressor()</pre><b>In a Jupyter environment, please rerun this cell to show the HTML representation or trust the notebook. <br />On GitHub, the HTML representation is unable to render, please try loading this page with nbviewer.org.</b></div><div class=\"sk-container\" hidden><div class=\"sk-item\"><div class=\"sk-estimator sk-toggleable\"><input class=\"sk-toggleable__control sk-hidden--visually\" id=\"sk-estimator-id-2\" type=\"checkbox\" checked><label for=\"sk-estimator-id-2\" class=\"sk-toggleable__label sk-toggleable__label-arrow\">KNeighborsRegressor</label><div class=\"sk-toggleable__content\"><pre>KNeighborsRegressor()</pre></div></div></div></div></div>"
      ],
      "text/plain": [
       "KNeighborsRegressor()"
      ]
     },
     "execution_count": 55,
     "metadata": {},
     "output_type": "execute_result"
    }
   ],
   "source": [
    "knr.fit(X_test, y_test) # 회귀모델(KNN)의 기본 평가지표는 R2값임"
   ]
  },
  {
   "cell_type": "code",
   "execution_count": 56,
   "id": "2be7fbd4-db94-4dc8-bb89-ec3a0789358f",
   "metadata": {},
   "outputs": [
    {
     "data": {
      "text/plain": [
       "0.04197115715694233"
      ]
     },
     "execution_count": 56,
     "metadata": {},
     "output_type": "execute_result"
    }
   ],
   "source": [
    "knr.score(X_test, y_test)"
   ]
  },
  {
   "cell_type": "code",
   "execution_count": 57,
   "id": "a8f08758-72c2-4526-a64f-9f124b477425",
   "metadata": {},
   "outputs": [],
   "source": [
    "from sklearn.metrics import mean_absolute_error"
   ]
  },
  {
   "cell_type": "code",
   "execution_count": 59,
   "id": "0cc986e8-d523-4552-8507-9576398249f3",
   "metadata": {},
   "outputs": [
    {
     "data": {
      "text/plain": [
       "0.08170121062305888"
      ]
     },
     "execution_count": 59,
     "metadata": {},
     "output_type": "execute_result"
    }
   ],
   "source": [
    "# 테스트 세트에 대한 예측을 만듭니다\n",
    "test_pred = knr.predict(X_test)\n",
    "\n",
    "# 테스트 세트에 대한 평균 절댓값 오차를 계산합니다\n",
    "mae = mean_absolute_error(y_test, test_pred)\n",
    "mae"
   ]
  },
  {
   "cell_type": "markdown",
   "id": "23854f76-5a9f-4cb3-a995-249898c1f8f1",
   "metadata": {},
   "source": [
    "- 결과적으로 평균 0.08정도 타깃값과 다르다는 의미"
   ]
  },
  {
   "cell_type": "markdown",
   "id": "e71f76ac-4bd9-465e-a4bf-330dd671b1ee",
   "metadata": {},
   "source": [
    "### 과대적합/과소적합"
   ]
  },
  {
   "cell_type": "code",
   "execution_count": 61,
   "id": "d1460fa0-fdda-4775-b45c-3637c7b10157",
   "metadata": {},
   "outputs": [
    {
     "name": "stdout",
     "output_type": "stream",
     "text": [
      "0.04197115715694233\n"
     ]
    }
   ],
   "source": [
    "print(knr.score(X_test, y_test))"
   ]
  },
  {
   "cell_type": "code",
   "execution_count": 62,
   "id": "5999de69-b10c-44cf-807a-260e9e10913b",
   "metadata": {},
   "outputs": [
    {
     "name": "stdout",
     "output_type": "stream",
     "text": [
      "-0.09725184614712656\n"
     ]
    }
   ],
   "source": [
    "print(knr.score(X_train, y_train))"
   ]
  },
  {
   "cell_type": "markdown",
   "id": "996d062b-511d-4d8c-835a-09c735421ffb",
   "metadata": {},
   "source": [
    "- 테스트 세트의 score가 더 높다\n",
    "    - 과소적합"
   ]
  },
  {
   "cell_type": "code",
   "execution_count": 64,
   "id": "9605b874-e403-478d-aaa6-ed76c6a62f8b",
   "metadata": {},
   "outputs": [
    {
     "name": "stdout",
     "output_type": "stream",
     "text": [
      "0.06621329339152882\n"
     ]
    }
   ],
   "source": [
    "# 이웃의 갯수를 40으로 설정합니다\n",
    "knr.n_neighbors=40\n",
    "# 모델을 다시 훈련합니다\n",
    "knr.fit(X_train, y_train)\n",
    "print(knr.score(X_train, y_train))"
   ]
  },
  {
   "cell_type": "code",
   "execution_count": 65,
   "id": "2eb15610-297a-41c5-89be-c4bb6a50dba9",
   "metadata": {},
   "outputs": [
    {
     "name": "stdout",
     "output_type": "stream",
     "text": [
      "0.039738619667967434\n"
     ]
    }
   ],
   "source": [
    "print(knr.score(X_test, y_test))"
   ]
  },
  {
   "cell_type": "markdown",
   "id": "65f8483d-ae27-480f-9a49-7be18e117a4b",
   "metadata": {},
   "source": [
    "- 훈련 세트의 score가 더 높다\n",
    "    - 과대적합"
   ]
  },
  {
   "cell_type": "code",
   "execution_count": 66,
   "id": "9784a2b8-5043-46a6-b609-b317b6b95e90",
   "metadata": {},
   "outputs": [
    {
     "name": "stdout",
     "output_type": "stream",
     "text": [
      "0.06717458506445517\n"
     ]
    }
   ],
   "source": [
    "# 이웃의 갯수를 30으로 설정합니다\n",
    "knr.n_neighbors=30\n",
    "# 모델을 다시 훈련합니다\n",
    "knr.fit(X_train, y_train)\n",
    "print(knr.score(X_train, y_train))"
   ]
  },
  {
   "cell_type": "code",
   "execution_count": 67,
   "id": "c85824d7-ee37-40b9-b85d-5e7c882a02a0",
   "metadata": {},
   "outputs": [
    {
     "name": "stdout",
     "output_type": "stream",
     "text": [
      "0.03416481238076563\n"
     ]
    }
   ],
   "source": [
    "print(knr.score(X_test, y_test))"
   ]
  },
  {
   "cell_type": "code",
   "execution_count": 68,
   "id": "c4090991-af28-481e-8083-7134398792de",
   "metadata": {},
   "outputs": [
    {
     "name": "stdout",
     "output_type": "stream",
     "text": [
      "0.06362082068085695\n"
     ]
    }
   ],
   "source": [
    "# 이웃의 갯수를 20으로 설정합니다\n",
    "knr.n_neighbors=20\n",
    "# 모델을 다시 훈련합니다\n",
    "knr.fit(X_train, y_train)\n",
    "print(knr.score(X_train, y_train))"
   ]
  },
  {
   "cell_type": "code",
   "execution_count": 69,
   "id": "7d977040-6de6-40e0-9289-90de1969b919",
   "metadata": {},
   "outputs": [
    {
     "name": "stdout",
     "output_type": "stream",
     "text": [
      "0.021318345091600355\n"
     ]
    }
   ],
   "source": [
    "print(knr.score(X_test, y_test))"
   ]
  },
  {
   "cell_type": "code",
   "execution_count": null,
   "id": "b400a685-e3a6-4275-bb52-fd8b5caf1237",
   "metadata": {},
   "outputs": [],
   "source": []
  }
 ],
 "metadata": {
  "kernelspec": {
   "display_name": "eduvenv",
   "language": "python",
   "name": "eduvenv"
  },
  "language_info": {
   "codemirror_mode": {
    "name": "ipython",
    "version": 3
   },
   "file_extension": ".py",
   "mimetype": "text/x-python",
   "name": "python",
   "nbconvert_exporter": "python",
   "pygments_lexer": "ipython3",
   "version": "3.9.15"
  },
  "toc": {
   "base_numbering": 1,
   "nav_menu": {},
   "number_sections": true,
   "sideBar": true,
   "skip_h1_title": false,
   "title_cell": "Table of Contents",
   "title_sidebar": "Contents",
   "toc_cell": false,
   "toc_position": {},
   "toc_section_display": true,
   "toc_window_display": false
  },
  "varInspector": {
   "cols": {
    "lenName": 16,
    "lenType": 16,
    "lenVar": 40
   },
   "kernels_config": {
    "python": {
     "delete_cmd_postfix": "",
     "delete_cmd_prefix": "del ",
     "library": "var_list.py",
     "varRefreshCmd": "print(var_dic_list())"
    },
    "r": {
     "delete_cmd_postfix": ") ",
     "delete_cmd_prefix": "rm(",
     "library": "var_list.r",
     "varRefreshCmd": "cat(var_dic_list()) "
    }
   },
   "position": {
    "height": "498.844px",
    "left": "1550px",
    "right": "20px",
    "top": "120px",
    "width": "350px"
   },
   "types_to_exclude": [
    "module",
    "function",
    "builtin_function_or_method",
    "instance",
    "_Feature"
   ],
   "window_display": true
  }
 },
 "nbformat": 4,
 "nbformat_minor": 5
}

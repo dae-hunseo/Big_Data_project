{
 "cells": [
  {
   "cell_type": "code",
   "execution_count": 1,
   "id": "17b94e95",
   "metadata": {
    "ExecuteTime": {
     "end_time": "2022-12-22T04:08:01.482649Z",
     "start_time": "2022-12-22T04:08:00.986275Z"
    }
   },
   "outputs": [],
   "source": [
    "import pandas as pd"
   ]
  },
  {
   "cell_type": "markdown",
   "id": "b1e1932f",
   "metadata": {},
   "source": [
    "## 사망자수"
   ]
  },
  {
   "cell_type": "code",
   "execution_count": 2,
   "id": "3081bab2",
   "metadata": {
    "ExecuteTime": {
     "end_time": "2022-12-22T04:08:57.772014Z",
     "start_time": "2022-12-22T04:08:57.760044Z"
    }
   },
   "outputs": [],
   "source": [
    "death = pd.read_csv(\"./rawdata/사망원인_104항목__성_시도별_사망자수_20221222130617.csv\", encoding=\"cp949\")"
   ]
  },
  {
   "cell_type": "code",
   "execution_count": 3,
   "id": "e264318a",
   "metadata": {
    "ExecuteTime": {
     "end_time": "2022-12-22T04:08:59.528757Z",
     "start_time": "2022-12-22T04:08:59.505809Z"
    }
   },
   "outputs": [
    {
     "data": {
      "text/html": [
       "<div>\n",
       "<style scoped>\n",
       "    .dataframe tbody tr th:only-of-type {\n",
       "        vertical-align: middle;\n",
       "    }\n",
       "\n",
       "    .dataframe tbody tr th {\n",
       "        vertical-align: top;\n",
       "    }\n",
       "\n",
       "    .dataframe thead th {\n",
       "        text-align: right;\n",
       "    }\n",
       "</style>\n",
       "<table border=\"1\" class=\"dataframe\">\n",
       "  <thead>\n",
       "    <tr style=\"text-align: right;\">\n",
       "      <th></th>\n",
       "      <th>사망원인별(104항목)</th>\n",
       "      <th>성별</th>\n",
       "      <th>시도별</th>\n",
       "      <th>2021</th>\n",
       "    </tr>\n",
       "  </thead>\n",
       "  <tbody>\n",
       "    <tr>\n",
       "      <th>0</th>\n",
       "      <td>계</td>\n",
       "      <td>계</td>\n",
       "      <td>전국</td>\n",
       "      <td>317680</td>\n",
       "    </tr>\n",
       "    <tr>\n",
       "      <th>1</th>\n",
       "      <td>계</td>\n",
       "      <td>계</td>\n",
       "      <td>서울특별시</td>\n",
       "      <td>48798</td>\n",
       "    </tr>\n",
       "    <tr>\n",
       "      <th>2</th>\n",
       "      <td>계</td>\n",
       "      <td>계</td>\n",
       "      <td>부산광역시</td>\n",
       "      <td>23531</td>\n",
       "    </tr>\n",
       "    <tr>\n",
       "      <th>3</th>\n",
       "      <td>계</td>\n",
       "      <td>계</td>\n",
       "      <td>대구광역시</td>\n",
       "      <td>14560</td>\n",
       "    </tr>\n",
       "    <tr>\n",
       "      <th>4</th>\n",
       "      <td>계</td>\n",
       "      <td>계</td>\n",
       "      <td>인천광역시</td>\n",
       "      <td>16493</td>\n",
       "    </tr>\n",
       "  </tbody>\n",
       "</table>\n",
       "</div>"
      ],
      "text/plain": [
       "  사망원인별(104항목) 성별    시도별    2021\n",
       "0            계  계     전국  317680\n",
       "1            계  계  서울특별시   48798\n",
       "2            계  계  부산광역시   23531\n",
       "3            계  계  대구광역시   14560\n",
       "4            계  계  인천광역시   16493"
      ]
     },
     "execution_count": 3,
     "metadata": {},
     "output_type": "execute_result"
    }
   ],
   "source": [
    "death.head()"
   ]
  },
  {
   "cell_type": "code",
   "execution_count": 4,
   "id": "b9014ad2",
   "metadata": {
    "ExecuteTime": {
     "end_time": "2022-12-22T04:09:04.197783Z",
     "start_time": "2022-12-22T04:09:04.180320Z"
    }
   },
   "outputs": [
    {
     "data": {
      "text/plain": [
       "array(['전국', '서울특별시', '부산광역시', '대구광역시', '인천광역시', '광주광역시', '대전광역시',\n",
       "       '울산광역시', '세종특별자치시', '경기도', '강원도', '충청북도', '충청남도', '전라북도', '전라남도',\n",
       "       '경상북도', '경상남도', '제주도'], dtype=object)"
      ]
     },
     "execution_count": 4,
     "metadata": {},
     "output_type": "execute_result"
    }
   ],
   "source": [
    "death[\"시도별\"].unique()"
   ]
  },
  {
   "cell_type": "code",
   "execution_count": 5,
   "id": "e972b6e6",
   "metadata": {
    "ExecuteTime": {
     "end_time": "2022-12-22T04:09:07.738222Z",
     "start_time": "2022-12-22T04:09:07.718246Z"
    }
   },
   "outputs": [],
   "source": [
    "death[\"시도별\"].replace({\"제주도\": \"제주특별자치도\"}, inplace=True)"
   ]
  },
  {
   "cell_type": "code",
   "execution_count": 6,
   "id": "57b08dd2",
   "metadata": {
    "ExecuteTime": {
     "end_time": "2022-12-22T04:09:09.674288Z",
     "start_time": "2022-12-22T04:09:09.655959Z"
    }
   },
   "outputs": [
    {
     "data": {
      "text/plain": [
       "array(['계', '특정 감염성 및 기생충성 질환 (A00-B99, U07.1, U07.2, U10)',\n",
       "       '신생물 (C00-D48)', '혈액 및 조혈기관질환과 면역메커니즘을 침범하는 특정장애 (D50-D89) (명)',\n",
       "       '내분비, 영양 및 대사 질환 (E00-E88)', '정신 및 행동장애 (F01-F99)',\n",
       "       '신경계통의 질환 (G00-G98)', '눈 및 눈부속기의 질환 (H00-H57)',\n",
       "       '귀 및 유돌의 질환 (H60-H93)', '순환계통 질환 (I00-I99)',\n",
       "       '호흡계통의 질환 (J00-J98,U04)', '소화계통의 질환 (K00-K92)',\n",
       "       '피부 및 피하조직의 질환 (L00-L98)', '근골격계통 및 결합 조직의 질환 (M00-M99)',\n",
       "       '비뇨생식계통의 질환 (N00-N98)', '임신, 출산 및 산후기 (O00-O99)',\n",
       "       '출생전후기에 기원한 특정병태 (P00-P96)', '선천 기형, 변형 및 염색체 이상 (Q00-Q99)',\n",
       "       '달리 분류되지 않은 증상, 징후 (R00-R99)', '질병이환 및 사망의 외인 (V01-Y89, U12)'],\n",
       "      dtype=object)"
      ]
     },
     "execution_count": 6,
     "metadata": {},
     "output_type": "execute_result"
    }
   ],
   "source": [
    "death[\"사망원인별(104항목)\"].unique()"
   ]
  },
  {
   "cell_type": "code",
   "execution_count": 7,
   "id": "bf01fa38",
   "metadata": {
    "ExecuteTime": {
     "end_time": "2022-12-22T04:09:11.331515Z",
     "start_time": "2022-12-22T04:09:11.307578Z"
    }
   },
   "outputs": [
    {
     "data": {
      "text/html": [
       "<div>\n",
       "<style scoped>\n",
       "    .dataframe tbody tr th:only-of-type {\n",
       "        vertical-align: middle;\n",
       "    }\n",
       "\n",
       "    .dataframe tbody tr th {\n",
       "        vertical-align: top;\n",
       "    }\n",
       "\n",
       "    .dataframe thead th {\n",
       "        text-align: right;\n",
       "    }\n",
       "</style>\n",
       "<table border=\"1\" class=\"dataframe\">\n",
       "  <thead>\n",
       "    <tr style=\"text-align: right;\">\n",
       "      <th></th>\n",
       "      <th>2021</th>\n",
       "    </tr>\n",
       "    <tr>\n",
       "      <th>시도별</th>\n",
       "      <th></th>\n",
       "    </tr>\n",
       "  </thead>\n",
       "  <tbody>\n",
       "    <tr>\n",
       "      <th>강원도</th>\n",
       "      <td>4900</td>\n",
       "    </tr>\n",
       "    <tr>\n",
       "      <th>경기도</th>\n",
       "      <td>25708</td>\n",
       "    </tr>\n",
       "    <tr>\n",
       "      <th>경상남도</th>\n",
       "      <td>10312</td>\n",
       "    </tr>\n",
       "    <tr>\n",
       "      <th>경상북도</th>\n",
       "      <td>9880</td>\n",
       "    </tr>\n",
       "    <tr>\n",
       "      <th>광주광역시</th>\n",
       "      <td>2712</td>\n",
       "    </tr>\n",
       "    <tr>\n",
       "      <th>대구광역시</th>\n",
       "      <td>6008</td>\n",
       "    </tr>\n",
       "    <tr>\n",
       "      <th>대전광역시</th>\n",
       "      <td>2266</td>\n",
       "    </tr>\n",
       "    <tr>\n",
       "      <th>부산광역시</th>\n",
       "      <td>10824</td>\n",
       "    </tr>\n",
       "    <tr>\n",
       "      <th>서울특별시</th>\n",
       "      <td>18700</td>\n",
       "    </tr>\n",
       "    <tr>\n",
       "      <th>세종특별자치시</th>\n",
       "      <td>490</td>\n",
       "    </tr>\n",
       "    <tr>\n",
       "      <th>울산광역시</th>\n",
       "      <td>2634</td>\n",
       "    </tr>\n",
       "    <tr>\n",
       "      <th>인천광역시</th>\n",
       "      <td>6034</td>\n",
       "    </tr>\n",
       "    <tr>\n",
       "      <th>전국</th>\n",
       "      <td>124740</td>\n",
       "    </tr>\n",
       "    <tr>\n",
       "      <th>전라남도</th>\n",
       "      <td>6864</td>\n",
       "    </tr>\n",
       "    <tr>\n",
       "      <th>전라북도</th>\n",
       "      <td>5670</td>\n",
       "    </tr>\n",
       "    <tr>\n",
       "      <th>제주특별자치도</th>\n",
       "      <td>1520</td>\n",
       "    </tr>\n",
       "    <tr>\n",
       "      <th>충청남도</th>\n",
       "      <td>5864</td>\n",
       "    </tr>\n",
       "    <tr>\n",
       "      <th>충청북도</th>\n",
       "      <td>4354</td>\n",
       "    </tr>\n",
       "  </tbody>\n",
       "</table>\n",
       "</div>"
      ],
      "text/plain": [
       "           2021\n",
       "시도별            \n",
       "강원도        4900\n",
       "경기도       25708\n",
       "경상남도      10312\n",
       "경상북도       9880\n",
       "광주광역시      2712\n",
       "대구광역시      6008\n",
       "대전광역시      2266\n",
       "부산광역시     10824\n",
       "서울특별시     18700\n",
       "세종특별자치시     490\n",
       "울산광역시      2634\n",
       "인천광역시      6034\n",
       "전국       124740\n",
       "전라남도       6864\n",
       "전라북도       5670\n",
       "제주특별자치도    1520\n",
       "충청남도       5864\n",
       "충청북도       4354"
      ]
     },
     "execution_count": 7,
     "metadata": {},
     "output_type": "execute_result"
    }
   ],
   "source": [
    "death_temp = death[death[\"사망원인별(104항목)\"]==\"순환계통 질환 (I00-I99)\"].groupby(\"시도별\").sum(numeric_only=True)\n",
    "death_temp"
   ]
  },
  {
   "cell_type": "markdown",
   "id": "0bb31368",
   "metadata": {},
   "source": [
    "## 심장장애인수"
   ]
  },
  {
   "cell_type": "code",
   "execution_count": 8,
   "id": "5b4def9a",
   "metadata": {
    "ExecuteTime": {
     "end_time": "2022-12-22T04:09:29.001612Z",
     "start_time": "2022-12-22T04:09:28.982082Z"
    }
   },
   "outputs": [],
   "source": [
    "disability = pd.read_csv(\"./rawdata/시도별_장애유형별_성별_등록장애인수_20221222130557.csv\", encoding=\"cp949\", skiprows=1)"
   ]
  },
  {
   "cell_type": "code",
   "execution_count": 9,
   "id": "661ca74f",
   "metadata": {
    "ExecuteTime": {
     "end_time": "2022-12-22T04:09:29.835063Z",
     "start_time": "2022-12-22T04:09:29.797165Z"
    }
   },
   "outputs": [
    {
     "data": {
      "text/html": [
       "<div>\n",
       "<style scoped>\n",
       "    .dataframe tbody tr th:only-of-type {\n",
       "        vertical-align: middle;\n",
       "    }\n",
       "\n",
       "    .dataframe tbody tr th {\n",
       "        vertical-align: top;\n",
       "    }\n",
       "\n",
       "    .dataframe thead th {\n",
       "        text-align: right;\n",
       "    }\n",
       "</style>\n",
       "<table border=\"1\" class=\"dataframe\">\n",
       "  <thead>\n",
       "    <tr style=\"text-align: right;\">\n",
       "      <th></th>\n",
       "      <th>시도별</th>\n",
       "      <th>합계</th>\n",
       "      <th>합계.1</th>\n",
       "      <th>합계.2</th>\n",
       "      <th>지체</th>\n",
       "      <th>지체.1</th>\n",
       "      <th>지체.2</th>\n",
       "      <th>시각</th>\n",
       "      <th>시각.1</th>\n",
       "      <th>시각.2</th>\n",
       "      <th>...</th>\n",
       "      <th>간.2</th>\n",
       "      <th>안면</th>\n",
       "      <th>안면.1</th>\n",
       "      <th>안면.2</th>\n",
       "      <th>장루ㆍ요루</th>\n",
       "      <th>장루ㆍ요루.1</th>\n",
       "      <th>장루ㆍ요루.2</th>\n",
       "      <th>뇌전증</th>\n",
       "      <th>뇌전증.1</th>\n",
       "      <th>뇌전증.2</th>\n",
       "    </tr>\n",
       "  </thead>\n",
       "  <tbody>\n",
       "    <tr>\n",
       "      <th>0</th>\n",
       "      <td>시도별</td>\n",
       "      <td>계</td>\n",
       "      <td>남자</td>\n",
       "      <td>여자</td>\n",
       "      <td>계</td>\n",
       "      <td>남자</td>\n",
       "      <td>여자</td>\n",
       "      <td>계</td>\n",
       "      <td>남자</td>\n",
       "      <td>여자</td>\n",
       "      <td>...</td>\n",
       "      <td>여자</td>\n",
       "      <td>계</td>\n",
       "      <td>남자</td>\n",
       "      <td>여자</td>\n",
       "      <td>계</td>\n",
       "      <td>남자</td>\n",
       "      <td>여자</td>\n",
       "      <td>계</td>\n",
       "      <td>남자</td>\n",
       "      <td>여자</td>\n",
       "    </tr>\n",
       "    <tr>\n",
       "      <th>1</th>\n",
       "      <td>전국</td>\n",
       "      <td>2644700</td>\n",
       "      <td>1528280</td>\n",
       "      <td>1116420</td>\n",
       "      <td>1191462</td>\n",
       "      <td>691136</td>\n",
       "      <td>500326</td>\n",
       "      <td>251620</td>\n",
       "      <td>149321</td>\n",
       "      <td>102299</td>\n",
       "      <td>...</td>\n",
       "      <td>4314</td>\n",
       "      <td>2712</td>\n",
       "      <td>1582</td>\n",
       "      <td>1130</td>\n",
       "      <td>16012</td>\n",
       "      <td>9856</td>\n",
       "      <td>6156</td>\n",
       "      <td>7077</td>\n",
       "      <td>3866</td>\n",
       "      <td>3211</td>\n",
       "    </tr>\n",
       "    <tr>\n",
       "      <th>2</th>\n",
       "      <td>서울특별시</td>\n",
       "      <td>392123</td>\n",
       "      <td>227302</td>\n",
       "      <td>164821</td>\n",
       "      <td>167986</td>\n",
       "      <td>94721</td>\n",
       "      <td>73265</td>\n",
       "      <td>41220</td>\n",
       "      <td>24740</td>\n",
       "      <td>16480</td>\n",
       "      <td>...</td>\n",
       "      <td>828</td>\n",
       "      <td>381</td>\n",
       "      <td>210</td>\n",
       "      <td>171</td>\n",
       "      <td>2959</td>\n",
       "      <td>1830</td>\n",
       "      <td>1129</td>\n",
       "      <td>1248</td>\n",
       "      <td>687</td>\n",
       "      <td>561</td>\n",
       "    </tr>\n",
       "    <tr>\n",
       "      <th>3</th>\n",
       "      <td>부산광역시</td>\n",
       "      <td>176451</td>\n",
       "      <td>103824</td>\n",
       "      <td>72627</td>\n",
       "      <td>77016</td>\n",
       "      <td>45742</td>\n",
       "      <td>31274</td>\n",
       "      <td>17874</td>\n",
       "      <td>10545</td>\n",
       "      <td>7329</td>\n",
       "      <td>...</td>\n",
       "      <td>262</td>\n",
       "      <td>228</td>\n",
       "      <td>139</td>\n",
       "      <td>89</td>\n",
       "      <td>1134</td>\n",
       "      <td>698</td>\n",
       "      <td>436</td>\n",
       "      <td>552</td>\n",
       "      <td>316</td>\n",
       "      <td>236</td>\n",
       "    </tr>\n",
       "    <tr>\n",
       "      <th>4</th>\n",
       "      <td>대구광역시</td>\n",
       "      <td>127282</td>\n",
       "      <td>73955</td>\n",
       "      <td>53327</td>\n",
       "      <td>50611</td>\n",
       "      <td>30463</td>\n",
       "      <td>20148</td>\n",
       "      <td>11874</td>\n",
       "      <td>7044</td>\n",
       "      <td>4830</td>\n",
       "      <td>...</td>\n",
       "      <td>217</td>\n",
       "      <td>143</td>\n",
       "      <td>85</td>\n",
       "      <td>58</td>\n",
       "      <td>625</td>\n",
       "      <td>364</td>\n",
       "      <td>261</td>\n",
       "      <td>336</td>\n",
       "      <td>187</td>\n",
       "      <td>149</td>\n",
       "    </tr>\n",
       "  </tbody>\n",
       "</table>\n",
       "<p>5 rows × 49 columns</p>\n",
       "</div>"
      ],
      "text/plain": [
       "     시도별       합계     합계.1     합계.2       지체    지체.1    지체.2      시각    시각.1  \\\n",
       "0    시도별        계       남자       여자        계      남자      여자       계      남자   \n",
       "1     전국  2644700  1528280  1116420  1191462  691136  500326  251620  149321   \n",
       "2  서울특별시   392123   227302   164821   167986   94721   73265   41220   24740   \n",
       "3  부산광역시   176451   103824    72627    77016   45742   31274   17874   10545   \n",
       "4  대구광역시   127282    73955    53327    50611   30463   20148   11874    7044   \n",
       "\n",
       "     시각.2  ...   간.2    안면  안면.1  안면.2  장루ㆍ요루 장루ㆍ요루.1 장루ㆍ요루.2   뇌전증 뇌전증.1  \\\n",
       "0      여자  ...    여자     계    남자    여자      계      남자      여자     계    남자   \n",
       "1  102299  ...  4314  2712  1582  1130  16012    9856    6156  7077  3866   \n",
       "2   16480  ...   828   381   210   171   2959    1830    1129  1248   687   \n",
       "3    7329  ...   262   228   139    89   1134     698     436   552   316   \n",
       "4    4830  ...   217   143    85    58    625     364     261   336   187   \n",
       "\n",
       "  뇌전증.2  \n",
       "0    여자  \n",
       "1  3211  \n",
       "2   561  \n",
       "3   236  \n",
       "4   149  \n",
       "\n",
       "[5 rows x 49 columns]"
      ]
     },
     "execution_count": 9,
     "metadata": {},
     "output_type": "execute_result"
    }
   ],
   "source": [
    "disability.head()"
   ]
  },
  {
   "cell_type": "code",
   "execution_count": 10,
   "id": "5e620542",
   "metadata": {
    "ExecuteTime": {
     "end_time": "2022-12-22T04:09:32.100310Z",
     "start_time": "2022-12-22T04:09:32.084424Z"
    }
   },
   "outputs": [
    {
     "data": {
      "text/plain": [
       "Index(['시도별', '합계', '합계.1', '합계.2', '지체', '지체.1', '지체.2', '시각', '시각.1', '시각.2',\n",
       "       '청각', '청각.1', '청각.2', '언어', '언어.1', '언어.2', '지적', '지적.1', '지적.2', '뇌병변',\n",
       "       '뇌병변.1', '뇌병변.2', '자폐성', '자폐성.1', '자폐성.2', '정신', '정신.1', '정신.2', '신장',\n",
       "       '신장.1', '신장.2', '심장', '심장.1', '심장.2', '호흡기', '호흡기.1', '호흡기.2', '간',\n",
       "       '간.1', '간.2', '안면', '안면.1', '안면.2', '장루ㆍ요루', '장루ㆍ요루.1', '장루ㆍ요루.2',\n",
       "       '뇌전증', '뇌전증.1', '뇌전증.2'],\n",
       "      dtype='object')"
      ]
     },
     "execution_count": 10,
     "metadata": {},
     "output_type": "execute_result"
    }
   ],
   "source": [
    "disability.columns"
   ]
  },
  {
   "cell_type": "code",
   "execution_count": 11,
   "id": "6a1c43e1",
   "metadata": {
    "ExecuteTime": {
     "end_time": "2022-12-22T04:09:34.027439Z",
     "start_time": "2022-12-22T04:09:33.998357Z"
    }
   },
   "outputs": [
    {
     "data": {
      "text/html": [
       "<div>\n",
       "<style scoped>\n",
       "    .dataframe tbody tr th:only-of-type {\n",
       "        vertical-align: middle;\n",
       "    }\n",
       "\n",
       "    .dataframe tbody tr th {\n",
       "        vertical-align: top;\n",
       "    }\n",
       "\n",
       "    .dataframe thead th {\n",
       "        text-align: right;\n",
       "    }\n",
       "</style>\n",
       "<table border=\"1\" class=\"dataframe\">\n",
       "  <thead>\n",
       "    <tr style=\"text-align: right;\">\n",
       "      <th></th>\n",
       "      <th>시도별</th>\n",
       "      <th>심장</th>\n",
       "      <th>심장.1</th>\n",
       "      <th>심장.2</th>\n",
       "    </tr>\n",
       "  </thead>\n",
       "  <tbody>\n",
       "    <tr>\n",
       "      <th>0</th>\n",
       "      <td>시도별</td>\n",
       "      <td>계</td>\n",
       "      <td>남자</td>\n",
       "      <td>여자</td>\n",
       "    </tr>\n",
       "    <tr>\n",
       "      <th>1</th>\n",
       "      <td>전국</td>\n",
       "      <td>5166</td>\n",
       "      <td>3340</td>\n",
       "      <td>1826</td>\n",
       "    </tr>\n",
       "    <tr>\n",
       "      <th>2</th>\n",
       "      <td>서울특별시</td>\n",
       "      <td>1008</td>\n",
       "      <td>654</td>\n",
       "      <td>354</td>\n",
       "    </tr>\n",
       "    <tr>\n",
       "      <th>3</th>\n",
       "      <td>부산광역시</td>\n",
       "      <td>455</td>\n",
       "      <td>301</td>\n",
       "      <td>154</td>\n",
       "    </tr>\n",
       "    <tr>\n",
       "      <th>4</th>\n",
       "      <td>대구광역시</td>\n",
       "      <td>239</td>\n",
       "      <td>154</td>\n",
       "      <td>85</td>\n",
       "    </tr>\n",
       "    <tr>\n",
       "      <th>5</th>\n",
       "      <td>인천광역시</td>\n",
       "      <td>262</td>\n",
       "      <td>161</td>\n",
       "      <td>101</td>\n",
       "    </tr>\n",
       "    <tr>\n",
       "      <th>6</th>\n",
       "      <td>광주광역시</td>\n",
       "      <td>140</td>\n",
       "      <td>100</td>\n",
       "      <td>40</td>\n",
       "    </tr>\n",
       "    <tr>\n",
       "      <th>7</th>\n",
       "      <td>대전광역시</td>\n",
       "      <td>111</td>\n",
       "      <td>67</td>\n",
       "      <td>44</td>\n",
       "    </tr>\n",
       "    <tr>\n",
       "      <th>8</th>\n",
       "      <td>울산광역시</td>\n",
       "      <td>174</td>\n",
       "      <td>105</td>\n",
       "      <td>69</td>\n",
       "    </tr>\n",
       "    <tr>\n",
       "      <th>9</th>\n",
       "      <td>세종특별자치시</td>\n",
       "      <td>23</td>\n",
       "      <td>16</td>\n",
       "      <td>7</td>\n",
       "    </tr>\n",
       "    <tr>\n",
       "      <th>10</th>\n",
       "      <td>경기도</td>\n",
       "      <td>1295</td>\n",
       "      <td>847</td>\n",
       "      <td>448</td>\n",
       "    </tr>\n",
       "    <tr>\n",
       "      <th>11</th>\n",
       "      <td>강원도</td>\n",
       "      <td>121</td>\n",
       "      <td>81</td>\n",
       "      <td>40</td>\n",
       "    </tr>\n",
       "    <tr>\n",
       "      <th>12</th>\n",
       "      <td>충청북도</td>\n",
       "      <td>143</td>\n",
       "      <td>91</td>\n",
       "      <td>52</td>\n",
       "    </tr>\n",
       "    <tr>\n",
       "      <th>13</th>\n",
       "      <td>충청남도</td>\n",
       "      <td>202</td>\n",
       "      <td>120</td>\n",
       "      <td>82</td>\n",
       "    </tr>\n",
       "    <tr>\n",
       "      <th>14</th>\n",
       "      <td>전라북도</td>\n",
       "      <td>155</td>\n",
       "      <td>102</td>\n",
       "      <td>53</td>\n",
       "    </tr>\n",
       "    <tr>\n",
       "      <th>15</th>\n",
       "      <td>전라남도</td>\n",
       "      <td>184</td>\n",
       "      <td>120</td>\n",
       "      <td>64</td>\n",
       "    </tr>\n",
       "    <tr>\n",
       "      <th>16</th>\n",
       "      <td>경상북도</td>\n",
       "      <td>311</td>\n",
       "      <td>202</td>\n",
       "      <td>109</td>\n",
       "    </tr>\n",
       "    <tr>\n",
       "      <th>17</th>\n",
       "      <td>경상남도</td>\n",
       "      <td>268</td>\n",
       "      <td>164</td>\n",
       "      <td>104</td>\n",
       "    </tr>\n",
       "    <tr>\n",
       "      <th>18</th>\n",
       "      <td>제주특별자치도</td>\n",
       "      <td>75</td>\n",
       "      <td>55</td>\n",
       "      <td>20</td>\n",
       "    </tr>\n",
       "  </tbody>\n",
       "</table>\n",
       "</div>"
      ],
      "text/plain": [
       "        시도별    심장  심장.1  심장.2\n",
       "0       시도별     계    남자    여자\n",
       "1        전국  5166  3340  1826\n",
       "2     서울특별시  1008   654   354\n",
       "3     부산광역시   455   301   154\n",
       "4     대구광역시   239   154    85\n",
       "5     인천광역시   262   161   101\n",
       "6     광주광역시   140   100    40\n",
       "7     대전광역시   111    67    44\n",
       "8     울산광역시   174   105    69\n",
       "9   세종특별자치시    23    16     7\n",
       "10      경기도  1295   847   448\n",
       "11      강원도   121    81    40\n",
       "12     충청북도   143    91    52\n",
       "13     충청남도   202   120    82\n",
       "14     전라북도   155   102    53\n",
       "15     전라남도   184   120    64\n",
       "16     경상북도   311   202   109\n",
       "17     경상남도   268   164   104\n",
       "18  제주특별자치도    75    55    20"
      ]
     },
     "execution_count": 11,
     "metadata": {},
     "output_type": "execute_result"
    }
   ],
   "source": [
    "disability[[\"시도별\", \"심장\", \"심장.1\", \"심장.2\"]]"
   ]
  },
  {
   "cell_type": "code",
   "execution_count": 12,
   "id": "6616ed5e",
   "metadata": {
    "ExecuteTime": {
     "end_time": "2022-12-22T04:09:37.565086Z",
     "start_time": "2022-12-22T04:09:37.556136Z"
    }
   },
   "outputs": [
    {
     "data": {
      "text/html": [
       "<div>\n",
       "<style scoped>\n",
       "    .dataframe tbody tr th:only-of-type {\n",
       "        vertical-align: middle;\n",
       "    }\n",
       "\n",
       "    .dataframe tbody tr th {\n",
       "        vertical-align: top;\n",
       "    }\n",
       "\n",
       "    .dataframe thead th {\n",
       "        text-align: right;\n",
       "    }\n",
       "</style>\n",
       "<table border=\"1\" class=\"dataframe\">\n",
       "  <thead>\n",
       "    <tr style=\"text-align: right;\">\n",
       "      <th></th>\n",
       "      <th>시도별</th>\n",
       "      <th>심장</th>\n",
       "    </tr>\n",
       "  </thead>\n",
       "  <tbody>\n",
       "    <tr>\n",
       "      <th>0</th>\n",
       "      <td>시도별</td>\n",
       "      <td>계</td>\n",
       "    </tr>\n",
       "    <tr>\n",
       "      <th>1</th>\n",
       "      <td>전국</td>\n",
       "      <td>5166</td>\n",
       "    </tr>\n",
       "    <tr>\n",
       "      <th>2</th>\n",
       "      <td>서울특별시</td>\n",
       "      <td>1008</td>\n",
       "    </tr>\n",
       "    <tr>\n",
       "      <th>3</th>\n",
       "      <td>부산광역시</td>\n",
       "      <td>455</td>\n",
       "    </tr>\n",
       "    <tr>\n",
       "      <th>4</th>\n",
       "      <td>대구광역시</td>\n",
       "      <td>239</td>\n",
       "    </tr>\n",
       "  </tbody>\n",
       "</table>\n",
       "</div>"
      ],
      "text/plain": [
       "     시도별    심장\n",
       "0    시도별     계\n",
       "1     전국  5166\n",
       "2  서울특별시  1008\n",
       "3  부산광역시   455\n",
       "4  대구광역시   239"
      ]
     },
     "execution_count": 12,
     "metadata": {},
     "output_type": "execute_result"
    }
   ],
   "source": [
    "disability_temp = disability[[\"시도별\", \"심장\"]]\n",
    "disability_temp.head()"
   ]
  },
  {
   "cell_type": "markdown",
   "id": "b25a49aa",
   "metadata": {},
   "source": [
    "## 인구"
   ]
  },
  {
   "cell_type": "code",
   "execution_count": 15,
   "id": "0e5212e4",
   "metadata": {
    "ExecuteTime": {
     "end_time": "2022-12-22T04:10:53.476208Z",
     "start_time": "2022-12-22T04:10:53.457260Z"
    }
   },
   "outputs": [],
   "source": [
    "population = pd.read_csv(\"./rawdata/주민등록인구_시도_시_군_구__20221222130517.csv\", encoding=\"cp949\", skiprows=1)"
   ]
  },
  {
   "cell_type": "code",
   "execution_count": 16,
   "id": "c3132a42",
   "metadata": {
    "ExecuteTime": {
     "end_time": "2022-12-22T04:10:54.179584Z",
     "start_time": "2022-12-22T04:10:54.171327Z"
    }
   },
   "outputs": [
    {
     "data": {
      "text/html": [
       "<div>\n",
       "<style scoped>\n",
       "    .dataframe tbody tr th:only-of-type {\n",
       "        vertical-align: middle;\n",
       "    }\n",
       "\n",
       "    .dataframe tbody tr th {\n",
       "        vertical-align: top;\n",
       "    }\n",
       "\n",
       "    .dataframe thead th {\n",
       "        text-align: right;\n",
       "    }\n",
       "</style>\n",
       "<table border=\"1\" class=\"dataframe\">\n",
       "  <thead>\n",
       "    <tr style=\"text-align: right;\">\n",
       "      <th></th>\n",
       "      <th>행정구역별</th>\n",
       "      <th>계 (명)</th>\n",
       "      <th>남 (명)</th>\n",
       "      <th>여 (명)</th>\n",
       "    </tr>\n",
       "  </thead>\n",
       "  <tbody>\n",
       "    <tr>\n",
       "      <th>0</th>\n",
       "      <td>전국</td>\n",
       "      <td>51638809</td>\n",
       "      <td>25746684</td>\n",
       "      <td>25892125</td>\n",
       "    </tr>\n",
       "    <tr>\n",
       "      <th>1</th>\n",
       "      <td>서울특별시</td>\n",
       "      <td>9509458</td>\n",
       "      <td>4618040</td>\n",
       "      <td>4891418</td>\n",
       "    </tr>\n",
       "    <tr>\n",
       "      <th>2</th>\n",
       "      <td>부산광역시</td>\n",
       "      <td>3350380</td>\n",
       "      <td>1639044</td>\n",
       "      <td>1711336</td>\n",
       "    </tr>\n",
       "    <tr>\n",
       "      <th>3</th>\n",
       "      <td>대구광역시</td>\n",
       "      <td>2385412</td>\n",
       "      <td>1175632</td>\n",
       "      <td>1209780</td>\n",
       "    </tr>\n",
       "    <tr>\n",
       "      <th>4</th>\n",
       "      <td>인천광역시</td>\n",
       "      <td>2948375</td>\n",
       "      <td>1476373</td>\n",
       "      <td>1472002</td>\n",
       "    </tr>\n",
       "  </tbody>\n",
       "</table>\n",
       "</div>"
      ],
      "text/plain": [
       "   행정구역별     계 (명)     남 (명)     여 (명)\n",
       "0     전국  51638809  25746684  25892125\n",
       "1  서울특별시   9509458   4618040   4891418\n",
       "2  부산광역시   3350380   1639044   1711336\n",
       "3  대구광역시   2385412   1175632   1209780\n",
       "4  인천광역시   2948375   1476373   1472002"
      ]
     },
     "execution_count": 16,
     "metadata": {},
     "output_type": "execute_result"
    }
   ],
   "source": [
    "population.head()"
   ]
  },
  {
   "cell_type": "code",
   "execution_count": 17,
   "id": "bb35ebec",
   "metadata": {
    "ExecuteTime": {
     "end_time": "2022-12-22T04:11:07.411698Z",
     "start_time": "2022-12-22T04:11:07.392748Z"
    }
   },
   "outputs": [
    {
     "data": {
      "text/plain": [
       "array(['전국', '서울특별시', '부산광역시', '대구광역시', '인천광역시', '광주광역시', '대전광역시',\n",
       "       '울산광역시', '세종특별자치시', '경기도', '강원도', '충청북도', '충청남도', '전라북도', '전라남도',\n",
       "       '경상북도', '경상남도', '제주특별자치도'], dtype=object)"
      ]
     },
     "execution_count": 17,
     "metadata": {},
     "output_type": "execute_result"
    }
   ],
   "source": [
    "population.행정구역별.unique()"
   ]
  },
  {
   "cell_type": "code",
   "execution_count": 19,
   "id": "4e63c369",
   "metadata": {
    "ExecuteTime": {
     "end_time": "2022-12-22T04:12:09.225833Z",
     "start_time": "2022-12-22T04:12:09.209853Z"
    }
   },
   "outputs": [
    {
     "data": {
      "text/html": [
       "<div>\n",
       "<style scoped>\n",
       "    .dataframe tbody tr th:only-of-type {\n",
       "        vertical-align: middle;\n",
       "    }\n",
       "\n",
       "    .dataframe tbody tr th {\n",
       "        vertical-align: top;\n",
       "    }\n",
       "\n",
       "    .dataframe thead th {\n",
       "        text-align: right;\n",
       "    }\n",
       "</style>\n",
       "<table border=\"1\" class=\"dataframe\">\n",
       "  <thead>\n",
       "    <tr style=\"text-align: right;\">\n",
       "      <th></th>\n",
       "      <th>행정구역별</th>\n",
       "      <th>계 (명)</th>\n",
       "    </tr>\n",
       "  </thead>\n",
       "  <tbody>\n",
       "    <tr>\n",
       "      <th>0</th>\n",
       "      <td>전국</td>\n",
       "      <td>51638809</td>\n",
       "    </tr>\n",
       "    <tr>\n",
       "      <th>1</th>\n",
       "      <td>서울특별시</td>\n",
       "      <td>9509458</td>\n",
       "    </tr>\n",
       "    <tr>\n",
       "      <th>2</th>\n",
       "      <td>부산광역시</td>\n",
       "      <td>3350380</td>\n",
       "    </tr>\n",
       "    <tr>\n",
       "      <th>3</th>\n",
       "      <td>대구광역시</td>\n",
       "      <td>2385412</td>\n",
       "    </tr>\n",
       "    <tr>\n",
       "      <th>4</th>\n",
       "      <td>인천광역시</td>\n",
       "      <td>2948375</td>\n",
       "    </tr>\n",
       "  </tbody>\n",
       "</table>\n",
       "</div>"
      ],
      "text/plain": [
       "   행정구역별     계 (명)\n",
       "0     전국  51638809\n",
       "1  서울특별시   9509458\n",
       "2  부산광역시   3350380\n",
       "3  대구광역시   2385412\n",
       "4  인천광역시   2948375"
      ]
     },
     "execution_count": 19,
     "metadata": {},
     "output_type": "execute_result"
    }
   ],
   "source": [
    "population_temp = population[[\"행정구역별\", \"계 (명)\"]]\n",
    "population_temp.head()"
   ]
  },
  {
   "cell_type": "markdown",
   "id": "81461589",
   "metadata": {},
   "source": [
    "## 결합"
   ]
  },
  {
   "cell_type": "code",
   "execution_count": 28,
   "id": "d6eaee59",
   "metadata": {
    "ExecuteTime": {
     "end_time": "2022-12-22T04:13:52.573631Z",
     "start_time": "2022-12-22T04:13:52.558632Z"
    }
   },
   "outputs": [],
   "source": [
    "data = pd.merge(left=death_temp, right=disability_temp, how=\"outer\", on=\"시도별\")"
   ]
  },
  {
   "cell_type": "code",
   "execution_count": 29,
   "id": "c3611bb5",
   "metadata": {
    "ExecuteTime": {
     "end_time": "2022-12-22T04:13:52.877149Z",
     "start_time": "2022-12-22T04:13:52.858202Z"
    }
   },
   "outputs": [],
   "source": [
    "data = pd.merge(left=data, right=population_temp, how=\"outer\", left_on=\"시도별\", right_on=\"행정구역별\")"
   ]
  },
  {
   "cell_type": "code",
   "execution_count": 30,
   "id": "827d7e4a",
   "metadata": {
    "ExecuteTime": {
     "end_time": "2022-12-22T04:13:54.136478Z",
     "start_time": "2022-12-22T04:13:54.111544Z"
    }
   },
   "outputs": [
    {
     "data": {
      "text/html": [
       "<div>\n",
       "<style scoped>\n",
       "    .dataframe tbody tr th:only-of-type {\n",
       "        vertical-align: middle;\n",
       "    }\n",
       "\n",
       "    .dataframe tbody tr th {\n",
       "        vertical-align: top;\n",
       "    }\n",
       "\n",
       "    .dataframe thead th {\n",
       "        text-align: right;\n",
       "    }\n",
       "</style>\n",
       "<table border=\"1\" class=\"dataframe\">\n",
       "  <thead>\n",
       "    <tr style=\"text-align: right;\">\n",
       "      <th></th>\n",
       "      <th>시도별</th>\n",
       "      <th>2021</th>\n",
       "      <th>심장</th>\n",
       "      <th>행정구역별</th>\n",
       "      <th>계 (명)</th>\n",
       "    </tr>\n",
       "  </thead>\n",
       "  <tbody>\n",
       "    <tr>\n",
       "      <th>0</th>\n",
       "      <td>강원도</td>\n",
       "      <td>4900.0</td>\n",
       "      <td>121</td>\n",
       "      <td>강원도</td>\n",
       "      <td>1538492.0</td>\n",
       "    </tr>\n",
       "    <tr>\n",
       "      <th>1</th>\n",
       "      <td>경기도</td>\n",
       "      <td>25708.0</td>\n",
       "      <td>1295</td>\n",
       "      <td>경기도</td>\n",
       "      <td>13565450.0</td>\n",
       "    </tr>\n",
       "    <tr>\n",
       "      <th>2</th>\n",
       "      <td>경상남도</td>\n",
       "      <td>10312.0</td>\n",
       "      <td>268</td>\n",
       "      <td>경상남도</td>\n",
       "      <td>3314183.0</td>\n",
       "    </tr>\n",
       "    <tr>\n",
       "      <th>3</th>\n",
       "      <td>경상북도</td>\n",
       "      <td>9880.0</td>\n",
       "      <td>311</td>\n",
       "      <td>경상북도</td>\n",
       "      <td>2626609.0</td>\n",
       "    </tr>\n",
       "    <tr>\n",
       "      <th>4</th>\n",
       "      <td>광주광역시</td>\n",
       "      <td>2712.0</td>\n",
       "      <td>140</td>\n",
       "      <td>광주광역시</td>\n",
       "      <td>1441611.0</td>\n",
       "    </tr>\n",
       "    <tr>\n",
       "      <th>5</th>\n",
       "      <td>대구광역시</td>\n",
       "      <td>6008.0</td>\n",
       "      <td>239</td>\n",
       "      <td>대구광역시</td>\n",
       "      <td>2385412.0</td>\n",
       "    </tr>\n",
       "    <tr>\n",
       "      <th>6</th>\n",
       "      <td>대전광역시</td>\n",
       "      <td>2266.0</td>\n",
       "      <td>111</td>\n",
       "      <td>대전광역시</td>\n",
       "      <td>1452251.0</td>\n",
       "    </tr>\n",
       "    <tr>\n",
       "      <th>7</th>\n",
       "      <td>부산광역시</td>\n",
       "      <td>10824.0</td>\n",
       "      <td>455</td>\n",
       "      <td>부산광역시</td>\n",
       "      <td>3350380.0</td>\n",
       "    </tr>\n",
       "    <tr>\n",
       "      <th>8</th>\n",
       "      <td>서울특별시</td>\n",
       "      <td>18700.0</td>\n",
       "      <td>1008</td>\n",
       "      <td>서울특별시</td>\n",
       "      <td>9509458.0</td>\n",
       "    </tr>\n",
       "    <tr>\n",
       "      <th>9</th>\n",
       "      <td>세종특별자치시</td>\n",
       "      <td>490.0</td>\n",
       "      <td>23</td>\n",
       "      <td>세종특별자치시</td>\n",
       "      <td>371895.0</td>\n",
       "    </tr>\n",
       "    <tr>\n",
       "      <th>10</th>\n",
       "      <td>울산광역시</td>\n",
       "      <td>2634.0</td>\n",
       "      <td>174</td>\n",
       "      <td>울산광역시</td>\n",
       "      <td>1121592.0</td>\n",
       "    </tr>\n",
       "    <tr>\n",
       "      <th>11</th>\n",
       "      <td>인천광역시</td>\n",
       "      <td>6034.0</td>\n",
       "      <td>262</td>\n",
       "      <td>인천광역시</td>\n",
       "      <td>2948375.0</td>\n",
       "    </tr>\n",
       "    <tr>\n",
       "      <th>12</th>\n",
       "      <td>전국</td>\n",
       "      <td>124740.0</td>\n",
       "      <td>5166</td>\n",
       "      <td>전국</td>\n",
       "      <td>51638809.0</td>\n",
       "    </tr>\n",
       "    <tr>\n",
       "      <th>13</th>\n",
       "      <td>전라남도</td>\n",
       "      <td>6864.0</td>\n",
       "      <td>184</td>\n",
       "      <td>전라남도</td>\n",
       "      <td>1832803.0</td>\n",
       "    </tr>\n",
       "    <tr>\n",
       "      <th>14</th>\n",
       "      <td>전라북도</td>\n",
       "      <td>5670.0</td>\n",
       "      <td>155</td>\n",
       "      <td>전라북도</td>\n",
       "      <td>1786855.0</td>\n",
       "    </tr>\n",
       "    <tr>\n",
       "      <th>15</th>\n",
       "      <td>제주특별자치도</td>\n",
       "      <td>1520.0</td>\n",
       "      <td>75</td>\n",
       "      <td>제주특별자치도</td>\n",
       "      <td>676759.0</td>\n",
       "    </tr>\n",
       "    <tr>\n",
       "      <th>16</th>\n",
       "      <td>충청남도</td>\n",
       "      <td>5864.0</td>\n",
       "      <td>202</td>\n",
       "      <td>충청남도</td>\n",
       "      <td>2119257.0</td>\n",
       "    </tr>\n",
       "    <tr>\n",
       "      <th>17</th>\n",
       "      <td>충청북도</td>\n",
       "      <td>4354.0</td>\n",
       "      <td>143</td>\n",
       "      <td>충청북도</td>\n",
       "      <td>1597427.0</td>\n",
       "    </tr>\n",
       "    <tr>\n",
       "      <th>18</th>\n",
       "      <td>시도별</td>\n",
       "      <td>NaN</td>\n",
       "      <td>계</td>\n",
       "      <td>NaN</td>\n",
       "      <td>NaN</td>\n",
       "    </tr>\n",
       "  </tbody>\n",
       "</table>\n",
       "</div>"
      ],
      "text/plain": [
       "        시도별      2021    심장    행정구역별       계 (명)\n",
       "0       강원도    4900.0   121      강원도   1538492.0\n",
       "1       경기도   25708.0  1295      경기도  13565450.0\n",
       "2      경상남도   10312.0   268     경상남도   3314183.0\n",
       "3      경상북도    9880.0   311     경상북도   2626609.0\n",
       "4     광주광역시    2712.0   140    광주광역시   1441611.0\n",
       "5     대구광역시    6008.0   239    대구광역시   2385412.0\n",
       "6     대전광역시    2266.0   111    대전광역시   1452251.0\n",
       "7     부산광역시   10824.0   455    부산광역시   3350380.0\n",
       "8     서울특별시   18700.0  1008    서울특별시   9509458.0\n",
       "9   세종특별자치시     490.0    23  세종특별자치시    371895.0\n",
       "10    울산광역시    2634.0   174    울산광역시   1121592.0\n",
       "11    인천광역시    6034.0   262    인천광역시   2948375.0\n",
       "12       전국  124740.0  5166       전국  51638809.0\n",
       "13     전라남도    6864.0   184     전라남도   1832803.0\n",
       "14     전라북도    5670.0   155     전라북도   1786855.0\n",
       "15  제주특별자치도    1520.0    75  제주특별자치도    676759.0\n",
       "16     충청남도    5864.0   202     충청남도   2119257.0\n",
       "17     충청북도    4354.0   143     충청북도   1597427.0\n",
       "18      시도별       NaN     계      NaN         NaN"
      ]
     },
     "execution_count": 30,
     "metadata": {},
     "output_type": "execute_result"
    }
   ],
   "source": [
    "data"
   ]
  },
  {
   "cell_type": "code",
   "execution_count": 33,
   "id": "98dea7ee",
   "metadata": {
    "ExecuteTime": {
     "end_time": "2022-12-22T04:14:38.843247Z",
     "start_time": "2022-12-22T04:14:38.835153Z"
    }
   },
   "outputs": [
    {
     "data": {
      "text/plain": [
       "0      True\n",
       "1      True\n",
       "2      True\n",
       "3      True\n",
       "4      True\n",
       "5      True\n",
       "6      True\n",
       "7      True\n",
       "8      True\n",
       "9      True\n",
       "10     True\n",
       "11     True\n",
       "12     True\n",
       "13     True\n",
       "14     True\n",
       "15     True\n",
       "16     True\n",
       "17     True\n",
       "18    False\n",
       "dtype: bool"
      ]
     },
     "execution_count": 33,
     "metadata": {},
     "output_type": "execute_result"
    }
   ],
   "source": [
    "data.행정구역별 == data.시도별"
   ]
  },
  {
   "cell_type": "code",
   "execution_count": 16,
   "id": "2a79e3c1",
   "metadata": {
    "ExecuteTime": {
     "end_time": "2022-12-21T08:23:08.568979Z",
     "start_time": "2022-12-21T08:23:08.557009Z"
    }
   },
   "outputs": [
    {
     "data": {
      "text/plain": [
       "array(['강원도', '경기도', '경상남도', '경상북도', '광주광역시', '대구광역시', '대전광역시', '부산광역시',\n",
       "       '서울특별시', '세종특별자치시', '울산광역시', '인천광역시', '전국', '전라남도', '전라북도',\n",
       "       '제주특별자치도', '충청남도', '충청북도', '시도별'], dtype=object)"
      ]
     },
     "execution_count": 16,
     "metadata": {},
     "output_type": "execute_result"
    }
   ],
   "source": [
    "data.시도별.unique()"
   ]
  },
  {
   "cell_type": "code",
   "execution_count": 34,
   "id": "d857a753",
   "metadata": {
    "ExecuteTime": {
     "end_time": "2022-12-22T04:14:57.853874Z",
     "start_time": "2022-12-22T04:14:57.835923Z"
    }
   },
   "outputs": [],
   "source": [
    "data.drop([12, 18], axis=0, inplace=True)"
   ]
  },
  {
   "cell_type": "code",
   "execution_count": 36,
   "id": "8a13f67f",
   "metadata": {
    "ExecuteTime": {
     "end_time": "2022-12-22T04:15:22.414162Z",
     "start_time": "2022-12-22T04:15:22.395239Z"
    }
   },
   "outputs": [],
   "source": [
    "data.drop([\"행정구역별\"], axis=1, inplace=True)"
   ]
  },
  {
   "cell_type": "code",
   "execution_count": 37,
   "id": "7d282911",
   "metadata": {
    "ExecuteTime": {
     "end_time": "2022-12-22T04:15:23.114180Z",
     "start_time": "2022-12-22T04:15:23.098189Z"
    }
   },
   "outputs": [
    {
     "data": {
      "text/html": [
       "<div>\n",
       "<style scoped>\n",
       "    .dataframe tbody tr th:only-of-type {\n",
       "        vertical-align: middle;\n",
       "    }\n",
       "\n",
       "    .dataframe tbody tr th {\n",
       "        vertical-align: top;\n",
       "    }\n",
       "\n",
       "    .dataframe thead th {\n",
       "        text-align: right;\n",
       "    }\n",
       "</style>\n",
       "<table border=\"1\" class=\"dataframe\">\n",
       "  <thead>\n",
       "    <tr style=\"text-align: right;\">\n",
       "      <th></th>\n",
       "      <th>시도별</th>\n",
       "      <th>2021</th>\n",
       "      <th>심장</th>\n",
       "      <th>계 (명)</th>\n",
       "    </tr>\n",
       "  </thead>\n",
       "  <tbody>\n",
       "    <tr>\n",
       "      <th>0</th>\n",
       "      <td>강원도</td>\n",
       "      <td>4900.0</td>\n",
       "      <td>121</td>\n",
       "      <td>1538492.0</td>\n",
       "    </tr>\n",
       "    <tr>\n",
       "      <th>1</th>\n",
       "      <td>경기도</td>\n",
       "      <td>25708.0</td>\n",
       "      <td>1295</td>\n",
       "      <td>13565450.0</td>\n",
       "    </tr>\n",
       "    <tr>\n",
       "      <th>2</th>\n",
       "      <td>경상남도</td>\n",
       "      <td>10312.0</td>\n",
       "      <td>268</td>\n",
       "      <td>3314183.0</td>\n",
       "    </tr>\n",
       "    <tr>\n",
       "      <th>3</th>\n",
       "      <td>경상북도</td>\n",
       "      <td>9880.0</td>\n",
       "      <td>311</td>\n",
       "      <td>2626609.0</td>\n",
       "    </tr>\n",
       "    <tr>\n",
       "      <th>4</th>\n",
       "      <td>광주광역시</td>\n",
       "      <td>2712.0</td>\n",
       "      <td>140</td>\n",
       "      <td>1441611.0</td>\n",
       "    </tr>\n",
       "    <tr>\n",
       "      <th>5</th>\n",
       "      <td>대구광역시</td>\n",
       "      <td>6008.0</td>\n",
       "      <td>239</td>\n",
       "      <td>2385412.0</td>\n",
       "    </tr>\n",
       "    <tr>\n",
       "      <th>6</th>\n",
       "      <td>대전광역시</td>\n",
       "      <td>2266.0</td>\n",
       "      <td>111</td>\n",
       "      <td>1452251.0</td>\n",
       "    </tr>\n",
       "    <tr>\n",
       "      <th>7</th>\n",
       "      <td>부산광역시</td>\n",
       "      <td>10824.0</td>\n",
       "      <td>455</td>\n",
       "      <td>3350380.0</td>\n",
       "    </tr>\n",
       "    <tr>\n",
       "      <th>8</th>\n",
       "      <td>서울특별시</td>\n",
       "      <td>18700.0</td>\n",
       "      <td>1008</td>\n",
       "      <td>9509458.0</td>\n",
       "    </tr>\n",
       "    <tr>\n",
       "      <th>9</th>\n",
       "      <td>세종특별자치시</td>\n",
       "      <td>490.0</td>\n",
       "      <td>23</td>\n",
       "      <td>371895.0</td>\n",
       "    </tr>\n",
       "    <tr>\n",
       "      <th>10</th>\n",
       "      <td>울산광역시</td>\n",
       "      <td>2634.0</td>\n",
       "      <td>174</td>\n",
       "      <td>1121592.0</td>\n",
       "    </tr>\n",
       "    <tr>\n",
       "      <th>11</th>\n",
       "      <td>인천광역시</td>\n",
       "      <td>6034.0</td>\n",
       "      <td>262</td>\n",
       "      <td>2948375.0</td>\n",
       "    </tr>\n",
       "    <tr>\n",
       "      <th>13</th>\n",
       "      <td>전라남도</td>\n",
       "      <td>6864.0</td>\n",
       "      <td>184</td>\n",
       "      <td>1832803.0</td>\n",
       "    </tr>\n",
       "    <tr>\n",
       "      <th>14</th>\n",
       "      <td>전라북도</td>\n",
       "      <td>5670.0</td>\n",
       "      <td>155</td>\n",
       "      <td>1786855.0</td>\n",
       "    </tr>\n",
       "    <tr>\n",
       "      <th>15</th>\n",
       "      <td>제주특별자치도</td>\n",
       "      <td>1520.0</td>\n",
       "      <td>75</td>\n",
       "      <td>676759.0</td>\n",
       "    </tr>\n",
       "    <tr>\n",
       "      <th>16</th>\n",
       "      <td>충청남도</td>\n",
       "      <td>5864.0</td>\n",
       "      <td>202</td>\n",
       "      <td>2119257.0</td>\n",
       "    </tr>\n",
       "    <tr>\n",
       "      <th>17</th>\n",
       "      <td>충청북도</td>\n",
       "      <td>4354.0</td>\n",
       "      <td>143</td>\n",
       "      <td>1597427.0</td>\n",
       "    </tr>\n",
       "  </tbody>\n",
       "</table>\n",
       "</div>"
      ],
      "text/plain": [
       "        시도별     2021    심장       계 (명)\n",
       "0       강원도   4900.0   121   1538492.0\n",
       "1       경기도  25708.0  1295  13565450.0\n",
       "2      경상남도  10312.0   268   3314183.0\n",
       "3      경상북도   9880.0   311   2626609.0\n",
       "4     광주광역시   2712.0   140   1441611.0\n",
       "5     대구광역시   6008.0   239   2385412.0\n",
       "6     대전광역시   2266.0   111   1452251.0\n",
       "7     부산광역시  10824.0   455   3350380.0\n",
       "8     서울특별시  18700.0  1008   9509458.0\n",
       "9   세종특별자치시    490.0    23    371895.0\n",
       "10    울산광역시   2634.0   174   1121592.0\n",
       "11    인천광역시   6034.0   262   2948375.0\n",
       "13     전라남도   6864.0   184   1832803.0\n",
       "14     전라북도   5670.0   155   1786855.0\n",
       "15  제주특별자치도   1520.0    75    676759.0\n",
       "16     충청남도   5864.0   202   2119257.0\n",
       "17     충청북도   4354.0   143   1597427.0"
      ]
     },
     "execution_count": 37,
     "metadata": {},
     "output_type": "execute_result"
    }
   ],
   "source": [
    "data"
   ]
  },
  {
   "cell_type": "code",
   "execution_count": 42,
   "id": "c4f41b8f",
   "metadata": {
    "ExecuteTime": {
     "end_time": "2022-12-22T04:33:04.145882Z",
     "start_time": "2022-12-22T04:33:04.131924Z"
    }
   },
   "outputs": [],
   "source": [
    "data.columns = [\"지역\", \"심장질환사망자\", \"심장장애\", \"주민등록인구\"]"
   ]
  },
  {
   "cell_type": "code",
   "execution_count": 43,
   "id": "97a359a7",
   "metadata": {
    "ExecuteTime": {
     "end_time": "2022-12-22T04:33:04.555056Z",
     "start_time": "2022-12-22T04:33:04.537105Z"
    }
   },
   "outputs": [
    {
     "data": {
      "text/html": [
       "<div>\n",
       "<style scoped>\n",
       "    .dataframe tbody tr th:only-of-type {\n",
       "        vertical-align: middle;\n",
       "    }\n",
       "\n",
       "    .dataframe tbody tr th {\n",
       "        vertical-align: top;\n",
       "    }\n",
       "\n",
       "    .dataframe thead th {\n",
       "        text-align: right;\n",
       "    }\n",
       "</style>\n",
       "<table border=\"1\" class=\"dataframe\">\n",
       "  <thead>\n",
       "    <tr style=\"text-align: right;\">\n",
       "      <th></th>\n",
       "      <th>지역</th>\n",
       "      <th>심장질환사망자</th>\n",
       "      <th>심장장애</th>\n",
       "      <th>주민등록인구</th>\n",
       "    </tr>\n",
       "  </thead>\n",
       "  <tbody>\n",
       "    <tr>\n",
       "      <th>0</th>\n",
       "      <td>강원도</td>\n",
       "      <td>4900.0</td>\n",
       "      <td>121</td>\n",
       "      <td>1538492.0</td>\n",
       "    </tr>\n",
       "    <tr>\n",
       "      <th>1</th>\n",
       "      <td>경기도</td>\n",
       "      <td>25708.0</td>\n",
       "      <td>1295</td>\n",
       "      <td>13565450.0</td>\n",
       "    </tr>\n",
       "    <tr>\n",
       "      <th>2</th>\n",
       "      <td>경상남도</td>\n",
       "      <td>10312.0</td>\n",
       "      <td>268</td>\n",
       "      <td>3314183.0</td>\n",
       "    </tr>\n",
       "    <tr>\n",
       "      <th>3</th>\n",
       "      <td>경상북도</td>\n",
       "      <td>9880.0</td>\n",
       "      <td>311</td>\n",
       "      <td>2626609.0</td>\n",
       "    </tr>\n",
       "    <tr>\n",
       "      <th>4</th>\n",
       "      <td>광주광역시</td>\n",
       "      <td>2712.0</td>\n",
       "      <td>140</td>\n",
       "      <td>1441611.0</td>\n",
       "    </tr>\n",
       "    <tr>\n",
       "      <th>5</th>\n",
       "      <td>대구광역시</td>\n",
       "      <td>6008.0</td>\n",
       "      <td>239</td>\n",
       "      <td>2385412.0</td>\n",
       "    </tr>\n",
       "    <tr>\n",
       "      <th>6</th>\n",
       "      <td>대전광역시</td>\n",
       "      <td>2266.0</td>\n",
       "      <td>111</td>\n",
       "      <td>1452251.0</td>\n",
       "    </tr>\n",
       "    <tr>\n",
       "      <th>7</th>\n",
       "      <td>부산광역시</td>\n",
       "      <td>10824.0</td>\n",
       "      <td>455</td>\n",
       "      <td>3350380.0</td>\n",
       "    </tr>\n",
       "    <tr>\n",
       "      <th>8</th>\n",
       "      <td>서울특별시</td>\n",
       "      <td>18700.0</td>\n",
       "      <td>1008</td>\n",
       "      <td>9509458.0</td>\n",
       "    </tr>\n",
       "    <tr>\n",
       "      <th>9</th>\n",
       "      <td>세종특별자치시</td>\n",
       "      <td>490.0</td>\n",
       "      <td>23</td>\n",
       "      <td>371895.0</td>\n",
       "    </tr>\n",
       "    <tr>\n",
       "      <th>10</th>\n",
       "      <td>울산광역시</td>\n",
       "      <td>2634.0</td>\n",
       "      <td>174</td>\n",
       "      <td>1121592.0</td>\n",
       "    </tr>\n",
       "    <tr>\n",
       "      <th>11</th>\n",
       "      <td>인천광역시</td>\n",
       "      <td>6034.0</td>\n",
       "      <td>262</td>\n",
       "      <td>2948375.0</td>\n",
       "    </tr>\n",
       "    <tr>\n",
       "      <th>13</th>\n",
       "      <td>전라남도</td>\n",
       "      <td>6864.0</td>\n",
       "      <td>184</td>\n",
       "      <td>1832803.0</td>\n",
       "    </tr>\n",
       "    <tr>\n",
       "      <th>14</th>\n",
       "      <td>전라북도</td>\n",
       "      <td>5670.0</td>\n",
       "      <td>155</td>\n",
       "      <td>1786855.0</td>\n",
       "    </tr>\n",
       "    <tr>\n",
       "      <th>15</th>\n",
       "      <td>제주특별자치도</td>\n",
       "      <td>1520.0</td>\n",
       "      <td>75</td>\n",
       "      <td>676759.0</td>\n",
       "    </tr>\n",
       "    <tr>\n",
       "      <th>16</th>\n",
       "      <td>충청남도</td>\n",
       "      <td>5864.0</td>\n",
       "      <td>202</td>\n",
       "      <td>2119257.0</td>\n",
       "    </tr>\n",
       "    <tr>\n",
       "      <th>17</th>\n",
       "      <td>충청북도</td>\n",
       "      <td>4354.0</td>\n",
       "      <td>143</td>\n",
       "      <td>1597427.0</td>\n",
       "    </tr>\n",
       "  </tbody>\n",
       "</table>\n",
       "</div>"
      ],
      "text/plain": [
       "         지역  심장질환사망자  심장장애      주민등록인구\n",
       "0       강원도   4900.0   121   1538492.0\n",
       "1       경기도  25708.0  1295  13565450.0\n",
       "2      경상남도  10312.0   268   3314183.0\n",
       "3      경상북도   9880.0   311   2626609.0\n",
       "4     광주광역시   2712.0   140   1441611.0\n",
       "5     대구광역시   6008.0   239   2385412.0\n",
       "6     대전광역시   2266.0   111   1452251.0\n",
       "7     부산광역시  10824.0   455   3350380.0\n",
       "8     서울특별시  18700.0  1008   9509458.0\n",
       "9   세종특별자치시    490.0    23    371895.0\n",
       "10    울산광역시   2634.0   174   1121592.0\n",
       "11    인천광역시   6034.0   262   2948375.0\n",
       "13     전라남도   6864.0   184   1832803.0\n",
       "14     전라북도   5670.0   155   1786855.0\n",
       "15  제주특별자치도   1520.0    75    676759.0\n",
       "16     충청남도   5864.0   202   2119257.0\n",
       "17     충청북도   4354.0   143   1597427.0"
      ]
     },
     "execution_count": 43,
     "metadata": {},
     "output_type": "execute_result"
    }
   ],
   "source": [
    "data"
   ]
  },
  {
   "cell_type": "code",
   "execution_count": 44,
   "id": "e4492e10",
   "metadata": {
    "ExecuteTime": {
     "end_time": "2022-12-22T04:33:10.268450Z",
     "start_time": "2022-12-22T04:33:10.251496Z"
    }
   },
   "outputs": [],
   "source": [
    "data.to_csv(\"./temp/지역별 심장질환.csv\", encoding=\"cp949\", index=False)"
   ]
  },
  {
   "cell_type": "code",
   "execution_count": null,
   "id": "7d8823e0",
   "metadata": {},
   "outputs": [],
   "source": []
  }
 ],
 "metadata": {
  "kernelspec": {
   "display_name": "eduvenv",
   "language": "python",
   "name": "eduvenv"
  },
  "language_info": {
   "codemirror_mode": {
    "name": "ipython",
    "version": 3
   },
   "file_extension": ".py",
   "mimetype": "text/x-python",
   "name": "python",
   "nbconvert_exporter": "python",
   "pygments_lexer": "ipython3",
   "version": "3.9.15"
  },
  "varInspector": {
   "cols": {
    "lenName": 16,
    "lenType": 16,
    "lenVar": 40
   },
   "kernels_config": {
    "python": {
     "delete_cmd_postfix": "",
     "delete_cmd_prefix": "del ",
     "library": "var_list.py",
     "varRefreshCmd": "print(var_dic_list())"
    },
    "r": {
     "delete_cmd_postfix": ") ",
     "delete_cmd_prefix": "rm(",
     "library": "var_list.r",
     "varRefreshCmd": "cat(var_dic_list()) "
    }
   },
   "types_to_exclude": [
    "module",
    "function",
    "builtin_function_or_method",
    "instance",
    "_Feature"
   ],
   "window_display": false
  }
 },
 "nbformat": 4,
 "nbformat_minor": 5
}
